{
 "cells": [
  {
   "cell_type": "markdown",
   "metadata": {},
   "source": [
    "<h2>SAXS data processing</h2>\n",
    "Template notebook by Guillaume (gfreychet@bnl.gov, not active), development and analysis by Patryk (pwasik@bnl.gov)"
   ]
  },
  {
   "cell_type": "code",
   "execution_count": 1,
   "metadata": {},
   "outputs": [
    {
     "name": "stderr",
     "output_type": "stream",
     "text": [
      "/Users/ianbillinge/micromamba/envs/smi_py311/lib/python3.11/site-packages/h5py/__init__.py:36: UserWarning: h5py is running against HDF5 1.14.3 when it was built against 1.14.2, this may cause problems\n",
      "  _warn((\"h5py is running against HDF5 {0} when it was built against {1}, \"\n",
      "WARNING:silx.opencl.common:The module pyOpenCL has been imported but can't be used here\n"
     ]
    }
   ],
   "source": [
    "import time\n",
    "import os\n",
    "import numpy as np\n",
    "import fabio\n",
    "import pandas as pd\n",
    "import matplotlib.pyplot as plt\n",
    "from smi_analysis import SMI_beamline\n",
    "\n",
    "%matplotlib notebook"
   ]
  },
  {
   "cell_type": "code",
   "execution_count": 2,
   "metadata": {},
   "outputs": [],
   "source": [
    "from scipy import interpolate\n",
    "from matplotlib import (transforms, colors, cm)\n",
    "from matplotlib.gridspec import GridSpec\n",
    "import matplotlib.patches as patches\n",
    "from matplotlib.ticker import (MultipleLocator, FormatStrFormatter,\n",
    "                               AutoMinorLocator, ScalarFormatter, LogLocator)\n",
    "from mpl_toolkits.axes_grid1.axes_divider import make_axes_locatable\n",
    "from mpl_toolkits.axes_grid1.inset_locator import inset_axes\n",
    "from matplotlib.colorbar import Colorbar as colorbar\n",
    "pd.set_option('display.max_colwidth', None)"
   ]
  },
  {
   "cell_type": "code",
   "execution_count": 3,
   "metadata": {},
   "outputs": [],
   "source": [
    "cmap = cm.viridis.copy()\n",
    "cmap.set_bad(cmap.get_under(), 1.)\n",
    "\n",
    "sci_formatter = ScalarFormatter(useMathText=True)\n",
    "sci_formatter.set_scientific(True)\n",
    "sci_formatter.set_powerlimits((-1, 1))"
   ]
  },
  {
   "cell_type": "markdown",
   "metadata": {},
   "source": [
    "## Locate the files on your computer"
   ]
  },
  {
   "cell_type": "code",
   "execution_count": 4,
   "metadata": {
    "scrolled": true
   },
   "outputs": [],
   "source": [
    "cycle_id = '2023_3'\n",
    "proposal_id = '313303_Billinge_02'\n",
    "\n",
    "# path_data = os.path.join(os.sep, 'nsls2', 'data', 'smi', 'legacy', 'results',  'data',\n",
    "#                          cycle_id, proposal_id, '1M')\n",
    "# path_save = os.path.join(os.sep, 'nsls2', 'data', 'smi', 'legacy', 'results', 'analysis',\n",
    "#                          cycle_id, proposal_id, 'reduced_saxs')\n",
    "path_data = os.path.join(os.sep, \n",
    "                         '/Users/ianbillinge/Documents/yiplab/projects/resonant/2023-11-30-BM-12/313303_Billinge_01', \n",
    "                         '1M')\n",
    "path_save = os.path.join(os.sep, \n",
    "                         '/Users/ianbillinge/Documents/yiplab/projects/resonant/2023-11-30-BM-12/313303_Billinge_01', \n",
    "                         'reduced_saxs')\n",
    "if os.path.isdir(path_data):\n",
    "    os.makedirs(path_save, exist_ok=True)"
   ]
  },
  {
   "cell_type": "markdown",
   "metadata": {},
   "source": [
    "<h4>Get files</h4> and sort them by date"
   ]
  },
  {
   "cell_type": "code",
   "execution_count": 5,
   "metadata": {},
   "outputs": [
    {
     "data": {
      "text/plain": [
       "0       IB_LiBr-sol-nosolv-a-nexafs_pos1_13.45000keV_wa20.0_sdd1.8m_bpm3.405_id433605_000000_SAXS.tif\n",
       "1       IB_LiBr-sol-nosolv-a-nexafs_pos1_13.45101keV_wa20.0_sdd1.8m_bpm003.4_id433606_000000_SAXS.tif\n",
       "2       IB_LiBr-sol-nosolv-a-nexafs_pos1_13.45200keV_wa20.0_sdd1.8m_bpm3.399_id433607_000000_SAXS.tif\n",
       "3       IB_LiBr-sol-nosolv-a-nexafs_pos1_13.45300keV_wa20.0_sdd1.8m_bpm3.396_id433608_000000_SAXS.tif\n",
       "4       IB_LiBr-sol-nosolv-a-nexafs_pos1_13.45400keV_wa20.0_sdd1.8m_bpm3.393_id433609_000000_SAXS.tif\n",
       "                                                    ...                                              \n",
       "1059        IB_DIPA_RbBr_aq_phase-a_pos1_13.53500keV_wa40.0_sdd1.8m_bpm3.275_id435194_000000_SAXS.tif\n",
       "1060        IB_DIPA_RbBr_aq_phase-a_pos1_13.54000keV_wa40.0_sdd1.8m_bpm3.297_id435195_000000_SAXS.tif\n",
       "1061        IB_DIPA_RbBr_aq_phase-a_pos1_13.54501keV_wa40.0_sdd1.8m_bpm3.282_id435196_000000_SAXS.tif\n",
       "1062        IB_DIPA_RbBr_aq_phase-a_pos1_13.55000keV_wa40.0_sdd1.8m_bpm3.287_id435197_000000_SAXS.tif\n",
       "1063                           IB_DIPA_LiBr_org_phase-a_13.45000eV_sdd3m_10s_id435199_000000_SAXS.tif\n",
       "Length: 1064, dtype: object"
      ]
     },
     "execution_count": 5,
     "metadata": {},
     "output_type": "execute_result"
    }
   ],
   "source": [
    "files = sorted([os.path.join(path_data, f) for f in os.listdir(path_data)\n",
    "                if ('test' not in f) and ('.tif' in f) and ('wa0' not in f) and ('wa-0' not in f) and ('inair' not in f)])\n",
    "files.sort(key=lambda x: os.path.getmtime(x), reverse=False)\n",
    "files = pd.Series([os.path.split(path_to_file)[-1] for path_to_file in files])\n",
    "files"
   ]
  },
  {
   "cell_type": "markdown",
   "metadata": {},
   "source": [
    "<h4>Sample names</h4>"
   ]
  },
  {
   "cell_type": "code",
   "execution_count": 6,
   "metadata": {},
   "outputs": [
    {
     "ename": "IndexError",
     "evalue": "single positional indexer is out-of-bounds",
     "output_type": "error",
     "traceback": [
      "\u001b[0;31m---------------------------------------------------------------------------\u001b[0m",
      "\u001b[0;31mIndexError\u001b[0m                                Traceback (most recent call last)",
      "Cell \u001b[0;32mIn[6], line 1\u001b[0m\n\u001b[0;32m----> 1\u001b[0m samples \u001b[38;5;241m=\u001b[39m \u001b[43mfiles\u001b[49m\u001b[43m[\u001b[49m\u001b[43mfiles\u001b[49m\u001b[38;5;241;43m.\u001b[39;49m\u001b[43mstr\u001b[49m\u001b[38;5;241;43m.\u001b[39;49m\u001b[43mcontains\u001b[49m\u001b[43m(\u001b[49m\u001b[38;5;124;43m'\u001b[39;49m\u001b[38;5;124;43mtemp\u001b[39;49m\u001b[38;5;124;43m'\u001b[39;49m\u001b[43m)\u001b[49m\u001b[43m]\u001b[49m\u001b[38;5;241;43m.\u001b[39;49m\u001b[43mstr\u001b[49m\u001b[38;5;241;43m.\u001b[39;49m\u001b[43msplit\u001b[49m\u001b[43m(\u001b[49m\u001b[38;5;124;43m'\u001b[39;49m\u001b[38;5;124;43mtemp\u001b[39;49m\u001b[38;5;124;43m'\u001b[39;49m\u001b[43m,\u001b[49m\u001b[43m \u001b[49m\u001b[43mexpand\u001b[49m\u001b[38;5;241;43m=\u001b[39;49m\u001b[38;5;28;43;01mTrue\u001b[39;49;00m\u001b[43m)\u001b[49m\u001b[38;5;241;43m.\u001b[39;49m\u001b[43miloc\u001b[49m\u001b[43m[\u001b[49m\u001b[43m:\u001b[49m\u001b[43m,\u001b[49m\u001b[43m \u001b[49m\u001b[38;5;241;43m0\u001b[39;49m\u001b[43m]\u001b[49m\u001b[38;5;241m.\u001b[39munique()\n\u001b[1;32m      2\u001b[0m \u001b[38;5;66;03m#samples = pd.Series([sample[:16] for sample in samples]).unique()\u001b[39;00m\n\u001b[1;32m      3\u001b[0m samples \u001b[38;5;241m=\u001b[39m pd\u001b[38;5;241m.\u001b[39mSeries([s[\u001b[38;5;241m3\u001b[39m:] \u001b[38;5;28;01mfor\u001b[39;00m s \u001b[38;5;129;01min\u001b[39;00m samples])\n",
      "File \u001b[0;32m~/micromamba/envs/smi_py311/lib/python3.11/site-packages/pandas/core/indexing.py:1147\u001b[0m, in \u001b[0;36m_LocationIndexer.__getitem__\u001b[0;34m(self, key)\u001b[0m\n\u001b[1;32m   1145\u001b[0m     \u001b[38;5;28;01mif\u001b[39;00m \u001b[38;5;28mself\u001b[39m\u001b[38;5;241m.\u001b[39m_is_scalar_access(key):\n\u001b[1;32m   1146\u001b[0m         \u001b[38;5;28;01mreturn\u001b[39;00m \u001b[38;5;28mself\u001b[39m\u001b[38;5;241m.\u001b[39mobj\u001b[38;5;241m.\u001b[39m_get_value(\u001b[38;5;241m*\u001b[39mkey, takeable\u001b[38;5;241m=\u001b[39m\u001b[38;5;28mself\u001b[39m\u001b[38;5;241m.\u001b[39m_takeable)\n\u001b[0;32m-> 1147\u001b[0m     \u001b[38;5;28;01mreturn\u001b[39;00m \u001b[38;5;28;43mself\u001b[39;49m\u001b[38;5;241;43m.\u001b[39;49m\u001b[43m_getitem_tuple\u001b[49m\u001b[43m(\u001b[49m\u001b[43mkey\u001b[49m\u001b[43m)\u001b[49m\n\u001b[1;32m   1148\u001b[0m \u001b[38;5;28;01melse\u001b[39;00m:\n\u001b[1;32m   1149\u001b[0m     \u001b[38;5;66;03m# we by definition only have the 0th axis\u001b[39;00m\n\u001b[1;32m   1150\u001b[0m     axis \u001b[38;5;241m=\u001b[39m \u001b[38;5;28mself\u001b[39m\u001b[38;5;241m.\u001b[39maxis \u001b[38;5;129;01mor\u001b[39;00m \u001b[38;5;241m0\u001b[39m\n",
      "File \u001b[0;32m~/micromamba/envs/smi_py311/lib/python3.11/site-packages/pandas/core/indexing.py:1652\u001b[0m, in \u001b[0;36m_iLocIndexer._getitem_tuple\u001b[0;34m(self, tup)\u001b[0m\n\u001b[1;32m   1651\u001b[0m \u001b[38;5;28;01mdef\u001b[39;00m \u001b[38;5;21m_getitem_tuple\u001b[39m(\u001b[38;5;28mself\u001b[39m, tup: \u001b[38;5;28mtuple\u001b[39m):\n\u001b[0;32m-> 1652\u001b[0m     tup \u001b[38;5;241m=\u001b[39m \u001b[38;5;28;43mself\u001b[39;49m\u001b[38;5;241;43m.\u001b[39;49m\u001b[43m_validate_tuple_indexer\u001b[49m\u001b[43m(\u001b[49m\u001b[43mtup\u001b[49m\u001b[43m)\u001b[49m\n\u001b[1;32m   1653\u001b[0m     \u001b[38;5;28;01mwith\u001b[39;00m suppress(IndexingError):\n\u001b[1;32m   1654\u001b[0m         \u001b[38;5;28;01mreturn\u001b[39;00m \u001b[38;5;28mself\u001b[39m\u001b[38;5;241m.\u001b[39m_getitem_lowerdim(tup)\n",
      "File \u001b[0;32m~/micromamba/envs/smi_py311/lib/python3.11/site-packages/pandas/core/indexing.py:940\u001b[0m, in \u001b[0;36m_LocationIndexer._validate_tuple_indexer\u001b[0;34m(self, key)\u001b[0m\n\u001b[1;32m    938\u001b[0m \u001b[38;5;28;01mfor\u001b[39;00m i, k \u001b[38;5;129;01min\u001b[39;00m \u001b[38;5;28menumerate\u001b[39m(key):\n\u001b[1;32m    939\u001b[0m     \u001b[38;5;28;01mtry\u001b[39;00m:\n\u001b[0;32m--> 940\u001b[0m         \u001b[38;5;28;43mself\u001b[39;49m\u001b[38;5;241;43m.\u001b[39;49m\u001b[43m_validate_key\u001b[49m\u001b[43m(\u001b[49m\u001b[43mk\u001b[49m\u001b[43m,\u001b[49m\u001b[43m \u001b[49m\u001b[43mi\u001b[49m\u001b[43m)\u001b[49m\n\u001b[1;32m    941\u001b[0m     \u001b[38;5;28;01mexcept\u001b[39;00m \u001b[38;5;167;01mValueError\u001b[39;00m \u001b[38;5;28;01mas\u001b[39;00m err:\n\u001b[1;32m    942\u001b[0m         \u001b[38;5;28;01mraise\u001b[39;00m \u001b[38;5;167;01mValueError\u001b[39;00m(\n\u001b[1;32m    943\u001b[0m             \u001b[38;5;124m\"\u001b[39m\u001b[38;5;124mLocation based indexing can only have \u001b[39m\u001b[38;5;124m\"\u001b[39m\n\u001b[1;32m    944\u001b[0m             \u001b[38;5;124mf\u001b[39m\u001b[38;5;124m\"\u001b[39m\u001b[38;5;124m[\u001b[39m\u001b[38;5;132;01m{\u001b[39;00m\u001b[38;5;28mself\u001b[39m\u001b[38;5;241m.\u001b[39m_valid_types\u001b[38;5;132;01m}\u001b[39;00m\u001b[38;5;124m] types\u001b[39m\u001b[38;5;124m\"\u001b[39m\n\u001b[1;32m    945\u001b[0m         ) \u001b[38;5;28;01mfrom\u001b[39;00m \u001b[38;5;21;01merr\u001b[39;00m\n",
      "File \u001b[0;32m~/micromamba/envs/smi_py311/lib/python3.11/site-packages/pandas/core/indexing.py:1554\u001b[0m, in \u001b[0;36m_iLocIndexer._validate_key\u001b[0;34m(self, key, axis)\u001b[0m\n\u001b[1;32m   1552\u001b[0m     \u001b[38;5;28;01mreturn\u001b[39;00m\n\u001b[1;32m   1553\u001b[0m \u001b[38;5;28;01melif\u001b[39;00m is_integer(key):\n\u001b[0;32m-> 1554\u001b[0m     \u001b[38;5;28;43mself\u001b[39;49m\u001b[38;5;241;43m.\u001b[39;49m\u001b[43m_validate_integer\u001b[49m\u001b[43m(\u001b[49m\u001b[43mkey\u001b[49m\u001b[43m,\u001b[49m\u001b[43m \u001b[49m\u001b[43maxis\u001b[49m\u001b[43m)\u001b[49m\n\u001b[1;32m   1555\u001b[0m \u001b[38;5;28;01melif\u001b[39;00m \u001b[38;5;28misinstance\u001b[39m(key, \u001b[38;5;28mtuple\u001b[39m):\n\u001b[1;32m   1556\u001b[0m     \u001b[38;5;66;03m# a tuple should already have been caught by this point\u001b[39;00m\n\u001b[1;32m   1557\u001b[0m     \u001b[38;5;66;03m# so don't treat a tuple as a valid indexer\u001b[39;00m\n\u001b[1;32m   1558\u001b[0m     \u001b[38;5;28;01mraise\u001b[39;00m IndexingError(\u001b[38;5;124m\"\u001b[39m\u001b[38;5;124mToo many indexers\u001b[39m\u001b[38;5;124m\"\u001b[39m)\n",
      "File \u001b[0;32m~/micromamba/envs/smi_py311/lib/python3.11/site-packages/pandas/core/indexing.py:1647\u001b[0m, in \u001b[0;36m_iLocIndexer._validate_integer\u001b[0;34m(self, key, axis)\u001b[0m\n\u001b[1;32m   1645\u001b[0m len_axis \u001b[38;5;241m=\u001b[39m \u001b[38;5;28mlen\u001b[39m(\u001b[38;5;28mself\u001b[39m\u001b[38;5;241m.\u001b[39mobj\u001b[38;5;241m.\u001b[39m_get_axis(axis))\n\u001b[1;32m   1646\u001b[0m \u001b[38;5;28;01mif\u001b[39;00m key \u001b[38;5;241m>\u001b[39m\u001b[38;5;241m=\u001b[39m len_axis \u001b[38;5;129;01mor\u001b[39;00m key \u001b[38;5;241m<\u001b[39m \u001b[38;5;241m-\u001b[39mlen_axis:\n\u001b[0;32m-> 1647\u001b[0m     \u001b[38;5;28;01mraise\u001b[39;00m \u001b[38;5;167;01mIndexError\u001b[39;00m(\u001b[38;5;124m\"\u001b[39m\u001b[38;5;124msingle positional indexer is out-of-bounds\u001b[39m\u001b[38;5;124m\"\u001b[39m)\n",
      "\u001b[0;31mIndexError\u001b[0m: single positional indexer is out-of-bounds"
     ]
    }
   ],
   "source": [
    "samples = files[files.str.contains('temp')].str.split('temp', expand=True).iloc[:, 0].unique()\n",
    "#samples = pd.Series([sample[:16] for sample in samples]).unique()\n",
    "samples = pd.Series([s[3:] for s in samples])\n",
    "samples"
   ]
  },
  {
   "cell_type": "code",
   "execution_count": 7,
   "metadata": {},
   "outputs": [
    {
     "data": {
      "text/plain": [
       "0       IB_LiBr-sol-nosolv-a-nexafs_pos1_13.45000keV_wa20.0_sdd1.8m_bpm3.405_id433605_000000_SAXS.tif\n",
       "1       IB_LiBr-sol-nosolv-a-nexafs_pos1_13.45101keV_wa20.0_sdd1.8m_bpm003.4_id433606_000000_SAXS.tif\n",
       "2       IB_LiBr-sol-nosolv-a-nexafs_pos1_13.45200keV_wa20.0_sdd1.8m_bpm3.399_id433607_000000_SAXS.tif\n",
       "3       IB_LiBr-sol-nosolv-a-nexafs_pos1_13.45300keV_wa20.0_sdd1.8m_bpm3.396_id433608_000000_SAXS.tif\n",
       "4       IB_LiBr-sol-nosolv-a-nexafs_pos1_13.45400keV_wa20.0_sdd1.8m_bpm3.393_id433609_000000_SAXS.tif\n",
       "                                                    ...                                              \n",
       "1059        IB_DIPA_RbBr_aq_phase-a_pos1_13.53500keV_wa40.0_sdd1.8m_bpm3.275_id435194_000000_SAXS.tif\n",
       "1060        IB_DIPA_RbBr_aq_phase-a_pos1_13.54000keV_wa40.0_sdd1.8m_bpm3.297_id435195_000000_SAXS.tif\n",
       "1061        IB_DIPA_RbBr_aq_phase-a_pos1_13.54501keV_wa40.0_sdd1.8m_bpm3.282_id435196_000000_SAXS.tif\n",
       "1062        IB_DIPA_RbBr_aq_phase-a_pos1_13.55000keV_wa40.0_sdd1.8m_bpm3.287_id435197_000000_SAXS.tif\n",
       "1063                           IB_DIPA_LiBr_org_phase-a_13.45000eV_sdd3m_10s_id435199_000000_SAXS.tif\n",
       "Length: 1064, dtype: object"
      ]
     },
     "execution_count": 7,
     "metadata": {},
     "output_type": "execute_result"
    }
   ],
   "source": [
    "samples2 = files[~files.str.contains('16.1keV')]\n",
    "#samples2 = samples2[samples2.str.contains('000001')].str.split('000001', expand=True).iloc[:, 0].unique()\n",
    "samples2"
   ]
  },
  {
   "cell_type": "markdown",
   "metadata": {},
   "source": [
    "<h3>Sample names based on reg expressions</h3>"
   ]
  },
  {
   "cell_type": "code",
   "execution_count": 8,
   "metadata": {},
   "outputs": [
    {
     "data": {
      "text/plain": [
       "0                    IB_kaptom_pos1_\n",
       "1        IB_LiBr_sol_no_solv-b_pos1_\n",
       "2        IB_NaBr_sol_no_solv-b_pos1_\n",
       "3         IB_KBr_sol_no_solv-b_pos1_\n",
       "4        IB_RbBr_sol_no_solv-b_pos1_\n",
       "5                   IB_water-a_pos1_\n",
       "6     IB_DIPA_LiBr_org_phase-a_pos1_\n",
       "7     IB_DIPA_RbBr_org_phase-a_pos1_\n",
       "8      IB_DIPA_NaBr_aq_phase-a_pos1_\n",
       "9       IB_DIPA_KBr_aq_phase-a_pos1_\n",
       "10     IB_DIPA_RbBr_aq_phase-a_pos1_\n",
       "dtype: object"
      ]
     },
     "execution_count": 8,
     "metadata": {},
     "output_type": "execute_result"
    }
   ],
   "source": [
    "#test = files[files.str.contains('wa20')].str.split(r'\\d{0,4}.\\d{0,2}eV', expand=True).iloc[:, 0].unique()\n",
    "samples = files[files.str.contains('wa40')].str.split(r'\\d{0,6}.\\d{0,6}keV', expand=True).iloc[:, 0].unique()\n",
    "\n",
    "#test2 = pd.Series([s for s in samples if 'WAXS' not in s])\n",
    "#test3 = files[files.str.contains('bpm')].str.split('wa20', expand=True).iloc[:, 0].unique()\n",
    "#test3 = pd.Series([sample[:sample.find('eV_') - 7] for sample in samples]).unique()\n",
    "#test3 = pd.Series(test3)\n",
    "#test4 = pd.concat([test2, test3])\n",
    "#samples = test\n",
    "samples = pd.Series(samples)\n",
    "samples"
   ]
  },
  {
   "cell_type": "raw",
   "metadata": {},
   "source": [
    "samples = files[files.str.contains('degC')].str.split('degC', expand=True).iloc[:, 0].unique()\n",
    "samples = files.str.split('_', expand=True).iloc[:, 1].unique()\n",
    "#samples = pd.Series([sample[:16] for sample in samples]).unique()\n",
    "samples = pd.Series(sorted(samples))\n",
    "samples"
   ]
  },
  {
   "cell_type": "raw",
   "metadata": {},
   "source": [
    "samples = pd.Series([s[3:] for s in samples])\n",
    "samples"
   ]
  },
  {
   "cell_type": "markdown",
   "metadata": {},
   "source": [
    "<h3>Create lists for averaging SAXS</h3>detector images at the same energy but different WAXS angle"
   ]
  },
  {
   "cell_type": "code",
   "execution_count": 9,
   "metadata": {},
   "outputs": [
    {
     "data": {
      "text/plain": [
       "51     IB_kaptom_pos1_13.45000keV_wa20.0_sdd1.8m_bpm3.415_id433726_000000_SAXS.tif\n",
       "52     IB_kaptom_pos1_13.45500keV_wa20.0_sdd1.8m_bpm3.421_id433727_000000_SAXS.tif\n",
       "53     IB_kaptom_pos1_13.46000keV_wa20.0_sdd1.8m_bpm3.412_id433728_000000_SAXS.tif\n",
       "54     IB_kaptom_pos1_13.46099keV_wa20.0_sdd1.8m_bpm3.404_id433729_000000_SAXS.tif\n",
       "55     IB_kaptom_pos1_13.46201keV_wa20.0_sdd1.8m_bpm3.401_id433730_000000_SAXS.tif\n",
       "                                          ...                                     \n",
       "138    IB_kaptom_pos1_13.53000keV_wa40.0_sdd1.8m_bpm3.311_id433813_000000_SAXS.tif\n",
       "139    IB_kaptom_pos1_13.53500keV_wa40.0_sdd1.8m_bpm3.281_id433814_000000_SAXS.tif\n",
       "140    IB_kaptom_pos1_13.54000keV_wa40.0_sdd1.8m_bpm003.3_id433815_000000_SAXS.tif\n",
       "141    IB_kaptom_pos1_13.54501keV_wa40.0_sdd1.8m_bpm3.276_id433816_000000_SAXS.tif\n",
       "142    IB_kaptom_pos1_13.55000keV_wa40.0_sdd1.8m_bpm3.287_id433817_000000_SAXS.tif\n",
       "Length: 92, dtype: object"
      ]
     },
     "execution_count": 9,
     "metadata": {},
     "output_type": "execute_result"
    }
   ],
   "source": [
    "sample = samples.iloc[0]\n",
    "matches = files[files.str.contains(f'{sample}')]# + r'\\d{0,6}.\\d{0,2}keV')]\n",
    "matches"
   ]
  },
  {
   "cell_type": "raw",
   "metadata": {},
   "source": [
    "incident_angles = pd.Series([f[f.find('_ai') + 3 : f.find('_id')] for f in matches]).unique()\n",
    "incident_angles"
   ]
  },
  {
   "cell_type": "raw",
   "metadata": {},
   "source": [
    "temperatures = pd.Series([f[f.find('degC_') - 5 : f.find('degC_')] for f in matches]).unique()\n",
    "#temperatures = pd.Series(matches.str.split('_', expand=True).iloc[:, 2].unique())\n",
    "#temperatures = temperatures.str.split('degC', expand=True).iloc[:, 0].unique()\n",
    "temperatures"
   ]
  },
  {
   "cell_type": "code",
   "execution_count": 10,
   "metadata": {},
   "outputs": [
    {
     "data": {
      "text/plain": [
       "array(['000000'], dtype=object)"
      ]
     },
     "execution_count": 10,
     "metadata": {},
     "output_type": "execute_result"
    }
   ],
   "source": [
    "#locations = pd.Series([f[f.find('loc') + 3 : f.find('loc') + 4] for f in matches]).unique()\n",
    "locations = pd.Series([f[f.find('_SAXS.tif') - 6 : f.find('_SAXS.tif')] for f in matches]).unique()\n",
    "#locations = pd.Series([f[f.find('-x') + 0 : f.find('_16.10keV')] for f in matches]).unique()\n",
    "locations"
   ]
  },
  {
   "cell_type": "code",
   "execution_count": 11,
   "metadata": {},
   "outputs": [
    {
     "data": {
      "text/plain": [
       "array(['13.45000', '13.45500', '13.46000', '13.46099', '13.46201',\n",
       "       '13.46301', '13.46401', '13.46501', '13.46550', '13.46599',\n",
       "       '13.46650', '13.46699', '13.46750', '13.46800', '13.46850',\n",
       "       '13.46900', '13.46950', '13.47000', '13.47050', '13.47100',\n",
       "       '13.47150', '13.47200', '13.47251', '13.47300', '13.47350',\n",
       "       '13.47400', '13.47450', '13.47500', '13.47700', '13.47900',\n",
       "       '13.48100', '13.48300', '13.48500', '13.49000', '13.49500',\n",
       "       '13.50000', '13.50500', '13.51000', '13.51500', '13.52000',\n",
       "       '13.52500', '13.53000', '13.53500', '13.54000', '13.54501',\n",
       "       '13.55000'], dtype=object)"
      ]
     },
     "execution_count": 11,
     "metadata": {},
     "output_type": "execute_result"
    }
   ],
   "source": [
    "energies = pd.Series([f[f.find('keV_') - 8 : f.find('keV_')] for f in matches]).unique()\n",
    "energies"
   ]
  },
  {
   "cell_type": "code",
   "execution_count": 12,
   "metadata": {},
   "outputs": [
    {
     "data": {
      "text/plain": [
       "array(['433726', '433727', '433728', '433729', '433730', '433731',\n",
       "       '433732', '433733', '433734', '433735', '433736', '433737',\n",
       "       '433738', '433739', '433740', '433741', '433742', '433743',\n",
       "       '433744', '433745', '433746', '433747', '433748', '433749',\n",
       "       '433750', '433751', '433752', '433753', '433754', '433755',\n",
       "       '433756', '433757', '433758', '433759', '433760', '433761',\n",
       "       '433762', '433763', '433764', '433765', '433766', '433767',\n",
       "       '433768', '433769', '433770', '433771', '433772', '433773',\n",
       "       '433774', '433775', '433776', '433777', '433778', '433779',\n",
       "       '433780', '433781', '433782', '433783', '433784', '433785',\n",
       "       '433786', '433787', '433788', '433789', '433790', '433791',\n",
       "       '433792', '433793', '433794', '433795', '433796', '433797',\n",
       "       '433798', '433799', '433800', '433801', '433802', '433803',\n",
       "       '433804', '433805', '433806', '433807', '433808', '433809',\n",
       "       '433810', '433811', '433812', '433813', '433814', '433815',\n",
       "       '433816', '433817'], dtype=object)"
      ]
     },
     "execution_count": 12,
     "metadata": {},
     "output_type": "execute_result"
    }
   ],
   "source": [
    "ids = pd.Series([f[f.find('_id') + 3 : f.find('_SAXS.tif') - 7] for f in matches]).unique()\n",
    "ids"
   ]
  },
  {
   "cell_type": "raw",
   "metadata": {},
   "source": [
    "sdds = pd.Series([f[f.find('_sdd') + 4 : f.find('m_loc')] for f in matches]).unique()\n",
    "sdds"
   ]
  },
  {
   "cell_type": "raw",
   "metadata": {},
   "source": [
    "times = pd.Series([f[f.find('_time') + 5 : f.find('_ai')] for f in matches]).unique()\n",
    "times"
   ]
  },
  {
   "cell_type": "raw",
   "metadata": {},
   "source": [
    "runs = pd.Series([f[f.find('_run') + 4 : f.find('keV') - 6] for f in matches]).unique()\n",
    "runs"
   ]
  },
  {
   "cell_type": "code",
   "execution_count": 13,
   "metadata": {},
   "outputs": [],
   "source": [
    "batch_dct = {}\n",
    "\n",
    "for sample in samples:\n",
    "    \n",
    "    sample_lst = []\n",
    "    \n",
    "    # Find data files for each samle and corresponding energies\n",
    "    to_find = sample # + 'temp'\n",
    "    matches = files[files.str.contains(f'_{to_find}')]# + r'\\d{0,6}.\\d{0,2}degC')]\n",
    "    if matches.empty:\n",
    "        matches = files[files.str.contains(sample)]## + '16.10keV', regex=False)]\n",
    "    \n",
    "    #incident_angles = pd.Series([f[f.find('_ai') + 3 : f.find('_id')] for f in matches]).unique()\n",
    "    #locations = pd.Series([f[f.find('_loc') + 4 : f.find('_trs')] for f in matches]).unique()\n",
    "    #temperatures = pd.Series([f[f.find('degC_') - 5 : f.find('degC_')] for f in matches]).unique()\n",
    "    #temperatures = pd.Series(matches.str.split('_', expand=True).iloc[:, 2].unique())\n",
    "    #temperatures = temperatures.str.split('degC', expand=True).iloc[:, 0].unique()\n",
    "    #locations = pd.Series([f[f.find('_SAXS.tif') - 6 : f.find('_SAXS.tif')] for f in matches]).unique()\n",
    "    #locations = pd.Series([f[f.find('_loc') + 4 : f.find('_loc') + 5] for f in matches]).unique()\n",
    "    #locations = pd.Series([f[f.find('loc') + 3 : f.find('loc') + 4] for f in matches]).unique()\n",
    "    #locations = pd.Series([f[f.find('-x') + 0 : f.find('_16.10keV')] for f in matches]).unique()\n",
    "    #if 'keV' in matches.all():\n",
    "    #    energies = pd.Series([f[f.find('eV_') - 5 : f.find('keV_')] for f in matches]).unique()\n",
    "    #else:\n",
    "    #    energies = pd.Series([f[f.find('eV_') - 7 : f.find('eV_')] for f in matches]).unique()\n",
    "    #ids = pd.Series([f[f.find('_id') + 3 : f.find('_SAXS.tif') - 7] for f in matches]).unique()\n",
    "    #sdds = pd.Series([f[f.find('_sdd') + 4 : f.find('m_loc')] for f in matches]).unique()\n",
    "    #times = pd.Series([f[f.find('_time') + 5 : f.find('_ai')] for f in matches]).unique()\n",
    "    #runs = pd.Series([f[f.find('_run') + 4 : f.find('keV') - 6] for f in matches]).unique()\n",
    "    energies = pd.Series([f[f.find('keV_') - 8 : f.find('keV_')] for f in matches]).unique()\n",
    "\n",
    "    values = ['']\n",
    "    values2 = energies\n",
    "    values3 = ['']\n",
    "    values4 = ['']\n",
    "    for val in values:\n",
    "        measurement_lst = []\n",
    "\n",
    "        scans = matches[matches.str.contains(f'{val}')]\n",
    "        \n",
    "        for val2 in values2:\n",
    "            scans2 = scans[scans.str.contains(f'{val2}')]\n",
    "            \n",
    "            for val3 in values3:\n",
    "                scans3 = scans2[scans2.str.contains(f'{val3}')]\n",
    "                \n",
    "                for val4 in values4:\n",
    "                    scans4 = scans3[scans3.str.contains(f'{val4}')]\n",
    "\n",
    "                    if not scans4.empty:\n",
    "                        measurement_lst.append(scans4.values.tolist())\n",
    "        \n",
    "        if measurement_lst:\n",
    "            sample_lst.append(measurement_lst)\n",
    "\n",
    "            #try:\n",
    "            #    #position_lst.append(scans.values.tolist())\n",
    "            #    sample_lst.append(scans2.values.tolist())\n",
    "            #except:\n",
    "            #    pass\n",
    "            #    #sample_lst.append(position_lst)\n",
    "    batch_dct[sample] = sample_lst"
   ]
  },
  {
   "cell_type": "raw",
   "metadata": {},
   "source": [
    "batch_dct = {}\n",
    "\n",
    "for sample in samples:\n",
    "    matches = files[files.str.contains(sample)]\n",
    "    sample_lst = [[f] for f in matches]\n",
    "    batch_dct[sample] = sample_lst"
   ]
  },
  {
   "cell_type": "code",
   "execution_count": 14,
   "metadata": {},
   "outputs": [
    {
     "data": {
      "text/plain": [
       "{'IB_kaptom_pos1_': [[['IB_kaptom_pos1_13.45000keV_wa20.0_sdd1.8m_bpm3.415_id433726_000000_SAXS.tif',\n",
       "    'IB_kaptom_pos1_13.45000keV_wa40.0_sdd1.8m_bpm3.426_id433772_000000_SAXS.tif'],\n",
       "   ['IB_kaptom_pos1_13.45500keV_wa20.0_sdd1.8m_bpm3.421_id433727_000000_SAXS.tif',\n",
       "    'IB_kaptom_pos1_13.45500keV_wa40.0_sdd1.8m_bpm03.42_id433773_000000_SAXS.tif'],\n",
       "   ['IB_kaptom_pos1_13.46000keV_wa20.0_sdd1.8m_bpm3.412_id433728_000000_SAXS.tif',\n",
       "    'IB_kaptom_pos1_13.46000keV_wa40.0_sdd1.8m_bpm3.411_id433774_000000_SAXS.tif'],\n",
       "   ['IB_kaptom_pos1_13.46099keV_wa20.0_sdd1.8m_bpm3.404_id433729_000000_SAXS.tif',\n",
       "    'IB_kaptom_pos1_13.46099keV_wa40.0_sdd1.8m_bpm3.406_id433775_000000_SAXS.tif'],\n",
       "   ['IB_kaptom_pos1_13.46201keV_wa20.0_sdd1.8m_bpm3.401_id433730_000000_SAXS.tif',\n",
       "    'IB_kaptom_pos1_13.46201keV_wa40.0_sdd1.8m_bpm3.403_id433776_000000_SAXS.tif'],\n",
       "   ['IB_kaptom_pos1_13.46301keV_wa20.0_sdd1.8m_bpm3.398_id433731_000000_SAXS.tif',\n",
       "    'IB_kaptom_pos1_13.46301keV_wa40.0_sdd1.8m_bpm003.4_id433777_000000_SAXS.tif'],\n",
       "   ['IB_kaptom_pos1_13.46401keV_wa20.0_sdd1.8m_bpm3.393_id433732_000000_SAXS.tif',\n",
       "    'IB_kaptom_pos1_13.46401keV_wa40.0_sdd1.8m_bpm3.394_id433778_000000_SAXS.tif'],\n",
       "   ['IB_kaptom_pos1_13.46501keV_wa20.0_sdd1.8m_bpm3.389_id433733_000000_SAXS.tif',\n",
       "    'IB_kaptom_pos1_13.46501keV_wa40.0_sdd1.8m_bpm3.391_id433779_000000_SAXS.tif'],\n",
       "   ['IB_kaptom_pos1_13.46550keV_wa20.0_sdd1.8m_bpm3.392_id433734_000000_SAXS.tif',\n",
       "    'IB_kaptom_pos1_13.46550keV_wa40.0_sdd1.8m_bpm3.389_id433780_000000_SAXS.tif'],\n",
       "   ['IB_kaptom_pos1_13.46599keV_wa20.0_sdd1.8m_bpm3.386_id433735_000000_SAXS.tif',\n",
       "    'IB_kaptom_pos1_13.46599keV_wa40.0_sdd1.8m_bpm3.385_id433781_000000_SAXS.tif'],\n",
       "   ['IB_kaptom_pos1_13.46650keV_wa20.0_sdd1.8m_bpm3.386_id433736_000000_SAXS.tif',\n",
       "    'IB_kaptom_pos1_13.46650keV_wa40.0_sdd1.8m_bpm3.383_id433782_000000_SAXS.tif'],\n",
       "   ['IB_kaptom_pos1_13.46699keV_wa20.0_sdd1.8m_bpm3.382_id433737_000000_SAXS.tif',\n",
       "    'IB_kaptom_pos1_13.46699keV_wa40.0_sdd1.8m_bpm3.381_id433783_000000_SAXS.tif'],\n",
       "   ['IB_kaptom_pos1_13.46750keV_wa20.0_sdd1.8m_bpm3.377_id433738_000000_SAXS.tif',\n",
       "    'IB_kaptom_pos1_13.46750keV_wa40.0_sdd1.8m_bpm3.391_id433784_000000_SAXS.tif'],\n",
       "   ['IB_kaptom_pos1_13.46800keV_wa20.0_sdd1.8m_bpm3.382_id433739_000000_SAXS.tif',\n",
       "    'IB_kaptom_pos1_13.46800keV_wa40.0_sdd1.8m_bpm3.392_id433785_000000_SAXS.tif'],\n",
       "   ['IB_kaptom_pos1_13.46850keV_wa20.0_sdd1.8m_bpm3.374_id433740_000000_SAXS.tif',\n",
       "    'IB_kaptom_pos1_13.46850keV_wa40.0_sdd1.8m_bpm3.385_id433786_000000_SAXS.tif'],\n",
       "   ['IB_kaptom_pos1_13.46900keV_wa20.0_sdd1.8m_bpm3.372_id433741_000000_SAXS.tif',\n",
       "    'IB_kaptom_pos1_13.46900keV_wa40.0_sdd1.8m_bpm3.381_id433787_000000_SAXS.tif'],\n",
       "   ['IB_kaptom_pos1_13.46950keV_wa20.0_sdd1.8m_bpm3.373_id433742_000000_SAXS.tif',\n",
       "    'IB_kaptom_pos1_13.46950keV_wa40.0_sdd1.8m_bpm3.384_id433788_000000_SAXS.tif'],\n",
       "   ['IB_kaptom_pos1_13.47000keV_wa20.0_sdd1.8m_bpm3.383_id433743_000000_SAXS.tif',\n",
       "    'IB_kaptom_pos1_13.47000keV_wa40.0_sdd1.8m_bpm03.38_id433789_000000_SAXS.tif'],\n",
       "   ['IB_kaptom_pos1_13.47050keV_wa20.0_sdd1.8m_bpm3.382_id433744_000000_SAXS.tif',\n",
       "    'IB_kaptom_pos1_13.47050keV_wa40.0_sdd1.8m_bpm03.38_id433790_000000_SAXS.tif'],\n",
       "   ['IB_kaptom_pos1_13.47100keV_wa20.0_sdd1.8m_bpm3.378_id433745_000000_SAXS.tif',\n",
       "    'IB_kaptom_pos1_13.47100keV_wa40.0_sdd1.8m_bpm3.376_id433791_000000_SAXS.tif'],\n",
       "   ['IB_kaptom_pos1_13.47150keV_wa20.0_sdd1.8m_bpm3.374_id433746_000000_SAXS.tif',\n",
       "    'IB_kaptom_pos1_13.47150keV_wa40.0_sdd1.8m_bpm3.373_id433792_000000_SAXS.tif'],\n",
       "   ['IB_kaptom_pos1_13.47200keV_wa20.0_sdd1.8m_bpm3.373_id433747_000000_SAXS.tif',\n",
       "    'IB_kaptom_pos1_13.47200keV_wa40.0_sdd1.8m_bpm3.373_id433793_000000_SAXS.tif'],\n",
       "   ['IB_kaptom_pos1_13.47251keV_wa20.0_sdd1.8m_bpm3.367_id433748_000000_SAXS.tif',\n",
       "    'IB_kaptom_pos1_13.47251keV_wa40.0_sdd1.8m_bpm3.365_id433794_000000_SAXS.tif'],\n",
       "   ['IB_kaptom_pos1_13.47300keV_wa20.0_sdd1.8m_bpm3.361_id433749_000000_SAXS.tif',\n",
       "    'IB_kaptom_pos1_13.47300keV_wa40.0_sdd1.8m_bpm3.356_id433795_000000_SAXS.tif'],\n",
       "   ['IB_kaptom_pos1_13.47350keV_wa20.0_sdd1.8m_bpm3.362_id433750_000000_SAXS.tif',\n",
       "    'IB_kaptom_pos1_13.47350keV_wa40.0_sdd1.8m_bpm3.358_id433796_000000_SAXS.tif'],\n",
       "   ['IB_kaptom_pos1_13.47400keV_wa20.0_sdd1.8m_bpm3.356_id433751_000000_SAXS.tif',\n",
       "    'IB_kaptom_pos1_13.47400keV_wa40.0_sdd1.8m_bpm3.356_id433797_000000_SAXS.tif'],\n",
       "   ['IB_kaptom_pos1_13.47450keV_wa20.0_sdd1.8m_bpm03.35_id433752_000000_SAXS.tif',\n",
       "    'IB_kaptom_pos1_13.47450keV_wa40.0_sdd1.8m_bpm3.353_id433798_000000_SAXS.tif'],\n",
       "   ['IB_kaptom_pos1_13.47500keV_wa20.0_sdd1.8m_bpm3.351_id433753_000000_SAXS.tif',\n",
       "    'IB_kaptom_pos1_13.47500keV_wa40.0_sdd1.8m_bpm3.354_id433799_000000_SAXS.tif'],\n",
       "   ['IB_kaptom_pos1_13.47700keV_wa20.0_sdd1.8m_bpm03.36_id433754_000000_SAXS.tif',\n",
       "    'IB_kaptom_pos1_13.47700keV_wa40.0_sdd1.8m_bpm3.367_id433800_000000_SAXS.tif'],\n",
       "   ['IB_kaptom_pos1_13.47900keV_wa20.0_sdd1.8m_bpm3.347_id433755_000000_SAXS.tif',\n",
       "    'IB_kaptom_pos1_13.47900keV_wa40.0_sdd1.8m_bpm3.359_id433801_000000_SAXS.tif'],\n",
       "   ['IB_kaptom_pos1_13.48100keV_wa20.0_sdd1.8m_bpm3.345_id433756_000000_SAXS.tif',\n",
       "    'IB_kaptom_pos1_13.48100keV_wa40.0_sdd1.8m_bpm3.356_id433802_000000_SAXS.tif'],\n",
       "   ['IB_kaptom_pos1_13.48300keV_wa20.0_sdd1.8m_bpm3.349_id433757_000000_SAXS.tif',\n",
       "    'IB_kaptom_pos1_13.48300keV_wa40.0_sdd1.8m_bpm3.357_id433803_000000_SAXS.tif'],\n",
       "   ['IB_kaptom_pos1_13.48500keV_wa20.0_sdd1.8m_bpm3.341_id433758_000000_SAXS.tif',\n",
       "    'IB_kaptom_pos1_13.48500keV_wa40.0_sdd1.8m_bpm3.355_id433804_000000_SAXS.tif'],\n",
       "   ['IB_kaptom_pos1_13.49000keV_wa20.0_sdd1.8m_bpm03.35_id433759_000000_SAXS.tif',\n",
       "    'IB_kaptom_pos1_13.49000keV_wa40.0_sdd1.8m_bpm3.346_id433805_000000_SAXS.tif'],\n",
       "   ['IB_kaptom_pos1_13.49500keV_wa20.0_sdd1.8m_bpm03.34_id433760_000000_SAXS.tif',\n",
       "    'IB_kaptom_pos1_13.49500keV_wa40.0_sdd1.8m_bpm3.345_id433806_000000_SAXS.tif'],\n",
       "   ['IB_kaptom_pos1_13.50000keV_wa20.0_sdd1.8m_bpm3.346_id433761_000000_SAXS.tif',\n",
       "    'IB_kaptom_pos1_13.50000keV_wa40.0_sdd1.8m_bpm3.338_id433807_000000_SAXS.tif'],\n",
       "   ['IB_kaptom_pos1_13.50500keV_wa20.0_sdd1.8m_bpm3.344_id433762_000000_SAXS.tif',\n",
       "    'IB_kaptom_pos1_13.50500keV_wa40.0_sdd1.8m_bpm3.339_id433808_000000_SAXS.tif'],\n",
       "   ['IB_kaptom_pos1_13.51000keV_wa20.0_sdd1.8m_bpm3.341_id433763_000000_SAXS.tif',\n",
       "    'IB_kaptom_pos1_13.51000keV_wa40.0_sdd1.8m_bpm3.336_id433809_000000_SAXS.tif'],\n",
       "   ['IB_kaptom_pos1_13.51500keV_wa20.0_sdd1.8m_bpm03.34_id433764_000000_SAXS.tif',\n",
       "    'IB_kaptom_pos1_13.51500keV_wa40.0_sdd1.8m_bpm3.335_id433810_000000_SAXS.tif'],\n",
       "   ['IB_kaptom_pos1_13.52000keV_wa20.0_sdd1.8m_bpm03.34_id433765_000000_SAXS.tif',\n",
       "    'IB_kaptom_pos1_13.52000keV_wa40.0_sdd1.8m_bpm3.328_id433811_000000_SAXS.tif'],\n",
       "   ['IB_kaptom_pos1_13.52500keV_wa20.0_sdd1.8m_bpm3.327_id433766_000000_SAXS.tif',\n",
       "    'IB_kaptom_pos1_13.52500keV_wa40.0_sdd1.8m_bpm03.32_id433812_000000_SAXS.tif'],\n",
       "   ['IB_kaptom_pos1_13.53000keV_wa20.0_sdd1.8m_bpm3.319_id433767_000000_SAXS.tif',\n",
       "    'IB_kaptom_pos1_13.53000keV_wa40.0_sdd1.8m_bpm3.311_id433813_000000_SAXS.tif'],\n",
       "   ['IB_kaptom_pos1_13.53500keV_wa20.0_sdd1.8m_bpm3.284_id433768_000000_SAXS.tif',\n",
       "    'IB_kaptom_pos1_13.53500keV_wa40.0_sdd1.8m_bpm3.281_id433814_000000_SAXS.tif'],\n",
       "   ['IB_kaptom_pos1_13.54000keV_wa20.0_sdd1.8m_bpm3.295_id433769_000000_SAXS.tif',\n",
       "    'IB_kaptom_pos1_13.54000keV_wa40.0_sdd1.8m_bpm003.3_id433815_000000_SAXS.tif'],\n",
       "   ['IB_kaptom_pos1_13.54501keV_wa20.0_sdd1.8m_bpm3.273_id433770_000000_SAXS.tif',\n",
       "    'IB_kaptom_pos1_13.54501keV_wa40.0_sdd1.8m_bpm3.276_id433816_000000_SAXS.tif'],\n",
       "   ['IB_kaptom_pos1_13.55000keV_wa20.0_sdd1.8m_bpm3.277_id433771_000000_SAXS.tif',\n",
       "    'IB_kaptom_pos1_13.55000keV_wa40.0_sdd1.8m_bpm3.287_id433817_000000_SAXS.tif']]],\n",
       " 'IB_LiBr_sol_no_solv-b_pos1_': [[['IB_LiBr_sol_no_solv-b_pos1_13.45000keV_wa20.0_sdd1.8m_bpm3.427_id433864_000000_SAXS.tif',\n",
       "    'IB_LiBr_sol_no_solv-b_pos1_13.45000keV_wa40.0_sdd1.8m_bpm3.429_id433910_000000_SAXS.tif'],\n",
       "   ['IB_LiBr_sol_no_solv-b_pos1_13.45500keV_wa20.0_sdd1.8m_bpm3.417_id433865_000000_SAXS.tif',\n",
       "    'IB_LiBr_sol_no_solv-b_pos1_13.45500keV_wa40.0_sdd1.8m_bpm3.424_id433911_000000_SAXS.tif'],\n",
       "   ['IB_LiBr_sol_no_solv-b_pos1_13.46000keV_wa20.0_sdd1.8m_bpm3.411_id433866_000000_SAXS.tif',\n",
       "    'IB_LiBr_sol_no_solv-b_pos1_13.46000keV_wa40.0_sdd1.8m_bpm3.406_id433912_000000_SAXS.tif'],\n",
       "   ['IB_LiBr_sol_no_solv-b_pos1_13.46099keV_wa20.0_sdd1.8m_bpm3.407_id433867_000000_SAXS.tif',\n",
       "    'IB_LiBr_sol_no_solv-b_pos1_13.46099keV_wa40.0_sdd1.8m_bpm3.406_id433913_000000_SAXS.tif'],\n",
       "   ['IB_LiBr_sol_no_solv-b_pos1_13.46201keV_wa20.0_sdd1.8m_bpm3.409_id433868_000000_SAXS.tif',\n",
       "    'IB_LiBr_sol_no_solv-b_pos1_13.46201keV_wa40.0_sdd1.8m_bpm3.403_id433914_000000_SAXS.tif'],\n",
       "   ['IB_LiBr_sol_no_solv-b_pos1_13.46301keV_wa20.0_sdd1.8m_bpm3.402_id433869_000000_SAXS.tif',\n",
       "    'IB_LiBr_sol_no_solv-b_pos1_13.46301keV_wa40.0_sdd1.8m_bpm3.401_id433915_000000_SAXS.tif'],\n",
       "   ['IB_LiBr_sol_no_solv-b_pos1_13.46401keV_wa20.0_sdd1.8m_bpm3.398_id433870_000000_SAXS.tif',\n",
       "    'IB_LiBr_sol_no_solv-b_pos1_13.46401keV_wa40.0_sdd1.8m_bpm3.411_id433916_000000_SAXS.tif'],\n",
       "   ['IB_LiBr_sol_no_solv-b_pos1_13.46501keV_wa20.0_sdd1.8m_bpm3.397_id433871_000000_SAXS.tif',\n",
       "    'IB_LiBr_sol_no_solv-b_pos1_13.46501keV_wa40.0_sdd1.8m_bpm03.41_id433917_000000_SAXS.tif'],\n",
       "   ['IB_LiBr_sol_no_solv-b_pos1_13.46550keV_wa20.0_sdd1.8m_bpm3.392_id433872_000000_SAXS.tif',\n",
       "    'IB_LiBr_sol_no_solv-b_pos1_13.46550keV_wa40.0_sdd1.8m_bpm3.407_id433918_000000_SAXS.tif'],\n",
       "   ['IB_LiBr_sol_no_solv-b_pos1_13.46599keV_wa20.0_sdd1.8m_bpm3.394_id433873_000000_SAXS.tif',\n",
       "    'IB_LiBr_sol_no_solv-b_pos1_13.46599keV_wa40.0_sdd1.8m_bpm3.403_id433919_000000_SAXS.tif'],\n",
       "   ['IB_LiBr_sol_no_solv-b_pos1_13.46650keV_wa20.0_sdd1.8m_bpm3.389_id433874_000000_SAXS.tif',\n",
       "    'IB_LiBr_sol_no_solv-b_pos1_13.46650keV_wa40.0_sdd1.8m_bpm003.4_id433920_000000_SAXS.tif'],\n",
       "   ['IB_LiBr_sol_no_solv-b_pos1_13.46699keV_wa20.0_sdd1.8m_bpm3.385_id433875_000000_SAXS.tif',\n",
       "    'IB_LiBr_sol_no_solv-b_pos1_13.46699keV_wa40.0_sdd1.8m_bpm3.398_id433921_000000_SAXS.tif'],\n",
       "   ['IB_LiBr_sol_no_solv-b_pos1_13.46750keV_wa20.0_sdd1.8m_bpm3.395_id433876_000000_SAXS.tif',\n",
       "    'IB_LiBr_sol_no_solv-b_pos1_13.46750keV_wa40.0_sdd1.8m_bpm3.394_id433922_000000_SAXS.tif'],\n",
       "   ['IB_LiBr_sol_no_solv-b_pos1_13.46800keV_wa20.0_sdd1.8m_bpm3.393_id433877_000000_SAXS.tif',\n",
       "    'IB_LiBr_sol_no_solv-b_pos1_13.46800keV_wa40.0_sdd1.8m_bpm3.391_id433923_000000_SAXS.tif'],\n",
       "   ['IB_LiBr_sol_no_solv-b_pos1_13.46850keV_wa20.0_sdd1.8m_bpm3.391_id433878_000000_SAXS.tif',\n",
       "    'IB_LiBr_sol_no_solv-b_pos1_13.46850keV_wa40.0_sdd1.8m_bpm3.388_id433924_000000_SAXS.tif'],\n",
       "   ['IB_LiBr_sol_no_solv-b_pos1_13.46900keV_wa20.0_sdd1.8m_bpm3.389_id433879_000000_SAXS.tif',\n",
       "    'IB_LiBr_sol_no_solv-b_pos1_13.46900keV_wa40.0_sdd1.8m_bpm3.384_id433925_000000_SAXS.tif'],\n",
       "   ['IB_LiBr_sol_no_solv-b_pos1_13.46950keV_wa20.0_sdd1.8m_bpm3.389_id433880_000000_SAXS.tif',\n",
       "    'IB_LiBr_sol_no_solv-b_pos1_13.46950keV_wa40.0_sdd1.8m_bpm3.383_id433926_000000_SAXS.tif'],\n",
       "   ['IB_LiBr_sol_no_solv-b_pos1_13.47000keV_wa20.0_sdd1.8m_bpm3.384_id433881_000000_SAXS.tif',\n",
       "    'IB_LiBr_sol_no_solv-b_pos1_13.47000keV_wa40.0_sdd1.8m_bpm3.377_id433927_000000_SAXS.tif'],\n",
       "   ['IB_LiBr_sol_no_solv-b_pos1_13.47050keV_wa20.0_sdd1.8m_bpm3.385_id433882_000000_SAXS.tif',\n",
       "    'IB_LiBr_sol_no_solv-b_pos1_13.47050keV_wa40.0_sdd1.8m_bpm3.374_id433928_000000_SAXS.tif'],\n",
       "   ['IB_LiBr_sol_no_solv-b_pos1_13.47100keV_wa20.0_sdd1.8m_bpm3.381_id433883_000000_SAXS.tif',\n",
       "    'IB_LiBr_sol_no_solv-b_pos1_13.47100keV_wa40.0_sdd1.8m_bpm3.374_id433929_000000_SAXS.tif'],\n",
       "   ['IB_LiBr_sol_no_solv-b_pos1_13.47150keV_wa20.0_sdd1.8m_bpm3.379_id433884_000000_SAXS.tif',\n",
       "    'IB_LiBr_sol_no_solv-b_pos1_13.47150keV_wa40.0_sdd1.8m_bpm3.373_id433930_000000_SAXS.tif'],\n",
       "   ['IB_LiBr_sol_no_solv-b_pos1_13.47200keV_wa20.0_sdd1.8m_bpm3.377_id433885_000000_SAXS.tif',\n",
       "    'IB_LiBr_sol_no_solv-b_pos1_13.47200keV_wa40.0_sdd1.8m_bpm3.366_id433931_000000_SAXS.tif'],\n",
       "   ['IB_LiBr_sol_no_solv-b_pos1_13.47251keV_wa20.0_sdd1.8m_bpm3.371_id433886_000000_SAXS.tif',\n",
       "    'IB_LiBr_sol_no_solv-b_pos1_13.47251keV_wa40.0_sdd1.8m_bpm3.377_id433932_000000_SAXS.tif'],\n",
       "   ['IB_LiBr_sol_no_solv-b_pos1_13.47300keV_wa20.0_sdd1.8m_bpm3.372_id433887_000000_SAXS.tif',\n",
       "    'IB_LiBr_sol_no_solv-b_pos1_13.47300keV_wa40.0_sdd1.8m_bpm3.374_id433933_000000_SAXS.tif'],\n",
       "   ['IB_LiBr_sol_no_solv-b_pos1_13.47350keV_wa20.0_sdd1.8m_bpm3.366_id433888_000000_SAXS.tif',\n",
       "    'IB_LiBr_sol_no_solv-b_pos1_13.47350keV_wa40.0_sdd1.8m_bpm3.366_id433934_000000_SAXS.tif'],\n",
       "   ['IB_LiBr_sol_no_solv-b_pos1_13.47400keV_wa20.0_sdd1.8m_bpm3.362_id433889_000000_SAXS.tif',\n",
       "    'IB_LiBr_sol_no_solv-b_pos1_13.47400keV_wa40.0_sdd1.8m_bpm3.364_id433935_000000_SAXS.tif'],\n",
       "   ['IB_LiBr_sol_no_solv-b_pos1_13.47450keV_wa20.0_sdd1.8m_bpm3.356_id433890_000000_SAXS.tif',\n",
       "    'IB_LiBr_sol_no_solv-b_pos1_13.47450keV_wa40.0_sdd1.8m_bpm3.364_id433936_000000_SAXS.tif'],\n",
       "   ['IB_LiBr_sol_no_solv-b_pos1_13.47500keV_wa20.0_sdd1.8m_bpm3.367_id433891_000000_SAXS.tif',\n",
       "    'IB_LiBr_sol_no_solv-b_pos1_13.47500keV_wa40.0_sdd1.8m_bpm3.364_id433937_000000_SAXS.tif'],\n",
       "   ['IB_LiBr_sol_no_solv-b_pos1_13.47700keV_wa20.0_sdd1.8m_bpm3.374_id433892_000000_SAXS.tif',\n",
       "    'IB_LiBr_sol_no_solv-b_pos1_13.47700keV_wa40.0_sdd1.8m_bpm3.364_id433938_000000_SAXS.tif'],\n",
       "   ['IB_LiBr_sol_no_solv-b_pos1_13.47900keV_wa20.0_sdd1.8m_bpm3.362_id433893_000000_SAXS.tif',\n",
       "    'IB_LiBr_sol_no_solv-b_pos1_13.47900keV_wa40.0_sdd1.8m_bpm3.355_id433939_000000_SAXS.tif'],\n",
       "   ['IB_LiBr_sol_no_solv-b_pos1_13.48100keV_wa20.0_sdd1.8m_bpm3.358_id433894_000000_SAXS.tif',\n",
       "    'IB_LiBr_sol_no_solv-b_pos1_13.48100keV_wa40.0_sdd1.8m_bpm3.349_id433940_000000_SAXS.tif'],\n",
       "   ['IB_LiBr_sol_no_solv-b_pos1_13.48300keV_wa20.0_sdd1.8m_bpm3.364_id433895_000000_SAXS.tif',\n",
       "    'IB_LiBr_sol_no_solv-b_pos1_13.48300keV_wa40.0_sdd1.8m_bpm3.358_id433941_000000_SAXS.tif'],\n",
       "   ['IB_LiBr_sol_no_solv-b_pos1_13.48500keV_wa20.0_sdd1.8m_bpm3.359_id433896_000000_SAXS.tif',\n",
       "    'IB_LiBr_sol_no_solv-b_pos1_13.48500keV_wa40.0_sdd1.8m_bpm3.356_id433942_000000_SAXS.tif'],\n",
       "   ['IB_LiBr_sol_no_solv-b_pos1_13.49000keV_wa20.0_sdd1.8m_bpm3.358_id433897_000000_SAXS.tif',\n",
       "    'IB_LiBr_sol_no_solv-b_pos1_13.49000keV_wa40.0_sdd1.8m_bpm3.347_id433943_000000_SAXS.tif'],\n",
       "   ['IB_LiBr_sol_no_solv-b_pos1_13.49500keV_wa20.0_sdd1.8m_bpm03.35_id433898_000000_SAXS.tif',\n",
       "    'IB_LiBr_sol_no_solv-b_pos1_13.49500keV_wa40.0_sdd1.8m_bpm3.344_id433944_000000_SAXS.tif'],\n",
       "   ['IB_LiBr_sol_no_solv-b_pos1_13.50000keV_wa20.0_sdd1.8m_bpm3.345_id433899_000000_SAXS.tif',\n",
       "    'IB_LiBr_sol_no_solv-b_pos1_13.50000keV_wa40.0_sdd1.8m_bpm3.341_id433945_000000_SAXS.tif'],\n",
       "   ['IB_LiBr_sol_no_solv-b_pos1_13.50500keV_wa20.0_sdd1.8m_bpm3.346_id433900_000000_SAXS.tif',\n",
       "    'IB_LiBr_sol_no_solv-b_pos1_13.50500keV_wa40.0_sdd1.8m_bpm3.342_id433946_000000_SAXS.tif'],\n",
       "   ['IB_LiBr_sol_no_solv-b_pos1_13.51000keV_wa20.0_sdd1.8m_bpm3.344_id433901_000000_SAXS.tif',\n",
       "    'IB_LiBr_sol_no_solv-b_pos1_13.51000keV_wa40.0_sdd1.8m_bpm3.338_id433947_000000_SAXS.tif'],\n",
       "   ['IB_LiBr_sol_no_solv-b_pos1_13.51500keV_wa20.0_sdd1.8m_bpm3.344_id433902_000000_SAXS.tif',\n",
       "    'IB_LiBr_sol_no_solv-b_pos1_13.51500keV_wa40.0_sdd1.8m_bpm3.349_id433948_000000_SAXS.tif'],\n",
       "   ['IB_LiBr_sol_no_solv-b_pos1_13.52000keV_wa20.0_sdd1.8m_bpm3.336_id433903_000000_SAXS.tif',\n",
       "    'IB_LiBr_sol_no_solv-b_pos1_13.52000keV_wa40.0_sdd1.8m_bpm3.344_id433949_000000_SAXS.tif'],\n",
       "   ['IB_LiBr_sol_no_solv-b_pos1_13.52500keV_wa20.0_sdd1.8m_bpm3.331_id433904_000000_SAXS.tif',\n",
       "    'IB_LiBr_sol_no_solv-b_pos1_13.52500keV_wa40.0_sdd1.8m_bpm3.336_id433950_000000_SAXS.tif'],\n",
       "   ['IB_LiBr_sol_no_solv-b_pos1_13.53000keV_wa20.0_sdd1.8m_bpm03.32_id433905_000000_SAXS.tif',\n",
       "    'IB_LiBr_sol_no_solv-b_pos1_13.53000keV_wa40.0_sdd1.8m_bpm3.324_id433951_000000_SAXS.tif'],\n",
       "   ['IB_LiBr_sol_no_solv-b_pos1_13.53500keV_wa20.0_sdd1.8m_bpm3.284_id433906_000000_SAXS.tif',\n",
       "    'IB_LiBr_sol_no_solv-b_pos1_13.53500keV_wa40.0_sdd1.8m_bpm3.288_id433952_000000_SAXS.tif'],\n",
       "   ['IB_LiBr_sol_no_solv-b_pos1_13.54000keV_wa20.0_sdd1.8m_bpm3.312_id433907_000000_SAXS.tif',\n",
       "    'IB_LiBr_sol_no_solv-b_pos1_13.54000keV_wa40.0_sdd1.8m_bpm3.301_id433953_000000_SAXS.tif'],\n",
       "   ['IB_LiBr_sol_no_solv-b_pos1_13.54501keV_wa20.0_sdd1.8m_bpm3.289_id433908_000000_SAXS.tif',\n",
       "    'IB_LiBr_sol_no_solv-b_pos1_13.54501keV_wa40.0_sdd1.8m_bpm3.279_id433954_000000_SAXS.tif'],\n",
       "   ['IB_LiBr_sol_no_solv-b_pos1_13.55000keV_wa20.0_sdd1.8m_bpm3.298_id433909_000000_SAXS.tif',\n",
       "    'IB_LiBr_sol_no_solv-b_pos1_13.55000keV_wa40.0_sdd1.8m_bpm03.29_id433955_000000_SAXS.tif']]],\n",
       " 'IB_NaBr_sol_no_solv-b_pos1_': [[['IB_NaBr_sol_no_solv-b_pos1_13.45000keV_wa20.0_sdd1.8m_bpm3.428_id434002_000000_SAXS.tif',\n",
       "    'IB_NaBr_sol_no_solv-b_pos1_13.45000keV_wa40.0_sdd1.8m_bpm3.431_id434048_000000_SAXS.tif'],\n",
       "   ['IB_NaBr_sol_no_solv-b_pos1_13.45500keV_wa20.0_sdd1.8m_bpm03.42_id434003_000000_SAXS.tif',\n",
       "    'IB_NaBr_sol_no_solv-b_pos1_13.45500keV_wa40.0_sdd1.8m_bpm3.426_id434049_000000_SAXS.tif'],\n",
       "   ['IB_NaBr_sol_no_solv-b_pos1_13.46000keV_wa20.0_sdd1.8m_bpm03.41_id434004_000000_SAXS.tif',\n",
       "    'IB_NaBr_sol_no_solv-b_pos1_13.46000keV_wa40.0_sdd1.8m_bpm3.418_id434050_000000_SAXS.tif'],\n",
       "   ['IB_NaBr_sol_no_solv-b_pos1_13.46099keV_wa20.0_sdd1.8m_bpm3.399_id434005_000000_SAXS.tif',\n",
       "    'IB_NaBr_sol_no_solv-b_pos1_13.46099keV_wa40.0_sdd1.8m_bpm3.413_id434051_000000_SAXS.tif'],\n",
       "   ['IB_NaBr_sol_no_solv-b_pos1_13.46201keV_wa20.0_sdd1.8m_bpm3.398_id434006_000000_SAXS.tif',\n",
       "    'IB_NaBr_sol_no_solv-b_pos1_13.46201keV_wa40.0_sdd1.8m_bpm3.408_id434052_000000_SAXS.tif'],\n",
       "   ['IB_NaBr_sol_no_solv-b_pos1_13.46301keV_wa20.0_sdd1.8m_bpm3.393_id434007_000000_SAXS.tif',\n",
       "    'IB_NaBr_sol_no_solv-b_pos1_13.46301keV_wa40.0_sdd1.8m_bpm3.407_id434053_000000_SAXS.tif'],\n",
       "   ['IB_NaBr_sol_no_solv-b_pos1_13.46401keV_wa20.0_sdd1.8m_bpm3.403_id434008_000000_SAXS.tif',\n",
       "    'IB_NaBr_sol_no_solv-b_pos1_13.46401keV_wa40.0_sdd1.8m_bpm3.402_id434054_000000_SAXS.tif'],\n",
       "   ['IB_NaBr_sol_no_solv-b_pos1_13.46501keV_wa20.0_sdd1.8m_bpm3.403_id434009_000000_SAXS.tif',\n",
       "    'IB_NaBr_sol_no_solv-b_pos1_13.46501keV_wa40.0_sdd1.8m_bpm3.401_id434055_000000_SAXS.tif'],\n",
       "   ['IB_NaBr_sol_no_solv-b_pos1_13.46550keV_wa20.0_sdd1.8m_bpm3.396_id434010_000000_SAXS.tif',\n",
       "    'IB_NaBr_sol_no_solv-b_pos1_13.46550keV_wa40.0_sdd1.8m_bpm3.396_id434056_000000_SAXS.tif'],\n",
       "   ['IB_NaBr_sol_no_solv-b_pos1_13.46599keV_wa20.0_sdd1.8m_bpm3.395_id434011_000000_SAXS.tif',\n",
       "    'IB_NaBr_sol_no_solv-b_pos1_13.46599keV_wa40.0_sdd1.8m_bpm3.398_id434057_000000_SAXS.tif'],\n",
       "   ['IB_NaBr_sol_no_solv-b_pos1_13.46650keV_wa20.0_sdd1.8m_bpm3.398_id434012_000000_SAXS.tif',\n",
       "    'IB_NaBr_sol_no_solv-b_pos1_13.46650keV_wa40.0_sdd1.8m_bpm3.393_id434058_000000_SAXS.tif'],\n",
       "   ['IB_NaBr_sol_no_solv-b_pos1_13.46699keV_wa20.0_sdd1.8m_bpm3.391_id434013_000000_SAXS.tif',\n",
       "    'IB_NaBr_sol_no_solv-b_pos1_13.46699keV_wa40.0_sdd1.8m_bpm03.39_id434059_000000_SAXS.tif'],\n",
       "   ['IB_NaBr_sol_no_solv-b_pos1_13.46750keV_wa20.0_sdd1.8m_bpm3.389_id434014_000000_SAXS.tif',\n",
       "    'IB_NaBr_sol_no_solv-b_pos1_13.46750keV_wa40.0_sdd1.8m_bpm3.385_id434060_000000_SAXS.tif'],\n",
       "   ['IB_NaBr_sol_no_solv-b_pos1_13.46800keV_wa20.0_sdd1.8m_bpm3.388_id434015_000000_SAXS.tif',\n",
       "    'IB_NaBr_sol_no_solv-b_pos1_13.46800keV_wa40.0_sdd1.8m_bpm3.381_id434061_000000_SAXS.tif'],\n",
       "   ['IB_NaBr_sol_no_solv-b_pos1_13.46850keV_wa20.0_sdd1.8m_bpm3.385_id434016_000000_SAXS.tif',\n",
       "    'IB_NaBr_sol_no_solv-b_pos1_13.46850keV_wa40.0_sdd1.8m_bpm3.385_id434062_000000_SAXS.tif'],\n",
       "   ['IB_NaBr_sol_no_solv-b_pos1_13.46900keV_wa20.0_sdd1.8m_bpm3.381_id434017_000000_SAXS.tif',\n",
       "    'IB_NaBr_sol_no_solv-b_pos1_13.46900keV_wa40.0_sdd1.8m_bpm3.378_id434063_000000_SAXS.tif'],\n",
       "   ['IB_NaBr_sol_no_solv-b_pos1_13.46950keV_wa20.0_sdd1.8m_bpm3.377_id434018_000000_SAXS.tif',\n",
       "    'IB_NaBr_sol_no_solv-b_pos1_13.46950keV_wa40.0_sdd1.8m_bpm3.388_id434064_000000_SAXS.tif'],\n",
       "   ['IB_NaBr_sol_no_solv-b_pos1_13.47000keV_wa20.0_sdd1.8m_bpm3.381_id434019_000000_SAXS.tif',\n",
       "    'IB_NaBr_sol_no_solv-b_pos1_13.47000keV_wa40.0_sdd1.8m_bpm3.383_id434065_000000_SAXS.tif'],\n",
       "   ['IB_NaBr_sol_no_solv-b_pos1_13.47050keV_wa20.0_sdd1.8m_bpm3.373_id434020_000000_SAXS.tif',\n",
       "    'IB_NaBr_sol_no_solv-b_pos1_13.47050keV_wa40.0_sdd1.8m_bpm03.38_id434066_000000_SAXS.tif'],\n",
       "   ['IB_NaBr_sol_no_solv-b_pos1_13.47100keV_wa20.0_sdd1.8m_bpm03.37_id434021_000000_SAXS.tif',\n",
       "    'IB_NaBr_sol_no_solv-b_pos1_13.47100keV_wa40.0_sdd1.8m_bpm3.381_id434067_000000_SAXS.tif'],\n",
       "   ['IB_NaBr_sol_no_solv-b_pos1_13.47150keV_wa20.0_sdd1.8m_bpm3.369_id434022_000000_SAXS.tif',\n",
       "    'IB_NaBr_sol_no_solv-b_pos1_13.47150keV_wa40.0_sdd1.8m_bpm3.378_id434068_000000_SAXS.tif'],\n",
       "   ['IB_NaBr_sol_no_solv-b_pos1_13.47200keV_wa20.0_sdd1.8m_bpm03.38_id434023_000000_SAXS.tif',\n",
       "    'IB_NaBr_sol_no_solv-b_pos1_13.47200keV_wa40.0_sdd1.8m_bpm3.374_id434069_000000_SAXS.tif'],\n",
       "   ['IB_NaBr_sol_no_solv-b_pos1_13.47251keV_wa20.0_sdd1.8m_bpm3.372_id434024_000000_SAXS.tif',\n",
       "    'IB_NaBr_sol_no_solv-b_pos1_13.47251keV_wa40.0_sdd1.8m_bpm3.369_id434070_000000_SAXS.tif'],\n",
       "   ['IB_NaBr_sol_no_solv-b_pos1_13.47300keV_wa20.0_sdd1.8m_bpm3.372_id434025_000000_SAXS.tif',\n",
       "    'IB_NaBr_sol_no_solv-b_pos1_13.47300keV_wa40.0_sdd1.8m_bpm3.365_id434071_000000_SAXS.tif'],\n",
       "   ['IB_NaBr_sol_no_solv-b_pos1_13.47350keV_wa20.0_sdd1.8m_bpm3.364_id434026_000000_SAXS.tif',\n",
       "    'IB_NaBr_sol_no_solv-b_pos1_13.47350keV_wa40.0_sdd1.8m_bpm03.36_id434072_000000_SAXS.tif'],\n",
       "   ['IB_NaBr_sol_no_solv-b_pos1_13.47400keV_wa20.0_sdd1.8m_bpm3.364_id434027_000000_SAXS.tif',\n",
       "    'IB_NaBr_sol_no_solv-b_pos1_13.47400keV_wa40.0_sdd1.8m_bpm3.357_id434073_000000_SAXS.tif'],\n",
       "   ['IB_NaBr_sol_no_solv-b_pos1_13.47450keV_wa20.0_sdd1.8m_bpm03.36_id434028_000000_SAXS.tif',\n",
       "    'IB_NaBr_sol_no_solv-b_pos1_13.47450keV_wa40.0_sdd1.8m_bpm3.353_id434074_000000_SAXS.tif'],\n",
       "   ['IB_NaBr_sol_no_solv-b_pos1_13.47500keV_wa20.0_sdd1.8m_bpm3.359_id434029_000000_SAXS.tif',\n",
       "    'IB_NaBr_sol_no_solv-b_pos1_13.47500keV_wa40.0_sdd1.8m_bpm3.353_id434075_000000_SAXS.tif'],\n",
       "   ['IB_NaBr_sol_no_solv-b_pos1_13.47700keV_wa20.0_sdd1.8m_bpm3.364_id434030_000000_SAXS.tif',\n",
       "    'IB_NaBr_sol_no_solv-b_pos1_13.47700keV_wa40.0_sdd1.8m_bpm3.357_id434076_000000_SAXS.tif'],\n",
       "   ['IB_NaBr_sol_no_solv-b_pos1_13.47900keV_wa20.0_sdd1.8m_bpm3.356_id434031_000000_SAXS.tif',\n",
       "    'IB_NaBr_sol_no_solv-b_pos1_13.47900keV_wa40.0_sdd1.8m_bpm03.35_id434077_000000_SAXS.tif'],\n",
       "   ['IB_NaBr_sol_no_solv-b_pos1_13.48100keV_wa20.0_sdd1.8m_bpm3.347_id434032_000000_SAXS.tif',\n",
       "    'IB_NaBr_sol_no_solv-b_pos1_13.48100keV_wa40.0_sdd1.8m_bpm03.34_id434078_000000_SAXS.tif'],\n",
       "   ['IB_NaBr_sol_no_solv-b_pos1_13.48300keV_wa20.0_sdd1.8m_bpm3.351_id434033_000000_SAXS.tif',\n",
       "    'IB_NaBr_sol_no_solv-b_pos1_13.48300keV_wa40.0_sdd1.8m_bpm3.346_id434079_000000_SAXS.tif'],\n",
       "   ['IB_NaBr_sol_no_solv-b_pos1_13.48500keV_wa20.0_sdd1.8m_bpm3.351_id434034_000000_SAXS.tif',\n",
       "    'IB_NaBr_sol_no_solv-b_pos1_13.48500keV_wa40.0_sdd1.8m_bpm3.353_id434080_000000_SAXS.tif'],\n",
       "   ['IB_NaBr_sol_no_solv-b_pos1_13.49000keV_wa20.0_sdd1.8m_bpm3.347_id434035_000000_SAXS.tif',\n",
       "    'IB_NaBr_sol_no_solv-b_pos1_13.49000keV_wa40.0_sdd1.8m_bpm3.355_id434081_000000_SAXS.tif'],\n",
       "   ['IB_NaBr_sol_no_solv-b_pos1_13.49500keV_wa20.0_sdd1.8m_bpm3.341_id434036_000000_SAXS.tif',\n",
       "    'IB_NaBr_sol_no_solv-b_pos1_13.49500keV_wa40.0_sdd1.8m_bpm3.349_id434082_000000_SAXS.tif'],\n",
       "   ['IB_NaBr_sol_no_solv-b_pos1_13.50000keV_wa20.0_sdd1.8m_bpm3.336_id434037_000000_SAXS.tif',\n",
       "    'IB_NaBr_sol_no_solv-b_pos1_13.50000keV_wa40.0_sdd1.8m_bpm3.344_id434083_000000_SAXS.tif'],\n",
       "   ['IB_NaBr_sol_no_solv-b_pos1_13.50500keV_wa20.0_sdd1.8m_bpm3.338_id434038_000000_SAXS.tif',\n",
       "    'IB_NaBr_sol_no_solv-b_pos1_13.50500keV_wa40.0_sdd1.8m_bpm3.344_id434084_000000_SAXS.tif'],\n",
       "   ['IB_NaBr_sol_no_solv-b_pos1_13.51000keV_wa20.0_sdd1.8m_bpm3.353_id434039_000000_SAXS.tif',\n",
       "    'IB_NaBr_sol_no_solv-b_pos1_13.51000keV_wa40.0_sdd1.8m_bpm3.346_id434085_000000_SAXS.tif'],\n",
       "   ['IB_NaBr_sol_no_solv-b_pos1_13.51500keV_wa20.0_sdd1.8m_bpm3.348_id434040_000000_SAXS.tif',\n",
       "    'IB_NaBr_sol_no_solv-b_pos1_13.51500keV_wa40.0_sdd1.8m_bpm3.344_id434086_000000_SAXS.tif'],\n",
       "   ['IB_NaBr_sol_no_solv-b_pos1_13.52000keV_wa20.0_sdd1.8m_bpm03.34_id434041_000000_SAXS.tif',\n",
       "    'IB_NaBr_sol_no_solv-b_pos1_13.52000keV_wa40.0_sdd1.8m_bpm03.34_id434087_000000_SAXS.tif'],\n",
       "   ['IB_NaBr_sol_no_solv-b_pos1_13.52500keV_wa20.0_sdd1.8m_bpm3.335_id434042_000000_SAXS.tif',\n",
       "    'IB_NaBr_sol_no_solv-b_pos1_13.52500keV_wa40.0_sdd1.8m_bpm3.329_id434088_000000_SAXS.tif'],\n",
       "   ['IB_NaBr_sol_no_solv-b_pos1_13.53000keV_wa20.0_sdd1.8m_bpm3.324_id434043_000000_SAXS.tif',\n",
       "    'IB_NaBr_sol_no_solv-b_pos1_13.53000keV_wa40.0_sdd1.8m_bpm3.322_id434089_000000_SAXS.tif'],\n",
       "   ['IB_NaBr_sol_no_solv-b_pos1_13.53500keV_wa20.0_sdd1.8m_bpm3.292_id434044_000000_SAXS.tif',\n",
       "    'IB_NaBr_sol_no_solv-b_pos1_13.53500keV_wa40.0_sdd1.8m_bpm3.287_id434090_000000_SAXS.tif'],\n",
       "   ['IB_NaBr_sol_no_solv-b_pos1_13.54000keV_wa20.0_sdd1.8m_bpm3.307_id434045_000000_SAXS.tif',\n",
       "    'IB_NaBr_sol_no_solv-b_pos1_13.54000keV_wa40.0_sdd1.8m_bpm3.302_id434091_000000_SAXS.tif'],\n",
       "   ['IB_NaBr_sol_no_solv-b_pos1_13.54501keV_wa20.0_sdd1.8m_bpm3.279_id434046_000000_SAXS.tif',\n",
       "    'IB_NaBr_sol_no_solv-b_pos1_13.54501keV_wa40.0_sdd1.8m_bpm3.279_id434092_000000_SAXS.tif'],\n",
       "   ['IB_NaBr_sol_no_solv-b_pos1_13.55000keV_wa20.0_sdd1.8m_bpm03.29_id434047_000000_SAXS.tif',\n",
       "    'IB_NaBr_sol_no_solv-b_pos1_13.55000keV_wa40.0_sdd1.8m_bpm3.285_id434093_000000_SAXS.tif']]],\n",
       " 'IB_KBr_sol_no_solv-b_pos1_': [[['IB_KBr_sol_no_solv-b_pos1_13.45000keV_wa20.0_sdd1.8m_bpm3.426_id434140_000000_SAXS.tif',\n",
       "    'IB_KBr_sol_no_solv-b_pos1_13.45000keV_wa40.0_sdd1.8m_bpm3.424_id434186_000000_SAXS.tif'],\n",
       "   ['IB_KBr_sol_no_solv-b_pos1_13.45500keV_wa20.0_sdd1.8m_bpm3.419_id434141_000000_SAXS.tif',\n",
       "    'IB_KBr_sol_no_solv-b_pos1_13.45500keV_wa40.0_sdd1.8m_bpm3.416_id434187_000000_SAXS.tif'],\n",
       "   ['IB_KBr_sol_no_solv-b_pos1_13.46000keV_wa20.0_sdd1.8m_bpm3.406_id434142_000000_SAXS.tif',\n",
       "    'IB_KBr_sol_no_solv-b_pos1_13.46000keV_wa40.0_sdd1.8m_bpm3.409_id434188_000000_SAXS.tif'],\n",
       "   ['IB_KBr_sol_no_solv-b_pos1_13.46099keV_wa20.0_sdd1.8m_bpm3.407_id434143_000000_SAXS.tif',\n",
       "    'IB_KBr_sol_no_solv-b_pos1_13.46099keV_wa40.0_sdd1.8m_bpm3.404_id434189_000000_SAXS.tif'],\n",
       "   ['IB_KBr_sol_no_solv-b_pos1_13.46201keV_wa20.0_sdd1.8m_bpm3.402_id434144_000000_SAXS.tif',\n",
       "    'IB_KBr_sol_no_solv-b_pos1_13.46201keV_wa40.0_sdd1.8m_bpm3.398_id434190_000000_SAXS.tif'],\n",
       "   ['IB_KBr_sol_no_solv-b_pos1_13.46301keV_wa20.0_sdd1.8m_bpm3.395_id434145_000000_SAXS.tif',\n",
       "    'IB_KBr_sol_no_solv-b_pos1_13.46301keV_wa40.0_sdd1.8m_bpm03.39_id434191_000000_SAXS.tif'],\n",
       "   ['IB_KBr_sol_no_solv-b_pos1_13.46401keV_wa20.0_sdd1.8m_bpm3.391_id434146_000000_SAXS.tif',\n",
       "    'IB_KBr_sol_no_solv-b_pos1_13.46401keV_wa40.0_sdd1.8m_bpm3.389_id434192_000000_SAXS.tif'],\n",
       "   ['IB_KBr_sol_no_solv-b_pos1_13.46501keV_wa20.0_sdd1.8m_bpm3.387_id434147_000000_SAXS.tif',\n",
       "    'IB_KBr_sol_no_solv-b_pos1_13.46501keV_wa40.0_sdd1.8m_bpm3.388_id434193_000000_SAXS.tif'],\n",
       "   ['IB_KBr_sol_no_solv-b_pos1_13.46550keV_wa20.0_sdd1.8m_bpm3.389_id434148_000000_SAXS.tif',\n",
       "    'IB_KBr_sol_no_solv-b_pos1_13.46550keV_wa40.0_sdd1.8m_bpm3.386_id434194_000000_SAXS.tif'],\n",
       "   ['IB_KBr_sol_no_solv-b_pos1_13.46599keV_wa20.0_sdd1.8m_bpm3.385_id434149_000000_SAXS.tif',\n",
       "    'IB_KBr_sol_no_solv-b_pos1_13.46599keV_wa40.0_sdd1.8m_bpm3.384_id434195_000000_SAXS.tif'],\n",
       "   ['IB_KBr_sol_no_solv-b_pos1_13.46650keV_wa20.0_sdd1.8m_bpm3.384_id434150_000000_SAXS.tif',\n",
       "    'IB_KBr_sol_no_solv-b_pos1_13.46650keV_wa40.0_sdd1.8m_bpm3.395_id434196_000000_SAXS.tif'],\n",
       "   ['IB_KBr_sol_no_solv-b_pos1_13.46699keV_wa20.0_sdd1.8m_bpm3.386_id434151_000000_SAXS.tif',\n",
       "    'IB_KBr_sol_no_solv-b_pos1_13.46699keV_wa40.0_sdd1.8m_bpm3.388_id434197_000000_SAXS.tif'],\n",
       "   ['IB_KBr_sol_no_solv-b_pos1_13.46750keV_wa20.0_sdd1.8m_bpm3.382_id434152_000000_SAXS.tif',\n",
       "    'IB_KBr_sol_no_solv-b_pos1_13.46750keV_wa40.0_sdd1.8m_bpm3.388_id434198_000000_SAXS.tif'],\n",
       "   ['IB_KBr_sol_no_solv-b_pos1_13.46800keV_wa20.0_sdd1.8m_bpm3.379_id434153_000000_SAXS.tif',\n",
       "    'IB_KBr_sol_no_solv-b_pos1_13.46800keV_wa40.0_sdd1.8m_bpm3.382_id434199_000000_SAXS.tif'],\n",
       "   ['IB_KBr_sol_no_solv-b_pos1_13.46850keV_wa20.0_sdd1.8m_bpm3.375_id434154_000000_SAXS.tif',\n",
       "    'IB_KBr_sol_no_solv-b_pos1_13.46850keV_wa40.0_sdd1.8m_bpm3.382_id434200_000000_SAXS.tif'],\n",
       "   ['IB_KBr_sol_no_solv-b_pos1_13.46900keV_wa20.0_sdd1.8m_bpm3.389_id434155_000000_SAXS.tif',\n",
       "    'IB_KBr_sol_no_solv-b_pos1_13.46900keV_wa40.0_sdd1.8m_bpm3.376_id434201_000000_SAXS.tif'],\n",
       "   ['IB_KBr_sol_no_solv-b_pos1_13.46950keV_wa20.0_sdd1.8m_bpm3.385_id434156_000000_SAXS.tif',\n",
       "    'IB_KBr_sol_no_solv-b_pos1_13.46950keV_wa40.0_sdd1.8m_bpm3.377_id434202_000000_SAXS.tif'],\n",
       "   ['IB_KBr_sol_no_solv-b_pos1_13.47000keV_wa20.0_sdd1.8m_bpm3.381_id434157_000000_SAXS.tif',\n",
       "    'IB_KBr_sol_no_solv-b_pos1_13.47000keV_wa40.0_sdd1.8m_bpm3.377_id434203_000000_SAXS.tif'],\n",
       "   ['IB_KBr_sol_no_solv-b_pos1_13.47050keV_wa20.0_sdd1.8m_bpm03.38_id434158_000000_SAXS.tif',\n",
       "    'IB_KBr_sol_no_solv-b_pos1_13.47050keV_wa40.0_sdd1.8m_bpm03.37_id434204_000000_SAXS.tif'],\n",
       "   ['IB_KBr_sol_no_solv-b_pos1_13.47100keV_wa20.0_sdd1.8m_bpm3.374_id434159_000000_SAXS.tif',\n",
       "    'IB_KBr_sol_no_solv-b_pos1_13.47100keV_wa40.0_sdd1.8m_bpm3.366_id434205_000000_SAXS.tif'],\n",
       "   ['IB_KBr_sol_no_solv-b_pos1_13.47150keV_wa20.0_sdd1.8m_bpm3.371_id434160_000000_SAXS.tif',\n",
       "    'IB_KBr_sol_no_solv-b_pos1_13.47150keV_wa40.0_sdd1.8m_bpm03.37_id434206_000000_SAXS.tif'],\n",
       "   ['IB_KBr_sol_no_solv-b_pos1_13.47200keV_wa20.0_sdd1.8m_bpm3.373_id434161_000000_SAXS.tif',\n",
       "    'IB_KBr_sol_no_solv-b_pos1_13.47200keV_wa40.0_sdd1.8m_bpm3.364_id434207_000000_SAXS.tif'],\n",
       "   ['IB_KBr_sol_no_solv-b_pos1_13.47251keV_wa20.0_sdd1.8m_bpm3.371_id434162_000000_SAXS.tif',\n",
       "    'IB_KBr_sol_no_solv-b_pos1_13.47251keV_wa40.0_sdd1.8m_bpm3.364_id434208_000000_SAXS.tif'],\n",
       "   ['IB_KBr_sol_no_solv-b_pos1_13.47300keV_wa20.0_sdd1.8m_bpm3.365_id434163_000000_SAXS.tif',\n",
       "    'IB_KBr_sol_no_solv-b_pos1_13.47300keV_wa40.0_sdd1.8m_bpm3.361_id434209_000000_SAXS.tif'],\n",
       "   ['IB_KBr_sol_no_solv-b_pos1_13.47350keV_wa20.0_sdd1.8m_bpm3.358_id434164_000000_SAXS.tif',\n",
       "    'IB_KBr_sol_no_solv-b_pos1_13.47350keV_wa40.0_sdd1.8m_bpm3.357_id434210_000000_SAXS.tif'],\n",
       "   ['IB_KBr_sol_no_solv-b_pos1_13.47400keV_wa20.0_sdd1.8m_bpm3.352_id434165_000000_SAXS.tif',\n",
       "    'IB_KBr_sol_no_solv-b_pos1_13.47400keV_wa40.0_sdd1.8m_bpm03.35_id434211_000000_SAXS.tif'],\n",
       "   ['IB_KBr_sol_no_solv-b_pos1_13.47450keV_wa20.0_sdd1.8m_bpm3.357_id434166_000000_SAXS.tif',\n",
       "    'IB_KBr_sol_no_solv-b_pos1_13.47450keV_wa40.0_sdd1.8m_bpm3.361_id434212_000000_SAXS.tif'],\n",
       "   ['IB_KBr_sol_no_solv-b_pos1_13.47500keV_wa20.0_sdd1.8m_bpm3.357_id434167_000000_SAXS.tif',\n",
       "    'IB_KBr_sol_no_solv-b_pos1_13.47500keV_wa40.0_sdd1.8m_bpm03.36_id434213_000000_SAXS.tif'],\n",
       "   ['IB_KBr_sol_no_solv-b_pos1_13.47700keV_wa20.0_sdd1.8m_bpm3.356_id434168_000000_SAXS.tif',\n",
       "    'IB_KBr_sol_no_solv-b_pos1_13.47700keV_wa40.0_sdd1.8m_bpm3.362_id434214_000000_SAXS.tif'],\n",
       "   ['IB_KBr_sol_no_solv-b_pos1_13.47900keV_wa20.0_sdd1.8m_bpm3.349_id434169_000000_SAXS.tif',\n",
       "    'IB_KBr_sol_no_solv-b_pos1_13.47900keV_wa40.0_sdd1.8m_bpm3.355_id434215_000000_SAXS.tif'],\n",
       "   ['IB_KBr_sol_no_solv-b_pos1_13.48100keV_wa20.0_sdd1.8m_bpm3.342_id434170_000000_SAXS.tif',\n",
       "    'IB_KBr_sol_no_solv-b_pos1_13.48100keV_wa40.0_sdd1.8m_bpm3.351_id434216_000000_SAXS.tif'],\n",
       "   ['IB_KBr_sol_no_solv-b_pos1_13.48300keV_wa20.0_sdd1.8m_bpm3.357_id434171_000000_SAXS.tif',\n",
       "    'IB_KBr_sol_no_solv-b_pos1_13.48300keV_wa40.0_sdd1.8m_bpm03.35_id434217_000000_SAXS.tif'],\n",
       "   ['IB_KBr_sol_no_solv-b_pos1_13.48500keV_wa20.0_sdd1.8m_bpm3.355_id434172_000000_SAXS.tif',\n",
       "    'IB_KBr_sol_no_solv-b_pos1_13.48500keV_wa40.0_sdd1.8m_bpm3.351_id434218_000000_SAXS.tif'],\n",
       "   ['IB_KBr_sol_no_solv-b_pos1_13.49000keV_wa20.0_sdd1.8m_bpm3.347_id434173_000000_SAXS.tif',\n",
       "    'IB_KBr_sol_no_solv-b_pos1_13.49000keV_wa40.0_sdd1.8m_bpm3.343_id434219_000000_SAXS.tif'],\n",
       "   ['IB_KBr_sol_no_solv-b_pos1_13.49500keV_wa20.0_sdd1.8m_bpm3.342_id434174_000000_SAXS.tif',\n",
       "    'IB_KBr_sol_no_solv-b_pos1_13.49500keV_wa40.0_sdd1.8m_bpm3.342_id434220_000000_SAXS.tif'],\n",
       "   ['IB_KBr_sol_no_solv-b_pos1_13.50000keV_wa20.0_sdd1.8m_bpm3.339_id434175_000000_SAXS.tif',\n",
       "    'IB_KBr_sol_no_solv-b_pos1_13.50000keV_wa40.0_sdd1.8m_bpm3.337_id434221_000000_SAXS.tif'],\n",
       "   ['IB_KBr_sol_no_solv-b_pos1_13.50500keV_wa20.0_sdd1.8m_bpm3.342_id434176_000000_SAXS.tif',\n",
       "    'IB_KBr_sol_no_solv-b_pos1_13.50500keV_wa40.0_sdd1.8m_bpm3.333_id434222_000000_SAXS.tif'],\n",
       "   ['IB_KBr_sol_no_solv-b_pos1_13.51000keV_wa20.0_sdd1.8m_bpm3.339_id434177_000000_SAXS.tif',\n",
       "    'IB_KBr_sol_no_solv-b_pos1_13.51000keV_wa40.0_sdd1.8m_bpm3.336_id434223_000000_SAXS.tif'],\n",
       "   ['IB_KBr_sol_no_solv-b_pos1_13.51500keV_wa20.0_sdd1.8m_bpm3.339_id434178_000000_SAXS.tif',\n",
       "    'IB_KBr_sol_no_solv-b_pos1_13.51500keV_wa40.0_sdd1.8m_bpm3.337_id434224_000000_SAXS.tif'],\n",
       "   ['IB_KBr_sol_no_solv-b_pos1_13.52000keV_wa20.0_sdd1.8m_bpm3.334_id434179_000000_SAXS.tif',\n",
       "    'IB_KBr_sol_no_solv-b_pos1_13.52000keV_wa40.0_sdd1.8m_bpm3.331_id434225_000000_SAXS.tif'],\n",
       "   ['IB_KBr_sol_no_solv-b_pos1_13.52500keV_wa20.0_sdd1.8m_bpm3.327_id434180_000000_SAXS.tif',\n",
       "    'IB_KBr_sol_no_solv-b_pos1_13.52500keV_wa40.0_sdd1.8m_bpm3.328_id434226_000000_SAXS.tif'],\n",
       "   ['IB_KBr_sol_no_solv-b_pos1_13.53000keV_wa20.0_sdd1.8m_bpm3.311_id434181_000000_SAXS.tif',\n",
       "    'IB_KBr_sol_no_solv-b_pos1_13.53000keV_wa40.0_sdd1.8m_bpm3.312_id434227_000000_SAXS.tif'],\n",
       "   ['IB_KBr_sol_no_solv-b_pos1_13.53500keV_wa20.0_sdd1.8m_bpm3.277_id434182_000000_SAXS.tif',\n",
       "    'IB_KBr_sol_no_solv-b_pos1_13.53500keV_wa40.0_sdd1.8m_bpm3.296_id434228_000000_SAXS.tif'],\n",
       "   ['IB_KBr_sol_no_solv-b_pos1_13.54000keV_wa20.0_sdd1.8m_bpm3.293_id434183_000000_SAXS.tif',\n",
       "    'IB_KBr_sol_no_solv-b_pos1_13.54000keV_wa40.0_sdd1.8m_bpm3.305_id434229_000000_SAXS.tif'],\n",
       "   ['IB_KBr_sol_no_solv-b_pos1_13.54501keV_wa20.0_sdd1.8m_bpm3.272_id434184_000000_SAXS.tif',\n",
       "    'IB_KBr_sol_no_solv-b_pos1_13.54501keV_wa40.0_sdd1.8m_bpm3.281_id434230_000000_SAXS.tif'],\n",
       "   ['IB_KBr_sol_no_solv-b_pos1_13.55000keV_wa20.0_sdd1.8m_bpm3.277_id434185_000000_SAXS.tif',\n",
       "    'IB_KBr_sol_no_solv-b_pos1_13.55000keV_wa40.0_sdd1.8m_bpm3.294_id434231_000000_SAXS.tif']]],\n",
       " 'IB_RbBr_sol_no_solv-b_pos1_': [[['IB_RbBr_sol_no_solv-b_pos1_13.45000keV_wa20.0_sdd1.8m_bpm3.411_id434278_000000_SAXS.tif',\n",
       "    'IB_RbBr_sol_no_solv-b_pos1_13.45000keV_wa40.0_sdd1.8m_bpm03.41_id434324_000000_SAXS.tif'],\n",
       "   ['IB_RbBr_sol_no_solv-b_pos1_13.45500keV_wa20.0_sdd1.8m_bpm3.402_id434279_000000_SAXS.tif',\n",
       "    'IB_RbBr_sol_no_solv-b_pos1_13.45500keV_wa40.0_sdd1.8m_bpm3.404_id434325_000000_SAXS.tif'],\n",
       "   ['IB_RbBr_sol_no_solv-b_pos1_13.46000keV_wa20.0_sdd1.8m_bpm3.397_id434280_000000_SAXS.tif',\n",
       "    'IB_RbBr_sol_no_solv-b_pos1_13.46000keV_wa40.0_sdd1.8m_bpm3.398_id434326_000000_SAXS.tif'],\n",
       "   ['IB_RbBr_sol_no_solv-b_pos1_13.46099keV_wa20.0_sdd1.8m_bpm3.398_id434281_000000_SAXS.tif',\n",
       "    'IB_RbBr_sol_no_solv-b_pos1_13.46099keV_wa40.0_sdd1.8m_bpm3.394_id434327_000000_SAXS.tif'],\n",
       "   ['IB_RbBr_sol_no_solv-b_pos1_13.46201keV_wa20.0_sdd1.8m_bpm3.391_id434282_000000_SAXS.tif',\n",
       "    'IB_RbBr_sol_no_solv-b_pos1_13.46201keV_wa40.0_sdd1.8m_bpm3.402_id434328_000000_SAXS.tif'],\n",
       "   ['IB_RbBr_sol_no_solv-b_pos1_13.46301keV_wa20.0_sdd1.8m_bpm3.387_id434283_000000_SAXS.tif',\n",
       "    'IB_RbBr_sol_no_solv-b_pos1_13.46301keV_wa40.0_sdd1.8m_bpm3.396_id434329_000000_SAXS.tif'],\n",
       "   ['IB_RbBr_sol_no_solv-b_pos1_13.46401keV_wa20.0_sdd1.8m_bpm3.387_id434284_000000_SAXS.tif',\n",
       "    'IB_RbBr_sol_no_solv-b_pos1_13.46401keV_wa40.0_sdd1.8m_bpm3.397_id434330_000000_SAXS.tif'],\n",
       "   ['IB_RbBr_sol_no_solv-b_pos1_13.46501keV_wa20.0_sdd1.8m_bpm3.381_id434285_000000_SAXS.tif',\n",
       "    'IB_RbBr_sol_no_solv-b_pos1_13.46501keV_wa40.0_sdd1.8m_bpm3.389_id434331_000000_SAXS.tif'],\n",
       "   ['IB_RbBr_sol_no_solv-b_pos1_13.46550keV_wa20.0_sdd1.8m_bpm3.381_id434286_000000_SAXS.tif',\n",
       "    'IB_RbBr_sol_no_solv-b_pos1_13.46550keV_wa40.0_sdd1.8m_bpm3.386_id434332_000000_SAXS.tif'],\n",
       "   ['IB_RbBr_sol_no_solv-b_pos1_13.46599keV_wa20.0_sdd1.8m_bpm3.378_id434287_000000_SAXS.tif',\n",
       "    'IB_RbBr_sol_no_solv-b_pos1_13.46599keV_wa40.0_sdd1.8m_bpm3.384_id434333_000000_SAXS.tif'],\n",
       "   ['IB_RbBr_sol_no_solv-b_pos1_13.46650keV_wa20.0_sdd1.8m_bpm3.393_id434288_000000_SAXS.tif',\n",
       "    'IB_RbBr_sol_no_solv-b_pos1_13.46650keV_wa40.0_sdd1.8m_bpm3.383_id434334_000000_SAXS.tif'],\n",
       "   ['IB_RbBr_sol_no_solv-b_pos1_13.46699keV_wa20.0_sdd1.8m_bpm3.389_id434289_000000_SAXS.tif',\n",
       "    'IB_RbBr_sol_no_solv-b_pos1_13.46699keV_wa40.0_sdd1.8m_bpm03.38_id434335_000000_SAXS.tif'],\n",
       "   ['IB_RbBr_sol_no_solv-b_pos1_13.46750keV_wa20.0_sdd1.8m_bpm3.386_id434290_000000_SAXS.tif',\n",
       "    'IB_RbBr_sol_no_solv-b_pos1_13.46750keV_wa40.0_sdd1.8m_bpm3.377_id434336_000000_SAXS.tif'],\n",
       "   ['IB_RbBr_sol_no_solv-b_pos1_13.46800keV_wa20.0_sdd1.8m_bpm3.385_id434291_000000_SAXS.tif',\n",
       "    'IB_RbBr_sol_no_solv-b_pos1_13.46800keV_wa40.0_sdd1.8m_bpm3.379_id434337_000000_SAXS.tif'],\n",
       "   ['IB_RbBr_sol_no_solv-b_pos1_13.46850keV_wa20.0_sdd1.8m_bpm3.385_id434292_000000_SAXS.tif',\n",
       "    'IB_RbBr_sol_no_solv-b_pos1_13.46850keV_wa40.0_sdd1.8m_bpm3.377_id434338_000000_SAXS.tif'],\n",
       "   ['IB_RbBr_sol_no_solv-b_pos1_13.46900keV_wa20.0_sdd1.8m_bpm3.381_id434293_000000_SAXS.tif',\n",
       "    'IB_RbBr_sol_no_solv-b_pos1_13.46900keV_wa40.0_sdd1.8m_bpm3.375_id434339_000000_SAXS.tif'],\n",
       "   ['IB_RbBr_sol_no_solv-b_pos1_13.46950keV_wa20.0_sdd1.8m_bpm3.376_id434294_000000_SAXS.tif',\n",
       "    'IB_RbBr_sol_no_solv-b_pos1_13.46950keV_wa40.0_sdd1.8m_bpm3.373_id434340_000000_SAXS.tif'],\n",
       "   ['IB_RbBr_sol_no_solv-b_pos1_13.47000keV_wa20.0_sdd1.8m_bpm3.376_id434295_000000_SAXS.tif',\n",
       "    'IB_RbBr_sol_no_solv-b_pos1_13.47000keV_wa40.0_sdd1.8m_bpm3.369_id434341_000000_SAXS.tif'],\n",
       "   ['IB_RbBr_sol_no_solv-b_pos1_13.47050keV_wa20.0_sdd1.8m_bpm3.375_id434296_000000_SAXS.tif',\n",
       "    'IB_RbBr_sol_no_solv-b_pos1_13.47050keV_wa40.0_sdd1.8m_bpm3.371_id434342_000000_SAXS.tif'],\n",
       "   ['IB_RbBr_sol_no_solv-b_pos1_13.47100keV_wa20.0_sdd1.8m_bpm3.372_id434297_000000_SAXS.tif',\n",
       "    'IB_RbBr_sol_no_solv-b_pos1_13.47100keV_wa40.0_sdd1.8m_bpm3.369_id434343_000000_SAXS.tif'],\n",
       "   ['IB_RbBr_sol_no_solv-b_pos1_13.47150keV_wa20.0_sdd1.8m_bpm3.375_id434298_000000_SAXS.tif',\n",
       "    'IB_RbBr_sol_no_solv-b_pos1_13.47150keV_wa40.0_sdd1.8m_bpm03.38_id434344_000000_SAXS.tif'],\n",
       "   ['IB_RbBr_sol_no_solv-b_pos1_13.47200keV_wa20.0_sdd1.8m_bpm3.368_id434299_000000_SAXS.tif',\n",
       "    'IB_RbBr_sol_no_solv-b_pos1_13.47200keV_wa40.0_sdd1.8m_bpm3.379_id434345_000000_SAXS.tif'],\n",
       "   ['IB_RbBr_sol_no_solv-b_pos1_13.47251keV_wa20.0_sdd1.8m_bpm3.365_id434300_000000_SAXS.tif',\n",
       "    'IB_RbBr_sol_no_solv-b_pos1_13.47251keV_wa40.0_sdd1.8m_bpm3.375_id434346_000000_SAXS.tif'],\n",
       "   ['IB_RbBr_sol_no_solv-b_pos1_13.47300keV_wa20.0_sdd1.8m_bpm3.359_id434301_000000_SAXS.tif',\n",
       "    'IB_RbBr_sol_no_solv-b_pos1_13.47300keV_wa40.0_sdd1.8m_bpm3.372_id434347_000000_SAXS.tif'],\n",
       "   ['IB_RbBr_sol_no_solv-b_pos1_13.47350keV_wa20.0_sdd1.8m_bpm3.352_id434302_000000_SAXS.tif',\n",
       "    'IB_RbBr_sol_no_solv-b_pos1_13.47350keV_wa40.0_sdd1.8m_bpm3.368_id434348_000000_SAXS.tif'],\n",
       "   ['IB_RbBr_sol_no_solv-b_pos1_13.47400keV_wa20.0_sdd1.8m_bpm3.365_id434303_000000_SAXS.tif',\n",
       "    'IB_RbBr_sol_no_solv-b_pos1_13.47400keV_wa40.0_sdd1.8m_bpm3.362_id434349_000000_SAXS.tif'],\n",
       "   ['IB_RbBr_sol_no_solv-b_pos1_13.47450keV_wa20.0_sdd1.8m_bpm3.361_id434304_000000_SAXS.tif',\n",
       "    'IB_RbBr_sol_no_solv-b_pos1_13.47450keV_wa40.0_sdd1.8m_bpm3.362_id434350_000000_SAXS.tif'],\n",
       "   ['IB_RbBr_sol_no_solv-b_pos1_13.47500keV_wa20.0_sdd1.8m_bpm3.362_id434305_000000_SAXS.tif',\n",
       "    'IB_RbBr_sol_no_solv-b_pos1_13.47500keV_wa40.0_sdd1.8m_bpm3.362_id434351_000000_SAXS.tif'],\n",
       "   ['IB_RbBr_sol_no_solv-b_pos1_13.47700keV_wa20.0_sdd1.8m_bpm3.361_id434306_000000_SAXS.tif',\n",
       "    'IB_RbBr_sol_no_solv-b_pos1_13.47700keV_wa40.0_sdd1.8m_bpm3.368_id434352_000000_SAXS.tif'],\n",
       "   ['IB_RbBr_sol_no_solv-b_pos1_13.47900keV_wa20.0_sdd1.8m_bpm3.349_id434307_000000_SAXS.tif',\n",
       "    'IB_RbBr_sol_no_solv-b_pos1_13.47900keV_wa40.0_sdd1.8m_bpm3.353_id434353_000000_SAXS.tif'],\n",
       "   ['IB_RbBr_sol_no_solv-b_pos1_13.48100keV_wa20.0_sdd1.8m_bpm3.352_id434308_000000_SAXS.tif',\n",
       "    'IB_RbBr_sol_no_solv-b_pos1_13.48100keV_wa40.0_sdd1.8m_bpm3.352_id434354_000000_SAXS.tif'],\n",
       "   ['IB_RbBr_sol_no_solv-b_pos1_13.48300keV_wa20.0_sdd1.8m_bpm03.35_id434309_000000_SAXS.tif',\n",
       "    'IB_RbBr_sol_no_solv-b_pos1_13.48300keV_wa40.0_sdd1.8m_bpm3.356_id434355_000000_SAXS.tif'],\n",
       "   ['IB_RbBr_sol_no_solv-b_pos1_13.48500keV_wa20.0_sdd1.8m_bpm3.348_id434310_000000_SAXS.tif',\n",
       "    'IB_RbBr_sol_no_solv-b_pos1_13.48500keV_wa40.0_sdd1.8m_bpm3.351_id434356_000000_SAXS.tif'],\n",
       "   ['IB_RbBr_sol_no_solv-b_pos1_13.49000keV_wa20.0_sdd1.8m_bpm3.342_id434311_000000_SAXS.tif',\n",
       "    'IB_RbBr_sol_no_solv-b_pos1_13.49000keV_wa40.0_sdd1.8m_bpm3.347_id434357_000000_SAXS.tif'],\n",
       "   ['IB_RbBr_sol_no_solv-b_pos1_13.49500keV_wa20.0_sdd1.8m_bpm3.337_id434312_000000_SAXS.tif',\n",
       "    'IB_RbBr_sol_no_solv-b_pos1_13.49500keV_wa40.0_sdd1.8m_bpm3.343_id434358_000000_SAXS.tif'],\n",
       "   ['IB_RbBr_sol_no_solv-b_pos1_13.50000keV_wa20.0_sdd1.8m_bpm3.331_id434313_000000_SAXS.tif',\n",
       "    'IB_RbBr_sol_no_solv-b_pos1_13.50000keV_wa40.0_sdd1.8m_bpm3.336_id434359_000000_SAXS.tif'],\n",
       "   ['IB_RbBr_sol_no_solv-b_pos1_13.50500keV_wa20.0_sdd1.8m_bpm3.332_id434314_000000_SAXS.tif',\n",
       "    'IB_RbBr_sol_no_solv-b_pos1_13.50500keV_wa40.0_sdd1.8m_bpm3.345_id434360_000000_SAXS.tif'],\n",
       "   ['IB_RbBr_sol_no_solv-b_pos1_13.51000keV_wa20.0_sdd1.8m_bpm3.333_id434315_000000_SAXS.tif',\n",
       "    'IB_RbBr_sol_no_solv-b_pos1_13.51000keV_wa40.0_sdd1.8m_bpm3.349_id434361_000000_SAXS.tif'],\n",
       "   ['IB_RbBr_sol_no_solv-b_pos1_13.51500keV_wa20.0_sdd1.8m_bpm3.333_id434316_000000_SAXS.tif',\n",
       "    'IB_RbBr_sol_no_solv-b_pos1_13.51500keV_wa40.0_sdd1.8m_bpm3.344_id434362_000000_SAXS.tif'],\n",
       "   ['IB_RbBr_sol_no_solv-b_pos1_13.52000keV_wa20.0_sdd1.8m_bpm3.326_id434317_000000_SAXS.tif',\n",
       "    'IB_RbBr_sol_no_solv-b_pos1_13.52000keV_wa40.0_sdd1.8m_bpm3.342_id434363_000000_SAXS.tif'],\n",
       "   ['IB_RbBr_sol_no_solv-b_pos1_13.52500keV_wa20.0_sdd1.8m_bpm3.318_id434318_000000_SAXS.tif',\n",
       "    'IB_RbBr_sol_no_solv-b_pos1_13.52500keV_wa40.0_sdd1.8m_bpm3.329_id434364_000000_SAXS.tif'],\n",
       "   ['IB_RbBr_sol_no_solv-b_pos1_13.53000keV_wa20.0_sdd1.8m_bpm03.32_id434319_000000_SAXS.tif',\n",
       "    'IB_RbBr_sol_no_solv-b_pos1_13.53000keV_wa40.0_sdd1.8m_bpm03.32_id434365_000000_SAXS.tif'],\n",
       "   ['IB_RbBr_sol_no_solv-b_pos1_13.53500keV_wa20.0_sdd1.8m_bpm3.283_id434320_000000_SAXS.tif',\n",
       "    'IB_RbBr_sol_no_solv-b_pos1_13.53500keV_wa40.0_sdd1.8m_bpm3.285_id434366_000000_SAXS.tif'],\n",
       "   ['IB_RbBr_sol_no_solv-b_pos1_13.54000keV_wa20.0_sdd1.8m_bpm3.299_id434321_000000_SAXS.tif',\n",
       "    'IB_RbBr_sol_no_solv-b_pos1_13.54000keV_wa40.0_sdd1.8m_bpm003.3_id434367_000000_SAXS.tif'],\n",
       "   ['IB_RbBr_sol_no_solv-b_pos1_13.54501keV_wa20.0_sdd1.8m_bpm3.276_id434322_000000_SAXS.tif',\n",
       "    'IB_RbBr_sol_no_solv-b_pos1_13.54501keV_wa40.0_sdd1.8m_bpm3.276_id434368_000000_SAXS.tif'],\n",
       "   ['IB_RbBr_sol_no_solv-b_pos1_13.55000keV_wa20.0_sdd1.8m_bpm3.281_id434323_000000_SAXS.tif',\n",
       "    'IB_RbBr_sol_no_solv-b_pos1_13.55000keV_wa40.0_sdd1.8m_bpm03.28_id434369_000000_SAXS.tif']]],\n",
       " 'IB_water-a_pos1_': [[['IB_water-a_pos1_13.45000keV_wa20.0_sdd1.8m_bpm03.41_id434416_000000_SAXS.tif',\n",
       "    'IB_water-a_pos1_13.45000keV_wa40.0_sdd1.8m_bpm3.416_id434462_000000_SAXS.tif'],\n",
       "   ['IB_water-a_pos1_13.45500keV_wa20.0_sdd1.8m_bpm3.415_id434417_000000_SAXS.tif',\n",
       "    'IB_water-a_pos1_13.45500keV_wa40.0_sdd1.8m_bpm3.408_id434463_000000_SAXS.tif'],\n",
       "   ['IB_water-a_pos1_13.46000keV_wa20.0_sdd1.8m_bpm3.405_id434418_000000_SAXS.tif',\n",
       "    'IB_water-a_pos1_13.46000keV_wa40.0_sdd1.8m_bpm3.396_id434464_000000_SAXS.tif'],\n",
       "   ['IB_water-a_pos1_13.46099keV_wa20.0_sdd1.8m_bpm3.402_id434419_000000_SAXS.tif',\n",
       "    'IB_water-a_pos1_13.46099keV_wa40.0_sdd1.8m_bpm3.394_id434465_000000_SAXS.tif'],\n",
       "   ['IB_water-a_pos1_13.46201keV_wa20.0_sdd1.8m_bpm3.398_id434420_000000_SAXS.tif',\n",
       "    'IB_water-a_pos1_13.46201keV_wa40.0_sdd1.8m_bpm3.388_id434466_000000_SAXS.tif'],\n",
       "   ['IB_water-a_pos1_13.46301keV_wa20.0_sdd1.8m_bpm3.391_id434421_000000_SAXS.tif',\n",
       "    'IB_water-a_pos1_13.46301keV_wa40.0_sdd1.8m_bpm3.383_id434467_000000_SAXS.tif'],\n",
       "   ['IB_water-a_pos1_13.46401keV_wa20.0_sdd1.8m_bpm3.385_id434422_000000_SAXS.tif',\n",
       "    'IB_water-a_pos1_13.46401keV_wa40.0_sdd1.8m_bpm3.382_id434468_000000_SAXS.tif'],\n",
       "   ['IB_water-a_pos1_13.46501keV_wa20.0_sdd1.8m_bpm3.385_id434423_000000_SAXS.tif',\n",
       "    'IB_water-a_pos1_13.46501keV_wa40.0_sdd1.8m_bpm3.377_id434469_000000_SAXS.tif'],\n",
       "   ['IB_water-a_pos1_13.46550keV_wa20.0_sdd1.8m_bpm3.383_id434424_000000_SAXS.tif',\n",
       "    'IB_water-a_pos1_13.46550keV_wa40.0_sdd1.8m_bpm3.376_id434470_000000_SAXS.tif'],\n",
       "   ['IB_water-a_pos1_13.46599keV_wa20.0_sdd1.8m_bpm03.38_id434425_000000_SAXS.tif',\n",
       "    'IB_water-a_pos1_13.46599keV_wa40.0_sdd1.8m_bpm3.373_id434471_000000_SAXS.tif'],\n",
       "   ['IB_water-a_pos1_13.46650keV_wa20.0_sdd1.8m_bpm3.377_id434426_000000_SAXS.tif',\n",
       "    'IB_water-a_pos1_13.46650keV_wa40.0_sdd1.8m_bpm3.371_id434472_000000_SAXS.tif'],\n",
       "   ['IB_water-a_pos1_13.46699keV_wa20.0_sdd1.8m_bpm3.376_id434427_000000_SAXS.tif',\n",
       "    'IB_water-a_pos1_13.46699keV_wa40.0_sdd1.8m_bpm03.38_id434473_000000_SAXS.tif'],\n",
       "   ['IB_water-a_pos1_13.46750keV_wa20.0_sdd1.8m_bpm3.374_id434428_000000_SAXS.tif',\n",
       "    'IB_water-a_pos1_13.46750keV_wa40.0_sdd1.8m_bpm3.378_id434474_000000_SAXS.tif'],\n",
       "   ['IB_water-a_pos1_13.46800keV_wa20.0_sdd1.8m_bpm3.369_id434429_000000_SAXS.tif',\n",
       "    'IB_water-a_pos1_13.46800keV_wa40.0_sdd1.8m_bpm3.376_id434475_000000_SAXS.tif'],\n",
       "   ['IB_water-a_pos1_13.46850keV_wa20.0_sdd1.8m_bpm3.371_id434430_000000_SAXS.tif',\n",
       "    'IB_water-a_pos1_13.46850keV_wa40.0_sdd1.8m_bpm3.371_id434476_000000_SAXS.tif'],\n",
       "   ['IB_water-a_pos1_13.46900keV_wa20.0_sdd1.8m_bpm3.371_id434431_000000_SAXS.tif',\n",
       "    'IB_water-a_pos1_13.46900keV_wa40.0_sdd1.8m_bpm3.371_id434477_000000_SAXS.tif'],\n",
       "   ['IB_water-a_pos1_13.46950keV_wa20.0_sdd1.8m_bpm03.38_id434432_000000_SAXS.tif',\n",
       "    'IB_water-a_pos1_13.46950keV_wa40.0_sdd1.8m_bpm3.373_id434478_000000_SAXS.tif'],\n",
       "   ['IB_water-a_pos1_13.47000keV_wa20.0_sdd1.8m_bpm3.382_id434433_000000_SAXS.tif',\n",
       "    'IB_water-a_pos1_13.47000keV_wa40.0_sdd1.8m_bpm03.37_id434479_000000_SAXS.tif'],\n",
       "   ['IB_water-a_pos1_13.47050keV_wa20.0_sdd1.8m_bpm3.376_id434434_000000_SAXS.tif',\n",
       "    'IB_water-a_pos1_13.47050keV_wa40.0_sdd1.8m_bpm3.367_id434480_000000_SAXS.tif'],\n",
       "   ['IB_water-a_pos1_13.47100keV_wa20.0_sdd1.8m_bpm3.374_id434435_000000_SAXS.tif',\n",
       "    'IB_water-a_pos1_13.47100keV_wa40.0_sdd1.8m_bpm3.364_id434481_000000_SAXS.tif'],\n",
       "   ['IB_water-a_pos1_13.47150keV_wa20.0_sdd1.8m_bpm3.372_id434436_000000_SAXS.tif',\n",
       "    'IB_water-a_pos1_13.47150keV_wa40.0_sdd1.8m_bpm3.364_id434482_000000_SAXS.tif'],\n",
       "   ['IB_water-a_pos1_13.47200keV_wa20.0_sdd1.8m_bpm3.372_id434437_000000_SAXS.tif',\n",
       "    'IB_water-a_pos1_13.47200keV_wa40.0_sdd1.8m_bpm3.362_id434483_000000_SAXS.tif'],\n",
       "   ['IB_water-a_pos1_13.47251keV_wa20.0_sdd1.8m_bpm3.367_id434438_000000_SAXS.tif',\n",
       "    'IB_water-a_pos1_13.47251keV_wa40.0_sdd1.8m_bpm03.36_id434484_000000_SAXS.tif'],\n",
       "   ['IB_water-a_pos1_13.47300keV_wa20.0_sdd1.8m_bpm3.365_id434439_000000_SAXS.tif',\n",
       "    'IB_water-a_pos1_13.47300keV_wa40.0_sdd1.8m_bpm3.352_id434485_000000_SAXS.tif'],\n",
       "   ['IB_water-a_pos1_13.47350keV_wa20.0_sdd1.8m_bpm3.355_id434440_000000_SAXS.tif',\n",
       "    'IB_water-a_pos1_13.47350keV_wa40.0_sdd1.8m_bpm3.347_id434486_000000_SAXS.tif'],\n",
       "   ['IB_water-a_pos1_13.47400keV_wa20.0_sdd1.8m_bpm3.352_id434441_000000_SAXS.tif',\n",
       "    'IB_water-a_pos1_13.47400keV_wa40.0_sdd1.8m_bpm3.345_id434487_000000_SAXS.tif'],\n",
       "   ['IB_water-a_pos1_13.47450keV_wa20.0_sdd1.8m_bpm3.352_id434442_000000_SAXS.tif',\n",
       "    'IB_water-a_pos1_13.47450keV_wa40.0_sdd1.8m_bpm3.342_id434488_000000_SAXS.tif'],\n",
       "   ['IB_water-a_pos1_13.47500keV_wa20.0_sdd1.8m_bpm3.348_id434443_000000_SAXS.tif',\n",
       "    'IB_water-a_pos1_13.47500keV_wa40.0_sdd1.8m_bpm3.353_id434489_000000_SAXS.tif'],\n",
       "   ['IB_water-a_pos1_13.47700keV_wa20.0_sdd1.8m_bpm3.355_id434444_000000_SAXS.tif',\n",
       "    'IB_water-a_pos1_13.47700keV_wa40.0_sdd1.8m_bpm3.362_id434490_000000_SAXS.tif'],\n",
       "   ['IB_water-a_pos1_13.47900keV_wa20.0_sdd1.8m_bpm3.344_id434445_000000_SAXS.tif',\n",
       "    'IB_water-a_pos1_13.47900keV_wa40.0_sdd1.8m_bpm3.347_id434491_000000_SAXS.tif'],\n",
       "   ['IB_water-a_pos1_13.48100keV_wa20.0_sdd1.8m_bpm3.341_id434446_000000_SAXS.tif',\n",
       "    'IB_water-a_pos1_13.48100keV_wa40.0_sdd1.8m_bpm3.346_id434492_000000_SAXS.tif'],\n",
       "   ['IB_water-a_pos1_13.48300keV_wa20.0_sdd1.8m_bpm3.342_id434447_000000_SAXS.tif',\n",
       "    'IB_water-a_pos1_13.48300keV_wa40.0_sdd1.8m_bpm3.348_id434493_000000_SAXS.tif'],\n",
       "   ['IB_water-a_pos1_13.48500keV_wa20.0_sdd1.8m_bpm3.352_id434448_000000_SAXS.tif',\n",
       "    'IB_water-a_pos1_13.48500keV_wa40.0_sdd1.8m_bpm3.348_id434494_000000_SAXS.tif'],\n",
       "   ['IB_water-a_pos1_13.49000keV_wa20.0_sdd1.8m_bpm3.349_id434449_000000_SAXS.tif',\n",
       "    'IB_water-a_pos1_13.49000keV_wa40.0_sdd1.8m_bpm3.342_id434495_000000_SAXS.tif'],\n",
       "   ['IB_water-a_pos1_13.49500keV_wa20.0_sdd1.8m_bpm3.342_id434450_000000_SAXS.tif',\n",
       "    'IB_water-a_pos1_13.49500keV_wa40.0_sdd1.8m_bpm3.338_id434496_000000_SAXS.tif'],\n",
       "   ['IB_water-a_pos1_13.50000keV_wa20.0_sdd1.8m_bpm3.338_id434451_000000_SAXS.tif',\n",
       "    'IB_water-a_pos1_13.50000keV_wa40.0_sdd1.8m_bpm3.332_id434497_000000_SAXS.tif'],\n",
       "   ['IB_water-a_pos1_13.50500keV_wa20.0_sdd1.8m_bpm3.335_id434452_000000_SAXS.tif',\n",
       "    'IB_water-a_pos1_13.50500keV_wa40.0_sdd1.8m_bpm3.336_id434498_000000_SAXS.tif'],\n",
       "   ['IB_water-a_pos1_13.51000keV_wa20.0_sdd1.8m_bpm3.337_id434453_000000_SAXS.tif',\n",
       "    'IB_water-a_pos1_13.51000keV_wa40.0_sdd1.8m_bpm3.334_id434499_000000_SAXS.tif'],\n",
       "   ['IB_water-a_pos1_13.51500keV_wa20.0_sdd1.8m_bpm3.334_id434454_000000_SAXS.tif',\n",
       "    'IB_water-a_pos1_13.51500keV_wa40.0_sdd1.8m_bpm3.327_id434500_000000_SAXS.tif'],\n",
       "   ['IB_water-a_pos1_13.52000keV_wa20.0_sdd1.8m_bpm3.325_id434455_000000_SAXS.tif',\n",
       "    'IB_water-a_pos1_13.52000keV_wa40.0_sdd1.8m_bpm3.324_id434501_000000_SAXS.tif'],\n",
       "   ['IB_water-a_pos1_13.52500keV_wa20.0_sdd1.8m_bpm3.319_id434456_000000_SAXS.tif',\n",
       "    'IB_water-a_pos1_13.52500keV_wa40.0_sdd1.8m_bpm3.319_id434502_000000_SAXS.tif'],\n",
       "   ['IB_water-a_pos1_13.53000keV_wa20.0_sdd1.8m_bpm3.307_id434457_000000_SAXS.tif',\n",
       "    'IB_water-a_pos1_13.53000keV_wa40.0_sdd1.8m_bpm3.311_id434503_000000_SAXS.tif'],\n",
       "   ['IB_water-a_pos1_13.53500keV_wa20.0_sdd1.8m_bpm03.27_id434458_000000_SAXS.tif',\n",
       "    'IB_water-a_pos1_13.53500keV_wa40.0_sdd1.8m_bpm3.273_id434504_000000_SAXS.tif'],\n",
       "   ['IB_water-a_pos1_13.54000keV_wa20.0_sdd1.8m_bpm3.288_id434459_000000_SAXS.tif',\n",
       "    'IB_water-a_pos1_13.54000keV_wa40.0_sdd1.8m_bpm3.297_id434505_000000_SAXS.tif'],\n",
       "   ['IB_water-a_pos1_13.54501keV_wa20.0_sdd1.8m_bpm3.266_id434460_000000_SAXS.tif',\n",
       "    'IB_water-a_pos1_13.54501keV_wa40.0_sdd1.8m_bpm3.276_id434506_000000_SAXS.tif'],\n",
       "   ['IB_water-a_pos1_13.55000keV_wa20.0_sdd1.8m_bpm3.271_id434461_000000_SAXS.tif',\n",
       "    'IB_water-a_pos1_13.55000keV_wa40.0_sdd1.8m_bpm3.284_id434507_000000_SAXS.tif']]],\n",
       " 'IB_DIPA_LiBr_org_phase-a_pos1_': [[['IB_DIPA_LiBr_org_phase-a_pos1_13.45000keV_wa20.0_sdd1.8m_bpm3.417_id434554_000000_SAXS.tif',\n",
       "    'IB_DIPA_LiBr_org_phase-a_pos1_13.45000keV_wa40.0_sdd1.8m_bpm3.423_id434600_000000_SAXS.tif'],\n",
       "   ['IB_DIPA_LiBr_org_phase-a_pos1_13.45500keV_wa20.0_sdd1.8m_bpm3.412_id434555_000000_SAXS.tif',\n",
       "    'IB_DIPA_LiBr_org_phase-a_pos1_13.45500keV_wa40.0_sdd1.8m_bpm3.412_id434601_000000_SAXS.tif'],\n",
       "   ['IB_DIPA_LiBr_org_phase-a_pos1_13.46000keV_wa20.0_sdd1.8m_bpm3.405_id434556_000000_SAXS.tif',\n",
       "    'IB_DIPA_LiBr_org_phase-a_pos1_13.46000keV_wa40.0_sdd1.8m_bpm3.402_id434602_000000_SAXS.tif'],\n",
       "   ['IB_DIPA_LiBr_org_phase-a_pos1_13.46099keV_wa20.0_sdd1.8m_bpm3.396_id434557_000000_SAXS.tif',\n",
       "    'IB_DIPA_LiBr_org_phase-a_pos1_13.46099keV_wa40.0_sdd1.8m_bpm3.396_id434603_000000_SAXS.tif'],\n",
       "   ['IB_DIPA_LiBr_org_phase-a_pos1_13.46201keV_wa20.0_sdd1.8m_bpm3.394_id434558_000000_SAXS.tif',\n",
       "    'IB_DIPA_LiBr_org_phase-a_pos1_13.46201keV_wa40.0_sdd1.8m_bpm3.395_id434604_000000_SAXS.tif'],\n",
       "   ['IB_DIPA_LiBr_org_phase-a_pos1_13.46301keV_wa20.0_sdd1.8m_bpm03.39_id434559_000000_SAXS.tif',\n",
       "    'IB_DIPA_LiBr_org_phase-a_pos1_13.46301keV_wa40.0_sdd1.8m_bpm3.405_id434605_000000_SAXS.tif'],\n",
       "   ['IB_DIPA_LiBr_org_phase-a_pos1_13.46401keV_wa20.0_sdd1.8m_bpm3.384_id434560_000000_SAXS.tif',\n",
       "    'IB_DIPA_LiBr_org_phase-a_pos1_13.46401keV_wa40.0_sdd1.8m_bpm003.4_id434606_000000_SAXS.tif'],\n",
       "   ['IB_DIPA_LiBr_org_phase-a_pos1_13.46501keV_wa20.0_sdd1.8m_bpm03.38_id434561_000000_SAXS.tif',\n",
       "    'IB_DIPA_LiBr_org_phase-a_pos1_13.46501keV_wa40.0_sdd1.8m_bpm3.397_id434607_000000_SAXS.tif'],\n",
       "   ['IB_DIPA_LiBr_org_phase-a_pos1_13.46550keV_wa20.0_sdd1.8m_bpm3.381_id434562_000000_SAXS.tif',\n",
       "    'IB_DIPA_LiBr_org_phase-a_pos1_13.46550keV_wa40.0_sdd1.8m_bpm03.39_id434608_000000_SAXS.tif'],\n",
       "   ['IB_DIPA_LiBr_org_phase-a_pos1_13.46599keV_wa20.0_sdd1.8m_bpm3.385_id434563_000000_SAXS.tif',\n",
       "    'IB_DIPA_LiBr_org_phase-a_pos1_13.46599keV_wa40.0_sdd1.8m_bpm3.394_id434609_000000_SAXS.tif'],\n",
       "   ['IB_DIPA_LiBr_org_phase-a_pos1_13.46650keV_wa20.0_sdd1.8m_bpm3.393_id434564_000000_SAXS.tif',\n",
       "    'IB_DIPA_LiBr_org_phase-a_pos1_13.46650keV_wa40.0_sdd1.8m_bpm03.39_id434610_000000_SAXS.tif'],\n",
       "   ['IB_DIPA_LiBr_org_phase-a_pos1_13.46699keV_wa20.0_sdd1.8m_bpm3.391_id434565_000000_SAXS.tif',\n",
       "    'IB_DIPA_LiBr_org_phase-a_pos1_13.46699keV_wa40.0_sdd1.8m_bpm3.388_id434611_000000_SAXS.tif'],\n",
       "   ['IB_DIPA_LiBr_org_phase-a_pos1_13.46750keV_wa20.0_sdd1.8m_bpm3.391_id434566_000000_SAXS.tif',\n",
       "    'IB_DIPA_LiBr_org_phase-a_pos1_13.46750keV_wa40.0_sdd1.8m_bpm3.389_id434612_000000_SAXS.tif'],\n",
       "   ['IB_DIPA_LiBr_org_phase-a_pos1_13.46800keV_wa20.0_sdd1.8m_bpm3.386_id434567_000000_SAXS.tif',\n",
       "    'IB_DIPA_LiBr_org_phase-a_pos1_13.46800keV_wa40.0_sdd1.8m_bpm3.383_id434613_000000_SAXS.tif'],\n",
       "   ['IB_DIPA_LiBr_org_phase-a_pos1_13.46850keV_wa20.0_sdd1.8m_bpm3.381_id434568_000000_SAXS.tif',\n",
       "    'IB_DIPA_LiBr_org_phase-a_pos1_13.46850keV_wa40.0_sdd1.8m_bpm3.384_id434614_000000_SAXS.tif'],\n",
       "   ['IB_DIPA_LiBr_org_phase-a_pos1_13.46900keV_wa20.0_sdd1.8m_bpm3.381_id434569_000000_SAXS.tif',\n",
       "    'IB_DIPA_LiBr_org_phase-a_pos1_13.46900keV_wa40.0_sdd1.8m_bpm3.376_id434615_000000_SAXS.tif'],\n",
       "   ['IB_DIPA_LiBr_org_phase-a_pos1_13.46950keV_wa20.0_sdd1.8m_bpm3.376_id434570_000000_SAXS.tif',\n",
       "    'IB_DIPA_LiBr_org_phase-a_pos1_13.46950keV_wa40.0_sdd1.8m_bpm3.371_id434616_000000_SAXS.tif'],\n",
       "   ['IB_DIPA_LiBr_org_phase-a_pos1_13.47000keV_wa20.0_sdd1.8m_bpm3.375_id434571_000000_SAXS.tif',\n",
       "    'IB_DIPA_LiBr_org_phase-a_pos1_13.47000keV_wa40.0_sdd1.8m_bpm3.374_id434617_000000_SAXS.tif'],\n",
       "   ['IB_DIPA_LiBr_org_phase-a_pos1_13.47050keV_wa20.0_sdd1.8m_bpm03.37_id434572_000000_SAXS.tif',\n",
       "    'IB_DIPA_LiBr_org_phase-a_pos1_13.47050keV_wa40.0_sdd1.8m_bpm3.369_id434618_000000_SAXS.tif'],\n",
       "   ['IB_DIPA_LiBr_org_phase-a_pos1_13.47100keV_wa20.0_sdd1.8m_bpm3.369_id434573_000000_SAXS.tif',\n",
       "    'IB_DIPA_LiBr_org_phase-a_pos1_13.47100keV_wa40.0_sdd1.8m_bpm3.365_id434619_000000_SAXS.tif'],\n",
       "   ['IB_DIPA_LiBr_org_phase-a_pos1_13.47150keV_wa20.0_sdd1.8m_bpm3.365_id434574_000000_SAXS.tif',\n",
       "    'IB_DIPA_LiBr_org_phase-a_pos1_13.47150keV_wa40.0_sdd1.8m_bpm3.366_id434620_000000_SAXS.tif'],\n",
       "   ['IB_DIPA_LiBr_org_phase-a_pos1_13.47200keV_wa20.0_sdd1.8m_bpm3.367_id434575_000000_SAXS.tif',\n",
       "    'IB_DIPA_LiBr_org_phase-a_pos1_13.47200keV_wa40.0_sdd1.8m_bpm3.376_id434621_000000_SAXS.tif'],\n",
       "   ['IB_DIPA_LiBr_org_phase-a_pos1_13.47251keV_wa20.0_sdd1.8m_bpm03.36_id434576_000000_SAXS.tif',\n",
       "    'IB_DIPA_LiBr_org_phase-a_pos1_13.47251keV_wa40.0_sdd1.8m_bpm03.37_id434622_000000_SAXS.tif'],\n",
       "   ['IB_DIPA_LiBr_org_phase-a_pos1_13.47300keV_wa20.0_sdd1.8m_bpm3.356_id434577_000000_SAXS.tif',\n",
       "    'IB_DIPA_LiBr_org_phase-a_pos1_13.47300keV_wa40.0_sdd1.8m_bpm3.364_id434623_000000_SAXS.tif'],\n",
       "   ['IB_DIPA_LiBr_org_phase-a_pos1_13.47350keV_wa20.0_sdd1.8m_bpm03.35_id434578_000000_SAXS.tif',\n",
       "    'IB_DIPA_LiBr_org_phase-a_pos1_13.47350keV_wa40.0_sdd1.8m_bpm3.361_id434624_000000_SAXS.tif'],\n",
       "   ['IB_DIPA_LiBr_org_phase-a_pos1_13.47400keV_wa20.0_sdd1.8m_bpm3.344_id434579_000000_SAXS.tif',\n",
       "    'IB_DIPA_LiBr_org_phase-a_pos1_13.47400keV_wa40.0_sdd1.8m_bpm3.357_id434625_000000_SAXS.tif'],\n",
       "   ['IB_DIPA_LiBr_org_phase-a_pos1_13.47450keV_wa20.0_sdd1.8m_bpm3.357_id434580_000000_SAXS.tif',\n",
       "    'IB_DIPA_LiBr_org_phase-a_pos1_13.47450keV_wa40.0_sdd1.8m_bpm3.355_id434626_000000_SAXS.tif'],\n",
       "   ['IB_DIPA_LiBr_org_phase-a_pos1_13.47500keV_wa20.0_sdd1.8m_bpm3.354_id434581_000000_SAXS.tif',\n",
       "    'IB_DIPA_LiBr_org_phase-a_pos1_13.47500keV_wa40.0_sdd1.8m_bpm3.355_id434627_000000_SAXS.tif'],\n",
       "   ['IB_DIPA_LiBr_org_phase-a_pos1_13.47700keV_wa20.0_sdd1.8m_bpm03.36_id434582_000000_SAXS.tif',\n",
       "    'IB_DIPA_LiBr_org_phase-a_pos1_13.47700keV_wa40.0_sdd1.8m_bpm3.358_id434628_000000_SAXS.tif'],\n",
       "   ['IB_DIPA_LiBr_org_phase-a_pos1_13.47900keV_wa20.0_sdd1.8m_bpm3.353_id434583_000000_SAXS.tif',\n",
       "    'IB_DIPA_LiBr_org_phase-a_pos1_13.47900keV_wa40.0_sdd1.8m_bpm3.351_id434629_000000_SAXS.tif'],\n",
       "   ['IB_DIPA_LiBr_org_phase-a_pos1_13.48100keV_wa20.0_sdd1.8m_bpm3.346_id434584_000000_SAXS.tif',\n",
       "    'IB_DIPA_LiBr_org_phase-a_pos1_13.48100keV_wa40.0_sdd1.8m_bpm3.346_id434630_000000_SAXS.tif'],\n",
       "   ['IB_DIPA_LiBr_org_phase-a_pos1_13.48300keV_wa20.0_sdd1.8m_bpm3.352_id434585_000000_SAXS.tif',\n",
       "    'IB_DIPA_LiBr_org_phase-a_pos1_13.48300keV_wa40.0_sdd1.8m_bpm3.346_id434631_000000_SAXS.tif'],\n",
       "   ['IB_DIPA_LiBr_org_phase-a_pos1_13.48500keV_wa20.0_sdd1.8m_bpm3.351_id434586_000000_SAXS.tif',\n",
       "    'IB_DIPA_LiBr_org_phase-a_pos1_13.48500keV_wa40.0_sdd1.8m_bpm3.348_id434632_000000_SAXS.tif'],\n",
       "   ['IB_DIPA_LiBr_org_phase-a_pos1_13.49000keV_wa20.0_sdd1.8m_bpm3.343_id434587_000000_SAXS.tif',\n",
       "    'IB_DIPA_LiBr_org_phase-a_pos1_13.49000keV_wa40.0_sdd1.8m_bpm3.341_id434633_000000_SAXS.tif'],\n",
       "   ['IB_DIPA_LiBr_org_phase-a_pos1_13.49500keV_wa20.0_sdd1.8m_bpm3.338_id434588_000000_SAXS.tif',\n",
       "    'IB_DIPA_LiBr_org_phase-a_pos1_13.49500keV_wa40.0_sdd1.8m_bpm3.333_id434634_000000_SAXS.tif'],\n",
       "   ['IB_DIPA_LiBr_org_phase-a_pos1_13.50000keV_wa20.0_sdd1.8m_bpm3.334_id434589_000000_SAXS.tif',\n",
       "    'IB_DIPA_LiBr_org_phase-a_pos1_13.50000keV_wa40.0_sdd1.8m_bpm3.335_id434635_000000_SAXS.tif'],\n",
       "   ['IB_DIPA_LiBr_org_phase-a_pos1_13.50500keV_wa20.0_sdd1.8m_bpm3.334_id434590_000000_SAXS.tif',\n",
       "    'IB_DIPA_LiBr_org_phase-a_pos1_13.50500keV_wa40.0_sdd1.8m_bpm3.332_id434636_000000_SAXS.tif'],\n",
       "   ['IB_DIPA_LiBr_org_phase-a_pos1_13.51000keV_wa20.0_sdd1.8m_bpm3.336_id434591_000000_SAXS.tif',\n",
       "    'IB_DIPA_LiBr_org_phase-a_pos1_13.51000keV_wa40.0_sdd1.8m_bpm3.347_id434637_000000_SAXS.tif'],\n",
       "   ['IB_DIPA_LiBr_org_phase-a_pos1_13.51500keV_wa20.0_sdd1.8m_bpm3.333_id434592_000000_SAXS.tif',\n",
       "    'IB_DIPA_LiBr_org_phase-a_pos1_13.51500keV_wa40.0_sdd1.8m_bpm3.343_id434638_000000_SAXS.tif'],\n",
       "   ['IB_DIPA_LiBr_org_phase-a_pos1_13.52000keV_wa20.0_sdd1.8m_bpm3.325_id434593_000000_SAXS.tif',\n",
       "    'IB_DIPA_LiBr_org_phase-a_pos1_13.52000keV_wa40.0_sdd1.8m_bpm3.338_id434639_000000_SAXS.tif'],\n",
       "   ['IB_DIPA_LiBr_org_phase-a_pos1_13.52500keV_wa20.0_sdd1.8m_bpm3.317_id434594_000000_SAXS.tif',\n",
       "    'IB_DIPA_LiBr_org_phase-a_pos1_13.52500keV_wa40.0_sdd1.8m_bpm3.328_id434640_000000_SAXS.tif'],\n",
       "   ['IB_DIPA_LiBr_org_phase-a_pos1_13.53000keV_wa20.0_sdd1.8m_bpm03.31_id434595_000000_SAXS.tif',\n",
       "    'IB_DIPA_LiBr_org_phase-a_pos1_13.53000keV_wa40.0_sdd1.8m_bpm3.319_id434641_000000_SAXS.tif'],\n",
       "   ['IB_DIPA_LiBr_org_phase-a_pos1_13.53500keV_wa20.0_sdd1.8m_bpm3.285_id434596_000000_SAXS.tif',\n",
       "    'IB_DIPA_LiBr_org_phase-a_pos1_13.53500keV_wa40.0_sdd1.8m_bpm3.282_id434642_000000_SAXS.tif'],\n",
       "   ['IB_DIPA_LiBr_org_phase-a_pos1_13.54000keV_wa20.0_sdd1.8m_bpm3.303_id434597_000000_SAXS.tif',\n",
       "    'IB_DIPA_LiBr_org_phase-a_pos1_13.54000keV_wa40.0_sdd1.8m_bpm3.301_id434643_000000_SAXS.tif'],\n",
       "   ['IB_DIPA_LiBr_org_phase-a_pos1_13.54501keV_wa20.0_sdd1.8m_bpm3.278_id434598_000000_SAXS.tif',\n",
       "    'IB_DIPA_LiBr_org_phase-a_pos1_13.54501keV_wa40.0_sdd1.8m_bpm3.277_id434644_000000_SAXS.tif'],\n",
       "   ['IB_DIPA_LiBr_org_phase-a_pos1_13.55000keV_wa20.0_sdd1.8m_bpm3.288_id434599_000000_SAXS.tif',\n",
       "    'IB_DIPA_LiBr_org_phase-a_pos1_13.55000keV_wa40.0_sdd1.8m_bpm3.285_id434645_000000_SAXS.tif']]],\n",
       " 'IB_DIPA_RbBr_org_phase-a_pos1_': [[['IB_DIPA_RbBr_org_phase-a_pos1_13.45000keV_wa20.0_sdd1.8m_bpm3.411_id434692_000000_SAXS.tif',\n",
       "    'IB_DIPA_RbBr_org_phase-a_pos1_13.45000keV_wa40.0_sdd1.8m_bpm3.425_id434738_000000_SAXS.tif'],\n",
       "   ['IB_DIPA_RbBr_org_phase-a_pos1_13.45500keV_wa20.0_sdd1.8m_bpm3.402_id434693_000000_SAXS.tif',\n",
       "    'IB_DIPA_RbBr_org_phase-a_pos1_13.45500keV_wa40.0_sdd1.8m_bpm3.418_id434739_000000_SAXS.tif'],\n",
       "   ['IB_DIPA_RbBr_org_phase-a_pos1_13.46000keV_wa20.0_sdd1.8m_bpm3.394_id434694_000000_SAXS.tif',\n",
       "    'IB_DIPA_RbBr_org_phase-a_pos1_13.46000keV_wa40.0_sdd1.8m_bpm3.409_id434740_000000_SAXS.tif'],\n",
       "   ['IB_DIPA_RbBr_org_phase-a_pos1_13.46099keV_wa20.0_sdd1.8m_bpm3.391_id434695_000000_SAXS.tif',\n",
       "    'IB_DIPA_RbBr_org_phase-a_pos1_13.46099keV_wa40.0_sdd1.8m_bpm3.407_id434741_000000_SAXS.tif'],\n",
       "   ['IB_DIPA_RbBr_org_phase-a_pos1_13.46201keV_wa20.0_sdd1.8m_bpm3.403_id434696_000000_SAXS.tif',\n",
       "    'IB_DIPA_RbBr_org_phase-a_pos1_13.46201keV_wa40.0_sdd1.8m_bpm3.405_id434742_000000_SAXS.tif'],\n",
       "   ['IB_DIPA_RbBr_org_phase-a_pos1_13.46301keV_wa20.0_sdd1.8m_bpm3.399_id434697_000000_SAXS.tif',\n",
       "    'IB_DIPA_RbBr_org_phase-a_pos1_13.46301keV_wa40.0_sdd1.8m_bpm3.401_id434743_000000_SAXS.tif'],\n",
       "   ['IB_DIPA_RbBr_org_phase-a_pos1_13.46401keV_wa20.0_sdd1.8m_bpm3.396_id434698_000000_SAXS.tif',\n",
       "    'IB_DIPA_RbBr_org_phase-a_pos1_13.46401keV_wa40.0_sdd1.8m_bpm3.395_id434744_000000_SAXS.tif'],\n",
       "   ['IB_DIPA_RbBr_org_phase-a_pos1_13.46501keV_wa20.0_sdd1.8m_bpm3.395_id434699_000000_SAXS.tif',\n",
       "    'IB_DIPA_RbBr_org_phase-a_pos1_13.46501keV_wa40.0_sdd1.8m_bpm3.392_id434745_000000_SAXS.tif'],\n",
       "   ['IB_DIPA_RbBr_org_phase-a_pos1_13.46550keV_wa20.0_sdd1.8m_bpm3.395_id434700_000000_SAXS.tif',\n",
       "    'IB_DIPA_RbBr_org_phase-a_pos1_13.46550keV_wa40.0_sdd1.8m_bpm3.393_id434746_000000_SAXS.tif'],\n",
       "   ['IB_DIPA_RbBr_org_phase-a_pos1_13.46599keV_wa20.0_sdd1.8m_bpm3.392_id434701_000000_SAXS.tif',\n",
       "    'IB_DIPA_RbBr_org_phase-a_pos1_13.46599keV_wa40.0_sdd1.8m_bpm3.387_id434747_000000_SAXS.tif'],\n",
       "   ['IB_DIPA_RbBr_org_phase-a_pos1_13.46650keV_wa20.0_sdd1.8m_bpm3.389_id434702_000000_SAXS.tif',\n",
       "    'IB_DIPA_RbBr_org_phase-a_pos1_13.46650keV_wa40.0_sdd1.8m_bpm3.384_id434748_000000_SAXS.tif'],\n",
       "   ['IB_DIPA_RbBr_org_phase-a_pos1_13.46699keV_wa20.0_sdd1.8m_bpm3.389_id434703_000000_SAXS.tif',\n",
       "    'IB_DIPA_RbBr_org_phase-a_pos1_13.46699keV_wa40.0_sdd1.8m_bpm3.381_id434749_000000_SAXS.tif'],\n",
       "   ['IB_DIPA_RbBr_org_phase-a_pos1_13.46750keV_wa20.0_sdd1.8m_bpm3.383_id434704_000000_SAXS.tif',\n",
       "    'IB_DIPA_RbBr_org_phase-a_pos1_13.46750keV_wa40.0_sdd1.8m_bpm03.38_id434750_000000_SAXS.tif'],\n",
       "   ['IB_DIPA_RbBr_org_phase-a_pos1_13.46800keV_wa20.0_sdd1.8m_bpm3.378_id434705_000000_SAXS.tif',\n",
       "    'IB_DIPA_RbBr_org_phase-a_pos1_13.46800keV_wa40.0_sdd1.8m_bpm3.381_id434751_000000_SAXS.tif'],\n",
       "   ['IB_DIPA_RbBr_org_phase-a_pos1_13.46850keV_wa20.0_sdd1.8m_bpm3.377_id434706_000000_SAXS.tif',\n",
       "    'IB_DIPA_RbBr_org_phase-a_pos1_13.46850keV_wa40.0_sdd1.8m_bpm3.375_id434752_000000_SAXS.tif'],\n",
       "   ['IB_DIPA_RbBr_org_phase-a_pos1_13.46900keV_wa20.0_sdd1.8m_bpm3.377_id434707_000000_SAXS.tif',\n",
       "    'IB_DIPA_RbBr_org_phase-a_pos1_13.46900keV_wa40.0_sdd1.8m_bpm3.387_id434753_000000_SAXS.tif'],\n",
       "   ['IB_DIPA_RbBr_org_phase-a_pos1_13.46950keV_wa20.0_sdd1.8m_bpm3.373_id434708_000000_SAXS.tif',\n",
       "    'IB_DIPA_RbBr_org_phase-a_pos1_13.46950keV_wa40.0_sdd1.8m_bpm3.385_id434754_000000_SAXS.tif'],\n",
       "   ['IB_DIPA_RbBr_org_phase-a_pos1_13.47000keV_wa20.0_sdd1.8m_bpm3.371_id434709_000000_SAXS.tif',\n",
       "    'IB_DIPA_RbBr_org_phase-a_pos1_13.47000keV_wa40.0_sdd1.8m_bpm3.383_id434755_000000_SAXS.tif'],\n",
       "   ['IB_DIPA_RbBr_org_phase-a_pos1_13.47050keV_wa20.0_sdd1.8m_bpm3.369_id434710_000000_SAXS.tif',\n",
       "    'IB_DIPA_RbBr_org_phase-a_pos1_13.47050keV_wa40.0_sdd1.8m_bpm3.376_id434756_000000_SAXS.tif'],\n",
       "   ['IB_DIPA_RbBr_org_phase-a_pos1_13.47100keV_wa20.0_sdd1.8m_bpm3.376_id434711_000000_SAXS.tif',\n",
       "    'IB_DIPA_RbBr_org_phase-a_pos1_13.47100keV_wa40.0_sdd1.8m_bpm3.377_id434757_000000_SAXS.tif'],\n",
       "   ['IB_DIPA_RbBr_org_phase-a_pos1_13.47150keV_wa20.0_sdd1.8m_bpm03.38_id434712_000000_SAXS.tif',\n",
       "    'IB_DIPA_RbBr_org_phase-a_pos1_13.47150keV_wa40.0_sdd1.8m_bpm3.375_id434758_000000_SAXS.tif'],\n",
       "   ['IB_DIPA_RbBr_org_phase-a_pos1_13.47200keV_wa20.0_sdd1.8m_bpm3.377_id434713_000000_SAXS.tif',\n",
       "    'IB_DIPA_RbBr_org_phase-a_pos1_13.47200keV_wa40.0_sdd1.8m_bpm3.372_id434759_000000_SAXS.tif'],\n",
       "   ['IB_DIPA_RbBr_org_phase-a_pos1_13.47251keV_wa20.0_sdd1.8m_bpm3.375_id434714_000000_SAXS.tif',\n",
       "    'IB_DIPA_RbBr_org_phase-a_pos1_13.47251keV_wa40.0_sdd1.8m_bpm3.366_id434760_000000_SAXS.tif'],\n",
       "   ['IB_DIPA_RbBr_org_phase-a_pos1_13.47300keV_wa20.0_sdd1.8m_bpm3.371_id434715_000000_SAXS.tif',\n",
       "    'IB_DIPA_RbBr_org_phase-a_pos1_13.47300keV_wa40.0_sdd1.8m_bpm3.363_id434761_000000_SAXS.tif'],\n",
       "   ['IB_DIPA_RbBr_org_phase-a_pos1_13.47350keV_wa20.0_sdd1.8m_bpm3.364_id434716_000000_SAXS.tif',\n",
       "    'IB_DIPA_RbBr_org_phase-a_pos1_13.47350keV_wa40.0_sdd1.8m_bpm3.357_id434762_000000_SAXS.tif'],\n",
       "   ['IB_DIPA_RbBr_org_phase-a_pos1_13.47400keV_wa20.0_sdd1.8m_bpm3.359_id434717_000000_SAXS.tif',\n",
       "    'IB_DIPA_RbBr_org_phase-a_pos1_13.47400keV_wa40.0_sdd1.8m_bpm3.354_id434763_000000_SAXS.tif'],\n",
       "   ['IB_DIPA_RbBr_org_phase-a_pos1_13.47450keV_wa20.0_sdd1.8m_bpm3.358_id434718_000000_SAXS.tif',\n",
       "    'IB_DIPA_RbBr_org_phase-a_pos1_13.47450keV_wa40.0_sdd1.8m_bpm03.35_id434764_000000_SAXS.tif'],\n",
       "   ['IB_DIPA_RbBr_org_phase-a_pos1_13.47500keV_wa20.0_sdd1.8m_bpm3.354_id434719_000000_SAXS.tif',\n",
       "    'IB_DIPA_RbBr_org_phase-a_pos1_13.47500keV_wa40.0_sdd1.8m_bpm3.354_id434765_000000_SAXS.tif'],\n",
       "   ['IB_DIPA_RbBr_org_phase-a_pos1_13.47700keV_wa20.0_sdd1.8m_bpm3.356_id434720_000000_SAXS.tif',\n",
       "    'IB_DIPA_RbBr_org_phase-a_pos1_13.47700keV_wa40.0_sdd1.8m_bpm3.356_id434766_000000_SAXS.tif'],\n",
       "   ['IB_DIPA_RbBr_org_phase-a_pos1_13.47900keV_wa20.0_sdd1.8m_bpm3.353_id434721_000000_SAXS.tif',\n",
       "    'IB_DIPA_RbBr_org_phase-a_pos1_13.47900keV_wa40.0_sdd1.8m_bpm3.348_id434767_000000_SAXS.tif'],\n",
       "   ['IB_DIPA_RbBr_org_phase-a_pos1_13.48100keV_wa20.0_sdd1.8m_bpm3.352_id434722_000000_SAXS.tif',\n",
       "    'IB_DIPA_RbBr_org_phase-a_pos1_13.48100keV_wa40.0_sdd1.8m_bpm03.34_id434768_000000_SAXS.tif'],\n",
       "   ['IB_DIPA_RbBr_org_phase-a_pos1_13.48300keV_wa20.0_sdd1.8m_bpm3.349_id434723_000000_SAXS.tif',\n",
       "    'IB_DIPA_RbBr_org_phase-a_pos1_13.48300keV_wa40.0_sdd1.8m_bpm3.357_id434769_000000_SAXS.tif'],\n",
       "   ['IB_DIPA_RbBr_org_phase-a_pos1_13.48500keV_wa20.0_sdd1.8m_bpm3.348_id434724_000000_SAXS.tif',\n",
       "    'IB_DIPA_RbBr_org_phase-a_pos1_13.48500keV_wa40.0_sdd1.8m_bpm3.353_id434770_000000_SAXS.tif'],\n",
       "   ['IB_DIPA_RbBr_org_phase-a_pos1_13.49000keV_wa20.0_sdd1.8m_bpm3.343_id434725_000000_SAXS.tif',\n",
       "    'IB_DIPA_RbBr_org_phase-a_pos1_13.49000keV_wa40.0_sdd1.8m_bpm3.348_id434771_000000_SAXS.tif'],\n",
       "   ['IB_DIPA_RbBr_org_phase-a_pos1_13.49500keV_wa20.0_sdd1.8m_bpm3.342_id434726_000000_SAXS.tif',\n",
       "    'IB_DIPA_RbBr_org_phase-a_pos1_13.49500keV_wa40.0_sdd1.8m_bpm3.345_id434772_000000_SAXS.tif'],\n",
       "   ['IB_DIPA_RbBr_org_phase-a_pos1_13.50000keV_wa20.0_sdd1.8m_bpm3.338_id434727_000000_SAXS.tif',\n",
       "    'IB_DIPA_RbBr_org_phase-a_pos1_13.50000keV_wa40.0_sdd1.8m_bpm3.343_id434773_000000_SAXS.tif'],\n",
       "   ['IB_DIPA_RbBr_org_phase-a_pos1_13.50500keV_wa20.0_sdd1.8m_bpm3.346_id434728_000000_SAXS.tif',\n",
       "    'IB_DIPA_RbBr_org_phase-a_pos1_13.50500keV_wa40.0_sdd1.8m_bpm3.346_id434774_000000_SAXS.tif'],\n",
       "   ['IB_DIPA_RbBr_org_phase-a_pos1_13.51000keV_wa20.0_sdd1.8m_bpm3.346_id434729_000000_SAXS.tif',\n",
       "    'IB_DIPA_RbBr_org_phase-a_pos1_13.51000keV_wa40.0_sdd1.8m_bpm3.343_id434775_000000_SAXS.tif'],\n",
       "   ['IB_DIPA_RbBr_org_phase-a_pos1_13.51500keV_wa20.0_sdd1.8m_bpm3.344_id434730_000000_SAXS.tif',\n",
       "    'IB_DIPA_RbBr_org_phase-a_pos1_13.51500keV_wa40.0_sdd1.8m_bpm3.344_id434776_000000_SAXS.tif'],\n",
       "   ['IB_DIPA_RbBr_org_phase-a_pos1_13.52000keV_wa20.0_sdd1.8m_bpm3.337_id434731_000000_SAXS.tif',\n",
       "    'IB_DIPA_RbBr_org_phase-a_pos1_13.52000keV_wa40.0_sdd1.8m_bpm3.336_id434777_000000_SAXS.tif'],\n",
       "   ['IB_DIPA_RbBr_org_phase-a_pos1_13.52500keV_wa20.0_sdd1.8m_bpm3.329_id434732_000000_SAXS.tif',\n",
       "    'IB_DIPA_RbBr_org_phase-a_pos1_13.52500keV_wa40.0_sdd1.8m_bpm3.326_id434778_000000_SAXS.tif'],\n",
       "   ['IB_DIPA_RbBr_org_phase-a_pos1_13.53000keV_wa20.0_sdd1.8m_bpm03.32_id434733_000000_SAXS.tif',\n",
       "    'IB_DIPA_RbBr_org_phase-a_pos1_13.53000keV_wa40.0_sdd1.8m_bpm3.318_id434779_000000_SAXS.tif'],\n",
       "   ['IB_DIPA_RbBr_org_phase-a_pos1_13.53500keV_wa20.0_sdd1.8m_bpm3.285_id434734_000000_SAXS.tif',\n",
       "    'IB_DIPA_RbBr_org_phase-a_pos1_13.53500keV_wa40.0_sdd1.8m_bpm3.281_id434780_000000_SAXS.tif'],\n",
       "   ['IB_DIPA_RbBr_org_phase-a_pos1_13.54000keV_wa20.0_sdd1.8m_bpm3.299_id434735_000000_SAXS.tif',\n",
       "    'IB_DIPA_RbBr_org_phase-a_pos1_13.54000keV_wa40.0_sdd1.8m_bpm3.291_id434781_000000_SAXS.tif'],\n",
       "   ['IB_DIPA_RbBr_org_phase-a_pos1_13.54501keV_wa20.0_sdd1.8m_bpm3.276_id434736_000000_SAXS.tif',\n",
       "    'IB_DIPA_RbBr_org_phase-a_pos1_13.54501keV_wa40.0_sdd1.8m_bpm3.267_id434782_000000_SAXS.tif'],\n",
       "   ['IB_DIPA_RbBr_org_phase-a_pos1_13.55000keV_wa20.0_sdd1.8m_bpm3.282_id434737_000000_SAXS.tif',\n",
       "    'IB_DIPA_RbBr_org_phase-a_pos1_13.55000keV_wa40.0_sdd1.8m_bpm3.281_id434783_000000_SAXS.tif']]],\n",
       " 'IB_DIPA_NaBr_aq_phase-a_pos1_': [[['IB_DIPA_NaBr_aq_phase-a_pos1_13.45000keV_wa20.0_sdd1.8m_bpm03.43_id434830_000000_SAXS.tif',\n",
       "    'IB_DIPA_NaBr_aq_phase-a_pos1_13.45000keV_wa40.0_sdd1.8m_bpm3.416_id434876_000000_SAXS.tif'],\n",
       "   ['IB_DIPA_NaBr_aq_phase-a_pos1_13.45500keV_wa20.0_sdd1.8m_bpm3.421_id434831_000000_SAXS.tif',\n",
       "    'IB_DIPA_NaBr_aq_phase-a_pos1_13.45500keV_wa40.0_sdd1.8m_bpm3.412_id434877_000000_SAXS.tif'],\n",
       "   ['IB_DIPA_NaBr_aq_phase-a_pos1_13.46000keV_wa20.0_sdd1.8m_bpm3.409_id434832_000000_SAXS.tif',\n",
       "    'IB_DIPA_NaBr_aq_phase-a_pos1_13.46000keV_wa40.0_sdd1.8m_bpm3.407_id434878_000000_SAXS.tif'],\n",
       "   ['IB_DIPA_NaBr_aq_phase-a_pos1_13.46099keV_wa20.0_sdd1.8m_bpm3.405_id434833_000000_SAXS.tif',\n",
       "    'IB_DIPA_NaBr_aq_phase-a_pos1_13.46099keV_wa40.0_sdd1.8m_bpm3.404_id434879_000000_SAXS.tif'],\n",
       "   ['IB_DIPA_NaBr_aq_phase-a_pos1_13.46201keV_wa20.0_sdd1.8m_bpm3.406_id434834_000000_SAXS.tif',\n",
       "    'IB_DIPA_NaBr_aq_phase-a_pos1_13.46201keV_wa40.0_sdd1.8m_bpm003.4_id434880_000000_SAXS.tif'],\n",
       "   ['IB_DIPA_NaBr_aq_phase-a_pos1_13.46301keV_wa20.0_sdd1.8m_bpm3.398_id434835_000000_SAXS.tif',\n",
       "    'IB_DIPA_NaBr_aq_phase-a_pos1_13.46301keV_wa40.0_sdd1.8m_bpm3.393_id434881_000000_SAXS.tif'],\n",
       "   ['IB_DIPA_NaBr_aq_phase-a_pos1_13.46401keV_wa20.0_sdd1.8m_bpm3.393_id434836_000000_SAXS.tif',\n",
       "    'IB_DIPA_NaBr_aq_phase-a_pos1_13.46401keV_wa40.0_sdd1.8m_bpm3.388_id434882_000000_SAXS.tif'],\n",
       "   ['IB_DIPA_NaBr_aq_phase-a_pos1_13.46501keV_wa20.0_sdd1.8m_bpm3.391_id434837_000000_SAXS.tif',\n",
       "    'IB_DIPA_NaBr_aq_phase-a_pos1_13.46501keV_wa40.0_sdd1.8m_bpm3.385_id434883_000000_SAXS.tif'],\n",
       "   ['IB_DIPA_NaBr_aq_phase-a_pos1_13.46550keV_wa20.0_sdd1.8m_bpm3.387_id434838_000000_SAXS.tif',\n",
       "    'IB_DIPA_NaBr_aq_phase-a_pos1_13.46550keV_wa40.0_sdd1.8m_bpm3.385_id434884_000000_SAXS.tif'],\n",
       "   ['IB_DIPA_NaBr_aq_phase-a_pos1_13.46599keV_wa20.0_sdd1.8m_bpm3.386_id434839_000000_SAXS.tif',\n",
       "    'IB_DIPA_NaBr_aq_phase-a_pos1_13.46599keV_wa40.0_sdd1.8m_bpm3.392_id434885_000000_SAXS.tif'],\n",
       "   ['IB_DIPA_NaBr_aq_phase-a_pos1_13.46650keV_wa20.0_sdd1.8m_bpm3.386_id434840_000000_SAXS.tif',\n",
       "    'IB_DIPA_NaBr_aq_phase-a_pos1_13.46650keV_wa40.0_sdd1.8m_bpm3.391_id434886_000000_SAXS.tif'],\n",
       "   ['IB_DIPA_NaBr_aq_phase-a_pos1_13.46699keV_wa20.0_sdd1.8m_bpm3.382_id434841_000000_SAXS.tif',\n",
       "    'IB_DIPA_NaBr_aq_phase-a_pos1_13.46699keV_wa40.0_sdd1.8m_bpm3.386_id434887_000000_SAXS.tif'],\n",
       "   ['IB_DIPA_NaBr_aq_phase-a_pos1_13.46750keV_wa20.0_sdd1.8m_bpm3.377_id434842_000000_SAXS.tif',\n",
       "    'IB_DIPA_NaBr_aq_phase-a_pos1_13.46750keV_wa40.0_sdd1.8m_bpm3.385_id434888_000000_SAXS.tif'],\n",
       "   ['IB_DIPA_NaBr_aq_phase-a_pos1_13.46800keV_wa20.0_sdd1.8m_bpm3.377_id434843_000000_SAXS.tif',\n",
       "    'IB_DIPA_NaBr_aq_phase-a_pos1_13.46800keV_wa40.0_sdd1.8m_bpm3.384_id434889_000000_SAXS.tif'],\n",
       "   ['IB_DIPA_NaBr_aq_phase-a_pos1_13.46850keV_wa20.0_sdd1.8m_bpm3.388_id434844_000000_SAXS.tif',\n",
       "    'IB_DIPA_NaBr_aq_phase-a_pos1_13.46850keV_wa40.0_sdd1.8m_bpm3.378_id434890_000000_SAXS.tif'],\n",
       "   ['IB_DIPA_NaBr_aq_phase-a_pos1_13.46900keV_wa20.0_sdd1.8m_bpm3.384_id434845_000000_SAXS.tif',\n",
       "    'IB_DIPA_NaBr_aq_phase-a_pos1_13.46900keV_wa40.0_sdd1.8m_bpm3.371_id434891_000000_SAXS.tif'],\n",
       "   ['IB_DIPA_NaBr_aq_phase-a_pos1_13.46950keV_wa20.0_sdd1.8m_bpm3.385_id434846_000000_SAXS.tif',\n",
       "    'IB_DIPA_NaBr_aq_phase-a_pos1_13.46950keV_wa40.0_sdd1.8m_bpm3.373_id434892_000000_SAXS.tif'],\n",
       "   ['IB_DIPA_NaBr_aq_phase-a_pos1_13.47000keV_wa20.0_sdd1.8m_bpm3.382_id434847_000000_SAXS.tif',\n",
       "    'IB_DIPA_NaBr_aq_phase-a_pos1_13.47000keV_wa40.0_sdd1.8m_bpm3.369_id434893_000000_SAXS.tif'],\n",
       "   ['IB_DIPA_NaBr_aq_phase-a_pos1_13.47050keV_wa20.0_sdd1.8m_bpm3.377_id434848_000000_SAXS.tif',\n",
       "    'IB_DIPA_NaBr_aq_phase-a_pos1_13.47050keV_wa40.0_sdd1.8m_bpm3.368_id434894_000000_SAXS.tif'],\n",
       "   ['IB_DIPA_NaBr_aq_phase-a_pos1_13.47100keV_wa20.0_sdd1.8m_bpm3.375_id434849_000000_SAXS.tif',\n",
       "    'IB_DIPA_NaBr_aq_phase-a_pos1_13.47100keV_wa40.0_sdd1.8m_bpm3.368_id434895_000000_SAXS.tif'],\n",
       "   ['IB_DIPA_NaBr_aq_phase-a_pos1_13.47150keV_wa20.0_sdd1.8m_bpm3.375_id434850_000000_SAXS.tif',\n",
       "    'IB_DIPA_NaBr_aq_phase-a_pos1_13.47150keV_wa40.0_sdd1.8m_bpm3.369_id434896_000000_SAXS.tif'],\n",
       "   ['IB_DIPA_NaBr_aq_phase-a_pos1_13.47200keV_wa20.0_sdd1.8m_bpm03.37_id434851_000000_SAXS.tif',\n",
       "    'IB_DIPA_NaBr_aq_phase-a_pos1_13.47200keV_wa40.0_sdd1.8m_bpm3.365_id434897_000000_SAXS.tif'],\n",
       "   ['IB_DIPA_NaBr_aq_phase-a_pos1_13.47251keV_wa20.0_sdd1.8m_bpm3.368_id434852_000000_SAXS.tif',\n",
       "    'IB_DIPA_NaBr_aq_phase-a_pos1_13.47251keV_wa40.0_sdd1.8m_bpm3.356_id434898_000000_SAXS.tif'],\n",
       "   ['IB_DIPA_NaBr_aq_phase-a_pos1_13.47300keV_wa20.0_sdd1.8m_bpm3.362_id434853_000000_SAXS.tif',\n",
       "    'IB_DIPA_NaBr_aq_phase-a_pos1_13.47300keV_wa40.0_sdd1.8m_bpm3.357_id434899_000000_SAXS.tif'],\n",
       "   ['IB_DIPA_NaBr_aq_phase-a_pos1_13.47350keV_wa20.0_sdd1.8m_bpm03.36_id434854_000000_SAXS.tif',\n",
       "    'IB_DIPA_NaBr_aq_phase-a_pos1_13.47350keV_wa40.0_sdd1.8m_bpm3.347_id434900_000000_SAXS.tif'],\n",
       "   ['IB_DIPA_NaBr_aq_phase-a_pos1_13.47400keV_wa20.0_sdd1.8m_bpm3.355_id434855_000000_SAXS.tif',\n",
       "    'IB_DIPA_NaBr_aq_phase-a_pos1_13.47400keV_wa40.0_sdd1.8m_bpm3.359_id434901_000000_SAXS.tif'],\n",
       "   ['IB_DIPA_NaBr_aq_phase-a_pos1_13.47450keV_wa20.0_sdd1.8m_bpm3.356_id434856_000000_SAXS.tif',\n",
       "    'IB_DIPA_NaBr_aq_phase-a_pos1_13.47450keV_wa40.0_sdd1.8m_bpm3.362_id434902_000000_SAXS.tif'],\n",
       "   ['IB_DIPA_NaBr_aq_phase-a_pos1_13.47500keV_wa20.0_sdd1.8m_bpm3.358_id434857_000000_SAXS.tif',\n",
       "    'IB_DIPA_NaBr_aq_phase-a_pos1_13.47500keV_wa40.0_sdd1.8m_bpm3.361_id434903_000000_SAXS.tif'],\n",
       "   ['IB_DIPA_NaBr_aq_phase-a_pos1_13.47700keV_wa20.0_sdd1.8m_bpm3.357_id434858_000000_SAXS.tif',\n",
       "    'IB_DIPA_NaBr_aq_phase-a_pos1_13.47700keV_wa40.0_sdd1.8m_bpm3.366_id434904_000000_SAXS.tif'],\n",
       "   ['IB_DIPA_NaBr_aq_phase-a_pos1_13.47900keV_wa20.0_sdd1.8m_bpm03.35_id434859_000000_SAXS.tif',\n",
       "    'IB_DIPA_NaBr_aq_phase-a_pos1_13.47900keV_wa40.0_sdd1.8m_bpm3.355_id434905_000000_SAXS.tif'],\n",
       "   ['IB_DIPA_NaBr_aq_phase-a_pos1_13.48100keV_wa20.0_sdd1.8m_bpm03.36_id434860_000000_SAXS.tif',\n",
       "    'IB_DIPA_NaBr_aq_phase-a_pos1_13.48100keV_wa40.0_sdd1.8m_bpm3.352_id434906_000000_SAXS.tif'],\n",
       "   ['IB_DIPA_NaBr_aq_phase-a_pos1_13.48300keV_wa20.0_sdd1.8m_bpm3.364_id434861_000000_SAXS.tif',\n",
       "    'IB_DIPA_NaBr_aq_phase-a_pos1_13.48300keV_wa40.0_sdd1.8m_bpm3.356_id434907_000000_SAXS.tif'],\n",
       "   ['IB_DIPA_NaBr_aq_phase-a_pos1_13.48500keV_wa20.0_sdd1.8m_bpm03.36_id434862_000000_SAXS.tif',\n",
       "    'IB_DIPA_NaBr_aq_phase-a_pos1_13.48500keV_wa40.0_sdd1.8m_bpm3.352_id434908_000000_SAXS.tif'],\n",
       "   ['IB_DIPA_NaBr_aq_phase-a_pos1_13.49000keV_wa20.0_sdd1.8m_bpm3.352_id434863_000000_SAXS.tif',\n",
       "    'IB_DIPA_NaBr_aq_phase-a_pos1_13.49000keV_wa40.0_sdd1.8m_bpm3.344_id434909_000000_SAXS.tif'],\n",
       "   ['IB_DIPA_NaBr_aq_phase-a_pos1_13.49500keV_wa20.0_sdd1.8m_bpm3.349_id434864_000000_SAXS.tif',\n",
       "    'IB_DIPA_NaBr_aq_phase-a_pos1_13.49500keV_wa40.0_sdd1.8m_bpm3.337_id434910_000000_SAXS.tif'],\n",
       "   ['IB_DIPA_NaBr_aq_phase-a_pos1_13.50000keV_wa20.0_sdd1.8m_bpm3.346_id434865_000000_SAXS.tif',\n",
       "    'IB_DIPA_NaBr_aq_phase-a_pos1_13.50000keV_wa40.0_sdd1.8m_bpm3.333_id434911_000000_SAXS.tif'],\n",
       "   ['IB_DIPA_NaBr_aq_phase-a_pos1_13.50500keV_wa20.0_sdd1.8m_bpm3.345_id434866_000000_SAXS.tif',\n",
       "    'IB_DIPA_NaBr_aq_phase-a_pos1_13.50500keV_wa40.0_sdd1.8m_bpm3.335_id434912_000000_SAXS.tif'],\n",
       "   ['IB_DIPA_NaBr_aq_phase-a_pos1_13.51000keV_wa20.0_sdd1.8m_bpm3.345_id434867_000000_SAXS.tif',\n",
       "    'IB_DIPA_NaBr_aq_phase-a_pos1_13.51000keV_wa40.0_sdd1.8m_bpm3.337_id434913_000000_SAXS.tif'],\n",
       "   ['IB_DIPA_NaBr_aq_phase-a_pos1_13.51500keV_wa20.0_sdd1.8m_bpm3.342_id434868_000000_SAXS.tif',\n",
       "    'IB_DIPA_NaBr_aq_phase-a_pos1_13.51500keV_wa40.0_sdd1.8m_bpm3.341_id434914_000000_SAXS.tif'],\n",
       "   ['IB_DIPA_NaBr_aq_phase-a_pos1_13.52000keV_wa20.0_sdd1.8m_bpm3.334_id434869_000000_SAXS.tif',\n",
       "    'IB_DIPA_NaBr_aq_phase-a_pos1_13.52000keV_wa40.0_sdd1.8m_bpm3.329_id434915_000000_SAXS.tif'],\n",
       "   ['IB_DIPA_NaBr_aq_phase-a_pos1_13.52500keV_wa20.0_sdd1.8m_bpm3.328_id434870_000000_SAXS.tif',\n",
       "    'IB_DIPA_NaBr_aq_phase-a_pos1_13.52500keV_wa40.0_sdd1.8m_bpm3.329_id434916_000000_SAXS.tif'],\n",
       "   ['IB_DIPA_NaBr_aq_phase-a_pos1_13.53000keV_wa20.0_sdd1.8m_bpm3.317_id434871_000000_SAXS.tif',\n",
       "    'IB_DIPA_NaBr_aq_phase-a_pos1_13.53000keV_wa40.0_sdd1.8m_bpm3.322_id434917_000000_SAXS.tif'],\n",
       "   ['IB_DIPA_NaBr_aq_phase-a_pos1_13.53500keV_wa20.0_sdd1.8m_bpm03.28_id434872_000000_SAXS.tif',\n",
       "    'IB_DIPA_NaBr_aq_phase-a_pos1_13.53500keV_wa40.0_sdd1.8m_bpm3.285_id434918_000000_SAXS.tif'],\n",
       "   ['IB_DIPA_NaBr_aq_phase-a_pos1_13.54000keV_wa20.0_sdd1.8m_bpm3.295_id434873_000000_SAXS.tif',\n",
       "    'IB_DIPA_NaBr_aq_phase-a_pos1_13.54000keV_wa40.0_sdd1.8m_bpm3.303_id434919_000000_SAXS.tif'],\n",
       "   ['IB_DIPA_NaBr_aq_phase-a_pos1_13.54501keV_wa20.0_sdd1.8m_bpm3.268_id434874_000000_SAXS.tif',\n",
       "    'IB_DIPA_NaBr_aq_phase-a_pos1_13.54501keV_wa40.0_sdd1.8m_bpm3.279_id434920_000000_SAXS.tif'],\n",
       "   ['IB_DIPA_NaBr_aq_phase-a_pos1_13.55000keV_wa20.0_sdd1.8m_bpm3.276_id434875_000000_SAXS.tif',\n",
       "    'IB_DIPA_NaBr_aq_phase-a_pos1_13.55000keV_wa40.0_sdd1.8m_bpm3.289_id434921_000000_SAXS.tif']]],\n",
       " 'IB_DIPA_KBr_aq_phase-a_pos1_': [[['IB_DIPA_KBr_aq_phase-a_pos1_13.45000keV_wa20.0_sdd1.8m_bpm3.418_id434968_000000_SAXS.tif',\n",
       "    'IB_DIPA_KBr_aq_phase-a_pos1_13.45000keV_wa40.0_sdd1.8m_bpm03.41_id435014_000000_SAXS.tif'],\n",
       "   ['IB_DIPA_KBr_aq_phase-a_pos1_13.45500keV_wa20.0_sdd1.8m_bpm3.407_id434969_000000_SAXS.tif',\n",
       "    'IB_DIPA_KBr_aq_phase-a_pos1_13.45500keV_wa40.0_sdd1.8m_bpm3.407_id435015_000000_SAXS.tif'],\n",
       "   ['IB_DIPA_KBr_aq_phase-a_pos1_13.46000keV_wa20.0_sdd1.8m_bpm3.399_id434970_000000_SAXS.tif',\n",
       "    'IB_DIPA_KBr_aq_phase-a_pos1_13.46000keV_wa40.0_sdd1.8m_bpm3.413_id435016_000000_SAXS.tif'],\n",
       "   ['IB_DIPA_KBr_aq_phase-a_pos1_13.46099keV_wa20.0_sdd1.8m_bpm3.398_id434971_000000_SAXS.tif',\n",
       "    'IB_DIPA_KBr_aq_phase-a_pos1_13.46099keV_wa40.0_sdd1.8m_bpm03.41_id435017_000000_SAXS.tif'],\n",
       "   ['IB_DIPA_KBr_aq_phase-a_pos1_13.46201keV_wa20.0_sdd1.8m_bpm3.393_id434972_000000_SAXS.tif',\n",
       "    'IB_DIPA_KBr_aq_phase-a_pos1_13.46201keV_wa40.0_sdd1.8m_bpm3.402_id435018_000000_SAXS.tif'],\n",
       "   ['IB_DIPA_KBr_aq_phase-a_pos1_13.46301keV_wa20.0_sdd1.8m_bpm3.389_id434973_000000_SAXS.tif',\n",
       "    'IB_DIPA_KBr_aq_phase-a_pos1_13.46301keV_wa40.0_sdd1.8m_bpm3.402_id435019_000000_SAXS.tif'],\n",
       "   ['IB_DIPA_KBr_aq_phase-a_pos1_13.46401keV_wa20.0_sdd1.8m_bpm3.382_id434974_000000_SAXS.tif',\n",
       "    'IB_DIPA_KBr_aq_phase-a_pos1_13.46401keV_wa40.0_sdd1.8m_bpm3.396_id435020_000000_SAXS.tif'],\n",
       "   ['IB_DIPA_KBr_aq_phase-a_pos1_13.46501keV_wa20.0_sdd1.8m_bpm3.381_id434975_000000_SAXS.tif',\n",
       "    'IB_DIPA_KBr_aq_phase-a_pos1_13.46501keV_wa40.0_sdd1.8m_bpm3.395_id435021_000000_SAXS.tif'],\n",
       "   ['IB_DIPA_KBr_aq_phase-a_pos1_13.46550keV_wa20.0_sdd1.8m_bpm3.387_id434976_000000_SAXS.tif',\n",
       "    'IB_DIPA_KBr_aq_phase-a_pos1_13.46550keV_wa40.0_sdd1.8m_bpm03.39_id435022_000000_SAXS.tif'],\n",
       "   ['IB_DIPA_KBr_aq_phase-a_pos1_13.46599keV_wa20.0_sdd1.8m_bpm3.387_id434977_000000_SAXS.tif',\n",
       "    'IB_DIPA_KBr_aq_phase-a_pos1_13.46599keV_wa40.0_sdd1.8m_bpm3.391_id435023_000000_SAXS.tif'],\n",
       "   ['IB_DIPA_KBr_aq_phase-a_pos1_13.46650keV_wa20.0_sdd1.8m_bpm3.384_id434978_000000_SAXS.tif',\n",
       "    'IB_DIPA_KBr_aq_phase-a_pos1_13.46650keV_wa40.0_sdd1.8m_bpm3.391_id435024_000000_SAXS.tif'],\n",
       "   ['IB_DIPA_KBr_aq_phase-a_pos1_13.46699keV_wa20.0_sdd1.8m_bpm3.384_id434979_000000_SAXS.tif',\n",
       "    'IB_DIPA_KBr_aq_phase-a_pos1_13.46699keV_wa40.0_sdd1.8m_bpm3.385_id435025_000000_SAXS.tif'],\n",
       "   ['IB_DIPA_KBr_aq_phase-a_pos1_13.46750keV_wa20.0_sdd1.8m_bpm3.382_id434980_000000_SAXS.tif',\n",
       "    'IB_DIPA_KBr_aq_phase-a_pos1_13.46750keV_wa40.0_sdd1.8m_bpm3.383_id435026_000000_SAXS.tif'],\n",
       "   ['IB_DIPA_KBr_aq_phase-a_pos1_13.46800keV_wa20.0_sdd1.8m_bpm3.381_id434981_000000_SAXS.tif',\n",
       "    'IB_DIPA_KBr_aq_phase-a_pos1_13.46800keV_wa40.0_sdd1.8m_bpm3.383_id435027_000000_SAXS.tif'],\n",
       "   ['IB_DIPA_KBr_aq_phase-a_pos1_13.46850keV_wa20.0_sdd1.8m_bpm3.379_id434982_000000_SAXS.tif',\n",
       "    'IB_DIPA_KBr_aq_phase-a_pos1_13.46850keV_wa40.0_sdd1.8m_bpm3.384_id435028_000000_SAXS.tif'],\n",
       "   ['IB_DIPA_KBr_aq_phase-a_pos1_13.46900keV_wa20.0_sdd1.8m_bpm3.372_id434983_000000_SAXS.tif',\n",
       "    'IB_DIPA_KBr_aq_phase-a_pos1_13.46900keV_wa40.0_sdd1.8m_bpm3.378_id435029_000000_SAXS.tif'],\n",
       "   ['IB_DIPA_KBr_aq_phase-a_pos1_13.46950keV_wa20.0_sdd1.8m_bpm3.369_id434984_000000_SAXS.tif',\n",
       "    'IB_DIPA_KBr_aq_phase-a_pos1_13.46950keV_wa40.0_sdd1.8m_bpm3.376_id435030_000000_SAXS.tif'],\n",
       "   ['IB_DIPA_KBr_aq_phase-a_pos1_13.47000keV_wa20.0_sdd1.8m_bpm3.371_id434985_000000_SAXS.tif',\n",
       "    'IB_DIPA_KBr_aq_phase-a_pos1_13.47000keV_wa40.0_sdd1.8m_bpm3.371_id435031_000000_SAXS.tif'],\n",
       "   ['IB_DIPA_KBr_aq_phase-a_pos1_13.47050keV_wa20.0_sdd1.8m_bpm3.367_id434986_000000_SAXS.tif',\n",
       "    'IB_DIPA_KBr_aq_phase-a_pos1_13.47050keV_wa40.0_sdd1.8m_bpm3.384_id435032_000000_SAXS.tif'],\n",
       "   ['IB_DIPA_KBr_aq_phase-a_pos1_13.47100keV_wa20.0_sdd1.8m_bpm3.366_id434987_000000_SAXS.tif',\n",
       "    'IB_DIPA_KBr_aq_phase-a_pos1_13.47100keV_wa40.0_sdd1.8m_bpm3.381_id435033_000000_SAXS.tif'],\n",
       "   ['IB_DIPA_KBr_aq_phase-a_pos1_13.47150keV_wa20.0_sdd1.8m_bpm3.367_id434988_000000_SAXS.tif',\n",
       "    'IB_DIPA_KBr_aq_phase-a_pos1_13.47150keV_wa40.0_sdd1.8m_bpm3.377_id435034_000000_SAXS.tif'],\n",
       "   ['IB_DIPA_KBr_aq_phase-a_pos1_13.47200keV_wa20.0_sdd1.8m_bpm3.365_id434989_000000_SAXS.tif',\n",
       "    'IB_DIPA_KBr_aq_phase-a_pos1_13.47200keV_wa40.0_sdd1.8m_bpm3.376_id435035_000000_SAXS.tif'],\n",
       "   ['IB_DIPA_KBr_aq_phase-a_pos1_13.47251keV_wa20.0_sdd1.8m_bpm3.357_id434990_000000_SAXS.tif',\n",
       "    'IB_DIPA_KBr_aq_phase-a_pos1_13.47251keV_wa40.0_sdd1.8m_bpm3.373_id435036_000000_SAXS.tif'],\n",
       "   ['IB_DIPA_KBr_aq_phase-a_pos1_13.47300keV_wa20.0_sdd1.8m_bpm3.352_id434991_000000_SAXS.tif',\n",
       "    'IB_DIPA_KBr_aq_phase-a_pos1_13.47300keV_wa40.0_sdd1.8m_bpm3.366_id435037_000000_SAXS.tif'],\n",
       "   ['IB_DIPA_KBr_aq_phase-a_pos1_13.47350keV_wa20.0_sdd1.8m_bpm3.364_id434992_000000_SAXS.tif',\n",
       "    'IB_DIPA_KBr_aq_phase-a_pos1_13.47350keV_wa40.0_sdd1.8m_bpm3.359_id435038_000000_SAXS.tif'],\n",
       "   ['IB_DIPA_KBr_aq_phase-a_pos1_13.47400keV_wa20.0_sdd1.8m_bpm3.359_id434993_000000_SAXS.tif',\n",
       "    'IB_DIPA_KBr_aq_phase-a_pos1_13.47400keV_wa40.0_sdd1.8m_bpm3.357_id435039_000000_SAXS.tif'],\n",
       "   ['IB_DIPA_KBr_aq_phase-a_pos1_13.47450keV_wa20.0_sdd1.8m_bpm3.358_id434994_000000_SAXS.tif',\n",
       "    'IB_DIPA_KBr_aq_phase-a_pos1_13.47450keV_wa40.0_sdd1.8m_bpm3.359_id435040_000000_SAXS.tif'],\n",
       "   ['IB_DIPA_KBr_aq_phase-a_pos1_13.47500keV_wa20.0_sdd1.8m_bpm3.356_id434995_000000_SAXS.tif',\n",
       "    'IB_DIPA_KBr_aq_phase-a_pos1_13.47500keV_wa40.0_sdd1.8m_bpm3.357_id435041_000000_SAXS.tif'],\n",
       "   ['IB_DIPA_KBr_aq_phase-a_pos1_13.47700keV_wa20.0_sdd1.8m_bpm3.366_id434996_000000_SAXS.tif',\n",
       "    'IB_DIPA_KBr_aq_phase-a_pos1_13.47700keV_wa40.0_sdd1.8m_bpm3.361_id435042_000000_SAXS.tif'],\n",
       "   ['IB_DIPA_KBr_aq_phase-a_pos1_13.47900keV_wa20.0_sdd1.8m_bpm3.349_id434997_000000_SAXS.tif',\n",
       "    'IB_DIPA_KBr_aq_phase-a_pos1_13.47900keV_wa40.0_sdd1.8m_bpm3.354_id435043_000000_SAXS.tif'],\n",
       "   ['IB_DIPA_KBr_aq_phase-a_pos1_13.48100keV_wa20.0_sdd1.8m_bpm3.344_id434998_000000_SAXS.tif',\n",
       "    'IB_DIPA_KBr_aq_phase-a_pos1_13.48100keV_wa40.0_sdd1.8m_bpm3.348_id435044_000000_SAXS.tif'],\n",
       "   ['IB_DIPA_KBr_aq_phase-a_pos1_13.48300keV_wa20.0_sdd1.8m_bpm3.347_id434999_000000_SAXS.tif',\n",
       "    'IB_DIPA_KBr_aq_phase-a_pos1_13.48300keV_wa40.0_sdd1.8m_bpm03.35_id435045_000000_SAXS.tif'],\n",
       "   ['IB_DIPA_KBr_aq_phase-a_pos1_13.48500keV_wa20.0_sdd1.8m_bpm3.345_id435000_000000_SAXS.tif',\n",
       "    'IB_DIPA_KBr_aq_phase-a_pos1_13.48500keV_wa40.0_sdd1.8m_bpm3.349_id435046_000000_SAXS.tif'],\n",
       "   ['IB_DIPA_KBr_aq_phase-a_pos1_13.49000keV_wa20.0_sdd1.8m_bpm3.338_id435001_000000_SAXS.tif',\n",
       "    'IB_DIPA_KBr_aq_phase-a_pos1_13.49000keV_wa40.0_sdd1.8m_bpm3.342_id435047_000000_SAXS.tif'],\n",
       "   ['IB_DIPA_KBr_aq_phase-a_pos1_13.49500keV_wa20.0_sdd1.8m_bpm3.333_id435002_000000_SAXS.tif',\n",
       "    'IB_DIPA_KBr_aq_phase-a_pos1_13.49500keV_wa40.0_sdd1.8m_bpm3.349_id435048_000000_SAXS.tif'],\n",
       "   ['IB_DIPA_KBr_aq_phase-a_pos1_13.50000keV_wa20.0_sdd1.8m_bpm3.335_id435003_000000_SAXS.tif',\n",
       "    'IB_DIPA_KBr_aq_phase-a_pos1_13.50000keV_wa40.0_sdd1.8m_bpm3.341_id435049_000000_SAXS.tif'],\n",
       "   ['IB_DIPA_KBr_aq_phase-a_pos1_13.50500keV_wa20.0_sdd1.8m_bpm3.334_id435004_000000_SAXS.tif',\n",
       "    'IB_DIPA_KBr_aq_phase-a_pos1_13.50500keV_wa40.0_sdd1.8m_bpm3.347_id435050_000000_SAXS.tif'],\n",
       "   ['IB_DIPA_KBr_aq_phase-a_pos1_13.51000keV_wa20.0_sdd1.8m_bpm03.33_id435005_000000_SAXS.tif',\n",
       "    'IB_DIPA_KBr_aq_phase-a_pos1_13.51000keV_wa40.0_sdd1.8m_bpm3.343_id435051_000000_SAXS.tif'],\n",
       "   ['IB_DIPA_KBr_aq_phase-a_pos1_13.51500keV_wa20.0_sdd1.8m_bpm3.329_id435006_000000_SAXS.tif',\n",
       "    'IB_DIPA_KBr_aq_phase-a_pos1_13.51500keV_wa40.0_sdd1.8m_bpm03.34_id435052_000000_SAXS.tif'],\n",
       "   ['IB_DIPA_KBr_aq_phase-a_pos1_13.52000keV_wa20.0_sdd1.8m_bpm3.324_id435007_000000_SAXS.tif',\n",
       "    'IB_DIPA_KBr_aq_phase-a_pos1_13.52000keV_wa40.0_sdd1.8m_bpm3.338_id435053_000000_SAXS.tif'],\n",
       "   ['IB_DIPA_KBr_aq_phase-a_pos1_13.52500keV_wa20.0_sdd1.8m_bpm3.325_id435008_000000_SAXS.tif',\n",
       "    'IB_DIPA_KBr_aq_phase-a_pos1_13.52500keV_wa40.0_sdd1.8m_bpm03.33_id435054_000000_SAXS.tif'],\n",
       "   ['IB_DIPA_KBr_aq_phase-a_pos1_13.53000keV_wa20.0_sdd1.8m_bpm3.314_id435009_000000_SAXS.tif',\n",
       "    'IB_DIPA_KBr_aq_phase-a_pos1_13.53000keV_wa40.0_sdd1.8m_bpm3.314_id435055_000000_SAXS.tif'],\n",
       "   ['IB_DIPA_KBr_aq_phase-a_pos1_13.53500keV_wa20.0_sdd1.8m_bpm3.278_id435010_000000_SAXS.tif',\n",
       "    'IB_DIPA_KBr_aq_phase-a_pos1_13.53500keV_wa40.0_sdd1.8m_bpm3.281_id435056_000000_SAXS.tif'],\n",
       "   ['IB_DIPA_KBr_aq_phase-a_pos1_13.54000keV_wa20.0_sdd1.8m_bpm3.294_id435011_000000_SAXS.tif',\n",
       "    'IB_DIPA_KBr_aq_phase-a_pos1_13.54000keV_wa40.0_sdd1.8m_bpm3.292_id435057_000000_SAXS.tif'],\n",
       "   ['IB_DIPA_KBr_aq_phase-a_pos1_13.54501keV_wa20.0_sdd1.8m_bpm3.271_id435012_000000_SAXS.tif',\n",
       "    'IB_DIPA_KBr_aq_phase-a_pos1_13.54501keV_wa40.0_sdd1.8m_bpm03.27_id435058_000000_SAXS.tif'],\n",
       "   ['IB_DIPA_KBr_aq_phase-a_pos1_13.55000keV_wa20.0_sdd1.8m_bpm3.281_id435013_000000_SAXS.tif',\n",
       "    'IB_DIPA_KBr_aq_phase-a_pos1_13.55000keV_wa40.0_sdd1.8m_bpm3.281_id435059_000000_SAXS.tif']]],\n",
       " 'IB_DIPA_RbBr_aq_phase-a_pos1_': [[['IB_DIPA_RbBr_aq_phase-a_pos1_13.45000keV_wa20.0_sdd1.8m_bpm3.412_id435106_000000_SAXS.tif',\n",
       "    'IB_DIPA_RbBr_aq_phase-a_pos1_13.45000keV_wa40.0_sdd1.8m_bpm3.426_id435152_000000_SAXS.tif'],\n",
       "   ['IB_DIPA_RbBr_aq_phase-a_pos1_13.45500keV_wa20.0_sdd1.8m_bpm3.407_id435107_000000_SAXS.tif',\n",
       "    'IB_DIPA_RbBr_aq_phase-a_pos1_13.45500keV_wa40.0_sdd1.8m_bpm3.419_id435153_000000_SAXS.tif'],\n",
       "   ['IB_DIPA_RbBr_aq_phase-a_pos1_13.46000keV_wa20.0_sdd1.8m_bpm3.407_id435108_000000_SAXS.tif',\n",
       "    'IB_DIPA_RbBr_aq_phase-a_pos1_13.46000keV_wa40.0_sdd1.8m_bpm3.411_id435154_000000_SAXS.tif'],\n",
       "   ['IB_DIPA_RbBr_aq_phase-a_pos1_13.46099keV_wa20.0_sdd1.8m_bpm3.403_id435109_000000_SAXS.tif',\n",
       "    'IB_DIPA_RbBr_aq_phase-a_pos1_13.46099keV_wa40.0_sdd1.8m_bpm3.405_id435155_000000_SAXS.tif'],\n",
       "   ['IB_DIPA_RbBr_aq_phase-a_pos1_13.46201keV_wa20.0_sdd1.8m_bpm3.396_id435110_000000_SAXS.tif',\n",
       "    'IB_DIPA_RbBr_aq_phase-a_pos1_13.46201keV_wa40.0_sdd1.8m_bpm3.402_id435156_000000_SAXS.tif'],\n",
       "   ['IB_DIPA_RbBr_aq_phase-a_pos1_13.46301keV_wa20.0_sdd1.8m_bpm3.395_id435111_000000_SAXS.tif',\n",
       "    'IB_DIPA_RbBr_aq_phase-a_pos1_13.46301keV_wa40.0_sdd1.8m_bpm3.399_id435157_000000_SAXS.tif'],\n",
       "   ['IB_DIPA_RbBr_aq_phase-a_pos1_13.46401keV_wa20.0_sdd1.8m_bpm3.387_id435112_000000_SAXS.tif',\n",
       "    'IB_DIPA_RbBr_aq_phase-a_pos1_13.46401keV_wa40.0_sdd1.8m_bpm3.392_id435158_000000_SAXS.tif'],\n",
       "   ['IB_DIPA_RbBr_aq_phase-a_pos1_13.46501keV_wa20.0_sdd1.8m_bpm3.384_id435113_000000_SAXS.tif',\n",
       "    'IB_DIPA_RbBr_aq_phase-a_pos1_13.46501keV_wa40.0_sdd1.8m_bpm3.389_id435159_000000_SAXS.tif'],\n",
       "   ['IB_DIPA_RbBr_aq_phase-a_pos1_13.46550keV_wa20.0_sdd1.8m_bpm3.381_id435114_000000_SAXS.tif',\n",
       "    'IB_DIPA_RbBr_aq_phase-a_pos1_13.46550keV_wa40.0_sdd1.8m_bpm3.383_id435160_000000_SAXS.tif'],\n",
       "   ['IB_DIPA_RbBr_aq_phase-a_pos1_13.46599keV_wa20.0_sdd1.8m_bpm3.382_id435115_000000_SAXS.tif',\n",
       "    'IB_DIPA_RbBr_aq_phase-a_pos1_13.46599keV_wa40.0_sdd1.8m_bpm3.386_id435161_000000_SAXS.tif'],\n",
       "   ['IB_DIPA_RbBr_aq_phase-a_pos1_13.46650keV_wa20.0_sdd1.8m_bpm03.38_id435116_000000_SAXS.tif',\n",
       "    'IB_DIPA_RbBr_aq_phase-a_pos1_13.46650keV_wa40.0_sdd1.8m_bpm3.383_id435162_000000_SAXS.tif'],\n",
       "   ['IB_DIPA_RbBr_aq_phase-a_pos1_13.46699keV_wa20.0_sdd1.8m_bpm3.379_id435117_000000_SAXS.tif',\n",
       "    'IB_DIPA_RbBr_aq_phase-a_pos1_13.46699keV_wa40.0_sdd1.8m_bpm3.383_id435163_000000_SAXS.tif'],\n",
       "   ['IB_DIPA_RbBr_aq_phase-a_pos1_13.46750keV_wa20.0_sdd1.8m_bpm03.38_id435118_000000_SAXS.tif',\n",
       "    'IB_DIPA_RbBr_aq_phase-a_pos1_13.46750keV_wa40.0_sdd1.8m_bpm3.392_id435164_000000_SAXS.tif'],\n",
       "   ['IB_DIPA_RbBr_aq_phase-a_pos1_13.46800keV_wa20.0_sdd1.8m_bpm3.372_id435119_000000_SAXS.tif',\n",
       "    'IB_DIPA_RbBr_aq_phase-a_pos1_13.46800keV_wa40.0_sdd1.8m_bpm3.385_id435165_000000_SAXS.tif'],\n",
       "   ['IB_DIPA_RbBr_aq_phase-a_pos1_13.46850keV_wa20.0_sdd1.8m_bpm3.369_id435120_000000_SAXS.tif',\n",
       "    'IB_DIPA_RbBr_aq_phase-a_pos1_13.46850keV_wa40.0_sdd1.8m_bpm3.385_id435166_000000_SAXS.tif'],\n",
       "   ['IB_DIPA_RbBr_aq_phase-a_pos1_13.46900keV_wa20.0_sdd1.8m_bpm3.373_id435121_000000_SAXS.tif',\n",
       "    'IB_DIPA_RbBr_aq_phase-a_pos1_13.46900keV_wa40.0_sdd1.8m_bpm3.379_id435167_000000_SAXS.tif'],\n",
       "   ['IB_DIPA_RbBr_aq_phase-a_pos1_13.46950keV_wa20.0_sdd1.8m_bpm3.371_id435122_000000_SAXS.tif',\n",
       "    'IB_DIPA_RbBr_aq_phase-a_pos1_13.46950keV_wa40.0_sdd1.8m_bpm3.383_id435168_000000_SAXS.tif'],\n",
       "   ['IB_DIPA_RbBr_aq_phase-a_pos1_13.47000keV_wa20.0_sdd1.8m_bpm3.367_id435123_000000_SAXS.tif',\n",
       "    'IB_DIPA_RbBr_aq_phase-a_pos1_13.47000keV_wa40.0_sdd1.8m_bpm3.379_id435169_000000_SAXS.tif'],\n",
       "   ['IB_DIPA_RbBr_aq_phase-a_pos1_13.47050keV_wa20.0_sdd1.8m_bpm3.377_id435124_000000_SAXS.tif',\n",
       "    'IB_DIPA_RbBr_aq_phase-a_pos1_13.47050keV_wa40.0_sdd1.8m_bpm3.378_id435170_000000_SAXS.tif'],\n",
       "   ['IB_DIPA_RbBr_aq_phase-a_pos1_13.47100keV_wa20.0_sdd1.8m_bpm3.376_id435125_000000_SAXS.tif',\n",
       "    'IB_DIPA_RbBr_aq_phase-a_pos1_13.47100keV_wa40.0_sdd1.8m_bpm3.379_id435171_000000_SAXS.tif'],\n",
       "   ['IB_DIPA_RbBr_aq_phase-a_pos1_13.47150keV_wa20.0_sdd1.8m_bpm3.377_id435126_000000_SAXS.tif',\n",
       "    'IB_DIPA_RbBr_aq_phase-a_pos1_13.47150keV_wa40.0_sdd1.8m_bpm03.38_id435172_000000_SAXS.tif'],\n",
       "   ['IB_DIPA_RbBr_aq_phase-a_pos1_13.47200keV_wa20.0_sdd1.8m_bpm3.378_id435127_000000_SAXS.tif',\n",
       "    'IB_DIPA_RbBr_aq_phase-a_pos1_13.47200keV_wa40.0_sdd1.8m_bpm3.373_id435173_000000_SAXS.tif'],\n",
       "   ['IB_DIPA_RbBr_aq_phase-a_pos1_13.47251keV_wa20.0_sdd1.8m_bpm3.372_id435128_000000_SAXS.tif',\n",
       "    'IB_DIPA_RbBr_aq_phase-a_pos1_13.47251keV_wa40.0_sdd1.8m_bpm3.368_id435174_000000_SAXS.tif'],\n",
       "   ['IB_DIPA_RbBr_aq_phase-a_pos1_13.47300keV_wa20.0_sdd1.8m_bpm3.365_id435129_000000_SAXS.tif',\n",
       "    'IB_DIPA_RbBr_aq_phase-a_pos1_13.47300keV_wa40.0_sdd1.8m_bpm3.361_id435175_000000_SAXS.tif'],\n",
       "   ['IB_DIPA_RbBr_aq_phase-a_pos1_13.47350keV_wa20.0_sdd1.8m_bpm3.356_id435130_000000_SAXS.tif',\n",
       "    'IB_DIPA_RbBr_aq_phase-a_pos1_13.47350keV_wa40.0_sdd1.8m_bpm3.357_id435176_000000_SAXS.tif'],\n",
       "   ['IB_DIPA_RbBr_aq_phase-a_pos1_13.47400keV_wa20.0_sdd1.8m_bpm3.355_id435131_000000_SAXS.tif',\n",
       "    'IB_DIPA_RbBr_aq_phase-a_pos1_13.47400keV_wa40.0_sdd1.8m_bpm3.358_id435177_000000_SAXS.tif'],\n",
       "   ['IB_DIPA_RbBr_aq_phase-a_pos1_13.47450keV_wa20.0_sdd1.8m_bpm3.359_id435132_000000_SAXS.tif',\n",
       "    'IB_DIPA_RbBr_aq_phase-a_pos1_13.47450keV_wa40.0_sdd1.8m_bpm3.355_id435178_000000_SAXS.tif'],\n",
       "   ['IB_DIPA_RbBr_aq_phase-a_pos1_13.47500keV_wa20.0_sdd1.8m_bpm03.35_id435133_000000_SAXS.tif',\n",
       "    'IB_DIPA_RbBr_aq_phase-a_pos1_13.47500keV_wa40.0_sdd1.8m_bpm3.355_id435179_000000_SAXS.tif'],\n",
       "   ['IB_DIPA_RbBr_aq_phase-a_pos1_13.47700keV_wa20.0_sdd1.8m_bpm3.354_id435134_000000_SAXS.tif',\n",
       "    'IB_DIPA_RbBr_aq_phase-a_pos1_13.47700keV_wa40.0_sdd1.8m_bpm3.369_id435180_000000_SAXS.tif'],\n",
       "   ['IB_DIPA_RbBr_aq_phase-a_pos1_13.47900keV_wa20.0_sdd1.8m_bpm3.343_id435135_000000_SAXS.tif',\n",
       "    'IB_DIPA_RbBr_aq_phase-a_pos1_13.47900keV_wa40.0_sdd1.8m_bpm3.358_id435181_000000_SAXS.tif'],\n",
       "   ['IB_DIPA_RbBr_aq_phase-a_pos1_13.48100keV_wa20.0_sdd1.8m_bpm3.345_id435136_000000_SAXS.tif',\n",
       "    'IB_DIPA_RbBr_aq_phase-a_pos1_13.48100keV_wa40.0_sdd1.8m_bpm3.354_id435182_000000_SAXS.tif'],\n",
       "   ['IB_DIPA_RbBr_aq_phase-a_pos1_13.48300keV_wa20.0_sdd1.8m_bpm3.348_id435137_000000_SAXS.tif',\n",
       "    'IB_DIPA_RbBr_aq_phase-a_pos1_13.48300keV_wa40.0_sdd1.8m_bpm03.36_id435183_000000_SAXS.tif'],\n",
       "   ['IB_DIPA_RbBr_aq_phase-a_pos1_13.48500keV_wa20.0_sdd1.8m_bpm3.335_id435138_000000_SAXS.tif',\n",
       "    'IB_DIPA_RbBr_aq_phase-a_pos1_13.48500keV_wa40.0_sdd1.8m_bpm3.356_id435184_000000_SAXS.tif'],\n",
       "   ['IB_DIPA_RbBr_aq_phase-a_pos1_13.49000keV_wa20.0_sdd1.8m_bpm3.348_id435139_000000_SAXS.tif',\n",
       "    'IB_DIPA_RbBr_aq_phase-a_pos1_13.49000keV_wa40.0_sdd1.8m_bpm03.35_id435185_000000_SAXS.tif'],\n",
       "   ['IB_DIPA_RbBr_aq_phase-a_pos1_13.49500keV_wa20.0_sdd1.8m_bpm3.343_id435140_000000_SAXS.tif',\n",
       "    'IB_DIPA_RbBr_aq_phase-a_pos1_13.49500keV_wa40.0_sdd1.8m_bpm3.343_id435186_000000_SAXS.tif'],\n",
       "   ['IB_DIPA_RbBr_aq_phase-a_pos1_13.50000keV_wa20.0_sdd1.8m_bpm3.346_id435141_000000_SAXS.tif',\n",
       "    'IB_DIPA_RbBr_aq_phase-a_pos1_13.50000keV_wa40.0_sdd1.8m_bpm3.341_id435187_000000_SAXS.tif'],\n",
       "   ['IB_DIPA_RbBr_aq_phase-a_pos1_13.50500keV_wa20.0_sdd1.8m_bpm3.344_id435142_000000_SAXS.tif',\n",
       "    'IB_DIPA_RbBr_aq_phase-a_pos1_13.50500keV_wa40.0_sdd1.8m_bpm3.339_id435188_000000_SAXS.tif'],\n",
       "   ['IB_DIPA_RbBr_aq_phase-a_pos1_13.51000keV_wa20.0_sdd1.8m_bpm3.342_id435143_000000_SAXS.tif',\n",
       "    'IB_DIPA_RbBr_aq_phase-a_pos1_13.51000keV_wa40.0_sdd1.8m_bpm3.337_id435189_000000_SAXS.tif'],\n",
       "   ['IB_DIPA_RbBr_aq_phase-a_pos1_13.51500keV_wa20.0_sdd1.8m_bpm3.344_id435144_000000_SAXS.tif',\n",
       "    'IB_DIPA_RbBr_aq_phase-a_pos1_13.51500keV_wa40.0_sdd1.8m_bpm03.34_id435190_000000_SAXS.tif'],\n",
       "   ['IB_DIPA_RbBr_aq_phase-a_pos1_13.52000keV_wa20.0_sdd1.8m_bpm3.331_id435145_000000_SAXS.tif',\n",
       "    'IB_DIPA_RbBr_aq_phase-a_pos1_13.52000keV_wa40.0_sdd1.8m_bpm3.331_id435191_000000_SAXS.tif'],\n",
       "   ['IB_DIPA_RbBr_aq_phase-a_pos1_13.52500keV_wa20.0_sdd1.8m_bpm3.327_id435146_000000_SAXS.tif',\n",
       "    'IB_DIPA_RbBr_aq_phase-a_pos1_13.52500keV_wa40.0_sdd1.8m_bpm3.323_id435192_000000_SAXS.tif'],\n",
       "   ['IB_DIPA_RbBr_aq_phase-a_pos1_13.53000keV_wa20.0_sdd1.8m_bpm3.315_id435147_000000_SAXS.tif',\n",
       "    'IB_DIPA_RbBr_aq_phase-a_pos1_13.53000keV_wa40.0_sdd1.8m_bpm3.314_id435193_000000_SAXS.tif'],\n",
       "   ['IB_DIPA_RbBr_aq_phase-a_pos1_13.53500keV_wa20.0_sdd1.8m_bpm3.279_id435148_000000_SAXS.tif',\n",
       "    'IB_DIPA_RbBr_aq_phase-a_pos1_13.53500keV_wa40.0_sdd1.8m_bpm3.275_id435194_000000_SAXS.tif'],\n",
       "   ['IB_DIPA_RbBr_aq_phase-a_pos1_13.54000keV_wa20.0_sdd1.8m_bpm3.296_id435149_000000_SAXS.tif',\n",
       "    'IB_DIPA_RbBr_aq_phase-a_pos1_13.54000keV_wa40.0_sdd1.8m_bpm3.297_id435195_000000_SAXS.tif'],\n",
       "   ['IB_DIPA_RbBr_aq_phase-a_pos1_13.54501keV_wa20.0_sdd1.8m_bpm3.269_id435150_000000_SAXS.tif',\n",
       "    'IB_DIPA_RbBr_aq_phase-a_pos1_13.54501keV_wa40.0_sdd1.8m_bpm3.282_id435196_000000_SAXS.tif'],\n",
       "   ['IB_DIPA_RbBr_aq_phase-a_pos1_13.55000keV_wa20.0_sdd1.8m_bpm3.277_id435151_000000_SAXS.tif',\n",
       "    'IB_DIPA_RbBr_aq_phase-a_pos1_13.55000keV_wa40.0_sdd1.8m_bpm3.287_id435197_000000_SAXS.tif']]]}"
      ]
     },
     "execution_count": 14,
     "metadata": {},
     "output_type": "execute_result"
    }
   ],
   "source": [
    "batch_dct"
   ]
  },
  {
   "cell_type": "code",
   "execution_count": 15,
   "metadata": {},
   "outputs": [
    {
     "name": "stdout",
     "output_type": "stream",
     "text": [
      "Total samples: 11\n",
      "Total values scanned for sample IB_kaptom_pos1_: 1\n",
      "Total measurments for sample IB_kaptom_pos1_: 46\n"
     ]
    }
   ],
   "source": [
    "i = 0\n",
    "sample = samples[i]\n",
    "print('Total samples: {}'.format(len(batch_dct)))\n",
    "print('Total values scanned for sample {}: {}'.format(sample, len(batch_dct[sample])))\n",
    "print('Total measurments for sample {}: {}'.format(sample, len(batch_dct[sample][0])))"
   ]
  },
  {
   "cell_type": "markdown",
   "metadata": {},
   "source": [
    "\n",
    "<h3>Background / hot pixels</h3>"
   ]
  },
  {
   "cell_type": "raw",
   "metadata": {},
   "source": [
    "cycle_bkg = '2022_3'\n",
    "proposal_id_bkg = '309585_Reynolds_2'\n",
    "\n",
    "path_bkg = os.path.join(os.sep, 'nsls2', 'data', 'smi', 'legacy', 'results',  'data',\n",
    "                         cycle_bkg, proposal_id_bkg, '1M')\n",
    "sample_bkg = 'BASIN_2'"
   ]
  },
  {
   "cell_type": "raw",
   "metadata": {},
   "source": [
    "files_bkg = sorted([os.path.join(path_bkg, f) for f in os.listdir(path_bkg)\n",
    "                   if ('test' not in f) and ('.tif' in f) and (sample_bkg in f)])\n",
    "files_bkg.sort(key=lambda x: os.path.getmtime(x), reverse=False)\n",
    "files_bkg = pd.Series([os.path.split(path_to_file)[-1] for path_to_file in files_bkg])\n",
    "print(files_bkg)"
   ]
  },
  {
   "cell_type": "raw",
   "metadata": {},
   "source": [
    "files_bkg = files[files.str.contains(samples[0])]\n",
    "files_bkg"
   ]
  },
  {
   "cell_type": "raw",
   "metadata": {},
   "source": [
    "batch_bkg = {}\n",
    "\n",
    "energies = pd.Series([f[f.find('eV_') - 7 : f.find('eV_')] for f in files_bkg]).unique()\n",
    "angles = pd.Series([f[f.find('_wa') + 3 : f.find('_bpm')] for f in files_bkg]).unique()\n",
    "\n",
    "for energy in energies:\n",
    "\n",
    "    # Find sample scans for particular energy and separate into specific measurements\n",
    "    scans = files_bkg[files_bkg.str.contains(energy)]\n",
    "    batch_bkg[float(energy)] = scans.tolist()"
   ]
  },
  {
   "cell_type": "code",
   "execution_count": 16,
   "metadata": {},
   "outputs": [],
   "source": [
    "batch_bkg = None"
   ]
  },
  {
   "cell_type": "raw",
   "metadata": {},
   "source": [
    "for energy, fnames in batch_bkg.items():\n",
    "    energy = float(fnames[0][fnames[0].find('eV') - 7 : fnames[0].find('eV')])\n",
    "    \n",
    "\n",
    "    if energy > 0:#4300:\n",
    "        \n",
    "        fig, ax = plt.subplots()\n",
    "        sname = fnames[0][:fnames[0].find('eV') + 2]\n",
    "        fig.suptitle(sname, y=1.0)\n",
    "        \n",
    "        for i, f in enumerate(fnames):\n",
    "            flatfield = fabio.open(os.path.join(path_data, f)).data\n",
    "            im = ax.imshow(flatfield, vmin=0, vmax=np.percentile(flatfield, 99))\n",
    "            ax.set_xlabel('Pixels')\n",
    "            ax_divider = make_axes_locatable(ax)\n",
    "            cax = ax_divider.append_axes('top', size='3%', pad='2%')\n",
    "            cb = colorbar(cax, im, orientation='horizontal')\n",
    "            cax.set_xlabel('Intensity (arb. u.)', size=8)\n",
    "            cax.xaxis.set_label_position('top')\n",
    "            cax.xaxis.tick_top()\n",
    "            cax.xaxis.set_tick_params(labelsize=8) "
   ]
  },
  {
   "cell_type": "code",
   "execution_count": 17,
   "metadata": {},
   "outputs": [
    {
     "data": {
      "text/plain": [
       "Series([], dtype: object)"
      ]
     },
     "execution_count": 17,
     "metadata": {},
     "output_type": "execute_result"
    }
   ],
   "source": [
    "test = sorted([os.path.join(path_data, f) for f in os.listdir(path_data) if ('test_darks' in f) and ('.tif' in f)])\n",
    "test.sort(key=lambda x: os.path.getmtime(x), reverse=False)\n",
    "test = pd.Series([os.path.split(path_to_file)[-1] for path_to_file in test])\n",
    "test"
   ]
  },
  {
   "cell_type": "code",
   "execution_count": 18,
   "metadata": {
    "scrolled": true
   },
   "outputs": [],
   "source": [
    "if not test.empty:\n",
    "    fnames = test\n",
    "else:\n",
    "    fnames = files.iloc[1:4].tolist()\n",
    "#fnames"
   ]
  },
  {
   "cell_type": "code",
   "execution_count": 19,
   "metadata": {},
   "outputs": [
    {
     "data": {
      "text/plain": [
       "['IB_LiBr-sol-nosolv-a-nexafs_pos1_13.45101keV_wa20.0_sdd1.8m_bpm003.4_id433606_000000_SAXS.tif',\n",
       " 'IB_LiBr-sol-nosolv-a-nexafs_pos1_13.45200keV_wa20.0_sdd1.8m_bpm3.399_id433607_000000_SAXS.tif',\n",
       " 'IB_LiBr-sol-nosolv-a-nexafs_pos1_13.45300keV_wa20.0_sdd1.8m_bpm3.396_id433608_000000_SAXS.tif']"
      ]
     },
     "execution_count": 19,
     "metadata": {},
     "output_type": "execute_result"
    }
   ],
   "source": [
    "fnames"
   ]
  },
  {
   "cell_type": "code",
   "execution_count": 20,
   "metadata": {},
   "outputs": [
    {
     "data": {
      "application/javascript": [
       "/* Put everything inside the global mpl namespace */\n",
       "/* global mpl */\n",
       "window.mpl = {};\n",
       "\n",
       "mpl.get_websocket_type = function () {\n",
       "    if (typeof WebSocket !== 'undefined') {\n",
       "        return WebSocket;\n",
       "    } else if (typeof MozWebSocket !== 'undefined') {\n",
       "        return MozWebSocket;\n",
       "    } else {\n",
       "        alert(\n",
       "            'Your browser does not have WebSocket support. ' +\n",
       "                'Please try Chrome, Safari or Firefox ≥ 6. ' +\n",
       "                'Firefox 4 and 5 are also supported but you ' +\n",
       "                'have to enable WebSockets in about:config.'\n",
       "        );\n",
       "    }\n",
       "};\n",
       "\n",
       "mpl.figure = function (figure_id, websocket, ondownload, parent_element) {\n",
       "    this.id = figure_id;\n",
       "\n",
       "    this.ws = websocket;\n",
       "\n",
       "    this.supports_binary = this.ws.binaryType !== undefined;\n",
       "\n",
       "    if (!this.supports_binary) {\n",
       "        var warnings = document.getElementById('mpl-warnings');\n",
       "        if (warnings) {\n",
       "            warnings.style.display = 'block';\n",
       "            warnings.textContent =\n",
       "                'This browser does not support binary websocket messages. ' +\n",
       "                'Performance may be slow.';\n",
       "        }\n",
       "    }\n",
       "\n",
       "    this.imageObj = new Image();\n",
       "\n",
       "    this.context = undefined;\n",
       "    this.message = undefined;\n",
       "    this.canvas = undefined;\n",
       "    this.rubberband_canvas = undefined;\n",
       "    this.rubberband_context = undefined;\n",
       "    this.format_dropdown = undefined;\n",
       "\n",
       "    this.image_mode = 'full';\n",
       "\n",
       "    this.root = document.createElement('div');\n",
       "    this.root.setAttribute('style', 'display: inline-block');\n",
       "    this._root_extra_style(this.root);\n",
       "\n",
       "    parent_element.appendChild(this.root);\n",
       "\n",
       "    this._init_header(this);\n",
       "    this._init_canvas(this);\n",
       "    this._init_toolbar(this);\n",
       "\n",
       "    var fig = this;\n",
       "\n",
       "    this.waiting = false;\n",
       "\n",
       "    this.ws.onopen = function () {\n",
       "        fig.send_message('supports_binary', { value: fig.supports_binary });\n",
       "        fig.send_message('send_image_mode', {});\n",
       "        if (fig.ratio !== 1) {\n",
       "            fig.send_message('set_device_pixel_ratio', {\n",
       "                device_pixel_ratio: fig.ratio,\n",
       "            });\n",
       "        }\n",
       "        fig.send_message('refresh', {});\n",
       "    };\n",
       "\n",
       "    this.imageObj.onload = function () {\n",
       "        if (fig.image_mode === 'full') {\n",
       "            // Full images could contain transparency (where diff images\n",
       "            // almost always do), so we need to clear the canvas so that\n",
       "            // there is no ghosting.\n",
       "            fig.context.clearRect(0, 0, fig.canvas.width, fig.canvas.height);\n",
       "        }\n",
       "        fig.context.drawImage(fig.imageObj, 0, 0);\n",
       "    };\n",
       "\n",
       "    this.imageObj.onunload = function () {\n",
       "        fig.ws.close();\n",
       "    };\n",
       "\n",
       "    this.ws.onmessage = this._make_on_message_function(this);\n",
       "\n",
       "    this.ondownload = ondownload;\n",
       "};\n",
       "\n",
       "mpl.figure.prototype._init_header = function () {\n",
       "    var titlebar = document.createElement('div');\n",
       "    titlebar.classList =\n",
       "        'ui-dialog-titlebar ui-widget-header ui-corner-all ui-helper-clearfix';\n",
       "    var titletext = document.createElement('div');\n",
       "    titletext.classList = 'ui-dialog-title';\n",
       "    titletext.setAttribute(\n",
       "        'style',\n",
       "        'width: 100%; text-align: center; padding: 3px;'\n",
       "    );\n",
       "    titlebar.appendChild(titletext);\n",
       "    this.root.appendChild(titlebar);\n",
       "    this.header = titletext;\n",
       "};\n",
       "\n",
       "mpl.figure.prototype._canvas_extra_style = function (_canvas_div) {};\n",
       "\n",
       "mpl.figure.prototype._root_extra_style = function (_canvas_div) {};\n",
       "\n",
       "mpl.figure.prototype._init_canvas = function () {\n",
       "    var fig = this;\n",
       "\n",
       "    var canvas_div = (this.canvas_div = document.createElement('div'));\n",
       "    canvas_div.setAttribute('tabindex', '0');\n",
       "    canvas_div.setAttribute(\n",
       "        'style',\n",
       "        'border: 1px solid #ddd;' +\n",
       "            'box-sizing: content-box;' +\n",
       "            'clear: both;' +\n",
       "            'min-height: 1px;' +\n",
       "            'min-width: 1px;' +\n",
       "            'outline: 0;' +\n",
       "            'overflow: hidden;' +\n",
       "            'position: relative;' +\n",
       "            'resize: both;' +\n",
       "            'z-index: 2;'\n",
       "    );\n",
       "\n",
       "    function on_keyboard_event_closure(name) {\n",
       "        return function (event) {\n",
       "            return fig.key_event(event, name);\n",
       "        };\n",
       "    }\n",
       "\n",
       "    canvas_div.addEventListener(\n",
       "        'keydown',\n",
       "        on_keyboard_event_closure('key_press')\n",
       "    );\n",
       "    canvas_div.addEventListener(\n",
       "        'keyup',\n",
       "        on_keyboard_event_closure('key_release')\n",
       "    );\n",
       "\n",
       "    this._canvas_extra_style(canvas_div);\n",
       "    this.root.appendChild(canvas_div);\n",
       "\n",
       "    var canvas = (this.canvas = document.createElement('canvas'));\n",
       "    canvas.classList.add('mpl-canvas');\n",
       "    canvas.setAttribute(\n",
       "        'style',\n",
       "        'box-sizing: content-box;' +\n",
       "            'pointer-events: none;' +\n",
       "            'position: relative;' +\n",
       "            'z-index: 0;'\n",
       "    );\n",
       "\n",
       "    this.context = canvas.getContext('2d');\n",
       "\n",
       "    var backingStore =\n",
       "        this.context.backingStorePixelRatio ||\n",
       "        this.context.webkitBackingStorePixelRatio ||\n",
       "        this.context.mozBackingStorePixelRatio ||\n",
       "        this.context.msBackingStorePixelRatio ||\n",
       "        this.context.oBackingStorePixelRatio ||\n",
       "        this.context.backingStorePixelRatio ||\n",
       "        1;\n",
       "\n",
       "    this.ratio = (window.devicePixelRatio || 1) / backingStore;\n",
       "\n",
       "    var rubberband_canvas = (this.rubberband_canvas = document.createElement(\n",
       "        'canvas'\n",
       "    ));\n",
       "    rubberband_canvas.setAttribute(\n",
       "        'style',\n",
       "        'box-sizing: content-box;' +\n",
       "            'left: 0;' +\n",
       "            'pointer-events: none;' +\n",
       "            'position: absolute;' +\n",
       "            'top: 0;' +\n",
       "            'z-index: 1;'\n",
       "    );\n",
       "\n",
       "    // Apply a ponyfill if ResizeObserver is not implemented by browser.\n",
       "    if (this.ResizeObserver === undefined) {\n",
       "        if (window.ResizeObserver !== undefined) {\n",
       "            this.ResizeObserver = window.ResizeObserver;\n",
       "        } else {\n",
       "            var obs = _JSXTOOLS_RESIZE_OBSERVER({});\n",
       "            this.ResizeObserver = obs.ResizeObserver;\n",
       "        }\n",
       "    }\n",
       "\n",
       "    this.resizeObserverInstance = new this.ResizeObserver(function (entries) {\n",
       "        var nentries = entries.length;\n",
       "        for (var i = 0; i < nentries; i++) {\n",
       "            var entry = entries[i];\n",
       "            var width, height;\n",
       "            if (entry.contentBoxSize) {\n",
       "                if (entry.contentBoxSize instanceof Array) {\n",
       "                    // Chrome 84 implements new version of spec.\n",
       "                    width = entry.contentBoxSize[0].inlineSize;\n",
       "                    height = entry.contentBoxSize[0].blockSize;\n",
       "                } else {\n",
       "                    // Firefox implements old version of spec.\n",
       "                    width = entry.contentBoxSize.inlineSize;\n",
       "                    height = entry.contentBoxSize.blockSize;\n",
       "                }\n",
       "            } else {\n",
       "                // Chrome <84 implements even older version of spec.\n",
       "                width = entry.contentRect.width;\n",
       "                height = entry.contentRect.height;\n",
       "            }\n",
       "\n",
       "            // Keep the size of the canvas and rubber band canvas in sync with\n",
       "            // the canvas container.\n",
       "            if (entry.devicePixelContentBoxSize) {\n",
       "                // Chrome 84 implements new version of spec.\n",
       "                canvas.setAttribute(\n",
       "                    'width',\n",
       "                    entry.devicePixelContentBoxSize[0].inlineSize\n",
       "                );\n",
       "                canvas.setAttribute(\n",
       "                    'height',\n",
       "                    entry.devicePixelContentBoxSize[0].blockSize\n",
       "                );\n",
       "            } else {\n",
       "                canvas.setAttribute('width', width * fig.ratio);\n",
       "                canvas.setAttribute('height', height * fig.ratio);\n",
       "            }\n",
       "            /* This rescales the canvas back to display pixels, so that it\n",
       "             * appears correct on HiDPI screens. */\n",
       "            canvas.style.width = width + 'px';\n",
       "            canvas.style.height = height + 'px';\n",
       "\n",
       "            rubberband_canvas.setAttribute('width', width);\n",
       "            rubberband_canvas.setAttribute('height', height);\n",
       "\n",
       "            // And update the size in Python. We ignore the initial 0/0 size\n",
       "            // that occurs as the element is placed into the DOM, which should\n",
       "            // otherwise not happen due to the minimum size styling.\n",
       "            if (fig.ws.readyState == 1 && width != 0 && height != 0) {\n",
       "                fig.request_resize(width, height);\n",
       "            }\n",
       "        }\n",
       "    });\n",
       "    this.resizeObserverInstance.observe(canvas_div);\n",
       "\n",
       "    function on_mouse_event_closure(name) {\n",
       "        /* User Agent sniffing is bad, but WebKit is busted:\n",
       "         * https://bugs.webkit.org/show_bug.cgi?id=144526\n",
       "         * https://bugs.webkit.org/show_bug.cgi?id=181818\n",
       "         * The worst that happens here is that they get an extra browser\n",
       "         * selection when dragging, if this check fails to catch them.\n",
       "         */\n",
       "        var UA = navigator.userAgent;\n",
       "        var isWebKit = /AppleWebKit/.test(UA) && !/Chrome/.test(UA);\n",
       "        if(isWebKit) {\n",
       "            return function (event) {\n",
       "                /* This prevents the web browser from automatically changing to\n",
       "                 * the text insertion cursor when the button is pressed. We\n",
       "                 * want to control all of the cursor setting manually through\n",
       "                 * the 'cursor' event from matplotlib */\n",
       "                event.preventDefault()\n",
       "                return fig.mouse_event(event, name);\n",
       "            };\n",
       "        } else {\n",
       "            return function (event) {\n",
       "                return fig.mouse_event(event, name);\n",
       "            };\n",
       "        }\n",
       "    }\n",
       "\n",
       "    canvas_div.addEventListener(\n",
       "        'mousedown',\n",
       "        on_mouse_event_closure('button_press')\n",
       "    );\n",
       "    canvas_div.addEventListener(\n",
       "        'mouseup',\n",
       "        on_mouse_event_closure('button_release')\n",
       "    );\n",
       "    canvas_div.addEventListener(\n",
       "        'dblclick',\n",
       "        on_mouse_event_closure('dblclick')\n",
       "    );\n",
       "    // Throttle sequential mouse events to 1 every 20ms.\n",
       "    canvas_div.addEventListener(\n",
       "        'mousemove',\n",
       "        on_mouse_event_closure('motion_notify')\n",
       "    );\n",
       "\n",
       "    canvas_div.addEventListener(\n",
       "        'mouseenter',\n",
       "        on_mouse_event_closure('figure_enter')\n",
       "    );\n",
       "    canvas_div.addEventListener(\n",
       "        'mouseleave',\n",
       "        on_mouse_event_closure('figure_leave')\n",
       "    );\n",
       "\n",
       "    canvas_div.addEventListener('wheel', function (event) {\n",
       "        if (event.deltaY < 0) {\n",
       "            event.step = 1;\n",
       "        } else {\n",
       "            event.step = -1;\n",
       "        }\n",
       "        on_mouse_event_closure('scroll')(event);\n",
       "    });\n",
       "\n",
       "    canvas_div.appendChild(canvas);\n",
       "    canvas_div.appendChild(rubberband_canvas);\n",
       "\n",
       "    this.rubberband_context = rubberband_canvas.getContext('2d');\n",
       "    this.rubberband_context.strokeStyle = '#000000';\n",
       "\n",
       "    this._resize_canvas = function (width, height, forward) {\n",
       "        if (forward) {\n",
       "            canvas_div.style.width = width + 'px';\n",
       "            canvas_div.style.height = height + 'px';\n",
       "        }\n",
       "    };\n",
       "\n",
       "    // Disable right mouse context menu.\n",
       "    canvas_div.addEventListener('contextmenu', function (_e) {\n",
       "        event.preventDefault();\n",
       "        return false;\n",
       "    });\n",
       "\n",
       "    function set_focus() {\n",
       "        canvas.focus();\n",
       "        canvas_div.focus();\n",
       "    }\n",
       "\n",
       "    window.setTimeout(set_focus, 100);\n",
       "};\n",
       "\n",
       "mpl.figure.prototype._init_toolbar = function () {\n",
       "    var fig = this;\n",
       "\n",
       "    var toolbar = document.createElement('div');\n",
       "    toolbar.classList = 'mpl-toolbar';\n",
       "    this.root.appendChild(toolbar);\n",
       "\n",
       "    function on_click_closure(name) {\n",
       "        return function (_event) {\n",
       "            return fig.toolbar_button_onclick(name);\n",
       "        };\n",
       "    }\n",
       "\n",
       "    function on_mouseover_closure(tooltip) {\n",
       "        return function (event) {\n",
       "            if (!event.currentTarget.disabled) {\n",
       "                return fig.toolbar_button_onmouseover(tooltip);\n",
       "            }\n",
       "        };\n",
       "    }\n",
       "\n",
       "    fig.buttons = {};\n",
       "    var buttonGroup = document.createElement('div');\n",
       "    buttonGroup.classList = 'mpl-button-group';\n",
       "    for (var toolbar_ind in mpl.toolbar_items) {\n",
       "        var name = mpl.toolbar_items[toolbar_ind][0];\n",
       "        var tooltip = mpl.toolbar_items[toolbar_ind][1];\n",
       "        var image = mpl.toolbar_items[toolbar_ind][2];\n",
       "        var method_name = mpl.toolbar_items[toolbar_ind][3];\n",
       "\n",
       "        if (!name) {\n",
       "            /* Instead of a spacer, we start a new button group. */\n",
       "            if (buttonGroup.hasChildNodes()) {\n",
       "                toolbar.appendChild(buttonGroup);\n",
       "            }\n",
       "            buttonGroup = document.createElement('div');\n",
       "            buttonGroup.classList = 'mpl-button-group';\n",
       "            continue;\n",
       "        }\n",
       "\n",
       "        var button = (fig.buttons[name] = document.createElement('button'));\n",
       "        button.classList = 'mpl-widget';\n",
       "        button.setAttribute('role', 'button');\n",
       "        button.setAttribute('aria-disabled', 'false');\n",
       "        button.addEventListener('click', on_click_closure(method_name));\n",
       "        button.addEventListener('mouseover', on_mouseover_closure(tooltip));\n",
       "\n",
       "        var icon_img = document.createElement('img');\n",
       "        icon_img.src = '_images/' + image + '.png';\n",
       "        icon_img.srcset = '_images/' + image + '_large.png 2x';\n",
       "        icon_img.alt = tooltip;\n",
       "        button.appendChild(icon_img);\n",
       "\n",
       "        buttonGroup.appendChild(button);\n",
       "    }\n",
       "\n",
       "    if (buttonGroup.hasChildNodes()) {\n",
       "        toolbar.appendChild(buttonGroup);\n",
       "    }\n",
       "\n",
       "    var fmt_picker = document.createElement('select');\n",
       "    fmt_picker.classList = 'mpl-widget';\n",
       "    toolbar.appendChild(fmt_picker);\n",
       "    this.format_dropdown = fmt_picker;\n",
       "\n",
       "    for (var ind in mpl.extensions) {\n",
       "        var fmt = mpl.extensions[ind];\n",
       "        var option = document.createElement('option');\n",
       "        option.selected = fmt === mpl.default_extension;\n",
       "        option.innerHTML = fmt;\n",
       "        fmt_picker.appendChild(option);\n",
       "    }\n",
       "\n",
       "    var status_bar = document.createElement('span');\n",
       "    status_bar.classList = 'mpl-message';\n",
       "    toolbar.appendChild(status_bar);\n",
       "    this.message = status_bar;\n",
       "};\n",
       "\n",
       "mpl.figure.prototype.request_resize = function (x_pixels, y_pixels) {\n",
       "    // Request matplotlib to resize the figure. Matplotlib will then trigger a resize in the client,\n",
       "    // which will in turn request a refresh of the image.\n",
       "    this.send_message('resize', { width: x_pixels, height: y_pixels });\n",
       "};\n",
       "\n",
       "mpl.figure.prototype.send_message = function (type, properties) {\n",
       "    properties['type'] = type;\n",
       "    properties['figure_id'] = this.id;\n",
       "    this.ws.send(JSON.stringify(properties));\n",
       "};\n",
       "\n",
       "mpl.figure.prototype.send_draw_message = function () {\n",
       "    if (!this.waiting) {\n",
       "        this.waiting = true;\n",
       "        this.ws.send(JSON.stringify({ type: 'draw', figure_id: this.id }));\n",
       "    }\n",
       "};\n",
       "\n",
       "mpl.figure.prototype.handle_save = function (fig, _msg) {\n",
       "    var format_dropdown = fig.format_dropdown;\n",
       "    var format = format_dropdown.options[format_dropdown.selectedIndex].value;\n",
       "    fig.ondownload(fig, format);\n",
       "};\n",
       "\n",
       "mpl.figure.prototype.handle_resize = function (fig, msg) {\n",
       "    var size = msg['size'];\n",
       "    if (size[0] !== fig.canvas.width || size[1] !== fig.canvas.height) {\n",
       "        fig._resize_canvas(size[0], size[1], msg['forward']);\n",
       "        fig.send_message('refresh', {});\n",
       "    }\n",
       "};\n",
       "\n",
       "mpl.figure.prototype.handle_rubberband = function (fig, msg) {\n",
       "    var x0 = msg['x0'] / fig.ratio;\n",
       "    var y0 = (fig.canvas.height - msg['y0']) / fig.ratio;\n",
       "    var x1 = msg['x1'] / fig.ratio;\n",
       "    var y1 = (fig.canvas.height - msg['y1']) / fig.ratio;\n",
       "    x0 = Math.floor(x0) + 0.5;\n",
       "    y0 = Math.floor(y0) + 0.5;\n",
       "    x1 = Math.floor(x1) + 0.5;\n",
       "    y1 = Math.floor(y1) + 0.5;\n",
       "    var min_x = Math.min(x0, x1);\n",
       "    var min_y = Math.min(y0, y1);\n",
       "    var width = Math.abs(x1 - x0);\n",
       "    var height = Math.abs(y1 - y0);\n",
       "\n",
       "    fig.rubberband_context.clearRect(\n",
       "        0,\n",
       "        0,\n",
       "        fig.canvas.width / fig.ratio,\n",
       "        fig.canvas.height / fig.ratio\n",
       "    );\n",
       "\n",
       "    fig.rubberband_context.strokeRect(min_x, min_y, width, height);\n",
       "};\n",
       "\n",
       "mpl.figure.prototype.handle_figure_label = function (fig, msg) {\n",
       "    // Updates the figure title.\n",
       "    fig.header.textContent = msg['label'];\n",
       "};\n",
       "\n",
       "mpl.figure.prototype.handle_cursor = function (fig, msg) {\n",
       "    fig.canvas_div.style.cursor = msg['cursor'];\n",
       "};\n",
       "\n",
       "mpl.figure.prototype.handle_message = function (fig, msg) {\n",
       "    fig.message.textContent = msg['message'];\n",
       "};\n",
       "\n",
       "mpl.figure.prototype.handle_draw = function (fig, _msg) {\n",
       "    // Request the server to send over a new figure.\n",
       "    fig.send_draw_message();\n",
       "};\n",
       "\n",
       "mpl.figure.prototype.handle_image_mode = function (fig, msg) {\n",
       "    fig.image_mode = msg['mode'];\n",
       "};\n",
       "\n",
       "mpl.figure.prototype.handle_history_buttons = function (fig, msg) {\n",
       "    for (var key in msg) {\n",
       "        if (!(key in fig.buttons)) {\n",
       "            continue;\n",
       "        }\n",
       "        fig.buttons[key].disabled = !msg[key];\n",
       "        fig.buttons[key].setAttribute('aria-disabled', !msg[key]);\n",
       "    }\n",
       "};\n",
       "\n",
       "mpl.figure.prototype.handle_navigate_mode = function (fig, msg) {\n",
       "    if (msg['mode'] === 'PAN') {\n",
       "        fig.buttons['Pan'].classList.add('active');\n",
       "        fig.buttons['Zoom'].classList.remove('active');\n",
       "    } else if (msg['mode'] === 'ZOOM') {\n",
       "        fig.buttons['Pan'].classList.remove('active');\n",
       "        fig.buttons['Zoom'].classList.add('active');\n",
       "    } else {\n",
       "        fig.buttons['Pan'].classList.remove('active');\n",
       "        fig.buttons['Zoom'].classList.remove('active');\n",
       "    }\n",
       "};\n",
       "\n",
       "mpl.figure.prototype.updated_canvas_event = function () {\n",
       "    // Called whenever the canvas gets updated.\n",
       "    this.send_message('ack', {});\n",
       "};\n",
       "\n",
       "// A function to construct a web socket function for onmessage handling.\n",
       "// Called in the figure constructor.\n",
       "mpl.figure.prototype._make_on_message_function = function (fig) {\n",
       "    return function socket_on_message(evt) {\n",
       "        if (evt.data instanceof Blob) {\n",
       "            var img = evt.data;\n",
       "            if (img.type !== 'image/png') {\n",
       "                /* FIXME: We get \"Resource interpreted as Image but\n",
       "                 * transferred with MIME type text/plain:\" errors on\n",
       "                 * Chrome.  But how to set the MIME type?  It doesn't seem\n",
       "                 * to be part of the websocket stream */\n",
       "                img.type = 'image/png';\n",
       "            }\n",
       "\n",
       "            /* Free the memory for the previous frames */\n",
       "            if (fig.imageObj.src) {\n",
       "                (window.URL || window.webkitURL).revokeObjectURL(\n",
       "                    fig.imageObj.src\n",
       "                );\n",
       "            }\n",
       "\n",
       "            fig.imageObj.src = (window.URL || window.webkitURL).createObjectURL(\n",
       "                img\n",
       "            );\n",
       "            fig.updated_canvas_event();\n",
       "            fig.waiting = false;\n",
       "            return;\n",
       "        } else if (\n",
       "            typeof evt.data === 'string' &&\n",
       "            evt.data.slice(0, 21) === 'data:image/png;base64'\n",
       "        ) {\n",
       "            fig.imageObj.src = evt.data;\n",
       "            fig.updated_canvas_event();\n",
       "            fig.waiting = false;\n",
       "            return;\n",
       "        }\n",
       "\n",
       "        var msg = JSON.parse(evt.data);\n",
       "        var msg_type = msg['type'];\n",
       "\n",
       "        // Call the  \"handle_{type}\" callback, which takes\n",
       "        // the figure and JSON message as its only arguments.\n",
       "        try {\n",
       "            var callback = fig['handle_' + msg_type];\n",
       "        } catch (e) {\n",
       "            console.log(\n",
       "                \"No handler for the '\" + msg_type + \"' message type: \",\n",
       "                msg\n",
       "            );\n",
       "            return;\n",
       "        }\n",
       "\n",
       "        if (callback) {\n",
       "            try {\n",
       "                // console.log(\"Handling '\" + msg_type + \"' message: \", msg);\n",
       "                callback(fig, msg);\n",
       "            } catch (e) {\n",
       "                console.log(\n",
       "                    \"Exception inside the 'handler_\" + msg_type + \"' callback:\",\n",
       "                    e,\n",
       "                    e.stack,\n",
       "                    msg\n",
       "                );\n",
       "            }\n",
       "        }\n",
       "    };\n",
       "};\n",
       "\n",
       "function getModifiers(event) {\n",
       "    var mods = [];\n",
       "    if (event.ctrlKey) {\n",
       "        mods.push('ctrl');\n",
       "    }\n",
       "    if (event.altKey) {\n",
       "        mods.push('alt');\n",
       "    }\n",
       "    if (event.shiftKey) {\n",
       "        mods.push('shift');\n",
       "    }\n",
       "    if (event.metaKey) {\n",
       "        mods.push('meta');\n",
       "    }\n",
       "    return mods;\n",
       "}\n",
       "\n",
       "/*\n",
       " * return a copy of an object with only non-object keys\n",
       " * we need this to avoid circular references\n",
       " * https://stackoverflow.com/a/24161582/3208463\n",
       " */\n",
       "function simpleKeys(original) {\n",
       "    return Object.keys(original).reduce(function (obj, key) {\n",
       "        if (typeof original[key] !== 'object') {\n",
       "            obj[key] = original[key];\n",
       "        }\n",
       "        return obj;\n",
       "    }, {});\n",
       "}\n",
       "\n",
       "mpl.figure.prototype.mouse_event = function (event, name) {\n",
       "    if (name === 'button_press') {\n",
       "        this.canvas.focus();\n",
       "        this.canvas_div.focus();\n",
       "    }\n",
       "\n",
       "    // from https://stackoverflow.com/q/1114465\n",
       "    var boundingRect = this.canvas.getBoundingClientRect();\n",
       "    var x = (event.clientX - boundingRect.left) * this.ratio;\n",
       "    var y = (event.clientY - boundingRect.top) * this.ratio;\n",
       "\n",
       "    this.send_message(name, {\n",
       "        x: x,\n",
       "        y: y,\n",
       "        button: event.button,\n",
       "        step: event.step,\n",
       "        modifiers: getModifiers(event),\n",
       "        guiEvent: simpleKeys(event),\n",
       "    });\n",
       "\n",
       "    return false;\n",
       "};\n",
       "\n",
       "mpl.figure.prototype._key_event_extra = function (_event, _name) {\n",
       "    // Handle any extra behaviour associated with a key event\n",
       "};\n",
       "\n",
       "mpl.figure.prototype.key_event = function (event, name) {\n",
       "    // Prevent repeat events\n",
       "    if (name === 'key_press') {\n",
       "        if (event.key === this._key) {\n",
       "            return;\n",
       "        } else {\n",
       "            this._key = event.key;\n",
       "        }\n",
       "    }\n",
       "    if (name === 'key_release') {\n",
       "        this._key = null;\n",
       "    }\n",
       "\n",
       "    var value = '';\n",
       "    if (event.ctrlKey && event.key !== 'Control') {\n",
       "        value += 'ctrl+';\n",
       "    }\n",
       "    else if (event.altKey && event.key !== 'Alt') {\n",
       "        value += 'alt+';\n",
       "    }\n",
       "    else if (event.shiftKey && event.key !== 'Shift') {\n",
       "        value += 'shift+';\n",
       "    }\n",
       "\n",
       "    value += 'k' + event.key;\n",
       "\n",
       "    this._key_event_extra(event, name);\n",
       "\n",
       "    this.send_message(name, { key: value, guiEvent: simpleKeys(event) });\n",
       "    return false;\n",
       "};\n",
       "\n",
       "mpl.figure.prototype.toolbar_button_onclick = function (name) {\n",
       "    if (name === 'download') {\n",
       "        this.handle_save(this, null);\n",
       "    } else {\n",
       "        this.send_message('toolbar_button', { name: name });\n",
       "    }\n",
       "};\n",
       "\n",
       "mpl.figure.prototype.toolbar_button_onmouseover = function (tooltip) {\n",
       "    this.message.textContent = tooltip;\n",
       "};\n",
       "\n",
       "///////////////// REMAINING CONTENT GENERATED BY embed_js.py /////////////////\n",
       "// prettier-ignore\n",
       "var _JSXTOOLS_RESIZE_OBSERVER=function(A){var t,i=new WeakMap,n=new WeakMap,a=new WeakMap,r=new WeakMap,o=new Set;function s(e){if(!(this instanceof s))throw new TypeError(\"Constructor requires 'new' operator\");i.set(this,e)}function h(){throw new TypeError(\"Function is not a constructor\")}function c(e,t,i,n){e=0 in arguments?Number(arguments[0]):0,t=1 in arguments?Number(arguments[1]):0,i=2 in arguments?Number(arguments[2]):0,n=3 in arguments?Number(arguments[3]):0,this.right=(this.x=this.left=e)+(this.width=i),this.bottom=(this.y=this.top=t)+(this.height=n),Object.freeze(this)}function d(){t=requestAnimationFrame(d);var s=new WeakMap,p=new Set;o.forEach((function(t){r.get(t).forEach((function(i){var r=t instanceof window.SVGElement,o=a.get(t),d=r?0:parseFloat(o.paddingTop),f=r?0:parseFloat(o.paddingRight),l=r?0:parseFloat(o.paddingBottom),u=r?0:parseFloat(o.paddingLeft),g=r?0:parseFloat(o.borderTopWidth),m=r?0:parseFloat(o.borderRightWidth),w=r?0:parseFloat(o.borderBottomWidth),b=u+f,F=d+l,v=(r?0:parseFloat(o.borderLeftWidth))+m,W=g+w,y=r?0:t.offsetHeight-W-t.clientHeight,E=r?0:t.offsetWidth-v-t.clientWidth,R=b+v,z=F+W,M=r?t.width:parseFloat(o.width)-R-E,O=r?t.height:parseFloat(o.height)-z-y;if(n.has(t)){var k=n.get(t);if(k[0]===M&&k[1]===O)return}n.set(t,[M,O]);var S=Object.create(h.prototype);S.target=t,S.contentRect=new c(u,d,M,O),s.has(i)||(s.set(i,[]),p.add(i)),s.get(i).push(S)}))})),p.forEach((function(e){i.get(e).call(e,s.get(e),e)}))}return s.prototype.observe=function(i){if(i instanceof window.Element){r.has(i)||(r.set(i,new Set),o.add(i),a.set(i,window.getComputedStyle(i)));var n=r.get(i);n.has(this)||n.add(this),cancelAnimationFrame(t),t=requestAnimationFrame(d)}},s.prototype.unobserve=function(i){if(i instanceof window.Element&&r.has(i)){var n=r.get(i);n.has(this)&&(n.delete(this),n.size||(r.delete(i),o.delete(i))),n.size||r.delete(i),o.size||cancelAnimationFrame(t)}},A.DOMRectReadOnly=c,A.ResizeObserver=s,A.ResizeObserverEntry=h,A}; // eslint-disable-line\n",
       "mpl.toolbar_items = [[\"Home\", \"Reset original view\", \"fa fa-home\", \"home\"], [\"Back\", \"Back to previous view\", \"fa fa-arrow-left\", \"back\"], [\"Forward\", \"Forward to next view\", \"fa fa-arrow-right\", \"forward\"], [\"\", \"\", \"\", \"\"], [\"Pan\", \"Left button pans, Right button zooms\\nx/y fixes axis, CTRL fixes aspect\", \"fa fa-arrows\", \"pan\"], [\"Zoom\", \"Zoom to rectangle\\nx/y fixes axis\", \"fa fa-square-o\", \"zoom\"], [\"\", \"\", \"\", \"\"], [\"Download\", \"Download plot\", \"fa fa-floppy-o\", \"download\"]];\n",
       "\n",
       "mpl.extensions = [\"eps\", \"jpeg\", \"pgf\", \"pdf\", \"png\", \"ps\", \"raw\", \"svg\", \"tif\", \"webp\"];\n",
       "\n",
       "mpl.default_extension = \"png\";/* global mpl */\n",
       "\n",
       "var comm_websocket_adapter = function (comm) {\n",
       "    // Create a \"websocket\"-like object which calls the given IPython comm\n",
       "    // object with the appropriate methods. Currently this is a non binary\n",
       "    // socket, so there is still some room for performance tuning.\n",
       "    var ws = {};\n",
       "\n",
       "    ws.binaryType = comm.kernel.ws.binaryType;\n",
       "    ws.readyState = comm.kernel.ws.readyState;\n",
       "    function updateReadyState(_event) {\n",
       "        if (comm.kernel.ws) {\n",
       "            ws.readyState = comm.kernel.ws.readyState;\n",
       "        } else {\n",
       "            ws.readyState = 3; // Closed state.\n",
       "        }\n",
       "    }\n",
       "    comm.kernel.ws.addEventListener('open', updateReadyState);\n",
       "    comm.kernel.ws.addEventListener('close', updateReadyState);\n",
       "    comm.kernel.ws.addEventListener('error', updateReadyState);\n",
       "\n",
       "    ws.close = function () {\n",
       "        comm.close();\n",
       "    };\n",
       "    ws.send = function (m) {\n",
       "        //console.log('sending', m);\n",
       "        comm.send(m);\n",
       "    };\n",
       "    // Register the callback with on_msg.\n",
       "    comm.on_msg(function (msg) {\n",
       "        //console.log('receiving', msg['content']['data'], msg);\n",
       "        var data = msg['content']['data'];\n",
       "        if (data['blob'] !== undefined) {\n",
       "            data = {\n",
       "                data: new Blob(msg['buffers'], { type: data['blob'] }),\n",
       "            };\n",
       "        }\n",
       "        // Pass the mpl event to the overridden (by mpl) onmessage function.\n",
       "        ws.onmessage(data);\n",
       "    });\n",
       "    return ws;\n",
       "};\n",
       "\n",
       "mpl.mpl_figure_comm = function (comm, msg) {\n",
       "    // This is the function which gets called when the mpl process\n",
       "    // starts-up an IPython Comm through the \"matplotlib\" channel.\n",
       "\n",
       "    var id = msg.content.data.id;\n",
       "    // Get hold of the div created by the display call when the Comm\n",
       "    // socket was opened in Python.\n",
       "    var element = document.getElementById(id);\n",
       "    var ws_proxy = comm_websocket_adapter(comm);\n",
       "\n",
       "    function ondownload(figure, _format) {\n",
       "        window.open(figure.canvas.toDataURL());\n",
       "    }\n",
       "\n",
       "    var fig = new mpl.figure(id, ws_proxy, ondownload, element);\n",
       "\n",
       "    // Call onopen now - mpl needs it, as it is assuming we've passed it a real\n",
       "    // web socket which is closed, not our websocket->open comm proxy.\n",
       "    ws_proxy.onopen();\n",
       "\n",
       "    fig.parent_element = element;\n",
       "    fig.cell_info = mpl.find_output_cell(\"<div id='\" + id + \"'></div>\");\n",
       "    if (!fig.cell_info) {\n",
       "        console.error('Failed to find cell for figure', id, fig);\n",
       "        return;\n",
       "    }\n",
       "    fig.cell_info[0].output_area.element.on(\n",
       "        'cleared',\n",
       "        { fig: fig },\n",
       "        fig._remove_fig_handler\n",
       "    );\n",
       "};\n",
       "\n",
       "mpl.figure.prototype.handle_close = function (fig, msg) {\n",
       "    var width = fig.canvas.width / fig.ratio;\n",
       "    fig.cell_info[0].output_area.element.off(\n",
       "        'cleared',\n",
       "        fig._remove_fig_handler\n",
       "    );\n",
       "    fig.resizeObserverInstance.unobserve(fig.canvas_div);\n",
       "\n",
       "    // Update the output cell to use the data from the current canvas.\n",
       "    fig.push_to_output();\n",
       "    var dataURL = fig.canvas.toDataURL();\n",
       "    // Re-enable the keyboard manager in IPython - without this line, in FF,\n",
       "    // the notebook keyboard shortcuts fail.\n",
       "    IPython.keyboard_manager.enable();\n",
       "    fig.parent_element.innerHTML =\n",
       "        '<img src=\"' + dataURL + '\" width=\"' + width + '\">';\n",
       "    fig.close_ws(fig, msg);\n",
       "};\n",
       "\n",
       "mpl.figure.prototype.close_ws = function (fig, msg) {\n",
       "    fig.send_message('closing', msg);\n",
       "    // fig.ws.close()\n",
       "};\n",
       "\n",
       "mpl.figure.prototype.push_to_output = function (_remove_interactive) {\n",
       "    // Turn the data on the canvas into data in the output cell.\n",
       "    var width = this.canvas.width / this.ratio;\n",
       "    var dataURL = this.canvas.toDataURL();\n",
       "    this.cell_info[1]['text/html'] =\n",
       "        '<img src=\"' + dataURL + '\" width=\"' + width + '\">';\n",
       "};\n",
       "\n",
       "mpl.figure.prototype.updated_canvas_event = function () {\n",
       "    // Tell IPython that the notebook contents must change.\n",
       "    IPython.notebook.set_dirty(true);\n",
       "    this.send_message('ack', {});\n",
       "    var fig = this;\n",
       "    // Wait a second, then push the new image to the DOM so\n",
       "    // that it is saved nicely (might be nice to debounce this).\n",
       "    setTimeout(function () {\n",
       "        fig.push_to_output();\n",
       "    }, 1000);\n",
       "};\n",
       "\n",
       "mpl.figure.prototype._init_toolbar = function () {\n",
       "    var fig = this;\n",
       "\n",
       "    var toolbar = document.createElement('div');\n",
       "    toolbar.classList = 'btn-toolbar';\n",
       "    this.root.appendChild(toolbar);\n",
       "\n",
       "    function on_click_closure(name) {\n",
       "        return function (_event) {\n",
       "            return fig.toolbar_button_onclick(name);\n",
       "        };\n",
       "    }\n",
       "\n",
       "    function on_mouseover_closure(tooltip) {\n",
       "        return function (event) {\n",
       "            if (!event.currentTarget.disabled) {\n",
       "                return fig.toolbar_button_onmouseover(tooltip);\n",
       "            }\n",
       "        };\n",
       "    }\n",
       "\n",
       "    fig.buttons = {};\n",
       "    var buttonGroup = document.createElement('div');\n",
       "    buttonGroup.classList = 'btn-group';\n",
       "    var button;\n",
       "    for (var toolbar_ind in mpl.toolbar_items) {\n",
       "        var name = mpl.toolbar_items[toolbar_ind][0];\n",
       "        var tooltip = mpl.toolbar_items[toolbar_ind][1];\n",
       "        var image = mpl.toolbar_items[toolbar_ind][2];\n",
       "        var method_name = mpl.toolbar_items[toolbar_ind][3];\n",
       "\n",
       "        if (!name) {\n",
       "            /* Instead of a spacer, we start a new button group. */\n",
       "            if (buttonGroup.hasChildNodes()) {\n",
       "                toolbar.appendChild(buttonGroup);\n",
       "            }\n",
       "            buttonGroup = document.createElement('div');\n",
       "            buttonGroup.classList = 'btn-group';\n",
       "            continue;\n",
       "        }\n",
       "\n",
       "        button = fig.buttons[name] = document.createElement('button');\n",
       "        button.classList = 'btn btn-default';\n",
       "        button.href = '#';\n",
       "        button.title = name;\n",
       "        button.innerHTML = '<i class=\"fa ' + image + ' fa-lg\"></i>';\n",
       "        button.addEventListener('click', on_click_closure(method_name));\n",
       "        button.addEventListener('mouseover', on_mouseover_closure(tooltip));\n",
       "        buttonGroup.appendChild(button);\n",
       "    }\n",
       "\n",
       "    if (buttonGroup.hasChildNodes()) {\n",
       "        toolbar.appendChild(buttonGroup);\n",
       "    }\n",
       "\n",
       "    // Add the status bar.\n",
       "    var status_bar = document.createElement('span');\n",
       "    status_bar.classList = 'mpl-message pull-right';\n",
       "    toolbar.appendChild(status_bar);\n",
       "    this.message = status_bar;\n",
       "\n",
       "    // Add the close button to the window.\n",
       "    var buttongrp = document.createElement('div');\n",
       "    buttongrp.classList = 'btn-group inline pull-right';\n",
       "    button = document.createElement('button');\n",
       "    button.classList = 'btn btn-mini btn-primary';\n",
       "    button.href = '#';\n",
       "    button.title = 'Stop Interaction';\n",
       "    button.innerHTML = '<i class=\"fa fa-power-off icon-remove icon-large\"></i>';\n",
       "    button.addEventListener('click', function (_evt) {\n",
       "        fig.handle_close(fig, {});\n",
       "    });\n",
       "    button.addEventListener(\n",
       "        'mouseover',\n",
       "        on_mouseover_closure('Stop Interaction')\n",
       "    );\n",
       "    buttongrp.appendChild(button);\n",
       "    var titlebar = this.root.querySelector('.ui-dialog-titlebar');\n",
       "    titlebar.insertBefore(buttongrp, titlebar.firstChild);\n",
       "};\n",
       "\n",
       "mpl.figure.prototype._remove_fig_handler = function (event) {\n",
       "    var fig = event.data.fig;\n",
       "    if (event.target !== this) {\n",
       "        // Ignore bubbled events from children.\n",
       "        return;\n",
       "    }\n",
       "    fig.close_ws(fig, {});\n",
       "};\n",
       "\n",
       "mpl.figure.prototype._root_extra_style = function (el) {\n",
       "    el.style.boxSizing = 'content-box'; // override notebook setting of border-box.\n",
       "};\n",
       "\n",
       "mpl.figure.prototype._canvas_extra_style = function (el) {\n",
       "    // this is important to make the div 'focusable\n",
       "    el.setAttribute('tabindex', 0);\n",
       "    // reach out to IPython and tell the keyboard manager to turn it's self\n",
       "    // off when our div gets focus\n",
       "\n",
       "    // location in version 3\n",
       "    if (IPython.notebook.keyboard_manager) {\n",
       "        IPython.notebook.keyboard_manager.register_events(el);\n",
       "    } else {\n",
       "        // location in version 2\n",
       "        IPython.keyboard_manager.register_events(el);\n",
       "    }\n",
       "};\n",
       "\n",
       "mpl.figure.prototype._key_event_extra = function (event, _name) {\n",
       "    // Check for shift+enter\n",
       "    if (event.shiftKey && event.which === 13) {\n",
       "        this.canvas_div.blur();\n",
       "        // select the cell after this one\n",
       "        var index = IPython.notebook.find_cell_index(this.cell_info[0]);\n",
       "        IPython.notebook.select(index + 1);\n",
       "    }\n",
       "};\n",
       "\n",
       "mpl.figure.prototype.handle_save = function (fig, _msg) {\n",
       "    fig.ondownload(fig, null);\n",
       "};\n",
       "\n",
       "mpl.find_output_cell = function (html_output) {\n",
       "    // Return the cell and output element which can be found *uniquely* in the notebook.\n",
       "    // Note - this is a bit hacky, but it is done because the \"notebook_saving.Notebook\"\n",
       "    // IPython event is triggered only after the cells have been serialised, which for\n",
       "    // our purposes (turning an active figure into a static one), is too late.\n",
       "    var cells = IPython.notebook.get_cells();\n",
       "    var ncells = cells.length;\n",
       "    for (var i = 0; i < ncells; i++) {\n",
       "        var cell = cells[i];\n",
       "        if (cell.cell_type === 'code') {\n",
       "            for (var j = 0; j < cell.output_area.outputs.length; j++) {\n",
       "                var data = cell.output_area.outputs[j];\n",
       "                if (data.data) {\n",
       "                    // IPython >= 3 moved mimebundle to data attribute of output\n",
       "                    data = data.data;\n",
       "                }\n",
       "                if (data['text/html'] === html_output) {\n",
       "                    return [cell, data, j];\n",
       "                }\n",
       "            }\n",
       "        }\n",
       "    }\n",
       "};\n",
       "\n",
       "// Register the function which deals with the matplotlib target/channel.\n",
       "// The kernel may be null if the page has been refreshed.\n",
       "if (IPython.notebook.kernel !== null) {\n",
       "    IPython.notebook.kernel.comm_manager.register_target(\n",
       "        'matplotlib',\n",
       "        mpl.mpl_figure_comm\n",
       "    );\n",
       "}\n"
      ],
      "text/plain": [
       "<IPython.core.display.Javascript object>"
      ]
     },
     "metadata": {},
     "output_type": "display_data"
    },
    {
     "data": {
      "text/html": [
       "<div id='33d9004f-89e7-45e5-8c1c-6c6a271ae330'></div>"
      ],
      "text/plain": [
       "<IPython.core.display.HTML object>"
      ]
     },
     "metadata": {},
     "output_type": "display_data"
    },
    {
     "name": "stderr",
     "output_type": "stream",
     "text": [
      "WARNING:fabio.TiffIO:Data at tag id '65000' is smaller than expected\n",
      "WARNING:fabio.TiffIO:Data at tag id '65000' is smaller than expected\n",
      "WARNING:fabio.TiffIO:Data at tag id '65000' is smaller than expected\n"
     ]
    }
   ],
   "source": [
    "\n",
    "#fnames = files.iloc[-3:-1].tolist()\n",
    "        \n",
    "fig, ax = plt.subplots()\n",
    "#sname = fnames[0][:fnames[0].find('eV') + 2]\n",
    "#fig.suptitle(sname, y=1.0)\n",
    "\n",
    "flatfield = fabio.open(os.path.join(path_data, fnames[0])).data\n",
    "        \n",
    "for f in fnames[1:30]:\n",
    "    flatfield += fabio.open(os.path.join(path_data, f)).data\n",
    "flatfield = np.divide(flatfield, len(fnames), out=np.zeros_like(flatfield),\n",
    "                      where=flatfield!=0, casting='unsafe')\n",
    "        \n",
    "    \n",
    "im = ax.imshow(flatfield, vmin=0, vmax=np.percentile(flatfield, 99))\n",
    "\n",
    "ax.set_xlabel('Pixels')\n",
    "ax_divider = make_axes_locatable(ax)\n",
    "cax = ax_divider.append_axes('top', size='3%', pad='2%')\n",
    "cb = colorbar(cax, im, orientation='horizontal')\n",
    "cax.set_xlabel('Intensity (arb. u.)', size=8)\n",
    "cax.xaxis.set_label_position('top')\n",
    "cax.xaxis.tick_top()\n",
    "cax.xaxis.set_tick_params(labelsize=8) "
   ]
  },
  {
   "cell_type": "code",
   "execution_count": 21,
   "metadata": {},
   "outputs": [
    {
     "data": {
      "application/javascript": [
       "/* Put everything inside the global mpl namespace */\n",
       "/* global mpl */\n",
       "window.mpl = {};\n",
       "\n",
       "mpl.get_websocket_type = function () {\n",
       "    if (typeof WebSocket !== 'undefined') {\n",
       "        return WebSocket;\n",
       "    } else if (typeof MozWebSocket !== 'undefined') {\n",
       "        return MozWebSocket;\n",
       "    } else {\n",
       "        alert(\n",
       "            'Your browser does not have WebSocket support. ' +\n",
       "                'Please try Chrome, Safari or Firefox ≥ 6. ' +\n",
       "                'Firefox 4 and 5 are also supported but you ' +\n",
       "                'have to enable WebSockets in about:config.'\n",
       "        );\n",
       "    }\n",
       "};\n",
       "\n",
       "mpl.figure = function (figure_id, websocket, ondownload, parent_element) {\n",
       "    this.id = figure_id;\n",
       "\n",
       "    this.ws = websocket;\n",
       "\n",
       "    this.supports_binary = this.ws.binaryType !== undefined;\n",
       "\n",
       "    if (!this.supports_binary) {\n",
       "        var warnings = document.getElementById('mpl-warnings');\n",
       "        if (warnings) {\n",
       "            warnings.style.display = 'block';\n",
       "            warnings.textContent =\n",
       "                'This browser does not support binary websocket messages. ' +\n",
       "                'Performance may be slow.';\n",
       "        }\n",
       "    }\n",
       "\n",
       "    this.imageObj = new Image();\n",
       "\n",
       "    this.context = undefined;\n",
       "    this.message = undefined;\n",
       "    this.canvas = undefined;\n",
       "    this.rubberband_canvas = undefined;\n",
       "    this.rubberband_context = undefined;\n",
       "    this.format_dropdown = undefined;\n",
       "\n",
       "    this.image_mode = 'full';\n",
       "\n",
       "    this.root = document.createElement('div');\n",
       "    this.root.setAttribute('style', 'display: inline-block');\n",
       "    this._root_extra_style(this.root);\n",
       "\n",
       "    parent_element.appendChild(this.root);\n",
       "\n",
       "    this._init_header(this);\n",
       "    this._init_canvas(this);\n",
       "    this._init_toolbar(this);\n",
       "\n",
       "    var fig = this;\n",
       "\n",
       "    this.waiting = false;\n",
       "\n",
       "    this.ws.onopen = function () {\n",
       "        fig.send_message('supports_binary', { value: fig.supports_binary });\n",
       "        fig.send_message('send_image_mode', {});\n",
       "        if (fig.ratio !== 1) {\n",
       "            fig.send_message('set_device_pixel_ratio', {\n",
       "                device_pixel_ratio: fig.ratio,\n",
       "            });\n",
       "        }\n",
       "        fig.send_message('refresh', {});\n",
       "    };\n",
       "\n",
       "    this.imageObj.onload = function () {\n",
       "        if (fig.image_mode === 'full') {\n",
       "            // Full images could contain transparency (where diff images\n",
       "            // almost always do), so we need to clear the canvas so that\n",
       "            // there is no ghosting.\n",
       "            fig.context.clearRect(0, 0, fig.canvas.width, fig.canvas.height);\n",
       "        }\n",
       "        fig.context.drawImage(fig.imageObj, 0, 0);\n",
       "    };\n",
       "\n",
       "    this.imageObj.onunload = function () {\n",
       "        fig.ws.close();\n",
       "    };\n",
       "\n",
       "    this.ws.onmessage = this._make_on_message_function(this);\n",
       "\n",
       "    this.ondownload = ondownload;\n",
       "};\n",
       "\n",
       "mpl.figure.prototype._init_header = function () {\n",
       "    var titlebar = document.createElement('div');\n",
       "    titlebar.classList =\n",
       "        'ui-dialog-titlebar ui-widget-header ui-corner-all ui-helper-clearfix';\n",
       "    var titletext = document.createElement('div');\n",
       "    titletext.classList = 'ui-dialog-title';\n",
       "    titletext.setAttribute(\n",
       "        'style',\n",
       "        'width: 100%; text-align: center; padding: 3px;'\n",
       "    );\n",
       "    titlebar.appendChild(titletext);\n",
       "    this.root.appendChild(titlebar);\n",
       "    this.header = titletext;\n",
       "};\n",
       "\n",
       "mpl.figure.prototype._canvas_extra_style = function (_canvas_div) {};\n",
       "\n",
       "mpl.figure.prototype._root_extra_style = function (_canvas_div) {};\n",
       "\n",
       "mpl.figure.prototype._init_canvas = function () {\n",
       "    var fig = this;\n",
       "\n",
       "    var canvas_div = (this.canvas_div = document.createElement('div'));\n",
       "    canvas_div.setAttribute('tabindex', '0');\n",
       "    canvas_div.setAttribute(\n",
       "        'style',\n",
       "        'border: 1px solid #ddd;' +\n",
       "            'box-sizing: content-box;' +\n",
       "            'clear: both;' +\n",
       "            'min-height: 1px;' +\n",
       "            'min-width: 1px;' +\n",
       "            'outline: 0;' +\n",
       "            'overflow: hidden;' +\n",
       "            'position: relative;' +\n",
       "            'resize: both;' +\n",
       "            'z-index: 2;'\n",
       "    );\n",
       "\n",
       "    function on_keyboard_event_closure(name) {\n",
       "        return function (event) {\n",
       "            return fig.key_event(event, name);\n",
       "        };\n",
       "    }\n",
       "\n",
       "    canvas_div.addEventListener(\n",
       "        'keydown',\n",
       "        on_keyboard_event_closure('key_press')\n",
       "    );\n",
       "    canvas_div.addEventListener(\n",
       "        'keyup',\n",
       "        on_keyboard_event_closure('key_release')\n",
       "    );\n",
       "\n",
       "    this._canvas_extra_style(canvas_div);\n",
       "    this.root.appendChild(canvas_div);\n",
       "\n",
       "    var canvas = (this.canvas = document.createElement('canvas'));\n",
       "    canvas.classList.add('mpl-canvas');\n",
       "    canvas.setAttribute(\n",
       "        'style',\n",
       "        'box-sizing: content-box;' +\n",
       "            'pointer-events: none;' +\n",
       "            'position: relative;' +\n",
       "            'z-index: 0;'\n",
       "    );\n",
       "\n",
       "    this.context = canvas.getContext('2d');\n",
       "\n",
       "    var backingStore =\n",
       "        this.context.backingStorePixelRatio ||\n",
       "        this.context.webkitBackingStorePixelRatio ||\n",
       "        this.context.mozBackingStorePixelRatio ||\n",
       "        this.context.msBackingStorePixelRatio ||\n",
       "        this.context.oBackingStorePixelRatio ||\n",
       "        this.context.backingStorePixelRatio ||\n",
       "        1;\n",
       "\n",
       "    this.ratio = (window.devicePixelRatio || 1) / backingStore;\n",
       "\n",
       "    var rubberband_canvas = (this.rubberband_canvas = document.createElement(\n",
       "        'canvas'\n",
       "    ));\n",
       "    rubberband_canvas.setAttribute(\n",
       "        'style',\n",
       "        'box-sizing: content-box;' +\n",
       "            'left: 0;' +\n",
       "            'pointer-events: none;' +\n",
       "            'position: absolute;' +\n",
       "            'top: 0;' +\n",
       "            'z-index: 1;'\n",
       "    );\n",
       "\n",
       "    // Apply a ponyfill if ResizeObserver is not implemented by browser.\n",
       "    if (this.ResizeObserver === undefined) {\n",
       "        if (window.ResizeObserver !== undefined) {\n",
       "            this.ResizeObserver = window.ResizeObserver;\n",
       "        } else {\n",
       "            var obs = _JSXTOOLS_RESIZE_OBSERVER({});\n",
       "            this.ResizeObserver = obs.ResizeObserver;\n",
       "        }\n",
       "    }\n",
       "\n",
       "    this.resizeObserverInstance = new this.ResizeObserver(function (entries) {\n",
       "        var nentries = entries.length;\n",
       "        for (var i = 0; i < nentries; i++) {\n",
       "            var entry = entries[i];\n",
       "            var width, height;\n",
       "            if (entry.contentBoxSize) {\n",
       "                if (entry.contentBoxSize instanceof Array) {\n",
       "                    // Chrome 84 implements new version of spec.\n",
       "                    width = entry.contentBoxSize[0].inlineSize;\n",
       "                    height = entry.contentBoxSize[0].blockSize;\n",
       "                } else {\n",
       "                    // Firefox implements old version of spec.\n",
       "                    width = entry.contentBoxSize.inlineSize;\n",
       "                    height = entry.contentBoxSize.blockSize;\n",
       "                }\n",
       "            } else {\n",
       "                // Chrome <84 implements even older version of spec.\n",
       "                width = entry.contentRect.width;\n",
       "                height = entry.contentRect.height;\n",
       "            }\n",
       "\n",
       "            // Keep the size of the canvas and rubber band canvas in sync with\n",
       "            // the canvas container.\n",
       "            if (entry.devicePixelContentBoxSize) {\n",
       "                // Chrome 84 implements new version of spec.\n",
       "                canvas.setAttribute(\n",
       "                    'width',\n",
       "                    entry.devicePixelContentBoxSize[0].inlineSize\n",
       "                );\n",
       "                canvas.setAttribute(\n",
       "                    'height',\n",
       "                    entry.devicePixelContentBoxSize[0].blockSize\n",
       "                );\n",
       "            } else {\n",
       "                canvas.setAttribute('width', width * fig.ratio);\n",
       "                canvas.setAttribute('height', height * fig.ratio);\n",
       "            }\n",
       "            /* This rescales the canvas back to display pixels, so that it\n",
       "             * appears correct on HiDPI screens. */\n",
       "            canvas.style.width = width + 'px';\n",
       "            canvas.style.height = height + 'px';\n",
       "\n",
       "            rubberband_canvas.setAttribute('width', width);\n",
       "            rubberband_canvas.setAttribute('height', height);\n",
       "\n",
       "            // And update the size in Python. We ignore the initial 0/0 size\n",
       "            // that occurs as the element is placed into the DOM, which should\n",
       "            // otherwise not happen due to the minimum size styling.\n",
       "            if (fig.ws.readyState == 1 && width != 0 && height != 0) {\n",
       "                fig.request_resize(width, height);\n",
       "            }\n",
       "        }\n",
       "    });\n",
       "    this.resizeObserverInstance.observe(canvas_div);\n",
       "\n",
       "    function on_mouse_event_closure(name) {\n",
       "        /* User Agent sniffing is bad, but WebKit is busted:\n",
       "         * https://bugs.webkit.org/show_bug.cgi?id=144526\n",
       "         * https://bugs.webkit.org/show_bug.cgi?id=181818\n",
       "         * The worst that happens here is that they get an extra browser\n",
       "         * selection when dragging, if this check fails to catch them.\n",
       "         */\n",
       "        var UA = navigator.userAgent;\n",
       "        var isWebKit = /AppleWebKit/.test(UA) && !/Chrome/.test(UA);\n",
       "        if(isWebKit) {\n",
       "            return function (event) {\n",
       "                /* This prevents the web browser from automatically changing to\n",
       "                 * the text insertion cursor when the button is pressed. We\n",
       "                 * want to control all of the cursor setting manually through\n",
       "                 * the 'cursor' event from matplotlib */\n",
       "                event.preventDefault()\n",
       "                return fig.mouse_event(event, name);\n",
       "            };\n",
       "        } else {\n",
       "            return function (event) {\n",
       "                return fig.mouse_event(event, name);\n",
       "            };\n",
       "        }\n",
       "    }\n",
       "\n",
       "    canvas_div.addEventListener(\n",
       "        'mousedown',\n",
       "        on_mouse_event_closure('button_press')\n",
       "    );\n",
       "    canvas_div.addEventListener(\n",
       "        'mouseup',\n",
       "        on_mouse_event_closure('button_release')\n",
       "    );\n",
       "    canvas_div.addEventListener(\n",
       "        'dblclick',\n",
       "        on_mouse_event_closure('dblclick')\n",
       "    );\n",
       "    // Throttle sequential mouse events to 1 every 20ms.\n",
       "    canvas_div.addEventListener(\n",
       "        'mousemove',\n",
       "        on_mouse_event_closure('motion_notify')\n",
       "    );\n",
       "\n",
       "    canvas_div.addEventListener(\n",
       "        'mouseenter',\n",
       "        on_mouse_event_closure('figure_enter')\n",
       "    );\n",
       "    canvas_div.addEventListener(\n",
       "        'mouseleave',\n",
       "        on_mouse_event_closure('figure_leave')\n",
       "    );\n",
       "\n",
       "    canvas_div.addEventListener('wheel', function (event) {\n",
       "        if (event.deltaY < 0) {\n",
       "            event.step = 1;\n",
       "        } else {\n",
       "            event.step = -1;\n",
       "        }\n",
       "        on_mouse_event_closure('scroll')(event);\n",
       "    });\n",
       "\n",
       "    canvas_div.appendChild(canvas);\n",
       "    canvas_div.appendChild(rubberband_canvas);\n",
       "\n",
       "    this.rubberband_context = rubberband_canvas.getContext('2d');\n",
       "    this.rubberband_context.strokeStyle = '#000000';\n",
       "\n",
       "    this._resize_canvas = function (width, height, forward) {\n",
       "        if (forward) {\n",
       "            canvas_div.style.width = width + 'px';\n",
       "            canvas_div.style.height = height + 'px';\n",
       "        }\n",
       "    };\n",
       "\n",
       "    // Disable right mouse context menu.\n",
       "    canvas_div.addEventListener('contextmenu', function (_e) {\n",
       "        event.preventDefault();\n",
       "        return false;\n",
       "    });\n",
       "\n",
       "    function set_focus() {\n",
       "        canvas.focus();\n",
       "        canvas_div.focus();\n",
       "    }\n",
       "\n",
       "    window.setTimeout(set_focus, 100);\n",
       "};\n",
       "\n",
       "mpl.figure.prototype._init_toolbar = function () {\n",
       "    var fig = this;\n",
       "\n",
       "    var toolbar = document.createElement('div');\n",
       "    toolbar.classList = 'mpl-toolbar';\n",
       "    this.root.appendChild(toolbar);\n",
       "\n",
       "    function on_click_closure(name) {\n",
       "        return function (_event) {\n",
       "            return fig.toolbar_button_onclick(name);\n",
       "        };\n",
       "    }\n",
       "\n",
       "    function on_mouseover_closure(tooltip) {\n",
       "        return function (event) {\n",
       "            if (!event.currentTarget.disabled) {\n",
       "                return fig.toolbar_button_onmouseover(tooltip);\n",
       "            }\n",
       "        };\n",
       "    }\n",
       "\n",
       "    fig.buttons = {};\n",
       "    var buttonGroup = document.createElement('div');\n",
       "    buttonGroup.classList = 'mpl-button-group';\n",
       "    for (var toolbar_ind in mpl.toolbar_items) {\n",
       "        var name = mpl.toolbar_items[toolbar_ind][0];\n",
       "        var tooltip = mpl.toolbar_items[toolbar_ind][1];\n",
       "        var image = mpl.toolbar_items[toolbar_ind][2];\n",
       "        var method_name = mpl.toolbar_items[toolbar_ind][3];\n",
       "\n",
       "        if (!name) {\n",
       "            /* Instead of a spacer, we start a new button group. */\n",
       "            if (buttonGroup.hasChildNodes()) {\n",
       "                toolbar.appendChild(buttonGroup);\n",
       "            }\n",
       "            buttonGroup = document.createElement('div');\n",
       "            buttonGroup.classList = 'mpl-button-group';\n",
       "            continue;\n",
       "        }\n",
       "\n",
       "        var button = (fig.buttons[name] = document.createElement('button'));\n",
       "        button.classList = 'mpl-widget';\n",
       "        button.setAttribute('role', 'button');\n",
       "        button.setAttribute('aria-disabled', 'false');\n",
       "        button.addEventListener('click', on_click_closure(method_name));\n",
       "        button.addEventListener('mouseover', on_mouseover_closure(tooltip));\n",
       "\n",
       "        var icon_img = document.createElement('img');\n",
       "        icon_img.src = '_images/' + image + '.png';\n",
       "        icon_img.srcset = '_images/' + image + '_large.png 2x';\n",
       "        icon_img.alt = tooltip;\n",
       "        button.appendChild(icon_img);\n",
       "\n",
       "        buttonGroup.appendChild(button);\n",
       "    }\n",
       "\n",
       "    if (buttonGroup.hasChildNodes()) {\n",
       "        toolbar.appendChild(buttonGroup);\n",
       "    }\n",
       "\n",
       "    var fmt_picker = document.createElement('select');\n",
       "    fmt_picker.classList = 'mpl-widget';\n",
       "    toolbar.appendChild(fmt_picker);\n",
       "    this.format_dropdown = fmt_picker;\n",
       "\n",
       "    for (var ind in mpl.extensions) {\n",
       "        var fmt = mpl.extensions[ind];\n",
       "        var option = document.createElement('option');\n",
       "        option.selected = fmt === mpl.default_extension;\n",
       "        option.innerHTML = fmt;\n",
       "        fmt_picker.appendChild(option);\n",
       "    }\n",
       "\n",
       "    var status_bar = document.createElement('span');\n",
       "    status_bar.classList = 'mpl-message';\n",
       "    toolbar.appendChild(status_bar);\n",
       "    this.message = status_bar;\n",
       "};\n",
       "\n",
       "mpl.figure.prototype.request_resize = function (x_pixels, y_pixels) {\n",
       "    // Request matplotlib to resize the figure. Matplotlib will then trigger a resize in the client,\n",
       "    // which will in turn request a refresh of the image.\n",
       "    this.send_message('resize', { width: x_pixels, height: y_pixels });\n",
       "};\n",
       "\n",
       "mpl.figure.prototype.send_message = function (type, properties) {\n",
       "    properties['type'] = type;\n",
       "    properties['figure_id'] = this.id;\n",
       "    this.ws.send(JSON.stringify(properties));\n",
       "};\n",
       "\n",
       "mpl.figure.prototype.send_draw_message = function () {\n",
       "    if (!this.waiting) {\n",
       "        this.waiting = true;\n",
       "        this.ws.send(JSON.stringify({ type: 'draw', figure_id: this.id }));\n",
       "    }\n",
       "};\n",
       "\n",
       "mpl.figure.prototype.handle_save = function (fig, _msg) {\n",
       "    var format_dropdown = fig.format_dropdown;\n",
       "    var format = format_dropdown.options[format_dropdown.selectedIndex].value;\n",
       "    fig.ondownload(fig, format);\n",
       "};\n",
       "\n",
       "mpl.figure.prototype.handle_resize = function (fig, msg) {\n",
       "    var size = msg['size'];\n",
       "    if (size[0] !== fig.canvas.width || size[1] !== fig.canvas.height) {\n",
       "        fig._resize_canvas(size[0], size[1], msg['forward']);\n",
       "        fig.send_message('refresh', {});\n",
       "    }\n",
       "};\n",
       "\n",
       "mpl.figure.prototype.handle_rubberband = function (fig, msg) {\n",
       "    var x0 = msg['x0'] / fig.ratio;\n",
       "    var y0 = (fig.canvas.height - msg['y0']) / fig.ratio;\n",
       "    var x1 = msg['x1'] / fig.ratio;\n",
       "    var y1 = (fig.canvas.height - msg['y1']) / fig.ratio;\n",
       "    x0 = Math.floor(x0) + 0.5;\n",
       "    y0 = Math.floor(y0) + 0.5;\n",
       "    x1 = Math.floor(x1) + 0.5;\n",
       "    y1 = Math.floor(y1) + 0.5;\n",
       "    var min_x = Math.min(x0, x1);\n",
       "    var min_y = Math.min(y0, y1);\n",
       "    var width = Math.abs(x1 - x0);\n",
       "    var height = Math.abs(y1 - y0);\n",
       "\n",
       "    fig.rubberband_context.clearRect(\n",
       "        0,\n",
       "        0,\n",
       "        fig.canvas.width / fig.ratio,\n",
       "        fig.canvas.height / fig.ratio\n",
       "    );\n",
       "\n",
       "    fig.rubberband_context.strokeRect(min_x, min_y, width, height);\n",
       "};\n",
       "\n",
       "mpl.figure.prototype.handle_figure_label = function (fig, msg) {\n",
       "    // Updates the figure title.\n",
       "    fig.header.textContent = msg['label'];\n",
       "};\n",
       "\n",
       "mpl.figure.prototype.handle_cursor = function (fig, msg) {\n",
       "    fig.canvas_div.style.cursor = msg['cursor'];\n",
       "};\n",
       "\n",
       "mpl.figure.prototype.handle_message = function (fig, msg) {\n",
       "    fig.message.textContent = msg['message'];\n",
       "};\n",
       "\n",
       "mpl.figure.prototype.handle_draw = function (fig, _msg) {\n",
       "    // Request the server to send over a new figure.\n",
       "    fig.send_draw_message();\n",
       "};\n",
       "\n",
       "mpl.figure.prototype.handle_image_mode = function (fig, msg) {\n",
       "    fig.image_mode = msg['mode'];\n",
       "};\n",
       "\n",
       "mpl.figure.prototype.handle_history_buttons = function (fig, msg) {\n",
       "    for (var key in msg) {\n",
       "        if (!(key in fig.buttons)) {\n",
       "            continue;\n",
       "        }\n",
       "        fig.buttons[key].disabled = !msg[key];\n",
       "        fig.buttons[key].setAttribute('aria-disabled', !msg[key]);\n",
       "    }\n",
       "};\n",
       "\n",
       "mpl.figure.prototype.handle_navigate_mode = function (fig, msg) {\n",
       "    if (msg['mode'] === 'PAN') {\n",
       "        fig.buttons['Pan'].classList.add('active');\n",
       "        fig.buttons['Zoom'].classList.remove('active');\n",
       "    } else if (msg['mode'] === 'ZOOM') {\n",
       "        fig.buttons['Pan'].classList.remove('active');\n",
       "        fig.buttons['Zoom'].classList.add('active');\n",
       "    } else {\n",
       "        fig.buttons['Pan'].classList.remove('active');\n",
       "        fig.buttons['Zoom'].classList.remove('active');\n",
       "    }\n",
       "};\n",
       "\n",
       "mpl.figure.prototype.updated_canvas_event = function () {\n",
       "    // Called whenever the canvas gets updated.\n",
       "    this.send_message('ack', {});\n",
       "};\n",
       "\n",
       "// A function to construct a web socket function for onmessage handling.\n",
       "// Called in the figure constructor.\n",
       "mpl.figure.prototype._make_on_message_function = function (fig) {\n",
       "    return function socket_on_message(evt) {\n",
       "        if (evt.data instanceof Blob) {\n",
       "            var img = evt.data;\n",
       "            if (img.type !== 'image/png') {\n",
       "                /* FIXME: We get \"Resource interpreted as Image but\n",
       "                 * transferred with MIME type text/plain:\" errors on\n",
       "                 * Chrome.  But how to set the MIME type?  It doesn't seem\n",
       "                 * to be part of the websocket stream */\n",
       "                img.type = 'image/png';\n",
       "            }\n",
       "\n",
       "            /* Free the memory for the previous frames */\n",
       "            if (fig.imageObj.src) {\n",
       "                (window.URL || window.webkitURL).revokeObjectURL(\n",
       "                    fig.imageObj.src\n",
       "                );\n",
       "            }\n",
       "\n",
       "            fig.imageObj.src = (window.URL || window.webkitURL).createObjectURL(\n",
       "                img\n",
       "            );\n",
       "            fig.updated_canvas_event();\n",
       "            fig.waiting = false;\n",
       "            return;\n",
       "        } else if (\n",
       "            typeof evt.data === 'string' &&\n",
       "            evt.data.slice(0, 21) === 'data:image/png;base64'\n",
       "        ) {\n",
       "            fig.imageObj.src = evt.data;\n",
       "            fig.updated_canvas_event();\n",
       "            fig.waiting = false;\n",
       "            return;\n",
       "        }\n",
       "\n",
       "        var msg = JSON.parse(evt.data);\n",
       "        var msg_type = msg['type'];\n",
       "\n",
       "        // Call the  \"handle_{type}\" callback, which takes\n",
       "        // the figure and JSON message as its only arguments.\n",
       "        try {\n",
       "            var callback = fig['handle_' + msg_type];\n",
       "        } catch (e) {\n",
       "            console.log(\n",
       "                \"No handler for the '\" + msg_type + \"' message type: \",\n",
       "                msg\n",
       "            );\n",
       "            return;\n",
       "        }\n",
       "\n",
       "        if (callback) {\n",
       "            try {\n",
       "                // console.log(\"Handling '\" + msg_type + \"' message: \", msg);\n",
       "                callback(fig, msg);\n",
       "            } catch (e) {\n",
       "                console.log(\n",
       "                    \"Exception inside the 'handler_\" + msg_type + \"' callback:\",\n",
       "                    e,\n",
       "                    e.stack,\n",
       "                    msg\n",
       "                );\n",
       "            }\n",
       "        }\n",
       "    };\n",
       "};\n",
       "\n",
       "function getModifiers(event) {\n",
       "    var mods = [];\n",
       "    if (event.ctrlKey) {\n",
       "        mods.push('ctrl');\n",
       "    }\n",
       "    if (event.altKey) {\n",
       "        mods.push('alt');\n",
       "    }\n",
       "    if (event.shiftKey) {\n",
       "        mods.push('shift');\n",
       "    }\n",
       "    if (event.metaKey) {\n",
       "        mods.push('meta');\n",
       "    }\n",
       "    return mods;\n",
       "}\n",
       "\n",
       "/*\n",
       " * return a copy of an object with only non-object keys\n",
       " * we need this to avoid circular references\n",
       " * https://stackoverflow.com/a/24161582/3208463\n",
       " */\n",
       "function simpleKeys(original) {\n",
       "    return Object.keys(original).reduce(function (obj, key) {\n",
       "        if (typeof original[key] !== 'object') {\n",
       "            obj[key] = original[key];\n",
       "        }\n",
       "        return obj;\n",
       "    }, {});\n",
       "}\n",
       "\n",
       "mpl.figure.prototype.mouse_event = function (event, name) {\n",
       "    if (name === 'button_press') {\n",
       "        this.canvas.focus();\n",
       "        this.canvas_div.focus();\n",
       "    }\n",
       "\n",
       "    // from https://stackoverflow.com/q/1114465\n",
       "    var boundingRect = this.canvas.getBoundingClientRect();\n",
       "    var x = (event.clientX - boundingRect.left) * this.ratio;\n",
       "    var y = (event.clientY - boundingRect.top) * this.ratio;\n",
       "\n",
       "    this.send_message(name, {\n",
       "        x: x,\n",
       "        y: y,\n",
       "        button: event.button,\n",
       "        step: event.step,\n",
       "        modifiers: getModifiers(event),\n",
       "        guiEvent: simpleKeys(event),\n",
       "    });\n",
       "\n",
       "    return false;\n",
       "};\n",
       "\n",
       "mpl.figure.prototype._key_event_extra = function (_event, _name) {\n",
       "    // Handle any extra behaviour associated with a key event\n",
       "};\n",
       "\n",
       "mpl.figure.prototype.key_event = function (event, name) {\n",
       "    // Prevent repeat events\n",
       "    if (name === 'key_press') {\n",
       "        if (event.key === this._key) {\n",
       "            return;\n",
       "        } else {\n",
       "            this._key = event.key;\n",
       "        }\n",
       "    }\n",
       "    if (name === 'key_release') {\n",
       "        this._key = null;\n",
       "    }\n",
       "\n",
       "    var value = '';\n",
       "    if (event.ctrlKey && event.key !== 'Control') {\n",
       "        value += 'ctrl+';\n",
       "    }\n",
       "    else if (event.altKey && event.key !== 'Alt') {\n",
       "        value += 'alt+';\n",
       "    }\n",
       "    else if (event.shiftKey && event.key !== 'Shift') {\n",
       "        value += 'shift+';\n",
       "    }\n",
       "\n",
       "    value += 'k' + event.key;\n",
       "\n",
       "    this._key_event_extra(event, name);\n",
       "\n",
       "    this.send_message(name, { key: value, guiEvent: simpleKeys(event) });\n",
       "    return false;\n",
       "};\n",
       "\n",
       "mpl.figure.prototype.toolbar_button_onclick = function (name) {\n",
       "    if (name === 'download') {\n",
       "        this.handle_save(this, null);\n",
       "    } else {\n",
       "        this.send_message('toolbar_button', { name: name });\n",
       "    }\n",
       "};\n",
       "\n",
       "mpl.figure.prototype.toolbar_button_onmouseover = function (tooltip) {\n",
       "    this.message.textContent = tooltip;\n",
       "};\n",
       "\n",
       "///////////////// REMAINING CONTENT GENERATED BY embed_js.py /////////////////\n",
       "// prettier-ignore\n",
       "var _JSXTOOLS_RESIZE_OBSERVER=function(A){var t,i=new WeakMap,n=new WeakMap,a=new WeakMap,r=new WeakMap,o=new Set;function s(e){if(!(this instanceof s))throw new TypeError(\"Constructor requires 'new' operator\");i.set(this,e)}function h(){throw new TypeError(\"Function is not a constructor\")}function c(e,t,i,n){e=0 in arguments?Number(arguments[0]):0,t=1 in arguments?Number(arguments[1]):0,i=2 in arguments?Number(arguments[2]):0,n=3 in arguments?Number(arguments[3]):0,this.right=(this.x=this.left=e)+(this.width=i),this.bottom=(this.y=this.top=t)+(this.height=n),Object.freeze(this)}function d(){t=requestAnimationFrame(d);var s=new WeakMap,p=new Set;o.forEach((function(t){r.get(t).forEach((function(i){var r=t instanceof window.SVGElement,o=a.get(t),d=r?0:parseFloat(o.paddingTop),f=r?0:parseFloat(o.paddingRight),l=r?0:parseFloat(o.paddingBottom),u=r?0:parseFloat(o.paddingLeft),g=r?0:parseFloat(o.borderTopWidth),m=r?0:parseFloat(o.borderRightWidth),w=r?0:parseFloat(o.borderBottomWidth),b=u+f,F=d+l,v=(r?0:parseFloat(o.borderLeftWidth))+m,W=g+w,y=r?0:t.offsetHeight-W-t.clientHeight,E=r?0:t.offsetWidth-v-t.clientWidth,R=b+v,z=F+W,M=r?t.width:parseFloat(o.width)-R-E,O=r?t.height:parseFloat(o.height)-z-y;if(n.has(t)){var k=n.get(t);if(k[0]===M&&k[1]===O)return}n.set(t,[M,O]);var S=Object.create(h.prototype);S.target=t,S.contentRect=new c(u,d,M,O),s.has(i)||(s.set(i,[]),p.add(i)),s.get(i).push(S)}))})),p.forEach((function(e){i.get(e).call(e,s.get(e),e)}))}return s.prototype.observe=function(i){if(i instanceof window.Element){r.has(i)||(r.set(i,new Set),o.add(i),a.set(i,window.getComputedStyle(i)));var n=r.get(i);n.has(this)||n.add(this),cancelAnimationFrame(t),t=requestAnimationFrame(d)}},s.prototype.unobserve=function(i){if(i instanceof window.Element&&r.has(i)){var n=r.get(i);n.has(this)&&(n.delete(this),n.size||(r.delete(i),o.delete(i))),n.size||r.delete(i),o.size||cancelAnimationFrame(t)}},A.DOMRectReadOnly=c,A.ResizeObserver=s,A.ResizeObserverEntry=h,A}; // eslint-disable-line\n",
       "mpl.toolbar_items = [[\"Home\", \"Reset original view\", \"fa fa-home\", \"home\"], [\"Back\", \"Back to previous view\", \"fa fa-arrow-left\", \"back\"], [\"Forward\", \"Forward to next view\", \"fa fa-arrow-right\", \"forward\"], [\"\", \"\", \"\", \"\"], [\"Pan\", \"Left button pans, Right button zooms\\nx/y fixes axis, CTRL fixes aspect\", \"fa fa-arrows\", \"pan\"], [\"Zoom\", \"Zoom to rectangle\\nx/y fixes axis\", \"fa fa-square-o\", \"zoom\"], [\"\", \"\", \"\", \"\"], [\"Download\", \"Download plot\", \"fa fa-floppy-o\", \"download\"]];\n",
       "\n",
       "mpl.extensions = [\"eps\", \"jpeg\", \"pgf\", \"pdf\", \"png\", \"ps\", \"raw\", \"svg\", \"tif\", \"webp\"];\n",
       "\n",
       "mpl.default_extension = \"png\";/* global mpl */\n",
       "\n",
       "var comm_websocket_adapter = function (comm) {\n",
       "    // Create a \"websocket\"-like object which calls the given IPython comm\n",
       "    // object with the appropriate methods. Currently this is a non binary\n",
       "    // socket, so there is still some room for performance tuning.\n",
       "    var ws = {};\n",
       "\n",
       "    ws.binaryType = comm.kernel.ws.binaryType;\n",
       "    ws.readyState = comm.kernel.ws.readyState;\n",
       "    function updateReadyState(_event) {\n",
       "        if (comm.kernel.ws) {\n",
       "            ws.readyState = comm.kernel.ws.readyState;\n",
       "        } else {\n",
       "            ws.readyState = 3; // Closed state.\n",
       "        }\n",
       "    }\n",
       "    comm.kernel.ws.addEventListener('open', updateReadyState);\n",
       "    comm.kernel.ws.addEventListener('close', updateReadyState);\n",
       "    comm.kernel.ws.addEventListener('error', updateReadyState);\n",
       "\n",
       "    ws.close = function () {\n",
       "        comm.close();\n",
       "    };\n",
       "    ws.send = function (m) {\n",
       "        //console.log('sending', m);\n",
       "        comm.send(m);\n",
       "    };\n",
       "    // Register the callback with on_msg.\n",
       "    comm.on_msg(function (msg) {\n",
       "        //console.log('receiving', msg['content']['data'], msg);\n",
       "        var data = msg['content']['data'];\n",
       "        if (data['blob'] !== undefined) {\n",
       "            data = {\n",
       "                data: new Blob(msg['buffers'], { type: data['blob'] }),\n",
       "            };\n",
       "        }\n",
       "        // Pass the mpl event to the overridden (by mpl) onmessage function.\n",
       "        ws.onmessage(data);\n",
       "    });\n",
       "    return ws;\n",
       "};\n",
       "\n",
       "mpl.mpl_figure_comm = function (comm, msg) {\n",
       "    // This is the function which gets called when the mpl process\n",
       "    // starts-up an IPython Comm through the \"matplotlib\" channel.\n",
       "\n",
       "    var id = msg.content.data.id;\n",
       "    // Get hold of the div created by the display call when the Comm\n",
       "    // socket was opened in Python.\n",
       "    var element = document.getElementById(id);\n",
       "    var ws_proxy = comm_websocket_adapter(comm);\n",
       "\n",
       "    function ondownload(figure, _format) {\n",
       "        window.open(figure.canvas.toDataURL());\n",
       "    }\n",
       "\n",
       "    var fig = new mpl.figure(id, ws_proxy, ondownload, element);\n",
       "\n",
       "    // Call onopen now - mpl needs it, as it is assuming we've passed it a real\n",
       "    // web socket which is closed, not our websocket->open comm proxy.\n",
       "    ws_proxy.onopen();\n",
       "\n",
       "    fig.parent_element = element;\n",
       "    fig.cell_info = mpl.find_output_cell(\"<div id='\" + id + \"'></div>\");\n",
       "    if (!fig.cell_info) {\n",
       "        console.error('Failed to find cell for figure', id, fig);\n",
       "        return;\n",
       "    }\n",
       "    fig.cell_info[0].output_area.element.on(\n",
       "        'cleared',\n",
       "        { fig: fig },\n",
       "        fig._remove_fig_handler\n",
       "    );\n",
       "};\n",
       "\n",
       "mpl.figure.prototype.handle_close = function (fig, msg) {\n",
       "    var width = fig.canvas.width / fig.ratio;\n",
       "    fig.cell_info[0].output_area.element.off(\n",
       "        'cleared',\n",
       "        fig._remove_fig_handler\n",
       "    );\n",
       "    fig.resizeObserverInstance.unobserve(fig.canvas_div);\n",
       "\n",
       "    // Update the output cell to use the data from the current canvas.\n",
       "    fig.push_to_output();\n",
       "    var dataURL = fig.canvas.toDataURL();\n",
       "    // Re-enable the keyboard manager in IPython - without this line, in FF,\n",
       "    // the notebook keyboard shortcuts fail.\n",
       "    IPython.keyboard_manager.enable();\n",
       "    fig.parent_element.innerHTML =\n",
       "        '<img src=\"' + dataURL + '\" width=\"' + width + '\">';\n",
       "    fig.close_ws(fig, msg);\n",
       "};\n",
       "\n",
       "mpl.figure.prototype.close_ws = function (fig, msg) {\n",
       "    fig.send_message('closing', msg);\n",
       "    // fig.ws.close()\n",
       "};\n",
       "\n",
       "mpl.figure.prototype.push_to_output = function (_remove_interactive) {\n",
       "    // Turn the data on the canvas into data in the output cell.\n",
       "    var width = this.canvas.width / this.ratio;\n",
       "    var dataURL = this.canvas.toDataURL();\n",
       "    this.cell_info[1]['text/html'] =\n",
       "        '<img src=\"' + dataURL + '\" width=\"' + width + '\">';\n",
       "};\n",
       "\n",
       "mpl.figure.prototype.updated_canvas_event = function () {\n",
       "    // Tell IPython that the notebook contents must change.\n",
       "    IPython.notebook.set_dirty(true);\n",
       "    this.send_message('ack', {});\n",
       "    var fig = this;\n",
       "    // Wait a second, then push the new image to the DOM so\n",
       "    // that it is saved nicely (might be nice to debounce this).\n",
       "    setTimeout(function () {\n",
       "        fig.push_to_output();\n",
       "    }, 1000);\n",
       "};\n",
       "\n",
       "mpl.figure.prototype._init_toolbar = function () {\n",
       "    var fig = this;\n",
       "\n",
       "    var toolbar = document.createElement('div');\n",
       "    toolbar.classList = 'btn-toolbar';\n",
       "    this.root.appendChild(toolbar);\n",
       "\n",
       "    function on_click_closure(name) {\n",
       "        return function (_event) {\n",
       "            return fig.toolbar_button_onclick(name);\n",
       "        };\n",
       "    }\n",
       "\n",
       "    function on_mouseover_closure(tooltip) {\n",
       "        return function (event) {\n",
       "            if (!event.currentTarget.disabled) {\n",
       "                return fig.toolbar_button_onmouseover(tooltip);\n",
       "            }\n",
       "        };\n",
       "    }\n",
       "\n",
       "    fig.buttons = {};\n",
       "    var buttonGroup = document.createElement('div');\n",
       "    buttonGroup.classList = 'btn-group';\n",
       "    var button;\n",
       "    for (var toolbar_ind in mpl.toolbar_items) {\n",
       "        var name = mpl.toolbar_items[toolbar_ind][0];\n",
       "        var tooltip = mpl.toolbar_items[toolbar_ind][1];\n",
       "        var image = mpl.toolbar_items[toolbar_ind][2];\n",
       "        var method_name = mpl.toolbar_items[toolbar_ind][3];\n",
       "\n",
       "        if (!name) {\n",
       "            /* Instead of a spacer, we start a new button group. */\n",
       "            if (buttonGroup.hasChildNodes()) {\n",
       "                toolbar.appendChild(buttonGroup);\n",
       "            }\n",
       "            buttonGroup = document.createElement('div');\n",
       "            buttonGroup.classList = 'btn-group';\n",
       "            continue;\n",
       "        }\n",
       "\n",
       "        button = fig.buttons[name] = document.createElement('button');\n",
       "        button.classList = 'btn btn-default';\n",
       "        button.href = '#';\n",
       "        button.title = name;\n",
       "        button.innerHTML = '<i class=\"fa ' + image + ' fa-lg\"></i>';\n",
       "        button.addEventListener('click', on_click_closure(method_name));\n",
       "        button.addEventListener('mouseover', on_mouseover_closure(tooltip));\n",
       "        buttonGroup.appendChild(button);\n",
       "    }\n",
       "\n",
       "    if (buttonGroup.hasChildNodes()) {\n",
       "        toolbar.appendChild(buttonGroup);\n",
       "    }\n",
       "\n",
       "    // Add the status bar.\n",
       "    var status_bar = document.createElement('span');\n",
       "    status_bar.classList = 'mpl-message pull-right';\n",
       "    toolbar.appendChild(status_bar);\n",
       "    this.message = status_bar;\n",
       "\n",
       "    // Add the close button to the window.\n",
       "    var buttongrp = document.createElement('div');\n",
       "    buttongrp.classList = 'btn-group inline pull-right';\n",
       "    button = document.createElement('button');\n",
       "    button.classList = 'btn btn-mini btn-primary';\n",
       "    button.href = '#';\n",
       "    button.title = 'Stop Interaction';\n",
       "    button.innerHTML = '<i class=\"fa fa-power-off icon-remove icon-large\"></i>';\n",
       "    button.addEventListener('click', function (_evt) {\n",
       "        fig.handle_close(fig, {});\n",
       "    });\n",
       "    button.addEventListener(\n",
       "        'mouseover',\n",
       "        on_mouseover_closure('Stop Interaction')\n",
       "    );\n",
       "    buttongrp.appendChild(button);\n",
       "    var titlebar = this.root.querySelector('.ui-dialog-titlebar');\n",
       "    titlebar.insertBefore(buttongrp, titlebar.firstChild);\n",
       "};\n",
       "\n",
       "mpl.figure.prototype._remove_fig_handler = function (event) {\n",
       "    var fig = event.data.fig;\n",
       "    if (event.target !== this) {\n",
       "        // Ignore bubbled events from children.\n",
       "        return;\n",
       "    }\n",
       "    fig.close_ws(fig, {});\n",
       "};\n",
       "\n",
       "mpl.figure.prototype._root_extra_style = function (el) {\n",
       "    el.style.boxSizing = 'content-box'; // override notebook setting of border-box.\n",
       "};\n",
       "\n",
       "mpl.figure.prototype._canvas_extra_style = function (el) {\n",
       "    // this is important to make the div 'focusable\n",
       "    el.setAttribute('tabindex', 0);\n",
       "    // reach out to IPython and tell the keyboard manager to turn it's self\n",
       "    // off when our div gets focus\n",
       "\n",
       "    // location in version 3\n",
       "    if (IPython.notebook.keyboard_manager) {\n",
       "        IPython.notebook.keyboard_manager.register_events(el);\n",
       "    } else {\n",
       "        // location in version 2\n",
       "        IPython.keyboard_manager.register_events(el);\n",
       "    }\n",
       "};\n",
       "\n",
       "mpl.figure.prototype._key_event_extra = function (event, _name) {\n",
       "    // Check for shift+enter\n",
       "    if (event.shiftKey && event.which === 13) {\n",
       "        this.canvas_div.blur();\n",
       "        // select the cell after this one\n",
       "        var index = IPython.notebook.find_cell_index(this.cell_info[0]);\n",
       "        IPython.notebook.select(index + 1);\n",
       "    }\n",
       "};\n",
       "\n",
       "mpl.figure.prototype.handle_save = function (fig, _msg) {\n",
       "    fig.ondownload(fig, null);\n",
       "};\n",
       "\n",
       "mpl.find_output_cell = function (html_output) {\n",
       "    // Return the cell and output element which can be found *uniquely* in the notebook.\n",
       "    // Note - this is a bit hacky, but it is done because the \"notebook_saving.Notebook\"\n",
       "    // IPython event is triggered only after the cells have been serialised, which for\n",
       "    // our purposes (turning an active figure into a static one), is too late.\n",
       "    var cells = IPython.notebook.get_cells();\n",
       "    var ncells = cells.length;\n",
       "    for (var i = 0; i < ncells; i++) {\n",
       "        var cell = cells[i];\n",
       "        if (cell.cell_type === 'code') {\n",
       "            for (var j = 0; j < cell.output_area.outputs.length; j++) {\n",
       "                var data = cell.output_area.outputs[j];\n",
       "                if (data.data) {\n",
       "                    // IPython >= 3 moved mimebundle to data attribute of output\n",
       "                    data = data.data;\n",
       "                }\n",
       "                if (data['text/html'] === html_output) {\n",
       "                    return [cell, data, j];\n",
       "                }\n",
       "            }\n",
       "        }\n",
       "    }\n",
       "};\n",
       "\n",
       "// Register the function which deals with the matplotlib target/channel.\n",
       "// The kernel may be null if the page has been refreshed.\n",
       "if (IPython.notebook.kernel !== null) {\n",
       "    IPython.notebook.kernel.comm_manager.register_target(\n",
       "        'matplotlib',\n",
       "        mpl.mpl_figure_comm\n",
       "    );\n",
       "}\n"
      ],
      "text/plain": [
       "<IPython.core.display.Javascript object>"
      ]
     },
     "metadata": {},
     "output_type": "display_data"
    },
    {
     "data": {
      "text/html": [
       "<div id='420a9bc6-4a24-41e0-bd86-a06f91a66c6a'></div>"
      ],
      "text/plain": [
       "<IPython.core.display.HTML object>"
      ]
     },
     "metadata": {},
     "output_type": "display_data"
    }
   ],
   "source": [
    "img = flatfield.copy()\n",
    "delta = 150\n",
    "center = [254, 561.0]\n",
    "range_y = [int(center[1] - 3.7*  delta), int(center[1] + 1.5 * delta)]\n",
    "range_x = [int(center[0] - 1.5 * delta), int(center[0] + delta)]\n",
    "limits = np.asarray([0.1, 25])\n",
    "mean_img = np.mean(np.concatenate((img[:min(range_y), :].flatten(),\n",
    "                                   img[max(range_y):, :].flatten(),\n",
    "                                   img[:, :min(range_x)].flatten(),\n",
    "                                   img[:, max(range_x):].flatten())), axis=0)\n",
    "limits = limits * mean_img\n",
    "mask_bkg = np.empty_like(img, dtype=bool)\n",
    "mask_bkg[:, :] = False\n",
    "mask_bkg[:min(range_y), :][img[:min(range_y), :] > max(limits)] = True\n",
    "mask_bkg[max(range_y):, :][img[max(range_y):, :] > max(limits)] = True\n",
    "mask_bkg[:, :min(range_x)][img[:, :min(range_x)] > max(limits)] = True\n",
    "mask_bkg[:, max(range_x):][img[:, max(range_x):] > max(limits)] = True\n",
    "mask_bkg[img < - 0.1] = True\n",
    "\n",
    "# Coord: Y, X\n",
    "mask_bkg[520 : 521 + 1, 546] = True\n",
    "#mask_bkg[520 : 521 + 1, 546] = True\n",
    "mask_bkg[520 : 521 + 1, 552 : 554 + 1] = True\n",
    "#mask_bkg[520 : 522 + 1, 614 : 615 + 1] = True\n",
    "#mask_bkg[962, 329] = True\n",
    "#mask_bkg[991, 517] = True\n",
    "#mask_bkg[1032, 510] = True\n",
    "#mask_bkg[394, 889] = True\n",
    "#mask_bkg[384, 908] = True\n",
    "#mask_bkg[396, 908] = True\n",
    "#mask_bkg[404, 913] = True\n",
    "#mask_bkg[406, 916] = True\n",
    "mask_bkg[145, 733] = True\n",
    "mask_bkg[372, 462] = True\n",
    "mask_bkg[189, 571] = True\n",
    "mask_bkg[236, 142] = True\n",
    "\n",
    "fig, ax = plt.subplots(1, 3, sharex=True, sharey=True, figsize=(8, 6))\n",
    "ax[0].imshow(img*np.logical_not(mask_bkg), vmax=np.percentile(img, 99.0))\n",
    "ax[1].imshow(img, vmax=np.percentile(img, 99.0))\n",
    "ax[2].imshow(mask_bkg)\n",
    "ax[2].scatter(np.where(mask_bkg)[1],\n",
    "              np.where(mask_bkg)[0], s=0.1, color='r')\n",
    "for axi, title in zip(ax, ['corrected', 'raw', 'removed pixels']):\n",
    "    axi.set_title(title, size=10)"
   ]
  },
  {
   "cell_type": "markdown",
   "metadata": {},
   "source": [
    "<h3>Test geometry</h3>\n",
    "Check the processing geometry (beam centre) and other parameters on single frame before processing everything."
   ]
  },
  {
   "cell_type": "code",
   "execution_count": 22,
   "metadata": {
    "scrolled": true
   },
   "outputs": [
    {
     "data": {
      "text/plain": [
       "['IB_DIPA_RbBr_aq_phase-a_pos1_13.45000keV_wa20.0_sdd1.8m_bpm3.412_id435106_000000_SAXS.tif',\n",
       " 'IB_DIPA_RbBr_aq_phase-a_pos1_13.45000keV_wa40.0_sdd1.8m_bpm3.426_id435152_000000_SAXS.tif']"
      ]
     },
     "execution_count": 22,
     "metadata": {},
     "output_type": "execute_result"
    }
   ],
   "source": [
    "sample = samples.iloc[-1]\n",
    "energy_data_set = batch_dct[sample]\n",
    "fnames = energy_data_set[0][0]\n",
    "f = fnames[0]\n",
    "fnames"
   ]
  },
  {
   "cell_type": "code",
   "execution_count": 23,
   "metadata": {
    "scrolled": true
   },
   "outputs": [
    {
     "name": "stdout",
     "output_type": "stream",
     "text": [
      "13.45 9.217843866171005e-11\n"
     ]
    }
   ],
   "source": [
    "energy = float(fnames[0][fnames[0].find('keV') - 8: fnames[0].find('keV')])\n",
    "wav = 1E-10 * 12.398 / energy\n",
    "print(energy, wav)"
   ]
  },
  {
   "cell_type": "code",
   "execution_count": 35,
   "metadata": {},
   "outputs": [],
   "source": [
    "def get_sname_md(f):\n",
    "    \"\"\"\n",
    "    Create metadata for sample short name from the image file name\n",
    "    \"\"\"\n",
    "    #temp = f[f.find('degC_') - 5 : f.find('degC')]\n",
    "    #ai = f[f.find('_ai') + 3 : f.find('_id')]\n",
    "    #run = f[f.find('_run') + 4 : f.find('keV') - 6]\n",
    "    #trs = f[f.find('_trs') + 4 : f.find('_id')]\n",
    "    #loc = f[f.find('AXS.tif') - 7 : f.find('AXS.tif') - 2]\n",
    "    #loc = f[f.find('_loc') + 4 : f.find('_loc') + 5]\n",
    "    #loc = f[f.find('loc') + 3 : f.find('loc') + 4]\n",
    "    #ids = f[f.find('_id') + 3 : f.find('AXS.tiff') - 15]\n",
    "    #tme = f[f.find('_time') + 5 : f.find('_time') + 5 + 6]\n",
    "    #temp = f.split('_')[4]\n",
    "    #loc = f.split(f'{sample}')[1][: f.find('_16.10') - 9]\n",
    "    ene = f[f.find('keV_') - 8 : f.find('keV_')]\n",
    "    bpm = f[f.find('_bpm') + 4 : f.find('_id')]\n",
    "\n",
    "    name = f'{ene}keV_bpm{bpm}'\n",
    "\n",
    "    return name"
   ]
  },
  {
   "cell_type": "code",
   "execution_count": 36,
   "metadata": {},
   "outputs": [],
   "source": [
    "def get_sname(sample):\n",
    "    sname = sample.translate({ord(c): '' for c in \"]['\"})\n",
    "    return sname"
   ]
  },
  {
   "cell_type": "code",
   "execution_count": 37,
   "metadata": {},
   "outputs": [
    {
     "data": {
      "text/plain": [
       "'IB_kaptom_pos1_13.45000keV_bpm3.415'"
      ]
     },
     "execution_count": 37,
     "metadata": {},
     "output_type": "execute_result"
    }
   ],
   "source": [
    "sname = get_sname(sample) + get_sname_md(f)\n",
    "sname"
   ]
  },
  {
   "cell_type": "code",
   "execution_count": 38,
   "metadata": {},
   "outputs": [
    {
     "data": {
      "text/plain": [
       "'IB_kaptom_pos1_'"
      ]
     },
     "execution_count": 38,
     "metadata": {},
     "output_type": "execute_result"
    }
   ],
   "source": [
    "sample = get_sname(sample)\n",
    "sample"
   ]
  },
  {
   "cell_type": "code",
   "execution_count": 39,
   "metadata": {},
   "outputs": [
    {
     "data": {
      "text/plain": [
       "1800.0"
      ]
     },
     "execution_count": 39,
     "metadata": {},
     "output_type": "execute_result"
    }
   ],
   "source": [
    "sdd = float(fnames[0][fnames[0].find('_sdd') + 4 : fnames[0].find('_sdd') + 7])\n",
    "sdd *= 1000\n",
    "sdd"
   ]
  },
  {
   "cell_type": "markdown",
   "metadata": {},
   "source": [
    "<h4>DataBroker</h4>\n",
    "This is only available when running on a beamline machine or nsls2 Jupyter hub, it gets beam centre info from scan metadata but could be specified manually"
   ]
  },
  {
   "cell_type": "code",
   "execution_count": 40,
   "metadata": {},
   "outputs": [
    {
     "ename": "ProfileNotFound",
     "evalue": "\"Profile 'smi' not found. Found profiles [] from directories [PosixPath('/etc/tiled/profiles'), PosixPath('/Library/Application Support/tiled/profiles'), PosixPath('/Users/ianbillinge/micromamba/envs/smi_py311/etc/tiled/profiles'), PosixPath('/Users/ianbillinge/.config/tiled/profiles'), PosixPath('/Users/ianbillinge/Library/Application Support/tiled/profiles')].\"",
     "output_type": "error",
     "traceback": [
      "\u001b[0;31m---------------------------------------------------------------------------\u001b[0m",
      "\u001b[0;31mKeyError\u001b[0m                                  Traceback (most recent call last)",
      "File \u001b[0;32m~/micromamba/envs/smi_py311/lib/python3.11/site-packages/tiled/client/constructors.py:183\u001b[0m, in \u001b[0;36mfrom_profile\u001b[0;34m(name, structure_clients, **kwargs)\u001b[0m\n\u001b[1;32m    182\u001b[0m \u001b[38;5;28;01mtry\u001b[39;00m:\n\u001b[0;32m--> 183\u001b[0m     filepath, profile_content \u001b[38;5;241m=\u001b[39m \u001b[43mprofiles\u001b[49m\u001b[43m[\u001b[49m\u001b[43mname\u001b[49m\u001b[43m]\u001b[49m\n\u001b[1;32m    184\u001b[0m \u001b[38;5;28;01mexcept\u001b[39;00m \u001b[38;5;167;01mKeyError\u001b[39;00m \u001b[38;5;28;01mas\u001b[39;00m err:\n",
      "\u001b[0;31mKeyError\u001b[0m: 'smi'",
      "\nThe above exception was the direct cause of the following exception:\n",
      "\u001b[0;31mProfileNotFound\u001b[0m                           Traceback (most recent call last)",
      "Cell \u001b[0;32mIn[40], line 2\u001b[0m\n\u001b[1;32m      1\u001b[0m \u001b[38;5;28;01mfrom\u001b[39;00m \u001b[38;5;21;01mdatabroker\u001b[39;00m \u001b[38;5;28;01mimport\u001b[39;00m Broker\n\u001b[0;32m----> 2\u001b[0m db \u001b[38;5;241m=\u001b[39m \u001b[43mBroker\u001b[49m\u001b[38;5;241;43m.\u001b[39;49m\u001b[43mnamed\u001b[49m\u001b[43m(\u001b[49m\u001b[38;5;124;43m'\u001b[39;49m\u001b[38;5;124;43msmi\u001b[39;49m\u001b[38;5;124;43m'\u001b[39;49m\u001b[43m)\u001b[49m\n",
      "File \u001b[0;32m~/micromamba/envs/smi_py311/lib/python3.11/site-packages/databroker/v1.py:214\u001b[0m, in \u001b[0;36mBroker.named\u001b[0;34m(cls, name, auto_register, try_raw)\u001b[0m\n\u001b[1;32m    212\u001b[0m \u001b[38;5;28;01mif\u001b[39;00m name \u001b[38;5;241m==\u001b[39m \u001b[38;5;124m\"\u001b[39m\u001b[38;5;124mtemp\u001b[39m\u001b[38;5;124m\"\u001b[39m:\n\u001b[1;32m    213\u001b[0m     \u001b[38;5;28;01mreturn\u001b[39;00m temp()\n\u001b[0;32m--> 214\u001b[0m client \u001b[38;5;241m=\u001b[39m \u001b[43mfrom_profile\u001b[49m\u001b[43m(\u001b[49m\u001b[43mname\u001b[49m\u001b[43m)\u001b[49m\n\u001b[1;32m    215\u001b[0m \u001b[38;5;28;01mif\u001b[39;00m try_raw:\n\u001b[1;32m    216\u001b[0m     \u001b[38;5;28;01mtry\u001b[39;00m:\n",
      "File \u001b[0;32m~/micromamba/envs/smi_py311/lib/python3.11/site-packages/tiled/client/constructors.py:185\u001b[0m, in \u001b[0;36mfrom_profile\u001b[0;34m(name, structure_clients, **kwargs)\u001b[0m\n\u001b[1;32m    183\u001b[0m     filepath, profile_content \u001b[38;5;241m=\u001b[39m profiles[name]\n\u001b[1;32m    184\u001b[0m \u001b[38;5;28;01mexcept\u001b[39;00m \u001b[38;5;167;01mKeyError\u001b[39;00m \u001b[38;5;28;01mas\u001b[39;00m err:\n\u001b[0;32m--> 185\u001b[0m     \u001b[38;5;28;01mraise\u001b[39;00m ProfileNotFound(\n\u001b[1;32m    186\u001b[0m         \u001b[38;5;124mf\u001b[39m\u001b[38;5;124m\"\u001b[39m\u001b[38;5;124mProfile \u001b[39m\u001b[38;5;132;01m{\u001b[39;00mname\u001b[38;5;132;01m!r}\u001b[39;00m\u001b[38;5;124m not found. Found profiles \u001b[39m\u001b[38;5;132;01m{\u001b[39;00m\u001b[38;5;28mlist\u001b[39m(profiles)\u001b[38;5;132;01m}\u001b[39;00m\u001b[38;5;124m \u001b[39m\u001b[38;5;124m\"\u001b[39m\n\u001b[1;32m    187\u001b[0m         \u001b[38;5;124mf\u001b[39m\u001b[38;5;124m\"\u001b[39m\u001b[38;5;124mfrom directories \u001b[39m\u001b[38;5;132;01m{\u001b[39;00mpaths\u001b[38;5;132;01m}\u001b[39;00m\u001b[38;5;124m.\u001b[39m\u001b[38;5;124m\"\u001b[39m\n\u001b[1;32m    188\u001b[0m     ) \u001b[38;5;28;01mfrom\u001b[39;00m \u001b[38;5;21;01merr\u001b[39;00m\n\u001b[1;32m    189\u001b[0m merged \u001b[38;5;241m=\u001b[39m {\u001b[38;5;241m*\u001b[39m\u001b[38;5;241m*\u001b[39mprofile_content, \u001b[38;5;241m*\u001b[39m\u001b[38;5;241m*\u001b[39mkwargs}\n\u001b[1;32m    190\u001b[0m \u001b[38;5;28;01mif\u001b[39;00m structure_clients \u001b[38;5;129;01mis\u001b[39;00m \u001b[38;5;129;01mnot\u001b[39;00m \u001b[38;5;28;01mNone\u001b[39;00m:\n",
      "\u001b[0;31mProfileNotFound\u001b[0m: \"Profile 'smi' not found. Found profiles [] from directories [PosixPath('/etc/tiled/profiles'), PosixPath('/Library/Application Support/tiled/profiles'), PosixPath('/Users/ianbillinge/micromamba/envs/smi_py311/etc/tiled/profiles'), PosixPath('/Users/ianbillinge/.config/tiled/profiles'), PosixPath('/Users/ianbillinge/Library/Application Support/tiled/profiles')].\""
     ]
    }
   ],
   "source": [
    "from databroker import Broker\n",
    "db = Broker.named('smi')"
   ]
  },
  {
   "cell_type": "code",
   "execution_count": 41,
   "metadata": {
    "scrolled": true
   },
   "outputs": [
    {
     "ename": "NameError",
     "evalue": "name 'db' is not defined",
     "output_type": "error",
     "traceback": [
      "\u001b[0;31m---------------------------------------------------------------------------\u001b[0m",
      "\u001b[0;31mNameError\u001b[0m                                 Traceback (most recent call last)",
      "Cell \u001b[0;32mIn[41], line 2\u001b[0m\n\u001b[1;32m      1\u001b[0m scan_id \u001b[38;5;241m=\u001b[39m \u001b[38;5;28mint\u001b[39m(fnames[\u001b[38;5;241m0\u001b[39m][fnames[\u001b[38;5;241m0\u001b[39m]\u001b[38;5;241m.\u001b[39mfind(\u001b[38;5;124m'\u001b[39m\u001b[38;5;124m_id\u001b[39m\u001b[38;5;124m'\u001b[39m) \u001b[38;5;241m+\u001b[39m \u001b[38;5;241m3\u001b[39m : fnames[\u001b[38;5;241m0\u001b[39m]\u001b[38;5;241m.\u001b[39mfind(\u001b[38;5;124m'\u001b[39m\u001b[38;5;124m_0000\u001b[39m\u001b[38;5;124m'\u001b[39m)])\n\u001b[0;32m----> 2\u001b[0m saxs_setup \u001b[38;5;241m=\u001b[39m \u001b[43mdb\u001b[49m[scan_id]\u001b[38;5;241m.\u001b[39mstart[\u001b[38;5;124m'\u001b[39m\u001b[38;5;124mSAXS_setup\u001b[39m\u001b[38;5;124m'\u001b[39m]\n\u001b[1;32m      3\u001b[0m \u001b[38;5;28mprint\u001b[39m(scan_id)\n\u001b[1;32m      4\u001b[0m \u001b[38;5;28mprint\u001b[39m(saxs_setup)\n",
      "\u001b[0;31mNameError\u001b[0m: name 'db' is not defined"
     ]
    }
   ],
   "source": [
    "scan_id = int(fnames[0][fnames[0].find('_id') + 3 : fnames[0].find('_0000')])\n",
    "saxs_setup = db[scan_id].start['SAXS_setup']\n",
    "print(scan_id)\n",
    "print(saxs_setup)\n",
    "beam_centre = saxs_setup['beam_centre']\n",
    "bs_kind = saxs_setup['bs']"
   ]
  },
  {
   "cell_type": "raw",
   "metadata": {},
   "source": [
    "360623\n",
    "{'sdd': 2000, 'beam_centre': [166.0, 972.0], 'bs': 'rod', 'energy': 16100}"
   ]
  },
  {
   "cell_type": "code",
   "execution_count": 42,
   "metadata": {},
   "outputs": [],
   "source": [
    "bs_kind = 'pd'\n",
    "beam_centre = [480, 560]"
   ]
  },
  {
   "cell_type": "markdown",
   "metadata": {},
   "source": [
    "<h3>Masking hot pixels</h3>\n",
    "Pilatus1m comes with its own mask for detector modules and some known problematic pixels, however additional routine has been implemented below, it rejects pixels outisde of the beam centre (+- delta in pixels) that are brighter than the maximum limit x mean image intensity."
   ]
  },
  {
   "cell_type": "code",
   "execution_count": 43,
   "metadata": {},
   "outputs": [
    {
     "name": "stderr",
     "output_type": "stream",
     "text": [
      "WARNING:fabio.TiffIO:Data at tag id '65000' is smaller than expected\n",
      "WARNING:fabio.TiffIO:Data at tag id '65000' is smaller than expected\n"
     ]
    },
    {
     "name": "stdout",
     "output_type": "stream",
     "text": [
      "IB_kaptom_pos1_13.45000keV_bpm3.415\n"
     ]
    },
    {
     "data": {
      "application/javascript": [
       "/* Put everything inside the global mpl namespace */\n",
       "/* global mpl */\n",
       "window.mpl = {};\n",
       "\n",
       "mpl.get_websocket_type = function () {\n",
       "    if (typeof WebSocket !== 'undefined') {\n",
       "        return WebSocket;\n",
       "    } else if (typeof MozWebSocket !== 'undefined') {\n",
       "        return MozWebSocket;\n",
       "    } else {\n",
       "        alert(\n",
       "            'Your browser does not have WebSocket support. ' +\n",
       "                'Please try Chrome, Safari or Firefox ≥ 6. ' +\n",
       "                'Firefox 4 and 5 are also supported but you ' +\n",
       "                'have to enable WebSockets in about:config.'\n",
       "        );\n",
       "    }\n",
       "};\n",
       "\n",
       "mpl.figure = function (figure_id, websocket, ondownload, parent_element) {\n",
       "    this.id = figure_id;\n",
       "\n",
       "    this.ws = websocket;\n",
       "\n",
       "    this.supports_binary = this.ws.binaryType !== undefined;\n",
       "\n",
       "    if (!this.supports_binary) {\n",
       "        var warnings = document.getElementById('mpl-warnings');\n",
       "        if (warnings) {\n",
       "            warnings.style.display = 'block';\n",
       "            warnings.textContent =\n",
       "                'This browser does not support binary websocket messages. ' +\n",
       "                'Performance may be slow.';\n",
       "        }\n",
       "    }\n",
       "\n",
       "    this.imageObj = new Image();\n",
       "\n",
       "    this.context = undefined;\n",
       "    this.message = undefined;\n",
       "    this.canvas = undefined;\n",
       "    this.rubberband_canvas = undefined;\n",
       "    this.rubberband_context = undefined;\n",
       "    this.format_dropdown = undefined;\n",
       "\n",
       "    this.image_mode = 'full';\n",
       "\n",
       "    this.root = document.createElement('div');\n",
       "    this.root.setAttribute('style', 'display: inline-block');\n",
       "    this._root_extra_style(this.root);\n",
       "\n",
       "    parent_element.appendChild(this.root);\n",
       "\n",
       "    this._init_header(this);\n",
       "    this._init_canvas(this);\n",
       "    this._init_toolbar(this);\n",
       "\n",
       "    var fig = this;\n",
       "\n",
       "    this.waiting = false;\n",
       "\n",
       "    this.ws.onopen = function () {\n",
       "        fig.send_message('supports_binary', { value: fig.supports_binary });\n",
       "        fig.send_message('send_image_mode', {});\n",
       "        if (fig.ratio !== 1) {\n",
       "            fig.send_message('set_device_pixel_ratio', {\n",
       "                device_pixel_ratio: fig.ratio,\n",
       "            });\n",
       "        }\n",
       "        fig.send_message('refresh', {});\n",
       "    };\n",
       "\n",
       "    this.imageObj.onload = function () {\n",
       "        if (fig.image_mode === 'full') {\n",
       "            // Full images could contain transparency (where diff images\n",
       "            // almost always do), so we need to clear the canvas so that\n",
       "            // there is no ghosting.\n",
       "            fig.context.clearRect(0, 0, fig.canvas.width, fig.canvas.height);\n",
       "        }\n",
       "        fig.context.drawImage(fig.imageObj, 0, 0);\n",
       "    };\n",
       "\n",
       "    this.imageObj.onunload = function () {\n",
       "        fig.ws.close();\n",
       "    };\n",
       "\n",
       "    this.ws.onmessage = this._make_on_message_function(this);\n",
       "\n",
       "    this.ondownload = ondownload;\n",
       "};\n",
       "\n",
       "mpl.figure.prototype._init_header = function () {\n",
       "    var titlebar = document.createElement('div');\n",
       "    titlebar.classList =\n",
       "        'ui-dialog-titlebar ui-widget-header ui-corner-all ui-helper-clearfix';\n",
       "    var titletext = document.createElement('div');\n",
       "    titletext.classList = 'ui-dialog-title';\n",
       "    titletext.setAttribute(\n",
       "        'style',\n",
       "        'width: 100%; text-align: center; padding: 3px;'\n",
       "    );\n",
       "    titlebar.appendChild(titletext);\n",
       "    this.root.appendChild(titlebar);\n",
       "    this.header = titletext;\n",
       "};\n",
       "\n",
       "mpl.figure.prototype._canvas_extra_style = function (_canvas_div) {};\n",
       "\n",
       "mpl.figure.prototype._root_extra_style = function (_canvas_div) {};\n",
       "\n",
       "mpl.figure.prototype._init_canvas = function () {\n",
       "    var fig = this;\n",
       "\n",
       "    var canvas_div = (this.canvas_div = document.createElement('div'));\n",
       "    canvas_div.setAttribute('tabindex', '0');\n",
       "    canvas_div.setAttribute(\n",
       "        'style',\n",
       "        'border: 1px solid #ddd;' +\n",
       "            'box-sizing: content-box;' +\n",
       "            'clear: both;' +\n",
       "            'min-height: 1px;' +\n",
       "            'min-width: 1px;' +\n",
       "            'outline: 0;' +\n",
       "            'overflow: hidden;' +\n",
       "            'position: relative;' +\n",
       "            'resize: both;' +\n",
       "            'z-index: 2;'\n",
       "    );\n",
       "\n",
       "    function on_keyboard_event_closure(name) {\n",
       "        return function (event) {\n",
       "            return fig.key_event(event, name);\n",
       "        };\n",
       "    }\n",
       "\n",
       "    canvas_div.addEventListener(\n",
       "        'keydown',\n",
       "        on_keyboard_event_closure('key_press')\n",
       "    );\n",
       "    canvas_div.addEventListener(\n",
       "        'keyup',\n",
       "        on_keyboard_event_closure('key_release')\n",
       "    );\n",
       "\n",
       "    this._canvas_extra_style(canvas_div);\n",
       "    this.root.appendChild(canvas_div);\n",
       "\n",
       "    var canvas = (this.canvas = document.createElement('canvas'));\n",
       "    canvas.classList.add('mpl-canvas');\n",
       "    canvas.setAttribute(\n",
       "        'style',\n",
       "        'box-sizing: content-box;' +\n",
       "            'pointer-events: none;' +\n",
       "            'position: relative;' +\n",
       "            'z-index: 0;'\n",
       "    );\n",
       "\n",
       "    this.context = canvas.getContext('2d');\n",
       "\n",
       "    var backingStore =\n",
       "        this.context.backingStorePixelRatio ||\n",
       "        this.context.webkitBackingStorePixelRatio ||\n",
       "        this.context.mozBackingStorePixelRatio ||\n",
       "        this.context.msBackingStorePixelRatio ||\n",
       "        this.context.oBackingStorePixelRatio ||\n",
       "        this.context.backingStorePixelRatio ||\n",
       "        1;\n",
       "\n",
       "    this.ratio = (window.devicePixelRatio || 1) / backingStore;\n",
       "\n",
       "    var rubberband_canvas = (this.rubberband_canvas = document.createElement(\n",
       "        'canvas'\n",
       "    ));\n",
       "    rubberband_canvas.setAttribute(\n",
       "        'style',\n",
       "        'box-sizing: content-box;' +\n",
       "            'left: 0;' +\n",
       "            'pointer-events: none;' +\n",
       "            'position: absolute;' +\n",
       "            'top: 0;' +\n",
       "            'z-index: 1;'\n",
       "    );\n",
       "\n",
       "    // Apply a ponyfill if ResizeObserver is not implemented by browser.\n",
       "    if (this.ResizeObserver === undefined) {\n",
       "        if (window.ResizeObserver !== undefined) {\n",
       "            this.ResizeObserver = window.ResizeObserver;\n",
       "        } else {\n",
       "            var obs = _JSXTOOLS_RESIZE_OBSERVER({});\n",
       "            this.ResizeObserver = obs.ResizeObserver;\n",
       "        }\n",
       "    }\n",
       "\n",
       "    this.resizeObserverInstance = new this.ResizeObserver(function (entries) {\n",
       "        var nentries = entries.length;\n",
       "        for (var i = 0; i < nentries; i++) {\n",
       "            var entry = entries[i];\n",
       "            var width, height;\n",
       "            if (entry.contentBoxSize) {\n",
       "                if (entry.contentBoxSize instanceof Array) {\n",
       "                    // Chrome 84 implements new version of spec.\n",
       "                    width = entry.contentBoxSize[0].inlineSize;\n",
       "                    height = entry.contentBoxSize[0].blockSize;\n",
       "                } else {\n",
       "                    // Firefox implements old version of spec.\n",
       "                    width = entry.contentBoxSize.inlineSize;\n",
       "                    height = entry.contentBoxSize.blockSize;\n",
       "                }\n",
       "            } else {\n",
       "                // Chrome <84 implements even older version of spec.\n",
       "                width = entry.contentRect.width;\n",
       "                height = entry.contentRect.height;\n",
       "            }\n",
       "\n",
       "            // Keep the size of the canvas and rubber band canvas in sync with\n",
       "            // the canvas container.\n",
       "            if (entry.devicePixelContentBoxSize) {\n",
       "                // Chrome 84 implements new version of spec.\n",
       "                canvas.setAttribute(\n",
       "                    'width',\n",
       "                    entry.devicePixelContentBoxSize[0].inlineSize\n",
       "                );\n",
       "                canvas.setAttribute(\n",
       "                    'height',\n",
       "                    entry.devicePixelContentBoxSize[0].blockSize\n",
       "                );\n",
       "            } else {\n",
       "                canvas.setAttribute('width', width * fig.ratio);\n",
       "                canvas.setAttribute('height', height * fig.ratio);\n",
       "            }\n",
       "            /* This rescales the canvas back to display pixels, so that it\n",
       "             * appears correct on HiDPI screens. */\n",
       "            canvas.style.width = width + 'px';\n",
       "            canvas.style.height = height + 'px';\n",
       "\n",
       "            rubberband_canvas.setAttribute('width', width);\n",
       "            rubberband_canvas.setAttribute('height', height);\n",
       "\n",
       "            // And update the size in Python. We ignore the initial 0/0 size\n",
       "            // that occurs as the element is placed into the DOM, which should\n",
       "            // otherwise not happen due to the minimum size styling.\n",
       "            if (fig.ws.readyState == 1 && width != 0 && height != 0) {\n",
       "                fig.request_resize(width, height);\n",
       "            }\n",
       "        }\n",
       "    });\n",
       "    this.resizeObserverInstance.observe(canvas_div);\n",
       "\n",
       "    function on_mouse_event_closure(name) {\n",
       "        /* User Agent sniffing is bad, but WebKit is busted:\n",
       "         * https://bugs.webkit.org/show_bug.cgi?id=144526\n",
       "         * https://bugs.webkit.org/show_bug.cgi?id=181818\n",
       "         * The worst that happens here is that they get an extra browser\n",
       "         * selection when dragging, if this check fails to catch them.\n",
       "         */\n",
       "        var UA = navigator.userAgent;\n",
       "        var isWebKit = /AppleWebKit/.test(UA) && !/Chrome/.test(UA);\n",
       "        if(isWebKit) {\n",
       "            return function (event) {\n",
       "                /* This prevents the web browser from automatically changing to\n",
       "                 * the text insertion cursor when the button is pressed. We\n",
       "                 * want to control all of the cursor setting manually through\n",
       "                 * the 'cursor' event from matplotlib */\n",
       "                event.preventDefault()\n",
       "                return fig.mouse_event(event, name);\n",
       "            };\n",
       "        } else {\n",
       "            return function (event) {\n",
       "                return fig.mouse_event(event, name);\n",
       "            };\n",
       "        }\n",
       "    }\n",
       "\n",
       "    canvas_div.addEventListener(\n",
       "        'mousedown',\n",
       "        on_mouse_event_closure('button_press')\n",
       "    );\n",
       "    canvas_div.addEventListener(\n",
       "        'mouseup',\n",
       "        on_mouse_event_closure('button_release')\n",
       "    );\n",
       "    canvas_div.addEventListener(\n",
       "        'dblclick',\n",
       "        on_mouse_event_closure('dblclick')\n",
       "    );\n",
       "    // Throttle sequential mouse events to 1 every 20ms.\n",
       "    canvas_div.addEventListener(\n",
       "        'mousemove',\n",
       "        on_mouse_event_closure('motion_notify')\n",
       "    );\n",
       "\n",
       "    canvas_div.addEventListener(\n",
       "        'mouseenter',\n",
       "        on_mouse_event_closure('figure_enter')\n",
       "    );\n",
       "    canvas_div.addEventListener(\n",
       "        'mouseleave',\n",
       "        on_mouse_event_closure('figure_leave')\n",
       "    );\n",
       "\n",
       "    canvas_div.addEventListener('wheel', function (event) {\n",
       "        if (event.deltaY < 0) {\n",
       "            event.step = 1;\n",
       "        } else {\n",
       "            event.step = -1;\n",
       "        }\n",
       "        on_mouse_event_closure('scroll')(event);\n",
       "    });\n",
       "\n",
       "    canvas_div.appendChild(canvas);\n",
       "    canvas_div.appendChild(rubberband_canvas);\n",
       "\n",
       "    this.rubberband_context = rubberband_canvas.getContext('2d');\n",
       "    this.rubberband_context.strokeStyle = '#000000';\n",
       "\n",
       "    this._resize_canvas = function (width, height, forward) {\n",
       "        if (forward) {\n",
       "            canvas_div.style.width = width + 'px';\n",
       "            canvas_div.style.height = height + 'px';\n",
       "        }\n",
       "    };\n",
       "\n",
       "    // Disable right mouse context menu.\n",
       "    canvas_div.addEventListener('contextmenu', function (_e) {\n",
       "        event.preventDefault();\n",
       "        return false;\n",
       "    });\n",
       "\n",
       "    function set_focus() {\n",
       "        canvas.focus();\n",
       "        canvas_div.focus();\n",
       "    }\n",
       "\n",
       "    window.setTimeout(set_focus, 100);\n",
       "};\n",
       "\n",
       "mpl.figure.prototype._init_toolbar = function () {\n",
       "    var fig = this;\n",
       "\n",
       "    var toolbar = document.createElement('div');\n",
       "    toolbar.classList = 'mpl-toolbar';\n",
       "    this.root.appendChild(toolbar);\n",
       "\n",
       "    function on_click_closure(name) {\n",
       "        return function (_event) {\n",
       "            return fig.toolbar_button_onclick(name);\n",
       "        };\n",
       "    }\n",
       "\n",
       "    function on_mouseover_closure(tooltip) {\n",
       "        return function (event) {\n",
       "            if (!event.currentTarget.disabled) {\n",
       "                return fig.toolbar_button_onmouseover(tooltip);\n",
       "            }\n",
       "        };\n",
       "    }\n",
       "\n",
       "    fig.buttons = {};\n",
       "    var buttonGroup = document.createElement('div');\n",
       "    buttonGroup.classList = 'mpl-button-group';\n",
       "    for (var toolbar_ind in mpl.toolbar_items) {\n",
       "        var name = mpl.toolbar_items[toolbar_ind][0];\n",
       "        var tooltip = mpl.toolbar_items[toolbar_ind][1];\n",
       "        var image = mpl.toolbar_items[toolbar_ind][2];\n",
       "        var method_name = mpl.toolbar_items[toolbar_ind][3];\n",
       "\n",
       "        if (!name) {\n",
       "            /* Instead of a spacer, we start a new button group. */\n",
       "            if (buttonGroup.hasChildNodes()) {\n",
       "                toolbar.appendChild(buttonGroup);\n",
       "            }\n",
       "            buttonGroup = document.createElement('div');\n",
       "            buttonGroup.classList = 'mpl-button-group';\n",
       "            continue;\n",
       "        }\n",
       "\n",
       "        var button = (fig.buttons[name] = document.createElement('button'));\n",
       "        button.classList = 'mpl-widget';\n",
       "        button.setAttribute('role', 'button');\n",
       "        button.setAttribute('aria-disabled', 'false');\n",
       "        button.addEventListener('click', on_click_closure(method_name));\n",
       "        button.addEventListener('mouseover', on_mouseover_closure(tooltip));\n",
       "\n",
       "        var icon_img = document.createElement('img');\n",
       "        icon_img.src = '_images/' + image + '.png';\n",
       "        icon_img.srcset = '_images/' + image + '_large.png 2x';\n",
       "        icon_img.alt = tooltip;\n",
       "        button.appendChild(icon_img);\n",
       "\n",
       "        buttonGroup.appendChild(button);\n",
       "    }\n",
       "\n",
       "    if (buttonGroup.hasChildNodes()) {\n",
       "        toolbar.appendChild(buttonGroup);\n",
       "    }\n",
       "\n",
       "    var fmt_picker = document.createElement('select');\n",
       "    fmt_picker.classList = 'mpl-widget';\n",
       "    toolbar.appendChild(fmt_picker);\n",
       "    this.format_dropdown = fmt_picker;\n",
       "\n",
       "    for (var ind in mpl.extensions) {\n",
       "        var fmt = mpl.extensions[ind];\n",
       "        var option = document.createElement('option');\n",
       "        option.selected = fmt === mpl.default_extension;\n",
       "        option.innerHTML = fmt;\n",
       "        fmt_picker.appendChild(option);\n",
       "    }\n",
       "\n",
       "    var status_bar = document.createElement('span');\n",
       "    status_bar.classList = 'mpl-message';\n",
       "    toolbar.appendChild(status_bar);\n",
       "    this.message = status_bar;\n",
       "};\n",
       "\n",
       "mpl.figure.prototype.request_resize = function (x_pixels, y_pixels) {\n",
       "    // Request matplotlib to resize the figure. Matplotlib will then trigger a resize in the client,\n",
       "    // which will in turn request a refresh of the image.\n",
       "    this.send_message('resize', { width: x_pixels, height: y_pixels });\n",
       "};\n",
       "\n",
       "mpl.figure.prototype.send_message = function (type, properties) {\n",
       "    properties['type'] = type;\n",
       "    properties['figure_id'] = this.id;\n",
       "    this.ws.send(JSON.stringify(properties));\n",
       "};\n",
       "\n",
       "mpl.figure.prototype.send_draw_message = function () {\n",
       "    if (!this.waiting) {\n",
       "        this.waiting = true;\n",
       "        this.ws.send(JSON.stringify({ type: 'draw', figure_id: this.id }));\n",
       "    }\n",
       "};\n",
       "\n",
       "mpl.figure.prototype.handle_save = function (fig, _msg) {\n",
       "    var format_dropdown = fig.format_dropdown;\n",
       "    var format = format_dropdown.options[format_dropdown.selectedIndex].value;\n",
       "    fig.ondownload(fig, format);\n",
       "};\n",
       "\n",
       "mpl.figure.prototype.handle_resize = function (fig, msg) {\n",
       "    var size = msg['size'];\n",
       "    if (size[0] !== fig.canvas.width || size[1] !== fig.canvas.height) {\n",
       "        fig._resize_canvas(size[0], size[1], msg['forward']);\n",
       "        fig.send_message('refresh', {});\n",
       "    }\n",
       "};\n",
       "\n",
       "mpl.figure.prototype.handle_rubberband = function (fig, msg) {\n",
       "    var x0 = msg['x0'] / fig.ratio;\n",
       "    var y0 = (fig.canvas.height - msg['y0']) / fig.ratio;\n",
       "    var x1 = msg['x1'] / fig.ratio;\n",
       "    var y1 = (fig.canvas.height - msg['y1']) / fig.ratio;\n",
       "    x0 = Math.floor(x0) + 0.5;\n",
       "    y0 = Math.floor(y0) + 0.5;\n",
       "    x1 = Math.floor(x1) + 0.5;\n",
       "    y1 = Math.floor(y1) + 0.5;\n",
       "    var min_x = Math.min(x0, x1);\n",
       "    var min_y = Math.min(y0, y1);\n",
       "    var width = Math.abs(x1 - x0);\n",
       "    var height = Math.abs(y1 - y0);\n",
       "\n",
       "    fig.rubberband_context.clearRect(\n",
       "        0,\n",
       "        0,\n",
       "        fig.canvas.width / fig.ratio,\n",
       "        fig.canvas.height / fig.ratio\n",
       "    );\n",
       "\n",
       "    fig.rubberband_context.strokeRect(min_x, min_y, width, height);\n",
       "};\n",
       "\n",
       "mpl.figure.prototype.handle_figure_label = function (fig, msg) {\n",
       "    // Updates the figure title.\n",
       "    fig.header.textContent = msg['label'];\n",
       "};\n",
       "\n",
       "mpl.figure.prototype.handle_cursor = function (fig, msg) {\n",
       "    fig.canvas_div.style.cursor = msg['cursor'];\n",
       "};\n",
       "\n",
       "mpl.figure.prototype.handle_message = function (fig, msg) {\n",
       "    fig.message.textContent = msg['message'];\n",
       "};\n",
       "\n",
       "mpl.figure.prototype.handle_draw = function (fig, _msg) {\n",
       "    // Request the server to send over a new figure.\n",
       "    fig.send_draw_message();\n",
       "};\n",
       "\n",
       "mpl.figure.prototype.handle_image_mode = function (fig, msg) {\n",
       "    fig.image_mode = msg['mode'];\n",
       "};\n",
       "\n",
       "mpl.figure.prototype.handle_history_buttons = function (fig, msg) {\n",
       "    for (var key in msg) {\n",
       "        if (!(key in fig.buttons)) {\n",
       "            continue;\n",
       "        }\n",
       "        fig.buttons[key].disabled = !msg[key];\n",
       "        fig.buttons[key].setAttribute('aria-disabled', !msg[key]);\n",
       "    }\n",
       "};\n",
       "\n",
       "mpl.figure.prototype.handle_navigate_mode = function (fig, msg) {\n",
       "    if (msg['mode'] === 'PAN') {\n",
       "        fig.buttons['Pan'].classList.add('active');\n",
       "        fig.buttons['Zoom'].classList.remove('active');\n",
       "    } else if (msg['mode'] === 'ZOOM') {\n",
       "        fig.buttons['Pan'].classList.remove('active');\n",
       "        fig.buttons['Zoom'].classList.add('active');\n",
       "    } else {\n",
       "        fig.buttons['Pan'].classList.remove('active');\n",
       "        fig.buttons['Zoom'].classList.remove('active');\n",
       "    }\n",
       "};\n",
       "\n",
       "mpl.figure.prototype.updated_canvas_event = function () {\n",
       "    // Called whenever the canvas gets updated.\n",
       "    this.send_message('ack', {});\n",
       "};\n",
       "\n",
       "// A function to construct a web socket function for onmessage handling.\n",
       "// Called in the figure constructor.\n",
       "mpl.figure.prototype._make_on_message_function = function (fig) {\n",
       "    return function socket_on_message(evt) {\n",
       "        if (evt.data instanceof Blob) {\n",
       "            var img = evt.data;\n",
       "            if (img.type !== 'image/png') {\n",
       "                /* FIXME: We get \"Resource interpreted as Image but\n",
       "                 * transferred with MIME type text/plain:\" errors on\n",
       "                 * Chrome.  But how to set the MIME type?  It doesn't seem\n",
       "                 * to be part of the websocket stream */\n",
       "                img.type = 'image/png';\n",
       "            }\n",
       "\n",
       "            /* Free the memory for the previous frames */\n",
       "            if (fig.imageObj.src) {\n",
       "                (window.URL || window.webkitURL).revokeObjectURL(\n",
       "                    fig.imageObj.src\n",
       "                );\n",
       "            }\n",
       "\n",
       "            fig.imageObj.src = (window.URL || window.webkitURL).createObjectURL(\n",
       "                img\n",
       "            );\n",
       "            fig.updated_canvas_event();\n",
       "            fig.waiting = false;\n",
       "            return;\n",
       "        } else if (\n",
       "            typeof evt.data === 'string' &&\n",
       "            evt.data.slice(0, 21) === 'data:image/png;base64'\n",
       "        ) {\n",
       "            fig.imageObj.src = evt.data;\n",
       "            fig.updated_canvas_event();\n",
       "            fig.waiting = false;\n",
       "            return;\n",
       "        }\n",
       "\n",
       "        var msg = JSON.parse(evt.data);\n",
       "        var msg_type = msg['type'];\n",
       "\n",
       "        // Call the  \"handle_{type}\" callback, which takes\n",
       "        // the figure and JSON message as its only arguments.\n",
       "        try {\n",
       "            var callback = fig['handle_' + msg_type];\n",
       "        } catch (e) {\n",
       "            console.log(\n",
       "                \"No handler for the '\" + msg_type + \"' message type: \",\n",
       "                msg\n",
       "            );\n",
       "            return;\n",
       "        }\n",
       "\n",
       "        if (callback) {\n",
       "            try {\n",
       "                // console.log(\"Handling '\" + msg_type + \"' message: \", msg);\n",
       "                callback(fig, msg);\n",
       "            } catch (e) {\n",
       "                console.log(\n",
       "                    \"Exception inside the 'handler_\" + msg_type + \"' callback:\",\n",
       "                    e,\n",
       "                    e.stack,\n",
       "                    msg\n",
       "                );\n",
       "            }\n",
       "        }\n",
       "    };\n",
       "};\n",
       "\n",
       "function getModifiers(event) {\n",
       "    var mods = [];\n",
       "    if (event.ctrlKey) {\n",
       "        mods.push('ctrl');\n",
       "    }\n",
       "    if (event.altKey) {\n",
       "        mods.push('alt');\n",
       "    }\n",
       "    if (event.shiftKey) {\n",
       "        mods.push('shift');\n",
       "    }\n",
       "    if (event.metaKey) {\n",
       "        mods.push('meta');\n",
       "    }\n",
       "    return mods;\n",
       "}\n",
       "\n",
       "/*\n",
       " * return a copy of an object with only non-object keys\n",
       " * we need this to avoid circular references\n",
       " * https://stackoverflow.com/a/24161582/3208463\n",
       " */\n",
       "function simpleKeys(original) {\n",
       "    return Object.keys(original).reduce(function (obj, key) {\n",
       "        if (typeof original[key] !== 'object') {\n",
       "            obj[key] = original[key];\n",
       "        }\n",
       "        return obj;\n",
       "    }, {});\n",
       "}\n",
       "\n",
       "mpl.figure.prototype.mouse_event = function (event, name) {\n",
       "    if (name === 'button_press') {\n",
       "        this.canvas.focus();\n",
       "        this.canvas_div.focus();\n",
       "    }\n",
       "\n",
       "    // from https://stackoverflow.com/q/1114465\n",
       "    var boundingRect = this.canvas.getBoundingClientRect();\n",
       "    var x = (event.clientX - boundingRect.left) * this.ratio;\n",
       "    var y = (event.clientY - boundingRect.top) * this.ratio;\n",
       "\n",
       "    this.send_message(name, {\n",
       "        x: x,\n",
       "        y: y,\n",
       "        button: event.button,\n",
       "        step: event.step,\n",
       "        modifiers: getModifiers(event),\n",
       "        guiEvent: simpleKeys(event),\n",
       "    });\n",
       "\n",
       "    return false;\n",
       "};\n",
       "\n",
       "mpl.figure.prototype._key_event_extra = function (_event, _name) {\n",
       "    // Handle any extra behaviour associated with a key event\n",
       "};\n",
       "\n",
       "mpl.figure.prototype.key_event = function (event, name) {\n",
       "    // Prevent repeat events\n",
       "    if (name === 'key_press') {\n",
       "        if (event.key === this._key) {\n",
       "            return;\n",
       "        } else {\n",
       "            this._key = event.key;\n",
       "        }\n",
       "    }\n",
       "    if (name === 'key_release') {\n",
       "        this._key = null;\n",
       "    }\n",
       "\n",
       "    var value = '';\n",
       "    if (event.ctrlKey && event.key !== 'Control') {\n",
       "        value += 'ctrl+';\n",
       "    }\n",
       "    else if (event.altKey && event.key !== 'Alt') {\n",
       "        value += 'alt+';\n",
       "    }\n",
       "    else if (event.shiftKey && event.key !== 'Shift') {\n",
       "        value += 'shift+';\n",
       "    }\n",
       "\n",
       "    value += 'k' + event.key;\n",
       "\n",
       "    this._key_event_extra(event, name);\n",
       "\n",
       "    this.send_message(name, { key: value, guiEvent: simpleKeys(event) });\n",
       "    return false;\n",
       "};\n",
       "\n",
       "mpl.figure.prototype.toolbar_button_onclick = function (name) {\n",
       "    if (name === 'download') {\n",
       "        this.handle_save(this, null);\n",
       "    } else {\n",
       "        this.send_message('toolbar_button', { name: name });\n",
       "    }\n",
       "};\n",
       "\n",
       "mpl.figure.prototype.toolbar_button_onmouseover = function (tooltip) {\n",
       "    this.message.textContent = tooltip;\n",
       "};\n",
       "\n",
       "///////////////// REMAINING CONTENT GENERATED BY embed_js.py /////////////////\n",
       "// prettier-ignore\n",
       "var _JSXTOOLS_RESIZE_OBSERVER=function(A){var t,i=new WeakMap,n=new WeakMap,a=new WeakMap,r=new WeakMap,o=new Set;function s(e){if(!(this instanceof s))throw new TypeError(\"Constructor requires 'new' operator\");i.set(this,e)}function h(){throw new TypeError(\"Function is not a constructor\")}function c(e,t,i,n){e=0 in arguments?Number(arguments[0]):0,t=1 in arguments?Number(arguments[1]):0,i=2 in arguments?Number(arguments[2]):0,n=3 in arguments?Number(arguments[3]):0,this.right=(this.x=this.left=e)+(this.width=i),this.bottom=(this.y=this.top=t)+(this.height=n),Object.freeze(this)}function d(){t=requestAnimationFrame(d);var s=new WeakMap,p=new Set;o.forEach((function(t){r.get(t).forEach((function(i){var r=t instanceof window.SVGElement,o=a.get(t),d=r?0:parseFloat(o.paddingTop),f=r?0:parseFloat(o.paddingRight),l=r?0:parseFloat(o.paddingBottom),u=r?0:parseFloat(o.paddingLeft),g=r?0:parseFloat(o.borderTopWidth),m=r?0:parseFloat(o.borderRightWidth),w=r?0:parseFloat(o.borderBottomWidth),b=u+f,F=d+l,v=(r?0:parseFloat(o.borderLeftWidth))+m,W=g+w,y=r?0:t.offsetHeight-W-t.clientHeight,E=r?0:t.offsetWidth-v-t.clientWidth,R=b+v,z=F+W,M=r?t.width:parseFloat(o.width)-R-E,O=r?t.height:parseFloat(o.height)-z-y;if(n.has(t)){var k=n.get(t);if(k[0]===M&&k[1]===O)return}n.set(t,[M,O]);var S=Object.create(h.prototype);S.target=t,S.contentRect=new c(u,d,M,O),s.has(i)||(s.set(i,[]),p.add(i)),s.get(i).push(S)}))})),p.forEach((function(e){i.get(e).call(e,s.get(e),e)}))}return s.prototype.observe=function(i){if(i instanceof window.Element){r.has(i)||(r.set(i,new Set),o.add(i),a.set(i,window.getComputedStyle(i)));var n=r.get(i);n.has(this)||n.add(this),cancelAnimationFrame(t),t=requestAnimationFrame(d)}},s.prototype.unobserve=function(i){if(i instanceof window.Element&&r.has(i)){var n=r.get(i);n.has(this)&&(n.delete(this),n.size||(r.delete(i),o.delete(i))),n.size||r.delete(i),o.size||cancelAnimationFrame(t)}},A.DOMRectReadOnly=c,A.ResizeObserver=s,A.ResizeObserverEntry=h,A}; // eslint-disable-line\n",
       "mpl.toolbar_items = [[\"Home\", \"Reset original view\", \"fa fa-home\", \"home\"], [\"Back\", \"Back to previous view\", \"fa fa-arrow-left\", \"back\"], [\"Forward\", \"Forward to next view\", \"fa fa-arrow-right\", \"forward\"], [\"\", \"\", \"\", \"\"], [\"Pan\", \"Left button pans, Right button zooms\\nx/y fixes axis, CTRL fixes aspect\", \"fa fa-arrows\", \"pan\"], [\"Zoom\", \"Zoom to rectangle\\nx/y fixes axis\", \"fa fa-square-o\", \"zoom\"], [\"\", \"\", \"\", \"\"], [\"Download\", \"Download plot\", \"fa fa-floppy-o\", \"download\"]];\n",
       "\n",
       "mpl.extensions = [\"eps\", \"jpeg\", \"pgf\", \"pdf\", \"png\", \"ps\", \"raw\", \"svg\", \"tif\", \"webp\"];\n",
       "\n",
       "mpl.default_extension = \"png\";/* global mpl */\n",
       "\n",
       "var comm_websocket_adapter = function (comm) {\n",
       "    // Create a \"websocket\"-like object which calls the given IPython comm\n",
       "    // object with the appropriate methods. Currently this is a non binary\n",
       "    // socket, so there is still some room for performance tuning.\n",
       "    var ws = {};\n",
       "\n",
       "    ws.binaryType = comm.kernel.ws.binaryType;\n",
       "    ws.readyState = comm.kernel.ws.readyState;\n",
       "    function updateReadyState(_event) {\n",
       "        if (comm.kernel.ws) {\n",
       "            ws.readyState = comm.kernel.ws.readyState;\n",
       "        } else {\n",
       "            ws.readyState = 3; // Closed state.\n",
       "        }\n",
       "    }\n",
       "    comm.kernel.ws.addEventListener('open', updateReadyState);\n",
       "    comm.kernel.ws.addEventListener('close', updateReadyState);\n",
       "    comm.kernel.ws.addEventListener('error', updateReadyState);\n",
       "\n",
       "    ws.close = function () {\n",
       "        comm.close();\n",
       "    };\n",
       "    ws.send = function (m) {\n",
       "        //console.log('sending', m);\n",
       "        comm.send(m);\n",
       "    };\n",
       "    // Register the callback with on_msg.\n",
       "    comm.on_msg(function (msg) {\n",
       "        //console.log('receiving', msg['content']['data'], msg);\n",
       "        var data = msg['content']['data'];\n",
       "        if (data['blob'] !== undefined) {\n",
       "            data = {\n",
       "                data: new Blob(msg['buffers'], { type: data['blob'] }),\n",
       "            };\n",
       "        }\n",
       "        // Pass the mpl event to the overridden (by mpl) onmessage function.\n",
       "        ws.onmessage(data);\n",
       "    });\n",
       "    return ws;\n",
       "};\n",
       "\n",
       "mpl.mpl_figure_comm = function (comm, msg) {\n",
       "    // This is the function which gets called when the mpl process\n",
       "    // starts-up an IPython Comm through the \"matplotlib\" channel.\n",
       "\n",
       "    var id = msg.content.data.id;\n",
       "    // Get hold of the div created by the display call when the Comm\n",
       "    // socket was opened in Python.\n",
       "    var element = document.getElementById(id);\n",
       "    var ws_proxy = comm_websocket_adapter(comm);\n",
       "\n",
       "    function ondownload(figure, _format) {\n",
       "        window.open(figure.canvas.toDataURL());\n",
       "    }\n",
       "\n",
       "    var fig = new mpl.figure(id, ws_proxy, ondownload, element);\n",
       "\n",
       "    // Call onopen now - mpl needs it, as it is assuming we've passed it a real\n",
       "    // web socket which is closed, not our websocket->open comm proxy.\n",
       "    ws_proxy.onopen();\n",
       "\n",
       "    fig.parent_element = element;\n",
       "    fig.cell_info = mpl.find_output_cell(\"<div id='\" + id + \"'></div>\");\n",
       "    if (!fig.cell_info) {\n",
       "        console.error('Failed to find cell for figure', id, fig);\n",
       "        return;\n",
       "    }\n",
       "    fig.cell_info[0].output_area.element.on(\n",
       "        'cleared',\n",
       "        { fig: fig },\n",
       "        fig._remove_fig_handler\n",
       "    );\n",
       "};\n",
       "\n",
       "mpl.figure.prototype.handle_close = function (fig, msg) {\n",
       "    var width = fig.canvas.width / fig.ratio;\n",
       "    fig.cell_info[0].output_area.element.off(\n",
       "        'cleared',\n",
       "        fig._remove_fig_handler\n",
       "    );\n",
       "    fig.resizeObserverInstance.unobserve(fig.canvas_div);\n",
       "\n",
       "    // Update the output cell to use the data from the current canvas.\n",
       "    fig.push_to_output();\n",
       "    var dataURL = fig.canvas.toDataURL();\n",
       "    // Re-enable the keyboard manager in IPython - without this line, in FF,\n",
       "    // the notebook keyboard shortcuts fail.\n",
       "    IPython.keyboard_manager.enable();\n",
       "    fig.parent_element.innerHTML =\n",
       "        '<img src=\"' + dataURL + '\" width=\"' + width + '\">';\n",
       "    fig.close_ws(fig, msg);\n",
       "};\n",
       "\n",
       "mpl.figure.prototype.close_ws = function (fig, msg) {\n",
       "    fig.send_message('closing', msg);\n",
       "    // fig.ws.close()\n",
       "};\n",
       "\n",
       "mpl.figure.prototype.push_to_output = function (_remove_interactive) {\n",
       "    // Turn the data on the canvas into data in the output cell.\n",
       "    var width = this.canvas.width / this.ratio;\n",
       "    var dataURL = this.canvas.toDataURL();\n",
       "    this.cell_info[1]['text/html'] =\n",
       "        '<img src=\"' + dataURL + '\" width=\"' + width + '\">';\n",
       "};\n",
       "\n",
       "mpl.figure.prototype.updated_canvas_event = function () {\n",
       "    // Tell IPython that the notebook contents must change.\n",
       "    IPython.notebook.set_dirty(true);\n",
       "    this.send_message('ack', {});\n",
       "    var fig = this;\n",
       "    // Wait a second, then push the new image to the DOM so\n",
       "    // that it is saved nicely (might be nice to debounce this).\n",
       "    setTimeout(function () {\n",
       "        fig.push_to_output();\n",
       "    }, 1000);\n",
       "};\n",
       "\n",
       "mpl.figure.prototype._init_toolbar = function () {\n",
       "    var fig = this;\n",
       "\n",
       "    var toolbar = document.createElement('div');\n",
       "    toolbar.classList = 'btn-toolbar';\n",
       "    this.root.appendChild(toolbar);\n",
       "\n",
       "    function on_click_closure(name) {\n",
       "        return function (_event) {\n",
       "            return fig.toolbar_button_onclick(name);\n",
       "        };\n",
       "    }\n",
       "\n",
       "    function on_mouseover_closure(tooltip) {\n",
       "        return function (event) {\n",
       "            if (!event.currentTarget.disabled) {\n",
       "                return fig.toolbar_button_onmouseover(tooltip);\n",
       "            }\n",
       "        };\n",
       "    }\n",
       "\n",
       "    fig.buttons = {};\n",
       "    var buttonGroup = document.createElement('div');\n",
       "    buttonGroup.classList = 'btn-group';\n",
       "    var button;\n",
       "    for (var toolbar_ind in mpl.toolbar_items) {\n",
       "        var name = mpl.toolbar_items[toolbar_ind][0];\n",
       "        var tooltip = mpl.toolbar_items[toolbar_ind][1];\n",
       "        var image = mpl.toolbar_items[toolbar_ind][2];\n",
       "        var method_name = mpl.toolbar_items[toolbar_ind][3];\n",
       "\n",
       "        if (!name) {\n",
       "            /* Instead of a spacer, we start a new button group. */\n",
       "            if (buttonGroup.hasChildNodes()) {\n",
       "                toolbar.appendChild(buttonGroup);\n",
       "            }\n",
       "            buttonGroup = document.createElement('div');\n",
       "            buttonGroup.classList = 'btn-group';\n",
       "            continue;\n",
       "        }\n",
       "\n",
       "        button = fig.buttons[name] = document.createElement('button');\n",
       "        button.classList = 'btn btn-default';\n",
       "        button.href = '#';\n",
       "        button.title = name;\n",
       "        button.innerHTML = '<i class=\"fa ' + image + ' fa-lg\"></i>';\n",
       "        button.addEventListener('click', on_click_closure(method_name));\n",
       "        button.addEventListener('mouseover', on_mouseover_closure(tooltip));\n",
       "        buttonGroup.appendChild(button);\n",
       "    }\n",
       "\n",
       "    if (buttonGroup.hasChildNodes()) {\n",
       "        toolbar.appendChild(buttonGroup);\n",
       "    }\n",
       "\n",
       "    // Add the status bar.\n",
       "    var status_bar = document.createElement('span');\n",
       "    status_bar.classList = 'mpl-message pull-right';\n",
       "    toolbar.appendChild(status_bar);\n",
       "    this.message = status_bar;\n",
       "\n",
       "    // Add the close button to the window.\n",
       "    var buttongrp = document.createElement('div');\n",
       "    buttongrp.classList = 'btn-group inline pull-right';\n",
       "    button = document.createElement('button');\n",
       "    button.classList = 'btn btn-mini btn-primary';\n",
       "    button.href = '#';\n",
       "    button.title = 'Stop Interaction';\n",
       "    button.innerHTML = '<i class=\"fa fa-power-off icon-remove icon-large\"></i>';\n",
       "    button.addEventListener('click', function (_evt) {\n",
       "        fig.handle_close(fig, {});\n",
       "    });\n",
       "    button.addEventListener(\n",
       "        'mouseover',\n",
       "        on_mouseover_closure('Stop Interaction')\n",
       "    );\n",
       "    buttongrp.appendChild(button);\n",
       "    var titlebar = this.root.querySelector('.ui-dialog-titlebar');\n",
       "    titlebar.insertBefore(buttongrp, titlebar.firstChild);\n",
       "};\n",
       "\n",
       "mpl.figure.prototype._remove_fig_handler = function (event) {\n",
       "    var fig = event.data.fig;\n",
       "    if (event.target !== this) {\n",
       "        // Ignore bubbled events from children.\n",
       "        return;\n",
       "    }\n",
       "    fig.close_ws(fig, {});\n",
       "};\n",
       "\n",
       "mpl.figure.prototype._root_extra_style = function (el) {\n",
       "    el.style.boxSizing = 'content-box'; // override notebook setting of border-box.\n",
       "};\n",
       "\n",
       "mpl.figure.prototype._canvas_extra_style = function (el) {\n",
       "    // this is important to make the div 'focusable\n",
       "    el.setAttribute('tabindex', 0);\n",
       "    // reach out to IPython and tell the keyboard manager to turn it's self\n",
       "    // off when our div gets focus\n",
       "\n",
       "    // location in version 3\n",
       "    if (IPython.notebook.keyboard_manager) {\n",
       "        IPython.notebook.keyboard_manager.register_events(el);\n",
       "    } else {\n",
       "        // location in version 2\n",
       "        IPython.keyboard_manager.register_events(el);\n",
       "    }\n",
       "};\n",
       "\n",
       "mpl.figure.prototype._key_event_extra = function (event, _name) {\n",
       "    // Check for shift+enter\n",
       "    if (event.shiftKey && event.which === 13) {\n",
       "        this.canvas_div.blur();\n",
       "        // select the cell after this one\n",
       "        var index = IPython.notebook.find_cell_index(this.cell_info[0]);\n",
       "        IPython.notebook.select(index + 1);\n",
       "    }\n",
       "};\n",
       "\n",
       "mpl.figure.prototype.handle_save = function (fig, _msg) {\n",
       "    fig.ondownload(fig, null);\n",
       "};\n",
       "\n",
       "mpl.find_output_cell = function (html_output) {\n",
       "    // Return the cell and output element which can be found *uniquely* in the notebook.\n",
       "    // Note - this is a bit hacky, but it is done because the \"notebook_saving.Notebook\"\n",
       "    // IPython event is triggered only after the cells have been serialised, which for\n",
       "    // our purposes (turning an active figure into a static one), is too late.\n",
       "    var cells = IPython.notebook.get_cells();\n",
       "    var ncells = cells.length;\n",
       "    for (var i = 0; i < ncells; i++) {\n",
       "        var cell = cells[i];\n",
       "        if (cell.cell_type === 'code') {\n",
       "            for (var j = 0; j < cell.output_area.outputs.length; j++) {\n",
       "                var data = cell.output_area.outputs[j];\n",
       "                if (data.data) {\n",
       "                    // IPython >= 3 moved mimebundle to data attribute of output\n",
       "                    data = data.data;\n",
       "                }\n",
       "                if (data['text/html'] === html_output) {\n",
       "                    return [cell, data, j];\n",
       "                }\n",
       "            }\n",
       "        }\n",
       "    }\n",
       "};\n",
       "\n",
       "// Register the function which deals with the matplotlib target/channel.\n",
       "// The kernel may be null if the page has been refreshed.\n",
       "if (IPython.notebook.kernel !== null) {\n",
       "    IPython.notebook.kernel.comm_manager.register_target(\n",
       "        'matplotlib',\n",
       "        mpl.mpl_figure_comm\n",
       "    );\n",
       "}\n"
      ],
      "text/plain": [
       "<IPython.core.display.Javascript object>"
      ]
     },
     "metadata": {},
     "output_type": "display_data"
    },
    {
     "data": {
      "text/html": [
       "<div id='0bd8ff89-6998-4c7e-9b57-efb17226602b'></div>"
      ],
      "text/plain": [
       "<IPython.core.display.HTML object>"
      ]
     },
     "metadata": {},
     "output_type": "display_data"
    },
    {
     "data": {
      "application/javascript": [
       "/* Put everything inside the global mpl namespace */\n",
       "/* global mpl */\n",
       "window.mpl = {};\n",
       "\n",
       "mpl.get_websocket_type = function () {\n",
       "    if (typeof WebSocket !== 'undefined') {\n",
       "        return WebSocket;\n",
       "    } else if (typeof MozWebSocket !== 'undefined') {\n",
       "        return MozWebSocket;\n",
       "    } else {\n",
       "        alert(\n",
       "            'Your browser does not have WebSocket support. ' +\n",
       "                'Please try Chrome, Safari or Firefox ≥ 6. ' +\n",
       "                'Firefox 4 and 5 are also supported but you ' +\n",
       "                'have to enable WebSockets in about:config.'\n",
       "        );\n",
       "    }\n",
       "};\n",
       "\n",
       "mpl.figure = function (figure_id, websocket, ondownload, parent_element) {\n",
       "    this.id = figure_id;\n",
       "\n",
       "    this.ws = websocket;\n",
       "\n",
       "    this.supports_binary = this.ws.binaryType !== undefined;\n",
       "\n",
       "    if (!this.supports_binary) {\n",
       "        var warnings = document.getElementById('mpl-warnings');\n",
       "        if (warnings) {\n",
       "            warnings.style.display = 'block';\n",
       "            warnings.textContent =\n",
       "                'This browser does not support binary websocket messages. ' +\n",
       "                'Performance may be slow.';\n",
       "        }\n",
       "    }\n",
       "\n",
       "    this.imageObj = new Image();\n",
       "\n",
       "    this.context = undefined;\n",
       "    this.message = undefined;\n",
       "    this.canvas = undefined;\n",
       "    this.rubberband_canvas = undefined;\n",
       "    this.rubberband_context = undefined;\n",
       "    this.format_dropdown = undefined;\n",
       "\n",
       "    this.image_mode = 'full';\n",
       "\n",
       "    this.root = document.createElement('div');\n",
       "    this.root.setAttribute('style', 'display: inline-block');\n",
       "    this._root_extra_style(this.root);\n",
       "\n",
       "    parent_element.appendChild(this.root);\n",
       "\n",
       "    this._init_header(this);\n",
       "    this._init_canvas(this);\n",
       "    this._init_toolbar(this);\n",
       "\n",
       "    var fig = this;\n",
       "\n",
       "    this.waiting = false;\n",
       "\n",
       "    this.ws.onopen = function () {\n",
       "        fig.send_message('supports_binary', { value: fig.supports_binary });\n",
       "        fig.send_message('send_image_mode', {});\n",
       "        if (fig.ratio !== 1) {\n",
       "            fig.send_message('set_device_pixel_ratio', {\n",
       "                device_pixel_ratio: fig.ratio,\n",
       "            });\n",
       "        }\n",
       "        fig.send_message('refresh', {});\n",
       "    };\n",
       "\n",
       "    this.imageObj.onload = function () {\n",
       "        if (fig.image_mode === 'full') {\n",
       "            // Full images could contain transparency (where diff images\n",
       "            // almost always do), so we need to clear the canvas so that\n",
       "            // there is no ghosting.\n",
       "            fig.context.clearRect(0, 0, fig.canvas.width, fig.canvas.height);\n",
       "        }\n",
       "        fig.context.drawImage(fig.imageObj, 0, 0);\n",
       "    };\n",
       "\n",
       "    this.imageObj.onunload = function () {\n",
       "        fig.ws.close();\n",
       "    };\n",
       "\n",
       "    this.ws.onmessage = this._make_on_message_function(this);\n",
       "\n",
       "    this.ondownload = ondownload;\n",
       "};\n",
       "\n",
       "mpl.figure.prototype._init_header = function () {\n",
       "    var titlebar = document.createElement('div');\n",
       "    titlebar.classList =\n",
       "        'ui-dialog-titlebar ui-widget-header ui-corner-all ui-helper-clearfix';\n",
       "    var titletext = document.createElement('div');\n",
       "    titletext.classList = 'ui-dialog-title';\n",
       "    titletext.setAttribute(\n",
       "        'style',\n",
       "        'width: 100%; text-align: center; padding: 3px;'\n",
       "    );\n",
       "    titlebar.appendChild(titletext);\n",
       "    this.root.appendChild(titlebar);\n",
       "    this.header = titletext;\n",
       "};\n",
       "\n",
       "mpl.figure.prototype._canvas_extra_style = function (_canvas_div) {};\n",
       "\n",
       "mpl.figure.prototype._root_extra_style = function (_canvas_div) {};\n",
       "\n",
       "mpl.figure.prototype._init_canvas = function () {\n",
       "    var fig = this;\n",
       "\n",
       "    var canvas_div = (this.canvas_div = document.createElement('div'));\n",
       "    canvas_div.setAttribute('tabindex', '0');\n",
       "    canvas_div.setAttribute(\n",
       "        'style',\n",
       "        'border: 1px solid #ddd;' +\n",
       "            'box-sizing: content-box;' +\n",
       "            'clear: both;' +\n",
       "            'min-height: 1px;' +\n",
       "            'min-width: 1px;' +\n",
       "            'outline: 0;' +\n",
       "            'overflow: hidden;' +\n",
       "            'position: relative;' +\n",
       "            'resize: both;' +\n",
       "            'z-index: 2;'\n",
       "    );\n",
       "\n",
       "    function on_keyboard_event_closure(name) {\n",
       "        return function (event) {\n",
       "            return fig.key_event(event, name);\n",
       "        };\n",
       "    }\n",
       "\n",
       "    canvas_div.addEventListener(\n",
       "        'keydown',\n",
       "        on_keyboard_event_closure('key_press')\n",
       "    );\n",
       "    canvas_div.addEventListener(\n",
       "        'keyup',\n",
       "        on_keyboard_event_closure('key_release')\n",
       "    );\n",
       "\n",
       "    this._canvas_extra_style(canvas_div);\n",
       "    this.root.appendChild(canvas_div);\n",
       "\n",
       "    var canvas = (this.canvas = document.createElement('canvas'));\n",
       "    canvas.classList.add('mpl-canvas');\n",
       "    canvas.setAttribute(\n",
       "        'style',\n",
       "        'box-sizing: content-box;' +\n",
       "            'pointer-events: none;' +\n",
       "            'position: relative;' +\n",
       "            'z-index: 0;'\n",
       "    );\n",
       "\n",
       "    this.context = canvas.getContext('2d');\n",
       "\n",
       "    var backingStore =\n",
       "        this.context.backingStorePixelRatio ||\n",
       "        this.context.webkitBackingStorePixelRatio ||\n",
       "        this.context.mozBackingStorePixelRatio ||\n",
       "        this.context.msBackingStorePixelRatio ||\n",
       "        this.context.oBackingStorePixelRatio ||\n",
       "        this.context.backingStorePixelRatio ||\n",
       "        1;\n",
       "\n",
       "    this.ratio = (window.devicePixelRatio || 1) / backingStore;\n",
       "\n",
       "    var rubberband_canvas = (this.rubberband_canvas = document.createElement(\n",
       "        'canvas'\n",
       "    ));\n",
       "    rubberband_canvas.setAttribute(\n",
       "        'style',\n",
       "        'box-sizing: content-box;' +\n",
       "            'left: 0;' +\n",
       "            'pointer-events: none;' +\n",
       "            'position: absolute;' +\n",
       "            'top: 0;' +\n",
       "            'z-index: 1;'\n",
       "    );\n",
       "\n",
       "    // Apply a ponyfill if ResizeObserver is not implemented by browser.\n",
       "    if (this.ResizeObserver === undefined) {\n",
       "        if (window.ResizeObserver !== undefined) {\n",
       "            this.ResizeObserver = window.ResizeObserver;\n",
       "        } else {\n",
       "            var obs = _JSXTOOLS_RESIZE_OBSERVER({});\n",
       "            this.ResizeObserver = obs.ResizeObserver;\n",
       "        }\n",
       "    }\n",
       "\n",
       "    this.resizeObserverInstance = new this.ResizeObserver(function (entries) {\n",
       "        var nentries = entries.length;\n",
       "        for (var i = 0; i < nentries; i++) {\n",
       "            var entry = entries[i];\n",
       "            var width, height;\n",
       "            if (entry.contentBoxSize) {\n",
       "                if (entry.contentBoxSize instanceof Array) {\n",
       "                    // Chrome 84 implements new version of spec.\n",
       "                    width = entry.contentBoxSize[0].inlineSize;\n",
       "                    height = entry.contentBoxSize[0].blockSize;\n",
       "                } else {\n",
       "                    // Firefox implements old version of spec.\n",
       "                    width = entry.contentBoxSize.inlineSize;\n",
       "                    height = entry.contentBoxSize.blockSize;\n",
       "                }\n",
       "            } else {\n",
       "                // Chrome <84 implements even older version of spec.\n",
       "                width = entry.contentRect.width;\n",
       "                height = entry.contentRect.height;\n",
       "            }\n",
       "\n",
       "            // Keep the size of the canvas and rubber band canvas in sync with\n",
       "            // the canvas container.\n",
       "            if (entry.devicePixelContentBoxSize) {\n",
       "                // Chrome 84 implements new version of spec.\n",
       "                canvas.setAttribute(\n",
       "                    'width',\n",
       "                    entry.devicePixelContentBoxSize[0].inlineSize\n",
       "                );\n",
       "                canvas.setAttribute(\n",
       "                    'height',\n",
       "                    entry.devicePixelContentBoxSize[0].blockSize\n",
       "                );\n",
       "            } else {\n",
       "                canvas.setAttribute('width', width * fig.ratio);\n",
       "                canvas.setAttribute('height', height * fig.ratio);\n",
       "            }\n",
       "            /* This rescales the canvas back to display pixels, so that it\n",
       "             * appears correct on HiDPI screens. */\n",
       "            canvas.style.width = width + 'px';\n",
       "            canvas.style.height = height + 'px';\n",
       "\n",
       "            rubberband_canvas.setAttribute('width', width);\n",
       "            rubberband_canvas.setAttribute('height', height);\n",
       "\n",
       "            // And update the size in Python. We ignore the initial 0/0 size\n",
       "            // that occurs as the element is placed into the DOM, which should\n",
       "            // otherwise not happen due to the minimum size styling.\n",
       "            if (fig.ws.readyState == 1 && width != 0 && height != 0) {\n",
       "                fig.request_resize(width, height);\n",
       "            }\n",
       "        }\n",
       "    });\n",
       "    this.resizeObserverInstance.observe(canvas_div);\n",
       "\n",
       "    function on_mouse_event_closure(name) {\n",
       "        /* User Agent sniffing is bad, but WebKit is busted:\n",
       "         * https://bugs.webkit.org/show_bug.cgi?id=144526\n",
       "         * https://bugs.webkit.org/show_bug.cgi?id=181818\n",
       "         * The worst that happens here is that they get an extra browser\n",
       "         * selection when dragging, if this check fails to catch them.\n",
       "         */\n",
       "        var UA = navigator.userAgent;\n",
       "        var isWebKit = /AppleWebKit/.test(UA) && !/Chrome/.test(UA);\n",
       "        if(isWebKit) {\n",
       "            return function (event) {\n",
       "                /* This prevents the web browser from automatically changing to\n",
       "                 * the text insertion cursor when the button is pressed. We\n",
       "                 * want to control all of the cursor setting manually through\n",
       "                 * the 'cursor' event from matplotlib */\n",
       "                event.preventDefault()\n",
       "                return fig.mouse_event(event, name);\n",
       "            };\n",
       "        } else {\n",
       "            return function (event) {\n",
       "                return fig.mouse_event(event, name);\n",
       "            };\n",
       "        }\n",
       "    }\n",
       "\n",
       "    canvas_div.addEventListener(\n",
       "        'mousedown',\n",
       "        on_mouse_event_closure('button_press')\n",
       "    );\n",
       "    canvas_div.addEventListener(\n",
       "        'mouseup',\n",
       "        on_mouse_event_closure('button_release')\n",
       "    );\n",
       "    canvas_div.addEventListener(\n",
       "        'dblclick',\n",
       "        on_mouse_event_closure('dblclick')\n",
       "    );\n",
       "    // Throttle sequential mouse events to 1 every 20ms.\n",
       "    canvas_div.addEventListener(\n",
       "        'mousemove',\n",
       "        on_mouse_event_closure('motion_notify')\n",
       "    );\n",
       "\n",
       "    canvas_div.addEventListener(\n",
       "        'mouseenter',\n",
       "        on_mouse_event_closure('figure_enter')\n",
       "    );\n",
       "    canvas_div.addEventListener(\n",
       "        'mouseleave',\n",
       "        on_mouse_event_closure('figure_leave')\n",
       "    );\n",
       "\n",
       "    canvas_div.addEventListener('wheel', function (event) {\n",
       "        if (event.deltaY < 0) {\n",
       "            event.step = 1;\n",
       "        } else {\n",
       "            event.step = -1;\n",
       "        }\n",
       "        on_mouse_event_closure('scroll')(event);\n",
       "    });\n",
       "\n",
       "    canvas_div.appendChild(canvas);\n",
       "    canvas_div.appendChild(rubberband_canvas);\n",
       "\n",
       "    this.rubberband_context = rubberband_canvas.getContext('2d');\n",
       "    this.rubberband_context.strokeStyle = '#000000';\n",
       "\n",
       "    this._resize_canvas = function (width, height, forward) {\n",
       "        if (forward) {\n",
       "            canvas_div.style.width = width + 'px';\n",
       "            canvas_div.style.height = height + 'px';\n",
       "        }\n",
       "    };\n",
       "\n",
       "    // Disable right mouse context menu.\n",
       "    canvas_div.addEventListener('contextmenu', function (_e) {\n",
       "        event.preventDefault();\n",
       "        return false;\n",
       "    });\n",
       "\n",
       "    function set_focus() {\n",
       "        canvas.focus();\n",
       "        canvas_div.focus();\n",
       "    }\n",
       "\n",
       "    window.setTimeout(set_focus, 100);\n",
       "};\n",
       "\n",
       "mpl.figure.prototype._init_toolbar = function () {\n",
       "    var fig = this;\n",
       "\n",
       "    var toolbar = document.createElement('div');\n",
       "    toolbar.classList = 'mpl-toolbar';\n",
       "    this.root.appendChild(toolbar);\n",
       "\n",
       "    function on_click_closure(name) {\n",
       "        return function (_event) {\n",
       "            return fig.toolbar_button_onclick(name);\n",
       "        };\n",
       "    }\n",
       "\n",
       "    function on_mouseover_closure(tooltip) {\n",
       "        return function (event) {\n",
       "            if (!event.currentTarget.disabled) {\n",
       "                return fig.toolbar_button_onmouseover(tooltip);\n",
       "            }\n",
       "        };\n",
       "    }\n",
       "\n",
       "    fig.buttons = {};\n",
       "    var buttonGroup = document.createElement('div');\n",
       "    buttonGroup.classList = 'mpl-button-group';\n",
       "    for (var toolbar_ind in mpl.toolbar_items) {\n",
       "        var name = mpl.toolbar_items[toolbar_ind][0];\n",
       "        var tooltip = mpl.toolbar_items[toolbar_ind][1];\n",
       "        var image = mpl.toolbar_items[toolbar_ind][2];\n",
       "        var method_name = mpl.toolbar_items[toolbar_ind][3];\n",
       "\n",
       "        if (!name) {\n",
       "            /* Instead of a spacer, we start a new button group. */\n",
       "            if (buttonGroup.hasChildNodes()) {\n",
       "                toolbar.appendChild(buttonGroup);\n",
       "            }\n",
       "            buttonGroup = document.createElement('div');\n",
       "            buttonGroup.classList = 'mpl-button-group';\n",
       "            continue;\n",
       "        }\n",
       "\n",
       "        var button = (fig.buttons[name] = document.createElement('button'));\n",
       "        button.classList = 'mpl-widget';\n",
       "        button.setAttribute('role', 'button');\n",
       "        button.setAttribute('aria-disabled', 'false');\n",
       "        button.addEventListener('click', on_click_closure(method_name));\n",
       "        button.addEventListener('mouseover', on_mouseover_closure(tooltip));\n",
       "\n",
       "        var icon_img = document.createElement('img');\n",
       "        icon_img.src = '_images/' + image + '.png';\n",
       "        icon_img.srcset = '_images/' + image + '_large.png 2x';\n",
       "        icon_img.alt = tooltip;\n",
       "        button.appendChild(icon_img);\n",
       "\n",
       "        buttonGroup.appendChild(button);\n",
       "    }\n",
       "\n",
       "    if (buttonGroup.hasChildNodes()) {\n",
       "        toolbar.appendChild(buttonGroup);\n",
       "    }\n",
       "\n",
       "    var fmt_picker = document.createElement('select');\n",
       "    fmt_picker.classList = 'mpl-widget';\n",
       "    toolbar.appendChild(fmt_picker);\n",
       "    this.format_dropdown = fmt_picker;\n",
       "\n",
       "    for (var ind in mpl.extensions) {\n",
       "        var fmt = mpl.extensions[ind];\n",
       "        var option = document.createElement('option');\n",
       "        option.selected = fmt === mpl.default_extension;\n",
       "        option.innerHTML = fmt;\n",
       "        fmt_picker.appendChild(option);\n",
       "    }\n",
       "\n",
       "    var status_bar = document.createElement('span');\n",
       "    status_bar.classList = 'mpl-message';\n",
       "    toolbar.appendChild(status_bar);\n",
       "    this.message = status_bar;\n",
       "};\n",
       "\n",
       "mpl.figure.prototype.request_resize = function (x_pixels, y_pixels) {\n",
       "    // Request matplotlib to resize the figure. Matplotlib will then trigger a resize in the client,\n",
       "    // which will in turn request a refresh of the image.\n",
       "    this.send_message('resize', { width: x_pixels, height: y_pixels });\n",
       "};\n",
       "\n",
       "mpl.figure.prototype.send_message = function (type, properties) {\n",
       "    properties['type'] = type;\n",
       "    properties['figure_id'] = this.id;\n",
       "    this.ws.send(JSON.stringify(properties));\n",
       "};\n",
       "\n",
       "mpl.figure.prototype.send_draw_message = function () {\n",
       "    if (!this.waiting) {\n",
       "        this.waiting = true;\n",
       "        this.ws.send(JSON.stringify({ type: 'draw', figure_id: this.id }));\n",
       "    }\n",
       "};\n",
       "\n",
       "mpl.figure.prototype.handle_save = function (fig, _msg) {\n",
       "    var format_dropdown = fig.format_dropdown;\n",
       "    var format = format_dropdown.options[format_dropdown.selectedIndex].value;\n",
       "    fig.ondownload(fig, format);\n",
       "};\n",
       "\n",
       "mpl.figure.prototype.handle_resize = function (fig, msg) {\n",
       "    var size = msg['size'];\n",
       "    if (size[0] !== fig.canvas.width || size[1] !== fig.canvas.height) {\n",
       "        fig._resize_canvas(size[0], size[1], msg['forward']);\n",
       "        fig.send_message('refresh', {});\n",
       "    }\n",
       "};\n",
       "\n",
       "mpl.figure.prototype.handle_rubberband = function (fig, msg) {\n",
       "    var x0 = msg['x0'] / fig.ratio;\n",
       "    var y0 = (fig.canvas.height - msg['y0']) / fig.ratio;\n",
       "    var x1 = msg['x1'] / fig.ratio;\n",
       "    var y1 = (fig.canvas.height - msg['y1']) / fig.ratio;\n",
       "    x0 = Math.floor(x0) + 0.5;\n",
       "    y0 = Math.floor(y0) + 0.5;\n",
       "    x1 = Math.floor(x1) + 0.5;\n",
       "    y1 = Math.floor(y1) + 0.5;\n",
       "    var min_x = Math.min(x0, x1);\n",
       "    var min_y = Math.min(y0, y1);\n",
       "    var width = Math.abs(x1 - x0);\n",
       "    var height = Math.abs(y1 - y0);\n",
       "\n",
       "    fig.rubberband_context.clearRect(\n",
       "        0,\n",
       "        0,\n",
       "        fig.canvas.width / fig.ratio,\n",
       "        fig.canvas.height / fig.ratio\n",
       "    );\n",
       "\n",
       "    fig.rubberband_context.strokeRect(min_x, min_y, width, height);\n",
       "};\n",
       "\n",
       "mpl.figure.prototype.handle_figure_label = function (fig, msg) {\n",
       "    // Updates the figure title.\n",
       "    fig.header.textContent = msg['label'];\n",
       "};\n",
       "\n",
       "mpl.figure.prototype.handle_cursor = function (fig, msg) {\n",
       "    fig.canvas_div.style.cursor = msg['cursor'];\n",
       "};\n",
       "\n",
       "mpl.figure.prototype.handle_message = function (fig, msg) {\n",
       "    fig.message.textContent = msg['message'];\n",
       "};\n",
       "\n",
       "mpl.figure.prototype.handle_draw = function (fig, _msg) {\n",
       "    // Request the server to send over a new figure.\n",
       "    fig.send_draw_message();\n",
       "};\n",
       "\n",
       "mpl.figure.prototype.handle_image_mode = function (fig, msg) {\n",
       "    fig.image_mode = msg['mode'];\n",
       "};\n",
       "\n",
       "mpl.figure.prototype.handle_history_buttons = function (fig, msg) {\n",
       "    for (var key in msg) {\n",
       "        if (!(key in fig.buttons)) {\n",
       "            continue;\n",
       "        }\n",
       "        fig.buttons[key].disabled = !msg[key];\n",
       "        fig.buttons[key].setAttribute('aria-disabled', !msg[key]);\n",
       "    }\n",
       "};\n",
       "\n",
       "mpl.figure.prototype.handle_navigate_mode = function (fig, msg) {\n",
       "    if (msg['mode'] === 'PAN') {\n",
       "        fig.buttons['Pan'].classList.add('active');\n",
       "        fig.buttons['Zoom'].classList.remove('active');\n",
       "    } else if (msg['mode'] === 'ZOOM') {\n",
       "        fig.buttons['Pan'].classList.remove('active');\n",
       "        fig.buttons['Zoom'].classList.add('active');\n",
       "    } else {\n",
       "        fig.buttons['Pan'].classList.remove('active');\n",
       "        fig.buttons['Zoom'].classList.remove('active');\n",
       "    }\n",
       "};\n",
       "\n",
       "mpl.figure.prototype.updated_canvas_event = function () {\n",
       "    // Called whenever the canvas gets updated.\n",
       "    this.send_message('ack', {});\n",
       "};\n",
       "\n",
       "// A function to construct a web socket function for onmessage handling.\n",
       "// Called in the figure constructor.\n",
       "mpl.figure.prototype._make_on_message_function = function (fig) {\n",
       "    return function socket_on_message(evt) {\n",
       "        if (evt.data instanceof Blob) {\n",
       "            var img = evt.data;\n",
       "            if (img.type !== 'image/png') {\n",
       "                /* FIXME: We get \"Resource interpreted as Image but\n",
       "                 * transferred with MIME type text/plain:\" errors on\n",
       "                 * Chrome.  But how to set the MIME type?  It doesn't seem\n",
       "                 * to be part of the websocket stream */\n",
       "                img.type = 'image/png';\n",
       "            }\n",
       "\n",
       "            /* Free the memory for the previous frames */\n",
       "            if (fig.imageObj.src) {\n",
       "                (window.URL || window.webkitURL).revokeObjectURL(\n",
       "                    fig.imageObj.src\n",
       "                );\n",
       "            }\n",
       "\n",
       "            fig.imageObj.src = (window.URL || window.webkitURL).createObjectURL(\n",
       "                img\n",
       "            );\n",
       "            fig.updated_canvas_event();\n",
       "            fig.waiting = false;\n",
       "            return;\n",
       "        } else if (\n",
       "            typeof evt.data === 'string' &&\n",
       "            evt.data.slice(0, 21) === 'data:image/png;base64'\n",
       "        ) {\n",
       "            fig.imageObj.src = evt.data;\n",
       "            fig.updated_canvas_event();\n",
       "            fig.waiting = false;\n",
       "            return;\n",
       "        }\n",
       "\n",
       "        var msg = JSON.parse(evt.data);\n",
       "        var msg_type = msg['type'];\n",
       "\n",
       "        // Call the  \"handle_{type}\" callback, which takes\n",
       "        // the figure and JSON message as its only arguments.\n",
       "        try {\n",
       "            var callback = fig['handle_' + msg_type];\n",
       "        } catch (e) {\n",
       "            console.log(\n",
       "                \"No handler for the '\" + msg_type + \"' message type: \",\n",
       "                msg\n",
       "            );\n",
       "            return;\n",
       "        }\n",
       "\n",
       "        if (callback) {\n",
       "            try {\n",
       "                // console.log(\"Handling '\" + msg_type + \"' message: \", msg);\n",
       "                callback(fig, msg);\n",
       "            } catch (e) {\n",
       "                console.log(\n",
       "                    \"Exception inside the 'handler_\" + msg_type + \"' callback:\",\n",
       "                    e,\n",
       "                    e.stack,\n",
       "                    msg\n",
       "                );\n",
       "            }\n",
       "        }\n",
       "    };\n",
       "};\n",
       "\n",
       "function getModifiers(event) {\n",
       "    var mods = [];\n",
       "    if (event.ctrlKey) {\n",
       "        mods.push('ctrl');\n",
       "    }\n",
       "    if (event.altKey) {\n",
       "        mods.push('alt');\n",
       "    }\n",
       "    if (event.shiftKey) {\n",
       "        mods.push('shift');\n",
       "    }\n",
       "    if (event.metaKey) {\n",
       "        mods.push('meta');\n",
       "    }\n",
       "    return mods;\n",
       "}\n",
       "\n",
       "/*\n",
       " * return a copy of an object with only non-object keys\n",
       " * we need this to avoid circular references\n",
       " * https://stackoverflow.com/a/24161582/3208463\n",
       " */\n",
       "function simpleKeys(original) {\n",
       "    return Object.keys(original).reduce(function (obj, key) {\n",
       "        if (typeof original[key] !== 'object') {\n",
       "            obj[key] = original[key];\n",
       "        }\n",
       "        return obj;\n",
       "    }, {});\n",
       "}\n",
       "\n",
       "mpl.figure.prototype.mouse_event = function (event, name) {\n",
       "    if (name === 'button_press') {\n",
       "        this.canvas.focus();\n",
       "        this.canvas_div.focus();\n",
       "    }\n",
       "\n",
       "    // from https://stackoverflow.com/q/1114465\n",
       "    var boundingRect = this.canvas.getBoundingClientRect();\n",
       "    var x = (event.clientX - boundingRect.left) * this.ratio;\n",
       "    var y = (event.clientY - boundingRect.top) * this.ratio;\n",
       "\n",
       "    this.send_message(name, {\n",
       "        x: x,\n",
       "        y: y,\n",
       "        button: event.button,\n",
       "        step: event.step,\n",
       "        modifiers: getModifiers(event),\n",
       "        guiEvent: simpleKeys(event),\n",
       "    });\n",
       "\n",
       "    return false;\n",
       "};\n",
       "\n",
       "mpl.figure.prototype._key_event_extra = function (_event, _name) {\n",
       "    // Handle any extra behaviour associated with a key event\n",
       "};\n",
       "\n",
       "mpl.figure.prototype.key_event = function (event, name) {\n",
       "    // Prevent repeat events\n",
       "    if (name === 'key_press') {\n",
       "        if (event.key === this._key) {\n",
       "            return;\n",
       "        } else {\n",
       "            this._key = event.key;\n",
       "        }\n",
       "    }\n",
       "    if (name === 'key_release') {\n",
       "        this._key = null;\n",
       "    }\n",
       "\n",
       "    var value = '';\n",
       "    if (event.ctrlKey && event.key !== 'Control') {\n",
       "        value += 'ctrl+';\n",
       "    }\n",
       "    else if (event.altKey && event.key !== 'Alt') {\n",
       "        value += 'alt+';\n",
       "    }\n",
       "    else if (event.shiftKey && event.key !== 'Shift') {\n",
       "        value += 'shift+';\n",
       "    }\n",
       "\n",
       "    value += 'k' + event.key;\n",
       "\n",
       "    this._key_event_extra(event, name);\n",
       "\n",
       "    this.send_message(name, { key: value, guiEvent: simpleKeys(event) });\n",
       "    return false;\n",
       "};\n",
       "\n",
       "mpl.figure.prototype.toolbar_button_onclick = function (name) {\n",
       "    if (name === 'download') {\n",
       "        this.handle_save(this, null);\n",
       "    } else {\n",
       "        this.send_message('toolbar_button', { name: name });\n",
       "    }\n",
       "};\n",
       "\n",
       "mpl.figure.prototype.toolbar_button_onmouseover = function (tooltip) {\n",
       "    this.message.textContent = tooltip;\n",
       "};\n",
       "\n",
       "///////////////// REMAINING CONTENT GENERATED BY embed_js.py /////////////////\n",
       "// prettier-ignore\n",
       "var _JSXTOOLS_RESIZE_OBSERVER=function(A){var t,i=new WeakMap,n=new WeakMap,a=new WeakMap,r=new WeakMap,o=new Set;function s(e){if(!(this instanceof s))throw new TypeError(\"Constructor requires 'new' operator\");i.set(this,e)}function h(){throw new TypeError(\"Function is not a constructor\")}function c(e,t,i,n){e=0 in arguments?Number(arguments[0]):0,t=1 in arguments?Number(arguments[1]):0,i=2 in arguments?Number(arguments[2]):0,n=3 in arguments?Number(arguments[3]):0,this.right=(this.x=this.left=e)+(this.width=i),this.bottom=(this.y=this.top=t)+(this.height=n),Object.freeze(this)}function d(){t=requestAnimationFrame(d);var s=new WeakMap,p=new Set;o.forEach((function(t){r.get(t).forEach((function(i){var r=t instanceof window.SVGElement,o=a.get(t),d=r?0:parseFloat(o.paddingTop),f=r?0:parseFloat(o.paddingRight),l=r?0:parseFloat(o.paddingBottom),u=r?0:parseFloat(o.paddingLeft),g=r?0:parseFloat(o.borderTopWidth),m=r?0:parseFloat(o.borderRightWidth),w=r?0:parseFloat(o.borderBottomWidth),b=u+f,F=d+l,v=(r?0:parseFloat(o.borderLeftWidth))+m,W=g+w,y=r?0:t.offsetHeight-W-t.clientHeight,E=r?0:t.offsetWidth-v-t.clientWidth,R=b+v,z=F+W,M=r?t.width:parseFloat(o.width)-R-E,O=r?t.height:parseFloat(o.height)-z-y;if(n.has(t)){var k=n.get(t);if(k[0]===M&&k[1]===O)return}n.set(t,[M,O]);var S=Object.create(h.prototype);S.target=t,S.contentRect=new c(u,d,M,O),s.has(i)||(s.set(i,[]),p.add(i)),s.get(i).push(S)}))})),p.forEach((function(e){i.get(e).call(e,s.get(e),e)}))}return s.prototype.observe=function(i){if(i instanceof window.Element){r.has(i)||(r.set(i,new Set),o.add(i),a.set(i,window.getComputedStyle(i)));var n=r.get(i);n.has(this)||n.add(this),cancelAnimationFrame(t),t=requestAnimationFrame(d)}},s.prototype.unobserve=function(i){if(i instanceof window.Element&&r.has(i)){var n=r.get(i);n.has(this)&&(n.delete(this),n.size||(r.delete(i),o.delete(i))),n.size||r.delete(i),o.size||cancelAnimationFrame(t)}},A.DOMRectReadOnly=c,A.ResizeObserver=s,A.ResizeObserverEntry=h,A}; // eslint-disable-line\n",
       "mpl.toolbar_items = [[\"Home\", \"Reset original view\", \"fa fa-home\", \"home\"], [\"Back\", \"Back to previous view\", \"fa fa-arrow-left\", \"back\"], [\"Forward\", \"Forward to next view\", \"fa fa-arrow-right\", \"forward\"], [\"\", \"\", \"\", \"\"], [\"Pan\", \"Left button pans, Right button zooms\\nx/y fixes axis, CTRL fixes aspect\", \"fa fa-arrows\", \"pan\"], [\"Zoom\", \"Zoom to rectangle\\nx/y fixes axis\", \"fa fa-square-o\", \"zoom\"], [\"\", \"\", \"\", \"\"], [\"Download\", \"Download plot\", \"fa fa-floppy-o\", \"download\"]];\n",
       "\n",
       "mpl.extensions = [\"eps\", \"jpeg\", \"pgf\", \"pdf\", \"png\", \"ps\", \"raw\", \"svg\", \"tif\", \"webp\"];\n",
       "\n",
       "mpl.default_extension = \"png\";/* global mpl */\n",
       "\n",
       "var comm_websocket_adapter = function (comm) {\n",
       "    // Create a \"websocket\"-like object which calls the given IPython comm\n",
       "    // object with the appropriate methods. Currently this is a non binary\n",
       "    // socket, so there is still some room for performance tuning.\n",
       "    var ws = {};\n",
       "\n",
       "    ws.binaryType = comm.kernel.ws.binaryType;\n",
       "    ws.readyState = comm.kernel.ws.readyState;\n",
       "    function updateReadyState(_event) {\n",
       "        if (comm.kernel.ws) {\n",
       "            ws.readyState = comm.kernel.ws.readyState;\n",
       "        } else {\n",
       "            ws.readyState = 3; // Closed state.\n",
       "        }\n",
       "    }\n",
       "    comm.kernel.ws.addEventListener('open', updateReadyState);\n",
       "    comm.kernel.ws.addEventListener('close', updateReadyState);\n",
       "    comm.kernel.ws.addEventListener('error', updateReadyState);\n",
       "\n",
       "    ws.close = function () {\n",
       "        comm.close();\n",
       "    };\n",
       "    ws.send = function (m) {\n",
       "        //console.log('sending', m);\n",
       "        comm.send(m);\n",
       "    };\n",
       "    // Register the callback with on_msg.\n",
       "    comm.on_msg(function (msg) {\n",
       "        //console.log('receiving', msg['content']['data'], msg);\n",
       "        var data = msg['content']['data'];\n",
       "        if (data['blob'] !== undefined) {\n",
       "            data = {\n",
       "                data: new Blob(msg['buffers'], { type: data['blob'] }),\n",
       "            };\n",
       "        }\n",
       "        // Pass the mpl event to the overridden (by mpl) onmessage function.\n",
       "        ws.onmessage(data);\n",
       "    });\n",
       "    return ws;\n",
       "};\n",
       "\n",
       "mpl.mpl_figure_comm = function (comm, msg) {\n",
       "    // This is the function which gets called when the mpl process\n",
       "    // starts-up an IPython Comm through the \"matplotlib\" channel.\n",
       "\n",
       "    var id = msg.content.data.id;\n",
       "    // Get hold of the div created by the display call when the Comm\n",
       "    // socket was opened in Python.\n",
       "    var element = document.getElementById(id);\n",
       "    var ws_proxy = comm_websocket_adapter(comm);\n",
       "\n",
       "    function ondownload(figure, _format) {\n",
       "        window.open(figure.canvas.toDataURL());\n",
       "    }\n",
       "\n",
       "    var fig = new mpl.figure(id, ws_proxy, ondownload, element);\n",
       "\n",
       "    // Call onopen now - mpl needs it, as it is assuming we've passed it a real\n",
       "    // web socket which is closed, not our websocket->open comm proxy.\n",
       "    ws_proxy.onopen();\n",
       "\n",
       "    fig.parent_element = element;\n",
       "    fig.cell_info = mpl.find_output_cell(\"<div id='\" + id + \"'></div>\");\n",
       "    if (!fig.cell_info) {\n",
       "        console.error('Failed to find cell for figure', id, fig);\n",
       "        return;\n",
       "    }\n",
       "    fig.cell_info[0].output_area.element.on(\n",
       "        'cleared',\n",
       "        { fig: fig },\n",
       "        fig._remove_fig_handler\n",
       "    );\n",
       "};\n",
       "\n",
       "mpl.figure.prototype.handle_close = function (fig, msg) {\n",
       "    var width = fig.canvas.width / fig.ratio;\n",
       "    fig.cell_info[0].output_area.element.off(\n",
       "        'cleared',\n",
       "        fig._remove_fig_handler\n",
       "    );\n",
       "    fig.resizeObserverInstance.unobserve(fig.canvas_div);\n",
       "\n",
       "    // Update the output cell to use the data from the current canvas.\n",
       "    fig.push_to_output();\n",
       "    var dataURL = fig.canvas.toDataURL();\n",
       "    // Re-enable the keyboard manager in IPython - without this line, in FF,\n",
       "    // the notebook keyboard shortcuts fail.\n",
       "    IPython.keyboard_manager.enable();\n",
       "    fig.parent_element.innerHTML =\n",
       "        '<img src=\"' + dataURL + '\" width=\"' + width + '\">';\n",
       "    fig.close_ws(fig, msg);\n",
       "};\n",
       "\n",
       "mpl.figure.prototype.close_ws = function (fig, msg) {\n",
       "    fig.send_message('closing', msg);\n",
       "    // fig.ws.close()\n",
       "};\n",
       "\n",
       "mpl.figure.prototype.push_to_output = function (_remove_interactive) {\n",
       "    // Turn the data on the canvas into data in the output cell.\n",
       "    var width = this.canvas.width / this.ratio;\n",
       "    var dataURL = this.canvas.toDataURL();\n",
       "    this.cell_info[1]['text/html'] =\n",
       "        '<img src=\"' + dataURL + '\" width=\"' + width + '\">';\n",
       "};\n",
       "\n",
       "mpl.figure.prototype.updated_canvas_event = function () {\n",
       "    // Tell IPython that the notebook contents must change.\n",
       "    IPython.notebook.set_dirty(true);\n",
       "    this.send_message('ack', {});\n",
       "    var fig = this;\n",
       "    // Wait a second, then push the new image to the DOM so\n",
       "    // that it is saved nicely (might be nice to debounce this).\n",
       "    setTimeout(function () {\n",
       "        fig.push_to_output();\n",
       "    }, 1000);\n",
       "};\n",
       "\n",
       "mpl.figure.prototype._init_toolbar = function () {\n",
       "    var fig = this;\n",
       "\n",
       "    var toolbar = document.createElement('div');\n",
       "    toolbar.classList = 'btn-toolbar';\n",
       "    this.root.appendChild(toolbar);\n",
       "\n",
       "    function on_click_closure(name) {\n",
       "        return function (_event) {\n",
       "            return fig.toolbar_button_onclick(name);\n",
       "        };\n",
       "    }\n",
       "\n",
       "    function on_mouseover_closure(tooltip) {\n",
       "        return function (event) {\n",
       "            if (!event.currentTarget.disabled) {\n",
       "                return fig.toolbar_button_onmouseover(tooltip);\n",
       "            }\n",
       "        };\n",
       "    }\n",
       "\n",
       "    fig.buttons = {};\n",
       "    var buttonGroup = document.createElement('div');\n",
       "    buttonGroup.classList = 'btn-group';\n",
       "    var button;\n",
       "    for (var toolbar_ind in mpl.toolbar_items) {\n",
       "        var name = mpl.toolbar_items[toolbar_ind][0];\n",
       "        var tooltip = mpl.toolbar_items[toolbar_ind][1];\n",
       "        var image = mpl.toolbar_items[toolbar_ind][2];\n",
       "        var method_name = mpl.toolbar_items[toolbar_ind][3];\n",
       "\n",
       "        if (!name) {\n",
       "            /* Instead of a spacer, we start a new button group. */\n",
       "            if (buttonGroup.hasChildNodes()) {\n",
       "                toolbar.appendChild(buttonGroup);\n",
       "            }\n",
       "            buttonGroup = document.createElement('div');\n",
       "            buttonGroup.classList = 'btn-group';\n",
       "            continue;\n",
       "        }\n",
       "\n",
       "        button = fig.buttons[name] = document.createElement('button');\n",
       "        button.classList = 'btn btn-default';\n",
       "        button.href = '#';\n",
       "        button.title = name;\n",
       "        button.innerHTML = '<i class=\"fa ' + image + ' fa-lg\"></i>';\n",
       "        button.addEventListener('click', on_click_closure(method_name));\n",
       "        button.addEventListener('mouseover', on_mouseover_closure(tooltip));\n",
       "        buttonGroup.appendChild(button);\n",
       "    }\n",
       "\n",
       "    if (buttonGroup.hasChildNodes()) {\n",
       "        toolbar.appendChild(buttonGroup);\n",
       "    }\n",
       "\n",
       "    // Add the status bar.\n",
       "    var status_bar = document.createElement('span');\n",
       "    status_bar.classList = 'mpl-message pull-right';\n",
       "    toolbar.appendChild(status_bar);\n",
       "    this.message = status_bar;\n",
       "\n",
       "    // Add the close button to the window.\n",
       "    var buttongrp = document.createElement('div');\n",
       "    buttongrp.classList = 'btn-group inline pull-right';\n",
       "    button = document.createElement('button');\n",
       "    button.classList = 'btn btn-mini btn-primary';\n",
       "    button.href = '#';\n",
       "    button.title = 'Stop Interaction';\n",
       "    button.innerHTML = '<i class=\"fa fa-power-off icon-remove icon-large\"></i>';\n",
       "    button.addEventListener('click', function (_evt) {\n",
       "        fig.handle_close(fig, {});\n",
       "    });\n",
       "    button.addEventListener(\n",
       "        'mouseover',\n",
       "        on_mouseover_closure('Stop Interaction')\n",
       "    );\n",
       "    buttongrp.appendChild(button);\n",
       "    var titlebar = this.root.querySelector('.ui-dialog-titlebar');\n",
       "    titlebar.insertBefore(buttongrp, titlebar.firstChild);\n",
       "};\n",
       "\n",
       "mpl.figure.prototype._remove_fig_handler = function (event) {\n",
       "    var fig = event.data.fig;\n",
       "    if (event.target !== this) {\n",
       "        // Ignore bubbled events from children.\n",
       "        return;\n",
       "    }\n",
       "    fig.close_ws(fig, {});\n",
       "};\n",
       "\n",
       "mpl.figure.prototype._root_extra_style = function (el) {\n",
       "    el.style.boxSizing = 'content-box'; // override notebook setting of border-box.\n",
       "};\n",
       "\n",
       "mpl.figure.prototype._canvas_extra_style = function (el) {\n",
       "    // this is important to make the div 'focusable\n",
       "    el.setAttribute('tabindex', 0);\n",
       "    // reach out to IPython and tell the keyboard manager to turn it's self\n",
       "    // off when our div gets focus\n",
       "\n",
       "    // location in version 3\n",
       "    if (IPython.notebook.keyboard_manager) {\n",
       "        IPython.notebook.keyboard_manager.register_events(el);\n",
       "    } else {\n",
       "        // location in version 2\n",
       "        IPython.keyboard_manager.register_events(el);\n",
       "    }\n",
       "};\n",
       "\n",
       "mpl.figure.prototype._key_event_extra = function (event, _name) {\n",
       "    // Check for shift+enter\n",
       "    if (event.shiftKey && event.which === 13) {\n",
       "        this.canvas_div.blur();\n",
       "        // select the cell after this one\n",
       "        var index = IPython.notebook.find_cell_index(this.cell_info[0]);\n",
       "        IPython.notebook.select(index + 1);\n",
       "    }\n",
       "};\n",
       "\n",
       "mpl.figure.prototype.handle_save = function (fig, _msg) {\n",
       "    fig.ondownload(fig, null);\n",
       "};\n",
       "\n",
       "mpl.find_output_cell = function (html_output) {\n",
       "    // Return the cell and output element which can be found *uniquely* in the notebook.\n",
       "    // Note - this is a bit hacky, but it is done because the \"notebook_saving.Notebook\"\n",
       "    // IPython event is triggered only after the cells have been serialised, which for\n",
       "    // our purposes (turning an active figure into a static one), is too late.\n",
       "    var cells = IPython.notebook.get_cells();\n",
       "    var ncells = cells.length;\n",
       "    for (var i = 0; i < ncells; i++) {\n",
       "        var cell = cells[i];\n",
       "        if (cell.cell_type === 'code') {\n",
       "            for (var j = 0; j < cell.output_area.outputs.length; j++) {\n",
       "                var data = cell.output_area.outputs[j];\n",
       "                if (data.data) {\n",
       "                    // IPython >= 3 moved mimebundle to data attribute of output\n",
       "                    data = data.data;\n",
       "                }\n",
       "                if (data['text/html'] === html_output) {\n",
       "                    return [cell, data, j];\n",
       "                }\n",
       "            }\n",
       "        }\n",
       "    }\n",
       "};\n",
       "\n",
       "// Register the function which deals with the matplotlib target/channel.\n",
       "// The kernel may be null if the page has been refreshed.\n",
       "if (IPython.notebook.kernel !== null) {\n",
       "    IPython.notebook.kernel.comm_manager.register_target(\n",
       "        'matplotlib',\n",
       "        mpl.mpl_figure_comm\n",
       "    );\n",
       "}\n"
      ],
      "text/plain": [
       "<IPython.core.display.Javascript object>"
      ]
     },
     "metadata": {},
     "output_type": "display_data"
    },
    {
     "data": {
      "text/html": [
       "<div id='30e4543d-b31f-409a-aa4c-49dbcbf5ec1c'></div>"
      ],
      "text/plain": [
       "<IPython.core.display.HTML object>"
      ]
     },
     "metadata": {},
     "output_type": "display_data"
    },
    {
     "data": {
      "application/javascript": [
       "/* Put everything inside the global mpl namespace */\n",
       "/* global mpl */\n",
       "window.mpl = {};\n",
       "\n",
       "mpl.get_websocket_type = function () {\n",
       "    if (typeof WebSocket !== 'undefined') {\n",
       "        return WebSocket;\n",
       "    } else if (typeof MozWebSocket !== 'undefined') {\n",
       "        return MozWebSocket;\n",
       "    } else {\n",
       "        alert(\n",
       "            'Your browser does not have WebSocket support. ' +\n",
       "                'Please try Chrome, Safari or Firefox ≥ 6. ' +\n",
       "                'Firefox 4 and 5 are also supported but you ' +\n",
       "                'have to enable WebSockets in about:config.'\n",
       "        );\n",
       "    }\n",
       "};\n",
       "\n",
       "mpl.figure = function (figure_id, websocket, ondownload, parent_element) {\n",
       "    this.id = figure_id;\n",
       "\n",
       "    this.ws = websocket;\n",
       "\n",
       "    this.supports_binary = this.ws.binaryType !== undefined;\n",
       "\n",
       "    if (!this.supports_binary) {\n",
       "        var warnings = document.getElementById('mpl-warnings');\n",
       "        if (warnings) {\n",
       "            warnings.style.display = 'block';\n",
       "            warnings.textContent =\n",
       "                'This browser does not support binary websocket messages. ' +\n",
       "                'Performance may be slow.';\n",
       "        }\n",
       "    }\n",
       "\n",
       "    this.imageObj = new Image();\n",
       "\n",
       "    this.context = undefined;\n",
       "    this.message = undefined;\n",
       "    this.canvas = undefined;\n",
       "    this.rubberband_canvas = undefined;\n",
       "    this.rubberband_context = undefined;\n",
       "    this.format_dropdown = undefined;\n",
       "\n",
       "    this.image_mode = 'full';\n",
       "\n",
       "    this.root = document.createElement('div');\n",
       "    this.root.setAttribute('style', 'display: inline-block');\n",
       "    this._root_extra_style(this.root);\n",
       "\n",
       "    parent_element.appendChild(this.root);\n",
       "\n",
       "    this._init_header(this);\n",
       "    this._init_canvas(this);\n",
       "    this._init_toolbar(this);\n",
       "\n",
       "    var fig = this;\n",
       "\n",
       "    this.waiting = false;\n",
       "\n",
       "    this.ws.onopen = function () {\n",
       "        fig.send_message('supports_binary', { value: fig.supports_binary });\n",
       "        fig.send_message('send_image_mode', {});\n",
       "        if (fig.ratio !== 1) {\n",
       "            fig.send_message('set_device_pixel_ratio', {\n",
       "                device_pixel_ratio: fig.ratio,\n",
       "            });\n",
       "        }\n",
       "        fig.send_message('refresh', {});\n",
       "    };\n",
       "\n",
       "    this.imageObj.onload = function () {\n",
       "        if (fig.image_mode === 'full') {\n",
       "            // Full images could contain transparency (where diff images\n",
       "            // almost always do), so we need to clear the canvas so that\n",
       "            // there is no ghosting.\n",
       "            fig.context.clearRect(0, 0, fig.canvas.width, fig.canvas.height);\n",
       "        }\n",
       "        fig.context.drawImage(fig.imageObj, 0, 0);\n",
       "    };\n",
       "\n",
       "    this.imageObj.onunload = function () {\n",
       "        fig.ws.close();\n",
       "    };\n",
       "\n",
       "    this.ws.onmessage = this._make_on_message_function(this);\n",
       "\n",
       "    this.ondownload = ondownload;\n",
       "};\n",
       "\n",
       "mpl.figure.prototype._init_header = function () {\n",
       "    var titlebar = document.createElement('div');\n",
       "    titlebar.classList =\n",
       "        'ui-dialog-titlebar ui-widget-header ui-corner-all ui-helper-clearfix';\n",
       "    var titletext = document.createElement('div');\n",
       "    titletext.classList = 'ui-dialog-title';\n",
       "    titletext.setAttribute(\n",
       "        'style',\n",
       "        'width: 100%; text-align: center; padding: 3px;'\n",
       "    );\n",
       "    titlebar.appendChild(titletext);\n",
       "    this.root.appendChild(titlebar);\n",
       "    this.header = titletext;\n",
       "};\n",
       "\n",
       "mpl.figure.prototype._canvas_extra_style = function (_canvas_div) {};\n",
       "\n",
       "mpl.figure.prototype._root_extra_style = function (_canvas_div) {};\n",
       "\n",
       "mpl.figure.prototype._init_canvas = function () {\n",
       "    var fig = this;\n",
       "\n",
       "    var canvas_div = (this.canvas_div = document.createElement('div'));\n",
       "    canvas_div.setAttribute('tabindex', '0');\n",
       "    canvas_div.setAttribute(\n",
       "        'style',\n",
       "        'border: 1px solid #ddd;' +\n",
       "            'box-sizing: content-box;' +\n",
       "            'clear: both;' +\n",
       "            'min-height: 1px;' +\n",
       "            'min-width: 1px;' +\n",
       "            'outline: 0;' +\n",
       "            'overflow: hidden;' +\n",
       "            'position: relative;' +\n",
       "            'resize: both;' +\n",
       "            'z-index: 2;'\n",
       "    );\n",
       "\n",
       "    function on_keyboard_event_closure(name) {\n",
       "        return function (event) {\n",
       "            return fig.key_event(event, name);\n",
       "        };\n",
       "    }\n",
       "\n",
       "    canvas_div.addEventListener(\n",
       "        'keydown',\n",
       "        on_keyboard_event_closure('key_press')\n",
       "    );\n",
       "    canvas_div.addEventListener(\n",
       "        'keyup',\n",
       "        on_keyboard_event_closure('key_release')\n",
       "    );\n",
       "\n",
       "    this._canvas_extra_style(canvas_div);\n",
       "    this.root.appendChild(canvas_div);\n",
       "\n",
       "    var canvas = (this.canvas = document.createElement('canvas'));\n",
       "    canvas.classList.add('mpl-canvas');\n",
       "    canvas.setAttribute(\n",
       "        'style',\n",
       "        'box-sizing: content-box;' +\n",
       "            'pointer-events: none;' +\n",
       "            'position: relative;' +\n",
       "            'z-index: 0;'\n",
       "    );\n",
       "\n",
       "    this.context = canvas.getContext('2d');\n",
       "\n",
       "    var backingStore =\n",
       "        this.context.backingStorePixelRatio ||\n",
       "        this.context.webkitBackingStorePixelRatio ||\n",
       "        this.context.mozBackingStorePixelRatio ||\n",
       "        this.context.msBackingStorePixelRatio ||\n",
       "        this.context.oBackingStorePixelRatio ||\n",
       "        this.context.backingStorePixelRatio ||\n",
       "        1;\n",
       "\n",
       "    this.ratio = (window.devicePixelRatio || 1) / backingStore;\n",
       "\n",
       "    var rubberband_canvas = (this.rubberband_canvas = document.createElement(\n",
       "        'canvas'\n",
       "    ));\n",
       "    rubberband_canvas.setAttribute(\n",
       "        'style',\n",
       "        'box-sizing: content-box;' +\n",
       "            'left: 0;' +\n",
       "            'pointer-events: none;' +\n",
       "            'position: absolute;' +\n",
       "            'top: 0;' +\n",
       "            'z-index: 1;'\n",
       "    );\n",
       "\n",
       "    // Apply a ponyfill if ResizeObserver is not implemented by browser.\n",
       "    if (this.ResizeObserver === undefined) {\n",
       "        if (window.ResizeObserver !== undefined) {\n",
       "            this.ResizeObserver = window.ResizeObserver;\n",
       "        } else {\n",
       "            var obs = _JSXTOOLS_RESIZE_OBSERVER({});\n",
       "            this.ResizeObserver = obs.ResizeObserver;\n",
       "        }\n",
       "    }\n",
       "\n",
       "    this.resizeObserverInstance = new this.ResizeObserver(function (entries) {\n",
       "        var nentries = entries.length;\n",
       "        for (var i = 0; i < nentries; i++) {\n",
       "            var entry = entries[i];\n",
       "            var width, height;\n",
       "            if (entry.contentBoxSize) {\n",
       "                if (entry.contentBoxSize instanceof Array) {\n",
       "                    // Chrome 84 implements new version of spec.\n",
       "                    width = entry.contentBoxSize[0].inlineSize;\n",
       "                    height = entry.contentBoxSize[0].blockSize;\n",
       "                } else {\n",
       "                    // Firefox implements old version of spec.\n",
       "                    width = entry.contentBoxSize.inlineSize;\n",
       "                    height = entry.contentBoxSize.blockSize;\n",
       "                }\n",
       "            } else {\n",
       "                // Chrome <84 implements even older version of spec.\n",
       "                width = entry.contentRect.width;\n",
       "                height = entry.contentRect.height;\n",
       "            }\n",
       "\n",
       "            // Keep the size of the canvas and rubber band canvas in sync with\n",
       "            // the canvas container.\n",
       "            if (entry.devicePixelContentBoxSize) {\n",
       "                // Chrome 84 implements new version of spec.\n",
       "                canvas.setAttribute(\n",
       "                    'width',\n",
       "                    entry.devicePixelContentBoxSize[0].inlineSize\n",
       "                );\n",
       "                canvas.setAttribute(\n",
       "                    'height',\n",
       "                    entry.devicePixelContentBoxSize[0].blockSize\n",
       "                );\n",
       "            } else {\n",
       "                canvas.setAttribute('width', width * fig.ratio);\n",
       "                canvas.setAttribute('height', height * fig.ratio);\n",
       "            }\n",
       "            /* This rescales the canvas back to display pixels, so that it\n",
       "             * appears correct on HiDPI screens. */\n",
       "            canvas.style.width = width + 'px';\n",
       "            canvas.style.height = height + 'px';\n",
       "\n",
       "            rubberband_canvas.setAttribute('width', width);\n",
       "            rubberband_canvas.setAttribute('height', height);\n",
       "\n",
       "            // And update the size in Python. We ignore the initial 0/0 size\n",
       "            // that occurs as the element is placed into the DOM, which should\n",
       "            // otherwise not happen due to the minimum size styling.\n",
       "            if (fig.ws.readyState == 1 && width != 0 && height != 0) {\n",
       "                fig.request_resize(width, height);\n",
       "            }\n",
       "        }\n",
       "    });\n",
       "    this.resizeObserverInstance.observe(canvas_div);\n",
       "\n",
       "    function on_mouse_event_closure(name) {\n",
       "        /* User Agent sniffing is bad, but WebKit is busted:\n",
       "         * https://bugs.webkit.org/show_bug.cgi?id=144526\n",
       "         * https://bugs.webkit.org/show_bug.cgi?id=181818\n",
       "         * The worst that happens here is that they get an extra browser\n",
       "         * selection when dragging, if this check fails to catch them.\n",
       "         */\n",
       "        var UA = navigator.userAgent;\n",
       "        var isWebKit = /AppleWebKit/.test(UA) && !/Chrome/.test(UA);\n",
       "        if(isWebKit) {\n",
       "            return function (event) {\n",
       "                /* This prevents the web browser from automatically changing to\n",
       "                 * the text insertion cursor when the button is pressed. We\n",
       "                 * want to control all of the cursor setting manually through\n",
       "                 * the 'cursor' event from matplotlib */\n",
       "                event.preventDefault()\n",
       "                return fig.mouse_event(event, name);\n",
       "            };\n",
       "        } else {\n",
       "            return function (event) {\n",
       "                return fig.mouse_event(event, name);\n",
       "            };\n",
       "        }\n",
       "    }\n",
       "\n",
       "    canvas_div.addEventListener(\n",
       "        'mousedown',\n",
       "        on_mouse_event_closure('button_press')\n",
       "    );\n",
       "    canvas_div.addEventListener(\n",
       "        'mouseup',\n",
       "        on_mouse_event_closure('button_release')\n",
       "    );\n",
       "    canvas_div.addEventListener(\n",
       "        'dblclick',\n",
       "        on_mouse_event_closure('dblclick')\n",
       "    );\n",
       "    // Throttle sequential mouse events to 1 every 20ms.\n",
       "    canvas_div.addEventListener(\n",
       "        'mousemove',\n",
       "        on_mouse_event_closure('motion_notify')\n",
       "    );\n",
       "\n",
       "    canvas_div.addEventListener(\n",
       "        'mouseenter',\n",
       "        on_mouse_event_closure('figure_enter')\n",
       "    );\n",
       "    canvas_div.addEventListener(\n",
       "        'mouseleave',\n",
       "        on_mouse_event_closure('figure_leave')\n",
       "    );\n",
       "\n",
       "    canvas_div.addEventListener('wheel', function (event) {\n",
       "        if (event.deltaY < 0) {\n",
       "            event.step = 1;\n",
       "        } else {\n",
       "            event.step = -1;\n",
       "        }\n",
       "        on_mouse_event_closure('scroll')(event);\n",
       "    });\n",
       "\n",
       "    canvas_div.appendChild(canvas);\n",
       "    canvas_div.appendChild(rubberband_canvas);\n",
       "\n",
       "    this.rubberband_context = rubberband_canvas.getContext('2d');\n",
       "    this.rubberband_context.strokeStyle = '#000000';\n",
       "\n",
       "    this._resize_canvas = function (width, height, forward) {\n",
       "        if (forward) {\n",
       "            canvas_div.style.width = width + 'px';\n",
       "            canvas_div.style.height = height + 'px';\n",
       "        }\n",
       "    };\n",
       "\n",
       "    // Disable right mouse context menu.\n",
       "    canvas_div.addEventListener('contextmenu', function (_e) {\n",
       "        event.preventDefault();\n",
       "        return false;\n",
       "    });\n",
       "\n",
       "    function set_focus() {\n",
       "        canvas.focus();\n",
       "        canvas_div.focus();\n",
       "    }\n",
       "\n",
       "    window.setTimeout(set_focus, 100);\n",
       "};\n",
       "\n",
       "mpl.figure.prototype._init_toolbar = function () {\n",
       "    var fig = this;\n",
       "\n",
       "    var toolbar = document.createElement('div');\n",
       "    toolbar.classList = 'mpl-toolbar';\n",
       "    this.root.appendChild(toolbar);\n",
       "\n",
       "    function on_click_closure(name) {\n",
       "        return function (_event) {\n",
       "            return fig.toolbar_button_onclick(name);\n",
       "        };\n",
       "    }\n",
       "\n",
       "    function on_mouseover_closure(tooltip) {\n",
       "        return function (event) {\n",
       "            if (!event.currentTarget.disabled) {\n",
       "                return fig.toolbar_button_onmouseover(tooltip);\n",
       "            }\n",
       "        };\n",
       "    }\n",
       "\n",
       "    fig.buttons = {};\n",
       "    var buttonGroup = document.createElement('div');\n",
       "    buttonGroup.classList = 'mpl-button-group';\n",
       "    for (var toolbar_ind in mpl.toolbar_items) {\n",
       "        var name = mpl.toolbar_items[toolbar_ind][0];\n",
       "        var tooltip = mpl.toolbar_items[toolbar_ind][1];\n",
       "        var image = mpl.toolbar_items[toolbar_ind][2];\n",
       "        var method_name = mpl.toolbar_items[toolbar_ind][3];\n",
       "\n",
       "        if (!name) {\n",
       "            /* Instead of a spacer, we start a new button group. */\n",
       "            if (buttonGroup.hasChildNodes()) {\n",
       "                toolbar.appendChild(buttonGroup);\n",
       "            }\n",
       "            buttonGroup = document.createElement('div');\n",
       "            buttonGroup.classList = 'mpl-button-group';\n",
       "            continue;\n",
       "        }\n",
       "\n",
       "        var button = (fig.buttons[name] = document.createElement('button'));\n",
       "        button.classList = 'mpl-widget';\n",
       "        button.setAttribute('role', 'button');\n",
       "        button.setAttribute('aria-disabled', 'false');\n",
       "        button.addEventListener('click', on_click_closure(method_name));\n",
       "        button.addEventListener('mouseover', on_mouseover_closure(tooltip));\n",
       "\n",
       "        var icon_img = document.createElement('img');\n",
       "        icon_img.src = '_images/' + image + '.png';\n",
       "        icon_img.srcset = '_images/' + image + '_large.png 2x';\n",
       "        icon_img.alt = tooltip;\n",
       "        button.appendChild(icon_img);\n",
       "\n",
       "        buttonGroup.appendChild(button);\n",
       "    }\n",
       "\n",
       "    if (buttonGroup.hasChildNodes()) {\n",
       "        toolbar.appendChild(buttonGroup);\n",
       "    }\n",
       "\n",
       "    var fmt_picker = document.createElement('select');\n",
       "    fmt_picker.classList = 'mpl-widget';\n",
       "    toolbar.appendChild(fmt_picker);\n",
       "    this.format_dropdown = fmt_picker;\n",
       "\n",
       "    for (var ind in mpl.extensions) {\n",
       "        var fmt = mpl.extensions[ind];\n",
       "        var option = document.createElement('option');\n",
       "        option.selected = fmt === mpl.default_extension;\n",
       "        option.innerHTML = fmt;\n",
       "        fmt_picker.appendChild(option);\n",
       "    }\n",
       "\n",
       "    var status_bar = document.createElement('span');\n",
       "    status_bar.classList = 'mpl-message';\n",
       "    toolbar.appendChild(status_bar);\n",
       "    this.message = status_bar;\n",
       "};\n",
       "\n",
       "mpl.figure.prototype.request_resize = function (x_pixels, y_pixels) {\n",
       "    // Request matplotlib to resize the figure. Matplotlib will then trigger a resize in the client,\n",
       "    // which will in turn request a refresh of the image.\n",
       "    this.send_message('resize', { width: x_pixels, height: y_pixels });\n",
       "};\n",
       "\n",
       "mpl.figure.prototype.send_message = function (type, properties) {\n",
       "    properties['type'] = type;\n",
       "    properties['figure_id'] = this.id;\n",
       "    this.ws.send(JSON.stringify(properties));\n",
       "};\n",
       "\n",
       "mpl.figure.prototype.send_draw_message = function () {\n",
       "    if (!this.waiting) {\n",
       "        this.waiting = true;\n",
       "        this.ws.send(JSON.stringify({ type: 'draw', figure_id: this.id }));\n",
       "    }\n",
       "};\n",
       "\n",
       "mpl.figure.prototype.handle_save = function (fig, _msg) {\n",
       "    var format_dropdown = fig.format_dropdown;\n",
       "    var format = format_dropdown.options[format_dropdown.selectedIndex].value;\n",
       "    fig.ondownload(fig, format);\n",
       "};\n",
       "\n",
       "mpl.figure.prototype.handle_resize = function (fig, msg) {\n",
       "    var size = msg['size'];\n",
       "    if (size[0] !== fig.canvas.width || size[1] !== fig.canvas.height) {\n",
       "        fig._resize_canvas(size[0], size[1], msg['forward']);\n",
       "        fig.send_message('refresh', {});\n",
       "    }\n",
       "};\n",
       "\n",
       "mpl.figure.prototype.handle_rubberband = function (fig, msg) {\n",
       "    var x0 = msg['x0'] / fig.ratio;\n",
       "    var y0 = (fig.canvas.height - msg['y0']) / fig.ratio;\n",
       "    var x1 = msg['x1'] / fig.ratio;\n",
       "    var y1 = (fig.canvas.height - msg['y1']) / fig.ratio;\n",
       "    x0 = Math.floor(x0) + 0.5;\n",
       "    y0 = Math.floor(y0) + 0.5;\n",
       "    x1 = Math.floor(x1) + 0.5;\n",
       "    y1 = Math.floor(y1) + 0.5;\n",
       "    var min_x = Math.min(x0, x1);\n",
       "    var min_y = Math.min(y0, y1);\n",
       "    var width = Math.abs(x1 - x0);\n",
       "    var height = Math.abs(y1 - y0);\n",
       "\n",
       "    fig.rubberband_context.clearRect(\n",
       "        0,\n",
       "        0,\n",
       "        fig.canvas.width / fig.ratio,\n",
       "        fig.canvas.height / fig.ratio\n",
       "    );\n",
       "\n",
       "    fig.rubberband_context.strokeRect(min_x, min_y, width, height);\n",
       "};\n",
       "\n",
       "mpl.figure.prototype.handle_figure_label = function (fig, msg) {\n",
       "    // Updates the figure title.\n",
       "    fig.header.textContent = msg['label'];\n",
       "};\n",
       "\n",
       "mpl.figure.prototype.handle_cursor = function (fig, msg) {\n",
       "    fig.canvas_div.style.cursor = msg['cursor'];\n",
       "};\n",
       "\n",
       "mpl.figure.prototype.handle_message = function (fig, msg) {\n",
       "    fig.message.textContent = msg['message'];\n",
       "};\n",
       "\n",
       "mpl.figure.prototype.handle_draw = function (fig, _msg) {\n",
       "    // Request the server to send over a new figure.\n",
       "    fig.send_draw_message();\n",
       "};\n",
       "\n",
       "mpl.figure.prototype.handle_image_mode = function (fig, msg) {\n",
       "    fig.image_mode = msg['mode'];\n",
       "};\n",
       "\n",
       "mpl.figure.prototype.handle_history_buttons = function (fig, msg) {\n",
       "    for (var key in msg) {\n",
       "        if (!(key in fig.buttons)) {\n",
       "            continue;\n",
       "        }\n",
       "        fig.buttons[key].disabled = !msg[key];\n",
       "        fig.buttons[key].setAttribute('aria-disabled', !msg[key]);\n",
       "    }\n",
       "};\n",
       "\n",
       "mpl.figure.prototype.handle_navigate_mode = function (fig, msg) {\n",
       "    if (msg['mode'] === 'PAN') {\n",
       "        fig.buttons['Pan'].classList.add('active');\n",
       "        fig.buttons['Zoom'].classList.remove('active');\n",
       "    } else if (msg['mode'] === 'ZOOM') {\n",
       "        fig.buttons['Pan'].classList.remove('active');\n",
       "        fig.buttons['Zoom'].classList.add('active');\n",
       "    } else {\n",
       "        fig.buttons['Pan'].classList.remove('active');\n",
       "        fig.buttons['Zoom'].classList.remove('active');\n",
       "    }\n",
       "};\n",
       "\n",
       "mpl.figure.prototype.updated_canvas_event = function () {\n",
       "    // Called whenever the canvas gets updated.\n",
       "    this.send_message('ack', {});\n",
       "};\n",
       "\n",
       "// A function to construct a web socket function for onmessage handling.\n",
       "// Called in the figure constructor.\n",
       "mpl.figure.prototype._make_on_message_function = function (fig) {\n",
       "    return function socket_on_message(evt) {\n",
       "        if (evt.data instanceof Blob) {\n",
       "            var img = evt.data;\n",
       "            if (img.type !== 'image/png') {\n",
       "                /* FIXME: We get \"Resource interpreted as Image but\n",
       "                 * transferred with MIME type text/plain:\" errors on\n",
       "                 * Chrome.  But how to set the MIME type?  It doesn't seem\n",
       "                 * to be part of the websocket stream */\n",
       "                img.type = 'image/png';\n",
       "            }\n",
       "\n",
       "            /* Free the memory for the previous frames */\n",
       "            if (fig.imageObj.src) {\n",
       "                (window.URL || window.webkitURL).revokeObjectURL(\n",
       "                    fig.imageObj.src\n",
       "                );\n",
       "            }\n",
       "\n",
       "            fig.imageObj.src = (window.URL || window.webkitURL).createObjectURL(\n",
       "                img\n",
       "            );\n",
       "            fig.updated_canvas_event();\n",
       "            fig.waiting = false;\n",
       "            return;\n",
       "        } else if (\n",
       "            typeof evt.data === 'string' &&\n",
       "            evt.data.slice(0, 21) === 'data:image/png;base64'\n",
       "        ) {\n",
       "            fig.imageObj.src = evt.data;\n",
       "            fig.updated_canvas_event();\n",
       "            fig.waiting = false;\n",
       "            return;\n",
       "        }\n",
       "\n",
       "        var msg = JSON.parse(evt.data);\n",
       "        var msg_type = msg['type'];\n",
       "\n",
       "        // Call the  \"handle_{type}\" callback, which takes\n",
       "        // the figure and JSON message as its only arguments.\n",
       "        try {\n",
       "            var callback = fig['handle_' + msg_type];\n",
       "        } catch (e) {\n",
       "            console.log(\n",
       "                \"No handler for the '\" + msg_type + \"' message type: \",\n",
       "                msg\n",
       "            );\n",
       "            return;\n",
       "        }\n",
       "\n",
       "        if (callback) {\n",
       "            try {\n",
       "                // console.log(\"Handling '\" + msg_type + \"' message: \", msg);\n",
       "                callback(fig, msg);\n",
       "            } catch (e) {\n",
       "                console.log(\n",
       "                    \"Exception inside the 'handler_\" + msg_type + \"' callback:\",\n",
       "                    e,\n",
       "                    e.stack,\n",
       "                    msg\n",
       "                );\n",
       "            }\n",
       "        }\n",
       "    };\n",
       "};\n",
       "\n",
       "function getModifiers(event) {\n",
       "    var mods = [];\n",
       "    if (event.ctrlKey) {\n",
       "        mods.push('ctrl');\n",
       "    }\n",
       "    if (event.altKey) {\n",
       "        mods.push('alt');\n",
       "    }\n",
       "    if (event.shiftKey) {\n",
       "        mods.push('shift');\n",
       "    }\n",
       "    if (event.metaKey) {\n",
       "        mods.push('meta');\n",
       "    }\n",
       "    return mods;\n",
       "}\n",
       "\n",
       "/*\n",
       " * return a copy of an object with only non-object keys\n",
       " * we need this to avoid circular references\n",
       " * https://stackoverflow.com/a/24161582/3208463\n",
       " */\n",
       "function simpleKeys(original) {\n",
       "    return Object.keys(original).reduce(function (obj, key) {\n",
       "        if (typeof original[key] !== 'object') {\n",
       "            obj[key] = original[key];\n",
       "        }\n",
       "        return obj;\n",
       "    }, {});\n",
       "}\n",
       "\n",
       "mpl.figure.prototype.mouse_event = function (event, name) {\n",
       "    if (name === 'button_press') {\n",
       "        this.canvas.focus();\n",
       "        this.canvas_div.focus();\n",
       "    }\n",
       "\n",
       "    // from https://stackoverflow.com/q/1114465\n",
       "    var boundingRect = this.canvas.getBoundingClientRect();\n",
       "    var x = (event.clientX - boundingRect.left) * this.ratio;\n",
       "    var y = (event.clientY - boundingRect.top) * this.ratio;\n",
       "\n",
       "    this.send_message(name, {\n",
       "        x: x,\n",
       "        y: y,\n",
       "        button: event.button,\n",
       "        step: event.step,\n",
       "        modifiers: getModifiers(event),\n",
       "        guiEvent: simpleKeys(event),\n",
       "    });\n",
       "\n",
       "    return false;\n",
       "};\n",
       "\n",
       "mpl.figure.prototype._key_event_extra = function (_event, _name) {\n",
       "    // Handle any extra behaviour associated with a key event\n",
       "};\n",
       "\n",
       "mpl.figure.prototype.key_event = function (event, name) {\n",
       "    // Prevent repeat events\n",
       "    if (name === 'key_press') {\n",
       "        if (event.key === this._key) {\n",
       "            return;\n",
       "        } else {\n",
       "            this._key = event.key;\n",
       "        }\n",
       "    }\n",
       "    if (name === 'key_release') {\n",
       "        this._key = null;\n",
       "    }\n",
       "\n",
       "    var value = '';\n",
       "    if (event.ctrlKey && event.key !== 'Control') {\n",
       "        value += 'ctrl+';\n",
       "    }\n",
       "    else if (event.altKey && event.key !== 'Alt') {\n",
       "        value += 'alt+';\n",
       "    }\n",
       "    else if (event.shiftKey && event.key !== 'Shift') {\n",
       "        value += 'shift+';\n",
       "    }\n",
       "\n",
       "    value += 'k' + event.key;\n",
       "\n",
       "    this._key_event_extra(event, name);\n",
       "\n",
       "    this.send_message(name, { key: value, guiEvent: simpleKeys(event) });\n",
       "    return false;\n",
       "};\n",
       "\n",
       "mpl.figure.prototype.toolbar_button_onclick = function (name) {\n",
       "    if (name === 'download') {\n",
       "        this.handle_save(this, null);\n",
       "    } else {\n",
       "        this.send_message('toolbar_button', { name: name });\n",
       "    }\n",
       "};\n",
       "\n",
       "mpl.figure.prototype.toolbar_button_onmouseover = function (tooltip) {\n",
       "    this.message.textContent = tooltip;\n",
       "};\n",
       "\n",
       "///////////////// REMAINING CONTENT GENERATED BY embed_js.py /////////////////\n",
       "// prettier-ignore\n",
       "var _JSXTOOLS_RESIZE_OBSERVER=function(A){var t,i=new WeakMap,n=new WeakMap,a=new WeakMap,r=new WeakMap,o=new Set;function s(e){if(!(this instanceof s))throw new TypeError(\"Constructor requires 'new' operator\");i.set(this,e)}function h(){throw new TypeError(\"Function is not a constructor\")}function c(e,t,i,n){e=0 in arguments?Number(arguments[0]):0,t=1 in arguments?Number(arguments[1]):0,i=2 in arguments?Number(arguments[2]):0,n=3 in arguments?Number(arguments[3]):0,this.right=(this.x=this.left=e)+(this.width=i),this.bottom=(this.y=this.top=t)+(this.height=n),Object.freeze(this)}function d(){t=requestAnimationFrame(d);var s=new WeakMap,p=new Set;o.forEach((function(t){r.get(t).forEach((function(i){var r=t instanceof window.SVGElement,o=a.get(t),d=r?0:parseFloat(o.paddingTop),f=r?0:parseFloat(o.paddingRight),l=r?0:parseFloat(o.paddingBottom),u=r?0:parseFloat(o.paddingLeft),g=r?0:parseFloat(o.borderTopWidth),m=r?0:parseFloat(o.borderRightWidth),w=r?0:parseFloat(o.borderBottomWidth),b=u+f,F=d+l,v=(r?0:parseFloat(o.borderLeftWidth))+m,W=g+w,y=r?0:t.offsetHeight-W-t.clientHeight,E=r?0:t.offsetWidth-v-t.clientWidth,R=b+v,z=F+W,M=r?t.width:parseFloat(o.width)-R-E,O=r?t.height:parseFloat(o.height)-z-y;if(n.has(t)){var k=n.get(t);if(k[0]===M&&k[1]===O)return}n.set(t,[M,O]);var S=Object.create(h.prototype);S.target=t,S.contentRect=new c(u,d,M,O),s.has(i)||(s.set(i,[]),p.add(i)),s.get(i).push(S)}))})),p.forEach((function(e){i.get(e).call(e,s.get(e),e)}))}return s.prototype.observe=function(i){if(i instanceof window.Element){r.has(i)||(r.set(i,new Set),o.add(i),a.set(i,window.getComputedStyle(i)));var n=r.get(i);n.has(this)||n.add(this),cancelAnimationFrame(t),t=requestAnimationFrame(d)}},s.prototype.unobserve=function(i){if(i instanceof window.Element&&r.has(i)){var n=r.get(i);n.has(this)&&(n.delete(this),n.size||(r.delete(i),o.delete(i))),n.size||r.delete(i),o.size||cancelAnimationFrame(t)}},A.DOMRectReadOnly=c,A.ResizeObserver=s,A.ResizeObserverEntry=h,A}; // eslint-disable-line\n",
       "mpl.toolbar_items = [[\"Home\", \"Reset original view\", \"fa fa-home\", \"home\"], [\"Back\", \"Back to previous view\", \"fa fa-arrow-left\", \"back\"], [\"Forward\", \"Forward to next view\", \"fa fa-arrow-right\", \"forward\"], [\"\", \"\", \"\", \"\"], [\"Pan\", \"Left button pans, Right button zooms\\nx/y fixes axis, CTRL fixes aspect\", \"fa fa-arrows\", \"pan\"], [\"Zoom\", \"Zoom to rectangle\\nx/y fixes axis\", \"fa fa-square-o\", \"zoom\"], [\"\", \"\", \"\", \"\"], [\"Download\", \"Download plot\", \"fa fa-floppy-o\", \"download\"]];\n",
       "\n",
       "mpl.extensions = [\"eps\", \"jpeg\", \"pgf\", \"pdf\", \"png\", \"ps\", \"raw\", \"svg\", \"tif\", \"webp\"];\n",
       "\n",
       "mpl.default_extension = \"png\";/* global mpl */\n",
       "\n",
       "var comm_websocket_adapter = function (comm) {\n",
       "    // Create a \"websocket\"-like object which calls the given IPython comm\n",
       "    // object with the appropriate methods. Currently this is a non binary\n",
       "    // socket, so there is still some room for performance tuning.\n",
       "    var ws = {};\n",
       "\n",
       "    ws.binaryType = comm.kernel.ws.binaryType;\n",
       "    ws.readyState = comm.kernel.ws.readyState;\n",
       "    function updateReadyState(_event) {\n",
       "        if (comm.kernel.ws) {\n",
       "            ws.readyState = comm.kernel.ws.readyState;\n",
       "        } else {\n",
       "            ws.readyState = 3; // Closed state.\n",
       "        }\n",
       "    }\n",
       "    comm.kernel.ws.addEventListener('open', updateReadyState);\n",
       "    comm.kernel.ws.addEventListener('close', updateReadyState);\n",
       "    comm.kernel.ws.addEventListener('error', updateReadyState);\n",
       "\n",
       "    ws.close = function () {\n",
       "        comm.close();\n",
       "    };\n",
       "    ws.send = function (m) {\n",
       "        //console.log('sending', m);\n",
       "        comm.send(m);\n",
       "    };\n",
       "    // Register the callback with on_msg.\n",
       "    comm.on_msg(function (msg) {\n",
       "        //console.log('receiving', msg['content']['data'], msg);\n",
       "        var data = msg['content']['data'];\n",
       "        if (data['blob'] !== undefined) {\n",
       "            data = {\n",
       "                data: new Blob(msg['buffers'], { type: data['blob'] }),\n",
       "            };\n",
       "        }\n",
       "        // Pass the mpl event to the overridden (by mpl) onmessage function.\n",
       "        ws.onmessage(data);\n",
       "    });\n",
       "    return ws;\n",
       "};\n",
       "\n",
       "mpl.mpl_figure_comm = function (comm, msg) {\n",
       "    // This is the function which gets called when the mpl process\n",
       "    // starts-up an IPython Comm through the \"matplotlib\" channel.\n",
       "\n",
       "    var id = msg.content.data.id;\n",
       "    // Get hold of the div created by the display call when the Comm\n",
       "    // socket was opened in Python.\n",
       "    var element = document.getElementById(id);\n",
       "    var ws_proxy = comm_websocket_adapter(comm);\n",
       "\n",
       "    function ondownload(figure, _format) {\n",
       "        window.open(figure.canvas.toDataURL());\n",
       "    }\n",
       "\n",
       "    var fig = new mpl.figure(id, ws_proxy, ondownload, element);\n",
       "\n",
       "    // Call onopen now - mpl needs it, as it is assuming we've passed it a real\n",
       "    // web socket which is closed, not our websocket->open comm proxy.\n",
       "    ws_proxy.onopen();\n",
       "\n",
       "    fig.parent_element = element;\n",
       "    fig.cell_info = mpl.find_output_cell(\"<div id='\" + id + \"'></div>\");\n",
       "    if (!fig.cell_info) {\n",
       "        console.error('Failed to find cell for figure', id, fig);\n",
       "        return;\n",
       "    }\n",
       "    fig.cell_info[0].output_area.element.on(\n",
       "        'cleared',\n",
       "        { fig: fig },\n",
       "        fig._remove_fig_handler\n",
       "    );\n",
       "};\n",
       "\n",
       "mpl.figure.prototype.handle_close = function (fig, msg) {\n",
       "    var width = fig.canvas.width / fig.ratio;\n",
       "    fig.cell_info[0].output_area.element.off(\n",
       "        'cleared',\n",
       "        fig._remove_fig_handler\n",
       "    );\n",
       "    fig.resizeObserverInstance.unobserve(fig.canvas_div);\n",
       "\n",
       "    // Update the output cell to use the data from the current canvas.\n",
       "    fig.push_to_output();\n",
       "    var dataURL = fig.canvas.toDataURL();\n",
       "    // Re-enable the keyboard manager in IPython - without this line, in FF,\n",
       "    // the notebook keyboard shortcuts fail.\n",
       "    IPython.keyboard_manager.enable();\n",
       "    fig.parent_element.innerHTML =\n",
       "        '<img src=\"' + dataURL + '\" width=\"' + width + '\">';\n",
       "    fig.close_ws(fig, msg);\n",
       "};\n",
       "\n",
       "mpl.figure.prototype.close_ws = function (fig, msg) {\n",
       "    fig.send_message('closing', msg);\n",
       "    // fig.ws.close()\n",
       "};\n",
       "\n",
       "mpl.figure.prototype.push_to_output = function (_remove_interactive) {\n",
       "    // Turn the data on the canvas into data in the output cell.\n",
       "    var width = this.canvas.width / this.ratio;\n",
       "    var dataURL = this.canvas.toDataURL();\n",
       "    this.cell_info[1]['text/html'] =\n",
       "        '<img src=\"' + dataURL + '\" width=\"' + width + '\">';\n",
       "};\n",
       "\n",
       "mpl.figure.prototype.updated_canvas_event = function () {\n",
       "    // Tell IPython that the notebook contents must change.\n",
       "    IPython.notebook.set_dirty(true);\n",
       "    this.send_message('ack', {});\n",
       "    var fig = this;\n",
       "    // Wait a second, then push the new image to the DOM so\n",
       "    // that it is saved nicely (might be nice to debounce this).\n",
       "    setTimeout(function () {\n",
       "        fig.push_to_output();\n",
       "    }, 1000);\n",
       "};\n",
       "\n",
       "mpl.figure.prototype._init_toolbar = function () {\n",
       "    var fig = this;\n",
       "\n",
       "    var toolbar = document.createElement('div');\n",
       "    toolbar.classList = 'btn-toolbar';\n",
       "    this.root.appendChild(toolbar);\n",
       "\n",
       "    function on_click_closure(name) {\n",
       "        return function (_event) {\n",
       "            return fig.toolbar_button_onclick(name);\n",
       "        };\n",
       "    }\n",
       "\n",
       "    function on_mouseover_closure(tooltip) {\n",
       "        return function (event) {\n",
       "            if (!event.currentTarget.disabled) {\n",
       "                return fig.toolbar_button_onmouseover(tooltip);\n",
       "            }\n",
       "        };\n",
       "    }\n",
       "\n",
       "    fig.buttons = {};\n",
       "    var buttonGroup = document.createElement('div');\n",
       "    buttonGroup.classList = 'btn-group';\n",
       "    var button;\n",
       "    for (var toolbar_ind in mpl.toolbar_items) {\n",
       "        var name = mpl.toolbar_items[toolbar_ind][0];\n",
       "        var tooltip = mpl.toolbar_items[toolbar_ind][1];\n",
       "        var image = mpl.toolbar_items[toolbar_ind][2];\n",
       "        var method_name = mpl.toolbar_items[toolbar_ind][3];\n",
       "\n",
       "        if (!name) {\n",
       "            /* Instead of a spacer, we start a new button group. */\n",
       "            if (buttonGroup.hasChildNodes()) {\n",
       "                toolbar.appendChild(buttonGroup);\n",
       "            }\n",
       "            buttonGroup = document.createElement('div');\n",
       "            buttonGroup.classList = 'btn-group';\n",
       "            continue;\n",
       "        }\n",
       "\n",
       "        button = fig.buttons[name] = document.createElement('button');\n",
       "        button.classList = 'btn btn-default';\n",
       "        button.href = '#';\n",
       "        button.title = name;\n",
       "        button.innerHTML = '<i class=\"fa ' + image + ' fa-lg\"></i>';\n",
       "        button.addEventListener('click', on_click_closure(method_name));\n",
       "        button.addEventListener('mouseover', on_mouseover_closure(tooltip));\n",
       "        buttonGroup.appendChild(button);\n",
       "    }\n",
       "\n",
       "    if (buttonGroup.hasChildNodes()) {\n",
       "        toolbar.appendChild(buttonGroup);\n",
       "    }\n",
       "\n",
       "    // Add the status bar.\n",
       "    var status_bar = document.createElement('span');\n",
       "    status_bar.classList = 'mpl-message pull-right';\n",
       "    toolbar.appendChild(status_bar);\n",
       "    this.message = status_bar;\n",
       "\n",
       "    // Add the close button to the window.\n",
       "    var buttongrp = document.createElement('div');\n",
       "    buttongrp.classList = 'btn-group inline pull-right';\n",
       "    button = document.createElement('button');\n",
       "    button.classList = 'btn btn-mini btn-primary';\n",
       "    button.href = '#';\n",
       "    button.title = 'Stop Interaction';\n",
       "    button.innerHTML = '<i class=\"fa fa-power-off icon-remove icon-large\"></i>';\n",
       "    button.addEventListener('click', function (_evt) {\n",
       "        fig.handle_close(fig, {});\n",
       "    });\n",
       "    button.addEventListener(\n",
       "        'mouseover',\n",
       "        on_mouseover_closure('Stop Interaction')\n",
       "    );\n",
       "    buttongrp.appendChild(button);\n",
       "    var titlebar = this.root.querySelector('.ui-dialog-titlebar');\n",
       "    titlebar.insertBefore(buttongrp, titlebar.firstChild);\n",
       "};\n",
       "\n",
       "mpl.figure.prototype._remove_fig_handler = function (event) {\n",
       "    var fig = event.data.fig;\n",
       "    if (event.target !== this) {\n",
       "        // Ignore bubbled events from children.\n",
       "        return;\n",
       "    }\n",
       "    fig.close_ws(fig, {});\n",
       "};\n",
       "\n",
       "mpl.figure.prototype._root_extra_style = function (el) {\n",
       "    el.style.boxSizing = 'content-box'; // override notebook setting of border-box.\n",
       "};\n",
       "\n",
       "mpl.figure.prototype._canvas_extra_style = function (el) {\n",
       "    // this is important to make the div 'focusable\n",
       "    el.setAttribute('tabindex', 0);\n",
       "    // reach out to IPython and tell the keyboard manager to turn it's self\n",
       "    // off when our div gets focus\n",
       "\n",
       "    // location in version 3\n",
       "    if (IPython.notebook.keyboard_manager) {\n",
       "        IPython.notebook.keyboard_manager.register_events(el);\n",
       "    } else {\n",
       "        // location in version 2\n",
       "        IPython.keyboard_manager.register_events(el);\n",
       "    }\n",
       "};\n",
       "\n",
       "mpl.figure.prototype._key_event_extra = function (event, _name) {\n",
       "    // Check for shift+enter\n",
       "    if (event.shiftKey && event.which === 13) {\n",
       "        this.canvas_div.blur();\n",
       "        // select the cell after this one\n",
       "        var index = IPython.notebook.find_cell_index(this.cell_info[0]);\n",
       "        IPython.notebook.select(index + 1);\n",
       "    }\n",
       "};\n",
       "\n",
       "mpl.figure.prototype.handle_save = function (fig, _msg) {\n",
       "    fig.ondownload(fig, null);\n",
       "};\n",
       "\n",
       "mpl.find_output_cell = function (html_output) {\n",
       "    // Return the cell and output element which can be found *uniquely* in the notebook.\n",
       "    // Note - this is a bit hacky, but it is done because the \"notebook_saving.Notebook\"\n",
       "    // IPython event is triggered only after the cells have been serialised, which for\n",
       "    // our purposes (turning an active figure into a static one), is too late.\n",
       "    var cells = IPython.notebook.get_cells();\n",
       "    var ncells = cells.length;\n",
       "    for (var i = 0; i < ncells; i++) {\n",
       "        var cell = cells[i];\n",
       "        if (cell.cell_type === 'code') {\n",
       "            for (var j = 0; j < cell.output_area.outputs.length; j++) {\n",
       "                var data = cell.output_area.outputs[j];\n",
       "                if (data.data) {\n",
       "                    // IPython >= 3 moved mimebundle to data attribute of output\n",
       "                    data = data.data;\n",
       "                }\n",
       "                if (data['text/html'] === html_output) {\n",
       "                    return [cell, data, j];\n",
       "                }\n",
       "            }\n",
       "        }\n",
       "    }\n",
       "};\n",
       "\n",
       "// Register the function which deals with the matplotlib target/channel.\n",
       "// The kernel may be null if the page has been refreshed.\n",
       "if (IPython.notebook.kernel !== null) {\n",
       "    IPython.notebook.kernel.comm_manager.register_target(\n",
       "        'matplotlib',\n",
       "        mpl.mpl_figure_comm\n",
       "    );\n",
       "}\n"
      ],
      "text/plain": [
       "<IPython.core.display.Javascript object>"
      ]
     },
     "metadata": {},
     "output_type": "display_data"
    },
    {
     "data": {
      "text/html": [
       "<div id='b6938fb7-5cd3-4519-9281-b91d4ab2f225'></div>"
      ],
      "text/plain": [
       "<IPython.core.display.HTML object>"
      ]
     },
     "metadata": {},
     "output_type": "display_data"
    },
    {
     "data": {
      "application/javascript": [
       "/* Put everything inside the global mpl namespace */\n",
       "/* global mpl */\n",
       "window.mpl = {};\n",
       "\n",
       "mpl.get_websocket_type = function () {\n",
       "    if (typeof WebSocket !== 'undefined') {\n",
       "        return WebSocket;\n",
       "    } else if (typeof MozWebSocket !== 'undefined') {\n",
       "        return MozWebSocket;\n",
       "    } else {\n",
       "        alert(\n",
       "            'Your browser does not have WebSocket support. ' +\n",
       "                'Please try Chrome, Safari or Firefox ≥ 6. ' +\n",
       "                'Firefox 4 and 5 are also supported but you ' +\n",
       "                'have to enable WebSockets in about:config.'\n",
       "        );\n",
       "    }\n",
       "};\n",
       "\n",
       "mpl.figure = function (figure_id, websocket, ondownload, parent_element) {\n",
       "    this.id = figure_id;\n",
       "\n",
       "    this.ws = websocket;\n",
       "\n",
       "    this.supports_binary = this.ws.binaryType !== undefined;\n",
       "\n",
       "    if (!this.supports_binary) {\n",
       "        var warnings = document.getElementById('mpl-warnings');\n",
       "        if (warnings) {\n",
       "            warnings.style.display = 'block';\n",
       "            warnings.textContent =\n",
       "                'This browser does not support binary websocket messages. ' +\n",
       "                'Performance may be slow.';\n",
       "        }\n",
       "    }\n",
       "\n",
       "    this.imageObj = new Image();\n",
       "\n",
       "    this.context = undefined;\n",
       "    this.message = undefined;\n",
       "    this.canvas = undefined;\n",
       "    this.rubberband_canvas = undefined;\n",
       "    this.rubberband_context = undefined;\n",
       "    this.format_dropdown = undefined;\n",
       "\n",
       "    this.image_mode = 'full';\n",
       "\n",
       "    this.root = document.createElement('div');\n",
       "    this.root.setAttribute('style', 'display: inline-block');\n",
       "    this._root_extra_style(this.root);\n",
       "\n",
       "    parent_element.appendChild(this.root);\n",
       "\n",
       "    this._init_header(this);\n",
       "    this._init_canvas(this);\n",
       "    this._init_toolbar(this);\n",
       "\n",
       "    var fig = this;\n",
       "\n",
       "    this.waiting = false;\n",
       "\n",
       "    this.ws.onopen = function () {\n",
       "        fig.send_message('supports_binary', { value: fig.supports_binary });\n",
       "        fig.send_message('send_image_mode', {});\n",
       "        if (fig.ratio !== 1) {\n",
       "            fig.send_message('set_device_pixel_ratio', {\n",
       "                device_pixel_ratio: fig.ratio,\n",
       "            });\n",
       "        }\n",
       "        fig.send_message('refresh', {});\n",
       "    };\n",
       "\n",
       "    this.imageObj.onload = function () {\n",
       "        if (fig.image_mode === 'full') {\n",
       "            // Full images could contain transparency (where diff images\n",
       "            // almost always do), so we need to clear the canvas so that\n",
       "            // there is no ghosting.\n",
       "            fig.context.clearRect(0, 0, fig.canvas.width, fig.canvas.height);\n",
       "        }\n",
       "        fig.context.drawImage(fig.imageObj, 0, 0);\n",
       "    };\n",
       "\n",
       "    this.imageObj.onunload = function () {\n",
       "        fig.ws.close();\n",
       "    };\n",
       "\n",
       "    this.ws.onmessage = this._make_on_message_function(this);\n",
       "\n",
       "    this.ondownload = ondownload;\n",
       "};\n",
       "\n",
       "mpl.figure.prototype._init_header = function () {\n",
       "    var titlebar = document.createElement('div');\n",
       "    titlebar.classList =\n",
       "        'ui-dialog-titlebar ui-widget-header ui-corner-all ui-helper-clearfix';\n",
       "    var titletext = document.createElement('div');\n",
       "    titletext.classList = 'ui-dialog-title';\n",
       "    titletext.setAttribute(\n",
       "        'style',\n",
       "        'width: 100%; text-align: center; padding: 3px;'\n",
       "    );\n",
       "    titlebar.appendChild(titletext);\n",
       "    this.root.appendChild(titlebar);\n",
       "    this.header = titletext;\n",
       "};\n",
       "\n",
       "mpl.figure.prototype._canvas_extra_style = function (_canvas_div) {};\n",
       "\n",
       "mpl.figure.prototype._root_extra_style = function (_canvas_div) {};\n",
       "\n",
       "mpl.figure.prototype._init_canvas = function () {\n",
       "    var fig = this;\n",
       "\n",
       "    var canvas_div = (this.canvas_div = document.createElement('div'));\n",
       "    canvas_div.setAttribute('tabindex', '0');\n",
       "    canvas_div.setAttribute(\n",
       "        'style',\n",
       "        'border: 1px solid #ddd;' +\n",
       "            'box-sizing: content-box;' +\n",
       "            'clear: both;' +\n",
       "            'min-height: 1px;' +\n",
       "            'min-width: 1px;' +\n",
       "            'outline: 0;' +\n",
       "            'overflow: hidden;' +\n",
       "            'position: relative;' +\n",
       "            'resize: both;' +\n",
       "            'z-index: 2;'\n",
       "    );\n",
       "\n",
       "    function on_keyboard_event_closure(name) {\n",
       "        return function (event) {\n",
       "            return fig.key_event(event, name);\n",
       "        };\n",
       "    }\n",
       "\n",
       "    canvas_div.addEventListener(\n",
       "        'keydown',\n",
       "        on_keyboard_event_closure('key_press')\n",
       "    );\n",
       "    canvas_div.addEventListener(\n",
       "        'keyup',\n",
       "        on_keyboard_event_closure('key_release')\n",
       "    );\n",
       "\n",
       "    this._canvas_extra_style(canvas_div);\n",
       "    this.root.appendChild(canvas_div);\n",
       "\n",
       "    var canvas = (this.canvas = document.createElement('canvas'));\n",
       "    canvas.classList.add('mpl-canvas');\n",
       "    canvas.setAttribute(\n",
       "        'style',\n",
       "        'box-sizing: content-box;' +\n",
       "            'pointer-events: none;' +\n",
       "            'position: relative;' +\n",
       "            'z-index: 0;'\n",
       "    );\n",
       "\n",
       "    this.context = canvas.getContext('2d');\n",
       "\n",
       "    var backingStore =\n",
       "        this.context.backingStorePixelRatio ||\n",
       "        this.context.webkitBackingStorePixelRatio ||\n",
       "        this.context.mozBackingStorePixelRatio ||\n",
       "        this.context.msBackingStorePixelRatio ||\n",
       "        this.context.oBackingStorePixelRatio ||\n",
       "        this.context.backingStorePixelRatio ||\n",
       "        1;\n",
       "\n",
       "    this.ratio = (window.devicePixelRatio || 1) / backingStore;\n",
       "\n",
       "    var rubberband_canvas = (this.rubberband_canvas = document.createElement(\n",
       "        'canvas'\n",
       "    ));\n",
       "    rubberband_canvas.setAttribute(\n",
       "        'style',\n",
       "        'box-sizing: content-box;' +\n",
       "            'left: 0;' +\n",
       "            'pointer-events: none;' +\n",
       "            'position: absolute;' +\n",
       "            'top: 0;' +\n",
       "            'z-index: 1;'\n",
       "    );\n",
       "\n",
       "    // Apply a ponyfill if ResizeObserver is not implemented by browser.\n",
       "    if (this.ResizeObserver === undefined) {\n",
       "        if (window.ResizeObserver !== undefined) {\n",
       "            this.ResizeObserver = window.ResizeObserver;\n",
       "        } else {\n",
       "            var obs = _JSXTOOLS_RESIZE_OBSERVER({});\n",
       "            this.ResizeObserver = obs.ResizeObserver;\n",
       "        }\n",
       "    }\n",
       "\n",
       "    this.resizeObserverInstance = new this.ResizeObserver(function (entries) {\n",
       "        var nentries = entries.length;\n",
       "        for (var i = 0; i < nentries; i++) {\n",
       "            var entry = entries[i];\n",
       "            var width, height;\n",
       "            if (entry.contentBoxSize) {\n",
       "                if (entry.contentBoxSize instanceof Array) {\n",
       "                    // Chrome 84 implements new version of spec.\n",
       "                    width = entry.contentBoxSize[0].inlineSize;\n",
       "                    height = entry.contentBoxSize[0].blockSize;\n",
       "                } else {\n",
       "                    // Firefox implements old version of spec.\n",
       "                    width = entry.contentBoxSize.inlineSize;\n",
       "                    height = entry.contentBoxSize.blockSize;\n",
       "                }\n",
       "            } else {\n",
       "                // Chrome <84 implements even older version of spec.\n",
       "                width = entry.contentRect.width;\n",
       "                height = entry.contentRect.height;\n",
       "            }\n",
       "\n",
       "            // Keep the size of the canvas and rubber band canvas in sync with\n",
       "            // the canvas container.\n",
       "            if (entry.devicePixelContentBoxSize) {\n",
       "                // Chrome 84 implements new version of spec.\n",
       "                canvas.setAttribute(\n",
       "                    'width',\n",
       "                    entry.devicePixelContentBoxSize[0].inlineSize\n",
       "                );\n",
       "                canvas.setAttribute(\n",
       "                    'height',\n",
       "                    entry.devicePixelContentBoxSize[0].blockSize\n",
       "                );\n",
       "            } else {\n",
       "                canvas.setAttribute('width', width * fig.ratio);\n",
       "                canvas.setAttribute('height', height * fig.ratio);\n",
       "            }\n",
       "            /* This rescales the canvas back to display pixels, so that it\n",
       "             * appears correct on HiDPI screens. */\n",
       "            canvas.style.width = width + 'px';\n",
       "            canvas.style.height = height + 'px';\n",
       "\n",
       "            rubberband_canvas.setAttribute('width', width);\n",
       "            rubberband_canvas.setAttribute('height', height);\n",
       "\n",
       "            // And update the size in Python. We ignore the initial 0/0 size\n",
       "            // that occurs as the element is placed into the DOM, which should\n",
       "            // otherwise not happen due to the minimum size styling.\n",
       "            if (fig.ws.readyState == 1 && width != 0 && height != 0) {\n",
       "                fig.request_resize(width, height);\n",
       "            }\n",
       "        }\n",
       "    });\n",
       "    this.resizeObserverInstance.observe(canvas_div);\n",
       "\n",
       "    function on_mouse_event_closure(name) {\n",
       "        /* User Agent sniffing is bad, but WebKit is busted:\n",
       "         * https://bugs.webkit.org/show_bug.cgi?id=144526\n",
       "         * https://bugs.webkit.org/show_bug.cgi?id=181818\n",
       "         * The worst that happens here is that they get an extra browser\n",
       "         * selection when dragging, if this check fails to catch them.\n",
       "         */\n",
       "        var UA = navigator.userAgent;\n",
       "        var isWebKit = /AppleWebKit/.test(UA) && !/Chrome/.test(UA);\n",
       "        if(isWebKit) {\n",
       "            return function (event) {\n",
       "                /* This prevents the web browser from automatically changing to\n",
       "                 * the text insertion cursor when the button is pressed. We\n",
       "                 * want to control all of the cursor setting manually through\n",
       "                 * the 'cursor' event from matplotlib */\n",
       "                event.preventDefault()\n",
       "                return fig.mouse_event(event, name);\n",
       "            };\n",
       "        } else {\n",
       "            return function (event) {\n",
       "                return fig.mouse_event(event, name);\n",
       "            };\n",
       "        }\n",
       "    }\n",
       "\n",
       "    canvas_div.addEventListener(\n",
       "        'mousedown',\n",
       "        on_mouse_event_closure('button_press')\n",
       "    );\n",
       "    canvas_div.addEventListener(\n",
       "        'mouseup',\n",
       "        on_mouse_event_closure('button_release')\n",
       "    );\n",
       "    canvas_div.addEventListener(\n",
       "        'dblclick',\n",
       "        on_mouse_event_closure('dblclick')\n",
       "    );\n",
       "    // Throttle sequential mouse events to 1 every 20ms.\n",
       "    canvas_div.addEventListener(\n",
       "        'mousemove',\n",
       "        on_mouse_event_closure('motion_notify')\n",
       "    );\n",
       "\n",
       "    canvas_div.addEventListener(\n",
       "        'mouseenter',\n",
       "        on_mouse_event_closure('figure_enter')\n",
       "    );\n",
       "    canvas_div.addEventListener(\n",
       "        'mouseleave',\n",
       "        on_mouse_event_closure('figure_leave')\n",
       "    );\n",
       "\n",
       "    canvas_div.addEventListener('wheel', function (event) {\n",
       "        if (event.deltaY < 0) {\n",
       "            event.step = 1;\n",
       "        } else {\n",
       "            event.step = -1;\n",
       "        }\n",
       "        on_mouse_event_closure('scroll')(event);\n",
       "    });\n",
       "\n",
       "    canvas_div.appendChild(canvas);\n",
       "    canvas_div.appendChild(rubberband_canvas);\n",
       "\n",
       "    this.rubberband_context = rubberband_canvas.getContext('2d');\n",
       "    this.rubberband_context.strokeStyle = '#000000';\n",
       "\n",
       "    this._resize_canvas = function (width, height, forward) {\n",
       "        if (forward) {\n",
       "            canvas_div.style.width = width + 'px';\n",
       "            canvas_div.style.height = height + 'px';\n",
       "        }\n",
       "    };\n",
       "\n",
       "    // Disable right mouse context menu.\n",
       "    canvas_div.addEventListener('contextmenu', function (_e) {\n",
       "        event.preventDefault();\n",
       "        return false;\n",
       "    });\n",
       "\n",
       "    function set_focus() {\n",
       "        canvas.focus();\n",
       "        canvas_div.focus();\n",
       "    }\n",
       "\n",
       "    window.setTimeout(set_focus, 100);\n",
       "};\n",
       "\n",
       "mpl.figure.prototype._init_toolbar = function () {\n",
       "    var fig = this;\n",
       "\n",
       "    var toolbar = document.createElement('div');\n",
       "    toolbar.classList = 'mpl-toolbar';\n",
       "    this.root.appendChild(toolbar);\n",
       "\n",
       "    function on_click_closure(name) {\n",
       "        return function (_event) {\n",
       "            return fig.toolbar_button_onclick(name);\n",
       "        };\n",
       "    }\n",
       "\n",
       "    function on_mouseover_closure(tooltip) {\n",
       "        return function (event) {\n",
       "            if (!event.currentTarget.disabled) {\n",
       "                return fig.toolbar_button_onmouseover(tooltip);\n",
       "            }\n",
       "        };\n",
       "    }\n",
       "\n",
       "    fig.buttons = {};\n",
       "    var buttonGroup = document.createElement('div');\n",
       "    buttonGroup.classList = 'mpl-button-group';\n",
       "    for (var toolbar_ind in mpl.toolbar_items) {\n",
       "        var name = mpl.toolbar_items[toolbar_ind][0];\n",
       "        var tooltip = mpl.toolbar_items[toolbar_ind][1];\n",
       "        var image = mpl.toolbar_items[toolbar_ind][2];\n",
       "        var method_name = mpl.toolbar_items[toolbar_ind][3];\n",
       "\n",
       "        if (!name) {\n",
       "            /* Instead of a spacer, we start a new button group. */\n",
       "            if (buttonGroup.hasChildNodes()) {\n",
       "                toolbar.appendChild(buttonGroup);\n",
       "            }\n",
       "            buttonGroup = document.createElement('div');\n",
       "            buttonGroup.classList = 'mpl-button-group';\n",
       "            continue;\n",
       "        }\n",
       "\n",
       "        var button = (fig.buttons[name] = document.createElement('button'));\n",
       "        button.classList = 'mpl-widget';\n",
       "        button.setAttribute('role', 'button');\n",
       "        button.setAttribute('aria-disabled', 'false');\n",
       "        button.addEventListener('click', on_click_closure(method_name));\n",
       "        button.addEventListener('mouseover', on_mouseover_closure(tooltip));\n",
       "\n",
       "        var icon_img = document.createElement('img');\n",
       "        icon_img.src = '_images/' + image + '.png';\n",
       "        icon_img.srcset = '_images/' + image + '_large.png 2x';\n",
       "        icon_img.alt = tooltip;\n",
       "        button.appendChild(icon_img);\n",
       "\n",
       "        buttonGroup.appendChild(button);\n",
       "    }\n",
       "\n",
       "    if (buttonGroup.hasChildNodes()) {\n",
       "        toolbar.appendChild(buttonGroup);\n",
       "    }\n",
       "\n",
       "    var fmt_picker = document.createElement('select');\n",
       "    fmt_picker.classList = 'mpl-widget';\n",
       "    toolbar.appendChild(fmt_picker);\n",
       "    this.format_dropdown = fmt_picker;\n",
       "\n",
       "    for (var ind in mpl.extensions) {\n",
       "        var fmt = mpl.extensions[ind];\n",
       "        var option = document.createElement('option');\n",
       "        option.selected = fmt === mpl.default_extension;\n",
       "        option.innerHTML = fmt;\n",
       "        fmt_picker.appendChild(option);\n",
       "    }\n",
       "\n",
       "    var status_bar = document.createElement('span');\n",
       "    status_bar.classList = 'mpl-message';\n",
       "    toolbar.appendChild(status_bar);\n",
       "    this.message = status_bar;\n",
       "};\n",
       "\n",
       "mpl.figure.prototype.request_resize = function (x_pixels, y_pixels) {\n",
       "    // Request matplotlib to resize the figure. Matplotlib will then trigger a resize in the client,\n",
       "    // which will in turn request a refresh of the image.\n",
       "    this.send_message('resize', { width: x_pixels, height: y_pixels });\n",
       "};\n",
       "\n",
       "mpl.figure.prototype.send_message = function (type, properties) {\n",
       "    properties['type'] = type;\n",
       "    properties['figure_id'] = this.id;\n",
       "    this.ws.send(JSON.stringify(properties));\n",
       "};\n",
       "\n",
       "mpl.figure.prototype.send_draw_message = function () {\n",
       "    if (!this.waiting) {\n",
       "        this.waiting = true;\n",
       "        this.ws.send(JSON.stringify({ type: 'draw', figure_id: this.id }));\n",
       "    }\n",
       "};\n",
       "\n",
       "mpl.figure.prototype.handle_save = function (fig, _msg) {\n",
       "    var format_dropdown = fig.format_dropdown;\n",
       "    var format = format_dropdown.options[format_dropdown.selectedIndex].value;\n",
       "    fig.ondownload(fig, format);\n",
       "};\n",
       "\n",
       "mpl.figure.prototype.handle_resize = function (fig, msg) {\n",
       "    var size = msg['size'];\n",
       "    if (size[0] !== fig.canvas.width || size[1] !== fig.canvas.height) {\n",
       "        fig._resize_canvas(size[0], size[1], msg['forward']);\n",
       "        fig.send_message('refresh', {});\n",
       "    }\n",
       "};\n",
       "\n",
       "mpl.figure.prototype.handle_rubberband = function (fig, msg) {\n",
       "    var x0 = msg['x0'] / fig.ratio;\n",
       "    var y0 = (fig.canvas.height - msg['y0']) / fig.ratio;\n",
       "    var x1 = msg['x1'] / fig.ratio;\n",
       "    var y1 = (fig.canvas.height - msg['y1']) / fig.ratio;\n",
       "    x0 = Math.floor(x0) + 0.5;\n",
       "    y0 = Math.floor(y0) + 0.5;\n",
       "    x1 = Math.floor(x1) + 0.5;\n",
       "    y1 = Math.floor(y1) + 0.5;\n",
       "    var min_x = Math.min(x0, x1);\n",
       "    var min_y = Math.min(y0, y1);\n",
       "    var width = Math.abs(x1 - x0);\n",
       "    var height = Math.abs(y1 - y0);\n",
       "\n",
       "    fig.rubberband_context.clearRect(\n",
       "        0,\n",
       "        0,\n",
       "        fig.canvas.width / fig.ratio,\n",
       "        fig.canvas.height / fig.ratio\n",
       "    );\n",
       "\n",
       "    fig.rubberband_context.strokeRect(min_x, min_y, width, height);\n",
       "};\n",
       "\n",
       "mpl.figure.prototype.handle_figure_label = function (fig, msg) {\n",
       "    // Updates the figure title.\n",
       "    fig.header.textContent = msg['label'];\n",
       "};\n",
       "\n",
       "mpl.figure.prototype.handle_cursor = function (fig, msg) {\n",
       "    fig.canvas_div.style.cursor = msg['cursor'];\n",
       "};\n",
       "\n",
       "mpl.figure.prototype.handle_message = function (fig, msg) {\n",
       "    fig.message.textContent = msg['message'];\n",
       "};\n",
       "\n",
       "mpl.figure.prototype.handle_draw = function (fig, _msg) {\n",
       "    // Request the server to send over a new figure.\n",
       "    fig.send_draw_message();\n",
       "};\n",
       "\n",
       "mpl.figure.prototype.handle_image_mode = function (fig, msg) {\n",
       "    fig.image_mode = msg['mode'];\n",
       "};\n",
       "\n",
       "mpl.figure.prototype.handle_history_buttons = function (fig, msg) {\n",
       "    for (var key in msg) {\n",
       "        if (!(key in fig.buttons)) {\n",
       "            continue;\n",
       "        }\n",
       "        fig.buttons[key].disabled = !msg[key];\n",
       "        fig.buttons[key].setAttribute('aria-disabled', !msg[key]);\n",
       "    }\n",
       "};\n",
       "\n",
       "mpl.figure.prototype.handle_navigate_mode = function (fig, msg) {\n",
       "    if (msg['mode'] === 'PAN') {\n",
       "        fig.buttons['Pan'].classList.add('active');\n",
       "        fig.buttons['Zoom'].classList.remove('active');\n",
       "    } else if (msg['mode'] === 'ZOOM') {\n",
       "        fig.buttons['Pan'].classList.remove('active');\n",
       "        fig.buttons['Zoom'].classList.add('active');\n",
       "    } else {\n",
       "        fig.buttons['Pan'].classList.remove('active');\n",
       "        fig.buttons['Zoom'].classList.remove('active');\n",
       "    }\n",
       "};\n",
       "\n",
       "mpl.figure.prototype.updated_canvas_event = function () {\n",
       "    // Called whenever the canvas gets updated.\n",
       "    this.send_message('ack', {});\n",
       "};\n",
       "\n",
       "// A function to construct a web socket function for onmessage handling.\n",
       "// Called in the figure constructor.\n",
       "mpl.figure.prototype._make_on_message_function = function (fig) {\n",
       "    return function socket_on_message(evt) {\n",
       "        if (evt.data instanceof Blob) {\n",
       "            var img = evt.data;\n",
       "            if (img.type !== 'image/png') {\n",
       "                /* FIXME: We get \"Resource interpreted as Image but\n",
       "                 * transferred with MIME type text/plain:\" errors on\n",
       "                 * Chrome.  But how to set the MIME type?  It doesn't seem\n",
       "                 * to be part of the websocket stream */\n",
       "                img.type = 'image/png';\n",
       "            }\n",
       "\n",
       "            /* Free the memory for the previous frames */\n",
       "            if (fig.imageObj.src) {\n",
       "                (window.URL || window.webkitURL).revokeObjectURL(\n",
       "                    fig.imageObj.src\n",
       "                );\n",
       "            }\n",
       "\n",
       "            fig.imageObj.src = (window.URL || window.webkitURL).createObjectURL(\n",
       "                img\n",
       "            );\n",
       "            fig.updated_canvas_event();\n",
       "            fig.waiting = false;\n",
       "            return;\n",
       "        } else if (\n",
       "            typeof evt.data === 'string' &&\n",
       "            evt.data.slice(0, 21) === 'data:image/png;base64'\n",
       "        ) {\n",
       "            fig.imageObj.src = evt.data;\n",
       "            fig.updated_canvas_event();\n",
       "            fig.waiting = false;\n",
       "            return;\n",
       "        }\n",
       "\n",
       "        var msg = JSON.parse(evt.data);\n",
       "        var msg_type = msg['type'];\n",
       "\n",
       "        // Call the  \"handle_{type}\" callback, which takes\n",
       "        // the figure and JSON message as its only arguments.\n",
       "        try {\n",
       "            var callback = fig['handle_' + msg_type];\n",
       "        } catch (e) {\n",
       "            console.log(\n",
       "                \"No handler for the '\" + msg_type + \"' message type: \",\n",
       "                msg\n",
       "            );\n",
       "            return;\n",
       "        }\n",
       "\n",
       "        if (callback) {\n",
       "            try {\n",
       "                // console.log(\"Handling '\" + msg_type + \"' message: \", msg);\n",
       "                callback(fig, msg);\n",
       "            } catch (e) {\n",
       "                console.log(\n",
       "                    \"Exception inside the 'handler_\" + msg_type + \"' callback:\",\n",
       "                    e,\n",
       "                    e.stack,\n",
       "                    msg\n",
       "                );\n",
       "            }\n",
       "        }\n",
       "    };\n",
       "};\n",
       "\n",
       "function getModifiers(event) {\n",
       "    var mods = [];\n",
       "    if (event.ctrlKey) {\n",
       "        mods.push('ctrl');\n",
       "    }\n",
       "    if (event.altKey) {\n",
       "        mods.push('alt');\n",
       "    }\n",
       "    if (event.shiftKey) {\n",
       "        mods.push('shift');\n",
       "    }\n",
       "    if (event.metaKey) {\n",
       "        mods.push('meta');\n",
       "    }\n",
       "    return mods;\n",
       "}\n",
       "\n",
       "/*\n",
       " * return a copy of an object with only non-object keys\n",
       " * we need this to avoid circular references\n",
       " * https://stackoverflow.com/a/24161582/3208463\n",
       " */\n",
       "function simpleKeys(original) {\n",
       "    return Object.keys(original).reduce(function (obj, key) {\n",
       "        if (typeof original[key] !== 'object') {\n",
       "            obj[key] = original[key];\n",
       "        }\n",
       "        return obj;\n",
       "    }, {});\n",
       "}\n",
       "\n",
       "mpl.figure.prototype.mouse_event = function (event, name) {\n",
       "    if (name === 'button_press') {\n",
       "        this.canvas.focus();\n",
       "        this.canvas_div.focus();\n",
       "    }\n",
       "\n",
       "    // from https://stackoverflow.com/q/1114465\n",
       "    var boundingRect = this.canvas.getBoundingClientRect();\n",
       "    var x = (event.clientX - boundingRect.left) * this.ratio;\n",
       "    var y = (event.clientY - boundingRect.top) * this.ratio;\n",
       "\n",
       "    this.send_message(name, {\n",
       "        x: x,\n",
       "        y: y,\n",
       "        button: event.button,\n",
       "        step: event.step,\n",
       "        modifiers: getModifiers(event),\n",
       "        guiEvent: simpleKeys(event),\n",
       "    });\n",
       "\n",
       "    return false;\n",
       "};\n",
       "\n",
       "mpl.figure.prototype._key_event_extra = function (_event, _name) {\n",
       "    // Handle any extra behaviour associated with a key event\n",
       "};\n",
       "\n",
       "mpl.figure.prototype.key_event = function (event, name) {\n",
       "    // Prevent repeat events\n",
       "    if (name === 'key_press') {\n",
       "        if (event.key === this._key) {\n",
       "            return;\n",
       "        } else {\n",
       "            this._key = event.key;\n",
       "        }\n",
       "    }\n",
       "    if (name === 'key_release') {\n",
       "        this._key = null;\n",
       "    }\n",
       "\n",
       "    var value = '';\n",
       "    if (event.ctrlKey && event.key !== 'Control') {\n",
       "        value += 'ctrl+';\n",
       "    }\n",
       "    else if (event.altKey && event.key !== 'Alt') {\n",
       "        value += 'alt+';\n",
       "    }\n",
       "    else if (event.shiftKey && event.key !== 'Shift') {\n",
       "        value += 'shift+';\n",
       "    }\n",
       "\n",
       "    value += 'k' + event.key;\n",
       "\n",
       "    this._key_event_extra(event, name);\n",
       "\n",
       "    this.send_message(name, { key: value, guiEvent: simpleKeys(event) });\n",
       "    return false;\n",
       "};\n",
       "\n",
       "mpl.figure.prototype.toolbar_button_onclick = function (name) {\n",
       "    if (name === 'download') {\n",
       "        this.handle_save(this, null);\n",
       "    } else {\n",
       "        this.send_message('toolbar_button', { name: name });\n",
       "    }\n",
       "};\n",
       "\n",
       "mpl.figure.prototype.toolbar_button_onmouseover = function (tooltip) {\n",
       "    this.message.textContent = tooltip;\n",
       "};\n",
       "\n",
       "///////////////// REMAINING CONTENT GENERATED BY embed_js.py /////////////////\n",
       "// prettier-ignore\n",
       "var _JSXTOOLS_RESIZE_OBSERVER=function(A){var t,i=new WeakMap,n=new WeakMap,a=new WeakMap,r=new WeakMap,o=new Set;function s(e){if(!(this instanceof s))throw new TypeError(\"Constructor requires 'new' operator\");i.set(this,e)}function h(){throw new TypeError(\"Function is not a constructor\")}function c(e,t,i,n){e=0 in arguments?Number(arguments[0]):0,t=1 in arguments?Number(arguments[1]):0,i=2 in arguments?Number(arguments[2]):0,n=3 in arguments?Number(arguments[3]):0,this.right=(this.x=this.left=e)+(this.width=i),this.bottom=(this.y=this.top=t)+(this.height=n),Object.freeze(this)}function d(){t=requestAnimationFrame(d);var s=new WeakMap,p=new Set;o.forEach((function(t){r.get(t).forEach((function(i){var r=t instanceof window.SVGElement,o=a.get(t),d=r?0:parseFloat(o.paddingTop),f=r?0:parseFloat(o.paddingRight),l=r?0:parseFloat(o.paddingBottom),u=r?0:parseFloat(o.paddingLeft),g=r?0:parseFloat(o.borderTopWidth),m=r?0:parseFloat(o.borderRightWidth),w=r?0:parseFloat(o.borderBottomWidth),b=u+f,F=d+l,v=(r?0:parseFloat(o.borderLeftWidth))+m,W=g+w,y=r?0:t.offsetHeight-W-t.clientHeight,E=r?0:t.offsetWidth-v-t.clientWidth,R=b+v,z=F+W,M=r?t.width:parseFloat(o.width)-R-E,O=r?t.height:parseFloat(o.height)-z-y;if(n.has(t)){var k=n.get(t);if(k[0]===M&&k[1]===O)return}n.set(t,[M,O]);var S=Object.create(h.prototype);S.target=t,S.contentRect=new c(u,d,M,O),s.has(i)||(s.set(i,[]),p.add(i)),s.get(i).push(S)}))})),p.forEach((function(e){i.get(e).call(e,s.get(e),e)}))}return s.prototype.observe=function(i){if(i instanceof window.Element){r.has(i)||(r.set(i,new Set),o.add(i),a.set(i,window.getComputedStyle(i)));var n=r.get(i);n.has(this)||n.add(this),cancelAnimationFrame(t),t=requestAnimationFrame(d)}},s.prototype.unobserve=function(i){if(i instanceof window.Element&&r.has(i)){var n=r.get(i);n.has(this)&&(n.delete(this),n.size||(r.delete(i),o.delete(i))),n.size||r.delete(i),o.size||cancelAnimationFrame(t)}},A.DOMRectReadOnly=c,A.ResizeObserver=s,A.ResizeObserverEntry=h,A}; // eslint-disable-line\n",
       "mpl.toolbar_items = [[\"Home\", \"Reset original view\", \"fa fa-home\", \"home\"], [\"Back\", \"Back to previous view\", \"fa fa-arrow-left\", \"back\"], [\"Forward\", \"Forward to next view\", \"fa fa-arrow-right\", \"forward\"], [\"\", \"\", \"\", \"\"], [\"Pan\", \"Left button pans, Right button zooms\\nx/y fixes axis, CTRL fixes aspect\", \"fa fa-arrows\", \"pan\"], [\"Zoom\", \"Zoom to rectangle\\nx/y fixes axis\", \"fa fa-square-o\", \"zoom\"], [\"\", \"\", \"\", \"\"], [\"Download\", \"Download plot\", \"fa fa-floppy-o\", \"download\"]];\n",
       "\n",
       "mpl.extensions = [\"eps\", \"jpeg\", \"pgf\", \"pdf\", \"png\", \"ps\", \"raw\", \"svg\", \"tif\", \"webp\"];\n",
       "\n",
       "mpl.default_extension = \"png\";/* global mpl */\n",
       "\n",
       "var comm_websocket_adapter = function (comm) {\n",
       "    // Create a \"websocket\"-like object which calls the given IPython comm\n",
       "    // object with the appropriate methods. Currently this is a non binary\n",
       "    // socket, so there is still some room for performance tuning.\n",
       "    var ws = {};\n",
       "\n",
       "    ws.binaryType = comm.kernel.ws.binaryType;\n",
       "    ws.readyState = comm.kernel.ws.readyState;\n",
       "    function updateReadyState(_event) {\n",
       "        if (comm.kernel.ws) {\n",
       "            ws.readyState = comm.kernel.ws.readyState;\n",
       "        } else {\n",
       "            ws.readyState = 3; // Closed state.\n",
       "        }\n",
       "    }\n",
       "    comm.kernel.ws.addEventListener('open', updateReadyState);\n",
       "    comm.kernel.ws.addEventListener('close', updateReadyState);\n",
       "    comm.kernel.ws.addEventListener('error', updateReadyState);\n",
       "\n",
       "    ws.close = function () {\n",
       "        comm.close();\n",
       "    };\n",
       "    ws.send = function (m) {\n",
       "        //console.log('sending', m);\n",
       "        comm.send(m);\n",
       "    };\n",
       "    // Register the callback with on_msg.\n",
       "    comm.on_msg(function (msg) {\n",
       "        //console.log('receiving', msg['content']['data'], msg);\n",
       "        var data = msg['content']['data'];\n",
       "        if (data['blob'] !== undefined) {\n",
       "            data = {\n",
       "                data: new Blob(msg['buffers'], { type: data['blob'] }),\n",
       "            };\n",
       "        }\n",
       "        // Pass the mpl event to the overridden (by mpl) onmessage function.\n",
       "        ws.onmessage(data);\n",
       "    });\n",
       "    return ws;\n",
       "};\n",
       "\n",
       "mpl.mpl_figure_comm = function (comm, msg) {\n",
       "    // This is the function which gets called when the mpl process\n",
       "    // starts-up an IPython Comm through the \"matplotlib\" channel.\n",
       "\n",
       "    var id = msg.content.data.id;\n",
       "    // Get hold of the div created by the display call when the Comm\n",
       "    // socket was opened in Python.\n",
       "    var element = document.getElementById(id);\n",
       "    var ws_proxy = comm_websocket_adapter(comm);\n",
       "\n",
       "    function ondownload(figure, _format) {\n",
       "        window.open(figure.canvas.toDataURL());\n",
       "    }\n",
       "\n",
       "    var fig = new mpl.figure(id, ws_proxy, ondownload, element);\n",
       "\n",
       "    // Call onopen now - mpl needs it, as it is assuming we've passed it a real\n",
       "    // web socket which is closed, not our websocket->open comm proxy.\n",
       "    ws_proxy.onopen();\n",
       "\n",
       "    fig.parent_element = element;\n",
       "    fig.cell_info = mpl.find_output_cell(\"<div id='\" + id + \"'></div>\");\n",
       "    if (!fig.cell_info) {\n",
       "        console.error('Failed to find cell for figure', id, fig);\n",
       "        return;\n",
       "    }\n",
       "    fig.cell_info[0].output_area.element.on(\n",
       "        'cleared',\n",
       "        { fig: fig },\n",
       "        fig._remove_fig_handler\n",
       "    );\n",
       "};\n",
       "\n",
       "mpl.figure.prototype.handle_close = function (fig, msg) {\n",
       "    var width = fig.canvas.width / fig.ratio;\n",
       "    fig.cell_info[0].output_area.element.off(\n",
       "        'cleared',\n",
       "        fig._remove_fig_handler\n",
       "    );\n",
       "    fig.resizeObserverInstance.unobserve(fig.canvas_div);\n",
       "\n",
       "    // Update the output cell to use the data from the current canvas.\n",
       "    fig.push_to_output();\n",
       "    var dataURL = fig.canvas.toDataURL();\n",
       "    // Re-enable the keyboard manager in IPython - without this line, in FF,\n",
       "    // the notebook keyboard shortcuts fail.\n",
       "    IPython.keyboard_manager.enable();\n",
       "    fig.parent_element.innerHTML =\n",
       "        '<img src=\"' + dataURL + '\" width=\"' + width + '\">';\n",
       "    fig.close_ws(fig, msg);\n",
       "};\n",
       "\n",
       "mpl.figure.prototype.close_ws = function (fig, msg) {\n",
       "    fig.send_message('closing', msg);\n",
       "    // fig.ws.close()\n",
       "};\n",
       "\n",
       "mpl.figure.prototype.push_to_output = function (_remove_interactive) {\n",
       "    // Turn the data on the canvas into data in the output cell.\n",
       "    var width = this.canvas.width / this.ratio;\n",
       "    var dataURL = this.canvas.toDataURL();\n",
       "    this.cell_info[1]['text/html'] =\n",
       "        '<img src=\"' + dataURL + '\" width=\"' + width + '\">';\n",
       "};\n",
       "\n",
       "mpl.figure.prototype.updated_canvas_event = function () {\n",
       "    // Tell IPython that the notebook contents must change.\n",
       "    IPython.notebook.set_dirty(true);\n",
       "    this.send_message('ack', {});\n",
       "    var fig = this;\n",
       "    // Wait a second, then push the new image to the DOM so\n",
       "    // that it is saved nicely (might be nice to debounce this).\n",
       "    setTimeout(function () {\n",
       "        fig.push_to_output();\n",
       "    }, 1000);\n",
       "};\n",
       "\n",
       "mpl.figure.prototype._init_toolbar = function () {\n",
       "    var fig = this;\n",
       "\n",
       "    var toolbar = document.createElement('div');\n",
       "    toolbar.classList = 'btn-toolbar';\n",
       "    this.root.appendChild(toolbar);\n",
       "\n",
       "    function on_click_closure(name) {\n",
       "        return function (_event) {\n",
       "            return fig.toolbar_button_onclick(name);\n",
       "        };\n",
       "    }\n",
       "\n",
       "    function on_mouseover_closure(tooltip) {\n",
       "        return function (event) {\n",
       "            if (!event.currentTarget.disabled) {\n",
       "                return fig.toolbar_button_onmouseover(tooltip);\n",
       "            }\n",
       "        };\n",
       "    }\n",
       "\n",
       "    fig.buttons = {};\n",
       "    var buttonGroup = document.createElement('div');\n",
       "    buttonGroup.classList = 'btn-group';\n",
       "    var button;\n",
       "    for (var toolbar_ind in mpl.toolbar_items) {\n",
       "        var name = mpl.toolbar_items[toolbar_ind][0];\n",
       "        var tooltip = mpl.toolbar_items[toolbar_ind][1];\n",
       "        var image = mpl.toolbar_items[toolbar_ind][2];\n",
       "        var method_name = mpl.toolbar_items[toolbar_ind][3];\n",
       "\n",
       "        if (!name) {\n",
       "            /* Instead of a spacer, we start a new button group. */\n",
       "            if (buttonGroup.hasChildNodes()) {\n",
       "                toolbar.appendChild(buttonGroup);\n",
       "            }\n",
       "            buttonGroup = document.createElement('div');\n",
       "            buttonGroup.classList = 'btn-group';\n",
       "            continue;\n",
       "        }\n",
       "\n",
       "        button = fig.buttons[name] = document.createElement('button');\n",
       "        button.classList = 'btn btn-default';\n",
       "        button.href = '#';\n",
       "        button.title = name;\n",
       "        button.innerHTML = '<i class=\"fa ' + image + ' fa-lg\"></i>';\n",
       "        button.addEventListener('click', on_click_closure(method_name));\n",
       "        button.addEventListener('mouseover', on_mouseover_closure(tooltip));\n",
       "        buttonGroup.appendChild(button);\n",
       "    }\n",
       "\n",
       "    if (buttonGroup.hasChildNodes()) {\n",
       "        toolbar.appendChild(buttonGroup);\n",
       "    }\n",
       "\n",
       "    // Add the status bar.\n",
       "    var status_bar = document.createElement('span');\n",
       "    status_bar.classList = 'mpl-message pull-right';\n",
       "    toolbar.appendChild(status_bar);\n",
       "    this.message = status_bar;\n",
       "\n",
       "    // Add the close button to the window.\n",
       "    var buttongrp = document.createElement('div');\n",
       "    buttongrp.classList = 'btn-group inline pull-right';\n",
       "    button = document.createElement('button');\n",
       "    button.classList = 'btn btn-mini btn-primary';\n",
       "    button.href = '#';\n",
       "    button.title = 'Stop Interaction';\n",
       "    button.innerHTML = '<i class=\"fa fa-power-off icon-remove icon-large\"></i>';\n",
       "    button.addEventListener('click', function (_evt) {\n",
       "        fig.handle_close(fig, {});\n",
       "    });\n",
       "    button.addEventListener(\n",
       "        'mouseover',\n",
       "        on_mouseover_closure('Stop Interaction')\n",
       "    );\n",
       "    buttongrp.appendChild(button);\n",
       "    var titlebar = this.root.querySelector('.ui-dialog-titlebar');\n",
       "    titlebar.insertBefore(buttongrp, titlebar.firstChild);\n",
       "};\n",
       "\n",
       "mpl.figure.prototype._remove_fig_handler = function (event) {\n",
       "    var fig = event.data.fig;\n",
       "    if (event.target !== this) {\n",
       "        // Ignore bubbled events from children.\n",
       "        return;\n",
       "    }\n",
       "    fig.close_ws(fig, {});\n",
       "};\n",
       "\n",
       "mpl.figure.prototype._root_extra_style = function (el) {\n",
       "    el.style.boxSizing = 'content-box'; // override notebook setting of border-box.\n",
       "};\n",
       "\n",
       "mpl.figure.prototype._canvas_extra_style = function (el) {\n",
       "    // this is important to make the div 'focusable\n",
       "    el.setAttribute('tabindex', 0);\n",
       "    // reach out to IPython and tell the keyboard manager to turn it's self\n",
       "    // off when our div gets focus\n",
       "\n",
       "    // location in version 3\n",
       "    if (IPython.notebook.keyboard_manager) {\n",
       "        IPython.notebook.keyboard_manager.register_events(el);\n",
       "    } else {\n",
       "        // location in version 2\n",
       "        IPython.keyboard_manager.register_events(el);\n",
       "    }\n",
       "};\n",
       "\n",
       "mpl.figure.prototype._key_event_extra = function (event, _name) {\n",
       "    // Check for shift+enter\n",
       "    if (event.shiftKey && event.which === 13) {\n",
       "        this.canvas_div.blur();\n",
       "        // select the cell after this one\n",
       "        var index = IPython.notebook.find_cell_index(this.cell_info[0]);\n",
       "        IPython.notebook.select(index + 1);\n",
       "    }\n",
       "};\n",
       "\n",
       "mpl.figure.prototype.handle_save = function (fig, _msg) {\n",
       "    fig.ondownload(fig, null);\n",
       "};\n",
       "\n",
       "mpl.find_output_cell = function (html_output) {\n",
       "    // Return the cell and output element which can be found *uniquely* in the notebook.\n",
       "    // Note - this is a bit hacky, but it is done because the \"notebook_saving.Notebook\"\n",
       "    // IPython event is triggered only after the cells have been serialised, which for\n",
       "    // our purposes (turning an active figure into a static one), is too late.\n",
       "    var cells = IPython.notebook.get_cells();\n",
       "    var ncells = cells.length;\n",
       "    for (var i = 0; i < ncells; i++) {\n",
       "        var cell = cells[i];\n",
       "        if (cell.cell_type === 'code') {\n",
       "            for (var j = 0; j < cell.output_area.outputs.length; j++) {\n",
       "                var data = cell.output_area.outputs[j];\n",
       "                if (data.data) {\n",
       "                    // IPython >= 3 moved mimebundle to data attribute of output\n",
       "                    data = data.data;\n",
       "                }\n",
       "                if (data['text/html'] === html_output) {\n",
       "                    return [cell, data, j];\n",
       "                }\n",
       "            }\n",
       "        }\n",
       "    }\n",
       "};\n",
       "\n",
       "// Register the function which deals with the matplotlib target/channel.\n",
       "// The kernel may be null if the page has been refreshed.\n",
       "if (IPython.notebook.kernel !== null) {\n",
       "    IPython.notebook.kernel.comm_manager.register_target(\n",
       "        'matplotlib',\n",
       "        mpl.mpl_figure_comm\n",
       "    );\n",
       "}\n"
      ],
      "text/plain": [
       "<IPython.core.display.Javascript object>"
      ]
     },
     "metadata": {},
     "output_type": "display_data"
    },
    {
     "data": {
      "text/html": [
       "<div id='8fb5c47a-444e-4d9d-9829-f19e9502a614'></div>"
      ],
      "text/plain": [
       "<IPython.core.display.HTML object>"
      ]
     },
     "metadata": {},
     "output_type": "display_data"
    },
    {
     "name": "stderr",
     "output_type": "stream",
     "text": [
      "WARNING:pyFAI.geometry.core:Azimuthal range issue: Range [-1.5707963267948966, 3.159045946109736] not in valid region [-π; π[ in radians: Expect partial results !\n"
     ]
    },
    {
     "data": {
      "application/javascript": [
       "/* Put everything inside the global mpl namespace */\n",
       "/* global mpl */\n",
       "window.mpl = {};\n",
       "\n",
       "mpl.get_websocket_type = function () {\n",
       "    if (typeof WebSocket !== 'undefined') {\n",
       "        return WebSocket;\n",
       "    } else if (typeof MozWebSocket !== 'undefined') {\n",
       "        return MozWebSocket;\n",
       "    } else {\n",
       "        alert(\n",
       "            'Your browser does not have WebSocket support. ' +\n",
       "                'Please try Chrome, Safari or Firefox ≥ 6. ' +\n",
       "                'Firefox 4 and 5 are also supported but you ' +\n",
       "                'have to enable WebSockets in about:config.'\n",
       "        );\n",
       "    }\n",
       "};\n",
       "\n",
       "mpl.figure = function (figure_id, websocket, ondownload, parent_element) {\n",
       "    this.id = figure_id;\n",
       "\n",
       "    this.ws = websocket;\n",
       "\n",
       "    this.supports_binary = this.ws.binaryType !== undefined;\n",
       "\n",
       "    if (!this.supports_binary) {\n",
       "        var warnings = document.getElementById('mpl-warnings');\n",
       "        if (warnings) {\n",
       "            warnings.style.display = 'block';\n",
       "            warnings.textContent =\n",
       "                'This browser does not support binary websocket messages. ' +\n",
       "                'Performance may be slow.';\n",
       "        }\n",
       "    }\n",
       "\n",
       "    this.imageObj = new Image();\n",
       "\n",
       "    this.context = undefined;\n",
       "    this.message = undefined;\n",
       "    this.canvas = undefined;\n",
       "    this.rubberband_canvas = undefined;\n",
       "    this.rubberband_context = undefined;\n",
       "    this.format_dropdown = undefined;\n",
       "\n",
       "    this.image_mode = 'full';\n",
       "\n",
       "    this.root = document.createElement('div');\n",
       "    this.root.setAttribute('style', 'display: inline-block');\n",
       "    this._root_extra_style(this.root);\n",
       "\n",
       "    parent_element.appendChild(this.root);\n",
       "\n",
       "    this._init_header(this);\n",
       "    this._init_canvas(this);\n",
       "    this._init_toolbar(this);\n",
       "\n",
       "    var fig = this;\n",
       "\n",
       "    this.waiting = false;\n",
       "\n",
       "    this.ws.onopen = function () {\n",
       "        fig.send_message('supports_binary', { value: fig.supports_binary });\n",
       "        fig.send_message('send_image_mode', {});\n",
       "        if (fig.ratio !== 1) {\n",
       "            fig.send_message('set_device_pixel_ratio', {\n",
       "                device_pixel_ratio: fig.ratio,\n",
       "            });\n",
       "        }\n",
       "        fig.send_message('refresh', {});\n",
       "    };\n",
       "\n",
       "    this.imageObj.onload = function () {\n",
       "        if (fig.image_mode === 'full') {\n",
       "            // Full images could contain transparency (where diff images\n",
       "            // almost always do), so we need to clear the canvas so that\n",
       "            // there is no ghosting.\n",
       "            fig.context.clearRect(0, 0, fig.canvas.width, fig.canvas.height);\n",
       "        }\n",
       "        fig.context.drawImage(fig.imageObj, 0, 0);\n",
       "    };\n",
       "\n",
       "    this.imageObj.onunload = function () {\n",
       "        fig.ws.close();\n",
       "    };\n",
       "\n",
       "    this.ws.onmessage = this._make_on_message_function(this);\n",
       "\n",
       "    this.ondownload = ondownload;\n",
       "};\n",
       "\n",
       "mpl.figure.prototype._init_header = function () {\n",
       "    var titlebar = document.createElement('div');\n",
       "    titlebar.classList =\n",
       "        'ui-dialog-titlebar ui-widget-header ui-corner-all ui-helper-clearfix';\n",
       "    var titletext = document.createElement('div');\n",
       "    titletext.classList = 'ui-dialog-title';\n",
       "    titletext.setAttribute(\n",
       "        'style',\n",
       "        'width: 100%; text-align: center; padding: 3px;'\n",
       "    );\n",
       "    titlebar.appendChild(titletext);\n",
       "    this.root.appendChild(titlebar);\n",
       "    this.header = titletext;\n",
       "};\n",
       "\n",
       "mpl.figure.prototype._canvas_extra_style = function (_canvas_div) {};\n",
       "\n",
       "mpl.figure.prototype._root_extra_style = function (_canvas_div) {};\n",
       "\n",
       "mpl.figure.prototype._init_canvas = function () {\n",
       "    var fig = this;\n",
       "\n",
       "    var canvas_div = (this.canvas_div = document.createElement('div'));\n",
       "    canvas_div.setAttribute('tabindex', '0');\n",
       "    canvas_div.setAttribute(\n",
       "        'style',\n",
       "        'border: 1px solid #ddd;' +\n",
       "            'box-sizing: content-box;' +\n",
       "            'clear: both;' +\n",
       "            'min-height: 1px;' +\n",
       "            'min-width: 1px;' +\n",
       "            'outline: 0;' +\n",
       "            'overflow: hidden;' +\n",
       "            'position: relative;' +\n",
       "            'resize: both;' +\n",
       "            'z-index: 2;'\n",
       "    );\n",
       "\n",
       "    function on_keyboard_event_closure(name) {\n",
       "        return function (event) {\n",
       "            return fig.key_event(event, name);\n",
       "        };\n",
       "    }\n",
       "\n",
       "    canvas_div.addEventListener(\n",
       "        'keydown',\n",
       "        on_keyboard_event_closure('key_press')\n",
       "    );\n",
       "    canvas_div.addEventListener(\n",
       "        'keyup',\n",
       "        on_keyboard_event_closure('key_release')\n",
       "    );\n",
       "\n",
       "    this._canvas_extra_style(canvas_div);\n",
       "    this.root.appendChild(canvas_div);\n",
       "\n",
       "    var canvas = (this.canvas = document.createElement('canvas'));\n",
       "    canvas.classList.add('mpl-canvas');\n",
       "    canvas.setAttribute(\n",
       "        'style',\n",
       "        'box-sizing: content-box;' +\n",
       "            'pointer-events: none;' +\n",
       "            'position: relative;' +\n",
       "            'z-index: 0;'\n",
       "    );\n",
       "\n",
       "    this.context = canvas.getContext('2d');\n",
       "\n",
       "    var backingStore =\n",
       "        this.context.backingStorePixelRatio ||\n",
       "        this.context.webkitBackingStorePixelRatio ||\n",
       "        this.context.mozBackingStorePixelRatio ||\n",
       "        this.context.msBackingStorePixelRatio ||\n",
       "        this.context.oBackingStorePixelRatio ||\n",
       "        this.context.backingStorePixelRatio ||\n",
       "        1;\n",
       "\n",
       "    this.ratio = (window.devicePixelRatio || 1) / backingStore;\n",
       "\n",
       "    var rubberband_canvas = (this.rubberband_canvas = document.createElement(\n",
       "        'canvas'\n",
       "    ));\n",
       "    rubberband_canvas.setAttribute(\n",
       "        'style',\n",
       "        'box-sizing: content-box;' +\n",
       "            'left: 0;' +\n",
       "            'pointer-events: none;' +\n",
       "            'position: absolute;' +\n",
       "            'top: 0;' +\n",
       "            'z-index: 1;'\n",
       "    );\n",
       "\n",
       "    // Apply a ponyfill if ResizeObserver is not implemented by browser.\n",
       "    if (this.ResizeObserver === undefined) {\n",
       "        if (window.ResizeObserver !== undefined) {\n",
       "            this.ResizeObserver = window.ResizeObserver;\n",
       "        } else {\n",
       "            var obs = _JSXTOOLS_RESIZE_OBSERVER({});\n",
       "            this.ResizeObserver = obs.ResizeObserver;\n",
       "        }\n",
       "    }\n",
       "\n",
       "    this.resizeObserverInstance = new this.ResizeObserver(function (entries) {\n",
       "        var nentries = entries.length;\n",
       "        for (var i = 0; i < nentries; i++) {\n",
       "            var entry = entries[i];\n",
       "            var width, height;\n",
       "            if (entry.contentBoxSize) {\n",
       "                if (entry.contentBoxSize instanceof Array) {\n",
       "                    // Chrome 84 implements new version of spec.\n",
       "                    width = entry.contentBoxSize[0].inlineSize;\n",
       "                    height = entry.contentBoxSize[0].blockSize;\n",
       "                } else {\n",
       "                    // Firefox implements old version of spec.\n",
       "                    width = entry.contentBoxSize.inlineSize;\n",
       "                    height = entry.contentBoxSize.blockSize;\n",
       "                }\n",
       "            } else {\n",
       "                // Chrome <84 implements even older version of spec.\n",
       "                width = entry.contentRect.width;\n",
       "                height = entry.contentRect.height;\n",
       "            }\n",
       "\n",
       "            // Keep the size of the canvas and rubber band canvas in sync with\n",
       "            // the canvas container.\n",
       "            if (entry.devicePixelContentBoxSize) {\n",
       "                // Chrome 84 implements new version of spec.\n",
       "                canvas.setAttribute(\n",
       "                    'width',\n",
       "                    entry.devicePixelContentBoxSize[0].inlineSize\n",
       "                );\n",
       "                canvas.setAttribute(\n",
       "                    'height',\n",
       "                    entry.devicePixelContentBoxSize[0].blockSize\n",
       "                );\n",
       "            } else {\n",
       "                canvas.setAttribute('width', width * fig.ratio);\n",
       "                canvas.setAttribute('height', height * fig.ratio);\n",
       "            }\n",
       "            /* This rescales the canvas back to display pixels, so that it\n",
       "             * appears correct on HiDPI screens. */\n",
       "            canvas.style.width = width + 'px';\n",
       "            canvas.style.height = height + 'px';\n",
       "\n",
       "            rubberband_canvas.setAttribute('width', width);\n",
       "            rubberband_canvas.setAttribute('height', height);\n",
       "\n",
       "            // And update the size in Python. We ignore the initial 0/0 size\n",
       "            // that occurs as the element is placed into the DOM, which should\n",
       "            // otherwise not happen due to the minimum size styling.\n",
       "            if (fig.ws.readyState == 1 && width != 0 && height != 0) {\n",
       "                fig.request_resize(width, height);\n",
       "            }\n",
       "        }\n",
       "    });\n",
       "    this.resizeObserverInstance.observe(canvas_div);\n",
       "\n",
       "    function on_mouse_event_closure(name) {\n",
       "        /* User Agent sniffing is bad, but WebKit is busted:\n",
       "         * https://bugs.webkit.org/show_bug.cgi?id=144526\n",
       "         * https://bugs.webkit.org/show_bug.cgi?id=181818\n",
       "         * The worst that happens here is that they get an extra browser\n",
       "         * selection when dragging, if this check fails to catch them.\n",
       "         */\n",
       "        var UA = navigator.userAgent;\n",
       "        var isWebKit = /AppleWebKit/.test(UA) && !/Chrome/.test(UA);\n",
       "        if(isWebKit) {\n",
       "            return function (event) {\n",
       "                /* This prevents the web browser from automatically changing to\n",
       "                 * the text insertion cursor when the button is pressed. We\n",
       "                 * want to control all of the cursor setting manually through\n",
       "                 * the 'cursor' event from matplotlib */\n",
       "                event.preventDefault()\n",
       "                return fig.mouse_event(event, name);\n",
       "            };\n",
       "        } else {\n",
       "            return function (event) {\n",
       "                return fig.mouse_event(event, name);\n",
       "            };\n",
       "        }\n",
       "    }\n",
       "\n",
       "    canvas_div.addEventListener(\n",
       "        'mousedown',\n",
       "        on_mouse_event_closure('button_press')\n",
       "    );\n",
       "    canvas_div.addEventListener(\n",
       "        'mouseup',\n",
       "        on_mouse_event_closure('button_release')\n",
       "    );\n",
       "    canvas_div.addEventListener(\n",
       "        'dblclick',\n",
       "        on_mouse_event_closure('dblclick')\n",
       "    );\n",
       "    // Throttle sequential mouse events to 1 every 20ms.\n",
       "    canvas_div.addEventListener(\n",
       "        'mousemove',\n",
       "        on_mouse_event_closure('motion_notify')\n",
       "    );\n",
       "\n",
       "    canvas_div.addEventListener(\n",
       "        'mouseenter',\n",
       "        on_mouse_event_closure('figure_enter')\n",
       "    );\n",
       "    canvas_div.addEventListener(\n",
       "        'mouseleave',\n",
       "        on_mouse_event_closure('figure_leave')\n",
       "    );\n",
       "\n",
       "    canvas_div.addEventListener('wheel', function (event) {\n",
       "        if (event.deltaY < 0) {\n",
       "            event.step = 1;\n",
       "        } else {\n",
       "            event.step = -1;\n",
       "        }\n",
       "        on_mouse_event_closure('scroll')(event);\n",
       "    });\n",
       "\n",
       "    canvas_div.appendChild(canvas);\n",
       "    canvas_div.appendChild(rubberband_canvas);\n",
       "\n",
       "    this.rubberband_context = rubberband_canvas.getContext('2d');\n",
       "    this.rubberband_context.strokeStyle = '#000000';\n",
       "\n",
       "    this._resize_canvas = function (width, height, forward) {\n",
       "        if (forward) {\n",
       "            canvas_div.style.width = width + 'px';\n",
       "            canvas_div.style.height = height + 'px';\n",
       "        }\n",
       "    };\n",
       "\n",
       "    // Disable right mouse context menu.\n",
       "    canvas_div.addEventListener('contextmenu', function (_e) {\n",
       "        event.preventDefault();\n",
       "        return false;\n",
       "    });\n",
       "\n",
       "    function set_focus() {\n",
       "        canvas.focus();\n",
       "        canvas_div.focus();\n",
       "    }\n",
       "\n",
       "    window.setTimeout(set_focus, 100);\n",
       "};\n",
       "\n",
       "mpl.figure.prototype._init_toolbar = function () {\n",
       "    var fig = this;\n",
       "\n",
       "    var toolbar = document.createElement('div');\n",
       "    toolbar.classList = 'mpl-toolbar';\n",
       "    this.root.appendChild(toolbar);\n",
       "\n",
       "    function on_click_closure(name) {\n",
       "        return function (_event) {\n",
       "            return fig.toolbar_button_onclick(name);\n",
       "        };\n",
       "    }\n",
       "\n",
       "    function on_mouseover_closure(tooltip) {\n",
       "        return function (event) {\n",
       "            if (!event.currentTarget.disabled) {\n",
       "                return fig.toolbar_button_onmouseover(tooltip);\n",
       "            }\n",
       "        };\n",
       "    }\n",
       "\n",
       "    fig.buttons = {};\n",
       "    var buttonGroup = document.createElement('div');\n",
       "    buttonGroup.classList = 'mpl-button-group';\n",
       "    for (var toolbar_ind in mpl.toolbar_items) {\n",
       "        var name = mpl.toolbar_items[toolbar_ind][0];\n",
       "        var tooltip = mpl.toolbar_items[toolbar_ind][1];\n",
       "        var image = mpl.toolbar_items[toolbar_ind][2];\n",
       "        var method_name = mpl.toolbar_items[toolbar_ind][3];\n",
       "\n",
       "        if (!name) {\n",
       "            /* Instead of a spacer, we start a new button group. */\n",
       "            if (buttonGroup.hasChildNodes()) {\n",
       "                toolbar.appendChild(buttonGroup);\n",
       "            }\n",
       "            buttonGroup = document.createElement('div');\n",
       "            buttonGroup.classList = 'mpl-button-group';\n",
       "            continue;\n",
       "        }\n",
       "\n",
       "        var button = (fig.buttons[name] = document.createElement('button'));\n",
       "        button.classList = 'mpl-widget';\n",
       "        button.setAttribute('role', 'button');\n",
       "        button.setAttribute('aria-disabled', 'false');\n",
       "        button.addEventListener('click', on_click_closure(method_name));\n",
       "        button.addEventListener('mouseover', on_mouseover_closure(tooltip));\n",
       "\n",
       "        var icon_img = document.createElement('img');\n",
       "        icon_img.src = '_images/' + image + '.png';\n",
       "        icon_img.srcset = '_images/' + image + '_large.png 2x';\n",
       "        icon_img.alt = tooltip;\n",
       "        button.appendChild(icon_img);\n",
       "\n",
       "        buttonGroup.appendChild(button);\n",
       "    }\n",
       "\n",
       "    if (buttonGroup.hasChildNodes()) {\n",
       "        toolbar.appendChild(buttonGroup);\n",
       "    }\n",
       "\n",
       "    var fmt_picker = document.createElement('select');\n",
       "    fmt_picker.classList = 'mpl-widget';\n",
       "    toolbar.appendChild(fmt_picker);\n",
       "    this.format_dropdown = fmt_picker;\n",
       "\n",
       "    for (var ind in mpl.extensions) {\n",
       "        var fmt = mpl.extensions[ind];\n",
       "        var option = document.createElement('option');\n",
       "        option.selected = fmt === mpl.default_extension;\n",
       "        option.innerHTML = fmt;\n",
       "        fmt_picker.appendChild(option);\n",
       "    }\n",
       "\n",
       "    var status_bar = document.createElement('span');\n",
       "    status_bar.classList = 'mpl-message';\n",
       "    toolbar.appendChild(status_bar);\n",
       "    this.message = status_bar;\n",
       "};\n",
       "\n",
       "mpl.figure.prototype.request_resize = function (x_pixels, y_pixels) {\n",
       "    // Request matplotlib to resize the figure. Matplotlib will then trigger a resize in the client,\n",
       "    // which will in turn request a refresh of the image.\n",
       "    this.send_message('resize', { width: x_pixels, height: y_pixels });\n",
       "};\n",
       "\n",
       "mpl.figure.prototype.send_message = function (type, properties) {\n",
       "    properties['type'] = type;\n",
       "    properties['figure_id'] = this.id;\n",
       "    this.ws.send(JSON.stringify(properties));\n",
       "};\n",
       "\n",
       "mpl.figure.prototype.send_draw_message = function () {\n",
       "    if (!this.waiting) {\n",
       "        this.waiting = true;\n",
       "        this.ws.send(JSON.stringify({ type: 'draw', figure_id: this.id }));\n",
       "    }\n",
       "};\n",
       "\n",
       "mpl.figure.prototype.handle_save = function (fig, _msg) {\n",
       "    var format_dropdown = fig.format_dropdown;\n",
       "    var format = format_dropdown.options[format_dropdown.selectedIndex].value;\n",
       "    fig.ondownload(fig, format);\n",
       "};\n",
       "\n",
       "mpl.figure.prototype.handle_resize = function (fig, msg) {\n",
       "    var size = msg['size'];\n",
       "    if (size[0] !== fig.canvas.width || size[1] !== fig.canvas.height) {\n",
       "        fig._resize_canvas(size[0], size[1], msg['forward']);\n",
       "        fig.send_message('refresh', {});\n",
       "    }\n",
       "};\n",
       "\n",
       "mpl.figure.prototype.handle_rubberband = function (fig, msg) {\n",
       "    var x0 = msg['x0'] / fig.ratio;\n",
       "    var y0 = (fig.canvas.height - msg['y0']) / fig.ratio;\n",
       "    var x1 = msg['x1'] / fig.ratio;\n",
       "    var y1 = (fig.canvas.height - msg['y1']) / fig.ratio;\n",
       "    x0 = Math.floor(x0) + 0.5;\n",
       "    y0 = Math.floor(y0) + 0.5;\n",
       "    x1 = Math.floor(x1) + 0.5;\n",
       "    y1 = Math.floor(y1) + 0.5;\n",
       "    var min_x = Math.min(x0, x1);\n",
       "    var min_y = Math.min(y0, y1);\n",
       "    var width = Math.abs(x1 - x0);\n",
       "    var height = Math.abs(y1 - y0);\n",
       "\n",
       "    fig.rubberband_context.clearRect(\n",
       "        0,\n",
       "        0,\n",
       "        fig.canvas.width / fig.ratio,\n",
       "        fig.canvas.height / fig.ratio\n",
       "    );\n",
       "\n",
       "    fig.rubberband_context.strokeRect(min_x, min_y, width, height);\n",
       "};\n",
       "\n",
       "mpl.figure.prototype.handle_figure_label = function (fig, msg) {\n",
       "    // Updates the figure title.\n",
       "    fig.header.textContent = msg['label'];\n",
       "};\n",
       "\n",
       "mpl.figure.prototype.handle_cursor = function (fig, msg) {\n",
       "    fig.canvas_div.style.cursor = msg['cursor'];\n",
       "};\n",
       "\n",
       "mpl.figure.prototype.handle_message = function (fig, msg) {\n",
       "    fig.message.textContent = msg['message'];\n",
       "};\n",
       "\n",
       "mpl.figure.prototype.handle_draw = function (fig, _msg) {\n",
       "    // Request the server to send over a new figure.\n",
       "    fig.send_draw_message();\n",
       "};\n",
       "\n",
       "mpl.figure.prototype.handle_image_mode = function (fig, msg) {\n",
       "    fig.image_mode = msg['mode'];\n",
       "};\n",
       "\n",
       "mpl.figure.prototype.handle_history_buttons = function (fig, msg) {\n",
       "    for (var key in msg) {\n",
       "        if (!(key in fig.buttons)) {\n",
       "            continue;\n",
       "        }\n",
       "        fig.buttons[key].disabled = !msg[key];\n",
       "        fig.buttons[key].setAttribute('aria-disabled', !msg[key]);\n",
       "    }\n",
       "};\n",
       "\n",
       "mpl.figure.prototype.handle_navigate_mode = function (fig, msg) {\n",
       "    if (msg['mode'] === 'PAN') {\n",
       "        fig.buttons['Pan'].classList.add('active');\n",
       "        fig.buttons['Zoom'].classList.remove('active');\n",
       "    } else if (msg['mode'] === 'ZOOM') {\n",
       "        fig.buttons['Pan'].classList.remove('active');\n",
       "        fig.buttons['Zoom'].classList.add('active');\n",
       "    } else {\n",
       "        fig.buttons['Pan'].classList.remove('active');\n",
       "        fig.buttons['Zoom'].classList.remove('active');\n",
       "    }\n",
       "};\n",
       "\n",
       "mpl.figure.prototype.updated_canvas_event = function () {\n",
       "    // Called whenever the canvas gets updated.\n",
       "    this.send_message('ack', {});\n",
       "};\n",
       "\n",
       "// A function to construct a web socket function for onmessage handling.\n",
       "// Called in the figure constructor.\n",
       "mpl.figure.prototype._make_on_message_function = function (fig) {\n",
       "    return function socket_on_message(evt) {\n",
       "        if (evt.data instanceof Blob) {\n",
       "            var img = evt.data;\n",
       "            if (img.type !== 'image/png') {\n",
       "                /* FIXME: We get \"Resource interpreted as Image but\n",
       "                 * transferred with MIME type text/plain:\" errors on\n",
       "                 * Chrome.  But how to set the MIME type?  It doesn't seem\n",
       "                 * to be part of the websocket stream */\n",
       "                img.type = 'image/png';\n",
       "            }\n",
       "\n",
       "            /* Free the memory for the previous frames */\n",
       "            if (fig.imageObj.src) {\n",
       "                (window.URL || window.webkitURL).revokeObjectURL(\n",
       "                    fig.imageObj.src\n",
       "                );\n",
       "            }\n",
       "\n",
       "            fig.imageObj.src = (window.URL || window.webkitURL).createObjectURL(\n",
       "                img\n",
       "            );\n",
       "            fig.updated_canvas_event();\n",
       "            fig.waiting = false;\n",
       "            return;\n",
       "        } else if (\n",
       "            typeof evt.data === 'string' &&\n",
       "            evt.data.slice(0, 21) === 'data:image/png;base64'\n",
       "        ) {\n",
       "            fig.imageObj.src = evt.data;\n",
       "            fig.updated_canvas_event();\n",
       "            fig.waiting = false;\n",
       "            return;\n",
       "        }\n",
       "\n",
       "        var msg = JSON.parse(evt.data);\n",
       "        var msg_type = msg['type'];\n",
       "\n",
       "        // Call the  \"handle_{type}\" callback, which takes\n",
       "        // the figure and JSON message as its only arguments.\n",
       "        try {\n",
       "            var callback = fig['handle_' + msg_type];\n",
       "        } catch (e) {\n",
       "            console.log(\n",
       "                \"No handler for the '\" + msg_type + \"' message type: \",\n",
       "                msg\n",
       "            );\n",
       "            return;\n",
       "        }\n",
       "\n",
       "        if (callback) {\n",
       "            try {\n",
       "                // console.log(\"Handling '\" + msg_type + \"' message: \", msg);\n",
       "                callback(fig, msg);\n",
       "            } catch (e) {\n",
       "                console.log(\n",
       "                    \"Exception inside the 'handler_\" + msg_type + \"' callback:\",\n",
       "                    e,\n",
       "                    e.stack,\n",
       "                    msg\n",
       "                );\n",
       "            }\n",
       "        }\n",
       "    };\n",
       "};\n",
       "\n",
       "function getModifiers(event) {\n",
       "    var mods = [];\n",
       "    if (event.ctrlKey) {\n",
       "        mods.push('ctrl');\n",
       "    }\n",
       "    if (event.altKey) {\n",
       "        mods.push('alt');\n",
       "    }\n",
       "    if (event.shiftKey) {\n",
       "        mods.push('shift');\n",
       "    }\n",
       "    if (event.metaKey) {\n",
       "        mods.push('meta');\n",
       "    }\n",
       "    return mods;\n",
       "}\n",
       "\n",
       "/*\n",
       " * return a copy of an object with only non-object keys\n",
       " * we need this to avoid circular references\n",
       " * https://stackoverflow.com/a/24161582/3208463\n",
       " */\n",
       "function simpleKeys(original) {\n",
       "    return Object.keys(original).reduce(function (obj, key) {\n",
       "        if (typeof original[key] !== 'object') {\n",
       "            obj[key] = original[key];\n",
       "        }\n",
       "        return obj;\n",
       "    }, {});\n",
       "}\n",
       "\n",
       "mpl.figure.prototype.mouse_event = function (event, name) {\n",
       "    if (name === 'button_press') {\n",
       "        this.canvas.focus();\n",
       "        this.canvas_div.focus();\n",
       "    }\n",
       "\n",
       "    // from https://stackoverflow.com/q/1114465\n",
       "    var boundingRect = this.canvas.getBoundingClientRect();\n",
       "    var x = (event.clientX - boundingRect.left) * this.ratio;\n",
       "    var y = (event.clientY - boundingRect.top) * this.ratio;\n",
       "\n",
       "    this.send_message(name, {\n",
       "        x: x,\n",
       "        y: y,\n",
       "        button: event.button,\n",
       "        step: event.step,\n",
       "        modifiers: getModifiers(event),\n",
       "        guiEvent: simpleKeys(event),\n",
       "    });\n",
       "\n",
       "    return false;\n",
       "};\n",
       "\n",
       "mpl.figure.prototype._key_event_extra = function (_event, _name) {\n",
       "    // Handle any extra behaviour associated with a key event\n",
       "};\n",
       "\n",
       "mpl.figure.prototype.key_event = function (event, name) {\n",
       "    // Prevent repeat events\n",
       "    if (name === 'key_press') {\n",
       "        if (event.key === this._key) {\n",
       "            return;\n",
       "        } else {\n",
       "            this._key = event.key;\n",
       "        }\n",
       "    }\n",
       "    if (name === 'key_release') {\n",
       "        this._key = null;\n",
       "    }\n",
       "\n",
       "    var value = '';\n",
       "    if (event.ctrlKey && event.key !== 'Control') {\n",
       "        value += 'ctrl+';\n",
       "    }\n",
       "    else if (event.altKey && event.key !== 'Alt') {\n",
       "        value += 'alt+';\n",
       "    }\n",
       "    else if (event.shiftKey && event.key !== 'Shift') {\n",
       "        value += 'shift+';\n",
       "    }\n",
       "\n",
       "    value += 'k' + event.key;\n",
       "\n",
       "    this._key_event_extra(event, name);\n",
       "\n",
       "    this.send_message(name, { key: value, guiEvent: simpleKeys(event) });\n",
       "    return false;\n",
       "};\n",
       "\n",
       "mpl.figure.prototype.toolbar_button_onclick = function (name) {\n",
       "    if (name === 'download') {\n",
       "        this.handle_save(this, null);\n",
       "    } else {\n",
       "        this.send_message('toolbar_button', { name: name });\n",
       "    }\n",
       "};\n",
       "\n",
       "mpl.figure.prototype.toolbar_button_onmouseover = function (tooltip) {\n",
       "    this.message.textContent = tooltip;\n",
       "};\n",
       "\n",
       "///////////////// REMAINING CONTENT GENERATED BY embed_js.py /////////////////\n",
       "// prettier-ignore\n",
       "var _JSXTOOLS_RESIZE_OBSERVER=function(A){var t,i=new WeakMap,n=new WeakMap,a=new WeakMap,r=new WeakMap,o=new Set;function s(e){if(!(this instanceof s))throw new TypeError(\"Constructor requires 'new' operator\");i.set(this,e)}function h(){throw new TypeError(\"Function is not a constructor\")}function c(e,t,i,n){e=0 in arguments?Number(arguments[0]):0,t=1 in arguments?Number(arguments[1]):0,i=2 in arguments?Number(arguments[2]):0,n=3 in arguments?Number(arguments[3]):0,this.right=(this.x=this.left=e)+(this.width=i),this.bottom=(this.y=this.top=t)+(this.height=n),Object.freeze(this)}function d(){t=requestAnimationFrame(d);var s=new WeakMap,p=new Set;o.forEach((function(t){r.get(t).forEach((function(i){var r=t instanceof window.SVGElement,o=a.get(t),d=r?0:parseFloat(o.paddingTop),f=r?0:parseFloat(o.paddingRight),l=r?0:parseFloat(o.paddingBottom),u=r?0:parseFloat(o.paddingLeft),g=r?0:parseFloat(o.borderTopWidth),m=r?0:parseFloat(o.borderRightWidth),w=r?0:parseFloat(o.borderBottomWidth),b=u+f,F=d+l,v=(r?0:parseFloat(o.borderLeftWidth))+m,W=g+w,y=r?0:t.offsetHeight-W-t.clientHeight,E=r?0:t.offsetWidth-v-t.clientWidth,R=b+v,z=F+W,M=r?t.width:parseFloat(o.width)-R-E,O=r?t.height:parseFloat(o.height)-z-y;if(n.has(t)){var k=n.get(t);if(k[0]===M&&k[1]===O)return}n.set(t,[M,O]);var S=Object.create(h.prototype);S.target=t,S.contentRect=new c(u,d,M,O),s.has(i)||(s.set(i,[]),p.add(i)),s.get(i).push(S)}))})),p.forEach((function(e){i.get(e).call(e,s.get(e),e)}))}return s.prototype.observe=function(i){if(i instanceof window.Element){r.has(i)||(r.set(i,new Set),o.add(i),a.set(i,window.getComputedStyle(i)));var n=r.get(i);n.has(this)||n.add(this),cancelAnimationFrame(t),t=requestAnimationFrame(d)}},s.prototype.unobserve=function(i){if(i instanceof window.Element&&r.has(i)){var n=r.get(i);n.has(this)&&(n.delete(this),n.size||(r.delete(i),o.delete(i))),n.size||r.delete(i),o.size||cancelAnimationFrame(t)}},A.DOMRectReadOnly=c,A.ResizeObserver=s,A.ResizeObserverEntry=h,A}; // eslint-disable-line\n",
       "mpl.toolbar_items = [[\"Home\", \"Reset original view\", \"fa fa-home\", \"home\"], [\"Back\", \"Back to previous view\", \"fa fa-arrow-left\", \"back\"], [\"Forward\", \"Forward to next view\", \"fa fa-arrow-right\", \"forward\"], [\"\", \"\", \"\", \"\"], [\"Pan\", \"Left button pans, Right button zooms\\nx/y fixes axis, CTRL fixes aspect\", \"fa fa-arrows\", \"pan\"], [\"Zoom\", \"Zoom to rectangle\\nx/y fixes axis\", \"fa fa-square-o\", \"zoom\"], [\"\", \"\", \"\", \"\"], [\"Download\", \"Download plot\", \"fa fa-floppy-o\", \"download\"]];\n",
       "\n",
       "mpl.extensions = [\"eps\", \"jpeg\", \"pgf\", \"pdf\", \"png\", \"ps\", \"raw\", \"svg\", \"tif\", \"webp\"];\n",
       "\n",
       "mpl.default_extension = \"png\";/* global mpl */\n",
       "\n",
       "var comm_websocket_adapter = function (comm) {\n",
       "    // Create a \"websocket\"-like object which calls the given IPython comm\n",
       "    // object with the appropriate methods. Currently this is a non binary\n",
       "    // socket, so there is still some room for performance tuning.\n",
       "    var ws = {};\n",
       "\n",
       "    ws.binaryType = comm.kernel.ws.binaryType;\n",
       "    ws.readyState = comm.kernel.ws.readyState;\n",
       "    function updateReadyState(_event) {\n",
       "        if (comm.kernel.ws) {\n",
       "            ws.readyState = comm.kernel.ws.readyState;\n",
       "        } else {\n",
       "            ws.readyState = 3; // Closed state.\n",
       "        }\n",
       "    }\n",
       "    comm.kernel.ws.addEventListener('open', updateReadyState);\n",
       "    comm.kernel.ws.addEventListener('close', updateReadyState);\n",
       "    comm.kernel.ws.addEventListener('error', updateReadyState);\n",
       "\n",
       "    ws.close = function () {\n",
       "        comm.close();\n",
       "    };\n",
       "    ws.send = function (m) {\n",
       "        //console.log('sending', m);\n",
       "        comm.send(m);\n",
       "    };\n",
       "    // Register the callback with on_msg.\n",
       "    comm.on_msg(function (msg) {\n",
       "        //console.log('receiving', msg['content']['data'], msg);\n",
       "        var data = msg['content']['data'];\n",
       "        if (data['blob'] !== undefined) {\n",
       "            data = {\n",
       "                data: new Blob(msg['buffers'], { type: data['blob'] }),\n",
       "            };\n",
       "        }\n",
       "        // Pass the mpl event to the overridden (by mpl) onmessage function.\n",
       "        ws.onmessage(data);\n",
       "    });\n",
       "    return ws;\n",
       "};\n",
       "\n",
       "mpl.mpl_figure_comm = function (comm, msg) {\n",
       "    // This is the function which gets called when the mpl process\n",
       "    // starts-up an IPython Comm through the \"matplotlib\" channel.\n",
       "\n",
       "    var id = msg.content.data.id;\n",
       "    // Get hold of the div created by the display call when the Comm\n",
       "    // socket was opened in Python.\n",
       "    var element = document.getElementById(id);\n",
       "    var ws_proxy = comm_websocket_adapter(comm);\n",
       "\n",
       "    function ondownload(figure, _format) {\n",
       "        window.open(figure.canvas.toDataURL());\n",
       "    }\n",
       "\n",
       "    var fig = new mpl.figure(id, ws_proxy, ondownload, element);\n",
       "\n",
       "    // Call onopen now - mpl needs it, as it is assuming we've passed it a real\n",
       "    // web socket which is closed, not our websocket->open comm proxy.\n",
       "    ws_proxy.onopen();\n",
       "\n",
       "    fig.parent_element = element;\n",
       "    fig.cell_info = mpl.find_output_cell(\"<div id='\" + id + \"'></div>\");\n",
       "    if (!fig.cell_info) {\n",
       "        console.error('Failed to find cell for figure', id, fig);\n",
       "        return;\n",
       "    }\n",
       "    fig.cell_info[0].output_area.element.on(\n",
       "        'cleared',\n",
       "        { fig: fig },\n",
       "        fig._remove_fig_handler\n",
       "    );\n",
       "};\n",
       "\n",
       "mpl.figure.prototype.handle_close = function (fig, msg) {\n",
       "    var width = fig.canvas.width / fig.ratio;\n",
       "    fig.cell_info[0].output_area.element.off(\n",
       "        'cleared',\n",
       "        fig._remove_fig_handler\n",
       "    );\n",
       "    fig.resizeObserverInstance.unobserve(fig.canvas_div);\n",
       "\n",
       "    // Update the output cell to use the data from the current canvas.\n",
       "    fig.push_to_output();\n",
       "    var dataURL = fig.canvas.toDataURL();\n",
       "    // Re-enable the keyboard manager in IPython - without this line, in FF,\n",
       "    // the notebook keyboard shortcuts fail.\n",
       "    IPython.keyboard_manager.enable();\n",
       "    fig.parent_element.innerHTML =\n",
       "        '<img src=\"' + dataURL + '\" width=\"' + width + '\">';\n",
       "    fig.close_ws(fig, msg);\n",
       "};\n",
       "\n",
       "mpl.figure.prototype.close_ws = function (fig, msg) {\n",
       "    fig.send_message('closing', msg);\n",
       "    // fig.ws.close()\n",
       "};\n",
       "\n",
       "mpl.figure.prototype.push_to_output = function (_remove_interactive) {\n",
       "    // Turn the data on the canvas into data in the output cell.\n",
       "    var width = this.canvas.width / this.ratio;\n",
       "    var dataURL = this.canvas.toDataURL();\n",
       "    this.cell_info[1]['text/html'] =\n",
       "        '<img src=\"' + dataURL + '\" width=\"' + width + '\">';\n",
       "};\n",
       "\n",
       "mpl.figure.prototype.updated_canvas_event = function () {\n",
       "    // Tell IPython that the notebook contents must change.\n",
       "    IPython.notebook.set_dirty(true);\n",
       "    this.send_message('ack', {});\n",
       "    var fig = this;\n",
       "    // Wait a second, then push the new image to the DOM so\n",
       "    // that it is saved nicely (might be nice to debounce this).\n",
       "    setTimeout(function () {\n",
       "        fig.push_to_output();\n",
       "    }, 1000);\n",
       "};\n",
       "\n",
       "mpl.figure.prototype._init_toolbar = function () {\n",
       "    var fig = this;\n",
       "\n",
       "    var toolbar = document.createElement('div');\n",
       "    toolbar.classList = 'btn-toolbar';\n",
       "    this.root.appendChild(toolbar);\n",
       "\n",
       "    function on_click_closure(name) {\n",
       "        return function (_event) {\n",
       "            return fig.toolbar_button_onclick(name);\n",
       "        };\n",
       "    }\n",
       "\n",
       "    function on_mouseover_closure(tooltip) {\n",
       "        return function (event) {\n",
       "            if (!event.currentTarget.disabled) {\n",
       "                return fig.toolbar_button_onmouseover(tooltip);\n",
       "            }\n",
       "        };\n",
       "    }\n",
       "\n",
       "    fig.buttons = {};\n",
       "    var buttonGroup = document.createElement('div');\n",
       "    buttonGroup.classList = 'btn-group';\n",
       "    var button;\n",
       "    for (var toolbar_ind in mpl.toolbar_items) {\n",
       "        var name = mpl.toolbar_items[toolbar_ind][0];\n",
       "        var tooltip = mpl.toolbar_items[toolbar_ind][1];\n",
       "        var image = mpl.toolbar_items[toolbar_ind][2];\n",
       "        var method_name = mpl.toolbar_items[toolbar_ind][3];\n",
       "\n",
       "        if (!name) {\n",
       "            /* Instead of a spacer, we start a new button group. */\n",
       "            if (buttonGroup.hasChildNodes()) {\n",
       "                toolbar.appendChild(buttonGroup);\n",
       "            }\n",
       "            buttonGroup = document.createElement('div');\n",
       "            buttonGroup.classList = 'btn-group';\n",
       "            continue;\n",
       "        }\n",
       "\n",
       "        button = fig.buttons[name] = document.createElement('button');\n",
       "        button.classList = 'btn btn-default';\n",
       "        button.href = '#';\n",
       "        button.title = name;\n",
       "        button.innerHTML = '<i class=\"fa ' + image + ' fa-lg\"></i>';\n",
       "        button.addEventListener('click', on_click_closure(method_name));\n",
       "        button.addEventListener('mouseover', on_mouseover_closure(tooltip));\n",
       "        buttonGroup.appendChild(button);\n",
       "    }\n",
       "\n",
       "    if (buttonGroup.hasChildNodes()) {\n",
       "        toolbar.appendChild(buttonGroup);\n",
       "    }\n",
       "\n",
       "    // Add the status bar.\n",
       "    var status_bar = document.createElement('span');\n",
       "    status_bar.classList = 'mpl-message pull-right';\n",
       "    toolbar.appendChild(status_bar);\n",
       "    this.message = status_bar;\n",
       "\n",
       "    // Add the close button to the window.\n",
       "    var buttongrp = document.createElement('div');\n",
       "    buttongrp.classList = 'btn-group inline pull-right';\n",
       "    button = document.createElement('button');\n",
       "    button.classList = 'btn btn-mini btn-primary';\n",
       "    button.href = '#';\n",
       "    button.title = 'Stop Interaction';\n",
       "    button.innerHTML = '<i class=\"fa fa-power-off icon-remove icon-large\"></i>';\n",
       "    button.addEventListener('click', function (_evt) {\n",
       "        fig.handle_close(fig, {});\n",
       "    });\n",
       "    button.addEventListener(\n",
       "        'mouseover',\n",
       "        on_mouseover_closure('Stop Interaction')\n",
       "    );\n",
       "    buttongrp.appendChild(button);\n",
       "    var titlebar = this.root.querySelector('.ui-dialog-titlebar');\n",
       "    titlebar.insertBefore(buttongrp, titlebar.firstChild);\n",
       "};\n",
       "\n",
       "mpl.figure.prototype._remove_fig_handler = function (event) {\n",
       "    var fig = event.data.fig;\n",
       "    if (event.target !== this) {\n",
       "        // Ignore bubbled events from children.\n",
       "        return;\n",
       "    }\n",
       "    fig.close_ws(fig, {});\n",
       "};\n",
       "\n",
       "mpl.figure.prototype._root_extra_style = function (el) {\n",
       "    el.style.boxSizing = 'content-box'; // override notebook setting of border-box.\n",
       "};\n",
       "\n",
       "mpl.figure.prototype._canvas_extra_style = function (el) {\n",
       "    // this is important to make the div 'focusable\n",
       "    el.setAttribute('tabindex', 0);\n",
       "    // reach out to IPython and tell the keyboard manager to turn it's self\n",
       "    // off when our div gets focus\n",
       "\n",
       "    // location in version 3\n",
       "    if (IPython.notebook.keyboard_manager) {\n",
       "        IPython.notebook.keyboard_manager.register_events(el);\n",
       "    } else {\n",
       "        // location in version 2\n",
       "        IPython.keyboard_manager.register_events(el);\n",
       "    }\n",
       "};\n",
       "\n",
       "mpl.figure.prototype._key_event_extra = function (event, _name) {\n",
       "    // Check for shift+enter\n",
       "    if (event.shiftKey && event.which === 13) {\n",
       "        this.canvas_div.blur();\n",
       "        // select the cell after this one\n",
       "        var index = IPython.notebook.find_cell_index(this.cell_info[0]);\n",
       "        IPython.notebook.select(index + 1);\n",
       "    }\n",
       "};\n",
       "\n",
       "mpl.figure.prototype.handle_save = function (fig, _msg) {\n",
       "    fig.ondownload(fig, null);\n",
       "};\n",
       "\n",
       "mpl.find_output_cell = function (html_output) {\n",
       "    // Return the cell and output element which can be found *uniquely* in the notebook.\n",
       "    // Note - this is a bit hacky, but it is done because the \"notebook_saving.Notebook\"\n",
       "    // IPython event is triggered only after the cells have been serialised, which for\n",
       "    // our purposes (turning an active figure into a static one), is too late.\n",
       "    var cells = IPython.notebook.get_cells();\n",
       "    var ncells = cells.length;\n",
       "    for (var i = 0; i < ncells; i++) {\n",
       "        var cell = cells[i];\n",
       "        if (cell.cell_type === 'code') {\n",
       "            for (var j = 0; j < cell.output_area.outputs.length; j++) {\n",
       "                var data = cell.output_area.outputs[j];\n",
       "                if (data.data) {\n",
       "                    // IPython >= 3 moved mimebundle to data attribute of output\n",
       "                    data = data.data;\n",
       "                }\n",
       "                if (data['text/html'] === html_output) {\n",
       "                    return [cell, data, j];\n",
       "                }\n",
       "            }\n",
       "        }\n",
       "    }\n",
       "};\n",
       "\n",
       "// Register the function which deals with the matplotlib target/channel.\n",
       "// The kernel may be null if the page has been refreshed.\n",
       "if (IPython.notebook.kernel !== null) {\n",
       "    IPython.notebook.kernel.comm_manager.register_target(\n",
       "        'matplotlib',\n",
       "        mpl.mpl_figure_comm\n",
       "    );\n",
       "}\n"
      ],
      "text/plain": [
       "<IPython.core.display.Javascript object>"
      ]
     },
     "metadata": {},
     "output_type": "display_data"
    },
    {
     "data": {
      "text/html": [
       "<div id='a13f3db0-d08d-440e-9dab-02168b7eb1bf'></div>"
      ],
      "text/plain": [
       "<IPython.core.display.HTML object>"
      ]
     },
     "metadata": {},
     "output_type": "display_data"
    },
    {
     "name": "stdout",
     "output_type": "stream",
     "text": [
      "Done\n"
     ]
    }
   ],
   "source": [
    "f = fnames[0]\n",
    "sname = sample + get_sname_md(f)\n",
    "print(sname)\n",
    "\n",
    "if 'keV' in fnames[0]:\n",
    "    energy = float(fnames[0][fnames[0].find('keV') - 8: fnames[0].find('keV')])\n",
    "else:\n",
    "    energy = f[f.find('eV_') - 7 : f.find('eV_')]\n",
    "    energy = 0.001 * float(energy)\n",
    "\n",
    "wav = 1E-10 * 12.398 / float(energy)\n",
    "\n",
    "sdd = float(fnames[0][fnames[0].find('_sdd') + 4 : fnames[0].find('_sdd') + 7])\n",
    "sdd *= 1000\n",
    "\n",
    "geometry = 'Transmission'\n",
    "#geometry = 'Reflection'\n",
    "bs_kind = bs_kind\n",
    "if geometry == 'Transmission':\n",
    "    incident_angle = np.deg2rad(0)\n",
    "else:\n",
    "    ai = f[f.find('_ai') + 3 : f.find('_id')]\n",
    "    incident_angle = np.deg2rad(float(ai))\n",
    "\n",
    "detector = 'Pilatus1m'\n",
    "\n",
    "center = beam_centre\n",
    "if bs_kind == 'pd':\n",
    "    bs_pos = [[int(center[0]) + 6, int(center[1]) - 5]]\n",
    "else:\n",
    "    bs_pos = [[int(center[0]) +5 , 65]]\n",
    "\n",
    "\n",
    "if batch_bkg:\n",
    "    try:\n",
    "        fnames_bkg = batch_bkg[np.around(1000 * energy, decimals=2)]\n",
    "    except(KeyError):\n",
    "        energies = np.asarray([float(x) for x in batch_bkg.keys()])\n",
    "        energy_bkg = energies[np.where(energies < 1000 * energy)[0][-1]]\n",
    "        fnames_bkg = batch_bkg[energy_bkg]\n",
    "    flat_imgs = [fabio.open(os.path.join(path_bkg, f)).data for f in fnames_bkg]\n",
    "    flat_img = np.nanmean(flat_imgs, axis=0)\n",
    "\n",
    "\n",
    "# Processing geometry for SMI\n",
    "pr = SMI_beamline.SMI_geometry(geometry = geometry,\n",
    "                               detector = detector,\n",
    "                               sdd = sdd,\n",
    "                               wav = wav,\n",
    "                               alphai = incident_angle,\n",
    "                               center = center,\n",
    "                               bs_pos = bs_pos,\n",
    "                               bs_kind = bs_kind)\n",
    "\n",
    "# Open and average SAXS data from different shots\n",
    "pr.open_data(path_data, [fnames[0]])#, optional_mask='tender')\n",
    "for f in fnames[1:]:\n",
    "    pr.imgs[0] += fabio.open(os.path.join(path_data, f)).data\n",
    "pr.imgs[0] = pr.imgs[0] / len(fnames)\n",
    "\n",
    "\n",
    "plt.figure()\n",
    "for i, (img, mask) in enumerate(zip(pr.imgs, pr.masks)):\n",
    "    \n",
    "    if batch_bkg:\n",
    "        pr.imgs[0] = np.divide(pr.imgs[0], flat_img,\n",
    "                               out=np.zeros_like(pr.imgs[0]),\n",
    "                               where=(flat_img > 0),\n",
    "                               casting='unsafe')\n",
    "        \n",
    "        #pr.imgs[0] = pr.imgs[0] - flat_img\n",
    "        \n",
    "    if bs_kind != 'rod':\n",
    "        mask[bs_pos[0][1]:, bs_pos[0][0] - 15 : bs_pos[0][0] + 6] = True\n",
    "        xx, yy = np.mgrid[:1043, :981]\n",
    "        dia = 23\n",
    "        circle = (xx - bs_pos[0][1]) ** 2 + (yy - bs_pos[0][0]) ** 2\n",
    "        mask_circ = (circle < (dia ** 2))\n",
    "        mask[mask_circ] = True\n",
    "        \n",
    "    mask[img < 0] = True\n",
    "    mask[mask_bkg] = True\n",
    "    \n",
    "\n",
    "    pr.masks[i] = mask\n",
    "    vmax = np.percentile(img*np.logical_not(mask), 99.9)\n",
    "    plt.imshow(img*np.logical_not(mask), vmin = 0, vmax=vmax)\n",
    "plt.show()\n",
    "\n",
    "fig, ax = plt.subplots()\n",
    "ax.set_title(f'{sample}: masked hot pixels')\n",
    "ax.imshow(img, vmax=vmax)\n",
    "#ax.scatter(np.where(img[:min(range_y), :] > max(limits))[1],\n",
    "#           np.where(img[:min(range_y), :] > max(limits))[0])\n",
    "#ax.scatter(np.where(img[max(range_y):, :] > max(limits))[1],\n",
    "#           np.where(img[max(range_y):, :] > max(limits))[0] + max(range_y))\n",
    "#ax.scatter(np.where(img[:, :min(range_x)] > max(limits))[1],\n",
    "#           np.where(img[:, :min(range_x)] > max(limits))[0])\n",
    "#ax.scatter(np.where(img[:, max(range_x):] > max(limits))[1] + max(range_x),\n",
    "#           np.where(img[:, max(range_x):] > max(limits))[0])\n",
    "ax.scatter(np.where(mask_bkg)[1],\n",
    "           np.where(mask_bkg)[0])\n",
    "#-15_loc2_trs0.92019 -> what's this??\n",
    "\n",
    "pr.stitching_data(interp_factor=1)\n",
    "\n",
    "plt.figure()\n",
    "plt.imshow(pr.img_st,\n",
    "           extent=[pr.qp[0], pr.qp[-1], pr.qz[0], pr.qz[-1]], \n",
    "           vmin=0,\n",
    "           vmax=np.percentile(pr.img_st, 99.9))    \n",
    "plt.title('saxs_%s'%sample)\n",
    "plt.xlabel('$q_{par}(A^{-1})$')\n",
    "plt.ylabel('$q_{ver}(A^{-1})$')\n",
    "plt.colorbar()\n",
    "plt.show()\n",
    "\n",
    "pr.caking()\n",
    "plt.figure()\n",
    "plt.imshow(pr.cake,\n",
    "           extent=[pr.q_cake[0], pr.q_cake[-1], pr.chi_cake[0], pr.chi_cake[-1]], \n",
    "           vmin=0,\n",
    "           vmax=np.percentile(pr.cake, 95),\n",
    "           aspect='auto')    \n",
    "plt.title('saxs_%s'%sample)\n",
    "plt.xlabel('$q_{par}(A^{-1})$')\n",
    "plt.ylabel('$q_{ver}(A^{-1})$')\n",
    "plt.colorbar()\n",
    "plt.show()\n",
    "\n",
    "\n",
    "pr.radial_averaging(radial_range = [0.001, pr.q_cake[-1]], azimuth_range=[-90, 0], npt = 500)\n",
    "q0, I0 = pr.q_rad, pr.I_rad\n",
    "\n",
    "pr.radial_averaging(radial_range = [0.001, pr.q_cake[-1]], azimuth_range=[-179, 179], npt = 500)\n",
    "q1, I1 = pr.q_rad, pr.I_rad\n",
    "\n",
    "pr.radial_averaging(radial_range = [0.001, pr.q_cake[-1]], azimuth_range=[0, 90], npt=500)\n",
    "q2, I2 = pr.q_rad, pr.I_rad\n",
    "pr.radial_averaging(radial_range = [0.001, pr.q_cake[-1]], azimuth_range=[90, 179], npt=500)\n",
    "q3, I3 = pr.q_rad, pr.I_rad\n",
    "pr.radial_averaging(radial_range = [0.001, pr.q_cake[-1]], azimuth_range=[-90, -179], npt=500)\n",
    "q4, I4 = pr.q_rad, pr.I_rad\n",
    "\n",
    "plt.figure()\n",
    "plt.plot(q0, I0, linewidth = 3, label = 'top right')\n",
    "plt.plot(q1, I1, linewidth = 3, label='total')\n",
    "plt.plot(q2, I2, linewidth = 3, label='bottom right')\n",
    "plt.plot(q3, I3, linewidth = 3, label='bottom left')\n",
    "plt.plot(q4, I4, linewidth = 3, label='top left')\n",
    "\n",
    "plt.xscale('log')\n",
    "plt.yscale('log')\n",
    "plt.show()\n",
    "plt.legend()\n",
    "\n",
    "if pr.geometry == 'Reflection':\n",
    "    #Figure 4 Plotting - Radial Averaging\n",
    "    pr.horizontal_integration(q_per_range=[0, pr.q_cake[-1]])\n",
    "    q0, I0 = pr.q_hor, pr.I_hor\n",
    "\n",
    "    plt.figure()\n",
    "    plt.plot(q0, I0, linewidth = 3, color = 'k')\n",
    "\n",
    "    #plt.yscale('log')\n",
    "    plt.show()\n",
    "\n",
    "print('Done')"
   ]
  },
  {
   "cell_type": "code",
   "execution_count": 44,
   "metadata": {},
   "outputs": [
    {
     "data": {
      "application/javascript": [
       "/* Put everything inside the global mpl namespace */\n",
       "/* global mpl */\n",
       "window.mpl = {};\n",
       "\n",
       "mpl.get_websocket_type = function () {\n",
       "    if (typeof WebSocket !== 'undefined') {\n",
       "        return WebSocket;\n",
       "    } else if (typeof MozWebSocket !== 'undefined') {\n",
       "        return MozWebSocket;\n",
       "    } else {\n",
       "        alert(\n",
       "            'Your browser does not have WebSocket support. ' +\n",
       "                'Please try Chrome, Safari or Firefox ≥ 6. ' +\n",
       "                'Firefox 4 and 5 are also supported but you ' +\n",
       "                'have to enable WebSockets in about:config.'\n",
       "        );\n",
       "    }\n",
       "};\n",
       "\n",
       "mpl.figure = function (figure_id, websocket, ondownload, parent_element) {\n",
       "    this.id = figure_id;\n",
       "\n",
       "    this.ws = websocket;\n",
       "\n",
       "    this.supports_binary = this.ws.binaryType !== undefined;\n",
       "\n",
       "    if (!this.supports_binary) {\n",
       "        var warnings = document.getElementById('mpl-warnings');\n",
       "        if (warnings) {\n",
       "            warnings.style.display = 'block';\n",
       "            warnings.textContent =\n",
       "                'This browser does not support binary websocket messages. ' +\n",
       "                'Performance may be slow.';\n",
       "        }\n",
       "    }\n",
       "\n",
       "    this.imageObj = new Image();\n",
       "\n",
       "    this.context = undefined;\n",
       "    this.message = undefined;\n",
       "    this.canvas = undefined;\n",
       "    this.rubberband_canvas = undefined;\n",
       "    this.rubberband_context = undefined;\n",
       "    this.format_dropdown = undefined;\n",
       "\n",
       "    this.image_mode = 'full';\n",
       "\n",
       "    this.root = document.createElement('div');\n",
       "    this.root.setAttribute('style', 'display: inline-block');\n",
       "    this._root_extra_style(this.root);\n",
       "\n",
       "    parent_element.appendChild(this.root);\n",
       "\n",
       "    this._init_header(this);\n",
       "    this._init_canvas(this);\n",
       "    this._init_toolbar(this);\n",
       "\n",
       "    var fig = this;\n",
       "\n",
       "    this.waiting = false;\n",
       "\n",
       "    this.ws.onopen = function () {\n",
       "        fig.send_message('supports_binary', { value: fig.supports_binary });\n",
       "        fig.send_message('send_image_mode', {});\n",
       "        if (fig.ratio !== 1) {\n",
       "            fig.send_message('set_device_pixel_ratio', {\n",
       "                device_pixel_ratio: fig.ratio,\n",
       "            });\n",
       "        }\n",
       "        fig.send_message('refresh', {});\n",
       "    };\n",
       "\n",
       "    this.imageObj.onload = function () {\n",
       "        if (fig.image_mode === 'full') {\n",
       "            // Full images could contain transparency (where diff images\n",
       "            // almost always do), so we need to clear the canvas so that\n",
       "            // there is no ghosting.\n",
       "            fig.context.clearRect(0, 0, fig.canvas.width, fig.canvas.height);\n",
       "        }\n",
       "        fig.context.drawImage(fig.imageObj, 0, 0);\n",
       "    };\n",
       "\n",
       "    this.imageObj.onunload = function () {\n",
       "        fig.ws.close();\n",
       "    };\n",
       "\n",
       "    this.ws.onmessage = this._make_on_message_function(this);\n",
       "\n",
       "    this.ondownload = ondownload;\n",
       "};\n",
       "\n",
       "mpl.figure.prototype._init_header = function () {\n",
       "    var titlebar = document.createElement('div');\n",
       "    titlebar.classList =\n",
       "        'ui-dialog-titlebar ui-widget-header ui-corner-all ui-helper-clearfix';\n",
       "    var titletext = document.createElement('div');\n",
       "    titletext.classList = 'ui-dialog-title';\n",
       "    titletext.setAttribute(\n",
       "        'style',\n",
       "        'width: 100%; text-align: center; padding: 3px;'\n",
       "    );\n",
       "    titlebar.appendChild(titletext);\n",
       "    this.root.appendChild(titlebar);\n",
       "    this.header = titletext;\n",
       "};\n",
       "\n",
       "mpl.figure.prototype._canvas_extra_style = function (_canvas_div) {};\n",
       "\n",
       "mpl.figure.prototype._root_extra_style = function (_canvas_div) {};\n",
       "\n",
       "mpl.figure.prototype._init_canvas = function () {\n",
       "    var fig = this;\n",
       "\n",
       "    var canvas_div = (this.canvas_div = document.createElement('div'));\n",
       "    canvas_div.setAttribute('tabindex', '0');\n",
       "    canvas_div.setAttribute(\n",
       "        'style',\n",
       "        'border: 1px solid #ddd;' +\n",
       "            'box-sizing: content-box;' +\n",
       "            'clear: both;' +\n",
       "            'min-height: 1px;' +\n",
       "            'min-width: 1px;' +\n",
       "            'outline: 0;' +\n",
       "            'overflow: hidden;' +\n",
       "            'position: relative;' +\n",
       "            'resize: both;' +\n",
       "            'z-index: 2;'\n",
       "    );\n",
       "\n",
       "    function on_keyboard_event_closure(name) {\n",
       "        return function (event) {\n",
       "            return fig.key_event(event, name);\n",
       "        };\n",
       "    }\n",
       "\n",
       "    canvas_div.addEventListener(\n",
       "        'keydown',\n",
       "        on_keyboard_event_closure('key_press')\n",
       "    );\n",
       "    canvas_div.addEventListener(\n",
       "        'keyup',\n",
       "        on_keyboard_event_closure('key_release')\n",
       "    );\n",
       "\n",
       "    this._canvas_extra_style(canvas_div);\n",
       "    this.root.appendChild(canvas_div);\n",
       "\n",
       "    var canvas = (this.canvas = document.createElement('canvas'));\n",
       "    canvas.classList.add('mpl-canvas');\n",
       "    canvas.setAttribute(\n",
       "        'style',\n",
       "        'box-sizing: content-box;' +\n",
       "            'pointer-events: none;' +\n",
       "            'position: relative;' +\n",
       "            'z-index: 0;'\n",
       "    );\n",
       "\n",
       "    this.context = canvas.getContext('2d');\n",
       "\n",
       "    var backingStore =\n",
       "        this.context.backingStorePixelRatio ||\n",
       "        this.context.webkitBackingStorePixelRatio ||\n",
       "        this.context.mozBackingStorePixelRatio ||\n",
       "        this.context.msBackingStorePixelRatio ||\n",
       "        this.context.oBackingStorePixelRatio ||\n",
       "        this.context.backingStorePixelRatio ||\n",
       "        1;\n",
       "\n",
       "    this.ratio = (window.devicePixelRatio || 1) / backingStore;\n",
       "\n",
       "    var rubberband_canvas = (this.rubberband_canvas = document.createElement(\n",
       "        'canvas'\n",
       "    ));\n",
       "    rubberband_canvas.setAttribute(\n",
       "        'style',\n",
       "        'box-sizing: content-box;' +\n",
       "            'left: 0;' +\n",
       "            'pointer-events: none;' +\n",
       "            'position: absolute;' +\n",
       "            'top: 0;' +\n",
       "            'z-index: 1;'\n",
       "    );\n",
       "\n",
       "    // Apply a ponyfill if ResizeObserver is not implemented by browser.\n",
       "    if (this.ResizeObserver === undefined) {\n",
       "        if (window.ResizeObserver !== undefined) {\n",
       "            this.ResizeObserver = window.ResizeObserver;\n",
       "        } else {\n",
       "            var obs = _JSXTOOLS_RESIZE_OBSERVER({});\n",
       "            this.ResizeObserver = obs.ResizeObserver;\n",
       "        }\n",
       "    }\n",
       "\n",
       "    this.resizeObserverInstance = new this.ResizeObserver(function (entries) {\n",
       "        var nentries = entries.length;\n",
       "        for (var i = 0; i < nentries; i++) {\n",
       "            var entry = entries[i];\n",
       "            var width, height;\n",
       "            if (entry.contentBoxSize) {\n",
       "                if (entry.contentBoxSize instanceof Array) {\n",
       "                    // Chrome 84 implements new version of spec.\n",
       "                    width = entry.contentBoxSize[0].inlineSize;\n",
       "                    height = entry.contentBoxSize[0].blockSize;\n",
       "                } else {\n",
       "                    // Firefox implements old version of spec.\n",
       "                    width = entry.contentBoxSize.inlineSize;\n",
       "                    height = entry.contentBoxSize.blockSize;\n",
       "                }\n",
       "            } else {\n",
       "                // Chrome <84 implements even older version of spec.\n",
       "                width = entry.contentRect.width;\n",
       "                height = entry.contentRect.height;\n",
       "            }\n",
       "\n",
       "            // Keep the size of the canvas and rubber band canvas in sync with\n",
       "            // the canvas container.\n",
       "            if (entry.devicePixelContentBoxSize) {\n",
       "                // Chrome 84 implements new version of spec.\n",
       "                canvas.setAttribute(\n",
       "                    'width',\n",
       "                    entry.devicePixelContentBoxSize[0].inlineSize\n",
       "                );\n",
       "                canvas.setAttribute(\n",
       "                    'height',\n",
       "                    entry.devicePixelContentBoxSize[0].blockSize\n",
       "                );\n",
       "            } else {\n",
       "                canvas.setAttribute('width', width * fig.ratio);\n",
       "                canvas.setAttribute('height', height * fig.ratio);\n",
       "            }\n",
       "            /* This rescales the canvas back to display pixels, so that it\n",
       "             * appears correct on HiDPI screens. */\n",
       "            canvas.style.width = width + 'px';\n",
       "            canvas.style.height = height + 'px';\n",
       "\n",
       "            rubberband_canvas.setAttribute('width', width);\n",
       "            rubberband_canvas.setAttribute('height', height);\n",
       "\n",
       "            // And update the size in Python. We ignore the initial 0/0 size\n",
       "            // that occurs as the element is placed into the DOM, which should\n",
       "            // otherwise not happen due to the minimum size styling.\n",
       "            if (fig.ws.readyState == 1 && width != 0 && height != 0) {\n",
       "                fig.request_resize(width, height);\n",
       "            }\n",
       "        }\n",
       "    });\n",
       "    this.resizeObserverInstance.observe(canvas_div);\n",
       "\n",
       "    function on_mouse_event_closure(name) {\n",
       "        /* User Agent sniffing is bad, but WebKit is busted:\n",
       "         * https://bugs.webkit.org/show_bug.cgi?id=144526\n",
       "         * https://bugs.webkit.org/show_bug.cgi?id=181818\n",
       "         * The worst that happens here is that they get an extra browser\n",
       "         * selection when dragging, if this check fails to catch them.\n",
       "         */\n",
       "        var UA = navigator.userAgent;\n",
       "        var isWebKit = /AppleWebKit/.test(UA) && !/Chrome/.test(UA);\n",
       "        if(isWebKit) {\n",
       "            return function (event) {\n",
       "                /* This prevents the web browser from automatically changing to\n",
       "                 * the text insertion cursor when the button is pressed. We\n",
       "                 * want to control all of the cursor setting manually through\n",
       "                 * the 'cursor' event from matplotlib */\n",
       "                event.preventDefault()\n",
       "                return fig.mouse_event(event, name);\n",
       "            };\n",
       "        } else {\n",
       "            return function (event) {\n",
       "                return fig.mouse_event(event, name);\n",
       "            };\n",
       "        }\n",
       "    }\n",
       "\n",
       "    canvas_div.addEventListener(\n",
       "        'mousedown',\n",
       "        on_mouse_event_closure('button_press')\n",
       "    );\n",
       "    canvas_div.addEventListener(\n",
       "        'mouseup',\n",
       "        on_mouse_event_closure('button_release')\n",
       "    );\n",
       "    canvas_div.addEventListener(\n",
       "        'dblclick',\n",
       "        on_mouse_event_closure('dblclick')\n",
       "    );\n",
       "    // Throttle sequential mouse events to 1 every 20ms.\n",
       "    canvas_div.addEventListener(\n",
       "        'mousemove',\n",
       "        on_mouse_event_closure('motion_notify')\n",
       "    );\n",
       "\n",
       "    canvas_div.addEventListener(\n",
       "        'mouseenter',\n",
       "        on_mouse_event_closure('figure_enter')\n",
       "    );\n",
       "    canvas_div.addEventListener(\n",
       "        'mouseleave',\n",
       "        on_mouse_event_closure('figure_leave')\n",
       "    );\n",
       "\n",
       "    canvas_div.addEventListener('wheel', function (event) {\n",
       "        if (event.deltaY < 0) {\n",
       "            event.step = 1;\n",
       "        } else {\n",
       "            event.step = -1;\n",
       "        }\n",
       "        on_mouse_event_closure('scroll')(event);\n",
       "    });\n",
       "\n",
       "    canvas_div.appendChild(canvas);\n",
       "    canvas_div.appendChild(rubberband_canvas);\n",
       "\n",
       "    this.rubberband_context = rubberband_canvas.getContext('2d');\n",
       "    this.rubberband_context.strokeStyle = '#000000';\n",
       "\n",
       "    this._resize_canvas = function (width, height, forward) {\n",
       "        if (forward) {\n",
       "            canvas_div.style.width = width + 'px';\n",
       "            canvas_div.style.height = height + 'px';\n",
       "        }\n",
       "    };\n",
       "\n",
       "    // Disable right mouse context menu.\n",
       "    canvas_div.addEventListener('contextmenu', function (_e) {\n",
       "        event.preventDefault();\n",
       "        return false;\n",
       "    });\n",
       "\n",
       "    function set_focus() {\n",
       "        canvas.focus();\n",
       "        canvas_div.focus();\n",
       "    }\n",
       "\n",
       "    window.setTimeout(set_focus, 100);\n",
       "};\n",
       "\n",
       "mpl.figure.prototype._init_toolbar = function () {\n",
       "    var fig = this;\n",
       "\n",
       "    var toolbar = document.createElement('div');\n",
       "    toolbar.classList = 'mpl-toolbar';\n",
       "    this.root.appendChild(toolbar);\n",
       "\n",
       "    function on_click_closure(name) {\n",
       "        return function (_event) {\n",
       "            return fig.toolbar_button_onclick(name);\n",
       "        };\n",
       "    }\n",
       "\n",
       "    function on_mouseover_closure(tooltip) {\n",
       "        return function (event) {\n",
       "            if (!event.currentTarget.disabled) {\n",
       "                return fig.toolbar_button_onmouseover(tooltip);\n",
       "            }\n",
       "        };\n",
       "    }\n",
       "\n",
       "    fig.buttons = {};\n",
       "    var buttonGroup = document.createElement('div');\n",
       "    buttonGroup.classList = 'mpl-button-group';\n",
       "    for (var toolbar_ind in mpl.toolbar_items) {\n",
       "        var name = mpl.toolbar_items[toolbar_ind][0];\n",
       "        var tooltip = mpl.toolbar_items[toolbar_ind][1];\n",
       "        var image = mpl.toolbar_items[toolbar_ind][2];\n",
       "        var method_name = mpl.toolbar_items[toolbar_ind][3];\n",
       "\n",
       "        if (!name) {\n",
       "            /* Instead of a spacer, we start a new button group. */\n",
       "            if (buttonGroup.hasChildNodes()) {\n",
       "                toolbar.appendChild(buttonGroup);\n",
       "            }\n",
       "            buttonGroup = document.createElement('div');\n",
       "            buttonGroup.classList = 'mpl-button-group';\n",
       "            continue;\n",
       "        }\n",
       "\n",
       "        var button = (fig.buttons[name] = document.createElement('button'));\n",
       "        button.classList = 'mpl-widget';\n",
       "        button.setAttribute('role', 'button');\n",
       "        button.setAttribute('aria-disabled', 'false');\n",
       "        button.addEventListener('click', on_click_closure(method_name));\n",
       "        button.addEventListener('mouseover', on_mouseover_closure(tooltip));\n",
       "\n",
       "        var icon_img = document.createElement('img');\n",
       "        icon_img.src = '_images/' + image + '.png';\n",
       "        icon_img.srcset = '_images/' + image + '_large.png 2x';\n",
       "        icon_img.alt = tooltip;\n",
       "        button.appendChild(icon_img);\n",
       "\n",
       "        buttonGroup.appendChild(button);\n",
       "    }\n",
       "\n",
       "    if (buttonGroup.hasChildNodes()) {\n",
       "        toolbar.appendChild(buttonGroup);\n",
       "    }\n",
       "\n",
       "    var fmt_picker = document.createElement('select');\n",
       "    fmt_picker.classList = 'mpl-widget';\n",
       "    toolbar.appendChild(fmt_picker);\n",
       "    this.format_dropdown = fmt_picker;\n",
       "\n",
       "    for (var ind in mpl.extensions) {\n",
       "        var fmt = mpl.extensions[ind];\n",
       "        var option = document.createElement('option');\n",
       "        option.selected = fmt === mpl.default_extension;\n",
       "        option.innerHTML = fmt;\n",
       "        fmt_picker.appendChild(option);\n",
       "    }\n",
       "\n",
       "    var status_bar = document.createElement('span');\n",
       "    status_bar.classList = 'mpl-message';\n",
       "    toolbar.appendChild(status_bar);\n",
       "    this.message = status_bar;\n",
       "};\n",
       "\n",
       "mpl.figure.prototype.request_resize = function (x_pixels, y_pixels) {\n",
       "    // Request matplotlib to resize the figure. Matplotlib will then trigger a resize in the client,\n",
       "    // which will in turn request a refresh of the image.\n",
       "    this.send_message('resize', { width: x_pixels, height: y_pixels });\n",
       "};\n",
       "\n",
       "mpl.figure.prototype.send_message = function (type, properties) {\n",
       "    properties['type'] = type;\n",
       "    properties['figure_id'] = this.id;\n",
       "    this.ws.send(JSON.stringify(properties));\n",
       "};\n",
       "\n",
       "mpl.figure.prototype.send_draw_message = function () {\n",
       "    if (!this.waiting) {\n",
       "        this.waiting = true;\n",
       "        this.ws.send(JSON.stringify({ type: 'draw', figure_id: this.id }));\n",
       "    }\n",
       "};\n",
       "\n",
       "mpl.figure.prototype.handle_save = function (fig, _msg) {\n",
       "    var format_dropdown = fig.format_dropdown;\n",
       "    var format = format_dropdown.options[format_dropdown.selectedIndex].value;\n",
       "    fig.ondownload(fig, format);\n",
       "};\n",
       "\n",
       "mpl.figure.prototype.handle_resize = function (fig, msg) {\n",
       "    var size = msg['size'];\n",
       "    if (size[0] !== fig.canvas.width || size[1] !== fig.canvas.height) {\n",
       "        fig._resize_canvas(size[0], size[1], msg['forward']);\n",
       "        fig.send_message('refresh', {});\n",
       "    }\n",
       "};\n",
       "\n",
       "mpl.figure.prototype.handle_rubberband = function (fig, msg) {\n",
       "    var x0 = msg['x0'] / fig.ratio;\n",
       "    var y0 = (fig.canvas.height - msg['y0']) / fig.ratio;\n",
       "    var x1 = msg['x1'] / fig.ratio;\n",
       "    var y1 = (fig.canvas.height - msg['y1']) / fig.ratio;\n",
       "    x0 = Math.floor(x0) + 0.5;\n",
       "    y0 = Math.floor(y0) + 0.5;\n",
       "    x1 = Math.floor(x1) + 0.5;\n",
       "    y1 = Math.floor(y1) + 0.5;\n",
       "    var min_x = Math.min(x0, x1);\n",
       "    var min_y = Math.min(y0, y1);\n",
       "    var width = Math.abs(x1 - x0);\n",
       "    var height = Math.abs(y1 - y0);\n",
       "\n",
       "    fig.rubberband_context.clearRect(\n",
       "        0,\n",
       "        0,\n",
       "        fig.canvas.width / fig.ratio,\n",
       "        fig.canvas.height / fig.ratio\n",
       "    );\n",
       "\n",
       "    fig.rubberband_context.strokeRect(min_x, min_y, width, height);\n",
       "};\n",
       "\n",
       "mpl.figure.prototype.handle_figure_label = function (fig, msg) {\n",
       "    // Updates the figure title.\n",
       "    fig.header.textContent = msg['label'];\n",
       "};\n",
       "\n",
       "mpl.figure.prototype.handle_cursor = function (fig, msg) {\n",
       "    fig.canvas_div.style.cursor = msg['cursor'];\n",
       "};\n",
       "\n",
       "mpl.figure.prototype.handle_message = function (fig, msg) {\n",
       "    fig.message.textContent = msg['message'];\n",
       "};\n",
       "\n",
       "mpl.figure.prototype.handle_draw = function (fig, _msg) {\n",
       "    // Request the server to send over a new figure.\n",
       "    fig.send_draw_message();\n",
       "};\n",
       "\n",
       "mpl.figure.prototype.handle_image_mode = function (fig, msg) {\n",
       "    fig.image_mode = msg['mode'];\n",
       "};\n",
       "\n",
       "mpl.figure.prototype.handle_history_buttons = function (fig, msg) {\n",
       "    for (var key in msg) {\n",
       "        if (!(key in fig.buttons)) {\n",
       "            continue;\n",
       "        }\n",
       "        fig.buttons[key].disabled = !msg[key];\n",
       "        fig.buttons[key].setAttribute('aria-disabled', !msg[key]);\n",
       "    }\n",
       "};\n",
       "\n",
       "mpl.figure.prototype.handle_navigate_mode = function (fig, msg) {\n",
       "    if (msg['mode'] === 'PAN') {\n",
       "        fig.buttons['Pan'].classList.add('active');\n",
       "        fig.buttons['Zoom'].classList.remove('active');\n",
       "    } else if (msg['mode'] === 'ZOOM') {\n",
       "        fig.buttons['Pan'].classList.remove('active');\n",
       "        fig.buttons['Zoom'].classList.add('active');\n",
       "    } else {\n",
       "        fig.buttons['Pan'].classList.remove('active');\n",
       "        fig.buttons['Zoom'].classList.remove('active');\n",
       "    }\n",
       "};\n",
       "\n",
       "mpl.figure.prototype.updated_canvas_event = function () {\n",
       "    // Called whenever the canvas gets updated.\n",
       "    this.send_message('ack', {});\n",
       "};\n",
       "\n",
       "// A function to construct a web socket function for onmessage handling.\n",
       "// Called in the figure constructor.\n",
       "mpl.figure.prototype._make_on_message_function = function (fig) {\n",
       "    return function socket_on_message(evt) {\n",
       "        if (evt.data instanceof Blob) {\n",
       "            var img = evt.data;\n",
       "            if (img.type !== 'image/png') {\n",
       "                /* FIXME: We get \"Resource interpreted as Image but\n",
       "                 * transferred with MIME type text/plain:\" errors on\n",
       "                 * Chrome.  But how to set the MIME type?  It doesn't seem\n",
       "                 * to be part of the websocket stream */\n",
       "                img.type = 'image/png';\n",
       "            }\n",
       "\n",
       "            /* Free the memory for the previous frames */\n",
       "            if (fig.imageObj.src) {\n",
       "                (window.URL || window.webkitURL).revokeObjectURL(\n",
       "                    fig.imageObj.src\n",
       "                );\n",
       "            }\n",
       "\n",
       "            fig.imageObj.src = (window.URL || window.webkitURL).createObjectURL(\n",
       "                img\n",
       "            );\n",
       "            fig.updated_canvas_event();\n",
       "            fig.waiting = false;\n",
       "            return;\n",
       "        } else if (\n",
       "            typeof evt.data === 'string' &&\n",
       "            evt.data.slice(0, 21) === 'data:image/png;base64'\n",
       "        ) {\n",
       "            fig.imageObj.src = evt.data;\n",
       "            fig.updated_canvas_event();\n",
       "            fig.waiting = false;\n",
       "            return;\n",
       "        }\n",
       "\n",
       "        var msg = JSON.parse(evt.data);\n",
       "        var msg_type = msg['type'];\n",
       "\n",
       "        // Call the  \"handle_{type}\" callback, which takes\n",
       "        // the figure and JSON message as its only arguments.\n",
       "        try {\n",
       "            var callback = fig['handle_' + msg_type];\n",
       "        } catch (e) {\n",
       "            console.log(\n",
       "                \"No handler for the '\" + msg_type + \"' message type: \",\n",
       "                msg\n",
       "            );\n",
       "            return;\n",
       "        }\n",
       "\n",
       "        if (callback) {\n",
       "            try {\n",
       "                // console.log(\"Handling '\" + msg_type + \"' message: \", msg);\n",
       "                callback(fig, msg);\n",
       "            } catch (e) {\n",
       "                console.log(\n",
       "                    \"Exception inside the 'handler_\" + msg_type + \"' callback:\",\n",
       "                    e,\n",
       "                    e.stack,\n",
       "                    msg\n",
       "                );\n",
       "            }\n",
       "        }\n",
       "    };\n",
       "};\n",
       "\n",
       "function getModifiers(event) {\n",
       "    var mods = [];\n",
       "    if (event.ctrlKey) {\n",
       "        mods.push('ctrl');\n",
       "    }\n",
       "    if (event.altKey) {\n",
       "        mods.push('alt');\n",
       "    }\n",
       "    if (event.shiftKey) {\n",
       "        mods.push('shift');\n",
       "    }\n",
       "    if (event.metaKey) {\n",
       "        mods.push('meta');\n",
       "    }\n",
       "    return mods;\n",
       "}\n",
       "\n",
       "/*\n",
       " * return a copy of an object with only non-object keys\n",
       " * we need this to avoid circular references\n",
       " * https://stackoverflow.com/a/24161582/3208463\n",
       " */\n",
       "function simpleKeys(original) {\n",
       "    return Object.keys(original).reduce(function (obj, key) {\n",
       "        if (typeof original[key] !== 'object') {\n",
       "            obj[key] = original[key];\n",
       "        }\n",
       "        return obj;\n",
       "    }, {});\n",
       "}\n",
       "\n",
       "mpl.figure.prototype.mouse_event = function (event, name) {\n",
       "    if (name === 'button_press') {\n",
       "        this.canvas.focus();\n",
       "        this.canvas_div.focus();\n",
       "    }\n",
       "\n",
       "    // from https://stackoverflow.com/q/1114465\n",
       "    var boundingRect = this.canvas.getBoundingClientRect();\n",
       "    var x = (event.clientX - boundingRect.left) * this.ratio;\n",
       "    var y = (event.clientY - boundingRect.top) * this.ratio;\n",
       "\n",
       "    this.send_message(name, {\n",
       "        x: x,\n",
       "        y: y,\n",
       "        button: event.button,\n",
       "        step: event.step,\n",
       "        modifiers: getModifiers(event),\n",
       "        guiEvent: simpleKeys(event),\n",
       "    });\n",
       "\n",
       "    return false;\n",
       "};\n",
       "\n",
       "mpl.figure.prototype._key_event_extra = function (_event, _name) {\n",
       "    // Handle any extra behaviour associated with a key event\n",
       "};\n",
       "\n",
       "mpl.figure.prototype.key_event = function (event, name) {\n",
       "    // Prevent repeat events\n",
       "    if (name === 'key_press') {\n",
       "        if (event.key === this._key) {\n",
       "            return;\n",
       "        } else {\n",
       "            this._key = event.key;\n",
       "        }\n",
       "    }\n",
       "    if (name === 'key_release') {\n",
       "        this._key = null;\n",
       "    }\n",
       "\n",
       "    var value = '';\n",
       "    if (event.ctrlKey && event.key !== 'Control') {\n",
       "        value += 'ctrl+';\n",
       "    }\n",
       "    else if (event.altKey && event.key !== 'Alt') {\n",
       "        value += 'alt+';\n",
       "    }\n",
       "    else if (event.shiftKey && event.key !== 'Shift') {\n",
       "        value += 'shift+';\n",
       "    }\n",
       "\n",
       "    value += 'k' + event.key;\n",
       "\n",
       "    this._key_event_extra(event, name);\n",
       "\n",
       "    this.send_message(name, { key: value, guiEvent: simpleKeys(event) });\n",
       "    return false;\n",
       "};\n",
       "\n",
       "mpl.figure.prototype.toolbar_button_onclick = function (name) {\n",
       "    if (name === 'download') {\n",
       "        this.handle_save(this, null);\n",
       "    } else {\n",
       "        this.send_message('toolbar_button', { name: name });\n",
       "    }\n",
       "};\n",
       "\n",
       "mpl.figure.prototype.toolbar_button_onmouseover = function (tooltip) {\n",
       "    this.message.textContent = tooltip;\n",
       "};\n",
       "\n",
       "///////////////// REMAINING CONTENT GENERATED BY embed_js.py /////////////////\n",
       "// prettier-ignore\n",
       "var _JSXTOOLS_RESIZE_OBSERVER=function(A){var t,i=new WeakMap,n=new WeakMap,a=new WeakMap,r=new WeakMap,o=new Set;function s(e){if(!(this instanceof s))throw new TypeError(\"Constructor requires 'new' operator\");i.set(this,e)}function h(){throw new TypeError(\"Function is not a constructor\")}function c(e,t,i,n){e=0 in arguments?Number(arguments[0]):0,t=1 in arguments?Number(arguments[1]):0,i=2 in arguments?Number(arguments[2]):0,n=3 in arguments?Number(arguments[3]):0,this.right=(this.x=this.left=e)+(this.width=i),this.bottom=(this.y=this.top=t)+(this.height=n),Object.freeze(this)}function d(){t=requestAnimationFrame(d);var s=new WeakMap,p=new Set;o.forEach((function(t){r.get(t).forEach((function(i){var r=t instanceof window.SVGElement,o=a.get(t),d=r?0:parseFloat(o.paddingTop),f=r?0:parseFloat(o.paddingRight),l=r?0:parseFloat(o.paddingBottom),u=r?0:parseFloat(o.paddingLeft),g=r?0:parseFloat(o.borderTopWidth),m=r?0:parseFloat(o.borderRightWidth),w=r?0:parseFloat(o.borderBottomWidth),b=u+f,F=d+l,v=(r?0:parseFloat(o.borderLeftWidth))+m,W=g+w,y=r?0:t.offsetHeight-W-t.clientHeight,E=r?0:t.offsetWidth-v-t.clientWidth,R=b+v,z=F+W,M=r?t.width:parseFloat(o.width)-R-E,O=r?t.height:parseFloat(o.height)-z-y;if(n.has(t)){var k=n.get(t);if(k[0]===M&&k[1]===O)return}n.set(t,[M,O]);var S=Object.create(h.prototype);S.target=t,S.contentRect=new c(u,d,M,O),s.has(i)||(s.set(i,[]),p.add(i)),s.get(i).push(S)}))})),p.forEach((function(e){i.get(e).call(e,s.get(e),e)}))}return s.prototype.observe=function(i){if(i instanceof window.Element){r.has(i)||(r.set(i,new Set),o.add(i),a.set(i,window.getComputedStyle(i)));var n=r.get(i);n.has(this)||n.add(this),cancelAnimationFrame(t),t=requestAnimationFrame(d)}},s.prototype.unobserve=function(i){if(i instanceof window.Element&&r.has(i)){var n=r.get(i);n.has(this)&&(n.delete(this),n.size||(r.delete(i),o.delete(i))),n.size||r.delete(i),o.size||cancelAnimationFrame(t)}},A.DOMRectReadOnly=c,A.ResizeObserver=s,A.ResizeObserverEntry=h,A}; // eslint-disable-line\n",
       "mpl.toolbar_items = [[\"Home\", \"Reset original view\", \"fa fa-home\", \"home\"], [\"Back\", \"Back to previous view\", \"fa fa-arrow-left\", \"back\"], [\"Forward\", \"Forward to next view\", \"fa fa-arrow-right\", \"forward\"], [\"\", \"\", \"\", \"\"], [\"Pan\", \"Left button pans, Right button zooms\\nx/y fixes axis, CTRL fixes aspect\", \"fa fa-arrows\", \"pan\"], [\"Zoom\", \"Zoom to rectangle\\nx/y fixes axis\", \"fa fa-square-o\", \"zoom\"], [\"\", \"\", \"\", \"\"], [\"Download\", \"Download plot\", \"fa fa-floppy-o\", \"download\"]];\n",
       "\n",
       "mpl.extensions = [\"eps\", \"jpeg\", \"pgf\", \"pdf\", \"png\", \"ps\", \"raw\", \"svg\", \"tif\", \"webp\"];\n",
       "\n",
       "mpl.default_extension = \"png\";/* global mpl */\n",
       "\n",
       "var comm_websocket_adapter = function (comm) {\n",
       "    // Create a \"websocket\"-like object which calls the given IPython comm\n",
       "    // object with the appropriate methods. Currently this is a non binary\n",
       "    // socket, so there is still some room for performance tuning.\n",
       "    var ws = {};\n",
       "\n",
       "    ws.binaryType = comm.kernel.ws.binaryType;\n",
       "    ws.readyState = comm.kernel.ws.readyState;\n",
       "    function updateReadyState(_event) {\n",
       "        if (comm.kernel.ws) {\n",
       "            ws.readyState = comm.kernel.ws.readyState;\n",
       "        } else {\n",
       "            ws.readyState = 3; // Closed state.\n",
       "        }\n",
       "    }\n",
       "    comm.kernel.ws.addEventListener('open', updateReadyState);\n",
       "    comm.kernel.ws.addEventListener('close', updateReadyState);\n",
       "    comm.kernel.ws.addEventListener('error', updateReadyState);\n",
       "\n",
       "    ws.close = function () {\n",
       "        comm.close();\n",
       "    };\n",
       "    ws.send = function (m) {\n",
       "        //console.log('sending', m);\n",
       "        comm.send(m);\n",
       "    };\n",
       "    // Register the callback with on_msg.\n",
       "    comm.on_msg(function (msg) {\n",
       "        //console.log('receiving', msg['content']['data'], msg);\n",
       "        var data = msg['content']['data'];\n",
       "        if (data['blob'] !== undefined) {\n",
       "            data = {\n",
       "                data: new Blob(msg['buffers'], { type: data['blob'] }),\n",
       "            };\n",
       "        }\n",
       "        // Pass the mpl event to the overridden (by mpl) onmessage function.\n",
       "        ws.onmessage(data);\n",
       "    });\n",
       "    return ws;\n",
       "};\n",
       "\n",
       "mpl.mpl_figure_comm = function (comm, msg) {\n",
       "    // This is the function which gets called when the mpl process\n",
       "    // starts-up an IPython Comm through the \"matplotlib\" channel.\n",
       "\n",
       "    var id = msg.content.data.id;\n",
       "    // Get hold of the div created by the display call when the Comm\n",
       "    // socket was opened in Python.\n",
       "    var element = document.getElementById(id);\n",
       "    var ws_proxy = comm_websocket_adapter(comm);\n",
       "\n",
       "    function ondownload(figure, _format) {\n",
       "        window.open(figure.canvas.toDataURL());\n",
       "    }\n",
       "\n",
       "    var fig = new mpl.figure(id, ws_proxy, ondownload, element);\n",
       "\n",
       "    // Call onopen now - mpl needs it, as it is assuming we've passed it a real\n",
       "    // web socket which is closed, not our websocket->open comm proxy.\n",
       "    ws_proxy.onopen();\n",
       "\n",
       "    fig.parent_element = element;\n",
       "    fig.cell_info = mpl.find_output_cell(\"<div id='\" + id + \"'></div>\");\n",
       "    if (!fig.cell_info) {\n",
       "        console.error('Failed to find cell for figure', id, fig);\n",
       "        return;\n",
       "    }\n",
       "    fig.cell_info[0].output_area.element.on(\n",
       "        'cleared',\n",
       "        { fig: fig },\n",
       "        fig._remove_fig_handler\n",
       "    );\n",
       "};\n",
       "\n",
       "mpl.figure.prototype.handle_close = function (fig, msg) {\n",
       "    var width = fig.canvas.width / fig.ratio;\n",
       "    fig.cell_info[0].output_area.element.off(\n",
       "        'cleared',\n",
       "        fig._remove_fig_handler\n",
       "    );\n",
       "    fig.resizeObserverInstance.unobserve(fig.canvas_div);\n",
       "\n",
       "    // Update the output cell to use the data from the current canvas.\n",
       "    fig.push_to_output();\n",
       "    var dataURL = fig.canvas.toDataURL();\n",
       "    // Re-enable the keyboard manager in IPython - without this line, in FF,\n",
       "    // the notebook keyboard shortcuts fail.\n",
       "    IPython.keyboard_manager.enable();\n",
       "    fig.parent_element.innerHTML =\n",
       "        '<img src=\"' + dataURL + '\" width=\"' + width + '\">';\n",
       "    fig.close_ws(fig, msg);\n",
       "};\n",
       "\n",
       "mpl.figure.prototype.close_ws = function (fig, msg) {\n",
       "    fig.send_message('closing', msg);\n",
       "    // fig.ws.close()\n",
       "};\n",
       "\n",
       "mpl.figure.prototype.push_to_output = function (_remove_interactive) {\n",
       "    // Turn the data on the canvas into data in the output cell.\n",
       "    var width = this.canvas.width / this.ratio;\n",
       "    var dataURL = this.canvas.toDataURL();\n",
       "    this.cell_info[1]['text/html'] =\n",
       "        '<img src=\"' + dataURL + '\" width=\"' + width + '\">';\n",
       "};\n",
       "\n",
       "mpl.figure.prototype.updated_canvas_event = function () {\n",
       "    // Tell IPython that the notebook contents must change.\n",
       "    IPython.notebook.set_dirty(true);\n",
       "    this.send_message('ack', {});\n",
       "    var fig = this;\n",
       "    // Wait a second, then push the new image to the DOM so\n",
       "    // that it is saved nicely (might be nice to debounce this).\n",
       "    setTimeout(function () {\n",
       "        fig.push_to_output();\n",
       "    }, 1000);\n",
       "};\n",
       "\n",
       "mpl.figure.prototype._init_toolbar = function () {\n",
       "    var fig = this;\n",
       "\n",
       "    var toolbar = document.createElement('div');\n",
       "    toolbar.classList = 'btn-toolbar';\n",
       "    this.root.appendChild(toolbar);\n",
       "\n",
       "    function on_click_closure(name) {\n",
       "        return function (_event) {\n",
       "            return fig.toolbar_button_onclick(name);\n",
       "        };\n",
       "    }\n",
       "\n",
       "    function on_mouseover_closure(tooltip) {\n",
       "        return function (event) {\n",
       "            if (!event.currentTarget.disabled) {\n",
       "                return fig.toolbar_button_onmouseover(tooltip);\n",
       "            }\n",
       "        };\n",
       "    }\n",
       "\n",
       "    fig.buttons = {};\n",
       "    var buttonGroup = document.createElement('div');\n",
       "    buttonGroup.classList = 'btn-group';\n",
       "    var button;\n",
       "    for (var toolbar_ind in mpl.toolbar_items) {\n",
       "        var name = mpl.toolbar_items[toolbar_ind][0];\n",
       "        var tooltip = mpl.toolbar_items[toolbar_ind][1];\n",
       "        var image = mpl.toolbar_items[toolbar_ind][2];\n",
       "        var method_name = mpl.toolbar_items[toolbar_ind][3];\n",
       "\n",
       "        if (!name) {\n",
       "            /* Instead of a spacer, we start a new button group. */\n",
       "            if (buttonGroup.hasChildNodes()) {\n",
       "                toolbar.appendChild(buttonGroup);\n",
       "            }\n",
       "            buttonGroup = document.createElement('div');\n",
       "            buttonGroup.classList = 'btn-group';\n",
       "            continue;\n",
       "        }\n",
       "\n",
       "        button = fig.buttons[name] = document.createElement('button');\n",
       "        button.classList = 'btn btn-default';\n",
       "        button.href = '#';\n",
       "        button.title = name;\n",
       "        button.innerHTML = '<i class=\"fa ' + image + ' fa-lg\"></i>';\n",
       "        button.addEventListener('click', on_click_closure(method_name));\n",
       "        button.addEventListener('mouseover', on_mouseover_closure(tooltip));\n",
       "        buttonGroup.appendChild(button);\n",
       "    }\n",
       "\n",
       "    if (buttonGroup.hasChildNodes()) {\n",
       "        toolbar.appendChild(buttonGroup);\n",
       "    }\n",
       "\n",
       "    // Add the status bar.\n",
       "    var status_bar = document.createElement('span');\n",
       "    status_bar.classList = 'mpl-message pull-right';\n",
       "    toolbar.appendChild(status_bar);\n",
       "    this.message = status_bar;\n",
       "\n",
       "    // Add the close button to the window.\n",
       "    var buttongrp = document.createElement('div');\n",
       "    buttongrp.classList = 'btn-group inline pull-right';\n",
       "    button = document.createElement('button');\n",
       "    button.classList = 'btn btn-mini btn-primary';\n",
       "    button.href = '#';\n",
       "    button.title = 'Stop Interaction';\n",
       "    button.innerHTML = '<i class=\"fa fa-power-off icon-remove icon-large\"></i>';\n",
       "    button.addEventListener('click', function (_evt) {\n",
       "        fig.handle_close(fig, {});\n",
       "    });\n",
       "    button.addEventListener(\n",
       "        'mouseover',\n",
       "        on_mouseover_closure('Stop Interaction')\n",
       "    );\n",
       "    buttongrp.appendChild(button);\n",
       "    var titlebar = this.root.querySelector('.ui-dialog-titlebar');\n",
       "    titlebar.insertBefore(buttongrp, titlebar.firstChild);\n",
       "};\n",
       "\n",
       "mpl.figure.prototype._remove_fig_handler = function (event) {\n",
       "    var fig = event.data.fig;\n",
       "    if (event.target !== this) {\n",
       "        // Ignore bubbled events from children.\n",
       "        return;\n",
       "    }\n",
       "    fig.close_ws(fig, {});\n",
       "};\n",
       "\n",
       "mpl.figure.prototype._root_extra_style = function (el) {\n",
       "    el.style.boxSizing = 'content-box'; // override notebook setting of border-box.\n",
       "};\n",
       "\n",
       "mpl.figure.prototype._canvas_extra_style = function (el) {\n",
       "    // this is important to make the div 'focusable\n",
       "    el.setAttribute('tabindex', 0);\n",
       "    // reach out to IPython and tell the keyboard manager to turn it's self\n",
       "    // off when our div gets focus\n",
       "\n",
       "    // location in version 3\n",
       "    if (IPython.notebook.keyboard_manager) {\n",
       "        IPython.notebook.keyboard_manager.register_events(el);\n",
       "    } else {\n",
       "        // location in version 2\n",
       "        IPython.keyboard_manager.register_events(el);\n",
       "    }\n",
       "};\n",
       "\n",
       "mpl.figure.prototype._key_event_extra = function (event, _name) {\n",
       "    // Check for shift+enter\n",
       "    if (event.shiftKey && event.which === 13) {\n",
       "        this.canvas_div.blur();\n",
       "        // select the cell after this one\n",
       "        var index = IPython.notebook.find_cell_index(this.cell_info[0]);\n",
       "        IPython.notebook.select(index + 1);\n",
       "    }\n",
       "};\n",
       "\n",
       "mpl.figure.prototype.handle_save = function (fig, _msg) {\n",
       "    fig.ondownload(fig, null);\n",
       "};\n",
       "\n",
       "mpl.find_output_cell = function (html_output) {\n",
       "    // Return the cell and output element which can be found *uniquely* in the notebook.\n",
       "    // Note - this is a bit hacky, but it is done because the \"notebook_saving.Notebook\"\n",
       "    // IPython event is triggered only after the cells have been serialised, which for\n",
       "    // our purposes (turning an active figure into a static one), is too late.\n",
       "    var cells = IPython.notebook.get_cells();\n",
       "    var ncells = cells.length;\n",
       "    for (var i = 0; i < ncells; i++) {\n",
       "        var cell = cells[i];\n",
       "        if (cell.cell_type === 'code') {\n",
       "            for (var j = 0; j < cell.output_area.outputs.length; j++) {\n",
       "                var data = cell.output_area.outputs[j];\n",
       "                if (data.data) {\n",
       "                    // IPython >= 3 moved mimebundle to data attribute of output\n",
       "                    data = data.data;\n",
       "                }\n",
       "                if (data['text/html'] === html_output) {\n",
       "                    return [cell, data, j];\n",
       "                }\n",
       "            }\n",
       "        }\n",
       "    }\n",
       "};\n",
       "\n",
       "// Register the function which deals with the matplotlib target/channel.\n",
       "// The kernel may be null if the page has been refreshed.\n",
       "if (IPython.notebook.kernel !== null) {\n",
       "    IPython.notebook.kernel.comm_manager.register_target(\n",
       "        'matplotlib',\n",
       "        mpl.mpl_figure_comm\n",
       "    );\n",
       "}\n"
      ],
      "text/plain": [
       "<IPython.core.display.Javascript object>"
      ]
     },
     "metadata": {},
     "output_type": "display_data"
    },
    {
     "data": {
      "text/html": [
       "<div id='d0bda75b-c6f5-48af-98dc-7866043cb1ec'></div>"
      ],
      "text/plain": [
       "<IPython.core.display.HTML object>"
      ]
     },
     "metadata": {},
     "output_type": "display_data"
    },
    {
     "data": {
      "text/plain": [
       "<matplotlib.image.AxesImage at 0x12ca85110>"
      ]
     },
     "execution_count": 44,
     "metadata": {},
     "output_type": "execute_result"
    }
   ],
   "source": [
    "fig, ax = plt.subplots(1, 2, sharex=True, sharey=True)\n",
    "img = pr.imgs[0]\n",
    "mask = pr.masks[0]\n",
    "# mask[1032, 510] = True\n",
    "# mask[394, 889] = True\n",
    "# mask[384, 908] = True\n",
    "# mask[396, 908] = True\n",
    "# mask[404, 913] = True\n",
    "# mask[406, 916] = True\n",
    "\n",
    "ax[0].imshow(img*np.logical_not(mask), vmax=np.percentile(img, 99.0))\n",
    "ax[1].imshow(img, vmax=np.percentile(img, 99.0))"
   ]
  },
  {
   "cell_type": "code",
   "execution_count": 45,
   "metadata": {},
   "outputs": [
    {
     "data": {
      "application/javascript": [
       "/* Put everything inside the global mpl namespace */\n",
       "/* global mpl */\n",
       "window.mpl = {};\n",
       "\n",
       "mpl.get_websocket_type = function () {\n",
       "    if (typeof WebSocket !== 'undefined') {\n",
       "        return WebSocket;\n",
       "    } else if (typeof MozWebSocket !== 'undefined') {\n",
       "        return MozWebSocket;\n",
       "    } else {\n",
       "        alert(\n",
       "            'Your browser does not have WebSocket support. ' +\n",
       "                'Please try Chrome, Safari or Firefox ≥ 6. ' +\n",
       "                'Firefox 4 and 5 are also supported but you ' +\n",
       "                'have to enable WebSockets in about:config.'\n",
       "        );\n",
       "    }\n",
       "};\n",
       "\n",
       "mpl.figure = function (figure_id, websocket, ondownload, parent_element) {\n",
       "    this.id = figure_id;\n",
       "\n",
       "    this.ws = websocket;\n",
       "\n",
       "    this.supports_binary = this.ws.binaryType !== undefined;\n",
       "\n",
       "    if (!this.supports_binary) {\n",
       "        var warnings = document.getElementById('mpl-warnings');\n",
       "        if (warnings) {\n",
       "            warnings.style.display = 'block';\n",
       "            warnings.textContent =\n",
       "                'This browser does not support binary websocket messages. ' +\n",
       "                'Performance may be slow.';\n",
       "        }\n",
       "    }\n",
       "\n",
       "    this.imageObj = new Image();\n",
       "\n",
       "    this.context = undefined;\n",
       "    this.message = undefined;\n",
       "    this.canvas = undefined;\n",
       "    this.rubberband_canvas = undefined;\n",
       "    this.rubberband_context = undefined;\n",
       "    this.format_dropdown = undefined;\n",
       "\n",
       "    this.image_mode = 'full';\n",
       "\n",
       "    this.root = document.createElement('div');\n",
       "    this.root.setAttribute('style', 'display: inline-block');\n",
       "    this._root_extra_style(this.root);\n",
       "\n",
       "    parent_element.appendChild(this.root);\n",
       "\n",
       "    this._init_header(this);\n",
       "    this._init_canvas(this);\n",
       "    this._init_toolbar(this);\n",
       "\n",
       "    var fig = this;\n",
       "\n",
       "    this.waiting = false;\n",
       "\n",
       "    this.ws.onopen = function () {\n",
       "        fig.send_message('supports_binary', { value: fig.supports_binary });\n",
       "        fig.send_message('send_image_mode', {});\n",
       "        if (fig.ratio !== 1) {\n",
       "            fig.send_message('set_device_pixel_ratio', {\n",
       "                device_pixel_ratio: fig.ratio,\n",
       "            });\n",
       "        }\n",
       "        fig.send_message('refresh', {});\n",
       "    };\n",
       "\n",
       "    this.imageObj.onload = function () {\n",
       "        if (fig.image_mode === 'full') {\n",
       "            // Full images could contain transparency (where diff images\n",
       "            // almost always do), so we need to clear the canvas so that\n",
       "            // there is no ghosting.\n",
       "            fig.context.clearRect(0, 0, fig.canvas.width, fig.canvas.height);\n",
       "        }\n",
       "        fig.context.drawImage(fig.imageObj, 0, 0);\n",
       "    };\n",
       "\n",
       "    this.imageObj.onunload = function () {\n",
       "        fig.ws.close();\n",
       "    };\n",
       "\n",
       "    this.ws.onmessage = this._make_on_message_function(this);\n",
       "\n",
       "    this.ondownload = ondownload;\n",
       "};\n",
       "\n",
       "mpl.figure.prototype._init_header = function () {\n",
       "    var titlebar = document.createElement('div');\n",
       "    titlebar.classList =\n",
       "        'ui-dialog-titlebar ui-widget-header ui-corner-all ui-helper-clearfix';\n",
       "    var titletext = document.createElement('div');\n",
       "    titletext.classList = 'ui-dialog-title';\n",
       "    titletext.setAttribute(\n",
       "        'style',\n",
       "        'width: 100%; text-align: center; padding: 3px;'\n",
       "    );\n",
       "    titlebar.appendChild(titletext);\n",
       "    this.root.appendChild(titlebar);\n",
       "    this.header = titletext;\n",
       "};\n",
       "\n",
       "mpl.figure.prototype._canvas_extra_style = function (_canvas_div) {};\n",
       "\n",
       "mpl.figure.prototype._root_extra_style = function (_canvas_div) {};\n",
       "\n",
       "mpl.figure.prototype._init_canvas = function () {\n",
       "    var fig = this;\n",
       "\n",
       "    var canvas_div = (this.canvas_div = document.createElement('div'));\n",
       "    canvas_div.setAttribute('tabindex', '0');\n",
       "    canvas_div.setAttribute(\n",
       "        'style',\n",
       "        'border: 1px solid #ddd;' +\n",
       "            'box-sizing: content-box;' +\n",
       "            'clear: both;' +\n",
       "            'min-height: 1px;' +\n",
       "            'min-width: 1px;' +\n",
       "            'outline: 0;' +\n",
       "            'overflow: hidden;' +\n",
       "            'position: relative;' +\n",
       "            'resize: both;' +\n",
       "            'z-index: 2;'\n",
       "    );\n",
       "\n",
       "    function on_keyboard_event_closure(name) {\n",
       "        return function (event) {\n",
       "            return fig.key_event(event, name);\n",
       "        };\n",
       "    }\n",
       "\n",
       "    canvas_div.addEventListener(\n",
       "        'keydown',\n",
       "        on_keyboard_event_closure('key_press')\n",
       "    );\n",
       "    canvas_div.addEventListener(\n",
       "        'keyup',\n",
       "        on_keyboard_event_closure('key_release')\n",
       "    );\n",
       "\n",
       "    this._canvas_extra_style(canvas_div);\n",
       "    this.root.appendChild(canvas_div);\n",
       "\n",
       "    var canvas = (this.canvas = document.createElement('canvas'));\n",
       "    canvas.classList.add('mpl-canvas');\n",
       "    canvas.setAttribute(\n",
       "        'style',\n",
       "        'box-sizing: content-box;' +\n",
       "            'pointer-events: none;' +\n",
       "            'position: relative;' +\n",
       "            'z-index: 0;'\n",
       "    );\n",
       "\n",
       "    this.context = canvas.getContext('2d');\n",
       "\n",
       "    var backingStore =\n",
       "        this.context.backingStorePixelRatio ||\n",
       "        this.context.webkitBackingStorePixelRatio ||\n",
       "        this.context.mozBackingStorePixelRatio ||\n",
       "        this.context.msBackingStorePixelRatio ||\n",
       "        this.context.oBackingStorePixelRatio ||\n",
       "        this.context.backingStorePixelRatio ||\n",
       "        1;\n",
       "\n",
       "    this.ratio = (window.devicePixelRatio || 1) / backingStore;\n",
       "\n",
       "    var rubberband_canvas = (this.rubberband_canvas = document.createElement(\n",
       "        'canvas'\n",
       "    ));\n",
       "    rubberband_canvas.setAttribute(\n",
       "        'style',\n",
       "        'box-sizing: content-box;' +\n",
       "            'left: 0;' +\n",
       "            'pointer-events: none;' +\n",
       "            'position: absolute;' +\n",
       "            'top: 0;' +\n",
       "            'z-index: 1;'\n",
       "    );\n",
       "\n",
       "    // Apply a ponyfill if ResizeObserver is not implemented by browser.\n",
       "    if (this.ResizeObserver === undefined) {\n",
       "        if (window.ResizeObserver !== undefined) {\n",
       "            this.ResizeObserver = window.ResizeObserver;\n",
       "        } else {\n",
       "            var obs = _JSXTOOLS_RESIZE_OBSERVER({});\n",
       "            this.ResizeObserver = obs.ResizeObserver;\n",
       "        }\n",
       "    }\n",
       "\n",
       "    this.resizeObserverInstance = new this.ResizeObserver(function (entries) {\n",
       "        var nentries = entries.length;\n",
       "        for (var i = 0; i < nentries; i++) {\n",
       "            var entry = entries[i];\n",
       "            var width, height;\n",
       "            if (entry.contentBoxSize) {\n",
       "                if (entry.contentBoxSize instanceof Array) {\n",
       "                    // Chrome 84 implements new version of spec.\n",
       "                    width = entry.contentBoxSize[0].inlineSize;\n",
       "                    height = entry.contentBoxSize[0].blockSize;\n",
       "                } else {\n",
       "                    // Firefox implements old version of spec.\n",
       "                    width = entry.contentBoxSize.inlineSize;\n",
       "                    height = entry.contentBoxSize.blockSize;\n",
       "                }\n",
       "            } else {\n",
       "                // Chrome <84 implements even older version of spec.\n",
       "                width = entry.contentRect.width;\n",
       "                height = entry.contentRect.height;\n",
       "            }\n",
       "\n",
       "            // Keep the size of the canvas and rubber band canvas in sync with\n",
       "            // the canvas container.\n",
       "            if (entry.devicePixelContentBoxSize) {\n",
       "                // Chrome 84 implements new version of spec.\n",
       "                canvas.setAttribute(\n",
       "                    'width',\n",
       "                    entry.devicePixelContentBoxSize[0].inlineSize\n",
       "                );\n",
       "                canvas.setAttribute(\n",
       "                    'height',\n",
       "                    entry.devicePixelContentBoxSize[0].blockSize\n",
       "                );\n",
       "            } else {\n",
       "                canvas.setAttribute('width', width * fig.ratio);\n",
       "                canvas.setAttribute('height', height * fig.ratio);\n",
       "            }\n",
       "            /* This rescales the canvas back to display pixels, so that it\n",
       "             * appears correct on HiDPI screens. */\n",
       "            canvas.style.width = width + 'px';\n",
       "            canvas.style.height = height + 'px';\n",
       "\n",
       "            rubberband_canvas.setAttribute('width', width);\n",
       "            rubberband_canvas.setAttribute('height', height);\n",
       "\n",
       "            // And update the size in Python. We ignore the initial 0/0 size\n",
       "            // that occurs as the element is placed into the DOM, which should\n",
       "            // otherwise not happen due to the minimum size styling.\n",
       "            if (fig.ws.readyState == 1 && width != 0 && height != 0) {\n",
       "                fig.request_resize(width, height);\n",
       "            }\n",
       "        }\n",
       "    });\n",
       "    this.resizeObserverInstance.observe(canvas_div);\n",
       "\n",
       "    function on_mouse_event_closure(name) {\n",
       "        /* User Agent sniffing is bad, but WebKit is busted:\n",
       "         * https://bugs.webkit.org/show_bug.cgi?id=144526\n",
       "         * https://bugs.webkit.org/show_bug.cgi?id=181818\n",
       "         * The worst that happens here is that they get an extra browser\n",
       "         * selection when dragging, if this check fails to catch them.\n",
       "         */\n",
       "        var UA = navigator.userAgent;\n",
       "        var isWebKit = /AppleWebKit/.test(UA) && !/Chrome/.test(UA);\n",
       "        if(isWebKit) {\n",
       "            return function (event) {\n",
       "                /* This prevents the web browser from automatically changing to\n",
       "                 * the text insertion cursor when the button is pressed. We\n",
       "                 * want to control all of the cursor setting manually through\n",
       "                 * the 'cursor' event from matplotlib */\n",
       "                event.preventDefault()\n",
       "                return fig.mouse_event(event, name);\n",
       "            };\n",
       "        } else {\n",
       "            return function (event) {\n",
       "                return fig.mouse_event(event, name);\n",
       "            };\n",
       "        }\n",
       "    }\n",
       "\n",
       "    canvas_div.addEventListener(\n",
       "        'mousedown',\n",
       "        on_mouse_event_closure('button_press')\n",
       "    );\n",
       "    canvas_div.addEventListener(\n",
       "        'mouseup',\n",
       "        on_mouse_event_closure('button_release')\n",
       "    );\n",
       "    canvas_div.addEventListener(\n",
       "        'dblclick',\n",
       "        on_mouse_event_closure('dblclick')\n",
       "    );\n",
       "    // Throttle sequential mouse events to 1 every 20ms.\n",
       "    canvas_div.addEventListener(\n",
       "        'mousemove',\n",
       "        on_mouse_event_closure('motion_notify')\n",
       "    );\n",
       "\n",
       "    canvas_div.addEventListener(\n",
       "        'mouseenter',\n",
       "        on_mouse_event_closure('figure_enter')\n",
       "    );\n",
       "    canvas_div.addEventListener(\n",
       "        'mouseleave',\n",
       "        on_mouse_event_closure('figure_leave')\n",
       "    );\n",
       "\n",
       "    canvas_div.addEventListener('wheel', function (event) {\n",
       "        if (event.deltaY < 0) {\n",
       "            event.step = 1;\n",
       "        } else {\n",
       "            event.step = -1;\n",
       "        }\n",
       "        on_mouse_event_closure('scroll')(event);\n",
       "    });\n",
       "\n",
       "    canvas_div.appendChild(canvas);\n",
       "    canvas_div.appendChild(rubberband_canvas);\n",
       "\n",
       "    this.rubberband_context = rubberband_canvas.getContext('2d');\n",
       "    this.rubberband_context.strokeStyle = '#000000';\n",
       "\n",
       "    this._resize_canvas = function (width, height, forward) {\n",
       "        if (forward) {\n",
       "            canvas_div.style.width = width + 'px';\n",
       "            canvas_div.style.height = height + 'px';\n",
       "        }\n",
       "    };\n",
       "\n",
       "    // Disable right mouse context menu.\n",
       "    canvas_div.addEventListener('contextmenu', function (_e) {\n",
       "        event.preventDefault();\n",
       "        return false;\n",
       "    });\n",
       "\n",
       "    function set_focus() {\n",
       "        canvas.focus();\n",
       "        canvas_div.focus();\n",
       "    }\n",
       "\n",
       "    window.setTimeout(set_focus, 100);\n",
       "};\n",
       "\n",
       "mpl.figure.prototype._init_toolbar = function () {\n",
       "    var fig = this;\n",
       "\n",
       "    var toolbar = document.createElement('div');\n",
       "    toolbar.classList = 'mpl-toolbar';\n",
       "    this.root.appendChild(toolbar);\n",
       "\n",
       "    function on_click_closure(name) {\n",
       "        return function (_event) {\n",
       "            return fig.toolbar_button_onclick(name);\n",
       "        };\n",
       "    }\n",
       "\n",
       "    function on_mouseover_closure(tooltip) {\n",
       "        return function (event) {\n",
       "            if (!event.currentTarget.disabled) {\n",
       "                return fig.toolbar_button_onmouseover(tooltip);\n",
       "            }\n",
       "        };\n",
       "    }\n",
       "\n",
       "    fig.buttons = {};\n",
       "    var buttonGroup = document.createElement('div');\n",
       "    buttonGroup.classList = 'mpl-button-group';\n",
       "    for (var toolbar_ind in mpl.toolbar_items) {\n",
       "        var name = mpl.toolbar_items[toolbar_ind][0];\n",
       "        var tooltip = mpl.toolbar_items[toolbar_ind][1];\n",
       "        var image = mpl.toolbar_items[toolbar_ind][2];\n",
       "        var method_name = mpl.toolbar_items[toolbar_ind][3];\n",
       "\n",
       "        if (!name) {\n",
       "            /* Instead of a spacer, we start a new button group. */\n",
       "            if (buttonGroup.hasChildNodes()) {\n",
       "                toolbar.appendChild(buttonGroup);\n",
       "            }\n",
       "            buttonGroup = document.createElement('div');\n",
       "            buttonGroup.classList = 'mpl-button-group';\n",
       "            continue;\n",
       "        }\n",
       "\n",
       "        var button = (fig.buttons[name] = document.createElement('button'));\n",
       "        button.classList = 'mpl-widget';\n",
       "        button.setAttribute('role', 'button');\n",
       "        button.setAttribute('aria-disabled', 'false');\n",
       "        button.addEventListener('click', on_click_closure(method_name));\n",
       "        button.addEventListener('mouseover', on_mouseover_closure(tooltip));\n",
       "\n",
       "        var icon_img = document.createElement('img');\n",
       "        icon_img.src = '_images/' + image + '.png';\n",
       "        icon_img.srcset = '_images/' + image + '_large.png 2x';\n",
       "        icon_img.alt = tooltip;\n",
       "        button.appendChild(icon_img);\n",
       "\n",
       "        buttonGroup.appendChild(button);\n",
       "    }\n",
       "\n",
       "    if (buttonGroup.hasChildNodes()) {\n",
       "        toolbar.appendChild(buttonGroup);\n",
       "    }\n",
       "\n",
       "    var fmt_picker = document.createElement('select');\n",
       "    fmt_picker.classList = 'mpl-widget';\n",
       "    toolbar.appendChild(fmt_picker);\n",
       "    this.format_dropdown = fmt_picker;\n",
       "\n",
       "    for (var ind in mpl.extensions) {\n",
       "        var fmt = mpl.extensions[ind];\n",
       "        var option = document.createElement('option');\n",
       "        option.selected = fmt === mpl.default_extension;\n",
       "        option.innerHTML = fmt;\n",
       "        fmt_picker.appendChild(option);\n",
       "    }\n",
       "\n",
       "    var status_bar = document.createElement('span');\n",
       "    status_bar.classList = 'mpl-message';\n",
       "    toolbar.appendChild(status_bar);\n",
       "    this.message = status_bar;\n",
       "};\n",
       "\n",
       "mpl.figure.prototype.request_resize = function (x_pixels, y_pixels) {\n",
       "    // Request matplotlib to resize the figure. Matplotlib will then trigger a resize in the client,\n",
       "    // which will in turn request a refresh of the image.\n",
       "    this.send_message('resize', { width: x_pixels, height: y_pixels });\n",
       "};\n",
       "\n",
       "mpl.figure.prototype.send_message = function (type, properties) {\n",
       "    properties['type'] = type;\n",
       "    properties['figure_id'] = this.id;\n",
       "    this.ws.send(JSON.stringify(properties));\n",
       "};\n",
       "\n",
       "mpl.figure.prototype.send_draw_message = function () {\n",
       "    if (!this.waiting) {\n",
       "        this.waiting = true;\n",
       "        this.ws.send(JSON.stringify({ type: 'draw', figure_id: this.id }));\n",
       "    }\n",
       "};\n",
       "\n",
       "mpl.figure.prototype.handle_save = function (fig, _msg) {\n",
       "    var format_dropdown = fig.format_dropdown;\n",
       "    var format = format_dropdown.options[format_dropdown.selectedIndex].value;\n",
       "    fig.ondownload(fig, format);\n",
       "};\n",
       "\n",
       "mpl.figure.prototype.handle_resize = function (fig, msg) {\n",
       "    var size = msg['size'];\n",
       "    if (size[0] !== fig.canvas.width || size[1] !== fig.canvas.height) {\n",
       "        fig._resize_canvas(size[0], size[1], msg['forward']);\n",
       "        fig.send_message('refresh', {});\n",
       "    }\n",
       "};\n",
       "\n",
       "mpl.figure.prototype.handle_rubberband = function (fig, msg) {\n",
       "    var x0 = msg['x0'] / fig.ratio;\n",
       "    var y0 = (fig.canvas.height - msg['y0']) / fig.ratio;\n",
       "    var x1 = msg['x1'] / fig.ratio;\n",
       "    var y1 = (fig.canvas.height - msg['y1']) / fig.ratio;\n",
       "    x0 = Math.floor(x0) + 0.5;\n",
       "    y0 = Math.floor(y0) + 0.5;\n",
       "    x1 = Math.floor(x1) + 0.5;\n",
       "    y1 = Math.floor(y1) + 0.5;\n",
       "    var min_x = Math.min(x0, x1);\n",
       "    var min_y = Math.min(y0, y1);\n",
       "    var width = Math.abs(x1 - x0);\n",
       "    var height = Math.abs(y1 - y0);\n",
       "\n",
       "    fig.rubberband_context.clearRect(\n",
       "        0,\n",
       "        0,\n",
       "        fig.canvas.width / fig.ratio,\n",
       "        fig.canvas.height / fig.ratio\n",
       "    );\n",
       "\n",
       "    fig.rubberband_context.strokeRect(min_x, min_y, width, height);\n",
       "};\n",
       "\n",
       "mpl.figure.prototype.handle_figure_label = function (fig, msg) {\n",
       "    // Updates the figure title.\n",
       "    fig.header.textContent = msg['label'];\n",
       "};\n",
       "\n",
       "mpl.figure.prototype.handle_cursor = function (fig, msg) {\n",
       "    fig.canvas_div.style.cursor = msg['cursor'];\n",
       "};\n",
       "\n",
       "mpl.figure.prototype.handle_message = function (fig, msg) {\n",
       "    fig.message.textContent = msg['message'];\n",
       "};\n",
       "\n",
       "mpl.figure.prototype.handle_draw = function (fig, _msg) {\n",
       "    // Request the server to send over a new figure.\n",
       "    fig.send_draw_message();\n",
       "};\n",
       "\n",
       "mpl.figure.prototype.handle_image_mode = function (fig, msg) {\n",
       "    fig.image_mode = msg['mode'];\n",
       "};\n",
       "\n",
       "mpl.figure.prototype.handle_history_buttons = function (fig, msg) {\n",
       "    for (var key in msg) {\n",
       "        if (!(key in fig.buttons)) {\n",
       "            continue;\n",
       "        }\n",
       "        fig.buttons[key].disabled = !msg[key];\n",
       "        fig.buttons[key].setAttribute('aria-disabled', !msg[key]);\n",
       "    }\n",
       "};\n",
       "\n",
       "mpl.figure.prototype.handle_navigate_mode = function (fig, msg) {\n",
       "    if (msg['mode'] === 'PAN') {\n",
       "        fig.buttons['Pan'].classList.add('active');\n",
       "        fig.buttons['Zoom'].classList.remove('active');\n",
       "    } else if (msg['mode'] === 'ZOOM') {\n",
       "        fig.buttons['Pan'].classList.remove('active');\n",
       "        fig.buttons['Zoom'].classList.add('active');\n",
       "    } else {\n",
       "        fig.buttons['Pan'].classList.remove('active');\n",
       "        fig.buttons['Zoom'].classList.remove('active');\n",
       "    }\n",
       "};\n",
       "\n",
       "mpl.figure.prototype.updated_canvas_event = function () {\n",
       "    // Called whenever the canvas gets updated.\n",
       "    this.send_message('ack', {});\n",
       "};\n",
       "\n",
       "// A function to construct a web socket function for onmessage handling.\n",
       "// Called in the figure constructor.\n",
       "mpl.figure.prototype._make_on_message_function = function (fig) {\n",
       "    return function socket_on_message(evt) {\n",
       "        if (evt.data instanceof Blob) {\n",
       "            var img = evt.data;\n",
       "            if (img.type !== 'image/png') {\n",
       "                /* FIXME: We get \"Resource interpreted as Image but\n",
       "                 * transferred with MIME type text/plain:\" errors on\n",
       "                 * Chrome.  But how to set the MIME type?  It doesn't seem\n",
       "                 * to be part of the websocket stream */\n",
       "                img.type = 'image/png';\n",
       "            }\n",
       "\n",
       "            /* Free the memory for the previous frames */\n",
       "            if (fig.imageObj.src) {\n",
       "                (window.URL || window.webkitURL).revokeObjectURL(\n",
       "                    fig.imageObj.src\n",
       "                );\n",
       "            }\n",
       "\n",
       "            fig.imageObj.src = (window.URL || window.webkitURL).createObjectURL(\n",
       "                img\n",
       "            );\n",
       "            fig.updated_canvas_event();\n",
       "            fig.waiting = false;\n",
       "            return;\n",
       "        } else if (\n",
       "            typeof evt.data === 'string' &&\n",
       "            evt.data.slice(0, 21) === 'data:image/png;base64'\n",
       "        ) {\n",
       "            fig.imageObj.src = evt.data;\n",
       "            fig.updated_canvas_event();\n",
       "            fig.waiting = false;\n",
       "            return;\n",
       "        }\n",
       "\n",
       "        var msg = JSON.parse(evt.data);\n",
       "        var msg_type = msg['type'];\n",
       "\n",
       "        // Call the  \"handle_{type}\" callback, which takes\n",
       "        // the figure and JSON message as its only arguments.\n",
       "        try {\n",
       "            var callback = fig['handle_' + msg_type];\n",
       "        } catch (e) {\n",
       "            console.log(\n",
       "                \"No handler for the '\" + msg_type + \"' message type: \",\n",
       "                msg\n",
       "            );\n",
       "            return;\n",
       "        }\n",
       "\n",
       "        if (callback) {\n",
       "            try {\n",
       "                // console.log(\"Handling '\" + msg_type + \"' message: \", msg);\n",
       "                callback(fig, msg);\n",
       "            } catch (e) {\n",
       "                console.log(\n",
       "                    \"Exception inside the 'handler_\" + msg_type + \"' callback:\",\n",
       "                    e,\n",
       "                    e.stack,\n",
       "                    msg\n",
       "                );\n",
       "            }\n",
       "        }\n",
       "    };\n",
       "};\n",
       "\n",
       "function getModifiers(event) {\n",
       "    var mods = [];\n",
       "    if (event.ctrlKey) {\n",
       "        mods.push('ctrl');\n",
       "    }\n",
       "    if (event.altKey) {\n",
       "        mods.push('alt');\n",
       "    }\n",
       "    if (event.shiftKey) {\n",
       "        mods.push('shift');\n",
       "    }\n",
       "    if (event.metaKey) {\n",
       "        mods.push('meta');\n",
       "    }\n",
       "    return mods;\n",
       "}\n",
       "\n",
       "/*\n",
       " * return a copy of an object with only non-object keys\n",
       " * we need this to avoid circular references\n",
       " * https://stackoverflow.com/a/24161582/3208463\n",
       " */\n",
       "function simpleKeys(original) {\n",
       "    return Object.keys(original).reduce(function (obj, key) {\n",
       "        if (typeof original[key] !== 'object') {\n",
       "            obj[key] = original[key];\n",
       "        }\n",
       "        return obj;\n",
       "    }, {});\n",
       "}\n",
       "\n",
       "mpl.figure.prototype.mouse_event = function (event, name) {\n",
       "    if (name === 'button_press') {\n",
       "        this.canvas.focus();\n",
       "        this.canvas_div.focus();\n",
       "    }\n",
       "\n",
       "    // from https://stackoverflow.com/q/1114465\n",
       "    var boundingRect = this.canvas.getBoundingClientRect();\n",
       "    var x = (event.clientX - boundingRect.left) * this.ratio;\n",
       "    var y = (event.clientY - boundingRect.top) * this.ratio;\n",
       "\n",
       "    this.send_message(name, {\n",
       "        x: x,\n",
       "        y: y,\n",
       "        button: event.button,\n",
       "        step: event.step,\n",
       "        modifiers: getModifiers(event),\n",
       "        guiEvent: simpleKeys(event),\n",
       "    });\n",
       "\n",
       "    return false;\n",
       "};\n",
       "\n",
       "mpl.figure.prototype._key_event_extra = function (_event, _name) {\n",
       "    // Handle any extra behaviour associated with a key event\n",
       "};\n",
       "\n",
       "mpl.figure.prototype.key_event = function (event, name) {\n",
       "    // Prevent repeat events\n",
       "    if (name === 'key_press') {\n",
       "        if (event.key === this._key) {\n",
       "            return;\n",
       "        } else {\n",
       "            this._key = event.key;\n",
       "        }\n",
       "    }\n",
       "    if (name === 'key_release') {\n",
       "        this._key = null;\n",
       "    }\n",
       "\n",
       "    var value = '';\n",
       "    if (event.ctrlKey && event.key !== 'Control') {\n",
       "        value += 'ctrl+';\n",
       "    }\n",
       "    else if (event.altKey && event.key !== 'Alt') {\n",
       "        value += 'alt+';\n",
       "    }\n",
       "    else if (event.shiftKey && event.key !== 'Shift') {\n",
       "        value += 'shift+';\n",
       "    }\n",
       "\n",
       "    value += 'k' + event.key;\n",
       "\n",
       "    this._key_event_extra(event, name);\n",
       "\n",
       "    this.send_message(name, { key: value, guiEvent: simpleKeys(event) });\n",
       "    return false;\n",
       "};\n",
       "\n",
       "mpl.figure.prototype.toolbar_button_onclick = function (name) {\n",
       "    if (name === 'download') {\n",
       "        this.handle_save(this, null);\n",
       "    } else {\n",
       "        this.send_message('toolbar_button', { name: name });\n",
       "    }\n",
       "};\n",
       "\n",
       "mpl.figure.prototype.toolbar_button_onmouseover = function (tooltip) {\n",
       "    this.message.textContent = tooltip;\n",
       "};\n",
       "\n",
       "///////////////// REMAINING CONTENT GENERATED BY embed_js.py /////////////////\n",
       "// prettier-ignore\n",
       "var _JSXTOOLS_RESIZE_OBSERVER=function(A){var t,i=new WeakMap,n=new WeakMap,a=new WeakMap,r=new WeakMap,o=new Set;function s(e){if(!(this instanceof s))throw new TypeError(\"Constructor requires 'new' operator\");i.set(this,e)}function h(){throw new TypeError(\"Function is not a constructor\")}function c(e,t,i,n){e=0 in arguments?Number(arguments[0]):0,t=1 in arguments?Number(arguments[1]):0,i=2 in arguments?Number(arguments[2]):0,n=3 in arguments?Number(arguments[3]):0,this.right=(this.x=this.left=e)+(this.width=i),this.bottom=(this.y=this.top=t)+(this.height=n),Object.freeze(this)}function d(){t=requestAnimationFrame(d);var s=new WeakMap,p=new Set;o.forEach((function(t){r.get(t).forEach((function(i){var r=t instanceof window.SVGElement,o=a.get(t),d=r?0:parseFloat(o.paddingTop),f=r?0:parseFloat(o.paddingRight),l=r?0:parseFloat(o.paddingBottom),u=r?0:parseFloat(o.paddingLeft),g=r?0:parseFloat(o.borderTopWidth),m=r?0:parseFloat(o.borderRightWidth),w=r?0:parseFloat(o.borderBottomWidth),b=u+f,F=d+l,v=(r?0:parseFloat(o.borderLeftWidth))+m,W=g+w,y=r?0:t.offsetHeight-W-t.clientHeight,E=r?0:t.offsetWidth-v-t.clientWidth,R=b+v,z=F+W,M=r?t.width:parseFloat(o.width)-R-E,O=r?t.height:parseFloat(o.height)-z-y;if(n.has(t)){var k=n.get(t);if(k[0]===M&&k[1]===O)return}n.set(t,[M,O]);var S=Object.create(h.prototype);S.target=t,S.contentRect=new c(u,d,M,O),s.has(i)||(s.set(i,[]),p.add(i)),s.get(i).push(S)}))})),p.forEach((function(e){i.get(e).call(e,s.get(e),e)}))}return s.prototype.observe=function(i){if(i instanceof window.Element){r.has(i)||(r.set(i,new Set),o.add(i),a.set(i,window.getComputedStyle(i)));var n=r.get(i);n.has(this)||n.add(this),cancelAnimationFrame(t),t=requestAnimationFrame(d)}},s.prototype.unobserve=function(i){if(i instanceof window.Element&&r.has(i)){var n=r.get(i);n.has(this)&&(n.delete(this),n.size||(r.delete(i),o.delete(i))),n.size||r.delete(i),o.size||cancelAnimationFrame(t)}},A.DOMRectReadOnly=c,A.ResizeObserver=s,A.ResizeObserverEntry=h,A}; // eslint-disable-line\n",
       "mpl.toolbar_items = [[\"Home\", \"Reset original view\", \"fa fa-home\", \"home\"], [\"Back\", \"Back to previous view\", \"fa fa-arrow-left\", \"back\"], [\"Forward\", \"Forward to next view\", \"fa fa-arrow-right\", \"forward\"], [\"\", \"\", \"\", \"\"], [\"Pan\", \"Left button pans, Right button zooms\\nx/y fixes axis, CTRL fixes aspect\", \"fa fa-arrows\", \"pan\"], [\"Zoom\", \"Zoom to rectangle\\nx/y fixes axis\", \"fa fa-square-o\", \"zoom\"], [\"\", \"\", \"\", \"\"], [\"Download\", \"Download plot\", \"fa fa-floppy-o\", \"download\"]];\n",
       "\n",
       "mpl.extensions = [\"eps\", \"jpeg\", \"pgf\", \"pdf\", \"png\", \"ps\", \"raw\", \"svg\", \"tif\", \"webp\"];\n",
       "\n",
       "mpl.default_extension = \"png\";/* global mpl */\n",
       "\n",
       "var comm_websocket_adapter = function (comm) {\n",
       "    // Create a \"websocket\"-like object which calls the given IPython comm\n",
       "    // object with the appropriate methods. Currently this is a non binary\n",
       "    // socket, so there is still some room for performance tuning.\n",
       "    var ws = {};\n",
       "\n",
       "    ws.binaryType = comm.kernel.ws.binaryType;\n",
       "    ws.readyState = comm.kernel.ws.readyState;\n",
       "    function updateReadyState(_event) {\n",
       "        if (comm.kernel.ws) {\n",
       "            ws.readyState = comm.kernel.ws.readyState;\n",
       "        } else {\n",
       "            ws.readyState = 3; // Closed state.\n",
       "        }\n",
       "    }\n",
       "    comm.kernel.ws.addEventListener('open', updateReadyState);\n",
       "    comm.kernel.ws.addEventListener('close', updateReadyState);\n",
       "    comm.kernel.ws.addEventListener('error', updateReadyState);\n",
       "\n",
       "    ws.close = function () {\n",
       "        comm.close();\n",
       "    };\n",
       "    ws.send = function (m) {\n",
       "        //console.log('sending', m);\n",
       "        comm.send(m);\n",
       "    };\n",
       "    // Register the callback with on_msg.\n",
       "    comm.on_msg(function (msg) {\n",
       "        //console.log('receiving', msg['content']['data'], msg);\n",
       "        var data = msg['content']['data'];\n",
       "        if (data['blob'] !== undefined) {\n",
       "            data = {\n",
       "                data: new Blob(msg['buffers'], { type: data['blob'] }),\n",
       "            };\n",
       "        }\n",
       "        // Pass the mpl event to the overridden (by mpl) onmessage function.\n",
       "        ws.onmessage(data);\n",
       "    });\n",
       "    return ws;\n",
       "};\n",
       "\n",
       "mpl.mpl_figure_comm = function (comm, msg) {\n",
       "    // This is the function which gets called when the mpl process\n",
       "    // starts-up an IPython Comm through the \"matplotlib\" channel.\n",
       "\n",
       "    var id = msg.content.data.id;\n",
       "    // Get hold of the div created by the display call when the Comm\n",
       "    // socket was opened in Python.\n",
       "    var element = document.getElementById(id);\n",
       "    var ws_proxy = comm_websocket_adapter(comm);\n",
       "\n",
       "    function ondownload(figure, _format) {\n",
       "        window.open(figure.canvas.toDataURL());\n",
       "    }\n",
       "\n",
       "    var fig = new mpl.figure(id, ws_proxy, ondownload, element);\n",
       "\n",
       "    // Call onopen now - mpl needs it, as it is assuming we've passed it a real\n",
       "    // web socket which is closed, not our websocket->open comm proxy.\n",
       "    ws_proxy.onopen();\n",
       "\n",
       "    fig.parent_element = element;\n",
       "    fig.cell_info = mpl.find_output_cell(\"<div id='\" + id + \"'></div>\");\n",
       "    if (!fig.cell_info) {\n",
       "        console.error('Failed to find cell for figure', id, fig);\n",
       "        return;\n",
       "    }\n",
       "    fig.cell_info[0].output_area.element.on(\n",
       "        'cleared',\n",
       "        { fig: fig },\n",
       "        fig._remove_fig_handler\n",
       "    );\n",
       "};\n",
       "\n",
       "mpl.figure.prototype.handle_close = function (fig, msg) {\n",
       "    var width = fig.canvas.width / fig.ratio;\n",
       "    fig.cell_info[0].output_area.element.off(\n",
       "        'cleared',\n",
       "        fig._remove_fig_handler\n",
       "    );\n",
       "    fig.resizeObserverInstance.unobserve(fig.canvas_div);\n",
       "\n",
       "    // Update the output cell to use the data from the current canvas.\n",
       "    fig.push_to_output();\n",
       "    var dataURL = fig.canvas.toDataURL();\n",
       "    // Re-enable the keyboard manager in IPython - without this line, in FF,\n",
       "    // the notebook keyboard shortcuts fail.\n",
       "    IPython.keyboard_manager.enable();\n",
       "    fig.parent_element.innerHTML =\n",
       "        '<img src=\"' + dataURL + '\" width=\"' + width + '\">';\n",
       "    fig.close_ws(fig, msg);\n",
       "};\n",
       "\n",
       "mpl.figure.prototype.close_ws = function (fig, msg) {\n",
       "    fig.send_message('closing', msg);\n",
       "    // fig.ws.close()\n",
       "};\n",
       "\n",
       "mpl.figure.prototype.push_to_output = function (_remove_interactive) {\n",
       "    // Turn the data on the canvas into data in the output cell.\n",
       "    var width = this.canvas.width / this.ratio;\n",
       "    var dataURL = this.canvas.toDataURL();\n",
       "    this.cell_info[1]['text/html'] =\n",
       "        '<img src=\"' + dataURL + '\" width=\"' + width + '\">';\n",
       "};\n",
       "\n",
       "mpl.figure.prototype.updated_canvas_event = function () {\n",
       "    // Tell IPython that the notebook contents must change.\n",
       "    IPython.notebook.set_dirty(true);\n",
       "    this.send_message('ack', {});\n",
       "    var fig = this;\n",
       "    // Wait a second, then push the new image to the DOM so\n",
       "    // that it is saved nicely (might be nice to debounce this).\n",
       "    setTimeout(function () {\n",
       "        fig.push_to_output();\n",
       "    }, 1000);\n",
       "};\n",
       "\n",
       "mpl.figure.prototype._init_toolbar = function () {\n",
       "    var fig = this;\n",
       "\n",
       "    var toolbar = document.createElement('div');\n",
       "    toolbar.classList = 'btn-toolbar';\n",
       "    this.root.appendChild(toolbar);\n",
       "\n",
       "    function on_click_closure(name) {\n",
       "        return function (_event) {\n",
       "            return fig.toolbar_button_onclick(name);\n",
       "        };\n",
       "    }\n",
       "\n",
       "    function on_mouseover_closure(tooltip) {\n",
       "        return function (event) {\n",
       "            if (!event.currentTarget.disabled) {\n",
       "                return fig.toolbar_button_onmouseover(tooltip);\n",
       "            }\n",
       "        };\n",
       "    }\n",
       "\n",
       "    fig.buttons = {};\n",
       "    var buttonGroup = document.createElement('div');\n",
       "    buttonGroup.classList = 'btn-group';\n",
       "    var button;\n",
       "    for (var toolbar_ind in mpl.toolbar_items) {\n",
       "        var name = mpl.toolbar_items[toolbar_ind][0];\n",
       "        var tooltip = mpl.toolbar_items[toolbar_ind][1];\n",
       "        var image = mpl.toolbar_items[toolbar_ind][2];\n",
       "        var method_name = mpl.toolbar_items[toolbar_ind][3];\n",
       "\n",
       "        if (!name) {\n",
       "            /* Instead of a spacer, we start a new button group. */\n",
       "            if (buttonGroup.hasChildNodes()) {\n",
       "                toolbar.appendChild(buttonGroup);\n",
       "            }\n",
       "            buttonGroup = document.createElement('div');\n",
       "            buttonGroup.classList = 'btn-group';\n",
       "            continue;\n",
       "        }\n",
       "\n",
       "        button = fig.buttons[name] = document.createElement('button');\n",
       "        button.classList = 'btn btn-default';\n",
       "        button.href = '#';\n",
       "        button.title = name;\n",
       "        button.innerHTML = '<i class=\"fa ' + image + ' fa-lg\"></i>';\n",
       "        button.addEventListener('click', on_click_closure(method_name));\n",
       "        button.addEventListener('mouseover', on_mouseover_closure(tooltip));\n",
       "        buttonGroup.appendChild(button);\n",
       "    }\n",
       "\n",
       "    if (buttonGroup.hasChildNodes()) {\n",
       "        toolbar.appendChild(buttonGroup);\n",
       "    }\n",
       "\n",
       "    // Add the status bar.\n",
       "    var status_bar = document.createElement('span');\n",
       "    status_bar.classList = 'mpl-message pull-right';\n",
       "    toolbar.appendChild(status_bar);\n",
       "    this.message = status_bar;\n",
       "\n",
       "    // Add the close button to the window.\n",
       "    var buttongrp = document.createElement('div');\n",
       "    buttongrp.classList = 'btn-group inline pull-right';\n",
       "    button = document.createElement('button');\n",
       "    button.classList = 'btn btn-mini btn-primary';\n",
       "    button.href = '#';\n",
       "    button.title = 'Stop Interaction';\n",
       "    button.innerHTML = '<i class=\"fa fa-power-off icon-remove icon-large\"></i>';\n",
       "    button.addEventListener('click', function (_evt) {\n",
       "        fig.handle_close(fig, {});\n",
       "    });\n",
       "    button.addEventListener(\n",
       "        'mouseover',\n",
       "        on_mouseover_closure('Stop Interaction')\n",
       "    );\n",
       "    buttongrp.appendChild(button);\n",
       "    var titlebar = this.root.querySelector('.ui-dialog-titlebar');\n",
       "    titlebar.insertBefore(buttongrp, titlebar.firstChild);\n",
       "};\n",
       "\n",
       "mpl.figure.prototype._remove_fig_handler = function (event) {\n",
       "    var fig = event.data.fig;\n",
       "    if (event.target !== this) {\n",
       "        // Ignore bubbled events from children.\n",
       "        return;\n",
       "    }\n",
       "    fig.close_ws(fig, {});\n",
       "};\n",
       "\n",
       "mpl.figure.prototype._root_extra_style = function (el) {\n",
       "    el.style.boxSizing = 'content-box'; // override notebook setting of border-box.\n",
       "};\n",
       "\n",
       "mpl.figure.prototype._canvas_extra_style = function (el) {\n",
       "    // this is important to make the div 'focusable\n",
       "    el.setAttribute('tabindex', 0);\n",
       "    // reach out to IPython and tell the keyboard manager to turn it's self\n",
       "    // off when our div gets focus\n",
       "\n",
       "    // location in version 3\n",
       "    if (IPython.notebook.keyboard_manager) {\n",
       "        IPython.notebook.keyboard_manager.register_events(el);\n",
       "    } else {\n",
       "        // location in version 2\n",
       "        IPython.keyboard_manager.register_events(el);\n",
       "    }\n",
       "};\n",
       "\n",
       "mpl.figure.prototype._key_event_extra = function (event, _name) {\n",
       "    // Check for shift+enter\n",
       "    if (event.shiftKey && event.which === 13) {\n",
       "        this.canvas_div.blur();\n",
       "        // select the cell after this one\n",
       "        var index = IPython.notebook.find_cell_index(this.cell_info[0]);\n",
       "        IPython.notebook.select(index + 1);\n",
       "    }\n",
       "};\n",
       "\n",
       "mpl.figure.prototype.handle_save = function (fig, _msg) {\n",
       "    fig.ondownload(fig, null);\n",
       "};\n",
       "\n",
       "mpl.find_output_cell = function (html_output) {\n",
       "    // Return the cell and output element which can be found *uniquely* in the notebook.\n",
       "    // Note - this is a bit hacky, but it is done because the \"notebook_saving.Notebook\"\n",
       "    // IPython event is triggered only after the cells have been serialised, which for\n",
       "    // our purposes (turning an active figure into a static one), is too late.\n",
       "    var cells = IPython.notebook.get_cells();\n",
       "    var ncells = cells.length;\n",
       "    for (var i = 0; i < ncells; i++) {\n",
       "        var cell = cells[i];\n",
       "        if (cell.cell_type === 'code') {\n",
       "            for (var j = 0; j < cell.output_area.outputs.length; j++) {\n",
       "                var data = cell.output_area.outputs[j];\n",
       "                if (data.data) {\n",
       "                    // IPython >= 3 moved mimebundle to data attribute of output\n",
       "                    data = data.data;\n",
       "                }\n",
       "                if (data['text/html'] === html_output) {\n",
       "                    return [cell, data, j];\n",
       "                }\n",
       "            }\n",
       "        }\n",
       "    }\n",
       "};\n",
       "\n",
       "// Register the function which deals with the matplotlib target/channel.\n",
       "// The kernel may be null if the page has been refreshed.\n",
       "if (IPython.notebook.kernel !== null) {\n",
       "    IPython.notebook.kernel.comm_manager.register_target(\n",
       "        'matplotlib',\n",
       "        mpl.mpl_figure_comm\n",
       "    );\n",
       "}\n"
      ],
      "text/plain": [
       "<IPython.core.display.Javascript object>"
      ]
     },
     "metadata": {},
     "output_type": "display_data"
    },
    {
     "data": {
      "text/html": [
       "<div id='1187812f-2c03-406d-ba40-503924bc52b4'></div>"
      ],
      "text/plain": [
       "<IPython.core.display.HTML object>"
      ]
     },
     "metadata": {},
     "output_type": "display_data"
    },
    {
     "data": {
      "text/plain": [
       "<matplotlib.collections.PathCollection at 0x12cb43ed0>"
      ]
     },
     "execution_count": 45,
     "metadata": {},
     "output_type": "execute_result"
    }
   ],
   "source": [
    "fig, ax = plt.subplots()\n",
    "ax.set_title(f'{sample}: masked hot pixels')\n",
    "ax.imshow(img, vmax=vmax)# * 0.01)\n",
    "#ax.scatter(np.where(img[:min(range_y), :] > max(limits))[1],\n",
    "#           np.where(img[:min(range_y), :] > max(limits))[0])\n",
    "#ax.scatter(np.where(img[max(range_y):, :] > max(limits))[1],\n",
    "#           np.where(img[max(range_y):, :] > max(limits))[0] + max(range_y))\n",
    "#ax.scatter(np.where(img[:, :min(range_x)] > max(limits))[1],\n",
    "#           np.where(img[:, :min(range_x)] > max(limits))[0])\n",
    "#ax.scatter(np.where(img[:, max(range_x):] > max(limits))[1] + max(range_x),\n",
    "#           np.where(img[:, max(range_x):] > max(limits))[0])\n",
    "ax.scatter(np.where(mask)[1],\n",
    "           np.where(mask)[0], s=0.1)"
   ]
  },
  {
   "cell_type": "raw",
   "metadata": {},
   "source": [
    "img = pr.img_st.copy()\n",
    "img.shape"
   ]
  },
  {
   "cell_type": "raw",
   "metadata": {},
   "source": [
    "#copied from https://stackoverflow.com/questions/8090229/\n",
    "def rebin(a, shape):\n",
    "    sh = shape[0],a.shape[0]//shape[0],shape[1],a.shape[1]//shape[1]\n",
    "    return a.reshape(sh).mean(-1).mean(1)"
   ]
  },
  {
   "cell_type": "raw",
   "metadata": {},
   "source": [
    "test = rebin(img, (int(pr.img_st.shape[0] / 3) , int(pr.img_st.shape[1] / 3)))\n",
    "test.shape"
   ]
  },
  {
   "cell_type": "markdown",
   "metadata": {},
   "source": [
    "<h3>Saving mask for IgorPro</h3>"
   ]
  },
  {
   "cell_type": "raw",
   "metadata": {},
   "source": [
    "mask_to_save = ~mask"
   ]
  },
  {
   "cell_type": "raw",
   "metadata": {},
   "source": [
    "import h5py"
   ]
  },
  {
   "cell_type": "raw",
   "metadata": {},
   "source": [
    "mask_name = f'{cycle_id}_{proposal_id}_SAXS_mask_for_IgorPro.hdf'\n",
    "h5f = h5py.File(mask_name, 'w')\n",
    "h5f.create_dataset('mask', data=mask_to_save.T)\n",
    "h5f.close()"
   ]
  },
  {
   "cell_type": "markdown",
   "metadata": {},
   "source": [
    "<h2>Batch processing</h2>\n",
    "Once the geometry has been refined (finding the centre of the beam position on the detector and perhaps refining the beam stop, all the data can be processed."
   ]
  },
  {
   "cell_type": "code",
   "execution_count": 46,
   "metadata": {},
   "outputs": [],
   "source": [
    "batch_bkg_var = False"
   ]
  },
  {
   "cell_type": "code",
   "execution_count": null,
   "metadata": {
    "scrolled": true
   },
   "outputs": [
    {
     "name": "stderr",
     "output_type": "stream",
     "text": [
      "WARNING:fabio.TiffIO:Data at tag id '65000' is smaller than expected\n",
      "WARNING:fabio.TiffIO:Data at tag id '65000' is smaller than expected\n"
     ]
    },
    {
     "name": "stdout",
     "output_type": "stream",
     "text": [
      "IB_kaptom_pos1_\n",
      "IB_kaptom_pos1_13.45000keV_bpm3.415\n"
     ]
    },
    {
     "name": "stderr",
     "output_type": "stream",
     "text": [
      "WARNING:fabio.TiffIO:Data at tag id '65000' is smaller than expected\n",
      "WARNING:fabio.TiffIO:Data at tag id '65000' is smaller than expected\n"
     ]
    },
    {
     "name": "stdout",
     "output_type": "stream",
     "text": [
      "IB_kaptom_pos1_13.45500keV_bpm3.421\n"
     ]
    },
    {
     "name": "stderr",
     "output_type": "stream",
     "text": [
      "WARNING:fabio.TiffIO:Data at tag id '65000' is smaller than expected\n",
      "WARNING:fabio.TiffIO:Data at tag id '65000' is smaller than expected\n"
     ]
    },
    {
     "name": "stdout",
     "output_type": "stream",
     "text": [
      "IB_kaptom_pos1_13.46000keV_bpm3.412\n"
     ]
    },
    {
     "name": "stderr",
     "output_type": "stream",
     "text": [
      "WARNING:fabio.TiffIO:Data at tag id '65000' is smaller than expected\n",
      "WARNING:fabio.TiffIO:Data at tag id '65000' is smaller than expected\n"
     ]
    },
    {
     "name": "stdout",
     "output_type": "stream",
     "text": [
      "IB_kaptom_pos1_13.46099keV_bpm3.404\n"
     ]
    },
    {
     "name": "stderr",
     "output_type": "stream",
     "text": [
      "WARNING:fabio.TiffIO:Data at tag id '65000' is smaller than expected\n",
      "WARNING:fabio.TiffIO:Data at tag id '65000' is smaller than expected\n"
     ]
    },
    {
     "name": "stdout",
     "output_type": "stream",
     "text": [
      "IB_kaptom_pos1_13.46201keV_bpm3.401\n"
     ]
    },
    {
     "name": "stderr",
     "output_type": "stream",
     "text": [
      "WARNING:fabio.TiffIO:Data at tag id '65000' is smaller than expected\n",
      "WARNING:fabio.TiffIO:Data at tag id '65000' is smaller than expected\n"
     ]
    },
    {
     "name": "stdout",
     "output_type": "stream",
     "text": [
      "IB_kaptom_pos1_13.46301keV_bpm3.398\n"
     ]
    },
    {
     "name": "stderr",
     "output_type": "stream",
     "text": [
      "WARNING:fabio.TiffIO:Data at tag id '65000' is smaller than expected\n",
      "WARNING:fabio.TiffIO:Data at tag id '65000' is smaller than expected\n"
     ]
    },
    {
     "name": "stdout",
     "output_type": "stream",
     "text": [
      "IB_kaptom_pos1_13.46401keV_bpm3.393\n"
     ]
    },
    {
     "name": "stderr",
     "output_type": "stream",
     "text": [
      "WARNING:fabio.TiffIO:Data at tag id '65000' is smaller than expected\n",
      "WARNING:fabio.TiffIO:Data at tag id '65000' is smaller than expected\n"
     ]
    },
    {
     "name": "stdout",
     "output_type": "stream",
     "text": [
      "IB_kaptom_pos1_13.46501keV_bpm3.389\n"
     ]
    },
    {
     "name": "stderr",
     "output_type": "stream",
     "text": [
      "WARNING:fabio.TiffIO:Data at tag id '65000' is smaller than expected\n",
      "WARNING:fabio.TiffIO:Data at tag id '65000' is smaller than expected\n"
     ]
    },
    {
     "name": "stdout",
     "output_type": "stream",
     "text": [
      "IB_kaptom_pos1_13.46550keV_bpm3.392\n"
     ]
    },
    {
     "name": "stderr",
     "output_type": "stream",
     "text": [
      "WARNING:fabio.TiffIO:Data at tag id '65000' is smaller than expected\n",
      "WARNING:fabio.TiffIO:Data at tag id '65000' is smaller than expected\n"
     ]
    },
    {
     "name": "stdout",
     "output_type": "stream",
     "text": [
      "IB_kaptom_pos1_13.46599keV_bpm3.386\n"
     ]
    },
    {
     "name": "stderr",
     "output_type": "stream",
     "text": [
      "WARNING:fabio.TiffIO:Data at tag id '65000' is smaller than expected\n",
      "WARNING:fabio.TiffIO:Data at tag id '65000' is smaller than expected\n"
     ]
    },
    {
     "name": "stdout",
     "output_type": "stream",
     "text": [
      "IB_kaptom_pos1_13.46650keV_bpm3.386\n"
     ]
    },
    {
     "name": "stderr",
     "output_type": "stream",
     "text": [
      "WARNING:fabio.TiffIO:Data at tag id '65000' is smaller than expected\n",
      "WARNING:fabio.TiffIO:Data at tag id '65000' is smaller than expected\n"
     ]
    },
    {
     "name": "stdout",
     "output_type": "stream",
     "text": [
      "IB_kaptom_pos1_13.46699keV_bpm3.382\n"
     ]
    },
    {
     "name": "stderr",
     "output_type": "stream",
     "text": [
      "WARNING:fabio.TiffIO:Data at tag id '65000' is smaller than expected\n",
      "WARNING:fabio.TiffIO:Data at tag id '65000' is smaller than expected\n"
     ]
    },
    {
     "name": "stdout",
     "output_type": "stream",
     "text": [
      "IB_kaptom_pos1_13.46750keV_bpm3.377\n"
     ]
    },
    {
     "name": "stderr",
     "output_type": "stream",
     "text": [
      "WARNING:fabio.TiffIO:Data at tag id '65000' is smaller than expected\n",
      "WARNING:fabio.TiffIO:Data at tag id '65000' is smaller than expected\n"
     ]
    },
    {
     "name": "stdout",
     "output_type": "stream",
     "text": [
      "IB_kaptom_pos1_13.46800keV_bpm3.382\n"
     ]
    },
    {
     "name": "stderr",
     "output_type": "stream",
     "text": [
      "WARNING:fabio.TiffIO:Data at tag id '65000' is smaller than expected\n",
      "WARNING:fabio.TiffIO:Data at tag id '65000' is smaller than expected\n"
     ]
    },
    {
     "name": "stdout",
     "output_type": "stream",
     "text": [
      "IB_kaptom_pos1_13.46850keV_bpm3.374\n"
     ]
    },
    {
     "name": "stderr",
     "output_type": "stream",
     "text": [
      "WARNING:fabio.TiffIO:Data at tag id '65000' is smaller than expected\n",
      "WARNING:fabio.TiffIO:Data at tag id '65000' is smaller than expected\n"
     ]
    },
    {
     "name": "stdout",
     "output_type": "stream",
     "text": [
      "IB_kaptom_pos1_13.46900keV_bpm3.372\n"
     ]
    },
    {
     "name": "stderr",
     "output_type": "stream",
     "text": [
      "WARNING:fabio.TiffIO:Data at tag id '65000' is smaller than expected\n",
      "WARNING:fabio.TiffIO:Data at tag id '65000' is smaller than expected\n"
     ]
    },
    {
     "name": "stdout",
     "output_type": "stream",
     "text": [
      "IB_kaptom_pos1_13.46950keV_bpm3.373\n"
     ]
    },
    {
     "name": "stderr",
     "output_type": "stream",
     "text": [
      "WARNING:fabio.TiffIO:Data at tag id '65000' is smaller than expected\n",
      "WARNING:fabio.TiffIO:Data at tag id '65000' is smaller than expected\n"
     ]
    },
    {
     "name": "stdout",
     "output_type": "stream",
     "text": [
      "IB_kaptom_pos1_13.47000keV_bpm3.383\n"
     ]
    },
    {
     "name": "stderr",
     "output_type": "stream",
     "text": [
      "WARNING:fabio.TiffIO:Data at tag id '65000' is smaller than expected\n",
      "WARNING:fabio.TiffIO:Data at tag id '65000' is smaller than expected\n"
     ]
    },
    {
     "name": "stdout",
     "output_type": "stream",
     "text": [
      "IB_kaptom_pos1_13.47050keV_bpm3.382\n"
     ]
    },
    {
     "name": "stderr",
     "output_type": "stream",
     "text": [
      "WARNING:fabio.TiffIO:Data at tag id '65000' is smaller than expected\n",
      "WARNING:fabio.TiffIO:Data at tag id '65000' is smaller than expected\n"
     ]
    },
    {
     "name": "stdout",
     "output_type": "stream",
     "text": [
      "IB_kaptom_pos1_13.47100keV_bpm3.378\n"
     ]
    },
    {
     "name": "stderr",
     "output_type": "stream",
     "text": [
      "WARNING:fabio.TiffIO:Data at tag id '65000' is smaller than expected\n",
      "WARNING:fabio.TiffIO:Data at tag id '65000' is smaller than expected\n"
     ]
    },
    {
     "name": "stdout",
     "output_type": "stream",
     "text": [
      "IB_kaptom_pos1_13.47150keV_bpm3.374\n"
     ]
    },
    {
     "name": "stderr",
     "output_type": "stream",
     "text": [
      "WARNING:fabio.TiffIO:Data at tag id '65000' is smaller than expected\n",
      "WARNING:fabio.TiffIO:Data at tag id '65000' is smaller than expected\n"
     ]
    },
    {
     "name": "stdout",
     "output_type": "stream",
     "text": [
      "IB_kaptom_pos1_13.47200keV_bpm3.373\n"
     ]
    },
    {
     "name": "stderr",
     "output_type": "stream",
     "text": [
      "WARNING:fabio.TiffIO:Data at tag id '65000' is smaller than expected\n",
      "WARNING:fabio.TiffIO:Data at tag id '65000' is smaller than expected\n"
     ]
    },
    {
     "name": "stdout",
     "output_type": "stream",
     "text": [
      "IB_kaptom_pos1_13.47251keV_bpm3.367\n"
     ]
    },
    {
     "name": "stderr",
     "output_type": "stream",
     "text": [
      "WARNING:fabio.TiffIO:Data at tag id '65000' is smaller than expected\n",
      "WARNING:fabio.TiffIO:Data at tag id '65000' is smaller than expected\n"
     ]
    },
    {
     "name": "stdout",
     "output_type": "stream",
     "text": [
      "IB_kaptom_pos1_13.47300keV_bpm3.361\n"
     ]
    },
    {
     "name": "stderr",
     "output_type": "stream",
     "text": [
      "WARNING:fabio.TiffIO:Data at tag id '65000' is smaller than expected\n",
      "WARNING:fabio.TiffIO:Data at tag id '65000' is smaller than expected\n"
     ]
    },
    {
     "name": "stdout",
     "output_type": "stream",
     "text": [
      "IB_kaptom_pos1_13.47350keV_bpm3.362\n"
     ]
    },
    {
     "name": "stderr",
     "output_type": "stream",
     "text": [
      "WARNING:fabio.TiffIO:Data at tag id '65000' is smaller than expected\n",
      "WARNING:fabio.TiffIO:Data at tag id '65000' is smaller than expected\n"
     ]
    },
    {
     "name": "stdout",
     "output_type": "stream",
     "text": [
      "IB_kaptom_pos1_13.47400keV_bpm3.356\n"
     ]
    },
    {
     "name": "stderr",
     "output_type": "stream",
     "text": [
      "WARNING:fabio.TiffIO:Data at tag id '65000' is smaller than expected\n",
      "WARNING:fabio.TiffIO:Data at tag id '65000' is smaller than expected\n"
     ]
    },
    {
     "name": "stdout",
     "output_type": "stream",
     "text": [
      "IB_kaptom_pos1_13.47450keV_bpm03.35\n"
     ]
    },
    {
     "name": "stderr",
     "output_type": "stream",
     "text": [
      "WARNING:fabio.TiffIO:Data at tag id '65000' is smaller than expected\n",
      "WARNING:fabio.TiffIO:Data at tag id '65000' is smaller than expected\n"
     ]
    },
    {
     "name": "stdout",
     "output_type": "stream",
     "text": [
      "IB_kaptom_pos1_13.47500keV_bpm3.351\n"
     ]
    },
    {
     "name": "stderr",
     "output_type": "stream",
     "text": [
      "WARNING:fabio.TiffIO:Data at tag id '65000' is smaller than expected\n",
      "WARNING:fabio.TiffIO:Data at tag id '65000' is smaller than expected\n"
     ]
    },
    {
     "name": "stdout",
     "output_type": "stream",
     "text": [
      "IB_kaptom_pos1_13.47700keV_bpm03.36\n"
     ]
    },
    {
     "name": "stderr",
     "output_type": "stream",
     "text": [
      "WARNING:fabio.TiffIO:Data at tag id '65000' is smaller than expected\n",
      "WARNING:fabio.TiffIO:Data at tag id '65000' is smaller than expected\n"
     ]
    },
    {
     "name": "stdout",
     "output_type": "stream",
     "text": [
      "IB_kaptom_pos1_13.47900keV_bpm3.347\n"
     ]
    },
    {
     "name": "stderr",
     "output_type": "stream",
     "text": [
      "WARNING:fabio.TiffIO:Data at tag id '65000' is smaller than expected\n",
      "WARNING:fabio.TiffIO:Data at tag id '65000' is smaller than expected\n"
     ]
    },
    {
     "name": "stdout",
     "output_type": "stream",
     "text": [
      "IB_kaptom_pos1_13.48100keV_bpm3.345\n"
     ]
    },
    {
     "name": "stderr",
     "output_type": "stream",
     "text": [
      "WARNING:fabio.TiffIO:Data at tag id '65000' is smaller than expected\n",
      "WARNING:fabio.TiffIO:Data at tag id '65000' is smaller than expected\n"
     ]
    },
    {
     "name": "stdout",
     "output_type": "stream",
     "text": [
      "IB_kaptom_pos1_13.48300keV_bpm3.349\n"
     ]
    },
    {
     "name": "stderr",
     "output_type": "stream",
     "text": [
      "WARNING:fabio.TiffIO:Data at tag id '65000' is smaller than expected\n",
      "WARNING:fabio.TiffIO:Data at tag id '65000' is smaller than expected\n"
     ]
    },
    {
     "name": "stdout",
     "output_type": "stream",
     "text": [
      "IB_kaptom_pos1_13.48500keV_bpm3.341\n"
     ]
    },
    {
     "name": "stderr",
     "output_type": "stream",
     "text": [
      "WARNING:fabio.TiffIO:Data at tag id '65000' is smaller than expected\n",
      "WARNING:fabio.TiffIO:Data at tag id '65000' is smaller than expected\n"
     ]
    },
    {
     "name": "stdout",
     "output_type": "stream",
     "text": [
      "IB_kaptom_pos1_13.49000keV_bpm03.35\n"
     ]
    },
    {
     "name": "stderr",
     "output_type": "stream",
     "text": [
      "WARNING:fabio.TiffIO:Data at tag id '65000' is smaller than expected\n",
      "WARNING:fabio.TiffIO:Data at tag id '65000' is smaller than expected\n"
     ]
    },
    {
     "name": "stdout",
     "output_type": "stream",
     "text": [
      "IB_kaptom_pos1_13.49500keV_bpm03.34\n"
     ]
    },
    {
     "name": "stderr",
     "output_type": "stream",
     "text": [
      "WARNING:fabio.TiffIO:Data at tag id '65000' is smaller than expected\n",
      "WARNING:fabio.TiffIO:Data at tag id '65000' is smaller than expected\n"
     ]
    },
    {
     "name": "stdout",
     "output_type": "stream",
     "text": [
      "IB_kaptom_pos1_13.50000keV_bpm3.346\n"
     ]
    },
    {
     "name": "stderr",
     "output_type": "stream",
     "text": [
      "WARNING:fabio.TiffIO:Data at tag id '65000' is smaller than expected\n",
      "WARNING:fabio.TiffIO:Data at tag id '65000' is smaller than expected\n"
     ]
    },
    {
     "name": "stdout",
     "output_type": "stream",
     "text": [
      "IB_kaptom_pos1_13.50500keV_bpm3.344\n"
     ]
    },
    {
     "name": "stderr",
     "output_type": "stream",
     "text": [
      "WARNING:fabio.TiffIO:Data at tag id '65000' is smaller than expected\n",
      "WARNING:fabio.TiffIO:Data at tag id '65000' is smaller than expected\n"
     ]
    },
    {
     "name": "stdout",
     "output_type": "stream",
     "text": [
      "IB_kaptom_pos1_13.51000keV_bpm3.341\n"
     ]
    },
    {
     "name": "stderr",
     "output_type": "stream",
     "text": [
      "WARNING:fabio.TiffIO:Data at tag id '65000' is smaller than expected\n",
      "WARNING:fabio.TiffIO:Data at tag id '65000' is smaller than expected\n"
     ]
    },
    {
     "name": "stdout",
     "output_type": "stream",
     "text": [
      "IB_kaptom_pos1_13.51500keV_bpm03.34\n"
     ]
    },
    {
     "name": "stderr",
     "output_type": "stream",
     "text": [
      "WARNING:fabio.TiffIO:Data at tag id '65000' is smaller than expected\n",
      "WARNING:fabio.TiffIO:Data at tag id '65000' is smaller than expected\n"
     ]
    },
    {
     "name": "stdout",
     "output_type": "stream",
     "text": [
      "IB_kaptom_pos1_13.52000keV_bpm03.34\n"
     ]
    },
    {
     "name": "stderr",
     "output_type": "stream",
     "text": [
      "WARNING:fabio.TiffIO:Data at tag id '65000' is smaller than expected\n",
      "WARNING:fabio.TiffIO:Data at tag id '65000' is smaller than expected\n"
     ]
    },
    {
     "name": "stdout",
     "output_type": "stream",
     "text": [
      "IB_kaptom_pos1_13.52500keV_bpm3.327\n"
     ]
    },
    {
     "name": "stderr",
     "output_type": "stream",
     "text": [
      "WARNING:fabio.TiffIO:Data at tag id '65000' is smaller than expected\n",
      "WARNING:fabio.TiffIO:Data at tag id '65000' is smaller than expected\n"
     ]
    },
    {
     "name": "stdout",
     "output_type": "stream",
     "text": [
      "IB_kaptom_pos1_13.53000keV_bpm3.319\n"
     ]
    },
    {
     "name": "stderr",
     "output_type": "stream",
     "text": [
      "WARNING:fabio.TiffIO:Data at tag id '65000' is smaller than expected\n",
      "WARNING:fabio.TiffIO:Data at tag id '65000' is smaller than expected\n"
     ]
    },
    {
     "name": "stdout",
     "output_type": "stream",
     "text": [
      "IB_kaptom_pos1_13.53500keV_bpm3.284\n"
     ]
    },
    {
     "name": "stderr",
     "output_type": "stream",
     "text": [
      "WARNING:fabio.TiffIO:Data at tag id '65000' is smaller than expected\n",
      "WARNING:fabio.TiffIO:Data at tag id '65000' is smaller than expected\n"
     ]
    },
    {
     "name": "stdout",
     "output_type": "stream",
     "text": [
      "IB_kaptom_pos1_13.54000keV_bpm3.295\n"
     ]
    },
    {
     "name": "stderr",
     "output_type": "stream",
     "text": [
      "WARNING:fabio.TiffIO:Data at tag id '65000' is smaller than expected\n",
      "WARNING:fabio.TiffIO:Data at tag id '65000' is smaller than expected\n"
     ]
    },
    {
     "name": "stdout",
     "output_type": "stream",
     "text": [
      "IB_kaptom_pos1_13.54501keV_bpm3.273\n"
     ]
    },
    {
     "name": "stderr",
     "output_type": "stream",
     "text": [
      "WARNING:fabio.TiffIO:Data at tag id '65000' is smaller than expected\n",
      "WARNING:fabio.TiffIO:Data at tag id '65000' is smaller than expected\n"
     ]
    },
    {
     "name": "stdout",
     "output_type": "stream",
     "text": [
      "IB_kaptom_pos1_13.55000keV_bpm3.277\n"
     ]
    },
    {
     "name": "stderr",
     "output_type": "stream",
     "text": [
      "WARNING:fabio.TiffIO:Data at tag id '65000' is smaller than expected\n",
      "WARNING:fabio.TiffIO:Data at tag id '65000' is smaller than expected\n"
     ]
    },
    {
     "name": "stdout",
     "output_type": "stream",
     "text": [
      "IB_LiBr_sol_no_solv-b_pos1_\n",
      "IB_LiBr_sol_no_solv-b_pos1_13.45000keV_bpm3.427\n"
     ]
    },
    {
     "name": "stderr",
     "output_type": "stream",
     "text": [
      "WARNING:fabio.TiffIO:Data at tag id '65000' is smaller than expected\n",
      "WARNING:fabio.TiffIO:Data at tag id '65000' is smaller than expected\n"
     ]
    },
    {
     "name": "stdout",
     "output_type": "stream",
     "text": [
      "IB_LiBr_sol_no_solv-b_pos1_13.45500keV_bpm3.417\n"
     ]
    },
    {
     "name": "stderr",
     "output_type": "stream",
     "text": [
      "WARNING:fabio.TiffIO:Data at tag id '65000' is smaller than expected\n",
      "WARNING:fabio.TiffIO:Data at tag id '65000' is smaller than expected\n"
     ]
    },
    {
     "name": "stdout",
     "output_type": "stream",
     "text": [
      "IB_LiBr_sol_no_solv-b_pos1_13.46000keV_bpm3.411\n"
     ]
    },
    {
     "name": "stderr",
     "output_type": "stream",
     "text": [
      "WARNING:fabio.TiffIO:Data at tag id '65000' is smaller than expected\n",
      "WARNING:fabio.TiffIO:Data at tag id '65000' is smaller than expected\n"
     ]
    },
    {
     "name": "stdout",
     "output_type": "stream",
     "text": [
      "IB_LiBr_sol_no_solv-b_pos1_13.46099keV_bpm3.407\n"
     ]
    },
    {
     "name": "stderr",
     "output_type": "stream",
     "text": [
      "WARNING:fabio.TiffIO:Data at tag id '65000' is smaller than expected\n",
      "WARNING:fabio.TiffIO:Data at tag id '65000' is smaller than expected\n"
     ]
    },
    {
     "name": "stdout",
     "output_type": "stream",
     "text": [
      "IB_LiBr_sol_no_solv-b_pos1_13.46201keV_bpm3.409\n"
     ]
    },
    {
     "name": "stderr",
     "output_type": "stream",
     "text": [
      "WARNING:fabio.TiffIO:Data at tag id '65000' is smaller than expected\n",
      "WARNING:fabio.TiffIO:Data at tag id '65000' is smaller than expected\n"
     ]
    },
    {
     "name": "stdout",
     "output_type": "stream",
     "text": [
      "IB_LiBr_sol_no_solv-b_pos1_13.46301keV_bpm3.402\n"
     ]
    },
    {
     "name": "stderr",
     "output_type": "stream",
     "text": [
      "WARNING:fabio.TiffIO:Data at tag id '65000' is smaller than expected\n",
      "WARNING:fabio.TiffIO:Data at tag id '65000' is smaller than expected\n"
     ]
    },
    {
     "name": "stdout",
     "output_type": "stream",
     "text": [
      "IB_LiBr_sol_no_solv-b_pos1_13.46401keV_bpm3.398\n"
     ]
    },
    {
     "name": "stderr",
     "output_type": "stream",
     "text": [
      "WARNING:fabio.TiffIO:Data at tag id '65000' is smaller than expected\n",
      "WARNING:fabio.TiffIO:Data at tag id '65000' is smaller than expected\n"
     ]
    },
    {
     "name": "stdout",
     "output_type": "stream",
     "text": [
      "IB_LiBr_sol_no_solv-b_pos1_13.46501keV_bpm3.397\n"
     ]
    },
    {
     "name": "stderr",
     "output_type": "stream",
     "text": [
      "WARNING:fabio.TiffIO:Data at tag id '65000' is smaller than expected\n",
      "WARNING:fabio.TiffIO:Data at tag id '65000' is smaller than expected\n"
     ]
    },
    {
     "name": "stdout",
     "output_type": "stream",
     "text": [
      "IB_LiBr_sol_no_solv-b_pos1_13.46550keV_bpm3.392\n"
     ]
    },
    {
     "name": "stderr",
     "output_type": "stream",
     "text": [
      "WARNING:fabio.TiffIO:Data at tag id '65000' is smaller than expected\n",
      "WARNING:fabio.TiffIO:Data at tag id '65000' is smaller than expected\n"
     ]
    },
    {
     "name": "stdout",
     "output_type": "stream",
     "text": [
      "IB_LiBr_sol_no_solv-b_pos1_13.46599keV_bpm3.394\n"
     ]
    },
    {
     "name": "stderr",
     "output_type": "stream",
     "text": [
      "WARNING:fabio.TiffIO:Data at tag id '65000' is smaller than expected\n",
      "WARNING:fabio.TiffIO:Data at tag id '65000' is smaller than expected\n"
     ]
    },
    {
     "name": "stdout",
     "output_type": "stream",
     "text": [
      "IB_LiBr_sol_no_solv-b_pos1_13.46650keV_bpm3.389\n"
     ]
    },
    {
     "name": "stderr",
     "output_type": "stream",
     "text": [
      "WARNING:fabio.TiffIO:Data at tag id '65000' is smaller than expected\n",
      "WARNING:fabio.TiffIO:Data at tag id '65000' is smaller than expected\n"
     ]
    },
    {
     "name": "stdout",
     "output_type": "stream",
     "text": [
      "IB_LiBr_sol_no_solv-b_pos1_13.46699keV_bpm3.385\n"
     ]
    },
    {
     "name": "stderr",
     "output_type": "stream",
     "text": [
      "WARNING:fabio.TiffIO:Data at tag id '65000' is smaller than expected\n",
      "WARNING:fabio.TiffIO:Data at tag id '65000' is smaller than expected\n"
     ]
    },
    {
     "name": "stdout",
     "output_type": "stream",
     "text": [
      "IB_LiBr_sol_no_solv-b_pos1_13.46750keV_bpm3.395\n"
     ]
    },
    {
     "name": "stderr",
     "output_type": "stream",
     "text": [
      "WARNING:fabio.TiffIO:Data at tag id '65000' is smaller than expected\n",
      "WARNING:fabio.TiffIO:Data at tag id '65000' is smaller than expected\n"
     ]
    },
    {
     "name": "stdout",
     "output_type": "stream",
     "text": [
      "IB_LiBr_sol_no_solv-b_pos1_13.46800keV_bpm3.393\n"
     ]
    },
    {
     "name": "stderr",
     "output_type": "stream",
     "text": [
      "WARNING:fabio.TiffIO:Data at tag id '65000' is smaller than expected\n",
      "WARNING:fabio.TiffIO:Data at tag id '65000' is smaller than expected\n"
     ]
    },
    {
     "name": "stdout",
     "output_type": "stream",
     "text": [
      "IB_LiBr_sol_no_solv-b_pos1_13.46850keV_bpm3.391\n"
     ]
    },
    {
     "name": "stderr",
     "output_type": "stream",
     "text": [
      "WARNING:fabio.TiffIO:Data at tag id '65000' is smaller than expected\n",
      "WARNING:fabio.TiffIO:Data at tag id '65000' is smaller than expected\n"
     ]
    },
    {
     "name": "stdout",
     "output_type": "stream",
     "text": [
      "IB_LiBr_sol_no_solv-b_pos1_13.46900keV_bpm3.389\n"
     ]
    },
    {
     "name": "stderr",
     "output_type": "stream",
     "text": [
      "WARNING:fabio.TiffIO:Data at tag id '65000' is smaller than expected\n",
      "WARNING:fabio.TiffIO:Data at tag id '65000' is smaller than expected\n"
     ]
    },
    {
     "name": "stdout",
     "output_type": "stream",
     "text": [
      "IB_LiBr_sol_no_solv-b_pos1_13.46950keV_bpm3.389\n"
     ]
    },
    {
     "name": "stderr",
     "output_type": "stream",
     "text": [
      "WARNING:fabio.TiffIO:Data at tag id '65000' is smaller than expected\n",
      "WARNING:fabio.TiffIO:Data at tag id '65000' is smaller than expected\n"
     ]
    },
    {
     "name": "stdout",
     "output_type": "stream",
     "text": [
      "IB_LiBr_sol_no_solv-b_pos1_13.47000keV_bpm3.384\n"
     ]
    },
    {
     "name": "stderr",
     "output_type": "stream",
     "text": [
      "WARNING:fabio.TiffIO:Data at tag id '65000' is smaller than expected\n",
      "WARNING:fabio.TiffIO:Data at tag id '65000' is smaller than expected\n"
     ]
    },
    {
     "name": "stdout",
     "output_type": "stream",
     "text": [
      "IB_LiBr_sol_no_solv-b_pos1_13.47050keV_bpm3.385\n"
     ]
    },
    {
     "name": "stderr",
     "output_type": "stream",
     "text": [
      "WARNING:fabio.TiffIO:Data at tag id '65000' is smaller than expected\n",
      "WARNING:fabio.TiffIO:Data at tag id '65000' is smaller than expected\n"
     ]
    },
    {
     "name": "stdout",
     "output_type": "stream",
     "text": [
      "IB_LiBr_sol_no_solv-b_pos1_13.47100keV_bpm3.381\n"
     ]
    },
    {
     "name": "stderr",
     "output_type": "stream",
     "text": [
      "WARNING:fabio.TiffIO:Data at tag id '65000' is smaller than expected\n",
      "WARNING:fabio.TiffIO:Data at tag id '65000' is smaller than expected\n"
     ]
    },
    {
     "name": "stdout",
     "output_type": "stream",
     "text": [
      "IB_LiBr_sol_no_solv-b_pos1_13.47150keV_bpm3.379\n"
     ]
    },
    {
     "name": "stderr",
     "output_type": "stream",
     "text": [
      "WARNING:fabio.TiffIO:Data at tag id '65000' is smaller than expected\n",
      "WARNING:fabio.TiffIO:Data at tag id '65000' is smaller than expected\n"
     ]
    },
    {
     "name": "stdout",
     "output_type": "stream",
     "text": [
      "IB_LiBr_sol_no_solv-b_pos1_13.47200keV_bpm3.377\n"
     ]
    },
    {
     "name": "stderr",
     "output_type": "stream",
     "text": [
      "WARNING:fabio.TiffIO:Data at tag id '65000' is smaller than expected\n",
      "WARNING:fabio.TiffIO:Data at tag id '65000' is smaller than expected\n"
     ]
    },
    {
     "name": "stdout",
     "output_type": "stream",
     "text": [
      "IB_LiBr_sol_no_solv-b_pos1_13.47251keV_bpm3.371\n"
     ]
    },
    {
     "name": "stderr",
     "output_type": "stream",
     "text": [
      "WARNING:fabio.TiffIO:Data at tag id '65000' is smaller than expected\n",
      "WARNING:fabio.TiffIO:Data at tag id '65000' is smaller than expected\n"
     ]
    },
    {
     "name": "stdout",
     "output_type": "stream",
     "text": [
      "IB_LiBr_sol_no_solv-b_pos1_13.47300keV_bpm3.372\n"
     ]
    },
    {
     "name": "stderr",
     "output_type": "stream",
     "text": [
      "WARNING:fabio.TiffIO:Data at tag id '65000' is smaller than expected\n",
      "WARNING:fabio.TiffIO:Data at tag id '65000' is smaller than expected\n"
     ]
    },
    {
     "name": "stdout",
     "output_type": "stream",
     "text": [
      "IB_LiBr_sol_no_solv-b_pos1_13.47350keV_bpm3.366\n"
     ]
    },
    {
     "name": "stderr",
     "output_type": "stream",
     "text": [
      "WARNING:fabio.TiffIO:Data at tag id '65000' is smaller than expected\n",
      "WARNING:fabio.TiffIO:Data at tag id '65000' is smaller than expected\n"
     ]
    },
    {
     "name": "stdout",
     "output_type": "stream",
     "text": [
      "IB_LiBr_sol_no_solv-b_pos1_13.47400keV_bpm3.362\n"
     ]
    },
    {
     "name": "stderr",
     "output_type": "stream",
     "text": [
      "WARNING:fabio.TiffIO:Data at tag id '65000' is smaller than expected\n",
      "WARNING:fabio.TiffIO:Data at tag id '65000' is smaller than expected\n"
     ]
    },
    {
     "name": "stdout",
     "output_type": "stream",
     "text": [
      "IB_LiBr_sol_no_solv-b_pos1_13.47450keV_bpm3.356\n"
     ]
    },
    {
     "name": "stderr",
     "output_type": "stream",
     "text": [
      "WARNING:fabio.TiffIO:Data at tag id '65000' is smaller than expected\n",
      "WARNING:fabio.TiffIO:Data at tag id '65000' is smaller than expected\n"
     ]
    },
    {
     "name": "stdout",
     "output_type": "stream",
     "text": [
      "IB_LiBr_sol_no_solv-b_pos1_13.47500keV_bpm3.367\n"
     ]
    },
    {
     "name": "stderr",
     "output_type": "stream",
     "text": [
      "WARNING:fabio.TiffIO:Data at tag id '65000' is smaller than expected\n",
      "WARNING:fabio.TiffIO:Data at tag id '65000' is smaller than expected\n"
     ]
    },
    {
     "name": "stdout",
     "output_type": "stream",
     "text": [
      "IB_LiBr_sol_no_solv-b_pos1_13.47700keV_bpm3.374\n"
     ]
    },
    {
     "name": "stderr",
     "output_type": "stream",
     "text": [
      "WARNING:fabio.TiffIO:Data at tag id '65000' is smaller than expected\n",
      "WARNING:fabio.TiffIO:Data at tag id '65000' is smaller than expected\n"
     ]
    },
    {
     "name": "stdout",
     "output_type": "stream",
     "text": [
      "IB_LiBr_sol_no_solv-b_pos1_13.47900keV_bpm3.362\n"
     ]
    },
    {
     "name": "stderr",
     "output_type": "stream",
     "text": [
      "WARNING:fabio.TiffIO:Data at tag id '65000' is smaller than expected\n",
      "WARNING:fabio.TiffIO:Data at tag id '65000' is smaller than expected\n"
     ]
    },
    {
     "name": "stdout",
     "output_type": "stream",
     "text": [
      "IB_LiBr_sol_no_solv-b_pos1_13.48100keV_bpm3.358\n"
     ]
    },
    {
     "name": "stderr",
     "output_type": "stream",
     "text": [
      "WARNING:fabio.TiffIO:Data at tag id '65000' is smaller than expected\n",
      "WARNING:fabio.TiffIO:Data at tag id '65000' is smaller than expected\n"
     ]
    },
    {
     "name": "stdout",
     "output_type": "stream",
     "text": [
      "IB_LiBr_sol_no_solv-b_pos1_13.48300keV_bpm3.364\n"
     ]
    },
    {
     "name": "stderr",
     "output_type": "stream",
     "text": [
      "WARNING:fabio.TiffIO:Data at tag id '65000' is smaller than expected\n",
      "WARNING:fabio.TiffIO:Data at tag id '65000' is smaller than expected\n"
     ]
    },
    {
     "name": "stdout",
     "output_type": "stream",
     "text": [
      "IB_LiBr_sol_no_solv-b_pos1_13.48500keV_bpm3.359\n"
     ]
    },
    {
     "name": "stderr",
     "output_type": "stream",
     "text": [
      "WARNING:fabio.TiffIO:Data at tag id '65000' is smaller than expected\n",
      "WARNING:fabio.TiffIO:Data at tag id '65000' is smaller than expected\n"
     ]
    },
    {
     "name": "stdout",
     "output_type": "stream",
     "text": [
      "IB_LiBr_sol_no_solv-b_pos1_13.49000keV_bpm3.358\n"
     ]
    },
    {
     "name": "stderr",
     "output_type": "stream",
     "text": [
      "WARNING:fabio.TiffIO:Data at tag id '65000' is smaller than expected\n",
      "WARNING:fabio.TiffIO:Data at tag id '65000' is smaller than expected\n"
     ]
    },
    {
     "name": "stdout",
     "output_type": "stream",
     "text": [
      "IB_LiBr_sol_no_solv-b_pos1_13.49500keV_bpm03.35\n"
     ]
    },
    {
     "name": "stderr",
     "output_type": "stream",
     "text": [
      "WARNING:fabio.TiffIO:Data at tag id '65000' is smaller than expected\n",
      "WARNING:fabio.TiffIO:Data at tag id '65000' is smaller than expected\n"
     ]
    },
    {
     "name": "stdout",
     "output_type": "stream",
     "text": [
      "IB_LiBr_sol_no_solv-b_pos1_13.50000keV_bpm3.345\n"
     ]
    },
    {
     "name": "stderr",
     "output_type": "stream",
     "text": [
      "WARNING:fabio.TiffIO:Data at tag id '65000' is smaller than expected\n",
      "WARNING:fabio.TiffIO:Data at tag id '65000' is smaller than expected\n"
     ]
    },
    {
     "name": "stdout",
     "output_type": "stream",
     "text": [
      "IB_LiBr_sol_no_solv-b_pos1_13.50500keV_bpm3.346\n"
     ]
    },
    {
     "name": "stderr",
     "output_type": "stream",
     "text": [
      "WARNING:fabio.TiffIO:Data at tag id '65000' is smaller than expected\n",
      "WARNING:fabio.TiffIO:Data at tag id '65000' is smaller than expected\n"
     ]
    },
    {
     "name": "stdout",
     "output_type": "stream",
     "text": [
      "IB_LiBr_sol_no_solv-b_pos1_13.51000keV_bpm3.344\n"
     ]
    },
    {
     "name": "stderr",
     "output_type": "stream",
     "text": [
      "WARNING:fabio.TiffIO:Data at tag id '65000' is smaller than expected\n",
      "WARNING:fabio.TiffIO:Data at tag id '65000' is smaller than expected\n"
     ]
    },
    {
     "name": "stdout",
     "output_type": "stream",
     "text": [
      "IB_LiBr_sol_no_solv-b_pos1_13.51500keV_bpm3.344\n"
     ]
    },
    {
     "name": "stderr",
     "output_type": "stream",
     "text": [
      "WARNING:fabio.TiffIO:Data at tag id '65000' is smaller than expected\n",
      "WARNING:fabio.TiffIO:Data at tag id '65000' is smaller than expected\n"
     ]
    },
    {
     "name": "stdout",
     "output_type": "stream",
     "text": [
      "IB_LiBr_sol_no_solv-b_pos1_13.52000keV_bpm3.336\n"
     ]
    },
    {
     "name": "stderr",
     "output_type": "stream",
     "text": [
      "WARNING:fabio.TiffIO:Data at tag id '65000' is smaller than expected\n",
      "WARNING:fabio.TiffIO:Data at tag id '65000' is smaller than expected\n"
     ]
    },
    {
     "name": "stdout",
     "output_type": "stream",
     "text": [
      "IB_LiBr_sol_no_solv-b_pos1_13.52500keV_bpm3.331\n"
     ]
    },
    {
     "name": "stderr",
     "output_type": "stream",
     "text": [
      "WARNING:fabio.TiffIO:Data at tag id '65000' is smaller than expected\n",
      "WARNING:fabio.TiffIO:Data at tag id '65000' is smaller than expected\n"
     ]
    },
    {
     "name": "stdout",
     "output_type": "stream",
     "text": [
      "IB_LiBr_sol_no_solv-b_pos1_13.53000keV_bpm03.32\n"
     ]
    },
    {
     "name": "stderr",
     "output_type": "stream",
     "text": [
      "WARNING:fabio.TiffIO:Data at tag id '65000' is smaller than expected\n",
      "WARNING:fabio.TiffIO:Data at tag id '65000' is smaller than expected\n"
     ]
    },
    {
     "name": "stdout",
     "output_type": "stream",
     "text": [
      "IB_LiBr_sol_no_solv-b_pos1_13.53500keV_bpm3.284\n"
     ]
    },
    {
     "name": "stderr",
     "output_type": "stream",
     "text": [
      "WARNING:fabio.TiffIO:Data at tag id '65000' is smaller than expected\n",
      "WARNING:fabio.TiffIO:Data at tag id '65000' is smaller than expected\n"
     ]
    },
    {
     "name": "stdout",
     "output_type": "stream",
     "text": [
      "IB_LiBr_sol_no_solv-b_pos1_13.54000keV_bpm3.312\n"
     ]
    },
    {
     "name": "stderr",
     "output_type": "stream",
     "text": [
      "WARNING:fabio.TiffIO:Data at tag id '65000' is smaller than expected\n",
      "WARNING:fabio.TiffIO:Data at tag id '65000' is smaller than expected\n"
     ]
    },
    {
     "name": "stdout",
     "output_type": "stream",
     "text": [
      "IB_LiBr_sol_no_solv-b_pos1_13.54501keV_bpm3.289\n"
     ]
    },
    {
     "name": "stderr",
     "output_type": "stream",
     "text": [
      "WARNING:fabio.TiffIO:Data at tag id '65000' is smaller than expected\n",
      "WARNING:fabio.TiffIO:Data at tag id '65000' is smaller than expected\n"
     ]
    },
    {
     "name": "stdout",
     "output_type": "stream",
     "text": [
      "IB_LiBr_sol_no_solv-b_pos1_13.55000keV_bpm3.298\n"
     ]
    },
    {
     "name": "stderr",
     "output_type": "stream",
     "text": [
      "WARNING:fabio.TiffIO:Data at tag id '65000' is smaller than expected\n",
      "WARNING:fabio.TiffIO:Data at tag id '65000' is smaller than expected\n"
     ]
    },
    {
     "name": "stdout",
     "output_type": "stream",
     "text": [
      "IB_NaBr_sol_no_solv-b_pos1_\n",
      "IB_NaBr_sol_no_solv-b_pos1_13.45000keV_bpm3.428\n"
     ]
    },
    {
     "name": "stderr",
     "output_type": "stream",
     "text": [
      "WARNING:fabio.TiffIO:Data at tag id '65000' is smaller than expected\n",
      "WARNING:fabio.TiffIO:Data at tag id '65000' is smaller than expected\n"
     ]
    },
    {
     "name": "stdout",
     "output_type": "stream",
     "text": [
      "IB_NaBr_sol_no_solv-b_pos1_13.45500keV_bpm03.42\n"
     ]
    },
    {
     "name": "stderr",
     "output_type": "stream",
     "text": [
      "WARNING:fabio.TiffIO:Data at tag id '65000' is smaller than expected\n",
      "WARNING:fabio.TiffIO:Data at tag id '65000' is smaller than expected\n"
     ]
    },
    {
     "name": "stdout",
     "output_type": "stream",
     "text": [
      "IB_NaBr_sol_no_solv-b_pos1_13.46000keV_bpm03.41\n"
     ]
    },
    {
     "name": "stderr",
     "output_type": "stream",
     "text": [
      "WARNING:fabio.TiffIO:Data at tag id '65000' is smaller than expected\n",
      "WARNING:fabio.TiffIO:Data at tag id '65000' is smaller than expected\n"
     ]
    },
    {
     "name": "stdout",
     "output_type": "stream",
     "text": [
      "IB_NaBr_sol_no_solv-b_pos1_13.46099keV_bpm3.399\n"
     ]
    },
    {
     "name": "stderr",
     "output_type": "stream",
     "text": [
      "WARNING:fabio.TiffIO:Data at tag id '65000' is smaller than expected\n",
      "WARNING:fabio.TiffIO:Data at tag id '65000' is smaller than expected\n"
     ]
    },
    {
     "name": "stdout",
     "output_type": "stream",
     "text": [
      "IB_NaBr_sol_no_solv-b_pos1_13.46201keV_bpm3.398\n"
     ]
    },
    {
     "name": "stderr",
     "output_type": "stream",
     "text": [
      "WARNING:fabio.TiffIO:Data at tag id '65000' is smaller than expected\n",
      "WARNING:fabio.TiffIO:Data at tag id '65000' is smaller than expected\n"
     ]
    },
    {
     "name": "stdout",
     "output_type": "stream",
     "text": [
      "IB_NaBr_sol_no_solv-b_pos1_13.46301keV_bpm3.393\n"
     ]
    },
    {
     "name": "stderr",
     "output_type": "stream",
     "text": [
      "WARNING:fabio.TiffIO:Data at tag id '65000' is smaller than expected\n",
      "WARNING:fabio.TiffIO:Data at tag id '65000' is smaller than expected\n"
     ]
    },
    {
     "name": "stdout",
     "output_type": "stream",
     "text": [
      "IB_NaBr_sol_no_solv-b_pos1_13.46401keV_bpm3.403\n"
     ]
    },
    {
     "name": "stderr",
     "output_type": "stream",
     "text": [
      "WARNING:fabio.TiffIO:Data at tag id '65000' is smaller than expected\n",
      "WARNING:fabio.TiffIO:Data at tag id '65000' is smaller than expected\n"
     ]
    },
    {
     "name": "stdout",
     "output_type": "stream",
     "text": [
      "IB_NaBr_sol_no_solv-b_pos1_13.46501keV_bpm3.403\n"
     ]
    },
    {
     "name": "stderr",
     "output_type": "stream",
     "text": [
      "WARNING:fabio.TiffIO:Data at tag id '65000' is smaller than expected\n",
      "WARNING:fabio.TiffIO:Data at tag id '65000' is smaller than expected\n"
     ]
    },
    {
     "name": "stdout",
     "output_type": "stream",
     "text": [
      "IB_NaBr_sol_no_solv-b_pos1_13.46550keV_bpm3.396\n"
     ]
    },
    {
     "name": "stderr",
     "output_type": "stream",
     "text": [
      "WARNING:fabio.TiffIO:Data at tag id '65000' is smaller than expected\n",
      "WARNING:fabio.TiffIO:Data at tag id '65000' is smaller than expected\n"
     ]
    },
    {
     "name": "stdout",
     "output_type": "stream",
     "text": [
      "IB_NaBr_sol_no_solv-b_pos1_13.46599keV_bpm3.395\n"
     ]
    },
    {
     "name": "stderr",
     "output_type": "stream",
     "text": [
      "WARNING:fabio.TiffIO:Data at tag id '65000' is smaller than expected\n",
      "WARNING:fabio.TiffIO:Data at tag id '65000' is smaller than expected\n"
     ]
    },
    {
     "name": "stdout",
     "output_type": "stream",
     "text": [
      "IB_NaBr_sol_no_solv-b_pos1_13.46650keV_bpm3.398\n"
     ]
    },
    {
     "name": "stderr",
     "output_type": "stream",
     "text": [
      "WARNING:fabio.TiffIO:Data at tag id '65000' is smaller than expected\n",
      "WARNING:fabio.TiffIO:Data at tag id '65000' is smaller than expected\n"
     ]
    },
    {
     "name": "stdout",
     "output_type": "stream",
     "text": [
      "IB_NaBr_sol_no_solv-b_pos1_13.46699keV_bpm3.391\n"
     ]
    },
    {
     "name": "stderr",
     "output_type": "stream",
     "text": [
      "WARNING:fabio.TiffIO:Data at tag id '65000' is smaller than expected\n",
      "WARNING:fabio.TiffIO:Data at tag id '65000' is smaller than expected\n"
     ]
    },
    {
     "name": "stdout",
     "output_type": "stream",
     "text": [
      "IB_NaBr_sol_no_solv-b_pos1_13.46750keV_bpm3.389\n"
     ]
    },
    {
     "name": "stderr",
     "output_type": "stream",
     "text": [
      "WARNING:fabio.TiffIO:Data at tag id '65000' is smaller than expected\n",
      "WARNING:fabio.TiffIO:Data at tag id '65000' is smaller than expected\n"
     ]
    },
    {
     "name": "stdout",
     "output_type": "stream",
     "text": [
      "IB_NaBr_sol_no_solv-b_pos1_13.46800keV_bpm3.388\n"
     ]
    },
    {
     "name": "stderr",
     "output_type": "stream",
     "text": [
      "WARNING:fabio.TiffIO:Data at tag id '65000' is smaller than expected\n",
      "WARNING:fabio.TiffIO:Data at tag id '65000' is smaller than expected\n"
     ]
    },
    {
     "name": "stdout",
     "output_type": "stream",
     "text": [
      "IB_NaBr_sol_no_solv-b_pos1_13.46850keV_bpm3.385\n"
     ]
    },
    {
     "name": "stderr",
     "output_type": "stream",
     "text": [
      "WARNING:fabio.TiffIO:Data at tag id '65000' is smaller than expected\n",
      "WARNING:fabio.TiffIO:Data at tag id '65000' is smaller than expected\n"
     ]
    },
    {
     "name": "stdout",
     "output_type": "stream",
     "text": [
      "IB_NaBr_sol_no_solv-b_pos1_13.46900keV_bpm3.381\n"
     ]
    },
    {
     "name": "stderr",
     "output_type": "stream",
     "text": [
      "WARNING:fabio.TiffIO:Data at tag id '65000' is smaller than expected\n",
      "WARNING:fabio.TiffIO:Data at tag id '65000' is smaller than expected\n"
     ]
    },
    {
     "name": "stdout",
     "output_type": "stream",
     "text": [
      "IB_NaBr_sol_no_solv-b_pos1_13.46950keV_bpm3.377\n"
     ]
    },
    {
     "name": "stderr",
     "output_type": "stream",
     "text": [
      "WARNING:fabio.TiffIO:Data at tag id '65000' is smaller than expected\n",
      "WARNING:fabio.TiffIO:Data at tag id '65000' is smaller than expected\n"
     ]
    },
    {
     "name": "stdout",
     "output_type": "stream",
     "text": [
      "IB_NaBr_sol_no_solv-b_pos1_13.47000keV_bpm3.381\n"
     ]
    },
    {
     "name": "stderr",
     "output_type": "stream",
     "text": [
      "WARNING:fabio.TiffIO:Data at tag id '65000' is smaller than expected\n",
      "WARNING:fabio.TiffIO:Data at tag id '65000' is smaller than expected\n"
     ]
    },
    {
     "name": "stdout",
     "output_type": "stream",
     "text": [
      "IB_NaBr_sol_no_solv-b_pos1_13.47050keV_bpm3.373\n"
     ]
    },
    {
     "name": "stderr",
     "output_type": "stream",
     "text": [
      "WARNING:fabio.TiffIO:Data at tag id '65000' is smaller than expected\n",
      "WARNING:fabio.TiffIO:Data at tag id '65000' is smaller than expected\n"
     ]
    },
    {
     "name": "stdout",
     "output_type": "stream",
     "text": [
      "IB_NaBr_sol_no_solv-b_pos1_13.47100keV_bpm03.37\n"
     ]
    },
    {
     "name": "stderr",
     "output_type": "stream",
     "text": [
      "WARNING:fabio.TiffIO:Data at tag id '65000' is smaller than expected\n",
      "WARNING:fabio.TiffIO:Data at tag id '65000' is smaller than expected\n"
     ]
    },
    {
     "name": "stdout",
     "output_type": "stream",
     "text": [
      "IB_NaBr_sol_no_solv-b_pos1_13.47150keV_bpm3.369\n"
     ]
    },
    {
     "name": "stderr",
     "output_type": "stream",
     "text": [
      "WARNING:fabio.TiffIO:Data at tag id '65000' is smaller than expected\n",
      "WARNING:fabio.TiffIO:Data at tag id '65000' is smaller than expected\n"
     ]
    },
    {
     "name": "stdout",
     "output_type": "stream",
     "text": [
      "IB_NaBr_sol_no_solv-b_pos1_13.47200keV_bpm03.38\n"
     ]
    },
    {
     "name": "stderr",
     "output_type": "stream",
     "text": [
      "WARNING:fabio.TiffIO:Data at tag id '65000' is smaller than expected\n",
      "WARNING:fabio.TiffIO:Data at tag id '65000' is smaller than expected\n"
     ]
    },
    {
     "name": "stdout",
     "output_type": "stream",
     "text": [
      "IB_NaBr_sol_no_solv-b_pos1_13.47251keV_bpm3.372\n"
     ]
    },
    {
     "name": "stderr",
     "output_type": "stream",
     "text": [
      "WARNING:fabio.TiffIO:Data at tag id '65000' is smaller than expected\n",
      "WARNING:fabio.TiffIO:Data at tag id '65000' is smaller than expected\n"
     ]
    },
    {
     "name": "stdout",
     "output_type": "stream",
     "text": [
      "IB_NaBr_sol_no_solv-b_pos1_13.47300keV_bpm3.372\n"
     ]
    },
    {
     "name": "stderr",
     "output_type": "stream",
     "text": [
      "WARNING:fabio.TiffIO:Data at tag id '65000' is smaller than expected\n",
      "WARNING:fabio.TiffIO:Data at tag id '65000' is smaller than expected\n"
     ]
    },
    {
     "name": "stdout",
     "output_type": "stream",
     "text": [
      "IB_NaBr_sol_no_solv-b_pos1_13.47350keV_bpm3.364\n"
     ]
    },
    {
     "name": "stderr",
     "output_type": "stream",
     "text": [
      "WARNING:fabio.TiffIO:Data at tag id '65000' is smaller than expected\n",
      "WARNING:fabio.TiffIO:Data at tag id '65000' is smaller than expected\n"
     ]
    },
    {
     "name": "stdout",
     "output_type": "stream",
     "text": [
      "IB_NaBr_sol_no_solv-b_pos1_13.47400keV_bpm3.364\n"
     ]
    },
    {
     "name": "stderr",
     "output_type": "stream",
     "text": [
      "WARNING:fabio.TiffIO:Data at tag id '65000' is smaller than expected\n",
      "WARNING:fabio.TiffIO:Data at tag id '65000' is smaller than expected\n"
     ]
    },
    {
     "name": "stdout",
     "output_type": "stream",
     "text": [
      "IB_NaBr_sol_no_solv-b_pos1_13.47450keV_bpm03.36\n"
     ]
    },
    {
     "name": "stderr",
     "output_type": "stream",
     "text": [
      "WARNING:fabio.TiffIO:Data at tag id '65000' is smaller than expected\n",
      "WARNING:fabio.TiffIO:Data at tag id '65000' is smaller than expected\n"
     ]
    },
    {
     "name": "stdout",
     "output_type": "stream",
     "text": [
      "IB_NaBr_sol_no_solv-b_pos1_13.47500keV_bpm3.359\n"
     ]
    },
    {
     "name": "stderr",
     "output_type": "stream",
     "text": [
      "WARNING:fabio.TiffIO:Data at tag id '65000' is smaller than expected\n",
      "WARNING:fabio.TiffIO:Data at tag id '65000' is smaller than expected\n"
     ]
    },
    {
     "name": "stdout",
     "output_type": "stream",
     "text": [
      "IB_NaBr_sol_no_solv-b_pos1_13.47700keV_bpm3.364\n"
     ]
    },
    {
     "name": "stderr",
     "output_type": "stream",
     "text": [
      "WARNING:fabio.TiffIO:Data at tag id '65000' is smaller than expected\n",
      "WARNING:fabio.TiffIO:Data at tag id '65000' is smaller than expected\n"
     ]
    },
    {
     "name": "stdout",
     "output_type": "stream",
     "text": [
      "IB_NaBr_sol_no_solv-b_pos1_13.47900keV_bpm3.356\n"
     ]
    },
    {
     "name": "stderr",
     "output_type": "stream",
     "text": [
      "WARNING:fabio.TiffIO:Data at tag id '65000' is smaller than expected\n",
      "WARNING:fabio.TiffIO:Data at tag id '65000' is smaller than expected\n"
     ]
    },
    {
     "name": "stdout",
     "output_type": "stream",
     "text": [
      "IB_NaBr_sol_no_solv-b_pos1_13.48100keV_bpm3.347\n"
     ]
    },
    {
     "name": "stderr",
     "output_type": "stream",
     "text": [
      "WARNING:fabio.TiffIO:Data at tag id '65000' is smaller than expected\n",
      "WARNING:fabio.TiffIO:Data at tag id '65000' is smaller than expected\n"
     ]
    },
    {
     "name": "stdout",
     "output_type": "stream",
     "text": [
      "IB_NaBr_sol_no_solv-b_pos1_13.48300keV_bpm3.351\n"
     ]
    },
    {
     "name": "stderr",
     "output_type": "stream",
     "text": [
      "WARNING:fabio.TiffIO:Data at tag id '65000' is smaller than expected\n",
      "WARNING:fabio.TiffIO:Data at tag id '65000' is smaller than expected\n"
     ]
    },
    {
     "name": "stdout",
     "output_type": "stream",
     "text": [
      "IB_NaBr_sol_no_solv-b_pos1_13.48500keV_bpm3.351\n"
     ]
    },
    {
     "name": "stderr",
     "output_type": "stream",
     "text": [
      "WARNING:fabio.TiffIO:Data at tag id '65000' is smaller than expected\n",
      "WARNING:fabio.TiffIO:Data at tag id '65000' is smaller than expected\n"
     ]
    },
    {
     "name": "stdout",
     "output_type": "stream",
     "text": [
      "IB_NaBr_sol_no_solv-b_pos1_13.49000keV_bpm3.347\n"
     ]
    },
    {
     "name": "stderr",
     "output_type": "stream",
     "text": [
      "WARNING:fabio.TiffIO:Data at tag id '65000' is smaller than expected\n",
      "WARNING:fabio.TiffIO:Data at tag id '65000' is smaller than expected\n"
     ]
    },
    {
     "name": "stdout",
     "output_type": "stream",
     "text": [
      "IB_NaBr_sol_no_solv-b_pos1_13.49500keV_bpm3.341\n"
     ]
    },
    {
     "name": "stderr",
     "output_type": "stream",
     "text": [
      "WARNING:fabio.TiffIO:Data at tag id '65000' is smaller than expected\n",
      "WARNING:fabio.TiffIO:Data at tag id '65000' is smaller than expected\n"
     ]
    },
    {
     "name": "stdout",
     "output_type": "stream",
     "text": [
      "IB_NaBr_sol_no_solv-b_pos1_13.50000keV_bpm3.336\n"
     ]
    },
    {
     "name": "stderr",
     "output_type": "stream",
     "text": [
      "WARNING:fabio.TiffIO:Data at tag id '65000' is smaller than expected\n",
      "WARNING:fabio.TiffIO:Data at tag id '65000' is smaller than expected\n"
     ]
    },
    {
     "name": "stdout",
     "output_type": "stream",
     "text": [
      "IB_NaBr_sol_no_solv-b_pos1_13.50500keV_bpm3.338\n"
     ]
    },
    {
     "name": "stderr",
     "output_type": "stream",
     "text": [
      "WARNING:fabio.TiffIO:Data at tag id '65000' is smaller than expected\n",
      "WARNING:fabio.TiffIO:Data at tag id '65000' is smaller than expected\n"
     ]
    },
    {
     "name": "stdout",
     "output_type": "stream",
     "text": [
      "IB_NaBr_sol_no_solv-b_pos1_13.51000keV_bpm3.353\n"
     ]
    },
    {
     "name": "stderr",
     "output_type": "stream",
     "text": [
      "WARNING:fabio.TiffIO:Data at tag id '65000' is smaller than expected\n",
      "WARNING:fabio.TiffIO:Data at tag id '65000' is smaller than expected\n"
     ]
    },
    {
     "name": "stdout",
     "output_type": "stream",
     "text": [
      "IB_NaBr_sol_no_solv-b_pos1_13.51500keV_bpm3.348\n"
     ]
    },
    {
     "name": "stderr",
     "output_type": "stream",
     "text": [
      "WARNING:fabio.TiffIO:Data at tag id '65000' is smaller than expected\n",
      "WARNING:fabio.TiffIO:Data at tag id '65000' is smaller than expected\n"
     ]
    },
    {
     "name": "stdout",
     "output_type": "stream",
     "text": [
      "IB_NaBr_sol_no_solv-b_pos1_13.52000keV_bpm03.34\n"
     ]
    },
    {
     "name": "stderr",
     "output_type": "stream",
     "text": [
      "WARNING:fabio.TiffIO:Data at tag id '65000' is smaller than expected\n",
      "WARNING:fabio.TiffIO:Data at tag id '65000' is smaller than expected\n"
     ]
    },
    {
     "name": "stdout",
     "output_type": "stream",
     "text": [
      "IB_NaBr_sol_no_solv-b_pos1_13.52500keV_bpm3.335\n"
     ]
    },
    {
     "name": "stderr",
     "output_type": "stream",
     "text": [
      "WARNING:fabio.TiffIO:Data at tag id '65000' is smaller than expected\n",
      "WARNING:fabio.TiffIO:Data at tag id '65000' is smaller than expected\n"
     ]
    },
    {
     "name": "stdout",
     "output_type": "stream",
     "text": [
      "IB_NaBr_sol_no_solv-b_pos1_13.53000keV_bpm3.324\n"
     ]
    },
    {
     "name": "stderr",
     "output_type": "stream",
     "text": [
      "WARNING:fabio.TiffIO:Data at tag id '65000' is smaller than expected\n",
      "WARNING:fabio.TiffIO:Data at tag id '65000' is smaller than expected\n"
     ]
    },
    {
     "name": "stdout",
     "output_type": "stream",
     "text": [
      "IB_NaBr_sol_no_solv-b_pos1_13.53500keV_bpm3.292\n"
     ]
    },
    {
     "name": "stderr",
     "output_type": "stream",
     "text": [
      "WARNING:fabio.TiffIO:Data at tag id '65000' is smaller than expected\n",
      "WARNING:fabio.TiffIO:Data at tag id '65000' is smaller than expected\n"
     ]
    },
    {
     "name": "stdout",
     "output_type": "stream",
     "text": [
      "IB_NaBr_sol_no_solv-b_pos1_13.54000keV_bpm3.307\n"
     ]
    },
    {
     "name": "stderr",
     "output_type": "stream",
     "text": [
      "WARNING:fabio.TiffIO:Data at tag id '65000' is smaller than expected\n",
      "WARNING:fabio.TiffIO:Data at tag id '65000' is smaller than expected\n"
     ]
    },
    {
     "name": "stdout",
     "output_type": "stream",
     "text": [
      "IB_NaBr_sol_no_solv-b_pos1_13.54501keV_bpm3.279\n"
     ]
    },
    {
     "name": "stderr",
     "output_type": "stream",
     "text": [
      "WARNING:fabio.TiffIO:Data at tag id '65000' is smaller than expected\n",
      "WARNING:fabio.TiffIO:Data at tag id '65000' is smaller than expected\n"
     ]
    },
    {
     "name": "stdout",
     "output_type": "stream",
     "text": [
      "IB_NaBr_sol_no_solv-b_pos1_13.55000keV_bpm03.29\n"
     ]
    },
    {
     "name": "stderr",
     "output_type": "stream",
     "text": [
      "WARNING:fabio.TiffIO:Data at tag id '65000' is smaller than expected\n",
      "WARNING:fabio.TiffIO:Data at tag id '65000' is smaller than expected\n"
     ]
    },
    {
     "name": "stdout",
     "output_type": "stream",
     "text": [
      "IB_KBr_sol_no_solv-b_pos1_\n",
      "IB_KBr_sol_no_solv-b_pos1_13.45000keV_bpm3.426\n"
     ]
    },
    {
     "name": "stderr",
     "output_type": "stream",
     "text": [
      "WARNING:fabio.TiffIO:Data at tag id '65000' is smaller than expected\n",
      "WARNING:fabio.TiffIO:Data at tag id '65000' is smaller than expected\n"
     ]
    },
    {
     "name": "stdout",
     "output_type": "stream",
     "text": [
      "IB_KBr_sol_no_solv-b_pos1_13.45500keV_bpm3.419\n"
     ]
    },
    {
     "name": "stderr",
     "output_type": "stream",
     "text": [
      "WARNING:fabio.TiffIO:Data at tag id '65000' is smaller than expected\n",
      "WARNING:fabio.TiffIO:Data at tag id '65000' is smaller than expected\n"
     ]
    },
    {
     "name": "stdout",
     "output_type": "stream",
     "text": [
      "IB_KBr_sol_no_solv-b_pos1_13.46000keV_bpm3.406\n"
     ]
    },
    {
     "name": "stderr",
     "output_type": "stream",
     "text": [
      "WARNING:fabio.TiffIO:Data at tag id '65000' is smaller than expected\n",
      "WARNING:fabio.TiffIO:Data at tag id '65000' is smaller than expected\n"
     ]
    },
    {
     "name": "stdout",
     "output_type": "stream",
     "text": [
      "IB_KBr_sol_no_solv-b_pos1_13.46099keV_bpm3.407\n"
     ]
    },
    {
     "name": "stderr",
     "output_type": "stream",
     "text": [
      "WARNING:fabio.TiffIO:Data at tag id '65000' is smaller than expected\n",
      "WARNING:fabio.TiffIO:Data at tag id '65000' is smaller than expected\n"
     ]
    },
    {
     "name": "stdout",
     "output_type": "stream",
     "text": [
      "IB_KBr_sol_no_solv-b_pos1_13.46201keV_bpm3.402\n"
     ]
    },
    {
     "name": "stderr",
     "output_type": "stream",
     "text": [
      "WARNING:fabio.TiffIO:Data at tag id '65000' is smaller than expected\n",
      "WARNING:fabio.TiffIO:Data at tag id '65000' is smaller than expected\n"
     ]
    },
    {
     "name": "stdout",
     "output_type": "stream",
     "text": [
      "IB_KBr_sol_no_solv-b_pos1_13.46301keV_bpm3.395\n"
     ]
    },
    {
     "name": "stderr",
     "output_type": "stream",
     "text": [
      "WARNING:fabio.TiffIO:Data at tag id '65000' is smaller than expected\n",
      "WARNING:fabio.TiffIO:Data at tag id '65000' is smaller than expected\n"
     ]
    },
    {
     "name": "stdout",
     "output_type": "stream",
     "text": [
      "IB_KBr_sol_no_solv-b_pos1_13.46401keV_bpm3.391\n"
     ]
    },
    {
     "name": "stderr",
     "output_type": "stream",
     "text": [
      "WARNING:fabio.TiffIO:Data at tag id '65000' is smaller than expected\n",
      "WARNING:fabio.TiffIO:Data at tag id '65000' is smaller than expected\n"
     ]
    },
    {
     "name": "stdout",
     "output_type": "stream",
     "text": [
      "IB_KBr_sol_no_solv-b_pos1_13.46501keV_bpm3.387\n"
     ]
    },
    {
     "name": "stderr",
     "output_type": "stream",
     "text": [
      "WARNING:fabio.TiffIO:Data at tag id '65000' is smaller than expected\n",
      "WARNING:fabio.TiffIO:Data at tag id '65000' is smaller than expected\n"
     ]
    },
    {
     "name": "stdout",
     "output_type": "stream",
     "text": [
      "IB_KBr_sol_no_solv-b_pos1_13.46550keV_bpm3.389\n"
     ]
    },
    {
     "name": "stderr",
     "output_type": "stream",
     "text": [
      "WARNING:fabio.TiffIO:Data at tag id '65000' is smaller than expected\n",
      "WARNING:fabio.TiffIO:Data at tag id '65000' is smaller than expected\n"
     ]
    },
    {
     "name": "stdout",
     "output_type": "stream",
     "text": [
      "IB_KBr_sol_no_solv-b_pos1_13.46599keV_bpm3.385\n"
     ]
    },
    {
     "name": "stderr",
     "output_type": "stream",
     "text": [
      "WARNING:fabio.TiffIO:Data at tag id '65000' is smaller than expected\n",
      "WARNING:fabio.TiffIO:Data at tag id '65000' is smaller than expected\n"
     ]
    },
    {
     "name": "stdout",
     "output_type": "stream",
     "text": [
      "IB_KBr_sol_no_solv-b_pos1_13.46650keV_bpm3.384\n"
     ]
    },
    {
     "name": "stderr",
     "output_type": "stream",
     "text": [
      "WARNING:fabio.TiffIO:Data at tag id '65000' is smaller than expected\n",
      "WARNING:fabio.TiffIO:Data at tag id '65000' is smaller than expected\n"
     ]
    },
    {
     "name": "stdout",
     "output_type": "stream",
     "text": [
      "IB_KBr_sol_no_solv-b_pos1_13.46699keV_bpm3.386\n"
     ]
    },
    {
     "name": "stderr",
     "output_type": "stream",
     "text": [
      "WARNING:fabio.TiffIO:Data at tag id '65000' is smaller than expected\n",
      "WARNING:fabio.TiffIO:Data at tag id '65000' is smaller than expected\n"
     ]
    },
    {
     "name": "stdout",
     "output_type": "stream",
     "text": [
      "IB_KBr_sol_no_solv-b_pos1_13.46750keV_bpm3.382\n"
     ]
    },
    {
     "name": "stderr",
     "output_type": "stream",
     "text": [
      "WARNING:fabio.TiffIO:Data at tag id '65000' is smaller than expected\n",
      "WARNING:fabio.TiffIO:Data at tag id '65000' is smaller than expected\n"
     ]
    },
    {
     "name": "stdout",
     "output_type": "stream",
     "text": [
      "IB_KBr_sol_no_solv-b_pos1_13.46800keV_bpm3.379\n"
     ]
    },
    {
     "name": "stderr",
     "output_type": "stream",
     "text": [
      "WARNING:fabio.TiffIO:Data at tag id '65000' is smaller than expected\n",
      "WARNING:fabio.TiffIO:Data at tag id '65000' is smaller than expected\n"
     ]
    },
    {
     "name": "stdout",
     "output_type": "stream",
     "text": [
      "IB_KBr_sol_no_solv-b_pos1_13.46850keV_bpm3.375\n"
     ]
    },
    {
     "name": "stderr",
     "output_type": "stream",
     "text": [
      "WARNING:fabio.TiffIO:Data at tag id '65000' is smaller than expected\n",
      "WARNING:fabio.TiffIO:Data at tag id '65000' is smaller than expected\n"
     ]
    },
    {
     "name": "stdout",
     "output_type": "stream",
     "text": [
      "IB_KBr_sol_no_solv-b_pos1_13.46900keV_bpm3.389\n"
     ]
    },
    {
     "name": "stderr",
     "output_type": "stream",
     "text": [
      "WARNING:fabio.TiffIO:Data at tag id '65000' is smaller than expected\n",
      "WARNING:fabio.TiffIO:Data at tag id '65000' is smaller than expected\n"
     ]
    },
    {
     "name": "stdout",
     "output_type": "stream",
     "text": [
      "IB_KBr_sol_no_solv-b_pos1_13.46950keV_bpm3.385\n"
     ]
    },
    {
     "name": "stderr",
     "output_type": "stream",
     "text": [
      "WARNING:fabio.TiffIO:Data at tag id '65000' is smaller than expected\n",
      "WARNING:fabio.TiffIO:Data at tag id '65000' is smaller than expected\n"
     ]
    },
    {
     "name": "stdout",
     "output_type": "stream",
     "text": [
      "IB_KBr_sol_no_solv-b_pos1_13.47000keV_bpm3.381\n"
     ]
    },
    {
     "name": "stderr",
     "output_type": "stream",
     "text": [
      "WARNING:fabio.TiffIO:Data at tag id '65000' is smaller than expected\n",
      "WARNING:fabio.TiffIO:Data at tag id '65000' is smaller than expected\n"
     ]
    },
    {
     "name": "stdout",
     "output_type": "stream",
     "text": [
      "IB_KBr_sol_no_solv-b_pos1_13.47050keV_bpm03.38\n"
     ]
    },
    {
     "name": "stderr",
     "output_type": "stream",
     "text": [
      "WARNING:fabio.TiffIO:Data at tag id '65000' is smaller than expected\n",
      "WARNING:fabio.TiffIO:Data at tag id '65000' is smaller than expected\n"
     ]
    },
    {
     "name": "stdout",
     "output_type": "stream",
     "text": [
      "IB_KBr_sol_no_solv-b_pos1_13.47100keV_bpm3.374\n"
     ]
    },
    {
     "name": "stderr",
     "output_type": "stream",
     "text": [
      "WARNING:fabio.TiffIO:Data at tag id '65000' is smaller than expected\n",
      "WARNING:fabio.TiffIO:Data at tag id '65000' is smaller than expected\n"
     ]
    },
    {
     "name": "stdout",
     "output_type": "stream",
     "text": [
      "IB_KBr_sol_no_solv-b_pos1_13.47150keV_bpm3.371\n"
     ]
    },
    {
     "name": "stderr",
     "output_type": "stream",
     "text": [
      "WARNING:fabio.TiffIO:Data at tag id '65000' is smaller than expected\n",
      "WARNING:fabio.TiffIO:Data at tag id '65000' is smaller than expected\n"
     ]
    },
    {
     "name": "stdout",
     "output_type": "stream",
     "text": [
      "IB_KBr_sol_no_solv-b_pos1_13.47200keV_bpm3.373\n"
     ]
    },
    {
     "name": "stderr",
     "output_type": "stream",
     "text": [
      "WARNING:fabio.TiffIO:Data at tag id '65000' is smaller than expected\n",
      "WARNING:fabio.TiffIO:Data at tag id '65000' is smaller than expected\n"
     ]
    },
    {
     "name": "stdout",
     "output_type": "stream",
     "text": [
      "IB_KBr_sol_no_solv-b_pos1_13.47251keV_bpm3.371\n"
     ]
    },
    {
     "name": "stderr",
     "output_type": "stream",
     "text": [
      "WARNING:fabio.TiffIO:Data at tag id '65000' is smaller than expected\n",
      "WARNING:fabio.TiffIO:Data at tag id '65000' is smaller than expected\n"
     ]
    },
    {
     "name": "stdout",
     "output_type": "stream",
     "text": [
      "IB_KBr_sol_no_solv-b_pos1_13.47300keV_bpm3.365\n"
     ]
    },
    {
     "name": "stderr",
     "output_type": "stream",
     "text": [
      "WARNING:fabio.TiffIO:Data at tag id '65000' is smaller than expected\n",
      "WARNING:fabio.TiffIO:Data at tag id '65000' is smaller than expected\n"
     ]
    },
    {
     "name": "stdout",
     "output_type": "stream",
     "text": [
      "IB_KBr_sol_no_solv-b_pos1_13.47350keV_bpm3.358\n"
     ]
    },
    {
     "name": "stderr",
     "output_type": "stream",
     "text": [
      "WARNING:fabio.TiffIO:Data at tag id '65000' is smaller than expected\n",
      "WARNING:fabio.TiffIO:Data at tag id '65000' is smaller than expected\n"
     ]
    },
    {
     "name": "stdout",
     "output_type": "stream",
     "text": [
      "IB_KBr_sol_no_solv-b_pos1_13.47400keV_bpm3.352\n"
     ]
    },
    {
     "name": "stderr",
     "output_type": "stream",
     "text": [
      "WARNING:fabio.TiffIO:Data at tag id '65000' is smaller than expected\n",
      "WARNING:fabio.TiffIO:Data at tag id '65000' is smaller than expected\n"
     ]
    },
    {
     "name": "stdout",
     "output_type": "stream",
     "text": [
      "IB_KBr_sol_no_solv-b_pos1_13.47450keV_bpm3.357\n"
     ]
    },
    {
     "name": "stderr",
     "output_type": "stream",
     "text": [
      "WARNING:fabio.TiffIO:Data at tag id '65000' is smaller than expected\n",
      "WARNING:fabio.TiffIO:Data at tag id '65000' is smaller than expected\n"
     ]
    },
    {
     "name": "stdout",
     "output_type": "stream",
     "text": [
      "IB_KBr_sol_no_solv-b_pos1_13.47500keV_bpm3.357\n"
     ]
    },
    {
     "name": "stderr",
     "output_type": "stream",
     "text": [
      "WARNING:fabio.TiffIO:Data at tag id '65000' is smaller than expected\n",
      "WARNING:fabio.TiffIO:Data at tag id '65000' is smaller than expected\n"
     ]
    },
    {
     "name": "stdout",
     "output_type": "stream",
     "text": [
      "IB_KBr_sol_no_solv-b_pos1_13.47700keV_bpm3.356\n"
     ]
    },
    {
     "name": "stderr",
     "output_type": "stream",
     "text": [
      "WARNING:fabio.TiffIO:Data at tag id '65000' is smaller than expected\n",
      "WARNING:fabio.TiffIO:Data at tag id '65000' is smaller than expected\n"
     ]
    },
    {
     "name": "stdout",
     "output_type": "stream",
     "text": [
      "IB_KBr_sol_no_solv-b_pos1_13.47900keV_bpm3.349\n"
     ]
    },
    {
     "name": "stderr",
     "output_type": "stream",
     "text": [
      "WARNING:fabio.TiffIO:Data at tag id '65000' is smaller than expected\n",
      "WARNING:fabio.TiffIO:Data at tag id '65000' is smaller than expected\n"
     ]
    },
    {
     "name": "stdout",
     "output_type": "stream",
     "text": [
      "IB_KBr_sol_no_solv-b_pos1_13.48100keV_bpm3.342\n"
     ]
    },
    {
     "name": "stderr",
     "output_type": "stream",
     "text": [
      "WARNING:fabio.TiffIO:Data at tag id '65000' is smaller than expected\n",
      "WARNING:fabio.TiffIO:Data at tag id '65000' is smaller than expected\n"
     ]
    },
    {
     "name": "stdout",
     "output_type": "stream",
     "text": [
      "IB_KBr_sol_no_solv-b_pos1_13.48300keV_bpm3.357\n"
     ]
    },
    {
     "name": "stderr",
     "output_type": "stream",
     "text": [
      "WARNING:fabio.TiffIO:Data at tag id '65000' is smaller than expected\n",
      "WARNING:fabio.TiffIO:Data at tag id '65000' is smaller than expected\n"
     ]
    },
    {
     "name": "stdout",
     "output_type": "stream",
     "text": [
      "IB_KBr_sol_no_solv-b_pos1_13.48500keV_bpm3.355\n"
     ]
    },
    {
     "name": "stderr",
     "output_type": "stream",
     "text": [
      "WARNING:fabio.TiffIO:Data at tag id '65000' is smaller than expected\n",
      "WARNING:fabio.TiffIO:Data at tag id '65000' is smaller than expected\n"
     ]
    },
    {
     "name": "stdout",
     "output_type": "stream",
     "text": [
      "IB_KBr_sol_no_solv-b_pos1_13.49000keV_bpm3.347\n"
     ]
    },
    {
     "name": "stderr",
     "output_type": "stream",
     "text": [
      "WARNING:fabio.TiffIO:Data at tag id '65000' is smaller than expected\n",
      "WARNING:fabio.TiffIO:Data at tag id '65000' is smaller than expected\n"
     ]
    },
    {
     "name": "stdout",
     "output_type": "stream",
     "text": [
      "IB_KBr_sol_no_solv-b_pos1_13.49500keV_bpm3.342\n"
     ]
    },
    {
     "name": "stderr",
     "output_type": "stream",
     "text": [
      "WARNING:fabio.TiffIO:Data at tag id '65000' is smaller than expected\n",
      "WARNING:fabio.TiffIO:Data at tag id '65000' is smaller than expected\n"
     ]
    },
    {
     "name": "stdout",
     "output_type": "stream",
     "text": [
      "IB_KBr_sol_no_solv-b_pos1_13.50000keV_bpm3.339\n"
     ]
    },
    {
     "name": "stderr",
     "output_type": "stream",
     "text": [
      "WARNING:fabio.TiffIO:Data at tag id '65000' is smaller than expected\n",
      "WARNING:fabio.TiffIO:Data at tag id '65000' is smaller than expected\n"
     ]
    },
    {
     "name": "stdout",
     "output_type": "stream",
     "text": [
      "IB_KBr_sol_no_solv-b_pos1_13.50500keV_bpm3.342\n"
     ]
    },
    {
     "name": "stderr",
     "output_type": "stream",
     "text": [
      "WARNING:fabio.TiffIO:Data at tag id '65000' is smaller than expected\n",
      "WARNING:fabio.TiffIO:Data at tag id '65000' is smaller than expected\n"
     ]
    },
    {
     "name": "stdout",
     "output_type": "stream",
     "text": [
      "IB_KBr_sol_no_solv-b_pos1_13.51000keV_bpm3.339\n"
     ]
    },
    {
     "name": "stderr",
     "output_type": "stream",
     "text": [
      "WARNING:fabio.TiffIO:Data at tag id '65000' is smaller than expected\n",
      "WARNING:fabio.TiffIO:Data at tag id '65000' is smaller than expected\n"
     ]
    },
    {
     "name": "stdout",
     "output_type": "stream",
     "text": [
      "IB_KBr_sol_no_solv-b_pos1_13.51500keV_bpm3.339\n"
     ]
    },
    {
     "name": "stderr",
     "output_type": "stream",
     "text": [
      "WARNING:fabio.TiffIO:Data at tag id '65000' is smaller than expected\n",
      "WARNING:fabio.TiffIO:Data at tag id '65000' is smaller than expected\n"
     ]
    },
    {
     "name": "stdout",
     "output_type": "stream",
     "text": [
      "IB_KBr_sol_no_solv-b_pos1_13.52000keV_bpm3.334\n"
     ]
    },
    {
     "name": "stderr",
     "output_type": "stream",
     "text": [
      "WARNING:fabio.TiffIO:Data at tag id '65000' is smaller than expected\n",
      "WARNING:fabio.TiffIO:Data at tag id '65000' is smaller than expected\n"
     ]
    },
    {
     "name": "stdout",
     "output_type": "stream",
     "text": [
      "IB_KBr_sol_no_solv-b_pos1_13.52500keV_bpm3.327\n"
     ]
    },
    {
     "name": "stderr",
     "output_type": "stream",
     "text": [
      "WARNING:fabio.TiffIO:Data at tag id '65000' is smaller than expected\n",
      "WARNING:fabio.TiffIO:Data at tag id '65000' is smaller than expected\n"
     ]
    },
    {
     "name": "stdout",
     "output_type": "stream",
     "text": [
      "IB_KBr_sol_no_solv-b_pos1_13.53000keV_bpm3.311\n"
     ]
    },
    {
     "name": "stderr",
     "output_type": "stream",
     "text": [
      "WARNING:fabio.TiffIO:Data at tag id '65000' is smaller than expected\n",
      "WARNING:fabio.TiffIO:Data at tag id '65000' is smaller than expected\n"
     ]
    },
    {
     "name": "stdout",
     "output_type": "stream",
     "text": [
      "IB_KBr_sol_no_solv-b_pos1_13.53500keV_bpm3.277\n"
     ]
    },
    {
     "name": "stderr",
     "output_type": "stream",
     "text": [
      "WARNING:fabio.TiffIO:Data at tag id '65000' is smaller than expected\n",
      "WARNING:fabio.TiffIO:Data at tag id '65000' is smaller than expected\n"
     ]
    },
    {
     "name": "stdout",
     "output_type": "stream",
     "text": [
      "IB_KBr_sol_no_solv-b_pos1_13.54000keV_bpm3.293\n"
     ]
    },
    {
     "name": "stderr",
     "output_type": "stream",
     "text": [
      "WARNING:fabio.TiffIO:Data at tag id '65000' is smaller than expected\n",
      "WARNING:fabio.TiffIO:Data at tag id '65000' is smaller than expected\n"
     ]
    },
    {
     "name": "stdout",
     "output_type": "stream",
     "text": [
      "IB_KBr_sol_no_solv-b_pos1_13.54501keV_bpm3.272\n"
     ]
    },
    {
     "name": "stderr",
     "output_type": "stream",
     "text": [
      "WARNING:fabio.TiffIO:Data at tag id '65000' is smaller than expected\n",
      "WARNING:fabio.TiffIO:Data at tag id '65000' is smaller than expected\n"
     ]
    },
    {
     "name": "stdout",
     "output_type": "stream",
     "text": [
      "IB_KBr_sol_no_solv-b_pos1_13.55000keV_bpm3.277\n"
     ]
    },
    {
     "name": "stderr",
     "output_type": "stream",
     "text": [
      "WARNING:fabio.TiffIO:Data at tag id '65000' is smaller than expected\n",
      "WARNING:fabio.TiffIO:Data at tag id '65000' is smaller than expected\n"
     ]
    },
    {
     "name": "stdout",
     "output_type": "stream",
     "text": [
      "IB_RbBr_sol_no_solv-b_pos1_\n",
      "IB_RbBr_sol_no_solv-b_pos1_13.45000keV_bpm3.411\n"
     ]
    },
    {
     "name": "stderr",
     "output_type": "stream",
     "text": [
      "WARNING:fabio.TiffIO:Data at tag id '65000' is smaller than expected\n",
      "WARNING:fabio.TiffIO:Data at tag id '65000' is smaller than expected\n"
     ]
    },
    {
     "name": "stdout",
     "output_type": "stream",
     "text": [
      "IB_RbBr_sol_no_solv-b_pos1_13.45500keV_bpm3.402\n"
     ]
    },
    {
     "name": "stderr",
     "output_type": "stream",
     "text": [
      "WARNING:fabio.TiffIO:Data at tag id '65000' is smaller than expected\n",
      "WARNING:fabio.TiffIO:Data at tag id '65000' is smaller than expected\n"
     ]
    },
    {
     "name": "stdout",
     "output_type": "stream",
     "text": [
      "IB_RbBr_sol_no_solv-b_pos1_13.46000keV_bpm3.397\n"
     ]
    },
    {
     "name": "stderr",
     "output_type": "stream",
     "text": [
      "WARNING:fabio.TiffIO:Data at tag id '65000' is smaller than expected\n",
      "WARNING:fabio.TiffIO:Data at tag id '65000' is smaller than expected\n"
     ]
    },
    {
     "name": "stdout",
     "output_type": "stream",
     "text": [
      "IB_RbBr_sol_no_solv-b_pos1_13.46099keV_bpm3.398\n"
     ]
    },
    {
     "name": "stderr",
     "output_type": "stream",
     "text": [
      "WARNING:fabio.TiffIO:Data at tag id '65000' is smaller than expected\n",
      "WARNING:fabio.TiffIO:Data at tag id '65000' is smaller than expected\n"
     ]
    },
    {
     "name": "stdout",
     "output_type": "stream",
     "text": [
      "IB_RbBr_sol_no_solv-b_pos1_13.46201keV_bpm3.391\n"
     ]
    },
    {
     "name": "stderr",
     "output_type": "stream",
     "text": [
      "WARNING:fabio.TiffIO:Data at tag id '65000' is smaller than expected\n",
      "WARNING:fabio.TiffIO:Data at tag id '65000' is smaller than expected\n"
     ]
    },
    {
     "name": "stdout",
     "output_type": "stream",
     "text": [
      "IB_RbBr_sol_no_solv-b_pos1_13.46301keV_bpm3.387\n"
     ]
    },
    {
     "name": "stderr",
     "output_type": "stream",
     "text": [
      "WARNING:fabio.TiffIO:Data at tag id '65000' is smaller than expected\n",
      "WARNING:fabio.TiffIO:Data at tag id '65000' is smaller than expected\n"
     ]
    },
    {
     "name": "stdout",
     "output_type": "stream",
     "text": [
      "IB_RbBr_sol_no_solv-b_pos1_13.46401keV_bpm3.387\n"
     ]
    },
    {
     "name": "stderr",
     "output_type": "stream",
     "text": [
      "WARNING:fabio.TiffIO:Data at tag id '65000' is smaller than expected\n",
      "WARNING:fabio.TiffIO:Data at tag id '65000' is smaller than expected\n"
     ]
    },
    {
     "name": "stdout",
     "output_type": "stream",
     "text": [
      "IB_RbBr_sol_no_solv-b_pos1_13.46501keV_bpm3.381\n"
     ]
    },
    {
     "name": "stderr",
     "output_type": "stream",
     "text": [
      "WARNING:fabio.TiffIO:Data at tag id '65000' is smaller than expected\n",
      "WARNING:fabio.TiffIO:Data at tag id '65000' is smaller than expected\n"
     ]
    },
    {
     "name": "stdout",
     "output_type": "stream",
     "text": [
      "IB_RbBr_sol_no_solv-b_pos1_13.46550keV_bpm3.381\n"
     ]
    },
    {
     "name": "stderr",
     "output_type": "stream",
     "text": [
      "WARNING:fabio.TiffIO:Data at tag id '65000' is smaller than expected\n",
      "WARNING:fabio.TiffIO:Data at tag id '65000' is smaller than expected\n"
     ]
    },
    {
     "name": "stdout",
     "output_type": "stream",
     "text": [
      "IB_RbBr_sol_no_solv-b_pos1_13.46599keV_bpm3.378\n"
     ]
    },
    {
     "name": "stderr",
     "output_type": "stream",
     "text": [
      "WARNING:fabio.TiffIO:Data at tag id '65000' is smaller than expected\n",
      "WARNING:fabio.TiffIO:Data at tag id '65000' is smaller than expected\n"
     ]
    },
    {
     "name": "stdout",
     "output_type": "stream",
     "text": [
      "IB_RbBr_sol_no_solv-b_pos1_13.46650keV_bpm3.393\n"
     ]
    },
    {
     "name": "stderr",
     "output_type": "stream",
     "text": [
      "WARNING:fabio.TiffIO:Data at tag id '65000' is smaller than expected\n",
      "WARNING:fabio.TiffIO:Data at tag id '65000' is smaller than expected\n"
     ]
    },
    {
     "name": "stdout",
     "output_type": "stream",
     "text": [
      "IB_RbBr_sol_no_solv-b_pos1_13.46699keV_bpm3.389\n"
     ]
    },
    {
     "name": "stderr",
     "output_type": "stream",
     "text": [
      "WARNING:fabio.TiffIO:Data at tag id '65000' is smaller than expected\n",
      "WARNING:fabio.TiffIO:Data at tag id '65000' is smaller than expected\n"
     ]
    },
    {
     "name": "stdout",
     "output_type": "stream",
     "text": [
      "IB_RbBr_sol_no_solv-b_pos1_13.46750keV_bpm3.386\n"
     ]
    },
    {
     "name": "stderr",
     "output_type": "stream",
     "text": [
      "WARNING:fabio.TiffIO:Data at tag id '65000' is smaller than expected\n",
      "WARNING:fabio.TiffIO:Data at tag id '65000' is smaller than expected\n"
     ]
    },
    {
     "name": "stdout",
     "output_type": "stream",
     "text": [
      "IB_RbBr_sol_no_solv-b_pos1_13.46800keV_bpm3.385\n"
     ]
    },
    {
     "name": "stderr",
     "output_type": "stream",
     "text": [
      "WARNING:fabio.TiffIO:Data at tag id '65000' is smaller than expected\n",
      "WARNING:fabio.TiffIO:Data at tag id '65000' is smaller than expected\n"
     ]
    },
    {
     "name": "stdout",
     "output_type": "stream",
     "text": [
      "IB_RbBr_sol_no_solv-b_pos1_13.46850keV_bpm3.385\n"
     ]
    },
    {
     "name": "stderr",
     "output_type": "stream",
     "text": [
      "WARNING:fabio.TiffIO:Data at tag id '65000' is smaller than expected\n",
      "WARNING:fabio.TiffIO:Data at tag id '65000' is smaller than expected\n"
     ]
    },
    {
     "name": "stdout",
     "output_type": "stream",
     "text": [
      "IB_RbBr_sol_no_solv-b_pos1_13.46900keV_bpm3.381\n"
     ]
    },
    {
     "name": "stderr",
     "output_type": "stream",
     "text": [
      "WARNING:fabio.TiffIO:Data at tag id '65000' is smaller than expected\n",
      "WARNING:fabio.TiffIO:Data at tag id '65000' is smaller than expected\n"
     ]
    },
    {
     "name": "stdout",
     "output_type": "stream",
     "text": [
      "IB_RbBr_sol_no_solv-b_pos1_13.46950keV_bpm3.376\n"
     ]
    },
    {
     "name": "stderr",
     "output_type": "stream",
     "text": [
      "WARNING:fabio.TiffIO:Data at tag id '65000' is smaller than expected\n",
      "WARNING:fabio.TiffIO:Data at tag id '65000' is smaller than expected\n"
     ]
    },
    {
     "name": "stdout",
     "output_type": "stream",
     "text": [
      "IB_RbBr_sol_no_solv-b_pos1_13.47000keV_bpm3.376\n"
     ]
    },
    {
     "name": "stderr",
     "output_type": "stream",
     "text": [
      "WARNING:fabio.TiffIO:Data at tag id '65000' is smaller than expected\n",
      "WARNING:fabio.TiffIO:Data at tag id '65000' is smaller than expected\n"
     ]
    },
    {
     "name": "stdout",
     "output_type": "stream",
     "text": [
      "IB_RbBr_sol_no_solv-b_pos1_13.47050keV_bpm3.375\n"
     ]
    },
    {
     "name": "stderr",
     "output_type": "stream",
     "text": [
      "WARNING:fabio.TiffIO:Data at tag id '65000' is smaller than expected\n",
      "WARNING:fabio.TiffIO:Data at tag id '65000' is smaller than expected\n"
     ]
    },
    {
     "name": "stdout",
     "output_type": "stream",
     "text": [
      "IB_RbBr_sol_no_solv-b_pos1_13.47100keV_bpm3.372\n"
     ]
    },
    {
     "name": "stderr",
     "output_type": "stream",
     "text": [
      "WARNING:fabio.TiffIO:Data at tag id '65000' is smaller than expected\n",
      "WARNING:fabio.TiffIO:Data at tag id '65000' is smaller than expected\n"
     ]
    },
    {
     "name": "stdout",
     "output_type": "stream",
     "text": [
      "IB_RbBr_sol_no_solv-b_pos1_13.47150keV_bpm3.375\n"
     ]
    },
    {
     "name": "stderr",
     "output_type": "stream",
     "text": [
      "WARNING:fabio.TiffIO:Data at tag id '65000' is smaller than expected\n",
      "WARNING:fabio.TiffIO:Data at tag id '65000' is smaller than expected\n"
     ]
    },
    {
     "name": "stdout",
     "output_type": "stream",
     "text": [
      "IB_RbBr_sol_no_solv-b_pos1_13.47200keV_bpm3.368\n"
     ]
    },
    {
     "name": "stderr",
     "output_type": "stream",
     "text": [
      "WARNING:fabio.TiffIO:Data at tag id '65000' is smaller than expected\n",
      "WARNING:fabio.TiffIO:Data at tag id '65000' is smaller than expected\n"
     ]
    },
    {
     "name": "stdout",
     "output_type": "stream",
     "text": [
      "IB_RbBr_sol_no_solv-b_pos1_13.47251keV_bpm3.365\n"
     ]
    },
    {
     "name": "stderr",
     "output_type": "stream",
     "text": [
      "WARNING:fabio.TiffIO:Data at tag id '65000' is smaller than expected\n",
      "WARNING:fabio.TiffIO:Data at tag id '65000' is smaller than expected\n"
     ]
    },
    {
     "name": "stdout",
     "output_type": "stream",
     "text": [
      "IB_RbBr_sol_no_solv-b_pos1_13.47300keV_bpm3.359\n"
     ]
    },
    {
     "name": "stderr",
     "output_type": "stream",
     "text": [
      "WARNING:fabio.TiffIO:Data at tag id '65000' is smaller than expected\n",
      "WARNING:fabio.TiffIO:Data at tag id '65000' is smaller than expected\n"
     ]
    },
    {
     "name": "stdout",
     "output_type": "stream",
     "text": [
      "IB_RbBr_sol_no_solv-b_pos1_13.47350keV_bpm3.352\n"
     ]
    },
    {
     "name": "stderr",
     "output_type": "stream",
     "text": [
      "WARNING:fabio.TiffIO:Data at tag id '65000' is smaller than expected\n",
      "WARNING:fabio.TiffIO:Data at tag id '65000' is smaller than expected\n"
     ]
    },
    {
     "name": "stdout",
     "output_type": "stream",
     "text": [
      "IB_RbBr_sol_no_solv-b_pos1_13.47400keV_bpm3.365\n"
     ]
    },
    {
     "name": "stderr",
     "output_type": "stream",
     "text": [
      "WARNING:fabio.TiffIO:Data at tag id '65000' is smaller than expected\n",
      "WARNING:fabio.TiffIO:Data at tag id '65000' is smaller than expected\n"
     ]
    },
    {
     "name": "stdout",
     "output_type": "stream",
     "text": [
      "IB_RbBr_sol_no_solv-b_pos1_13.47450keV_bpm3.361\n"
     ]
    },
    {
     "name": "stderr",
     "output_type": "stream",
     "text": [
      "WARNING:fabio.TiffIO:Data at tag id '65000' is smaller than expected\n",
      "WARNING:fabio.TiffIO:Data at tag id '65000' is smaller than expected\n"
     ]
    },
    {
     "name": "stdout",
     "output_type": "stream",
     "text": [
      "IB_RbBr_sol_no_solv-b_pos1_13.47500keV_bpm3.362\n"
     ]
    },
    {
     "name": "stderr",
     "output_type": "stream",
     "text": [
      "WARNING:fabio.TiffIO:Data at tag id '65000' is smaller than expected\n",
      "WARNING:fabio.TiffIO:Data at tag id '65000' is smaller than expected\n"
     ]
    },
    {
     "name": "stdout",
     "output_type": "stream",
     "text": [
      "IB_RbBr_sol_no_solv-b_pos1_13.47700keV_bpm3.361\n"
     ]
    },
    {
     "name": "stderr",
     "output_type": "stream",
     "text": [
      "WARNING:fabio.TiffIO:Data at tag id '65000' is smaller than expected\n",
      "WARNING:fabio.TiffIO:Data at tag id '65000' is smaller than expected\n"
     ]
    },
    {
     "name": "stdout",
     "output_type": "stream",
     "text": [
      "IB_RbBr_sol_no_solv-b_pos1_13.47900keV_bpm3.349\n"
     ]
    },
    {
     "name": "stderr",
     "output_type": "stream",
     "text": [
      "WARNING:fabio.TiffIO:Data at tag id '65000' is smaller than expected\n",
      "WARNING:fabio.TiffIO:Data at tag id '65000' is smaller than expected\n"
     ]
    },
    {
     "name": "stdout",
     "output_type": "stream",
     "text": [
      "IB_RbBr_sol_no_solv-b_pos1_13.48100keV_bpm3.352\n"
     ]
    },
    {
     "name": "stderr",
     "output_type": "stream",
     "text": [
      "WARNING:fabio.TiffIO:Data at tag id '65000' is smaller than expected\n",
      "WARNING:fabio.TiffIO:Data at tag id '65000' is smaller than expected\n"
     ]
    },
    {
     "name": "stdout",
     "output_type": "stream",
     "text": [
      "IB_RbBr_sol_no_solv-b_pos1_13.48300keV_bpm03.35\n"
     ]
    },
    {
     "name": "stderr",
     "output_type": "stream",
     "text": [
      "WARNING:fabio.TiffIO:Data at tag id '65000' is smaller than expected\n",
      "WARNING:fabio.TiffIO:Data at tag id '65000' is smaller than expected\n"
     ]
    },
    {
     "name": "stdout",
     "output_type": "stream",
     "text": [
      "IB_RbBr_sol_no_solv-b_pos1_13.48500keV_bpm3.348\n"
     ]
    },
    {
     "name": "stderr",
     "output_type": "stream",
     "text": [
      "WARNING:fabio.TiffIO:Data at tag id '65000' is smaller than expected\n",
      "WARNING:fabio.TiffIO:Data at tag id '65000' is smaller than expected\n"
     ]
    },
    {
     "name": "stdout",
     "output_type": "stream",
     "text": [
      "IB_RbBr_sol_no_solv-b_pos1_13.49000keV_bpm3.342\n"
     ]
    },
    {
     "name": "stderr",
     "output_type": "stream",
     "text": [
      "WARNING:fabio.TiffIO:Data at tag id '65000' is smaller than expected\n",
      "WARNING:fabio.TiffIO:Data at tag id '65000' is smaller than expected\n"
     ]
    },
    {
     "name": "stdout",
     "output_type": "stream",
     "text": [
      "IB_RbBr_sol_no_solv-b_pos1_13.49500keV_bpm3.337\n"
     ]
    },
    {
     "name": "stderr",
     "output_type": "stream",
     "text": [
      "WARNING:fabio.TiffIO:Data at tag id '65000' is smaller than expected\n",
      "WARNING:fabio.TiffIO:Data at tag id '65000' is smaller than expected\n"
     ]
    },
    {
     "name": "stdout",
     "output_type": "stream",
     "text": [
      "IB_RbBr_sol_no_solv-b_pos1_13.50000keV_bpm3.331\n"
     ]
    },
    {
     "name": "stderr",
     "output_type": "stream",
     "text": [
      "WARNING:fabio.TiffIO:Data at tag id '65000' is smaller than expected\n",
      "WARNING:fabio.TiffIO:Data at tag id '65000' is smaller than expected\n"
     ]
    },
    {
     "name": "stdout",
     "output_type": "stream",
     "text": [
      "IB_RbBr_sol_no_solv-b_pos1_13.50500keV_bpm3.332\n"
     ]
    },
    {
     "name": "stderr",
     "output_type": "stream",
     "text": [
      "WARNING:fabio.TiffIO:Data at tag id '65000' is smaller than expected\n",
      "WARNING:fabio.TiffIO:Data at tag id '65000' is smaller than expected\n"
     ]
    },
    {
     "name": "stdout",
     "output_type": "stream",
     "text": [
      "IB_RbBr_sol_no_solv-b_pos1_13.51000keV_bpm3.333\n"
     ]
    },
    {
     "name": "stderr",
     "output_type": "stream",
     "text": [
      "WARNING:fabio.TiffIO:Data at tag id '65000' is smaller than expected\n",
      "WARNING:fabio.TiffIO:Data at tag id '65000' is smaller than expected\n"
     ]
    },
    {
     "name": "stdout",
     "output_type": "stream",
     "text": [
      "IB_RbBr_sol_no_solv-b_pos1_13.51500keV_bpm3.333\n"
     ]
    },
    {
     "name": "stderr",
     "output_type": "stream",
     "text": [
      "WARNING:fabio.TiffIO:Data at tag id '65000' is smaller than expected\n",
      "WARNING:fabio.TiffIO:Data at tag id '65000' is smaller than expected\n"
     ]
    },
    {
     "name": "stdout",
     "output_type": "stream",
     "text": [
      "IB_RbBr_sol_no_solv-b_pos1_13.52000keV_bpm3.326\n"
     ]
    },
    {
     "name": "stderr",
     "output_type": "stream",
     "text": [
      "WARNING:fabio.TiffIO:Data at tag id '65000' is smaller than expected\n",
      "WARNING:fabio.TiffIO:Data at tag id '65000' is smaller than expected\n"
     ]
    },
    {
     "name": "stdout",
     "output_type": "stream",
     "text": [
      "IB_RbBr_sol_no_solv-b_pos1_13.52500keV_bpm3.318\n"
     ]
    },
    {
     "name": "stderr",
     "output_type": "stream",
     "text": [
      "WARNING:fabio.TiffIO:Data at tag id '65000' is smaller than expected\n",
      "WARNING:fabio.TiffIO:Data at tag id '65000' is smaller than expected\n"
     ]
    },
    {
     "name": "stdout",
     "output_type": "stream",
     "text": [
      "IB_RbBr_sol_no_solv-b_pos1_13.53000keV_bpm03.32\n"
     ]
    },
    {
     "name": "stderr",
     "output_type": "stream",
     "text": [
      "WARNING:fabio.TiffIO:Data at tag id '65000' is smaller than expected\n",
      "WARNING:fabio.TiffIO:Data at tag id '65000' is smaller than expected\n"
     ]
    },
    {
     "name": "stdout",
     "output_type": "stream",
     "text": [
      "IB_RbBr_sol_no_solv-b_pos1_13.53500keV_bpm3.283\n"
     ]
    },
    {
     "name": "stderr",
     "output_type": "stream",
     "text": [
      "WARNING:fabio.TiffIO:Data at tag id '65000' is smaller than expected\n",
      "WARNING:fabio.TiffIO:Data at tag id '65000' is smaller than expected\n"
     ]
    },
    {
     "name": "stdout",
     "output_type": "stream",
     "text": [
      "IB_RbBr_sol_no_solv-b_pos1_13.54000keV_bpm3.299\n"
     ]
    },
    {
     "name": "stderr",
     "output_type": "stream",
     "text": [
      "WARNING:fabio.TiffIO:Data at tag id '65000' is smaller than expected\n",
      "WARNING:fabio.TiffIO:Data at tag id '65000' is smaller than expected\n"
     ]
    },
    {
     "name": "stdout",
     "output_type": "stream",
     "text": [
      "IB_RbBr_sol_no_solv-b_pos1_13.54501keV_bpm3.276\n"
     ]
    },
    {
     "name": "stderr",
     "output_type": "stream",
     "text": [
      "WARNING:fabio.TiffIO:Data at tag id '65000' is smaller than expected\n",
      "WARNING:fabio.TiffIO:Data at tag id '65000' is smaller than expected\n"
     ]
    },
    {
     "name": "stdout",
     "output_type": "stream",
     "text": [
      "IB_RbBr_sol_no_solv-b_pos1_13.55000keV_bpm3.281\n"
     ]
    },
    {
     "name": "stderr",
     "output_type": "stream",
     "text": [
      "WARNING:fabio.TiffIO:Data at tag id '65000' is smaller than expected\n",
      "WARNING:fabio.TiffIO:Data at tag id '65000' is smaller than expected\n"
     ]
    },
    {
     "name": "stdout",
     "output_type": "stream",
     "text": [
      "IB_water-a_pos1_\n",
      "IB_water-a_pos1_13.45000keV_bpm03.41\n"
     ]
    },
    {
     "name": "stderr",
     "output_type": "stream",
     "text": [
      "WARNING:fabio.TiffIO:Data at tag id '65000' is smaller than expected\n",
      "WARNING:fabio.TiffIO:Data at tag id '65000' is smaller than expected\n"
     ]
    },
    {
     "name": "stdout",
     "output_type": "stream",
     "text": [
      "IB_water-a_pos1_13.45500keV_bpm3.415\n"
     ]
    },
    {
     "name": "stderr",
     "output_type": "stream",
     "text": [
      "WARNING:fabio.TiffIO:Data at tag id '65000' is smaller than expected\n",
      "WARNING:fabio.TiffIO:Data at tag id '65000' is smaller than expected\n"
     ]
    },
    {
     "name": "stdout",
     "output_type": "stream",
     "text": [
      "IB_water-a_pos1_13.46000keV_bpm3.405\n"
     ]
    },
    {
     "name": "stderr",
     "output_type": "stream",
     "text": [
      "WARNING:fabio.TiffIO:Data at tag id '65000' is smaller than expected\n",
      "WARNING:fabio.TiffIO:Data at tag id '65000' is smaller than expected\n"
     ]
    },
    {
     "name": "stdout",
     "output_type": "stream",
     "text": [
      "IB_water-a_pos1_13.46099keV_bpm3.402\n"
     ]
    },
    {
     "name": "stderr",
     "output_type": "stream",
     "text": [
      "WARNING:fabio.TiffIO:Data at tag id '65000' is smaller than expected\n",
      "WARNING:fabio.TiffIO:Data at tag id '65000' is smaller than expected\n"
     ]
    },
    {
     "name": "stdout",
     "output_type": "stream",
     "text": [
      "IB_water-a_pos1_13.46201keV_bpm3.398\n"
     ]
    },
    {
     "name": "stderr",
     "output_type": "stream",
     "text": [
      "WARNING:fabio.TiffIO:Data at tag id '65000' is smaller than expected\n",
      "WARNING:fabio.TiffIO:Data at tag id '65000' is smaller than expected\n"
     ]
    },
    {
     "name": "stdout",
     "output_type": "stream",
     "text": [
      "IB_water-a_pos1_13.46301keV_bpm3.391\n"
     ]
    },
    {
     "name": "stderr",
     "output_type": "stream",
     "text": [
      "WARNING:fabio.TiffIO:Data at tag id '65000' is smaller than expected\n",
      "WARNING:fabio.TiffIO:Data at tag id '65000' is smaller than expected\n"
     ]
    },
    {
     "name": "stdout",
     "output_type": "stream",
     "text": [
      "IB_water-a_pos1_13.46401keV_bpm3.385\n"
     ]
    },
    {
     "name": "stderr",
     "output_type": "stream",
     "text": [
      "WARNING:fabio.TiffIO:Data at tag id '65000' is smaller than expected\n",
      "WARNING:fabio.TiffIO:Data at tag id '65000' is smaller than expected\n"
     ]
    },
    {
     "name": "stdout",
     "output_type": "stream",
     "text": [
      "IB_water-a_pos1_13.46501keV_bpm3.385\n"
     ]
    },
    {
     "name": "stderr",
     "output_type": "stream",
     "text": [
      "WARNING:fabio.TiffIO:Data at tag id '65000' is smaller than expected\n",
      "WARNING:fabio.TiffIO:Data at tag id '65000' is smaller than expected\n"
     ]
    },
    {
     "name": "stdout",
     "output_type": "stream",
     "text": [
      "IB_water-a_pos1_13.46550keV_bpm3.383\n"
     ]
    },
    {
     "name": "stderr",
     "output_type": "stream",
     "text": [
      "WARNING:fabio.TiffIO:Data at tag id '65000' is smaller than expected\n",
      "WARNING:fabio.TiffIO:Data at tag id '65000' is smaller than expected\n"
     ]
    },
    {
     "name": "stdout",
     "output_type": "stream",
     "text": [
      "IB_water-a_pos1_13.46599keV_bpm03.38\n"
     ]
    },
    {
     "name": "stderr",
     "output_type": "stream",
     "text": [
      "WARNING:fabio.TiffIO:Data at tag id '65000' is smaller than expected\n",
      "WARNING:fabio.TiffIO:Data at tag id '65000' is smaller than expected\n"
     ]
    },
    {
     "name": "stdout",
     "output_type": "stream",
     "text": [
      "IB_water-a_pos1_13.46650keV_bpm3.377\n"
     ]
    },
    {
     "name": "stderr",
     "output_type": "stream",
     "text": [
      "WARNING:fabio.TiffIO:Data at tag id '65000' is smaller than expected\n",
      "WARNING:fabio.TiffIO:Data at tag id '65000' is smaller than expected\n"
     ]
    },
    {
     "name": "stdout",
     "output_type": "stream",
     "text": [
      "IB_water-a_pos1_13.46699keV_bpm3.376\n"
     ]
    },
    {
     "name": "stderr",
     "output_type": "stream",
     "text": [
      "WARNING:fabio.TiffIO:Data at tag id '65000' is smaller than expected\n",
      "WARNING:fabio.TiffIO:Data at tag id '65000' is smaller than expected\n"
     ]
    },
    {
     "name": "stdout",
     "output_type": "stream",
     "text": [
      "IB_water-a_pos1_13.46750keV_bpm3.374\n"
     ]
    },
    {
     "name": "stderr",
     "output_type": "stream",
     "text": [
      "WARNING:fabio.TiffIO:Data at tag id '65000' is smaller than expected\n",
      "WARNING:fabio.TiffIO:Data at tag id '65000' is smaller than expected\n"
     ]
    },
    {
     "name": "stdout",
     "output_type": "stream",
     "text": [
      "IB_water-a_pos1_13.46800keV_bpm3.369\n"
     ]
    },
    {
     "name": "stderr",
     "output_type": "stream",
     "text": [
      "WARNING:fabio.TiffIO:Data at tag id '65000' is smaller than expected\n",
      "WARNING:fabio.TiffIO:Data at tag id '65000' is smaller than expected\n"
     ]
    },
    {
     "name": "stdout",
     "output_type": "stream",
     "text": [
      "IB_water-a_pos1_13.46850keV_bpm3.371\n"
     ]
    },
    {
     "name": "stderr",
     "output_type": "stream",
     "text": [
      "WARNING:fabio.TiffIO:Data at tag id '65000' is smaller than expected\n",
      "WARNING:fabio.TiffIO:Data at tag id '65000' is smaller than expected\n"
     ]
    },
    {
     "name": "stdout",
     "output_type": "stream",
     "text": [
      "IB_water-a_pos1_13.46900keV_bpm3.371\n"
     ]
    },
    {
     "name": "stderr",
     "output_type": "stream",
     "text": [
      "WARNING:fabio.TiffIO:Data at tag id '65000' is smaller than expected\n",
      "WARNING:fabio.TiffIO:Data at tag id '65000' is smaller than expected\n"
     ]
    },
    {
     "name": "stdout",
     "output_type": "stream",
     "text": [
      "IB_water-a_pos1_13.46950keV_bpm03.38\n"
     ]
    },
    {
     "name": "stderr",
     "output_type": "stream",
     "text": [
      "WARNING:fabio.TiffIO:Data at tag id '65000' is smaller than expected\n",
      "WARNING:fabio.TiffIO:Data at tag id '65000' is smaller than expected\n"
     ]
    },
    {
     "name": "stdout",
     "output_type": "stream",
     "text": [
      "IB_water-a_pos1_13.47000keV_bpm3.382\n"
     ]
    },
    {
     "name": "stderr",
     "output_type": "stream",
     "text": [
      "WARNING:fabio.TiffIO:Data at tag id '65000' is smaller than expected\n",
      "WARNING:fabio.TiffIO:Data at tag id '65000' is smaller than expected\n"
     ]
    },
    {
     "name": "stdout",
     "output_type": "stream",
     "text": [
      "IB_water-a_pos1_13.47050keV_bpm3.376\n"
     ]
    },
    {
     "name": "stderr",
     "output_type": "stream",
     "text": [
      "WARNING:fabio.TiffIO:Data at tag id '65000' is smaller than expected\n",
      "WARNING:fabio.TiffIO:Data at tag id '65000' is smaller than expected\n"
     ]
    },
    {
     "name": "stdout",
     "output_type": "stream",
     "text": [
      "IB_water-a_pos1_13.47100keV_bpm3.374\n"
     ]
    },
    {
     "name": "stderr",
     "output_type": "stream",
     "text": [
      "WARNING:fabio.TiffIO:Data at tag id '65000' is smaller than expected\n",
      "WARNING:fabio.TiffIO:Data at tag id '65000' is smaller than expected\n"
     ]
    },
    {
     "name": "stdout",
     "output_type": "stream",
     "text": [
      "IB_water-a_pos1_13.47150keV_bpm3.372\n"
     ]
    },
    {
     "name": "stderr",
     "output_type": "stream",
     "text": [
      "WARNING:fabio.TiffIO:Data at tag id '65000' is smaller than expected\n",
      "WARNING:fabio.TiffIO:Data at tag id '65000' is smaller than expected\n"
     ]
    },
    {
     "name": "stdout",
     "output_type": "stream",
     "text": [
      "IB_water-a_pos1_13.47200keV_bpm3.372\n"
     ]
    },
    {
     "name": "stderr",
     "output_type": "stream",
     "text": [
      "WARNING:fabio.TiffIO:Data at tag id '65000' is smaller than expected\n",
      "WARNING:fabio.TiffIO:Data at tag id '65000' is smaller than expected\n"
     ]
    },
    {
     "name": "stdout",
     "output_type": "stream",
     "text": [
      "IB_water-a_pos1_13.47251keV_bpm3.367\n"
     ]
    },
    {
     "name": "stderr",
     "output_type": "stream",
     "text": [
      "WARNING:fabio.TiffIO:Data at tag id '65000' is smaller than expected\n",
      "WARNING:fabio.TiffIO:Data at tag id '65000' is smaller than expected\n"
     ]
    },
    {
     "name": "stdout",
     "output_type": "stream",
     "text": [
      "IB_water-a_pos1_13.47300keV_bpm3.365\n"
     ]
    },
    {
     "name": "stderr",
     "output_type": "stream",
     "text": [
      "WARNING:fabio.TiffIO:Data at tag id '65000' is smaller than expected\n",
      "WARNING:fabio.TiffIO:Data at tag id '65000' is smaller than expected\n"
     ]
    },
    {
     "name": "stdout",
     "output_type": "stream",
     "text": [
      "IB_water-a_pos1_13.47350keV_bpm3.355\n"
     ]
    },
    {
     "name": "stderr",
     "output_type": "stream",
     "text": [
      "WARNING:fabio.TiffIO:Data at tag id '65000' is smaller than expected\n",
      "WARNING:fabio.TiffIO:Data at tag id '65000' is smaller than expected\n"
     ]
    },
    {
     "name": "stdout",
     "output_type": "stream",
     "text": [
      "IB_water-a_pos1_13.47400keV_bpm3.352\n"
     ]
    },
    {
     "name": "stderr",
     "output_type": "stream",
     "text": [
      "WARNING:fabio.TiffIO:Data at tag id '65000' is smaller than expected\n",
      "WARNING:fabio.TiffIO:Data at tag id '65000' is smaller than expected\n"
     ]
    },
    {
     "name": "stdout",
     "output_type": "stream",
     "text": [
      "IB_water-a_pos1_13.47450keV_bpm3.352\n"
     ]
    },
    {
     "name": "stderr",
     "output_type": "stream",
     "text": [
      "WARNING:fabio.TiffIO:Data at tag id '65000' is smaller than expected\n",
      "WARNING:fabio.TiffIO:Data at tag id '65000' is smaller than expected\n"
     ]
    },
    {
     "name": "stdout",
     "output_type": "stream",
     "text": [
      "IB_water-a_pos1_13.47500keV_bpm3.348\n"
     ]
    },
    {
     "name": "stderr",
     "output_type": "stream",
     "text": [
      "WARNING:fabio.TiffIO:Data at tag id '65000' is smaller than expected\n",
      "WARNING:fabio.TiffIO:Data at tag id '65000' is smaller than expected\n"
     ]
    },
    {
     "name": "stdout",
     "output_type": "stream",
     "text": [
      "IB_water-a_pos1_13.47700keV_bpm3.355\n"
     ]
    },
    {
     "name": "stderr",
     "output_type": "stream",
     "text": [
      "WARNING:fabio.TiffIO:Data at tag id '65000' is smaller than expected\n",
      "WARNING:fabio.TiffIO:Data at tag id '65000' is smaller than expected\n"
     ]
    },
    {
     "name": "stdout",
     "output_type": "stream",
     "text": [
      "IB_water-a_pos1_13.47900keV_bpm3.344\n"
     ]
    },
    {
     "name": "stderr",
     "output_type": "stream",
     "text": [
      "WARNING:fabio.TiffIO:Data at tag id '65000' is smaller than expected\n",
      "WARNING:fabio.TiffIO:Data at tag id '65000' is smaller than expected\n"
     ]
    },
    {
     "name": "stdout",
     "output_type": "stream",
     "text": [
      "IB_water-a_pos1_13.48100keV_bpm3.341\n"
     ]
    },
    {
     "name": "stderr",
     "output_type": "stream",
     "text": [
      "WARNING:fabio.TiffIO:Data at tag id '65000' is smaller than expected\n",
      "WARNING:fabio.TiffIO:Data at tag id '65000' is smaller than expected\n"
     ]
    },
    {
     "name": "stdout",
     "output_type": "stream",
     "text": [
      "IB_water-a_pos1_13.48300keV_bpm3.342\n"
     ]
    },
    {
     "name": "stderr",
     "output_type": "stream",
     "text": [
      "WARNING:fabio.TiffIO:Data at tag id '65000' is smaller than expected\n",
      "WARNING:fabio.TiffIO:Data at tag id '65000' is smaller than expected\n"
     ]
    },
    {
     "name": "stdout",
     "output_type": "stream",
     "text": [
      "IB_water-a_pos1_13.48500keV_bpm3.352\n"
     ]
    },
    {
     "name": "stderr",
     "output_type": "stream",
     "text": [
      "WARNING:fabio.TiffIO:Data at tag id '65000' is smaller than expected\n",
      "WARNING:fabio.TiffIO:Data at tag id '65000' is smaller than expected\n"
     ]
    },
    {
     "name": "stdout",
     "output_type": "stream",
     "text": [
      "IB_water-a_pos1_13.49000keV_bpm3.349\n"
     ]
    },
    {
     "name": "stderr",
     "output_type": "stream",
     "text": [
      "WARNING:fabio.TiffIO:Data at tag id '65000' is smaller than expected\n",
      "WARNING:fabio.TiffIO:Data at tag id '65000' is smaller than expected\n"
     ]
    },
    {
     "name": "stdout",
     "output_type": "stream",
     "text": [
      "IB_water-a_pos1_13.49500keV_bpm3.342\n"
     ]
    },
    {
     "name": "stderr",
     "output_type": "stream",
     "text": [
      "WARNING:fabio.TiffIO:Data at tag id '65000' is smaller than expected\n",
      "WARNING:fabio.TiffIO:Data at tag id '65000' is smaller than expected\n"
     ]
    },
    {
     "name": "stdout",
     "output_type": "stream",
     "text": [
      "IB_water-a_pos1_13.50000keV_bpm3.338\n"
     ]
    },
    {
     "name": "stderr",
     "output_type": "stream",
     "text": [
      "WARNING:fabio.TiffIO:Data at tag id '65000' is smaller than expected\n",
      "WARNING:fabio.TiffIO:Data at tag id '65000' is smaller than expected\n"
     ]
    },
    {
     "name": "stdout",
     "output_type": "stream",
     "text": [
      "IB_water-a_pos1_13.50500keV_bpm3.335\n"
     ]
    },
    {
     "name": "stderr",
     "output_type": "stream",
     "text": [
      "WARNING:fabio.TiffIO:Data at tag id '65000' is smaller than expected\n",
      "WARNING:fabio.TiffIO:Data at tag id '65000' is smaller than expected\n"
     ]
    },
    {
     "name": "stdout",
     "output_type": "stream",
     "text": [
      "IB_water-a_pos1_13.51000keV_bpm3.337\n"
     ]
    },
    {
     "name": "stderr",
     "output_type": "stream",
     "text": [
      "WARNING:fabio.TiffIO:Data at tag id '65000' is smaller than expected\n",
      "WARNING:fabio.TiffIO:Data at tag id '65000' is smaller than expected\n"
     ]
    },
    {
     "name": "stdout",
     "output_type": "stream",
     "text": [
      "IB_water-a_pos1_13.51500keV_bpm3.334\n"
     ]
    },
    {
     "name": "stderr",
     "output_type": "stream",
     "text": [
      "WARNING:fabio.TiffIO:Data at tag id '65000' is smaller than expected\n",
      "WARNING:fabio.TiffIO:Data at tag id '65000' is smaller than expected\n"
     ]
    },
    {
     "name": "stdout",
     "output_type": "stream",
     "text": [
      "IB_water-a_pos1_13.52000keV_bpm3.325\n"
     ]
    },
    {
     "name": "stderr",
     "output_type": "stream",
     "text": [
      "WARNING:fabio.TiffIO:Data at tag id '65000' is smaller than expected\n",
      "WARNING:fabio.TiffIO:Data at tag id '65000' is smaller than expected\n"
     ]
    },
    {
     "name": "stdout",
     "output_type": "stream",
     "text": [
      "IB_water-a_pos1_13.52500keV_bpm3.319\n"
     ]
    },
    {
     "name": "stderr",
     "output_type": "stream",
     "text": [
      "WARNING:fabio.TiffIO:Data at tag id '65000' is smaller than expected\n",
      "WARNING:fabio.TiffIO:Data at tag id '65000' is smaller than expected\n"
     ]
    },
    {
     "name": "stdout",
     "output_type": "stream",
     "text": [
      "IB_water-a_pos1_13.53000keV_bpm3.307\n"
     ]
    },
    {
     "name": "stderr",
     "output_type": "stream",
     "text": [
      "WARNING:fabio.TiffIO:Data at tag id '65000' is smaller than expected\n",
      "WARNING:fabio.TiffIO:Data at tag id '65000' is smaller than expected\n"
     ]
    },
    {
     "name": "stdout",
     "output_type": "stream",
     "text": [
      "IB_water-a_pos1_13.53500keV_bpm03.27\n"
     ]
    },
    {
     "name": "stderr",
     "output_type": "stream",
     "text": [
      "WARNING:fabio.TiffIO:Data at tag id '65000' is smaller than expected\n",
      "WARNING:fabio.TiffIO:Data at tag id '65000' is smaller than expected\n"
     ]
    },
    {
     "name": "stdout",
     "output_type": "stream",
     "text": [
      "IB_water-a_pos1_13.54000keV_bpm3.288\n"
     ]
    },
    {
     "name": "stderr",
     "output_type": "stream",
     "text": [
      "WARNING:fabio.TiffIO:Data at tag id '65000' is smaller than expected\n",
      "WARNING:fabio.TiffIO:Data at tag id '65000' is smaller than expected\n"
     ]
    },
    {
     "name": "stdout",
     "output_type": "stream",
     "text": [
      "IB_water-a_pos1_13.54501keV_bpm3.266\n"
     ]
    },
    {
     "name": "stderr",
     "output_type": "stream",
     "text": [
      "WARNING:fabio.TiffIO:Data at tag id '65000' is smaller than expected\n",
      "WARNING:fabio.TiffIO:Data at tag id '65000' is smaller than expected\n"
     ]
    },
    {
     "name": "stdout",
     "output_type": "stream",
     "text": [
      "IB_water-a_pos1_13.55000keV_bpm3.271\n"
     ]
    },
    {
     "name": "stderr",
     "output_type": "stream",
     "text": [
      "WARNING:fabio.TiffIO:Data at tag id '65000' is smaller than expected\n",
      "WARNING:fabio.TiffIO:Data at tag id '65000' is smaller than expected\n"
     ]
    },
    {
     "name": "stdout",
     "output_type": "stream",
     "text": [
      "IB_DIPA_LiBr_org_phase-a_pos1_\n",
      "IB_DIPA_LiBr_org_phase-a_pos1_13.45000keV_bpm3.417\n"
     ]
    },
    {
     "name": "stderr",
     "output_type": "stream",
     "text": [
      "WARNING:fabio.TiffIO:Data at tag id '65000' is smaller than expected\n",
      "WARNING:fabio.TiffIO:Data at tag id '65000' is smaller than expected\n"
     ]
    },
    {
     "name": "stdout",
     "output_type": "stream",
     "text": [
      "IB_DIPA_LiBr_org_phase-a_pos1_13.45500keV_bpm3.412\n"
     ]
    },
    {
     "name": "stderr",
     "output_type": "stream",
     "text": [
      "WARNING:fabio.TiffIO:Data at tag id '65000' is smaller than expected\n",
      "WARNING:fabio.TiffIO:Data at tag id '65000' is smaller than expected\n"
     ]
    },
    {
     "name": "stdout",
     "output_type": "stream",
     "text": [
      "IB_DIPA_LiBr_org_phase-a_pos1_13.46000keV_bpm3.405\n"
     ]
    },
    {
     "name": "stderr",
     "output_type": "stream",
     "text": [
      "WARNING:fabio.TiffIO:Data at tag id '65000' is smaller than expected\n",
      "WARNING:fabio.TiffIO:Data at tag id '65000' is smaller than expected\n"
     ]
    },
    {
     "name": "stdout",
     "output_type": "stream",
     "text": [
      "IB_DIPA_LiBr_org_phase-a_pos1_13.46099keV_bpm3.396\n"
     ]
    },
    {
     "name": "stderr",
     "output_type": "stream",
     "text": [
      "WARNING:fabio.TiffIO:Data at tag id '65000' is smaller than expected\n",
      "WARNING:fabio.TiffIO:Data at tag id '65000' is smaller than expected\n"
     ]
    },
    {
     "name": "stdout",
     "output_type": "stream",
     "text": [
      "IB_DIPA_LiBr_org_phase-a_pos1_13.46201keV_bpm3.394\n"
     ]
    },
    {
     "name": "stderr",
     "output_type": "stream",
     "text": [
      "WARNING:fabio.TiffIO:Data at tag id '65000' is smaller than expected\n",
      "WARNING:fabio.TiffIO:Data at tag id '65000' is smaller than expected\n"
     ]
    },
    {
     "name": "stdout",
     "output_type": "stream",
     "text": [
      "IB_DIPA_LiBr_org_phase-a_pos1_13.46301keV_bpm03.39\n"
     ]
    },
    {
     "name": "stderr",
     "output_type": "stream",
     "text": [
      "WARNING:fabio.TiffIO:Data at tag id '65000' is smaller than expected\n",
      "WARNING:fabio.TiffIO:Data at tag id '65000' is smaller than expected\n"
     ]
    },
    {
     "name": "stdout",
     "output_type": "stream",
     "text": [
      "IB_DIPA_LiBr_org_phase-a_pos1_13.46401keV_bpm3.384\n"
     ]
    },
    {
     "name": "stderr",
     "output_type": "stream",
     "text": [
      "WARNING:fabio.TiffIO:Data at tag id '65000' is smaller than expected\n",
      "WARNING:fabio.TiffIO:Data at tag id '65000' is smaller than expected\n"
     ]
    },
    {
     "name": "stdout",
     "output_type": "stream",
     "text": [
      "IB_DIPA_LiBr_org_phase-a_pos1_13.46501keV_bpm03.38\n"
     ]
    },
    {
     "name": "stderr",
     "output_type": "stream",
     "text": [
      "WARNING:fabio.TiffIO:Data at tag id '65000' is smaller than expected\n",
      "WARNING:fabio.TiffIO:Data at tag id '65000' is smaller than expected\n"
     ]
    },
    {
     "name": "stdout",
     "output_type": "stream",
     "text": [
      "IB_DIPA_LiBr_org_phase-a_pos1_13.46550keV_bpm3.381\n"
     ]
    },
    {
     "name": "stderr",
     "output_type": "stream",
     "text": [
      "WARNING:fabio.TiffIO:Data at tag id '65000' is smaller than expected\n",
      "WARNING:fabio.TiffIO:Data at tag id '65000' is smaller than expected\n"
     ]
    },
    {
     "name": "stdout",
     "output_type": "stream",
     "text": [
      "IB_DIPA_LiBr_org_phase-a_pos1_13.46599keV_bpm3.385\n"
     ]
    },
    {
     "name": "stderr",
     "output_type": "stream",
     "text": [
      "WARNING:fabio.TiffIO:Data at tag id '65000' is smaller than expected\n",
      "WARNING:fabio.TiffIO:Data at tag id '65000' is smaller than expected\n"
     ]
    },
    {
     "name": "stdout",
     "output_type": "stream",
     "text": [
      "IB_DIPA_LiBr_org_phase-a_pos1_13.46650keV_bpm3.393\n"
     ]
    },
    {
     "name": "stderr",
     "output_type": "stream",
     "text": [
      "WARNING:fabio.TiffIO:Data at tag id '65000' is smaller than expected\n",
      "WARNING:fabio.TiffIO:Data at tag id '65000' is smaller than expected\n"
     ]
    },
    {
     "name": "stdout",
     "output_type": "stream",
     "text": [
      "IB_DIPA_LiBr_org_phase-a_pos1_13.46699keV_bpm3.391\n"
     ]
    },
    {
     "name": "stderr",
     "output_type": "stream",
     "text": [
      "WARNING:fabio.TiffIO:Data at tag id '65000' is smaller than expected\n",
      "WARNING:fabio.TiffIO:Data at tag id '65000' is smaller than expected\n"
     ]
    },
    {
     "name": "stdout",
     "output_type": "stream",
     "text": [
      "IB_DIPA_LiBr_org_phase-a_pos1_13.46750keV_bpm3.391\n"
     ]
    },
    {
     "name": "stderr",
     "output_type": "stream",
     "text": [
      "WARNING:fabio.TiffIO:Data at tag id '65000' is smaller than expected\n",
      "WARNING:fabio.TiffIO:Data at tag id '65000' is smaller than expected\n"
     ]
    },
    {
     "name": "stdout",
     "output_type": "stream",
     "text": [
      "IB_DIPA_LiBr_org_phase-a_pos1_13.46800keV_bpm3.386\n"
     ]
    },
    {
     "name": "stderr",
     "output_type": "stream",
     "text": [
      "WARNING:fabio.TiffIO:Data at tag id '65000' is smaller than expected\n",
      "WARNING:fabio.TiffIO:Data at tag id '65000' is smaller than expected\n"
     ]
    },
    {
     "name": "stdout",
     "output_type": "stream",
     "text": [
      "IB_DIPA_LiBr_org_phase-a_pos1_13.46850keV_bpm3.381\n"
     ]
    },
    {
     "name": "stderr",
     "output_type": "stream",
     "text": [
      "WARNING:fabio.TiffIO:Data at tag id '65000' is smaller than expected\n",
      "WARNING:fabio.TiffIO:Data at tag id '65000' is smaller than expected\n"
     ]
    },
    {
     "name": "stdout",
     "output_type": "stream",
     "text": [
      "IB_DIPA_LiBr_org_phase-a_pos1_13.46900keV_bpm3.381\n"
     ]
    },
    {
     "name": "stderr",
     "output_type": "stream",
     "text": [
      "WARNING:fabio.TiffIO:Data at tag id '65000' is smaller than expected\n",
      "WARNING:fabio.TiffIO:Data at tag id '65000' is smaller than expected\n"
     ]
    },
    {
     "name": "stdout",
     "output_type": "stream",
     "text": [
      "IB_DIPA_LiBr_org_phase-a_pos1_13.46950keV_bpm3.376\n"
     ]
    },
    {
     "name": "stderr",
     "output_type": "stream",
     "text": [
      "WARNING:fabio.TiffIO:Data at tag id '65000' is smaller than expected\n",
      "WARNING:fabio.TiffIO:Data at tag id '65000' is smaller than expected\n"
     ]
    },
    {
     "name": "stdout",
     "output_type": "stream",
     "text": [
      "IB_DIPA_LiBr_org_phase-a_pos1_13.47000keV_bpm3.375\n"
     ]
    },
    {
     "name": "stderr",
     "output_type": "stream",
     "text": [
      "WARNING:fabio.TiffIO:Data at tag id '65000' is smaller than expected\n",
      "WARNING:fabio.TiffIO:Data at tag id '65000' is smaller than expected\n"
     ]
    },
    {
     "name": "stdout",
     "output_type": "stream",
     "text": [
      "IB_DIPA_LiBr_org_phase-a_pos1_13.47050keV_bpm03.37\n"
     ]
    },
    {
     "name": "stderr",
     "output_type": "stream",
     "text": [
      "WARNING:fabio.TiffIO:Data at tag id '65000' is smaller than expected\n",
      "WARNING:fabio.TiffIO:Data at tag id '65000' is smaller than expected\n"
     ]
    },
    {
     "name": "stdout",
     "output_type": "stream",
     "text": [
      "IB_DIPA_LiBr_org_phase-a_pos1_13.47100keV_bpm3.369\n"
     ]
    },
    {
     "name": "stderr",
     "output_type": "stream",
     "text": [
      "WARNING:fabio.TiffIO:Data at tag id '65000' is smaller than expected\n",
      "WARNING:fabio.TiffIO:Data at tag id '65000' is smaller than expected\n"
     ]
    },
    {
     "name": "stdout",
     "output_type": "stream",
     "text": [
      "IB_DIPA_LiBr_org_phase-a_pos1_13.47150keV_bpm3.365\n"
     ]
    },
    {
     "name": "stderr",
     "output_type": "stream",
     "text": [
      "WARNING:fabio.TiffIO:Data at tag id '65000' is smaller than expected\n",
      "WARNING:fabio.TiffIO:Data at tag id '65000' is smaller than expected\n"
     ]
    },
    {
     "name": "stdout",
     "output_type": "stream",
     "text": [
      "IB_DIPA_LiBr_org_phase-a_pos1_13.47200keV_bpm3.367\n"
     ]
    },
    {
     "name": "stderr",
     "output_type": "stream",
     "text": [
      "WARNING:fabio.TiffIO:Data at tag id '65000' is smaller than expected\n",
      "WARNING:fabio.TiffIO:Data at tag id '65000' is smaller than expected\n"
     ]
    },
    {
     "name": "stdout",
     "output_type": "stream",
     "text": [
      "IB_DIPA_LiBr_org_phase-a_pos1_13.47251keV_bpm03.36\n"
     ]
    },
    {
     "name": "stderr",
     "output_type": "stream",
     "text": [
      "WARNING:fabio.TiffIO:Data at tag id '65000' is smaller than expected\n",
      "WARNING:fabio.TiffIO:Data at tag id '65000' is smaller than expected\n"
     ]
    },
    {
     "name": "stdout",
     "output_type": "stream",
     "text": [
      "IB_DIPA_LiBr_org_phase-a_pos1_13.47300keV_bpm3.356\n"
     ]
    },
    {
     "name": "stderr",
     "output_type": "stream",
     "text": [
      "WARNING:fabio.TiffIO:Data at tag id '65000' is smaller than expected\n",
      "WARNING:fabio.TiffIO:Data at tag id '65000' is smaller than expected\n"
     ]
    },
    {
     "name": "stdout",
     "output_type": "stream",
     "text": [
      "IB_DIPA_LiBr_org_phase-a_pos1_13.47350keV_bpm03.35\n"
     ]
    },
    {
     "name": "stderr",
     "output_type": "stream",
     "text": [
      "WARNING:fabio.TiffIO:Data at tag id '65000' is smaller than expected\n",
      "WARNING:fabio.TiffIO:Data at tag id '65000' is smaller than expected\n"
     ]
    },
    {
     "name": "stdout",
     "output_type": "stream",
     "text": [
      "IB_DIPA_LiBr_org_phase-a_pos1_13.47400keV_bpm3.344\n"
     ]
    },
    {
     "name": "stderr",
     "output_type": "stream",
     "text": [
      "WARNING:fabio.TiffIO:Data at tag id '65000' is smaller than expected\n",
      "WARNING:fabio.TiffIO:Data at tag id '65000' is smaller than expected\n"
     ]
    },
    {
     "name": "stdout",
     "output_type": "stream",
     "text": [
      "IB_DIPA_LiBr_org_phase-a_pos1_13.47450keV_bpm3.357\n"
     ]
    },
    {
     "name": "stderr",
     "output_type": "stream",
     "text": [
      "WARNING:fabio.TiffIO:Data at tag id '65000' is smaller than expected\n",
      "WARNING:fabio.TiffIO:Data at tag id '65000' is smaller than expected\n"
     ]
    },
    {
     "name": "stdout",
     "output_type": "stream",
     "text": [
      "IB_DIPA_LiBr_org_phase-a_pos1_13.47500keV_bpm3.354\n"
     ]
    },
    {
     "name": "stderr",
     "output_type": "stream",
     "text": [
      "WARNING:fabio.TiffIO:Data at tag id '65000' is smaller than expected\n",
      "WARNING:fabio.TiffIO:Data at tag id '65000' is smaller than expected\n"
     ]
    },
    {
     "name": "stdout",
     "output_type": "stream",
     "text": [
      "IB_DIPA_LiBr_org_phase-a_pos1_13.47700keV_bpm03.36\n"
     ]
    },
    {
     "name": "stderr",
     "output_type": "stream",
     "text": [
      "WARNING:fabio.TiffIO:Data at tag id '65000' is smaller than expected\n",
      "WARNING:fabio.TiffIO:Data at tag id '65000' is smaller than expected\n"
     ]
    },
    {
     "name": "stdout",
     "output_type": "stream",
     "text": [
      "IB_DIPA_LiBr_org_phase-a_pos1_13.47900keV_bpm3.353\n"
     ]
    },
    {
     "name": "stderr",
     "output_type": "stream",
     "text": [
      "WARNING:fabio.TiffIO:Data at tag id '65000' is smaller than expected\n",
      "WARNING:fabio.TiffIO:Data at tag id '65000' is smaller than expected\n"
     ]
    },
    {
     "name": "stdout",
     "output_type": "stream",
     "text": [
      "IB_DIPA_LiBr_org_phase-a_pos1_13.48100keV_bpm3.346\n"
     ]
    },
    {
     "name": "stderr",
     "output_type": "stream",
     "text": [
      "WARNING:fabio.TiffIO:Data at tag id '65000' is smaller than expected\n",
      "WARNING:fabio.TiffIO:Data at tag id '65000' is smaller than expected\n"
     ]
    },
    {
     "name": "stdout",
     "output_type": "stream",
     "text": [
      "IB_DIPA_LiBr_org_phase-a_pos1_13.48300keV_bpm3.352\n"
     ]
    },
    {
     "name": "stderr",
     "output_type": "stream",
     "text": [
      "WARNING:fabio.TiffIO:Data at tag id '65000' is smaller than expected\n",
      "WARNING:fabio.TiffIO:Data at tag id '65000' is smaller than expected\n"
     ]
    },
    {
     "name": "stdout",
     "output_type": "stream",
     "text": [
      "IB_DIPA_LiBr_org_phase-a_pos1_13.48500keV_bpm3.351\n"
     ]
    },
    {
     "name": "stderr",
     "output_type": "stream",
     "text": [
      "WARNING:fabio.TiffIO:Data at tag id '65000' is smaller than expected\n",
      "WARNING:fabio.TiffIO:Data at tag id '65000' is smaller than expected\n"
     ]
    },
    {
     "name": "stdout",
     "output_type": "stream",
     "text": [
      "IB_DIPA_LiBr_org_phase-a_pos1_13.49000keV_bpm3.343\n"
     ]
    },
    {
     "name": "stderr",
     "output_type": "stream",
     "text": [
      "WARNING:fabio.TiffIO:Data at tag id '65000' is smaller than expected\n",
      "WARNING:fabio.TiffIO:Data at tag id '65000' is smaller than expected\n"
     ]
    },
    {
     "name": "stdout",
     "output_type": "stream",
     "text": [
      "IB_DIPA_LiBr_org_phase-a_pos1_13.49500keV_bpm3.338\n"
     ]
    },
    {
     "name": "stderr",
     "output_type": "stream",
     "text": [
      "WARNING:fabio.TiffIO:Data at tag id '65000' is smaller than expected\n",
      "WARNING:fabio.TiffIO:Data at tag id '65000' is smaller than expected\n"
     ]
    },
    {
     "name": "stdout",
     "output_type": "stream",
     "text": [
      "IB_DIPA_LiBr_org_phase-a_pos1_13.50000keV_bpm3.334\n"
     ]
    },
    {
     "name": "stderr",
     "output_type": "stream",
     "text": [
      "WARNING:fabio.TiffIO:Data at tag id '65000' is smaller than expected\n",
      "WARNING:fabio.TiffIO:Data at tag id '65000' is smaller than expected\n"
     ]
    },
    {
     "name": "stdout",
     "output_type": "stream",
     "text": [
      "IB_DIPA_LiBr_org_phase-a_pos1_13.50500keV_bpm3.334\n"
     ]
    },
    {
     "name": "stderr",
     "output_type": "stream",
     "text": [
      "WARNING:fabio.TiffIO:Data at tag id '65000' is smaller than expected\n",
      "WARNING:fabio.TiffIO:Data at tag id '65000' is smaller than expected\n"
     ]
    },
    {
     "name": "stdout",
     "output_type": "stream",
     "text": [
      "IB_DIPA_LiBr_org_phase-a_pos1_13.51000keV_bpm3.336\n"
     ]
    },
    {
     "name": "stderr",
     "output_type": "stream",
     "text": [
      "WARNING:fabio.TiffIO:Data at tag id '65000' is smaller than expected\n",
      "WARNING:fabio.TiffIO:Data at tag id '65000' is smaller than expected\n"
     ]
    },
    {
     "name": "stdout",
     "output_type": "stream",
     "text": [
      "IB_DIPA_LiBr_org_phase-a_pos1_13.51500keV_bpm3.333\n"
     ]
    },
    {
     "name": "stderr",
     "output_type": "stream",
     "text": [
      "WARNING:fabio.TiffIO:Data at tag id '65000' is smaller than expected\n",
      "WARNING:fabio.TiffIO:Data at tag id '65000' is smaller than expected\n"
     ]
    },
    {
     "name": "stdout",
     "output_type": "stream",
     "text": [
      "IB_DIPA_LiBr_org_phase-a_pos1_13.52000keV_bpm3.325\n"
     ]
    },
    {
     "name": "stderr",
     "output_type": "stream",
     "text": [
      "WARNING:fabio.TiffIO:Data at tag id '65000' is smaller than expected\n",
      "WARNING:fabio.TiffIO:Data at tag id '65000' is smaller than expected\n"
     ]
    },
    {
     "name": "stdout",
     "output_type": "stream",
     "text": [
      "IB_DIPA_LiBr_org_phase-a_pos1_13.52500keV_bpm3.317\n"
     ]
    },
    {
     "name": "stderr",
     "output_type": "stream",
     "text": [
      "WARNING:fabio.TiffIO:Data at tag id '65000' is smaller than expected\n",
      "WARNING:fabio.TiffIO:Data at tag id '65000' is smaller than expected\n"
     ]
    },
    {
     "name": "stdout",
     "output_type": "stream",
     "text": [
      "IB_DIPA_LiBr_org_phase-a_pos1_13.53000keV_bpm03.31\n"
     ]
    },
    {
     "name": "stderr",
     "output_type": "stream",
     "text": [
      "WARNING:fabio.TiffIO:Data at tag id '65000' is smaller than expected\n",
      "WARNING:fabio.TiffIO:Data at tag id '65000' is smaller than expected\n"
     ]
    },
    {
     "name": "stdout",
     "output_type": "stream",
     "text": [
      "IB_DIPA_LiBr_org_phase-a_pos1_13.53500keV_bpm3.285\n"
     ]
    },
    {
     "name": "stderr",
     "output_type": "stream",
     "text": [
      "WARNING:fabio.TiffIO:Data at tag id '65000' is smaller than expected\n",
      "WARNING:fabio.TiffIO:Data at tag id '65000' is smaller than expected\n"
     ]
    },
    {
     "name": "stdout",
     "output_type": "stream",
     "text": [
      "IB_DIPA_LiBr_org_phase-a_pos1_13.54000keV_bpm3.303\n"
     ]
    },
    {
     "name": "stderr",
     "output_type": "stream",
     "text": [
      "WARNING:fabio.TiffIO:Data at tag id '65000' is smaller than expected\n",
      "WARNING:fabio.TiffIO:Data at tag id '65000' is smaller than expected\n"
     ]
    },
    {
     "name": "stdout",
     "output_type": "stream",
     "text": [
      "IB_DIPA_LiBr_org_phase-a_pos1_13.54501keV_bpm3.278\n"
     ]
    },
    {
     "name": "stderr",
     "output_type": "stream",
     "text": [
      "WARNING:fabio.TiffIO:Data at tag id '65000' is smaller than expected\n",
      "WARNING:fabio.TiffIO:Data at tag id '65000' is smaller than expected\n"
     ]
    },
    {
     "name": "stdout",
     "output_type": "stream",
     "text": [
      "IB_DIPA_LiBr_org_phase-a_pos1_13.55000keV_bpm3.288\n"
     ]
    },
    {
     "name": "stderr",
     "output_type": "stream",
     "text": [
      "WARNING:fabio.TiffIO:Data at tag id '65000' is smaller than expected\n",
      "WARNING:fabio.TiffIO:Data at tag id '65000' is smaller than expected\n"
     ]
    },
    {
     "name": "stdout",
     "output_type": "stream",
     "text": [
      "IB_DIPA_RbBr_org_phase-a_pos1_\n",
      "IB_DIPA_RbBr_org_phase-a_pos1_13.45000keV_bpm3.411\n"
     ]
    },
    {
     "name": "stderr",
     "output_type": "stream",
     "text": [
      "WARNING:fabio.TiffIO:Data at tag id '65000' is smaller than expected\n",
      "WARNING:fabio.TiffIO:Data at tag id '65000' is smaller than expected\n"
     ]
    },
    {
     "name": "stdout",
     "output_type": "stream",
     "text": [
      "IB_DIPA_RbBr_org_phase-a_pos1_13.45500keV_bpm3.402\n"
     ]
    },
    {
     "name": "stderr",
     "output_type": "stream",
     "text": [
      "WARNING:fabio.TiffIO:Data at tag id '65000' is smaller than expected\n",
      "WARNING:fabio.TiffIO:Data at tag id '65000' is smaller than expected\n"
     ]
    },
    {
     "name": "stdout",
     "output_type": "stream",
     "text": [
      "IB_DIPA_RbBr_org_phase-a_pos1_13.46000keV_bpm3.394\n"
     ]
    },
    {
     "name": "stderr",
     "output_type": "stream",
     "text": [
      "WARNING:fabio.TiffIO:Data at tag id '65000' is smaller than expected\n",
      "WARNING:fabio.TiffIO:Data at tag id '65000' is smaller than expected\n"
     ]
    },
    {
     "name": "stdout",
     "output_type": "stream",
     "text": [
      "IB_DIPA_RbBr_org_phase-a_pos1_13.46099keV_bpm3.391\n"
     ]
    },
    {
     "name": "stderr",
     "output_type": "stream",
     "text": [
      "WARNING:fabio.TiffIO:Data at tag id '65000' is smaller than expected\n",
      "WARNING:fabio.TiffIO:Data at tag id '65000' is smaller than expected\n"
     ]
    },
    {
     "name": "stdout",
     "output_type": "stream",
     "text": [
      "IB_DIPA_RbBr_org_phase-a_pos1_13.46201keV_bpm3.403\n"
     ]
    },
    {
     "name": "stderr",
     "output_type": "stream",
     "text": [
      "WARNING:fabio.TiffIO:Data at tag id '65000' is smaller than expected\n",
      "WARNING:fabio.TiffIO:Data at tag id '65000' is smaller than expected\n"
     ]
    },
    {
     "name": "stdout",
     "output_type": "stream",
     "text": [
      "IB_DIPA_RbBr_org_phase-a_pos1_13.46301keV_bpm3.399\n"
     ]
    },
    {
     "name": "stderr",
     "output_type": "stream",
     "text": [
      "WARNING:fabio.TiffIO:Data at tag id '65000' is smaller than expected\n",
      "WARNING:fabio.TiffIO:Data at tag id '65000' is smaller than expected\n"
     ]
    },
    {
     "name": "stdout",
     "output_type": "stream",
     "text": [
      "IB_DIPA_RbBr_org_phase-a_pos1_13.46401keV_bpm3.396\n"
     ]
    },
    {
     "name": "stderr",
     "output_type": "stream",
     "text": [
      "WARNING:fabio.TiffIO:Data at tag id '65000' is smaller than expected\n",
      "WARNING:fabio.TiffIO:Data at tag id '65000' is smaller than expected\n"
     ]
    },
    {
     "name": "stdout",
     "output_type": "stream",
     "text": [
      "IB_DIPA_RbBr_org_phase-a_pos1_13.46501keV_bpm3.395\n"
     ]
    },
    {
     "name": "stderr",
     "output_type": "stream",
     "text": [
      "WARNING:fabio.TiffIO:Data at tag id '65000' is smaller than expected\n",
      "WARNING:fabio.TiffIO:Data at tag id '65000' is smaller than expected\n"
     ]
    },
    {
     "name": "stdout",
     "output_type": "stream",
     "text": [
      "IB_DIPA_RbBr_org_phase-a_pos1_13.46550keV_bpm3.395\n"
     ]
    },
    {
     "name": "stderr",
     "output_type": "stream",
     "text": [
      "WARNING:fabio.TiffIO:Data at tag id '65000' is smaller than expected\n",
      "WARNING:fabio.TiffIO:Data at tag id '65000' is smaller than expected\n"
     ]
    },
    {
     "name": "stdout",
     "output_type": "stream",
     "text": [
      "IB_DIPA_RbBr_org_phase-a_pos1_13.46599keV_bpm3.392\n"
     ]
    },
    {
     "name": "stderr",
     "output_type": "stream",
     "text": [
      "WARNING:fabio.TiffIO:Data at tag id '65000' is smaller than expected\n",
      "WARNING:fabio.TiffIO:Data at tag id '65000' is smaller than expected\n"
     ]
    },
    {
     "name": "stdout",
     "output_type": "stream",
     "text": [
      "IB_DIPA_RbBr_org_phase-a_pos1_13.46650keV_bpm3.389\n"
     ]
    },
    {
     "name": "stderr",
     "output_type": "stream",
     "text": [
      "WARNING:fabio.TiffIO:Data at tag id '65000' is smaller than expected\n",
      "WARNING:fabio.TiffIO:Data at tag id '65000' is smaller than expected\n"
     ]
    },
    {
     "name": "stdout",
     "output_type": "stream",
     "text": [
      "IB_DIPA_RbBr_org_phase-a_pos1_13.46699keV_bpm3.389\n"
     ]
    },
    {
     "name": "stderr",
     "output_type": "stream",
     "text": [
      "WARNING:fabio.TiffIO:Data at tag id '65000' is smaller than expected\n",
      "WARNING:fabio.TiffIO:Data at tag id '65000' is smaller than expected\n"
     ]
    },
    {
     "name": "stdout",
     "output_type": "stream",
     "text": [
      "IB_DIPA_RbBr_org_phase-a_pos1_13.46750keV_bpm3.383\n"
     ]
    },
    {
     "name": "stderr",
     "output_type": "stream",
     "text": [
      "WARNING:fabio.TiffIO:Data at tag id '65000' is smaller than expected\n",
      "WARNING:fabio.TiffIO:Data at tag id '65000' is smaller than expected\n"
     ]
    },
    {
     "name": "stdout",
     "output_type": "stream",
     "text": [
      "IB_DIPA_RbBr_org_phase-a_pos1_13.46800keV_bpm3.378\n"
     ]
    },
    {
     "name": "stderr",
     "output_type": "stream",
     "text": [
      "WARNING:fabio.TiffIO:Data at tag id '65000' is smaller than expected\n",
      "WARNING:fabio.TiffIO:Data at tag id '65000' is smaller than expected\n"
     ]
    },
    {
     "name": "stdout",
     "output_type": "stream",
     "text": [
      "IB_DIPA_RbBr_org_phase-a_pos1_13.46850keV_bpm3.377\n"
     ]
    },
    {
     "name": "stderr",
     "output_type": "stream",
     "text": [
      "WARNING:fabio.TiffIO:Data at tag id '65000' is smaller than expected\n",
      "WARNING:fabio.TiffIO:Data at tag id '65000' is smaller than expected\n"
     ]
    },
    {
     "name": "stdout",
     "output_type": "stream",
     "text": [
      "IB_DIPA_RbBr_org_phase-a_pos1_13.46900keV_bpm3.377\n"
     ]
    },
    {
     "name": "stderr",
     "output_type": "stream",
     "text": [
      "WARNING:fabio.TiffIO:Data at tag id '65000' is smaller than expected\n",
      "WARNING:fabio.TiffIO:Data at tag id '65000' is smaller than expected\n"
     ]
    },
    {
     "name": "stdout",
     "output_type": "stream",
     "text": [
      "IB_DIPA_RbBr_org_phase-a_pos1_13.46950keV_bpm3.373\n"
     ]
    },
    {
     "name": "stderr",
     "output_type": "stream",
     "text": [
      "WARNING:fabio.TiffIO:Data at tag id '65000' is smaller than expected\n",
      "WARNING:fabio.TiffIO:Data at tag id '65000' is smaller than expected\n"
     ]
    },
    {
     "name": "stdout",
     "output_type": "stream",
     "text": [
      "IB_DIPA_RbBr_org_phase-a_pos1_13.47000keV_bpm3.371\n"
     ]
    },
    {
     "name": "stderr",
     "output_type": "stream",
     "text": [
      "WARNING:fabio.TiffIO:Data at tag id '65000' is smaller than expected\n",
      "WARNING:fabio.TiffIO:Data at tag id '65000' is smaller than expected\n"
     ]
    },
    {
     "name": "stdout",
     "output_type": "stream",
     "text": [
      "IB_DIPA_RbBr_org_phase-a_pos1_13.47050keV_bpm3.369\n"
     ]
    },
    {
     "name": "stderr",
     "output_type": "stream",
     "text": [
      "WARNING:fabio.TiffIO:Data at tag id '65000' is smaller than expected\n",
      "WARNING:fabio.TiffIO:Data at tag id '65000' is smaller than expected\n"
     ]
    },
    {
     "name": "stdout",
     "output_type": "stream",
     "text": [
      "IB_DIPA_RbBr_org_phase-a_pos1_13.47100keV_bpm3.376\n"
     ]
    },
    {
     "name": "stderr",
     "output_type": "stream",
     "text": [
      "WARNING:fabio.TiffIO:Data at tag id '65000' is smaller than expected\n",
      "WARNING:fabio.TiffIO:Data at tag id '65000' is smaller than expected\n"
     ]
    },
    {
     "name": "stdout",
     "output_type": "stream",
     "text": [
      "IB_DIPA_RbBr_org_phase-a_pos1_13.47150keV_bpm03.38\n"
     ]
    },
    {
     "name": "stderr",
     "output_type": "stream",
     "text": [
      "WARNING:fabio.TiffIO:Data at tag id '65000' is smaller than expected\n",
      "WARNING:fabio.TiffIO:Data at tag id '65000' is smaller than expected\n"
     ]
    },
    {
     "name": "stdout",
     "output_type": "stream",
     "text": [
      "IB_DIPA_RbBr_org_phase-a_pos1_13.47200keV_bpm3.377\n"
     ]
    },
    {
     "name": "stderr",
     "output_type": "stream",
     "text": [
      "WARNING:fabio.TiffIO:Data at tag id '65000' is smaller than expected\n",
      "WARNING:fabio.TiffIO:Data at tag id '65000' is smaller than expected\n"
     ]
    },
    {
     "name": "stdout",
     "output_type": "stream",
     "text": [
      "IB_DIPA_RbBr_org_phase-a_pos1_13.47251keV_bpm3.375\n"
     ]
    },
    {
     "name": "stderr",
     "output_type": "stream",
     "text": [
      "WARNING:fabio.TiffIO:Data at tag id '65000' is smaller than expected\n",
      "WARNING:fabio.TiffIO:Data at tag id '65000' is smaller than expected\n"
     ]
    },
    {
     "name": "stdout",
     "output_type": "stream",
     "text": [
      "IB_DIPA_RbBr_org_phase-a_pos1_13.47300keV_bpm3.371\n"
     ]
    },
    {
     "name": "stderr",
     "output_type": "stream",
     "text": [
      "WARNING:fabio.TiffIO:Data at tag id '65000' is smaller than expected\n",
      "WARNING:fabio.TiffIO:Data at tag id '65000' is smaller than expected\n"
     ]
    },
    {
     "name": "stdout",
     "output_type": "stream",
     "text": [
      "IB_DIPA_RbBr_org_phase-a_pos1_13.47350keV_bpm3.364\n"
     ]
    },
    {
     "name": "stderr",
     "output_type": "stream",
     "text": [
      "WARNING:fabio.TiffIO:Data at tag id '65000' is smaller than expected\n",
      "WARNING:fabio.TiffIO:Data at tag id '65000' is smaller than expected\n"
     ]
    },
    {
     "name": "stdout",
     "output_type": "stream",
     "text": [
      "IB_DIPA_RbBr_org_phase-a_pos1_13.47400keV_bpm3.359\n"
     ]
    },
    {
     "name": "stderr",
     "output_type": "stream",
     "text": [
      "WARNING:fabio.TiffIO:Data at tag id '65000' is smaller than expected\n",
      "WARNING:fabio.TiffIO:Data at tag id '65000' is smaller than expected\n"
     ]
    },
    {
     "name": "stdout",
     "output_type": "stream",
     "text": [
      "IB_DIPA_RbBr_org_phase-a_pos1_13.47450keV_bpm3.358\n"
     ]
    },
    {
     "name": "stderr",
     "output_type": "stream",
     "text": [
      "WARNING:fabio.TiffIO:Data at tag id '65000' is smaller than expected\n",
      "WARNING:fabio.TiffIO:Data at tag id '65000' is smaller than expected\n"
     ]
    },
    {
     "name": "stdout",
     "output_type": "stream",
     "text": [
      "IB_DIPA_RbBr_org_phase-a_pos1_13.47500keV_bpm3.354\n"
     ]
    },
    {
     "name": "stderr",
     "output_type": "stream",
     "text": [
      "WARNING:fabio.TiffIO:Data at tag id '65000' is smaller than expected\n",
      "WARNING:fabio.TiffIO:Data at tag id '65000' is smaller than expected\n"
     ]
    },
    {
     "name": "stdout",
     "output_type": "stream",
     "text": [
      "IB_DIPA_RbBr_org_phase-a_pos1_13.47700keV_bpm3.356\n"
     ]
    },
    {
     "name": "stderr",
     "output_type": "stream",
     "text": [
      "WARNING:fabio.TiffIO:Data at tag id '65000' is smaller than expected\n",
      "WARNING:fabio.TiffIO:Data at tag id '65000' is smaller than expected\n"
     ]
    },
    {
     "name": "stdout",
     "output_type": "stream",
     "text": [
      "IB_DIPA_RbBr_org_phase-a_pos1_13.47900keV_bpm3.353\n"
     ]
    },
    {
     "name": "stderr",
     "output_type": "stream",
     "text": [
      "WARNING:fabio.TiffIO:Data at tag id '65000' is smaller than expected\n",
      "WARNING:fabio.TiffIO:Data at tag id '65000' is smaller than expected\n"
     ]
    },
    {
     "name": "stdout",
     "output_type": "stream",
     "text": [
      "IB_DIPA_RbBr_org_phase-a_pos1_13.48100keV_bpm3.352\n"
     ]
    },
    {
     "name": "stderr",
     "output_type": "stream",
     "text": [
      "WARNING:fabio.TiffIO:Data at tag id '65000' is smaller than expected\n",
      "WARNING:fabio.TiffIO:Data at tag id '65000' is smaller than expected\n"
     ]
    },
    {
     "name": "stdout",
     "output_type": "stream",
     "text": [
      "IB_DIPA_RbBr_org_phase-a_pos1_13.48300keV_bpm3.349\n"
     ]
    },
    {
     "name": "stderr",
     "output_type": "stream",
     "text": [
      "WARNING:fabio.TiffIO:Data at tag id '65000' is smaller than expected\n",
      "WARNING:fabio.TiffIO:Data at tag id '65000' is smaller than expected\n"
     ]
    },
    {
     "name": "stdout",
     "output_type": "stream",
     "text": [
      "IB_DIPA_RbBr_org_phase-a_pos1_13.48500keV_bpm3.348\n"
     ]
    },
    {
     "name": "stderr",
     "output_type": "stream",
     "text": [
      "WARNING:fabio.TiffIO:Data at tag id '65000' is smaller than expected\n",
      "WARNING:fabio.TiffIO:Data at tag id '65000' is smaller than expected\n"
     ]
    },
    {
     "name": "stdout",
     "output_type": "stream",
     "text": [
      "IB_DIPA_RbBr_org_phase-a_pos1_13.49000keV_bpm3.343\n"
     ]
    },
    {
     "name": "stderr",
     "output_type": "stream",
     "text": [
      "WARNING:fabio.TiffIO:Data at tag id '65000' is smaller than expected\n",
      "WARNING:fabio.TiffIO:Data at tag id '65000' is smaller than expected\n"
     ]
    },
    {
     "name": "stdout",
     "output_type": "stream",
     "text": [
      "IB_DIPA_RbBr_org_phase-a_pos1_13.49500keV_bpm3.342\n"
     ]
    },
    {
     "name": "stderr",
     "output_type": "stream",
     "text": [
      "WARNING:fabio.TiffIO:Data at tag id '65000' is smaller than expected\n",
      "WARNING:fabio.TiffIO:Data at tag id '65000' is smaller than expected\n"
     ]
    },
    {
     "name": "stdout",
     "output_type": "stream",
     "text": [
      "IB_DIPA_RbBr_org_phase-a_pos1_13.50000keV_bpm3.338\n"
     ]
    },
    {
     "name": "stderr",
     "output_type": "stream",
     "text": [
      "WARNING:fabio.TiffIO:Data at tag id '65000' is smaller than expected\n",
      "WARNING:fabio.TiffIO:Data at tag id '65000' is smaller than expected\n"
     ]
    },
    {
     "name": "stdout",
     "output_type": "stream",
     "text": [
      "IB_DIPA_RbBr_org_phase-a_pos1_13.50500keV_bpm3.346\n"
     ]
    },
    {
     "name": "stderr",
     "output_type": "stream",
     "text": [
      "WARNING:fabio.TiffIO:Data at tag id '65000' is smaller than expected\n",
      "WARNING:fabio.TiffIO:Data at tag id '65000' is smaller than expected\n"
     ]
    },
    {
     "name": "stdout",
     "output_type": "stream",
     "text": [
      "IB_DIPA_RbBr_org_phase-a_pos1_13.51000keV_bpm3.346\n"
     ]
    },
    {
     "name": "stderr",
     "output_type": "stream",
     "text": [
      "WARNING:fabio.TiffIO:Data at tag id '65000' is smaller than expected\n",
      "WARNING:fabio.TiffIO:Data at tag id '65000' is smaller than expected\n"
     ]
    },
    {
     "name": "stdout",
     "output_type": "stream",
     "text": [
      "IB_DIPA_RbBr_org_phase-a_pos1_13.51500keV_bpm3.344\n"
     ]
    },
    {
     "name": "stderr",
     "output_type": "stream",
     "text": [
      "WARNING:fabio.TiffIO:Data at tag id '65000' is smaller than expected\n",
      "WARNING:fabio.TiffIO:Data at tag id '65000' is smaller than expected\n"
     ]
    },
    {
     "name": "stdout",
     "output_type": "stream",
     "text": [
      "IB_DIPA_RbBr_org_phase-a_pos1_13.52000keV_bpm3.337\n"
     ]
    },
    {
     "name": "stderr",
     "output_type": "stream",
     "text": [
      "WARNING:fabio.TiffIO:Data at tag id '65000' is smaller than expected\n",
      "WARNING:fabio.TiffIO:Data at tag id '65000' is smaller than expected\n"
     ]
    },
    {
     "name": "stdout",
     "output_type": "stream",
     "text": [
      "IB_DIPA_RbBr_org_phase-a_pos1_13.52500keV_bpm3.329\n"
     ]
    },
    {
     "name": "stderr",
     "output_type": "stream",
     "text": [
      "WARNING:fabio.TiffIO:Data at tag id '65000' is smaller than expected\n",
      "WARNING:fabio.TiffIO:Data at tag id '65000' is smaller than expected\n"
     ]
    },
    {
     "name": "stdout",
     "output_type": "stream",
     "text": [
      "IB_DIPA_RbBr_org_phase-a_pos1_13.53000keV_bpm03.32\n"
     ]
    },
    {
     "name": "stderr",
     "output_type": "stream",
     "text": [
      "WARNING:fabio.TiffIO:Data at tag id '65000' is smaller than expected\n",
      "WARNING:fabio.TiffIO:Data at tag id '65000' is smaller than expected\n"
     ]
    },
    {
     "name": "stdout",
     "output_type": "stream",
     "text": [
      "IB_DIPA_RbBr_org_phase-a_pos1_13.53500keV_bpm3.285\n"
     ]
    },
    {
     "name": "stderr",
     "output_type": "stream",
     "text": [
      "WARNING:fabio.TiffIO:Data at tag id '65000' is smaller than expected\n",
      "WARNING:fabio.TiffIO:Data at tag id '65000' is smaller than expected\n"
     ]
    },
    {
     "name": "stdout",
     "output_type": "stream",
     "text": [
      "IB_DIPA_RbBr_org_phase-a_pos1_13.54000keV_bpm3.299\n"
     ]
    },
    {
     "name": "stderr",
     "output_type": "stream",
     "text": [
      "WARNING:fabio.TiffIO:Data at tag id '65000' is smaller than expected\n",
      "WARNING:fabio.TiffIO:Data at tag id '65000' is smaller than expected\n"
     ]
    },
    {
     "name": "stdout",
     "output_type": "stream",
     "text": [
      "IB_DIPA_RbBr_org_phase-a_pos1_13.54501keV_bpm3.276\n"
     ]
    },
    {
     "name": "stderr",
     "output_type": "stream",
     "text": [
      "WARNING:fabio.TiffIO:Data at tag id '65000' is smaller than expected\n",
      "WARNING:fabio.TiffIO:Data at tag id '65000' is smaller than expected\n"
     ]
    },
    {
     "name": "stdout",
     "output_type": "stream",
     "text": [
      "IB_DIPA_RbBr_org_phase-a_pos1_13.55000keV_bpm3.282\n"
     ]
    },
    {
     "name": "stderr",
     "output_type": "stream",
     "text": [
      "WARNING:fabio.TiffIO:Data at tag id '65000' is smaller than expected\n",
      "WARNING:fabio.TiffIO:Data at tag id '65000' is smaller than expected\n"
     ]
    },
    {
     "name": "stdout",
     "output_type": "stream",
     "text": [
      "IB_DIPA_NaBr_aq_phase-a_pos1_\n",
      "IB_DIPA_NaBr_aq_phase-a_pos1_13.45000keV_bpm03.43\n"
     ]
    },
    {
     "name": "stderr",
     "output_type": "stream",
     "text": [
      "WARNING:fabio.TiffIO:Data at tag id '65000' is smaller than expected\n",
      "WARNING:fabio.TiffIO:Data at tag id '65000' is smaller than expected\n"
     ]
    },
    {
     "name": "stdout",
     "output_type": "stream",
     "text": [
      "IB_DIPA_NaBr_aq_phase-a_pos1_13.45500keV_bpm3.421\n"
     ]
    },
    {
     "name": "stderr",
     "output_type": "stream",
     "text": [
      "WARNING:fabio.TiffIO:Data at tag id '65000' is smaller than expected\n",
      "WARNING:fabio.TiffIO:Data at tag id '65000' is smaller than expected\n"
     ]
    },
    {
     "name": "stdout",
     "output_type": "stream",
     "text": [
      "IB_DIPA_NaBr_aq_phase-a_pos1_13.46000keV_bpm3.409\n"
     ]
    },
    {
     "name": "stderr",
     "output_type": "stream",
     "text": [
      "WARNING:fabio.TiffIO:Data at tag id '65000' is smaller than expected\n",
      "WARNING:fabio.TiffIO:Data at tag id '65000' is smaller than expected\n"
     ]
    },
    {
     "name": "stdout",
     "output_type": "stream",
     "text": [
      "IB_DIPA_NaBr_aq_phase-a_pos1_13.46099keV_bpm3.405\n"
     ]
    },
    {
     "name": "stderr",
     "output_type": "stream",
     "text": [
      "WARNING:fabio.TiffIO:Data at tag id '65000' is smaller than expected\n",
      "WARNING:fabio.TiffIO:Data at tag id '65000' is smaller than expected\n"
     ]
    },
    {
     "name": "stdout",
     "output_type": "stream",
     "text": [
      "IB_DIPA_NaBr_aq_phase-a_pos1_13.46201keV_bpm3.406\n"
     ]
    },
    {
     "name": "stderr",
     "output_type": "stream",
     "text": [
      "WARNING:fabio.TiffIO:Data at tag id '65000' is smaller than expected\n",
      "WARNING:fabio.TiffIO:Data at tag id '65000' is smaller than expected\n"
     ]
    },
    {
     "name": "stdout",
     "output_type": "stream",
     "text": [
      "IB_DIPA_NaBr_aq_phase-a_pos1_13.46301keV_bpm3.398\n"
     ]
    },
    {
     "name": "stderr",
     "output_type": "stream",
     "text": [
      "WARNING:fabio.TiffIO:Data at tag id '65000' is smaller than expected\n",
      "WARNING:fabio.TiffIO:Data at tag id '65000' is smaller than expected\n"
     ]
    },
    {
     "name": "stdout",
     "output_type": "stream",
     "text": [
      "IB_DIPA_NaBr_aq_phase-a_pos1_13.46401keV_bpm3.393\n"
     ]
    },
    {
     "name": "stderr",
     "output_type": "stream",
     "text": [
      "WARNING:fabio.TiffIO:Data at tag id '65000' is smaller than expected\n",
      "WARNING:fabio.TiffIO:Data at tag id '65000' is smaller than expected\n"
     ]
    },
    {
     "name": "stdout",
     "output_type": "stream",
     "text": [
      "IB_DIPA_NaBr_aq_phase-a_pos1_13.46501keV_bpm3.391\n"
     ]
    },
    {
     "name": "stderr",
     "output_type": "stream",
     "text": [
      "WARNING:fabio.TiffIO:Data at tag id '65000' is smaller than expected\n",
      "WARNING:fabio.TiffIO:Data at tag id '65000' is smaller than expected\n"
     ]
    },
    {
     "name": "stdout",
     "output_type": "stream",
     "text": [
      "IB_DIPA_NaBr_aq_phase-a_pos1_13.46550keV_bpm3.387\n"
     ]
    },
    {
     "name": "stderr",
     "output_type": "stream",
     "text": [
      "WARNING:fabio.TiffIO:Data at tag id '65000' is smaller than expected\n",
      "WARNING:fabio.TiffIO:Data at tag id '65000' is smaller than expected\n"
     ]
    },
    {
     "name": "stdout",
     "output_type": "stream",
     "text": [
      "IB_DIPA_NaBr_aq_phase-a_pos1_13.46599keV_bpm3.386\n"
     ]
    },
    {
     "name": "stderr",
     "output_type": "stream",
     "text": [
      "WARNING:fabio.TiffIO:Data at tag id '65000' is smaller than expected\n",
      "WARNING:fabio.TiffIO:Data at tag id '65000' is smaller than expected\n"
     ]
    },
    {
     "name": "stdout",
     "output_type": "stream",
     "text": [
      "IB_DIPA_NaBr_aq_phase-a_pos1_13.46650keV_bpm3.386\n"
     ]
    },
    {
     "name": "stderr",
     "output_type": "stream",
     "text": [
      "WARNING:fabio.TiffIO:Data at tag id '65000' is smaller than expected\n",
      "WARNING:fabio.TiffIO:Data at tag id '65000' is smaller than expected\n"
     ]
    },
    {
     "name": "stdout",
     "output_type": "stream",
     "text": [
      "IB_DIPA_NaBr_aq_phase-a_pos1_13.46699keV_bpm3.382\n"
     ]
    },
    {
     "name": "stderr",
     "output_type": "stream",
     "text": [
      "WARNING:fabio.TiffIO:Data at tag id '65000' is smaller than expected\n",
      "WARNING:fabio.TiffIO:Data at tag id '65000' is smaller than expected\n"
     ]
    },
    {
     "name": "stdout",
     "output_type": "stream",
     "text": [
      "IB_DIPA_NaBr_aq_phase-a_pos1_13.46750keV_bpm3.377\n"
     ]
    },
    {
     "name": "stderr",
     "output_type": "stream",
     "text": [
      "WARNING:fabio.TiffIO:Data at tag id '65000' is smaller than expected\n",
      "WARNING:fabio.TiffIO:Data at tag id '65000' is smaller than expected\n"
     ]
    },
    {
     "name": "stdout",
     "output_type": "stream",
     "text": [
      "IB_DIPA_NaBr_aq_phase-a_pos1_13.46800keV_bpm3.377\n"
     ]
    },
    {
     "name": "stderr",
     "output_type": "stream",
     "text": [
      "WARNING:fabio.TiffIO:Data at tag id '65000' is smaller than expected\n",
      "WARNING:fabio.TiffIO:Data at tag id '65000' is smaller than expected\n"
     ]
    },
    {
     "name": "stdout",
     "output_type": "stream",
     "text": [
      "IB_DIPA_NaBr_aq_phase-a_pos1_13.46850keV_bpm3.388\n"
     ]
    },
    {
     "name": "stderr",
     "output_type": "stream",
     "text": [
      "WARNING:fabio.TiffIO:Data at tag id '65000' is smaller than expected\n",
      "WARNING:fabio.TiffIO:Data at tag id '65000' is smaller than expected\n"
     ]
    },
    {
     "name": "stdout",
     "output_type": "stream",
     "text": [
      "IB_DIPA_NaBr_aq_phase-a_pos1_13.46900keV_bpm3.384\n"
     ]
    },
    {
     "name": "stderr",
     "output_type": "stream",
     "text": [
      "WARNING:fabio.TiffIO:Data at tag id '65000' is smaller than expected\n",
      "WARNING:fabio.TiffIO:Data at tag id '65000' is smaller than expected\n"
     ]
    },
    {
     "name": "stdout",
     "output_type": "stream",
     "text": [
      "IB_DIPA_NaBr_aq_phase-a_pos1_13.46950keV_bpm3.385\n"
     ]
    },
    {
     "name": "stderr",
     "output_type": "stream",
     "text": [
      "WARNING:fabio.TiffIO:Data at tag id '65000' is smaller than expected\n",
      "WARNING:fabio.TiffIO:Data at tag id '65000' is smaller than expected\n"
     ]
    },
    {
     "name": "stdout",
     "output_type": "stream",
     "text": [
      "IB_DIPA_NaBr_aq_phase-a_pos1_13.47000keV_bpm3.382\n"
     ]
    },
    {
     "name": "stderr",
     "output_type": "stream",
     "text": [
      "WARNING:fabio.TiffIO:Data at tag id '65000' is smaller than expected\n",
      "WARNING:fabio.TiffIO:Data at tag id '65000' is smaller than expected\n"
     ]
    },
    {
     "name": "stdout",
     "output_type": "stream",
     "text": [
      "IB_DIPA_NaBr_aq_phase-a_pos1_13.47050keV_bpm3.377\n"
     ]
    },
    {
     "name": "stderr",
     "output_type": "stream",
     "text": [
      "WARNING:fabio.TiffIO:Data at tag id '65000' is smaller than expected\n",
      "WARNING:fabio.TiffIO:Data at tag id '65000' is smaller than expected\n"
     ]
    },
    {
     "name": "stdout",
     "output_type": "stream",
     "text": [
      "IB_DIPA_NaBr_aq_phase-a_pos1_13.47100keV_bpm3.375\n"
     ]
    },
    {
     "name": "stderr",
     "output_type": "stream",
     "text": [
      "WARNING:fabio.TiffIO:Data at tag id '65000' is smaller than expected\n",
      "WARNING:fabio.TiffIO:Data at tag id '65000' is smaller than expected\n"
     ]
    },
    {
     "name": "stdout",
     "output_type": "stream",
     "text": [
      "IB_DIPA_NaBr_aq_phase-a_pos1_13.47150keV_bpm3.375\n"
     ]
    },
    {
     "name": "stderr",
     "output_type": "stream",
     "text": [
      "WARNING:fabio.TiffIO:Data at tag id '65000' is smaller than expected\n",
      "WARNING:fabio.TiffIO:Data at tag id '65000' is smaller than expected\n"
     ]
    },
    {
     "name": "stdout",
     "output_type": "stream",
     "text": [
      "IB_DIPA_NaBr_aq_phase-a_pos1_13.47200keV_bpm03.37\n"
     ]
    },
    {
     "name": "stderr",
     "output_type": "stream",
     "text": [
      "WARNING:fabio.TiffIO:Data at tag id '65000' is smaller than expected\n",
      "WARNING:fabio.TiffIO:Data at tag id '65000' is smaller than expected\n"
     ]
    },
    {
     "name": "stdout",
     "output_type": "stream",
     "text": [
      "IB_DIPA_NaBr_aq_phase-a_pos1_13.47251keV_bpm3.368\n"
     ]
    },
    {
     "name": "stderr",
     "output_type": "stream",
     "text": [
      "WARNING:fabio.TiffIO:Data at tag id '65000' is smaller than expected\n",
      "WARNING:fabio.TiffIO:Data at tag id '65000' is smaller than expected\n"
     ]
    },
    {
     "name": "stdout",
     "output_type": "stream",
     "text": [
      "IB_DIPA_NaBr_aq_phase-a_pos1_13.47300keV_bpm3.362\n"
     ]
    },
    {
     "name": "stderr",
     "output_type": "stream",
     "text": [
      "WARNING:fabio.TiffIO:Data at tag id '65000' is smaller than expected\n",
      "WARNING:fabio.TiffIO:Data at tag id '65000' is smaller than expected\n"
     ]
    },
    {
     "name": "stdout",
     "output_type": "stream",
     "text": [
      "IB_DIPA_NaBr_aq_phase-a_pos1_13.47350keV_bpm03.36\n"
     ]
    },
    {
     "name": "stderr",
     "output_type": "stream",
     "text": [
      "WARNING:fabio.TiffIO:Data at tag id '65000' is smaller than expected\n",
      "WARNING:fabio.TiffIO:Data at tag id '65000' is smaller than expected\n"
     ]
    },
    {
     "name": "stdout",
     "output_type": "stream",
     "text": [
      "IB_DIPA_NaBr_aq_phase-a_pos1_13.47400keV_bpm3.355\n"
     ]
    },
    {
     "name": "stderr",
     "output_type": "stream",
     "text": [
      "WARNING:fabio.TiffIO:Data at tag id '65000' is smaller than expected\n",
      "WARNING:fabio.TiffIO:Data at tag id '65000' is smaller than expected\n"
     ]
    },
    {
     "name": "stdout",
     "output_type": "stream",
     "text": [
      "IB_DIPA_NaBr_aq_phase-a_pos1_13.47450keV_bpm3.356\n"
     ]
    },
    {
     "name": "stderr",
     "output_type": "stream",
     "text": [
      "WARNING:fabio.TiffIO:Data at tag id '65000' is smaller than expected\n",
      "WARNING:fabio.TiffIO:Data at tag id '65000' is smaller than expected\n"
     ]
    },
    {
     "name": "stdout",
     "output_type": "stream",
     "text": [
      "IB_DIPA_NaBr_aq_phase-a_pos1_13.47500keV_bpm3.358\n"
     ]
    },
    {
     "name": "stderr",
     "output_type": "stream",
     "text": [
      "WARNING:fabio.TiffIO:Data at tag id '65000' is smaller than expected\n",
      "WARNING:fabio.TiffIO:Data at tag id '65000' is smaller than expected\n"
     ]
    },
    {
     "name": "stdout",
     "output_type": "stream",
     "text": [
      "IB_DIPA_NaBr_aq_phase-a_pos1_13.47700keV_bpm3.357\n"
     ]
    },
    {
     "name": "stderr",
     "output_type": "stream",
     "text": [
      "WARNING:fabio.TiffIO:Data at tag id '65000' is smaller than expected\n",
      "WARNING:fabio.TiffIO:Data at tag id '65000' is smaller than expected\n"
     ]
    },
    {
     "name": "stdout",
     "output_type": "stream",
     "text": [
      "IB_DIPA_NaBr_aq_phase-a_pos1_13.47900keV_bpm03.35\n"
     ]
    },
    {
     "name": "stderr",
     "output_type": "stream",
     "text": [
      "WARNING:fabio.TiffIO:Data at tag id '65000' is smaller than expected\n",
      "WARNING:fabio.TiffIO:Data at tag id '65000' is smaller than expected\n"
     ]
    },
    {
     "name": "stdout",
     "output_type": "stream",
     "text": [
      "IB_DIPA_NaBr_aq_phase-a_pos1_13.48100keV_bpm03.36\n"
     ]
    },
    {
     "name": "stderr",
     "output_type": "stream",
     "text": [
      "WARNING:fabio.TiffIO:Data at tag id '65000' is smaller than expected\n",
      "WARNING:fabio.TiffIO:Data at tag id '65000' is smaller than expected\n"
     ]
    },
    {
     "name": "stdout",
     "output_type": "stream",
     "text": [
      "IB_DIPA_NaBr_aq_phase-a_pos1_13.48300keV_bpm3.364\n"
     ]
    },
    {
     "name": "stderr",
     "output_type": "stream",
     "text": [
      "WARNING:fabio.TiffIO:Data at tag id '65000' is smaller than expected\n",
      "WARNING:fabio.TiffIO:Data at tag id '65000' is smaller than expected\n"
     ]
    },
    {
     "name": "stdout",
     "output_type": "stream",
     "text": [
      "IB_DIPA_NaBr_aq_phase-a_pos1_13.48500keV_bpm03.36\n"
     ]
    },
    {
     "name": "stderr",
     "output_type": "stream",
     "text": [
      "WARNING:fabio.TiffIO:Data at tag id '65000' is smaller than expected\n",
      "WARNING:fabio.TiffIO:Data at tag id '65000' is smaller than expected\n"
     ]
    },
    {
     "name": "stdout",
     "output_type": "stream",
     "text": [
      "IB_DIPA_NaBr_aq_phase-a_pos1_13.49000keV_bpm3.352\n"
     ]
    },
    {
     "name": "stderr",
     "output_type": "stream",
     "text": [
      "WARNING:fabio.TiffIO:Data at tag id '65000' is smaller than expected\n",
      "WARNING:fabio.TiffIO:Data at tag id '65000' is smaller than expected\n"
     ]
    },
    {
     "name": "stdout",
     "output_type": "stream",
     "text": [
      "IB_DIPA_NaBr_aq_phase-a_pos1_13.49500keV_bpm3.349\n"
     ]
    },
    {
     "name": "stderr",
     "output_type": "stream",
     "text": [
      "WARNING:fabio.TiffIO:Data at tag id '65000' is smaller than expected\n",
      "WARNING:fabio.TiffIO:Data at tag id '65000' is smaller than expected\n"
     ]
    },
    {
     "name": "stdout",
     "output_type": "stream",
     "text": [
      "IB_DIPA_NaBr_aq_phase-a_pos1_13.50000keV_bpm3.346\n"
     ]
    },
    {
     "name": "stderr",
     "output_type": "stream",
     "text": [
      "WARNING:fabio.TiffIO:Data at tag id '65000' is smaller than expected\n",
      "WARNING:fabio.TiffIO:Data at tag id '65000' is smaller than expected\n"
     ]
    },
    {
     "name": "stdout",
     "output_type": "stream",
     "text": [
      "IB_DIPA_NaBr_aq_phase-a_pos1_13.50500keV_bpm3.345\n"
     ]
    },
    {
     "name": "stderr",
     "output_type": "stream",
     "text": [
      "WARNING:fabio.TiffIO:Data at tag id '65000' is smaller than expected\n",
      "WARNING:fabio.TiffIO:Data at tag id '65000' is smaller than expected\n"
     ]
    },
    {
     "name": "stdout",
     "output_type": "stream",
     "text": [
      "IB_DIPA_NaBr_aq_phase-a_pos1_13.51000keV_bpm3.345\n"
     ]
    },
    {
     "name": "stderr",
     "output_type": "stream",
     "text": [
      "WARNING:fabio.TiffIO:Data at tag id '65000' is smaller than expected\n",
      "WARNING:fabio.TiffIO:Data at tag id '65000' is smaller than expected\n"
     ]
    },
    {
     "name": "stdout",
     "output_type": "stream",
     "text": [
      "IB_DIPA_NaBr_aq_phase-a_pos1_13.51500keV_bpm3.342\n"
     ]
    },
    {
     "name": "stderr",
     "output_type": "stream",
     "text": [
      "WARNING:fabio.TiffIO:Data at tag id '65000' is smaller than expected\n",
      "WARNING:fabio.TiffIO:Data at tag id '65000' is smaller than expected\n"
     ]
    },
    {
     "name": "stdout",
     "output_type": "stream",
     "text": [
      "IB_DIPA_NaBr_aq_phase-a_pos1_13.52000keV_bpm3.334\n"
     ]
    },
    {
     "name": "stderr",
     "output_type": "stream",
     "text": [
      "WARNING:fabio.TiffIO:Data at tag id '65000' is smaller than expected\n",
      "WARNING:fabio.TiffIO:Data at tag id '65000' is smaller than expected\n"
     ]
    },
    {
     "name": "stdout",
     "output_type": "stream",
     "text": [
      "IB_DIPA_NaBr_aq_phase-a_pos1_13.52500keV_bpm3.328\n"
     ]
    },
    {
     "name": "stderr",
     "output_type": "stream",
     "text": [
      "WARNING:fabio.TiffIO:Data at tag id '65000' is smaller than expected\n",
      "WARNING:fabio.TiffIO:Data at tag id '65000' is smaller than expected\n"
     ]
    },
    {
     "name": "stdout",
     "output_type": "stream",
     "text": [
      "IB_DIPA_NaBr_aq_phase-a_pos1_13.53000keV_bpm3.317\n"
     ]
    },
    {
     "name": "stderr",
     "output_type": "stream",
     "text": [
      "WARNING:fabio.TiffIO:Data at tag id '65000' is smaller than expected\n",
      "WARNING:fabio.TiffIO:Data at tag id '65000' is smaller than expected\n"
     ]
    },
    {
     "name": "stdout",
     "output_type": "stream",
     "text": [
      "IB_DIPA_NaBr_aq_phase-a_pos1_13.53500keV_bpm03.28\n"
     ]
    },
    {
     "name": "stderr",
     "output_type": "stream",
     "text": [
      "WARNING:fabio.TiffIO:Data at tag id '65000' is smaller than expected\n",
      "WARNING:fabio.TiffIO:Data at tag id '65000' is smaller than expected\n"
     ]
    },
    {
     "name": "stdout",
     "output_type": "stream",
     "text": [
      "IB_DIPA_NaBr_aq_phase-a_pos1_13.54000keV_bpm3.295\n"
     ]
    },
    {
     "name": "stderr",
     "output_type": "stream",
     "text": [
      "WARNING:fabio.TiffIO:Data at tag id '65000' is smaller than expected\n",
      "WARNING:fabio.TiffIO:Data at tag id '65000' is smaller than expected\n"
     ]
    },
    {
     "name": "stdout",
     "output_type": "stream",
     "text": [
      "IB_DIPA_NaBr_aq_phase-a_pos1_13.54501keV_bpm3.268\n"
     ]
    },
    {
     "name": "stderr",
     "output_type": "stream",
     "text": [
      "WARNING:fabio.TiffIO:Data at tag id '65000' is smaller than expected\n",
      "WARNING:fabio.TiffIO:Data at tag id '65000' is smaller than expected\n"
     ]
    },
    {
     "name": "stdout",
     "output_type": "stream",
     "text": [
      "IB_DIPA_NaBr_aq_phase-a_pos1_13.55000keV_bpm3.276\n"
     ]
    },
    {
     "name": "stderr",
     "output_type": "stream",
     "text": [
      "WARNING:fabio.TiffIO:Data at tag id '65000' is smaller than expected\n",
      "WARNING:fabio.TiffIO:Data at tag id '65000' is smaller than expected\n"
     ]
    },
    {
     "name": "stdout",
     "output_type": "stream",
     "text": [
      "IB_DIPA_KBr_aq_phase-a_pos1_\n",
      "IB_DIPA_KBr_aq_phase-a_pos1_13.45000keV_bpm3.418\n"
     ]
    },
    {
     "name": "stderr",
     "output_type": "stream",
     "text": [
      "WARNING:fabio.TiffIO:Data at tag id '65000' is smaller than expected\n",
      "WARNING:fabio.TiffIO:Data at tag id '65000' is smaller than expected\n"
     ]
    },
    {
     "name": "stdout",
     "output_type": "stream",
     "text": [
      "IB_DIPA_KBr_aq_phase-a_pos1_13.45500keV_bpm3.407\n"
     ]
    },
    {
     "name": "stderr",
     "output_type": "stream",
     "text": [
      "WARNING:fabio.TiffIO:Data at tag id '65000' is smaller than expected\n",
      "WARNING:fabio.TiffIO:Data at tag id '65000' is smaller than expected\n"
     ]
    },
    {
     "name": "stdout",
     "output_type": "stream",
     "text": [
      "IB_DIPA_KBr_aq_phase-a_pos1_13.46000keV_bpm3.399\n"
     ]
    },
    {
     "name": "stderr",
     "output_type": "stream",
     "text": [
      "WARNING:fabio.TiffIO:Data at tag id '65000' is smaller than expected\n",
      "WARNING:fabio.TiffIO:Data at tag id '65000' is smaller than expected\n"
     ]
    },
    {
     "name": "stdout",
     "output_type": "stream",
     "text": [
      "IB_DIPA_KBr_aq_phase-a_pos1_13.46099keV_bpm3.398\n"
     ]
    },
    {
     "name": "stderr",
     "output_type": "stream",
     "text": [
      "WARNING:fabio.TiffIO:Data at tag id '65000' is smaller than expected\n",
      "WARNING:fabio.TiffIO:Data at tag id '65000' is smaller than expected\n"
     ]
    },
    {
     "name": "stdout",
     "output_type": "stream",
     "text": [
      "IB_DIPA_KBr_aq_phase-a_pos1_13.46201keV_bpm3.393\n"
     ]
    },
    {
     "name": "stderr",
     "output_type": "stream",
     "text": [
      "WARNING:fabio.TiffIO:Data at tag id '65000' is smaller than expected\n",
      "WARNING:fabio.TiffIO:Data at tag id '65000' is smaller than expected\n"
     ]
    },
    {
     "name": "stdout",
     "output_type": "stream",
     "text": [
      "IB_DIPA_KBr_aq_phase-a_pos1_13.46301keV_bpm3.389\n"
     ]
    },
    {
     "name": "stderr",
     "output_type": "stream",
     "text": [
      "WARNING:fabio.TiffIO:Data at tag id '65000' is smaller than expected\n",
      "WARNING:fabio.TiffIO:Data at tag id '65000' is smaller than expected\n"
     ]
    },
    {
     "name": "stdout",
     "output_type": "stream",
     "text": [
      "IB_DIPA_KBr_aq_phase-a_pos1_13.46401keV_bpm3.382\n"
     ]
    },
    {
     "name": "stderr",
     "output_type": "stream",
     "text": [
      "WARNING:fabio.TiffIO:Data at tag id '65000' is smaller than expected\n",
      "WARNING:fabio.TiffIO:Data at tag id '65000' is smaller than expected\n"
     ]
    },
    {
     "name": "stdout",
     "output_type": "stream",
     "text": [
      "IB_DIPA_KBr_aq_phase-a_pos1_13.46501keV_bpm3.381\n"
     ]
    },
    {
     "name": "stderr",
     "output_type": "stream",
     "text": [
      "WARNING:fabio.TiffIO:Data at tag id '65000' is smaller than expected\n",
      "WARNING:fabio.TiffIO:Data at tag id '65000' is smaller than expected\n"
     ]
    },
    {
     "name": "stdout",
     "output_type": "stream",
     "text": [
      "IB_DIPA_KBr_aq_phase-a_pos1_13.46550keV_bpm3.387\n"
     ]
    },
    {
     "name": "stderr",
     "output_type": "stream",
     "text": [
      "WARNING:fabio.TiffIO:Data at tag id '65000' is smaller than expected\n",
      "WARNING:fabio.TiffIO:Data at tag id '65000' is smaller than expected\n"
     ]
    },
    {
     "name": "stdout",
     "output_type": "stream",
     "text": [
      "IB_DIPA_KBr_aq_phase-a_pos1_13.46599keV_bpm3.387\n"
     ]
    },
    {
     "name": "stderr",
     "output_type": "stream",
     "text": [
      "WARNING:fabio.TiffIO:Data at tag id '65000' is smaller than expected\n",
      "WARNING:fabio.TiffIO:Data at tag id '65000' is smaller than expected\n"
     ]
    },
    {
     "name": "stdout",
     "output_type": "stream",
     "text": [
      "IB_DIPA_KBr_aq_phase-a_pos1_13.46650keV_bpm3.384\n"
     ]
    },
    {
     "name": "stderr",
     "output_type": "stream",
     "text": [
      "WARNING:fabio.TiffIO:Data at tag id '65000' is smaller than expected\n",
      "WARNING:fabio.TiffIO:Data at tag id '65000' is smaller than expected\n"
     ]
    },
    {
     "name": "stdout",
     "output_type": "stream",
     "text": [
      "IB_DIPA_KBr_aq_phase-a_pos1_13.46699keV_bpm3.384\n"
     ]
    },
    {
     "name": "stderr",
     "output_type": "stream",
     "text": [
      "WARNING:fabio.TiffIO:Data at tag id '65000' is smaller than expected\n",
      "WARNING:fabio.TiffIO:Data at tag id '65000' is smaller than expected\n"
     ]
    },
    {
     "name": "stdout",
     "output_type": "stream",
     "text": [
      "IB_DIPA_KBr_aq_phase-a_pos1_13.46750keV_bpm3.382\n"
     ]
    },
    {
     "name": "stderr",
     "output_type": "stream",
     "text": [
      "WARNING:fabio.TiffIO:Data at tag id '65000' is smaller than expected\n",
      "WARNING:fabio.TiffIO:Data at tag id '65000' is smaller than expected\n"
     ]
    },
    {
     "name": "stdout",
     "output_type": "stream",
     "text": [
      "IB_DIPA_KBr_aq_phase-a_pos1_13.46800keV_bpm3.381\n"
     ]
    },
    {
     "name": "stderr",
     "output_type": "stream",
     "text": [
      "WARNING:fabio.TiffIO:Data at tag id '65000' is smaller than expected\n",
      "WARNING:fabio.TiffIO:Data at tag id '65000' is smaller than expected\n"
     ]
    },
    {
     "name": "stdout",
     "output_type": "stream",
     "text": [
      "IB_DIPA_KBr_aq_phase-a_pos1_13.46850keV_bpm3.379\n"
     ]
    },
    {
     "name": "stderr",
     "output_type": "stream",
     "text": [
      "WARNING:fabio.TiffIO:Data at tag id '65000' is smaller than expected\n",
      "WARNING:fabio.TiffIO:Data at tag id '65000' is smaller than expected\n"
     ]
    },
    {
     "name": "stdout",
     "output_type": "stream",
     "text": [
      "IB_DIPA_KBr_aq_phase-a_pos1_13.46900keV_bpm3.372\n"
     ]
    },
    {
     "name": "stderr",
     "output_type": "stream",
     "text": [
      "WARNING:fabio.TiffIO:Data at tag id '65000' is smaller than expected\n",
      "WARNING:fabio.TiffIO:Data at tag id '65000' is smaller than expected\n"
     ]
    },
    {
     "name": "stdout",
     "output_type": "stream",
     "text": [
      "IB_DIPA_KBr_aq_phase-a_pos1_13.46950keV_bpm3.369\n"
     ]
    },
    {
     "name": "stderr",
     "output_type": "stream",
     "text": [
      "WARNING:fabio.TiffIO:Data at tag id '65000' is smaller than expected\n",
      "WARNING:fabio.TiffIO:Data at tag id '65000' is smaller than expected\n"
     ]
    },
    {
     "name": "stdout",
     "output_type": "stream",
     "text": [
      "IB_DIPA_KBr_aq_phase-a_pos1_13.47000keV_bpm3.371\n"
     ]
    },
    {
     "name": "stderr",
     "output_type": "stream",
     "text": [
      "WARNING:fabio.TiffIO:Data at tag id '65000' is smaller than expected\n",
      "WARNING:fabio.TiffIO:Data at tag id '65000' is smaller than expected\n"
     ]
    },
    {
     "name": "stdout",
     "output_type": "stream",
     "text": [
      "IB_DIPA_KBr_aq_phase-a_pos1_13.47050keV_bpm3.367\n"
     ]
    },
    {
     "name": "stderr",
     "output_type": "stream",
     "text": [
      "WARNING:fabio.TiffIO:Data at tag id '65000' is smaller than expected\n",
      "WARNING:fabio.TiffIO:Data at tag id '65000' is smaller than expected\n"
     ]
    },
    {
     "name": "stdout",
     "output_type": "stream",
     "text": [
      "IB_DIPA_KBr_aq_phase-a_pos1_13.47100keV_bpm3.366\n"
     ]
    },
    {
     "name": "stderr",
     "output_type": "stream",
     "text": [
      "WARNING:fabio.TiffIO:Data at tag id '65000' is smaller than expected\n",
      "WARNING:fabio.TiffIO:Data at tag id '65000' is smaller than expected\n"
     ]
    },
    {
     "name": "stdout",
     "output_type": "stream",
     "text": [
      "IB_DIPA_KBr_aq_phase-a_pos1_13.47150keV_bpm3.367\n"
     ]
    },
    {
     "name": "stderr",
     "output_type": "stream",
     "text": [
      "WARNING:fabio.TiffIO:Data at tag id '65000' is smaller than expected\n",
      "WARNING:fabio.TiffIO:Data at tag id '65000' is smaller than expected\n"
     ]
    },
    {
     "name": "stdout",
     "output_type": "stream",
     "text": [
      "IB_DIPA_KBr_aq_phase-a_pos1_13.47200keV_bpm3.365\n"
     ]
    },
    {
     "name": "stderr",
     "output_type": "stream",
     "text": [
      "WARNING:fabio.TiffIO:Data at tag id '65000' is smaller than expected\n",
      "WARNING:fabio.TiffIO:Data at tag id '65000' is smaller than expected\n"
     ]
    },
    {
     "name": "stdout",
     "output_type": "stream",
     "text": [
      "IB_DIPA_KBr_aq_phase-a_pos1_13.47251keV_bpm3.357\n"
     ]
    },
    {
     "name": "stderr",
     "output_type": "stream",
     "text": [
      "WARNING:fabio.TiffIO:Data at tag id '65000' is smaller than expected\n",
      "WARNING:fabio.TiffIO:Data at tag id '65000' is smaller than expected\n"
     ]
    },
    {
     "name": "stdout",
     "output_type": "stream",
     "text": [
      "IB_DIPA_KBr_aq_phase-a_pos1_13.47300keV_bpm3.352\n"
     ]
    },
    {
     "name": "stderr",
     "output_type": "stream",
     "text": [
      "WARNING:fabio.TiffIO:Data at tag id '65000' is smaller than expected\n",
      "WARNING:fabio.TiffIO:Data at tag id '65000' is smaller than expected\n"
     ]
    },
    {
     "name": "stdout",
     "output_type": "stream",
     "text": [
      "IB_DIPA_KBr_aq_phase-a_pos1_13.47350keV_bpm3.364\n"
     ]
    },
    {
     "name": "stderr",
     "output_type": "stream",
     "text": [
      "WARNING:fabio.TiffIO:Data at tag id '65000' is smaller than expected\n",
      "WARNING:fabio.TiffIO:Data at tag id '65000' is smaller than expected\n"
     ]
    },
    {
     "name": "stdout",
     "output_type": "stream",
     "text": [
      "IB_DIPA_KBr_aq_phase-a_pos1_13.47400keV_bpm3.359\n"
     ]
    },
    {
     "name": "stderr",
     "output_type": "stream",
     "text": [
      "WARNING:fabio.TiffIO:Data at tag id '65000' is smaller than expected\n",
      "WARNING:fabio.TiffIO:Data at tag id '65000' is smaller than expected\n"
     ]
    },
    {
     "name": "stdout",
     "output_type": "stream",
     "text": [
      "IB_DIPA_KBr_aq_phase-a_pos1_13.47450keV_bpm3.358\n"
     ]
    },
    {
     "name": "stderr",
     "output_type": "stream",
     "text": [
      "WARNING:fabio.TiffIO:Data at tag id '65000' is smaller than expected\n",
      "WARNING:fabio.TiffIO:Data at tag id '65000' is smaller than expected\n"
     ]
    },
    {
     "name": "stdout",
     "output_type": "stream",
     "text": [
      "IB_DIPA_KBr_aq_phase-a_pos1_13.47500keV_bpm3.356\n"
     ]
    },
    {
     "name": "stderr",
     "output_type": "stream",
     "text": [
      "WARNING:fabio.TiffIO:Data at tag id '65000' is smaller than expected\n",
      "WARNING:fabio.TiffIO:Data at tag id '65000' is smaller than expected\n"
     ]
    },
    {
     "name": "stdout",
     "output_type": "stream",
     "text": [
      "IB_DIPA_KBr_aq_phase-a_pos1_13.47700keV_bpm3.366\n"
     ]
    },
    {
     "name": "stderr",
     "output_type": "stream",
     "text": [
      "WARNING:fabio.TiffIO:Data at tag id '65000' is smaller than expected\n",
      "WARNING:fabio.TiffIO:Data at tag id '65000' is smaller than expected\n"
     ]
    },
    {
     "name": "stdout",
     "output_type": "stream",
     "text": [
      "IB_DIPA_KBr_aq_phase-a_pos1_13.47900keV_bpm3.349\n"
     ]
    },
    {
     "name": "stderr",
     "output_type": "stream",
     "text": [
      "WARNING:fabio.TiffIO:Data at tag id '65000' is smaller than expected\n",
      "WARNING:fabio.TiffIO:Data at tag id '65000' is smaller than expected\n"
     ]
    },
    {
     "name": "stdout",
     "output_type": "stream",
     "text": [
      "IB_DIPA_KBr_aq_phase-a_pos1_13.48100keV_bpm3.344\n"
     ]
    },
    {
     "name": "stderr",
     "output_type": "stream",
     "text": [
      "WARNING:fabio.TiffIO:Data at tag id '65000' is smaller than expected\n",
      "WARNING:fabio.TiffIO:Data at tag id '65000' is smaller than expected\n"
     ]
    },
    {
     "name": "stdout",
     "output_type": "stream",
     "text": [
      "IB_DIPA_KBr_aq_phase-a_pos1_13.48300keV_bpm3.347\n"
     ]
    },
    {
     "name": "stderr",
     "output_type": "stream",
     "text": [
      "WARNING:fabio.TiffIO:Data at tag id '65000' is smaller than expected\n",
      "WARNING:fabio.TiffIO:Data at tag id '65000' is smaller than expected\n"
     ]
    },
    {
     "name": "stdout",
     "output_type": "stream",
     "text": [
      "IB_DIPA_KBr_aq_phase-a_pos1_13.48500keV_bpm3.345\n"
     ]
    },
    {
     "name": "stderr",
     "output_type": "stream",
     "text": [
      "WARNING:fabio.TiffIO:Data at tag id '65000' is smaller than expected\n",
      "WARNING:fabio.TiffIO:Data at tag id '65000' is smaller than expected\n"
     ]
    },
    {
     "name": "stdout",
     "output_type": "stream",
     "text": [
      "IB_DIPA_KBr_aq_phase-a_pos1_13.49000keV_bpm3.338\n"
     ]
    },
    {
     "name": "stderr",
     "output_type": "stream",
     "text": [
      "WARNING:fabio.TiffIO:Data at tag id '65000' is smaller than expected\n",
      "WARNING:fabio.TiffIO:Data at tag id '65000' is smaller than expected\n"
     ]
    },
    {
     "name": "stdout",
     "output_type": "stream",
     "text": [
      "IB_DIPA_KBr_aq_phase-a_pos1_13.49500keV_bpm3.333\n"
     ]
    },
    {
     "name": "stderr",
     "output_type": "stream",
     "text": [
      "WARNING:fabio.TiffIO:Data at tag id '65000' is smaller than expected\n",
      "WARNING:fabio.TiffIO:Data at tag id '65000' is smaller than expected\n"
     ]
    },
    {
     "name": "stdout",
     "output_type": "stream",
     "text": [
      "IB_DIPA_KBr_aq_phase-a_pos1_13.50000keV_bpm3.335\n"
     ]
    },
    {
     "name": "stderr",
     "output_type": "stream",
     "text": [
      "WARNING:fabio.TiffIO:Data at tag id '65000' is smaller than expected\n",
      "WARNING:fabio.TiffIO:Data at tag id '65000' is smaller than expected\n"
     ]
    },
    {
     "name": "stdout",
     "output_type": "stream",
     "text": [
      "IB_DIPA_KBr_aq_phase-a_pos1_13.50500keV_bpm3.334\n"
     ]
    },
    {
     "name": "stderr",
     "output_type": "stream",
     "text": [
      "WARNING:fabio.TiffIO:Data at tag id '65000' is smaller than expected\n",
      "WARNING:fabio.TiffIO:Data at tag id '65000' is smaller than expected\n"
     ]
    },
    {
     "name": "stdout",
     "output_type": "stream",
     "text": [
      "IB_DIPA_KBr_aq_phase-a_pos1_13.51000keV_bpm03.33\n"
     ]
    },
    {
     "name": "stderr",
     "output_type": "stream",
     "text": [
      "WARNING:fabio.TiffIO:Data at tag id '65000' is smaller than expected\n",
      "WARNING:fabio.TiffIO:Data at tag id '65000' is smaller than expected\n"
     ]
    },
    {
     "name": "stdout",
     "output_type": "stream",
     "text": [
      "IB_DIPA_KBr_aq_phase-a_pos1_13.51500keV_bpm3.329\n"
     ]
    },
    {
     "name": "stderr",
     "output_type": "stream",
     "text": [
      "WARNING:fabio.TiffIO:Data at tag id '65000' is smaller than expected\n",
      "WARNING:fabio.TiffIO:Data at tag id '65000' is smaller than expected\n"
     ]
    },
    {
     "name": "stdout",
     "output_type": "stream",
     "text": [
      "IB_DIPA_KBr_aq_phase-a_pos1_13.52000keV_bpm3.324\n"
     ]
    },
    {
     "name": "stderr",
     "output_type": "stream",
     "text": [
      "WARNING:fabio.TiffIO:Data at tag id '65000' is smaller than expected\n",
      "WARNING:fabio.TiffIO:Data at tag id '65000' is smaller than expected\n"
     ]
    },
    {
     "name": "stdout",
     "output_type": "stream",
     "text": [
      "IB_DIPA_KBr_aq_phase-a_pos1_13.52500keV_bpm3.325\n"
     ]
    },
    {
     "name": "stderr",
     "output_type": "stream",
     "text": [
      "WARNING:fabio.TiffIO:Data at tag id '65000' is smaller than expected\n",
      "WARNING:fabio.TiffIO:Data at tag id '65000' is smaller than expected\n"
     ]
    },
    {
     "name": "stdout",
     "output_type": "stream",
     "text": [
      "IB_DIPA_KBr_aq_phase-a_pos1_13.53000keV_bpm3.314\n"
     ]
    },
    {
     "name": "stderr",
     "output_type": "stream",
     "text": [
      "WARNING:fabio.TiffIO:Data at tag id '65000' is smaller than expected\n",
      "WARNING:fabio.TiffIO:Data at tag id '65000' is smaller than expected\n"
     ]
    },
    {
     "name": "stdout",
     "output_type": "stream",
     "text": [
      "IB_DIPA_KBr_aq_phase-a_pos1_13.53500keV_bpm3.278\n"
     ]
    },
    {
     "name": "stderr",
     "output_type": "stream",
     "text": [
      "WARNING:fabio.TiffIO:Data at tag id '65000' is smaller than expected\n",
      "WARNING:fabio.TiffIO:Data at tag id '65000' is smaller than expected\n"
     ]
    },
    {
     "name": "stdout",
     "output_type": "stream",
     "text": [
      "IB_DIPA_KBr_aq_phase-a_pos1_13.54000keV_bpm3.294\n"
     ]
    },
    {
     "name": "stderr",
     "output_type": "stream",
     "text": [
      "WARNING:fabio.TiffIO:Data at tag id '65000' is smaller than expected\n",
      "WARNING:fabio.TiffIO:Data at tag id '65000' is smaller than expected\n"
     ]
    },
    {
     "name": "stdout",
     "output_type": "stream",
     "text": [
      "IB_DIPA_KBr_aq_phase-a_pos1_13.54501keV_bpm3.271\n"
     ]
    },
    {
     "name": "stderr",
     "output_type": "stream",
     "text": [
      "WARNING:fabio.TiffIO:Data at tag id '65000' is smaller than expected\n",
      "WARNING:fabio.TiffIO:Data at tag id '65000' is smaller than expected\n"
     ]
    },
    {
     "name": "stdout",
     "output_type": "stream",
     "text": [
      "IB_DIPA_KBr_aq_phase-a_pos1_13.55000keV_bpm3.281\n"
     ]
    },
    {
     "name": "stderr",
     "output_type": "stream",
     "text": [
      "WARNING:fabio.TiffIO:Data at tag id '65000' is smaller than expected\n",
      "WARNING:fabio.TiffIO:Data at tag id '65000' is smaller than expected\n"
     ]
    },
    {
     "name": "stdout",
     "output_type": "stream",
     "text": [
      "IB_DIPA_RbBr_aq_phase-a_pos1_\n",
      "IB_DIPA_RbBr_aq_phase-a_pos1_13.45000keV_bpm3.412\n"
     ]
    },
    {
     "name": "stderr",
     "output_type": "stream",
     "text": [
      "WARNING:fabio.TiffIO:Data at tag id '65000' is smaller than expected\n",
      "WARNING:fabio.TiffIO:Data at tag id '65000' is smaller than expected\n"
     ]
    },
    {
     "name": "stdout",
     "output_type": "stream",
     "text": [
      "IB_DIPA_RbBr_aq_phase-a_pos1_13.45500keV_bpm3.407\n"
     ]
    },
    {
     "name": "stderr",
     "output_type": "stream",
     "text": [
      "WARNING:fabio.TiffIO:Data at tag id '65000' is smaller than expected\n",
      "WARNING:fabio.TiffIO:Data at tag id '65000' is smaller than expected\n"
     ]
    },
    {
     "name": "stdout",
     "output_type": "stream",
     "text": [
      "IB_DIPA_RbBr_aq_phase-a_pos1_13.46000keV_bpm3.407\n"
     ]
    },
    {
     "name": "stderr",
     "output_type": "stream",
     "text": [
      "WARNING:fabio.TiffIO:Data at tag id '65000' is smaller than expected\n",
      "WARNING:fabio.TiffIO:Data at tag id '65000' is smaller than expected\n"
     ]
    },
    {
     "name": "stdout",
     "output_type": "stream",
     "text": [
      "IB_DIPA_RbBr_aq_phase-a_pos1_13.46099keV_bpm3.403\n"
     ]
    },
    {
     "name": "stderr",
     "output_type": "stream",
     "text": [
      "WARNING:fabio.TiffIO:Data at tag id '65000' is smaller than expected\n",
      "WARNING:fabio.TiffIO:Data at tag id '65000' is smaller than expected\n"
     ]
    },
    {
     "name": "stdout",
     "output_type": "stream",
     "text": [
      "IB_DIPA_RbBr_aq_phase-a_pos1_13.46201keV_bpm3.396\n"
     ]
    },
    {
     "name": "stderr",
     "output_type": "stream",
     "text": [
      "WARNING:fabio.TiffIO:Data at tag id '65000' is smaller than expected\n",
      "WARNING:fabio.TiffIO:Data at tag id '65000' is smaller than expected\n"
     ]
    },
    {
     "name": "stdout",
     "output_type": "stream",
     "text": [
      "IB_DIPA_RbBr_aq_phase-a_pos1_13.46301keV_bpm3.395\n"
     ]
    },
    {
     "name": "stderr",
     "output_type": "stream",
     "text": [
      "WARNING:fabio.TiffIO:Data at tag id '65000' is smaller than expected\n",
      "WARNING:fabio.TiffIO:Data at tag id '65000' is smaller than expected\n"
     ]
    },
    {
     "name": "stdout",
     "output_type": "stream",
     "text": [
      "IB_DIPA_RbBr_aq_phase-a_pos1_13.46401keV_bpm3.387\n"
     ]
    },
    {
     "name": "stderr",
     "output_type": "stream",
     "text": [
      "WARNING:fabio.TiffIO:Data at tag id '65000' is smaller than expected\n",
      "WARNING:fabio.TiffIO:Data at tag id '65000' is smaller than expected\n"
     ]
    },
    {
     "name": "stdout",
     "output_type": "stream",
     "text": [
      "IB_DIPA_RbBr_aq_phase-a_pos1_13.46501keV_bpm3.384\n"
     ]
    },
    {
     "name": "stderr",
     "output_type": "stream",
     "text": [
      "WARNING:fabio.TiffIO:Data at tag id '65000' is smaller than expected\n",
      "WARNING:fabio.TiffIO:Data at tag id '65000' is smaller than expected\n"
     ]
    },
    {
     "name": "stdout",
     "output_type": "stream",
     "text": [
      "IB_DIPA_RbBr_aq_phase-a_pos1_13.46550keV_bpm3.381\n"
     ]
    },
    {
     "name": "stderr",
     "output_type": "stream",
     "text": [
      "WARNING:fabio.TiffIO:Data at tag id '65000' is smaller than expected\n",
      "WARNING:fabio.TiffIO:Data at tag id '65000' is smaller than expected\n"
     ]
    },
    {
     "name": "stdout",
     "output_type": "stream",
     "text": [
      "IB_DIPA_RbBr_aq_phase-a_pos1_13.46599keV_bpm3.382\n"
     ]
    },
    {
     "name": "stderr",
     "output_type": "stream",
     "text": [
      "WARNING:fabio.TiffIO:Data at tag id '65000' is smaller than expected\n",
      "WARNING:fabio.TiffIO:Data at tag id '65000' is smaller than expected\n"
     ]
    },
    {
     "name": "stdout",
     "output_type": "stream",
     "text": [
      "IB_DIPA_RbBr_aq_phase-a_pos1_13.46650keV_bpm03.38\n"
     ]
    },
    {
     "name": "stderr",
     "output_type": "stream",
     "text": [
      "WARNING:fabio.TiffIO:Data at tag id '65000' is smaller than expected\n",
      "WARNING:fabio.TiffIO:Data at tag id '65000' is smaller than expected\n"
     ]
    },
    {
     "name": "stdout",
     "output_type": "stream",
     "text": [
      "IB_DIPA_RbBr_aq_phase-a_pos1_13.46699keV_bpm3.379\n"
     ]
    },
    {
     "name": "stderr",
     "output_type": "stream",
     "text": [
      "WARNING:fabio.TiffIO:Data at tag id '65000' is smaller than expected\n",
      "WARNING:fabio.TiffIO:Data at tag id '65000' is smaller than expected\n"
     ]
    },
    {
     "name": "stdout",
     "output_type": "stream",
     "text": [
      "IB_DIPA_RbBr_aq_phase-a_pos1_13.46750keV_bpm03.38\n"
     ]
    },
    {
     "name": "stderr",
     "output_type": "stream",
     "text": [
      "WARNING:fabio.TiffIO:Data at tag id '65000' is smaller than expected\n",
      "WARNING:fabio.TiffIO:Data at tag id '65000' is smaller than expected\n"
     ]
    },
    {
     "name": "stdout",
     "output_type": "stream",
     "text": [
      "IB_DIPA_RbBr_aq_phase-a_pos1_13.46800keV_bpm3.372\n"
     ]
    },
    {
     "name": "stderr",
     "output_type": "stream",
     "text": [
      "WARNING:fabio.TiffIO:Data at tag id '65000' is smaller than expected\n",
      "WARNING:fabio.TiffIO:Data at tag id '65000' is smaller than expected\n"
     ]
    },
    {
     "name": "stdout",
     "output_type": "stream",
     "text": [
      "IB_DIPA_RbBr_aq_phase-a_pos1_13.46850keV_bpm3.369\n"
     ]
    },
    {
     "name": "stderr",
     "output_type": "stream",
     "text": [
      "WARNING:fabio.TiffIO:Data at tag id '65000' is smaller than expected\n",
      "WARNING:fabio.TiffIO:Data at tag id '65000' is smaller than expected\n"
     ]
    },
    {
     "name": "stdout",
     "output_type": "stream",
     "text": [
      "IB_DIPA_RbBr_aq_phase-a_pos1_13.46900keV_bpm3.373\n"
     ]
    },
    {
     "name": "stderr",
     "output_type": "stream",
     "text": [
      "WARNING:fabio.TiffIO:Data at tag id '65000' is smaller than expected\n",
      "WARNING:fabio.TiffIO:Data at tag id '65000' is smaller than expected\n"
     ]
    },
    {
     "name": "stdout",
     "output_type": "stream",
     "text": [
      "IB_DIPA_RbBr_aq_phase-a_pos1_13.46950keV_bpm3.371\n"
     ]
    },
    {
     "name": "stderr",
     "output_type": "stream",
     "text": [
      "WARNING:fabio.TiffIO:Data at tag id '65000' is smaller than expected\n",
      "WARNING:fabio.TiffIO:Data at tag id '65000' is smaller than expected\n"
     ]
    },
    {
     "name": "stdout",
     "output_type": "stream",
     "text": [
      "IB_DIPA_RbBr_aq_phase-a_pos1_13.47000keV_bpm3.367\n"
     ]
    },
    {
     "name": "stderr",
     "output_type": "stream",
     "text": [
      "WARNING:fabio.TiffIO:Data at tag id '65000' is smaller than expected\n",
      "WARNING:fabio.TiffIO:Data at tag id '65000' is smaller than expected\n"
     ]
    },
    {
     "name": "stdout",
     "output_type": "stream",
     "text": [
      "IB_DIPA_RbBr_aq_phase-a_pos1_13.47050keV_bpm3.377\n"
     ]
    },
    {
     "name": "stderr",
     "output_type": "stream",
     "text": [
      "WARNING:fabio.TiffIO:Data at tag id '65000' is smaller than expected\n",
      "WARNING:fabio.TiffIO:Data at tag id '65000' is smaller than expected\n"
     ]
    },
    {
     "name": "stdout",
     "output_type": "stream",
     "text": [
      "IB_DIPA_RbBr_aq_phase-a_pos1_13.47100keV_bpm3.376\n"
     ]
    },
    {
     "name": "stderr",
     "output_type": "stream",
     "text": [
      "WARNING:fabio.TiffIO:Data at tag id '65000' is smaller than expected\n",
      "WARNING:fabio.TiffIO:Data at tag id '65000' is smaller than expected\n"
     ]
    },
    {
     "name": "stdout",
     "output_type": "stream",
     "text": [
      "IB_DIPA_RbBr_aq_phase-a_pos1_13.47150keV_bpm3.377\n"
     ]
    },
    {
     "name": "stderr",
     "output_type": "stream",
     "text": [
      "WARNING:fabio.TiffIO:Data at tag id '65000' is smaller than expected\n",
      "WARNING:fabio.TiffIO:Data at tag id '65000' is smaller than expected\n"
     ]
    },
    {
     "name": "stdout",
     "output_type": "stream",
     "text": [
      "IB_DIPA_RbBr_aq_phase-a_pos1_13.47200keV_bpm3.378\n"
     ]
    },
    {
     "name": "stderr",
     "output_type": "stream",
     "text": [
      "WARNING:fabio.TiffIO:Data at tag id '65000' is smaller than expected\n",
      "WARNING:fabio.TiffIO:Data at tag id '65000' is smaller than expected\n"
     ]
    },
    {
     "name": "stdout",
     "output_type": "stream",
     "text": [
      "IB_DIPA_RbBr_aq_phase-a_pos1_13.47251keV_bpm3.372\n"
     ]
    },
    {
     "name": "stderr",
     "output_type": "stream",
     "text": [
      "WARNING:fabio.TiffIO:Data at tag id '65000' is smaller than expected\n",
      "WARNING:fabio.TiffIO:Data at tag id '65000' is smaller than expected\n"
     ]
    },
    {
     "name": "stdout",
     "output_type": "stream",
     "text": [
      "IB_DIPA_RbBr_aq_phase-a_pos1_13.47300keV_bpm3.365\n"
     ]
    },
    {
     "name": "stderr",
     "output_type": "stream",
     "text": [
      "WARNING:fabio.TiffIO:Data at tag id '65000' is smaller than expected\n",
      "WARNING:fabio.TiffIO:Data at tag id '65000' is smaller than expected\n"
     ]
    },
    {
     "name": "stdout",
     "output_type": "stream",
     "text": [
      "IB_DIPA_RbBr_aq_phase-a_pos1_13.47350keV_bpm3.356\n"
     ]
    },
    {
     "name": "stderr",
     "output_type": "stream",
     "text": [
      "WARNING:fabio.TiffIO:Data at tag id '65000' is smaller than expected\n",
      "WARNING:fabio.TiffIO:Data at tag id '65000' is smaller than expected\n"
     ]
    },
    {
     "name": "stdout",
     "output_type": "stream",
     "text": [
      "IB_DIPA_RbBr_aq_phase-a_pos1_13.47400keV_bpm3.355\n"
     ]
    },
    {
     "name": "stderr",
     "output_type": "stream",
     "text": [
      "WARNING:fabio.TiffIO:Data at tag id '65000' is smaller than expected\n",
      "WARNING:fabio.TiffIO:Data at tag id '65000' is smaller than expected\n"
     ]
    },
    {
     "name": "stdout",
     "output_type": "stream",
     "text": [
      "IB_DIPA_RbBr_aq_phase-a_pos1_13.47450keV_bpm3.359\n"
     ]
    },
    {
     "name": "stderr",
     "output_type": "stream",
     "text": [
      "WARNING:fabio.TiffIO:Data at tag id '65000' is smaller than expected\n",
      "WARNING:fabio.TiffIO:Data at tag id '65000' is smaller than expected\n"
     ]
    },
    {
     "name": "stdout",
     "output_type": "stream",
     "text": [
      "IB_DIPA_RbBr_aq_phase-a_pos1_13.47500keV_bpm03.35\n"
     ]
    }
   ],
   "source": [
    "flag_save = True       # save data / False for test visualisation\n",
    "cake_save = False       # save tiff with 2D cake data\n",
    "cake_save_png = False  # save png with 2D cake data\n",
    "twodim_save = False     # save tiff with 2D q map \n",
    "twodim_save_png = True # save png with 2D q map \n",
    "hor_ver_save = False    # save horizontal and vertical integration profiles\n",
    "onedim_save_png = False # save 1d profile as png figure\n",
    "horref_save_png = True # save 1d horizontal cut in reflection geometry profile as png figure\n",
    "start = time.time()\n",
    "\n",
    "# Do not showi figures while processing\n",
    "plt.ioff() if flag_save else plt.ion()\n",
    "idx = None if flag_save else 1\n",
    "\n",
    "for batch_bkg_var in [None]:#, batch_bkg]:\n",
    "    # Do not showi figures while processing\n",
    "    plt.ioff() if flag_save else plt.ion()\n",
    "\n",
    "    # For masking hot pixels got to line 52\n",
    "    \n",
    "    for sample in samples[:idx]:\n",
    "\n",
    "\n",
    "        sample_data = batch_dct[sample]\n",
    "        print(sample)\n",
    "        if flag_save:\n",
    "            dir_name = get_sname(sample)\n",
    "            save_dir = os.path.join(path_save, dir_name)\n",
    "            os.makedirs(save_dir, exist_ok=True)\n",
    "\n",
    "        for data_set in sample_data[:idx]:\n",
    "\n",
    "            for i, fnames in enumerate(data_set[:idx]):\n",
    "                fnames = fnames\n",
    "\n",
    "                # Check if processed data exists and if not, run processing\n",
    "                f = fnames[0]\n",
    "                #sname = sample + get_sname_md(f)\n",
    "                sname = get_sname(sample) + get_sname_md(f)\n",
    "\n",
    "                if flag_save:\n",
    "                    save_path = os.path.join(save_dir, f'{sname}_radialint_tot.txt')\n",
    "                    tail = os.path.split(save_path)[1]\n",
    "                    condition = tail not in os.listdir(save_dir)\n",
    "                else:\n",
    "                    condition = True\n",
    "\n",
    "                #if True: #process all\n",
    "                if condition:\n",
    "\n",
    "                    print(sname)\n",
    "\n",
    "                    if 'keV' in f:\n",
    "                            energy = float(f[f.find('keV') - 8: f.find('keV')])\n",
    "                    else:\n",
    "                        energy = f[f.find('eV_') - 7 : f.find('eV_')]\n",
    "                        energy = 0.001 * float(energy)\n",
    "                    wav = 1E-10 * 12.398 / float(energy)\n",
    "\n",
    "                    sdd = float(f[f.find('_sdd') + 4 : f.find('_sdd') + 7])\n",
    "                    sdd *= 1000\n",
    "                    if geometry == 'Reflection':\n",
    "                        ai = f[f.find('_ai') + 3 : f.find('_id')]\n",
    "                        incident_angle = np.deg2rad(float(ai))\n",
    "                        #sname = sname + f'_ai{ai}'\n",
    "                    else:\n",
    "                        incident_angle = np.deg2rad(0)\n",
    "                        \n",
    "                    if flag_save == False:\n",
    "                        print(f'Energy {energy} keV\\nsdd {sdd} mm')\n",
    "\n",
    "\n",
    "                    # Load files for background correction\n",
    "                    if batch_bkg_var:\n",
    "                        try:\n",
    "                            fnames_bkg = batch_bkg[np.around(1000 * energy, decimals=2)]\n",
    "                        except(KeyError):\n",
    "                            energies = np.asarray([float(x) for x in batch_bkg.keys()])\n",
    "                            energy_bkg = energies[np.where(energies < 1000 * energy)[0][-1]]\n",
    "                            fnames_bkg = batch_bkg[energy_bkg]\n",
    "                        flat_imgs = [fabio.open(os.path.join(path_bkg, f)).data for f in fnames_bkg]\n",
    "                        flat_img = np.nanmean(flat_imgs, axis=0)\n",
    "\n",
    "                    # Processing geometry for SMI\n",
    "                    pr = SMI_beamline.SMI_geometry(geometry = geometry,\n",
    "                                                   detector = detector,\n",
    "                                                   sdd = sdd,\n",
    "                                                   wav = wav,\n",
    "                                                   alphai = incident_angle,\n",
    "                                                   center = center,\n",
    "                                                   bs_pos = bs_pos,\n",
    "                                                   bs_kind = bs_kind)\n",
    "\n",
    "                    # Open and average SAXS data from different waxs angle shots\n",
    "                    pr.open_data(path_data, [fnames[0]])#, optional_mask='tender')\n",
    "                    for f in fnames[1:]:\n",
    "                        pr.imgs[0] += fabio.open(os.path.join(path_data, f)).data\n",
    "                    pr.imgs[0] = pr.imgs[0] / len(fnames)\n",
    "\n",
    "                    for i, (img, mask) in enumerate(zip(pr.imgs, pr.masks)):\n",
    "\n",
    "                        if batch_bkg_var:\n",
    "                            pr.imgs[0] = np.divide(pr.imgs[0], flat_img,\n",
    "                                                   out=np.zeros_like(pr.imgs[0]),\n",
    "                                                   where=(flat_img > 0),\n",
    "                                                   casting='unsafe')\n",
    "                            \n",
    "                        if bs_kind != 'rod':\n",
    "                            mask[bs_pos[0][1]:, bs_pos[0][0] - 15 : bs_pos[0][0] + 6] = True\n",
    "                            xx, yy = np.mgrid[:1043, :981]\n",
    "                            dia = 23\n",
    "                            circle = (xx - bs_pos[0][1]) ** 2 + (yy - bs_pos[0][0]) ** 2\n",
    "                            mask_circ = (circle < (dia ** 2))\n",
    "                            mask[mask_circ] = True\n",
    "                        mask[img < -1] = True\n",
    "                        mask[mask_bkg] = True  \n",
    "                        pr.masks[i] = mask\n",
    "\n",
    "                    # Stitch data\n",
    "                    pr.stitching_data(interp_factor=1)\n",
    "\n",
    "                    # Plot and save stitching data\n",
    "                    fig, ax = plt.subplots()\n",
    "                    #im = ax.imshow(pr.img_st,\n",
    "                    #               extent=[pr.qp[0], pr.qp[-1], pr.qz[0], pr.qz[-1]], \n",
    "                    #               vmin=0, vmax=np.percentile(pr.img_st, 99),\n",
    "                    #               #norm = colors.LogNorm(vmin=50,\n",
    "                    #               #                      #vmax=np.percentile(pr.img_st, 99.999),\n",
    "                    #               #                      vmax = np.nanmax(pr.img_st),\n",
    "                    #               #                      clip=True),\n",
    "                    #               cmap=cmap,\n",
    "                    #              )\n",
    "                    vmin, vmax = np.nanpercentile(pr.img_st, (50, 99.90))\n",
    "                    if (vmin < 0.01) or (np.isnan(vmin)) or (np.isinf(vmin)):\n",
    "                        vmin = 10\n",
    "                    if (vmax < 0.01) or (np.isnan(vmax)) or (np.isinf(vmax)):\n",
    "                        vmax = 100\n",
    "                    norm = colors.LogNorm(vmin=vmin, vmax=vmax, clip=True)\n",
    "                    im = ax.imshow(pr.img_st,\n",
    "                                   extent=[pr.qp[0], pr.qp[-1], pr.qz[0], pr.qz[-1]], \n",
    "                                   #vmin=0, vmax=np.percentile(pr.img_st, 99),\n",
    "                                   norm=norm, cmap=cmap)\n",
    "                    ax_divider = make_axes_locatable(ax)\n",
    "                    cax = ax_divider.append_axes('right', size='3%', pad='2%')\n",
    "                    cb = colorbar(cax, im)\n",
    "                    cax.set_ylabel('Intensity (arb. u.)', labelpad=8)\n",
    "                    ax.xaxis.set_minor_locator(MultipleLocator(0.1))\n",
    "\n",
    "                    ax.yaxis.set_minor_locator(MultipleLocator(0.1))\n",
    "                    if pr.geometry == 'Transmission':\n",
    "                        ax.set_xlabel('$q_{\\mathrm{hor}}$ $({\\mathrm{\\AA}}^{-1})$')\n",
    "                        ax.set_ylabel('$q_{\\mathrm{ver}}$ $({\\mathrm{\\AA}}^{-1})$')\n",
    "                    else:\n",
    "                        ax.set_xlabel('$q_{\\mathrm{xy}}$ $({\\mathrm{\\AA}}^{-1})$')\n",
    "                        ax.set_ylabel('$q_{\\mathrm{z}}$ $({\\mathrm{\\AA}}^{-1})$')\n",
    "                    ax.set_title('{}'.format(sname))\n",
    "\n",
    "                    if flag_save:\n",
    "                        \n",
    "                        if twodim_save_png:\n",
    "                            fname = '{}_qmap'.format(sname)\n",
    "                            save_path = os.path.join(save_dir, fname + '.png')\n",
    "                            fig.savefig(save_path, bbox_inches='tight', dpi=300)\n",
    "\n",
    "                        if twodim_save:\n",
    "                            fname = '{}_qmap_Intensity'.format(sname)\n",
    "                            save_path = os.path.join(save_dir, fname + '.tif')\n",
    "                            fabio.tifimage.TifImage(np.nan_to_num(pr.img_st,).astype('int')).write(save_path)\n",
    "\n",
    "                            fname = '{}_qmap_qhor'.format(sname)\n",
    "                            save_path = os.path.join(save_dir, fname + '.txt')\n",
    "                            qp = np.linspace(pr.qp[0], pr.qp[1], pr.img_st.shape[1])\n",
    "                            np.savetxt(save_path, qp, fmt='%1.6f', header='q_hor (A-1)')\n",
    "\n",
    "                            fname = '{}_qmap_qver'.format(sname)\n",
    "                            save_path = os.path.join(save_dir, fname + '.txt')\n",
    "                            qp = np.linspace(pr.qz[0], pr.qz[1], pr.img_st.shape[1])\n",
    "                            np.savetxt(save_path, qp, fmt='%1.6f', header='q_ver (A-1)')\n",
    "\n",
    "                    # Cake data\n",
    "                    pr.caking(radial_range = (0.001, np.sqrt(pr.qp[1] ** 2 + pr.qz[1] ** 2)))\n",
    "                    \n",
    "                    fig, ax = plt.subplots()\n",
    "                    vmin, vmax = np.nanpercentile(pr.cake, (50, 99.99))\n",
    "                    if np.isnan(vmin) or (vmin < 1):\n",
    "                        vmin = 0.1\n",
    "                    norm = colors.LogNorm(vmin=vmin, vmax=vmax, clip=True)    \n",
    "\n",
    "                    if np.isnan(vmax) or (vmax < 1):\n",
    "                        norm = None\n",
    "\n",
    "                    im = ax.imshow(pr.cake,\n",
    "                                   extent=[pr.q_cake[0], pr.q_cake[-1],\n",
    "                                           pr.chi_cake[-1], pr.chi_cake[0]], \n",
    "                                   #vmin=0, vmax=vmax,\n",
    "                                   norm=norm,\n",
    "                                   aspect='auto', origin='lower', cmap=cmap)\n",
    "\n",
    "                    sci_formatter = ScalarFormatter(useMathText=True)\n",
    "                    sci_formatter.set_scientific(True)\n",
    "                    sci_formatter.set_powerlimits((-1, 1))\n",
    "                    ax_divider = make_axes_locatable(ax)\n",
    "                    cax = ax_divider.append_axes('right', size='3%', pad='2%')\n",
    "\n",
    "                    if norm == None:\n",
    "                        mappable = im\n",
    "                    else:\n",
    "                        mappable = cm.ScalarMappable(\n",
    "                            norm=colors.LogNorm(vmin=vmin, vmax=vmax, clip=True),\n",
    "                            cmap=cmap)\n",
    "\n",
    "                    cb = colorbar(cax, mappable)\n",
    "                    #cb = colorbar(cax, im)#, format=sci_formatter)\n",
    "                    cax.set_ylabel('Intensity (arb. u.)', labelpad=8)\n",
    "                    cax.yaxis.set_offset_position('left')\n",
    "                    #ax.xaxis.set_minor_locator(MultipleLocator(0.1))\n",
    "                    ax.yaxis.set_ticks(np.arange(-180, 180, 45))\n",
    "                    #ax.yaxis.set_minor_locator(MultipleLocator(30))\n",
    "                    ax.set_xlabel('$q$ $({\\mathrm{\\AA}}^{-1})$')\n",
    "                    ax.set_ylabel('$\\chi$ (deg.)')\n",
    "                    ax.set_title('{}'.format(sname))\n",
    "                    #ax.set_xscale('log')\n",
    "\n",
    "                    if flag_save:\n",
    "                        \n",
    "                        if cake_save_png:\n",
    "                            fname = '{}_cake'.format(sname)\n",
    "                            save_path = os.path.join(save_dir, fname + '.png')\n",
    "                            fig.savefig(save_path, bbox_inches='tight', dpi=300)\n",
    "                        \n",
    "                        if cake_save:\n",
    "\n",
    "                            fname = '{}_cake_Intensity'.format(sname)\n",
    "                            save_path = os.path.join(save_dir, fname + '.tif')\n",
    "                            fabio.tifimage.TifImage(np.nan_to_num(pr.cake).astype('int')).write(save_path)\n",
    "\n",
    "                            if pr.geometry == 'Transmission':\n",
    "                                fname = '{}_cake_chi_q'.format(sname)\n",
    "                                save_path = os.path.join(save_dir, fname + '.txt')  \n",
    "                                np.savetxt(save_path, np.vstack((pr.chi_cake, pr.q_cake)).T,\n",
    "                                           fmt='%1.2f\\t%1.6f', header='chi (deg)\\tq (A-1)')\n",
    "                            else:\n",
    "                                fname = '{}_cake_chi'.format(sname)\n",
    "                                save_path = os.path.join(save_dir, fname + '.txt')  \n",
    "                                np.savetxt(save_path, pr.chi_cake.T, fmt='%1.2f', header='chi (deg)')\n",
    "\n",
    "                                fname = '{}_cake_q'.format(sname)\n",
    "                                save_path = os.path.join(save_dir, fname + '.txt')  \n",
    "                                np.savetxt(save_path, pr.q_cake.T, fmt='%1.6f', header='q (A-1)')\n",
    "\n",
    "                    # Radial average\n",
    "\n",
    "                    param_rad = dict(radial_range=[0.0005, pr.q_cake[-5]], npt=2000)\n",
    "                    if pr.geometry == 'Transmission':\n",
    "                        azimuth_ranges = dict(tot=[-179.9, 179.9],\n",
    "                                              hor=[-179.9, -170],\n",
    "                                              ver=[-95, -85])\n",
    "                    else:\n",
    "                        azimuth_ranges = dict(tot=[-90, 90],\n",
    "                                              hor=[45, 135],\n",
    "                                              ver=[-45, 45])\n",
    "                    fig, ax = plt.subplots()\n",
    "                    params = dict(ls='-', lw=1, ms=5, mfc='w', marker='o', mew=1.1, alpha=1)\n",
    "                    \n",
    "                    pr.radial_averaging(azimuth_range=azimuth_ranges['tot'], **param_rad)\n",
    "                    q_tot, I_tot = pr.q_rad, pr.I_rad\n",
    "                    ax.plot(q_tot, I_tot,\n",
    "                            label='$\\chi$: ' + '{}, tot'.format(azimuth_ranges['tot']), **params)\n",
    "                    \n",
    "                    if hor_ver_save:\n",
    "                        pr.radial_averaging(azimuth_range=azimuth_ranges['hor'], **param_rad)\n",
    "                        q_hor, I_hor = pr.q_rad, pr.I_rad\n",
    "                        pr.radial_averaging(azimuth_range=azimuth_ranges['ver'], **param_rad)\n",
    "                        q_ver, I_ver = pr.q_rad, pr.I_rad\n",
    "\n",
    "                        ax.plot(q_hor, I_hor,\n",
    "                                label='$\\chi$: ' + '{}, hor'.format(azimuth_ranges['hor']), **params)\n",
    "                        ax.plot(q_ver, I_ver,\n",
    "                                label='$\\chi$: ' + '{}, ver'.format(azimuth_ranges['ver']), **params)\n",
    "                    ax.set_xlabel('$q$ $({\\mathrm{\\AA}}^{-1})$')\n",
    "                    ax.set_ylabel('Intensity (arb. u.)')\n",
    "                    ax.set_yscale('log')\n",
    "                    ax.legend()\n",
    "                    ax.grid(which='major', linestyle='--', lw=0.5)\n",
    "                    ax.grid(which='minor', linestyle='--', lw=0.2)\n",
    "                    #ax.xaxis.set_minor_locator(MultipleLocator(0.01))\n",
    "                    #ax.xaxis.set_major_locator(MultipleLocator(0.01))\n",
    "                    ax.set_title('{}'.format(sname))\n",
    "                    ax.set_xscale('log')\n",
    "\n",
    "                    if flag_save:\n",
    "                         \n",
    "                        if onedim_save_png:\n",
    "                            fname = '{}_radialint'.format(sname)\n",
    "                            save_path = os.path.join(save_dir, fname + '.png')\n",
    "                            fig.savefig(save_path, bbox_inches='tight', dpi=300)\n",
    "\n",
    "                        fname = '{}_radialint_'.format(sname)\n",
    "                        save_path = os.path.join(save_dir, fname + 'tot.txt')  \n",
    "                        np.savetxt(save_path, np.vstack((q_tot, I_tot)).T,\n",
    "                                   fmt='%1.6f\\t%1.1f', header='q (A-1)\\tI (arb. u.)')\n",
    "                        if hor_ver_save:\n",
    "                            save_path = os.path.join(save_dir, fname + 'hor.txt')  \n",
    "                            np.savetxt(save_path, np.vstack((q_hor, I_hor)).T,\n",
    "                                       fmt='%1.6f\\t%1.1f', header='q (A-1)\\tI (arb. u.)')\n",
    "                            save_path = os.path.join(save_dir, fname + 'ver.txt')  \n",
    "                            np.savetxt(save_path, np.vstack((q_ver, I_ver)).T,\n",
    "                                       fmt='%1.6f\\t%1.1f', header='q (A-1)\\tI (arb. u.)')\n",
    "                        plt.close(fig='all')\n",
    "\n",
    "                    # Horizontal integration\n",
    "                    if pr.geometry == 'Reflection':\n",
    "\n",
    "                        pr.horizontal_integration(q_per_range=[0.05, 0.06])\n",
    "\n",
    "                        fig, ax = plt.subplots()\n",
    "                        params = dict(ls='None', lw=0.5, ms=5, mfc='w', marker='o', mew=1.1, alpha=1, c='k')\n",
    "                        #ax.plot(pr.q_hor, pr.I_hor, lw=2, c='k', label='Horizontal profile')\n",
    "                        ax.plot(pr.q_hor, pr.I_hor, label='Horizontal profile', **params)\n",
    "                        ax.set_xlabel('$q$ $({\\mathrm{\\AA}}^{-1})$')\n",
    "                        ax.set_ylabel('Intensity (arb. u.)')\n",
    "                        ax.set_yscale('log')\n",
    "                        ax.legend()\n",
    "                        ax.grid(which='major', linestyle='--', lw=0.5)\n",
    "                        #ax.xaxis.set_minor_locator(MultipleLocator(0.001))\n",
    "                        #ax.xaxis.set_major_locator(MultipleLocator(0.01))\n",
    "                        ax.set_title('{}'.format(sname))\n",
    "\n",
    "                        if flag_save:\n",
    "                            fname = '{}_horizontal_profile'.format(sname)\n",
    "                            \n",
    "                            if horref_save_png:\n",
    "                                save_path = os.path.join(save_dir, fname + '.png')\n",
    "                                fig.savefig(save_path, bbox_inches='tight', dpi=300)\n",
    "\n",
    "                            save_path = os.path.join(save_dir, fname + '.txt')  \n",
    "                            np.savetxt(save_path, np.vstack((pr.q_hor, pr.I_hor)).T,\n",
    "                                       fmt='%1.6f\\t%1.1f', header='q (A-1)\\tI (arb. u.)')\n",
    "                            plt.close(fig='all')\n",
    "stop = time.time()\n",
    "print('Processing time: {:.1f} minutes'.format((stop - start) / 60))\n",
    "print('Processing time: {:.1f} hours'.format((stop - start) / 60 / 60))"
   ]
  },
  {
   "cell_type": "markdown",
   "metadata": {},
   "source": [
    "<h3>Check file loading</h3>"
   ]
  },
  {
   "cell_type": "code",
   "execution_count": null,
   "metadata": {},
   "outputs": [],
   "source": [
    "plt.ion()\n",
    "print(save_dir)\n",
    "print(sname)"
   ]
  },
  {
   "cell_type": "code",
   "execution_count": null,
   "metadata": {},
   "outputs": [],
   "source": [
    "fname = '{}_qmap_Intensity'.format(sname)\n",
    "save_path = os.path.join(save_dir, fname + '.tif')\n",
    "img = fabio.open(save_path).data\n",
    "\n",
    "fname = '{}_qmap_qhor'.format(sname)\n",
    "save_path = os.path.join(save_dir, fname + '.txt')\n",
    "q_hor = np.loadtxt(save_path, comments='#', delimiter=None, skiprows=1)\n",
    "\n",
    "fname = '{}_qmap_qver'.format(sname)\n",
    "save_path = os.path.join(save_dir, fname + '.txt')\n",
    "q_ver = np.loadtxt(save_path, comments='#', delimiter=None, skiprows=1)\n",
    "\n",
    "vmax = np.nanpercentile(img, 97)\n",
    "fig, ax = plt.subplots()\n",
    "im = ax.imshow(np.log(img), extent=[q_hor[0], q_hor[-1], q_ver[0], q_ver[-1]])\n",
    "plt.colorbar(im, ax=ax)"
   ]
  },
  {
   "cell_type": "code",
   "execution_count": null,
   "metadata": {},
   "outputs": [],
   "source": []
  },
  {
   "cell_type": "code",
   "execution_count": null,
   "metadata": {},
   "outputs": [],
   "source": []
  },
  {
   "cell_type": "code",
   "execution_count": null,
   "metadata": {},
   "outputs": [],
   "source": []
  },
  {
   "cell_type": "code",
   "execution_count": null,
   "metadata": {},
   "outputs": [],
   "source": []
  },
  {
   "cell_type": "code",
   "execution_count": null,
   "metadata": {},
   "outputs": [],
   "source": []
  }
 ],
 "metadata": {
  "kernelspec": {
   "display_name": "Python 3 (ipykernel)",
   "language": "python",
   "name": "python3"
  },
  "language_info": {
   "codemirror_mode": {
    "name": "ipython",
    "version": 3
   },
   "file_extension": ".py",
   "mimetype": "text/x-python",
   "name": "python",
   "nbconvert_exporter": "python",
   "pygments_lexer": "ipython3",
   "version": "3.11.6"
  }
 },
 "nbformat": 4,
 "nbformat_minor": 4
}
